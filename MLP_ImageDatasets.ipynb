{
  "nbformat": 4,
  "nbformat_minor": 0,
  "metadata": {
    "colab": {
      "provenance": []
    },
    "kernelspec": {
      "name": "python3",
      "display_name": "Python 3"
    },
    "language_info": {
      "name": "python"
    },
    "accelerator": "GPU",
    "gpuClass": "standard"
  },
  "cells": [
    {
      "cell_type": "code",
      "execution_count": null,
      "metadata": {
        "id": "_jat_dfWHoiX"
      },
      "outputs": [],
      "source": [
        "import torch\n",
        "import torch.nn as nn\n",
        "import torchvision\n",
        "from torchvision import datasets\n",
        "from torchvision import transforms\n",
        "\n",
        "import numpy as np\n",
        "from tqdm import tqdm\n",
        "\n",
        "import math"
      ]
    },
    {
      "cell_type": "code",
      "source": [
        "transform = transforms.Compose([\n",
        "                    transforms.ToTensor(), \n",
        "                    # transforms.Normalize((0.5,), (0.5,)),\n",
        "            ])"
      ],
      "metadata": {
        "id": "yKIPTQDSM2UG"
      },
      "execution_count": null,
      "outputs": []
    },
    {
      "cell_type": "code",
      "source": [
        "def CreateDataLoaders(Option, p_BatchSize):\n",
        "    if Option == 1:\n",
        "        train_dataset = datasets.MNIST(\"./\", train=True, transform = transform, download=True)\n",
        "        train_subset, val_subset = torch.utils.data.random_split(train_dataset, [int(len(train_dataset) * 0.85), int(len(train_dataset) * 0.15)], generator=torch.Generator().manual_seed(1))\n",
        "        test_dataset = datasets.MNIST(\"./\", train=False, transform = transform, download=True)\n",
        "\n",
        "    elif Option == 2:\n",
        "        train_dataset = datasets.FashionMNIST(\"./\", train=True, transform = transform, download=True)\n",
        "        train_subset, val_subset = torch.utils.data.random_split(train_dataset, [int(len(train_dataset) * 0.85), int(len(train_dataset) * 0.15)], generator=torch.Generator().manual_seed(1))\n",
        "        test_dataset = datasets.FashionMNIST(\"./\", train=False, transform = transform, download=True)\n",
        "    \n",
        "    elif Option == 3:\n",
        "        train_dataset = datasets.STL10(\"./\", split=\"train\", transform = transform, download=True)\n",
        "        train_subset, val_subset = torch.utils.data.random_split(train_dataset, [int(len(train_dataset) * 0.85), int(len(train_dataset) * 0.15)], generator=torch.Generator().manual_seed(1))\n",
        "        test_dataset = datasets.STL10(\"./\", split=\"test\", transform = transform, download=True)\n",
        "    \n",
        "    elif Option == 4:\n",
        "        train_dataset = datasets.SVHN(\"./\", split=\"train\", transform = transform, download=True)\n",
        "        print(len(train_dataset))\n",
        "        # print(int(len(train_dataset) * 0.85))\n",
        "        # print(int(len(train_dataset) * 0.15))\n",
        "        train_subset, val_subset = torch.utils.data.random_split(train_dataset, [int(len(train_dataset) * 0.85), math.ceil(len(train_dataset) * 0.15)], generator=torch.Generator().manual_seed(1))\n",
        "        test_dataset = datasets.SVHN(\"./\", split=\"test\", transform = transform, download=True)\n",
        "    \n",
        "    Train_DataLoader = torch.utils.data.DataLoader(train_subset, batch_size = p_BatchSize, shuffle = True)\n",
        "    Val_DataLoader = torch.utils.data.DataLoader(val_subset, batch_size = p_BatchSize, shuffle = True)\n",
        "    Test_DataLoader = torch.utils.data.DataLoader(test_dataset, batch_size = p_BatchSize, shuffle = True)\n",
        "\n",
        "    return Train_DataLoader, Val_DataLoader, Test_DataLoader"
      ],
      "metadata": {
        "id": "RxMukfao6Ej0"
      },
      "execution_count": null,
      "outputs": []
    },
    {
      "cell_type": "code",
      "source": [
        "\"\"\n",
        "\n",
        "train_NumOfSamples = len(train_subset)\n",
        "val_NumOfSamples = len(val_subset)\n",
        "test_NumOfSamples = len(test_dataset)\n",
        "\n"
      ],
      "metadata": {
        "id": "RQzV0KawMIkL"
      },
      "execution_count": null,
      "outputs": []
    },
    {
      "cell_type": "code",
      "source": [
        "print(len(train_subset))\n",
        "print(len(val_subset))\n",
        "print(len(test_dataset))"
      ],
      "metadata": {
        "colab": {
          "base_uri": "https://localhost:8080/"
        },
        "id": "slgb0O_NPT6b",
        "outputId": "bbb05567-e2d2-4a89-b67d-88fae19db2b8"
      },
      "execution_count": null,
      "outputs": [
        {
          "output_type": "stream",
          "name": "stdout",
          "text": [
            "51000\n",
            "9000\n",
            "10000\n"
          ]
        }
      ]
    },
    {
      "cell_type": "code",
      "source": [
        "dataiter = iter(Test_DataLoader)\n",
        "images, labels = next(dataiter)\n",
        "\n",
        "print(images.shape)\n",
        "print(labels.shape)\n",
        "print(labels)"
      ],
      "metadata": {
        "colab": {
          "base_uri": "https://localhost:8080/"
        },
        "id": "esLPNciRPwhR",
        "outputId": "90137f68-3b4c-4952-90cd-1c5df02700f4"
      },
      "execution_count": null,
      "outputs": [
        {
          "output_type": "stream",
          "name": "stdout",
          "text": [
            "torch.Size([64, 1, 28, 28])\n",
            "torch.Size([64])\n",
            "tensor([8, 2, 7, 4, 2, 2, 8, 4, 6, 1, 9, 2, 4, 3, 0, 6, 3, 9, 6, 9, 6, 1, 4, 3,\n",
            "        1, 8, 7, 5, 3, 2, 3, 6, 1, 6, 6, 5, 8, 4, 2, 8, 2, 4, 8, 9, 1, 4, 3, 9,\n",
            "        3, 7, 2, 0, 1, 5, 4, 6, 3, 7, 0, 8, 3, 4, 8, 3])\n"
          ]
        }
      ]
    },
    {
      "cell_type": "code",
      "source": [
        "class MLP(nn.Module):\n",
        "    def __init__(self, InputDim, OutputDim):\n",
        "        super(MLP, self).__init__()\n",
        "        self.InputDim = InputDim\n",
        "        self.OutputDim = OutputDim\n",
        "        self.Linear1 = nn.Linear(InputDim, 800)\n",
        "        self.Linear2 = nn.Linear(800, 800)\n",
        "        self.Linear3 = nn.Linear(800, 800)\n",
        "        self.Linear4 = nn.Linear(800, self.OutputDim)\n",
        "        self.ActFunc = nn.functional.relu\n",
        "        self.batch = nn.BatchNorm1d(800)\n",
        "        # self.SftMax = nn.Softmax\n",
        "\n",
        "    def forward(self, x):\n",
        "        x = self.ActFunc(self.batch(self.Linear1(x)))\n",
        "        x = self.ActFunc(self.batch(self.Linear2(x)))\n",
        "        x = self.ActFunc(self.batch(self.Linear3(x)))\n",
        "\n",
        "        # output = self.SftMax(self.Linear4(x))\n",
        "        \n",
        "        return self.Linear4(x)\n",
        "    \n",
        "    def InitWeights(self):\n",
        "        torch.nn.init.uniform_(self.Linear1.weight,-0.5, 0.5)\n",
        "        torch.nn.init.uniform_(self.Linear2.weight,-0.5, 0.5)"
      ],
      "metadata": {
        "id": "wXmEKvh6Qn3R"
      },
      "execution_count": null,
      "outputs": []
    },
    {
      "cell_type": "code",
      "source": [
        "def TrainModel(p_model, loss_criteria, Optimizer, device,  p_TrainDL):\n",
        "    TrainCorr = 0\n",
        "    TotNumOfSamples = 0\n",
        "    ValAccuracy = float('inf')\n",
        "\n",
        "    for images, labels in tqdm(p_TrainDL):\n",
        "        Optimizer.zero_grad()\n",
        "\n",
        "        images = images.reshape(images.shape[0], -1).to(device)\n",
        "        labels = labels.to(device)\n",
        "\n",
        "        pred = model(images)\n",
        "        # print(type(pred))\n",
        "        # print(pred.shape)\n",
        "        # print(pred)\n",
        "        # pred=pred.to(torch.float)\n",
        "        # labels=labels.to(torch.float)\n",
        "        predClass = torch.max(pred.data, 1)[1]\n",
        "        # predClass = np.argmax(pred, axis=-1)\n",
        "        # predClass = pred.max(1)\n",
        "        # print(\"Pred\", predClass)\n",
        "        # print(type(labels))\n",
        "        # print(\"labels\", labels)\n",
        "\n",
        "        # predClass=predClass.to(torch.float)\n",
        "        loss = loss_criteria(pred, labels)\n",
        "        TrainCorr += (predClass==labels).sum()\n",
        "        TotNumOfSamples += len(labels)\n",
        "\n",
        "        loss.backward()\n",
        "        Optimizer.step()\n",
        "    \n",
        "    return TrainCorr/TotNumOfSamples\n",
        "\n",
        "def EvaluateModel(p_model, p_loader, device):\n",
        "    Correct = 0\n",
        "    TotalNumOfSamples = 0\n",
        "\n",
        "    for images, labels in tqdm(p_loader):\n",
        "        images = images.reshape(images.shape[0], -1).to(device)\n",
        "        labels = labels.to(device)\n",
        "\n",
        "        pred = p_model(images)\n",
        "        predClass = torch.max(pred.data, 1)[1]\n",
        "        Correct += (predClass==labels).sum()\n",
        "        TotalNumOfSamples += len(labels)\n",
        "        # loss = loss_criteria(predClass, labels)\n",
        "        # Accuracy += loss.cpu().data.item()\n",
        "\n",
        "    return Correct/TotalNumOfSamples"
      ],
      "metadata": {
        "id": "e-_sgBjNWqkw"
      },
      "execution_count": null,
      "outputs": []
    },
    {
      "cell_type": "code",
      "source": [
        "device = torch.device('cuda' if torch.cuda.is_available() else 'cpu')\n",
        "EPOCHS = 100"
      ],
      "metadata": {
        "id": "eUz_SXG6UG9k"
      },
      "execution_count": null,
      "outputs": []
    },
    {
      "cell_type": "code",
      "source": [
        "# -------------------------------------------- MNIST Dataset -----------------------------------------------------------\n",
        "Option = 1\n",
        "Train_DataLoader, Val_DataLoader, Test_DataLoader = CreateDataLoaders(Option, 64)\n",
        "ModelName = \"Model_MLP_MNIST.pt\"\n",
        "\n",
        "model = MLP(images.shape[1]*images.shape[2]*images.shape[2], 10).to(device)\n",
        "loss_criteria = nn.CrossEntropyLoss()\n",
        "AdamOpt = torch.optim.Adam(model.parameters(), lr=0.0001)\n",
        "\n",
        "ValAccuracy = 0\n",
        "saved = False\n",
        "if saved == True:\n",
        "    model = torch.load(ModelName, map_location=torch.device('cpu')).to(device)\n",
        "else:\n",
        "    model.train()\n",
        "    Train_Accuracy = 0\n",
        "\n",
        "    for e in range(EPOCHS):\n",
        "        Train_Accuracy = TrainModel(model, loss_criteria, AdamOpt, device, Train_DataLoader)\n",
        "        val_acc = EvaluateModel(model, Val_DataLoader, device)\n",
        "\n",
        "        print(\"EPOCH - \", e, \". Train Accuracy = \", Train_Accuracy.cpu().item(), \", Validation Accuracy = \", val_acc.cpu().item())\n",
        "        if val_acc.cpu().item() > ValAccuracy:\n",
        "            print(\"Model Re-Saved\")\n",
        "            ValAccuracy = val_acc.cpu().item()\n",
        "            torch.save(model, ModelName)\n",
        "\n",
        "    saved_model = torch.load(ModelName, map_location=torch.device('cpu')).to(device)\n",
        "\n",
        "print()\n",
        "Train_Accuracy = TrainModel(model, loss_criteria, AdamOpt, device, Train_DataLoader)\n",
        "Test_Accuracy = EvaluateModel(model, Test_DataLoader, device)\n",
        "print(\"Test Accuracy = \", Test_Accuracy)\n",
        "\n",
        "print(\"Generalization Gap = \", (Train_Accuracy.cpu().item() - Test_Accuracy.cpu().item()))"
      ],
      "metadata": {
        "id": "evLnSYN6GRzJ"
      },
      "execution_count": null,
      "outputs": []
    },
    {
      "cell_type": "code",
      "source": [
        "print(model)"
      ],
      "metadata": {
        "colab": {
          "base_uri": "https://localhost:8080/"
        },
        "id": "eBlvgPE9mCbM",
        "outputId": "e0fe6d41-b261-4ab7-ef3f-bc53c77c9b0c"
      },
      "execution_count": null,
      "outputs": [
        {
          "output_type": "stream",
          "name": "stdout",
          "text": [
            "MLP(\n",
            "  (Linear1): Linear(in_features=784, out_features=800, bias=True)\n",
            "  (Linear2): Linear(in_features=800, out_features=800, bias=True)\n",
            "  (Linear3): Linear(in_features=800, out_features=800, bias=True)\n",
            "  (Linear4): Linear(in_features=800, out_features=10, bias=True)\n",
            "  (batch): BatchNorm1d(800, eps=1e-05, momentum=0.1, affine=True, track_running_stats=True)\n",
            ")\n"
          ]
        }
      ]
    },
    {
      "cell_type": "code",
      "source": [],
      "metadata": {
        "colab": {
          "base_uri": "https://localhost:8080/"
        },
        "id": "wxU7QOD-V6La",
        "outputId": "0f044f57-dfc8-4c1e-d7e6-17d4bd0db86e"
      },
      "execution_count": null,
      "outputs": [
        {
          "output_type": "stream",
          "name": "stderr",
          "text": [
            "100%|██████████| 797/797 [00:08<00:00, 88.90it/s]\n",
            "100%|██████████| 141/141 [00:01<00:00, 106.78it/s]\n"
          ]
        },
        {
          "output_type": "stream",
          "name": "stdout",
          "text": [
            "EPOCH -  0 . Train Accuracy =  tensor(0.7981, device='cuda:0') , Validation Accuracy =  tensor(0.9629, device='cuda:0')\n"
          ]
        },
        {
          "output_type": "stream",
          "name": "stderr",
          "text": [
            "100%|██████████| 797/797 [00:08<00:00, 89.02it/s]\n",
            "100%|██████████| 141/141 [00:01<00:00, 109.91it/s]\n"
          ]
        },
        {
          "output_type": "stream",
          "name": "stdout",
          "text": [
            "EPOCH -  1 . Train Accuracy =  tensor(0.8321, device='cuda:0') , Validation Accuracy =  tensor(0.9697, device='cuda:0')\n"
          ]
        },
        {
          "output_type": "stream",
          "name": "stderr",
          "text": [
            "100%|██████████| 797/797 [00:09<00:00, 86.78it/s]\n",
            "100%|██████████| 141/141 [00:01<00:00, 104.62it/s]\n"
          ]
        },
        {
          "output_type": "stream",
          "name": "stdout",
          "text": [
            "EPOCH -  2 . Train Accuracy =  tensor(0.8394, device='cuda:0') , Validation Accuracy =  tensor(0.9738, device='cuda:0')\n"
          ]
        },
        {
          "output_type": "stream",
          "name": "stderr",
          "text": [
            "100%|██████████| 797/797 [00:08<00:00, 93.16it/s]\n",
            "100%|██████████| 141/141 [00:01<00:00, 83.67it/s]\n"
          ]
        },
        {
          "output_type": "stream",
          "name": "stdout",
          "text": [
            "EPOCH -  3 . Train Accuracy =  tensor(0.8431, device='cuda:0') , Validation Accuracy =  tensor(0.9736, device='cuda:0')\n"
          ]
        },
        {
          "output_type": "stream",
          "name": "stderr",
          "text": [
            "100%|██████████| 797/797 [00:08<00:00, 96.34it/s]\n",
            "100%|██████████| 141/141 [00:01<00:00, 110.18it/s]\n"
          ]
        },
        {
          "output_type": "stream",
          "name": "stdout",
          "text": [
            "EPOCH -  4 . Train Accuracy =  tensor(0.8448, device='cuda:0') , Validation Accuracy =  tensor(0.9751, device='cuda:0')\n"
          ]
        },
        {
          "output_type": "stream",
          "name": "stderr",
          "text": [
            "100%|██████████| 797/797 [00:09<00:00, 88.39it/s]\n",
            "100%|██████████| 141/141 [00:01<00:00, 104.99it/s]\n"
          ]
        },
        {
          "output_type": "stream",
          "name": "stdout",
          "text": [
            "EPOCH -  5 . Train Accuracy =  tensor(0.8457, device='cuda:0') , Validation Accuracy =  tensor(0.9767, device='cuda:0')\n"
          ]
        },
        {
          "output_type": "stream",
          "name": "stderr",
          "text": [
            "100%|██████████| 797/797 [00:09<00:00, 87.98it/s]\n",
            "100%|██████████| 141/141 [00:01<00:00, 108.99it/s]\n"
          ]
        },
        {
          "output_type": "stream",
          "name": "stdout",
          "text": [
            "EPOCH -  6 . Train Accuracy =  tensor(0.8464, device='cuda:0') , Validation Accuracy =  tensor(0.9748, device='cuda:0')\n"
          ]
        },
        {
          "output_type": "stream",
          "name": "stderr",
          "text": [
            "100%|██████████| 797/797 [00:09<00:00, 87.34it/s]\n",
            "100%|██████████| 141/141 [00:01<00:00, 110.57it/s]\n"
          ]
        },
        {
          "output_type": "stream",
          "name": "stdout",
          "text": [
            "EPOCH -  7 . Train Accuracy =  tensor(0.8464, device='cuda:0') , Validation Accuracy =  tensor(0.9728, device='cuda:0')\n"
          ]
        },
        {
          "output_type": "stream",
          "name": "stderr",
          "text": [
            "100%|██████████| 797/797 [00:09<00:00, 87.67it/s]\n",
            "100%|██████████| 141/141 [00:01<00:00, 106.64it/s]\n"
          ]
        },
        {
          "output_type": "stream",
          "name": "stdout",
          "text": [
            "EPOCH -  8 . Train Accuracy =  tensor(0.8464, device='cuda:0') , Validation Accuracy =  tensor(0.9786, device='cuda:0')\n"
          ]
        },
        {
          "output_type": "stream",
          "name": "stderr",
          "text": [
            "100%|██████████| 797/797 [00:08<00:00, 90.81it/s]\n",
            "100%|██████████| 141/141 [00:01<00:00, 97.87it/s] "
          ]
        },
        {
          "output_type": "stream",
          "name": "stdout",
          "text": [
            "EPOCH -  9 . Train Accuracy =  tensor(0.8476, device='cuda:0') , Validation Accuracy =  tensor(0.9752, device='cuda:0')\n"
          ]
        },
        {
          "output_type": "stream",
          "name": "stderr",
          "text": [
            "\n"
          ]
        }
      ]
    },
    {
      "cell_type": "code",
      "source": [],
      "metadata": {
        "colab": {
          "base_uri": "https://localhost:8080/"
        },
        "id": "PMlJe9BojI9T",
        "outputId": "73b82a57-84c0-4928-c797-badcc967b756"
      },
      "execution_count": null,
      "outputs": [
        {
          "output_type": "stream",
          "name": "stderr",
          "text": [
            "100%|██████████| 157/157 [00:01<00:00, 105.70it/s]"
          ]
        },
        {
          "output_type": "stream",
          "name": "stdout",
          "text": [
            "Test Accuracy =  tensor(0.7978, device='cuda:0')\n"
          ]
        },
        {
          "output_type": "stream",
          "name": "stderr",
          "text": [
            "\n"
          ]
        }
      ]
    },
    {
      "cell_type": "code",
      "source": [
        "# -------------------------------------------- FMNIST Dataset -----------------------------------------------------------\n",
        "Option = 2\n",
        "Train_DataLoader, Val_DataLoader, Test_DataLoader = CreateDataLoaders(Option, 64)\n",
        "ModelName = \"Model_MLP_FMNIST.pt\"\n",
        "\n",
        "model = MLP(784, 10).to(device)\n",
        "loss_criteria = nn.CrossEntropyLoss()\n",
        "AdamOpt = torch.optim.Adam(model.parameters(), lr=0.0001)\n",
        "\n",
        "ValAccuracy = 0\n",
        "\n",
        "saved = False\n",
        "if saved == True:\n",
        "    model = torch.load(ModelName, map_location=torch.device('cpu')).to(device)\n",
        "else:\n",
        "    model.train()\n",
        "    Train_Accuracy = 0\n",
        "\n",
        "    for e in range(EPOCHS):\n",
        "        Train_Accuracy = TrainModel(model, loss_criteria, AdamOpt, device, Train_DataLoader)\n",
        "        val_acc = EvaluateModel(model, Val_DataLoader, device)\n",
        "\n",
        "        print(\"EPOCH - \", e+1, \". Train Accuracy = \", Train_Accuracy.cpu().item(), \", Validation Accuracy = \", val_acc.cpu().item())\n",
        "        \n",
        "        if val_acc.cpu().item() > ValAccuracy:\n",
        "            print(\"Model Re-Saved\")\n",
        "            ValAccuracy = val_acc.cpu().item()\n",
        "            torch.save(model, ModelName)\n",
        "\n",
        "\n",
        "    saved_model = torch.load(ModelName, map_location=torch.device('cpu')).to(device)\n",
        "\n",
        "print()\n",
        "Train_Accuracy = EvaluateModel(saved_model, Train_DataLoader, device)\n",
        "print(\"Train Accuracy = \", Train_Accuracy.cpu().item())\n",
        "Test_Accuracy = EvaluateModel(saved_model, Test_DataLoader, device)\n",
        "print(\"Test Accuracy = \", Test_Accuracy.cpu().item())\n",
        "\n",
        "print(\"Generalization Gap = \", (Train_Accuracy.cpu().item() - Test_Accuracy.cpu().item()))"
      ],
      "metadata": {
        "colab": {
          "base_uri": "https://localhost:8080/"
        },
        "id": "aYuHoeHgjvfB",
        "outputId": "53ed502c-0363-4ec5-f256-50458f303c35"
      },
      "execution_count": null,
      "outputs": [
        {
          "output_type": "stream",
          "name": "stderr",
          "text": [
            "100%|██████████| 797/797 [00:11<00:00, 72.07it/s] \n",
            "100%|██████████| 141/141 [00:01<00:00, 114.44it/s]\n"
          ]
        },
        {
          "output_type": "stream",
          "name": "stdout",
          "text": [
            "EPOCH -  1 . Train Accuracy =  0.8465686440467834 , Validation Accuracy =  0.8668888807296753\n",
            "Model Re-Saved\n"
          ]
        },
        {
          "output_type": "stream",
          "name": "stderr",
          "text": [
            "100%|██████████| 797/797 [00:09<00:00, 86.55it/s]\n",
            "100%|██████████| 141/141 [00:01<00:00, 109.60it/s]\n"
          ]
        },
        {
          "output_type": "stream",
          "name": "stdout",
          "text": [
            "EPOCH -  2 . Train Accuracy =  0.8898627758026123 , Validation Accuracy =  0.8792222142219543\n",
            "Model Re-Saved\n"
          ]
        },
        {
          "output_type": "stream",
          "name": "stderr",
          "text": [
            "100%|██████████| 797/797 [00:08<00:00, 88.67it/s]\n",
            "100%|██████████| 141/141 [00:01<00:00, 111.22it/s]\n"
          ]
        },
        {
          "output_type": "stream",
          "name": "stdout",
          "text": [
            "EPOCH -  3 . Train Accuracy =  0.9051764607429504 , Validation Accuracy =  0.8846666812896729\n",
            "Model Re-Saved\n"
          ]
        },
        {
          "output_type": "stream",
          "name": "stderr",
          "text": [
            "100%|██████████| 797/797 [00:08<00:00, 88.71it/s]\n",
            "100%|██████████| 141/141 [00:01<00:00, 112.75it/s]\n"
          ]
        },
        {
          "output_type": "stream",
          "name": "stdout",
          "text": [
            "EPOCH -  4 . Train Accuracy =  0.9181568622589111 , Validation Accuracy =  0.8881111145019531\n",
            "Model Re-Saved\n"
          ]
        },
        {
          "output_type": "stream",
          "name": "stderr",
          "text": [
            "100%|██████████| 797/797 [00:08<00:00, 90.67it/s]\n",
            "100%|██████████| 141/141 [00:01<00:00, 108.22it/s]\n"
          ]
        },
        {
          "output_type": "stream",
          "name": "stdout",
          "text": [
            "EPOCH -  5 . Train Accuracy =  0.9287647008895874 , Validation Accuracy =  0.8861111402511597\n"
          ]
        },
        {
          "output_type": "stream",
          "name": "stderr",
          "text": [
            "100%|██████████| 797/797 [00:08<00:00, 96.85it/s]\n",
            "100%|██████████| 141/141 [00:01<00:00, 80.07it/s]\n"
          ]
        },
        {
          "output_type": "stream",
          "name": "stdout",
          "text": [
            "EPOCH -  6 . Train Accuracy =  0.9367058873176575 , Validation Accuracy =  0.8851110935211182\n"
          ]
        },
        {
          "output_type": "stream",
          "name": "stderr",
          "text": [
            "100%|██████████| 797/797 [00:08<00:00, 93.77it/s]\n",
            "100%|██████████| 141/141 [00:01<00:00, 113.35it/s]\n"
          ]
        },
        {
          "output_type": "stream",
          "name": "stdout",
          "text": [
            "EPOCH -  7 . Train Accuracy =  0.9448823928833008 , Validation Accuracy =  0.8892222046852112\n",
            "Model Re-Saved\n"
          ]
        },
        {
          "output_type": "stream",
          "name": "stderr",
          "text": [
            "100%|██████████| 797/797 [00:08<00:00, 90.30it/s]\n",
            "100%|██████████| 141/141 [00:01<00:00, 112.75it/s]\n"
          ]
        },
        {
          "output_type": "stream",
          "name": "stdout",
          "text": [
            "EPOCH -  8 . Train Accuracy =  0.9507254958152771 , Validation Accuracy =  0.8905555605888367\n",
            "Model Re-Saved\n"
          ]
        },
        {
          "output_type": "stream",
          "name": "stderr",
          "text": [
            "100%|██████████| 797/797 [00:09<00:00, 87.78it/s]\n",
            "100%|██████████| 141/141 [00:01<00:00, 111.75it/s]\n"
          ]
        },
        {
          "output_type": "stream",
          "name": "stdout",
          "text": [
            "EPOCH -  9 . Train Accuracy =  0.9570000171661377 , Validation Accuracy =  0.8916666507720947\n",
            "Model Re-Saved\n"
          ]
        },
        {
          "output_type": "stream",
          "name": "stderr",
          "text": [
            "100%|██████████| 797/797 [00:08<00:00, 88.89it/s]\n",
            "100%|██████████| 141/141 [00:01<00:00, 110.24it/s]\n"
          ]
        },
        {
          "output_type": "stream",
          "name": "stdout",
          "text": [
            "EPOCH -  10 . Train Accuracy =  0.9618823528289795 , Validation Accuracy =  0.8868889212608337\n"
          ]
        },
        {
          "output_type": "stream",
          "name": "stderr",
          "text": [
            "100%|██████████| 797/797 [00:08<00:00, 90.03it/s]\n",
            "100%|██████████| 141/141 [00:01<00:00, 107.60it/s]\n"
          ]
        },
        {
          "output_type": "stream",
          "name": "stdout",
          "text": [
            "EPOCH -  11 . Train Accuracy =  0.9655686616897583 , Validation Accuracy =  0.8899999856948853\n"
          ]
        },
        {
          "output_type": "stream",
          "name": "stderr",
          "text": [
            "100%|██████████| 797/797 [00:08<00:00, 95.19it/s]\n",
            "100%|██████████| 141/141 [00:01<00:00, 83.57it/s]\n"
          ]
        },
        {
          "output_type": "stream",
          "name": "stdout",
          "text": [
            "EPOCH -  12 . Train Accuracy =  0.9694902300834656 , Validation Accuracy =  0.8897777795791626\n"
          ]
        },
        {
          "output_type": "stream",
          "name": "stderr",
          "text": [
            "100%|██████████| 797/797 [00:08<00:00, 94.50it/s]\n",
            "100%|██████████| 141/141 [00:01<00:00, 109.17it/s]\n"
          ]
        },
        {
          "output_type": "stream",
          "name": "stdout",
          "text": [
            "EPOCH -  13 . Train Accuracy =  0.9720784425735474 , Validation Accuracy =  0.8910000324249268\n"
          ]
        },
        {
          "output_type": "stream",
          "name": "stderr",
          "text": [
            "100%|██████████| 797/797 [00:08<00:00, 88.77it/s]\n",
            "100%|██████████| 141/141 [00:01<00:00, 111.29it/s]\n"
          ]
        },
        {
          "output_type": "stream",
          "name": "stdout",
          "text": [
            "EPOCH -  14 . Train Accuracy =  0.9761961102485657 , Validation Accuracy =  0.8907777667045593\n"
          ]
        },
        {
          "output_type": "stream",
          "name": "stderr",
          "text": [
            "100%|██████████| 797/797 [00:08<00:00, 89.44it/s]\n",
            "100%|██████████| 141/141 [00:01<00:00, 110.66it/s]\n"
          ]
        },
        {
          "output_type": "stream",
          "name": "stdout",
          "text": [
            "EPOCH -  15 . Train Accuracy =  0.976254940032959 , Validation Accuracy =  0.8911111354827881\n"
          ]
        },
        {
          "output_type": "stream",
          "name": "stderr",
          "text": [
            "100%|██████████| 797/797 [00:08<00:00, 89.75it/s]\n",
            "100%|██████████| 141/141 [00:01<00:00, 111.26it/s]\n"
          ]
        },
        {
          "output_type": "stream",
          "name": "stdout",
          "text": [
            "EPOCH -  16 . Train Accuracy =  0.979411780834198 , Validation Accuracy =  0.8912222385406494\n"
          ]
        },
        {
          "output_type": "stream",
          "name": "stderr",
          "text": [
            "100%|██████████| 797/797 [00:09<00:00, 87.35it/s]\n",
            "100%|██████████| 141/141 [00:02<00:00, 70.26it/s]\n"
          ]
        },
        {
          "output_type": "stream",
          "name": "stdout",
          "text": [
            "EPOCH -  17 . Train Accuracy =  0.9804313778877258 , Validation Accuracy =  0.8930000066757202\n",
            "Model Re-Saved\n"
          ]
        },
        {
          "output_type": "stream",
          "name": "stderr",
          "text": [
            "100%|██████████| 797/797 [00:08<00:00, 96.51it/s]\n",
            "100%|██████████| 141/141 [00:01<00:00, 101.36it/s]\n"
          ]
        },
        {
          "output_type": "stream",
          "name": "stdout",
          "text": [
            "EPOCH -  18 . Train Accuracy =  0.9818823933601379 , Validation Accuracy =  0.8883333206176758\n"
          ]
        },
        {
          "output_type": "stream",
          "name": "stderr",
          "text": [
            "100%|██████████| 797/797 [00:08<00:00, 89.99it/s]\n",
            "100%|██████████| 141/141 [00:01<00:00, 109.75it/s]\n"
          ]
        },
        {
          "output_type": "stream",
          "name": "stdout",
          "text": [
            "EPOCH -  19 . Train Accuracy =  0.9814705848693848 , Validation Accuracy =  0.8920000195503235\n"
          ]
        },
        {
          "output_type": "stream",
          "name": "stderr",
          "text": [
            "100%|██████████| 797/797 [00:09<00:00, 84.02it/s]\n",
            "100%|██████████| 141/141 [00:01<00:00, 112.14it/s]\n"
          ]
        },
        {
          "output_type": "stream",
          "name": "stdout",
          "text": [
            "EPOCH -  20 . Train Accuracy =  0.9844117760658264 , Validation Accuracy =  0.8941110968589783\n",
            "Model Re-Saved\n"
          ]
        },
        {
          "output_type": "stream",
          "name": "stderr",
          "text": [
            "100%|██████████| 797/797 [00:09<00:00, 87.87it/s]\n",
            "100%|██████████| 141/141 [00:01<00:00, 109.90it/s]\n"
          ]
        },
        {
          "output_type": "stream",
          "name": "stdout",
          "text": [
            "EPOCH -  21 . Train Accuracy =  0.9850588440895081 , Validation Accuracy =  0.8958889245986938\n",
            "Model Re-Saved\n"
          ]
        },
        {
          "output_type": "stream",
          "name": "stderr",
          "text": [
            "100%|██████████| 797/797 [00:09<00:00, 88.21it/s]\n",
            "100%|██████████| 141/141 [00:01<00:00, 109.26it/s]\n"
          ]
        },
        {
          "output_type": "stream",
          "name": "stdout",
          "text": [
            "EPOCH -  22 . Train Accuracy =  0.9842941164970398 , Validation Accuracy =  0.8895555734634399\n"
          ]
        },
        {
          "output_type": "stream",
          "name": "stderr",
          "text": [
            "100%|██████████| 797/797 [00:08<00:00, 89.87it/s]\n",
            "100%|██████████| 141/141 [00:01<00:00, 99.85it/s] \n"
          ]
        },
        {
          "output_type": "stream",
          "name": "stdout",
          "text": [
            "EPOCH -  23 . Train Accuracy =  0.9853333830833435 , Validation Accuracy =  0.8925555944442749\n"
          ]
        },
        {
          "output_type": "stream",
          "name": "stderr",
          "text": [
            "100%|██████████| 797/797 [00:08<00:00, 95.47it/s]\n",
            "100%|██████████| 141/141 [00:01<00:00, 90.35it/s]\n"
          ]
        },
        {
          "output_type": "stream",
          "name": "stdout",
          "text": [
            "EPOCH -  24 . Train Accuracy =  0.9882549047470093 , Validation Accuracy =  0.8953333497047424\n"
          ]
        },
        {
          "output_type": "stream",
          "name": "stderr",
          "text": [
            "100%|██████████| 797/797 [00:08<00:00, 91.52it/s]\n",
            "100%|██████████| 141/141 [00:01<00:00, 111.78it/s]\n"
          ]
        },
        {
          "output_type": "stream",
          "name": "stdout",
          "text": [
            "EPOCH -  25 . Train Accuracy =  0.9878235459327698 , Validation Accuracy =  0.8949999809265137\n"
          ]
        },
        {
          "output_type": "stream",
          "name": "stderr",
          "text": [
            "100%|██████████| 797/797 [00:08<00:00, 88.62it/s]\n",
            "100%|██████████| 141/141 [00:01<00:00, 101.46it/s]\n"
          ]
        },
        {
          "output_type": "stream",
          "name": "stdout",
          "text": [
            "EPOCH -  26 . Train Accuracy =  0.9865294098854065 , Validation Accuracy =  0.894444465637207\n"
          ]
        },
        {
          "output_type": "stream",
          "name": "stderr",
          "text": [
            "100%|██████████| 797/797 [00:09<00:00, 88.04it/s]\n",
            "100%|██████████| 141/141 [00:01<00:00, 109.03it/s]\n"
          ]
        },
        {
          "output_type": "stream",
          "name": "stdout",
          "text": [
            "EPOCH -  27 . Train Accuracy =  0.9881176948547363 , Validation Accuracy =  0.8916666507720947\n"
          ]
        },
        {
          "output_type": "stream",
          "name": "stderr",
          "text": [
            "100%|██████████| 797/797 [00:09<00:00, 87.20it/s]\n",
            "100%|██████████| 141/141 [00:01<00:00, 109.34it/s]\n"
          ]
        },
        {
          "output_type": "stream",
          "name": "stdout",
          "text": [
            "EPOCH -  28 . Train Accuracy =  0.9880000352859497 , Validation Accuracy =  0.8976666927337646\n",
            "Model Re-Saved\n"
          ]
        },
        {
          "output_type": "stream",
          "name": "stderr",
          "text": [
            "100%|██████████| 797/797 [00:08<00:00, 90.10it/s]\n",
            "100%|██████████| 141/141 [00:01<00:00, 102.32it/s]\n"
          ]
        },
        {
          "output_type": "stream",
          "name": "stdout",
          "text": [
            "EPOCH -  29 . Train Accuracy =  0.9892745018005371 , Validation Accuracy =  0.8896666765213013\n"
          ]
        },
        {
          "output_type": "stream",
          "name": "stderr",
          "text": [
            "100%|██████████| 797/797 [00:08<00:00, 96.40it/s]\n",
            "100%|██████████| 141/141 [00:01<00:00, 87.79it/s]\n"
          ]
        },
        {
          "output_type": "stream",
          "name": "stdout",
          "text": [
            "EPOCH -  30 . Train Accuracy =  0.9913725852966309 , Validation Accuracy =  0.8893333673477173\n"
          ]
        },
        {
          "output_type": "stream",
          "name": "stderr",
          "text": [
            "100%|██████████| 797/797 [00:08<00:00, 92.73it/s]\n",
            "100%|██████████| 141/141 [00:01<00:00, 112.09it/s]\n"
          ]
        },
        {
          "output_type": "stream",
          "name": "stdout",
          "text": [
            "EPOCH -  31 . Train Accuracy =  0.988196074962616 , Validation Accuracy =  0.8856666684150696\n"
          ]
        },
        {
          "output_type": "stream",
          "name": "stderr",
          "text": [
            "100%|██████████| 797/797 [00:08<00:00, 88.66it/s]\n",
            "100%|██████████| 141/141 [00:01<00:00, 106.34it/s]\n"
          ]
        },
        {
          "output_type": "stream",
          "name": "stdout",
          "text": [
            "EPOCH -  32 . Train Accuracy =  0.9916470646858215 , Validation Accuracy =  0.8967778086662292\n"
          ]
        },
        {
          "output_type": "stream",
          "name": "stderr",
          "text": [
            "100%|██████████| 797/797 [00:09<00:00, 88.49it/s]\n",
            "100%|██████████| 141/141 [00:01<00:00, 109.97it/s]\n"
          ]
        },
        {
          "output_type": "stream",
          "name": "stdout",
          "text": [
            "EPOCH -  33 . Train Accuracy =  0.9917647242546082 , Validation Accuracy =  0.8960000276565552\n"
          ]
        },
        {
          "output_type": "stream",
          "name": "stderr",
          "text": [
            "100%|██████████| 797/797 [00:08<00:00, 89.78it/s]\n",
            "100%|██████████| 141/141 [00:01<00:00, 109.99it/s]\n"
          ]
        },
        {
          "output_type": "stream",
          "name": "stdout",
          "text": [
            "EPOCH -  34 . Train Accuracy =  0.990352988243103 , Validation Accuracy =  0.8861111402511597\n"
          ]
        },
        {
          "output_type": "stream",
          "name": "stderr",
          "text": [
            "100%|██████████| 797/797 [00:08<00:00, 92.12it/s]\n",
            "100%|██████████| 141/141 [00:01<00:00, 94.35it/s] \n"
          ]
        },
        {
          "output_type": "stream",
          "name": "stdout",
          "text": [
            "EPOCH -  35 . Train Accuracy =  0.990882396697998 , Validation Accuracy =  0.8938888907432556\n"
          ]
        },
        {
          "output_type": "stream",
          "name": "stderr",
          "text": [
            "100%|██████████| 797/797 [00:08<00:00, 96.00it/s]\n",
            "100%|██████████| 141/141 [00:01<00:00, 91.59it/s]\n"
          ]
        },
        {
          "output_type": "stream",
          "name": "stdout",
          "text": [
            "EPOCH -  36 . Train Accuracy =  0.9914510250091553 , Validation Accuracy =  0.8934444785118103\n"
          ]
        },
        {
          "output_type": "stream",
          "name": "stderr",
          "text": [
            "100%|██████████| 797/797 [00:08<00:00, 92.31it/s]\n",
            "100%|██████████| 141/141 [00:01<00:00, 111.47it/s]\n"
          ]
        },
        {
          "output_type": "stream",
          "name": "stdout",
          "text": [
            "EPOCH -  37 . Train Accuracy =  0.9928823709487915 , Validation Accuracy =  0.8976666927337646\n"
          ]
        },
        {
          "output_type": "stream",
          "name": "stderr",
          "text": [
            "100%|██████████| 797/797 [00:08<00:00, 89.29it/s]\n",
            "100%|██████████| 141/141 [00:01<00:00, 110.06it/s]\n"
          ]
        },
        {
          "output_type": "stream",
          "name": "stdout",
          "text": [
            "EPOCH -  38 . Train Accuracy =  0.9922745227813721 , Validation Accuracy =  0.8935555815696716\n"
          ]
        },
        {
          "output_type": "stream",
          "name": "stderr",
          "text": [
            "100%|██████████| 797/797 [00:09<00:00, 83.82it/s]\n",
            "100%|██████████| 141/141 [00:01<00:00, 98.28it/s] \n"
          ]
        },
        {
          "output_type": "stream",
          "name": "stdout",
          "text": [
            "EPOCH -  39 . Train Accuracy =  0.9921764731407166 , Validation Accuracy =  0.890666663646698\n"
          ]
        },
        {
          "output_type": "stream",
          "name": "stderr",
          "text": [
            "100%|██████████| 797/797 [00:08<00:00, 89.06it/s]\n",
            "100%|██████████| 141/141 [00:01<00:00, 110.15it/s]\n"
          ]
        },
        {
          "output_type": "stream",
          "name": "stdout",
          "text": [
            "EPOCH -  40 . Train Accuracy =  0.992980420589447 , Validation Accuracy =  0.893666684627533\n"
          ]
        },
        {
          "output_type": "stream",
          "name": "stderr",
          "text": [
            "100%|██████████| 797/797 [00:08<00:00, 88.94it/s]\n",
            "100%|██████████| 141/141 [00:01<00:00, 109.90it/s]\n"
          ]
        },
        {
          "output_type": "stream",
          "name": "stdout",
          "text": [
            "EPOCH -  41 . Train Accuracy =  0.993313729763031 , Validation Accuracy =  0.8905555605888367\n"
          ]
        },
        {
          "output_type": "stream",
          "name": "stderr",
          "text": [
            "100%|██████████| 797/797 [00:08<00:00, 96.08it/s]\n",
            "100%|██████████| 141/141 [00:01<00:00, 80.84it/s]\n"
          ]
        },
        {
          "output_type": "stream",
          "name": "stdout",
          "text": [
            "EPOCH -  42 . Train Accuracy =  0.9928823709487915 , Validation Accuracy =  0.8964444398880005\n"
          ]
        },
        {
          "output_type": "stream",
          "name": "stderr",
          "text": [
            "100%|██████████| 797/797 [00:08<00:00, 94.07it/s]\n",
            "100%|██████████| 141/141 [00:01<00:00, 109.03it/s]\n"
          ]
        },
        {
          "output_type": "stream",
          "name": "stdout",
          "text": [
            "EPOCH -  43 . Train Accuracy =  0.9942745566368103 , Validation Accuracy =  0.8974444270133972\n"
          ]
        },
        {
          "output_type": "stream",
          "name": "stderr",
          "text": [
            "100%|██████████| 797/797 [00:08<00:00, 89.12it/s]\n",
            "100%|██████████| 141/141 [00:01<00:00, 105.52it/s]\n"
          ]
        },
        {
          "output_type": "stream",
          "name": "stdout",
          "text": [
            "EPOCH -  44 . Train Accuracy =  0.993313729763031 , Validation Accuracy =  0.8954444527626038\n"
          ]
        },
        {
          "output_type": "stream",
          "name": "stderr",
          "text": [
            "100%|██████████| 797/797 [00:09<00:00, 88.11it/s]\n",
            "100%|██████████| 141/141 [00:01<00:00, 108.28it/s]\n"
          ]
        },
        {
          "output_type": "stream",
          "name": "stdout",
          "text": [
            "EPOCH -  45 . Train Accuracy =  0.9920392632484436 , Validation Accuracy =  0.8983333706855774\n",
            "Model Re-Saved\n"
          ]
        },
        {
          "output_type": "stream",
          "name": "stderr",
          "text": [
            "100%|██████████| 797/797 [00:09<00:00, 88.35it/s]\n",
            "100%|██████████| 141/141 [00:01<00:00, 109.55it/s]\n"
          ]
        },
        {
          "output_type": "stream",
          "name": "stdout",
          "text": [
            "EPOCH -  46 . Train Accuracy =  0.9948039650917053 , Validation Accuracy =  0.8952222466468811\n"
          ]
        },
        {
          "output_type": "stream",
          "name": "stderr",
          "text": [
            "100%|██████████| 797/797 [00:09<00:00, 88.39it/s]\n",
            "100%|██████████| 141/141 [00:01<00:00, 110.58it/s]\n"
          ]
        },
        {
          "output_type": "stream",
          "name": "stdout",
          "text": [
            "EPOCH -  47 . Train Accuracy =  0.9934509992599487 , Validation Accuracy =  0.8902222514152527\n"
          ]
        },
        {
          "output_type": "stream",
          "name": "stderr",
          "text": [
            "100%|██████████| 797/797 [00:08<00:00, 94.55it/s]\n",
            "100%|██████████| 141/141 [00:01<00:00, 78.49it/s]\n"
          ]
        },
        {
          "output_type": "stream",
          "name": "stdout",
          "text": [
            "EPOCH -  48 . Train Accuracy =  0.9944117665290833 , Validation Accuracy =  0.8976666927337646\n"
          ]
        },
        {
          "output_type": "stream",
          "name": "stderr",
          "text": [
            "100%|██████████| 797/797 [00:08<00:00, 95.02it/s]\n",
            "100%|██████████| 141/141 [00:01<00:00, 110.80it/s]\n"
          ]
        },
        {
          "output_type": "stream",
          "name": "stdout",
          "text": [
            "EPOCH -  49 . Train Accuracy =  0.994215726852417 , Validation Accuracy =  0.8925555944442749\n"
          ]
        },
        {
          "output_type": "stream",
          "name": "stderr",
          "text": [
            "100%|██████████| 797/797 [00:09<00:00, 87.67it/s]\n",
            "100%|██████████| 141/141 [00:01<00:00, 110.21it/s]\n"
          ]
        },
        {
          "output_type": "stream",
          "name": "stdout",
          "text": [
            "EPOCH -  50 . Train Accuracy =  0.9933333396911621 , Validation Accuracy =  0.8907777667045593\n"
          ]
        },
        {
          "output_type": "stream",
          "name": "stderr",
          "text": [
            "100%|██████████| 797/797 [00:09<00:00, 88.52it/s]\n",
            "100%|██████████| 141/141 [00:01<00:00, 110.11it/s]\n"
          ]
        },
        {
          "output_type": "stream",
          "name": "stdout",
          "text": [
            "EPOCH -  51 . Train Accuracy =  0.9939019680023193 , Validation Accuracy =  0.8949999809265137\n"
          ]
        },
        {
          "output_type": "stream",
          "name": "stderr",
          "text": [
            "100%|██████████| 797/797 [00:09<00:00, 84.27it/s]\n",
            "100%|██████████| 141/141 [00:01<00:00, 108.25it/s]\n"
          ]
        },
        {
          "output_type": "stream",
          "name": "stdout",
          "text": [
            "EPOCH -  52 . Train Accuracy =  0.9956470727920532 , Validation Accuracy =  0.8935555815696716\n"
          ]
        },
        {
          "output_type": "stream",
          "name": "stderr",
          "text": [
            "100%|██████████| 797/797 [00:09<00:00, 85.82it/s]\n",
            "100%|██████████| 141/141 [00:01<00:00, 113.10it/s]\n"
          ]
        },
        {
          "output_type": "stream",
          "name": "stdout",
          "text": [
            "EPOCH -  53 . Train Accuracy =  0.9939411878585815 , Validation Accuracy =  0.8874444365501404\n"
          ]
        },
        {
          "output_type": "stream",
          "name": "stderr",
          "text": [
            "100%|██████████| 797/797 [00:08<00:00, 92.04it/s]\n",
            "100%|██████████| 141/141 [00:01<00:00, 84.77it/s] \n"
          ]
        },
        {
          "output_type": "stream",
          "name": "stdout",
          "text": [
            "EPOCH -  54 . Train Accuracy =  0.9948235750198364 , Validation Accuracy =  0.8898888826370239\n"
          ]
        },
        {
          "output_type": "stream",
          "name": "stderr",
          "text": [
            "100%|██████████| 797/797 [00:08<00:00, 96.44it/s]\n",
            "100%|██████████| 141/141 [00:01<00:00, 110.58it/s]\n"
          ]
        },
        {
          "output_type": "stream",
          "name": "stdout",
          "text": [
            "EPOCH -  55 . Train Accuracy =  0.9949215650558472 , Validation Accuracy =  0.8952222466468811\n"
          ]
        },
        {
          "output_type": "stream",
          "name": "stderr",
          "text": [
            "100%|██████████| 797/797 [00:09<00:00, 88.30it/s]\n",
            "100%|██████████| 141/141 [00:01<00:00, 108.71it/s]\n"
          ]
        },
        {
          "output_type": "stream",
          "name": "stdout",
          "text": [
            "EPOCH -  56 . Train Accuracy =  0.9951568841934204 , Validation Accuracy =  0.8968889117240906\n"
          ]
        },
        {
          "output_type": "stream",
          "name": "stderr",
          "text": [
            "100%|██████████| 797/797 [00:09<00:00, 88.09it/s]\n",
            "100%|██████████| 141/141 [00:01<00:00, 110.35it/s]\n"
          ]
        },
        {
          "output_type": "stream",
          "name": "stdout",
          "text": [
            "EPOCH -  57 . Train Accuracy =  0.9942941665649414 , Validation Accuracy =  0.8951111435890198\n"
          ]
        },
        {
          "output_type": "stream",
          "name": "stderr",
          "text": [
            "100%|██████████| 797/797 [00:09<00:00, 87.24it/s]\n",
            "100%|██████████| 141/141 [00:01<00:00, 111.54it/s]\n"
          ]
        },
        {
          "output_type": "stream",
          "name": "stdout",
          "text": [
            "EPOCH -  58 . Train Accuracy =  0.9952353239059448 , Validation Accuracy =  0.8926666975021362\n"
          ]
        },
        {
          "output_type": "stream",
          "name": "stderr",
          "text": [
            "100%|██████████| 797/797 [00:09<00:00, 86.28it/s]\n",
            "100%|██████████| 141/141 [00:01<00:00, 108.54it/s]\n"
          ]
        },
        {
          "output_type": "stream",
          "name": "stdout",
          "text": [
            "EPOCH -  59 . Train Accuracy =  0.9953725934028625 , Validation Accuracy =  0.8978888988494873\n"
          ]
        },
        {
          "output_type": "stream",
          "name": "stderr",
          "text": [
            "100%|██████████| 797/797 [00:08<00:00, 91.52it/s]\n",
            "100%|██████████| 141/141 [00:01<00:00, 93.38it/s] \n"
          ]
        },
        {
          "output_type": "stream",
          "name": "stdout",
          "text": [
            "EPOCH -  60 . Train Accuracy =  0.9935686588287354 , Validation Accuracy =  0.89811110496521\n"
          ]
        },
        {
          "output_type": "stream",
          "name": "stderr",
          "text": [
            "100%|██████████| 797/797 [00:09<00:00, 88.29it/s]\n",
            "100%|██████████| 141/141 [00:01<00:00, 82.14it/s]\n"
          ]
        },
        {
          "output_type": "stream",
          "name": "stdout",
          "text": [
            "EPOCH -  61 . Train Accuracy =  0.9963529706001282 , Validation Accuracy =  0.8933333158493042\n"
          ]
        },
        {
          "output_type": "stream",
          "name": "stderr",
          "text": [
            "100%|██████████| 797/797 [00:08<00:00, 93.44it/s]\n",
            "100%|██████████| 141/141 [00:01<00:00, 108.41it/s]\n"
          ]
        },
        {
          "output_type": "stream",
          "name": "stdout",
          "text": [
            "EPOCH -  62 . Train Accuracy =  0.9960000514984131 , Validation Accuracy =  0.8939999938011169\n"
          ]
        },
        {
          "output_type": "stream",
          "name": "stderr",
          "text": [
            "100%|██████████| 797/797 [00:09<00:00, 88.51it/s]\n",
            "100%|██████████| 141/141 [00:01<00:00, 108.86it/s]\n"
          ]
        },
        {
          "output_type": "stream",
          "name": "stdout",
          "text": [
            "EPOCH -  63 . Train Accuracy =  0.9942941665649414 , Validation Accuracy =  0.8911111354827881\n"
          ]
        },
        {
          "output_type": "stream",
          "name": "stderr",
          "text": [
            "100%|██████████| 797/797 [00:08<00:00, 89.04it/s]\n",
            "100%|██████████| 141/141 [00:01<00:00, 111.01it/s]\n"
          ]
        },
        {
          "output_type": "stream",
          "name": "stdout",
          "text": [
            "EPOCH -  64 . Train Accuracy =  0.9954901933670044 , Validation Accuracy =  0.8913333415985107\n"
          ]
        },
        {
          "output_type": "stream",
          "name": "stderr",
          "text": [
            "100%|██████████| 797/797 [00:09<00:00, 86.83it/s]\n",
            "100%|██████████| 141/141 [00:01<00:00, 107.68it/s]\n"
          ]
        },
        {
          "output_type": "stream",
          "name": "stdout",
          "text": [
            "EPOCH -  65 . Train Accuracy =  0.996509850025177 , Validation Accuracy =  0.8930000066757202\n"
          ]
        },
        {
          "output_type": "stream",
          "name": "stderr",
          "text": [
            "100%|██████████| 797/797 [00:09<00:00, 88.24it/s]\n",
            "100%|██████████| 141/141 [00:01<00:00, 107.99it/s]\n"
          ]
        },
        {
          "output_type": "stream",
          "name": "stdout",
          "text": [
            "EPOCH -  66 . Train Accuracy =  0.9949607849121094 , Validation Accuracy =  0.890666663646698\n"
          ]
        },
        {
          "output_type": "stream",
          "name": "stderr",
          "text": [
            "100%|██████████| 797/797 [00:08<00:00, 93.23it/s]\n",
            "100%|██████████| 141/141 [00:01<00:00, 77.09it/s]\n"
          ]
        },
        {
          "output_type": "stream",
          "name": "stdout",
          "text": [
            "EPOCH -  67 . Train Accuracy =  0.9958627820014954 , Validation Accuracy =  0.8891111016273499\n"
          ]
        },
        {
          "output_type": "stream",
          "name": "stderr",
          "text": [
            "100%|██████████| 797/797 [00:08<00:00, 94.28it/s]\n",
            "100%|██████████| 141/141 [00:01<00:00, 107.09it/s]\n"
          ]
        },
        {
          "output_type": "stream",
          "name": "stdout",
          "text": [
            "EPOCH -  68 . Train Accuracy =  0.9962549209594727 , Validation Accuracy =  0.8987777829170227\n",
            "Model Re-Saved\n"
          ]
        },
        {
          "output_type": "stream",
          "name": "stderr",
          "text": [
            "100%|██████████| 797/797 [00:09<00:00, 88.09it/s]\n",
            "100%|██████████| 141/141 [00:01<00:00, 113.38it/s]\n"
          ]
        },
        {
          "output_type": "stream",
          "name": "stdout",
          "text": [
            "EPOCH -  69 . Train Accuracy =  0.9961960911750793 , Validation Accuracy =  0.8920000195503235\n"
          ]
        },
        {
          "output_type": "stream",
          "name": "stderr",
          "text": [
            "100%|██████████| 797/797 [00:08<00:00, 88.84it/s]\n",
            "100%|██████████| 141/141 [00:01<00:00, 108.32it/s]\n"
          ]
        },
        {
          "output_type": "stream",
          "name": "stdout",
          "text": [
            "EPOCH -  70 . Train Accuracy =  0.9957255125045776 , Validation Accuracy =  0.8958889245986938\n"
          ]
        },
        {
          "output_type": "stream",
          "name": "stderr",
          "text": [
            "100%|██████████| 797/797 [00:09<00:00, 87.61it/s]\n",
            "100%|██████████| 141/141 [00:01<00:00, 110.12it/s]\n"
          ]
        },
        {
          "output_type": "stream",
          "name": "stdout",
          "text": [
            "EPOCH -  71 . Train Accuracy =  0.9963725805282593 , Validation Accuracy =  0.8935555815696716\n"
          ]
        },
        {
          "output_type": "stream",
          "name": "stderr",
          "text": [
            "100%|██████████| 797/797 [00:09<00:00, 87.64it/s]\n",
            "100%|██████████| 141/141 [00:01<00:00, 110.25it/s]\n"
          ]
        },
        {
          "output_type": "stream",
          "name": "stdout",
          "text": [
            "EPOCH -  72 . Train Accuracy =  0.9963725805282593 , Validation Accuracy =  0.8854444622993469\n"
          ]
        },
        {
          "output_type": "stream",
          "name": "stderr",
          "text": [
            "100%|██████████| 797/797 [00:08<00:00, 93.76it/s]\n",
            "100%|██████████| 141/141 [00:01<00:00, 78.89it/s]\n"
          ]
        },
        {
          "output_type": "stream",
          "name": "stdout",
          "text": [
            "EPOCH -  73 . Train Accuracy =  0.9958235621452332 , Validation Accuracy =  0.8910000324249268\n"
          ]
        },
        {
          "output_type": "stream",
          "name": "stderr",
          "text": [
            "100%|██████████| 797/797 [00:08<00:00, 94.95it/s]\n",
            "100%|██████████| 141/141 [00:01<00:00, 109.14it/s]\n"
          ]
        },
        {
          "output_type": "stream",
          "name": "stdout",
          "text": [
            "EPOCH -  74 . Train Accuracy =  0.9957451224327087 , Validation Accuracy =  0.8910000324249268\n"
          ]
        },
        {
          "output_type": "stream",
          "name": "stderr",
          "text": [
            "100%|██████████| 797/797 [00:09<00:00, 87.64it/s]\n",
            "100%|██████████| 141/141 [00:01<00:00, 107.16it/s]\n"
          ]
        },
        {
          "output_type": "stream",
          "name": "stdout",
          "text": [
            "EPOCH -  75 . Train Accuracy =  0.9977254867553711 , Validation Accuracy =  0.8934444785118103\n"
          ]
        },
        {
          "output_type": "stream",
          "name": "stderr",
          "text": [
            "100%|██████████| 797/797 [00:09<00:00, 87.56it/s]\n",
            "100%|██████████| 141/141 [00:01<00:00, 111.61it/s]\n"
          ]
        },
        {
          "output_type": "stream",
          "name": "stdout",
          "text": [
            "EPOCH -  76 . Train Accuracy =  0.9947647452354431 , Validation Accuracy =  0.8899999856948853\n"
          ]
        },
        {
          "output_type": "stream",
          "name": "stderr",
          "text": [
            "100%|██████████| 797/797 [00:08<00:00, 88.81it/s]\n",
            "100%|██████████| 141/141 [00:01<00:00, 111.35it/s]\n"
          ]
        },
        {
          "output_type": "stream",
          "name": "stdout",
          "text": [
            "EPOCH -  77 . Train Accuracy =  0.9958235621452332 , Validation Accuracy =  0.8952222466468811\n"
          ]
        },
        {
          "output_type": "stream",
          "name": "stderr",
          "text": [
            "100%|██████████| 797/797 [00:09<00:00, 87.06it/s]\n",
            "100%|██████████| 141/141 [00:01<00:00, 109.85it/s]\n"
          ]
        },
        {
          "output_type": "stream",
          "name": "stdout",
          "text": [
            "EPOCH -  78 . Train Accuracy =  0.9977254867553711 , Validation Accuracy =  0.8968889117240906\n"
          ]
        },
        {
          "output_type": "stream",
          "name": "stderr",
          "text": [
            "100%|██████████| 797/797 [00:08<00:00, 91.08it/s]\n",
            "100%|██████████| 141/141 [00:01<00:00, 87.72it/s]\n"
          ]
        },
        {
          "output_type": "stream",
          "name": "stdout",
          "text": [
            "EPOCH -  79 . Train Accuracy =  0.9959412217140198 , Validation Accuracy =  0.8954444527626038\n"
          ]
        },
        {
          "output_type": "stream",
          "name": "stderr",
          "text": [
            "100%|██████████| 797/797 [00:08<00:00, 95.91it/s]\n",
            "100%|██████████| 141/141 [00:01<00:00, 104.63it/s]\n"
          ]
        },
        {
          "output_type": "stream",
          "name": "stdout",
          "text": [
            "EPOCH -  80 . Train Accuracy =  0.9967254996299744 , Validation Accuracy =  0.8939999938011169\n"
          ]
        },
        {
          "output_type": "stream",
          "name": "stderr",
          "text": [
            "100%|██████████| 797/797 [00:08<00:00, 89.97it/s]\n",
            "100%|██████████| 141/141 [00:01<00:00, 110.50it/s]\n"
          ]
        },
        {
          "output_type": "stream",
          "name": "stdout",
          "text": [
            "EPOCH -  81 . Train Accuracy =  0.9960196018218994 , Validation Accuracy =  0.8926666975021362\n"
          ]
        },
        {
          "output_type": "stream",
          "name": "stderr",
          "text": [
            "100%|██████████| 797/797 [00:08<00:00, 88.91it/s]\n",
            "100%|██████████| 141/141 [00:01<00:00, 110.36it/s]\n"
          ]
        },
        {
          "output_type": "stream",
          "name": "stdout",
          "text": [
            "EPOCH -  82 . Train Accuracy =  0.9976471066474915 , Validation Accuracy =  0.8927778005599976\n"
          ]
        },
        {
          "output_type": "stream",
          "name": "stderr",
          "text": [
            "100%|██████████| 797/797 [00:09<00:00, 80.67it/s]\n",
            "100%|██████████| 141/141 [00:01<00:00, 108.60it/s]\n"
          ]
        },
        {
          "output_type": "stream",
          "name": "stdout",
          "text": [
            "EPOCH -  83 . Train Accuracy =  0.9945882558822632 , Validation Accuracy =  0.8973333239555359\n"
          ]
        },
        {
          "output_type": "stream",
          "name": "stderr",
          "text": [
            "100%|██████████| 797/797 [00:08<00:00, 89.29it/s]\n",
            "100%|██████████| 141/141 [00:01<00:00, 101.02it/s]\n"
          ]
        },
        {
          "output_type": "stream",
          "name": "stdout",
          "text": [
            "EPOCH -  84 . Train Accuracy =  0.9969019889831543 , Validation Accuracy =  0.8984444737434387\n"
          ]
        },
        {
          "output_type": "stream",
          "name": "stderr",
          "text": [
            "100%|██████████| 797/797 [00:08<00:00, 92.67it/s]\n",
            "100%|██████████| 141/141 [00:01<00:00, 89.04it/s] \n"
          ]
        },
        {
          "output_type": "stream",
          "name": "stdout",
          "text": [
            "EPOCH -  85 . Train Accuracy =  0.9970196485519409 , Validation Accuracy =  0.8976666927337646\n"
          ]
        },
        {
          "output_type": "stream",
          "name": "stderr",
          "text": [
            "100%|██████████| 797/797 [00:08<00:00, 96.03it/s]\n",
            "100%|██████████| 141/141 [00:01<00:00, 101.55it/s]\n"
          ]
        },
        {
          "output_type": "stream",
          "name": "stdout",
          "text": [
            "EPOCH -  86 . Train Accuracy =  0.9975098371505737 , Validation Accuracy =  0.8975555896759033\n"
          ]
        },
        {
          "output_type": "stream",
          "name": "stderr",
          "text": [
            "100%|██████████| 797/797 [00:08<00:00, 90.41it/s]\n",
            "100%|██████████| 141/141 [00:01<00:00, 109.74it/s]\n"
          ]
        },
        {
          "output_type": "stream",
          "name": "stdout",
          "text": [
            "EPOCH -  87 . Train Accuracy =  0.9950588345527649 , Validation Accuracy =  0.8938888907432556\n"
          ]
        },
        {
          "output_type": "stream",
          "name": "stderr",
          "text": [
            "100%|██████████| 797/797 [00:08<00:00, 89.39it/s]\n",
            "100%|██████████| 141/141 [00:01<00:00, 110.80it/s]\n"
          ]
        },
        {
          "output_type": "stream",
          "name": "stdout",
          "text": [
            "EPOCH -  88 . Train Accuracy =  0.9973529577255249 , Validation Accuracy =  0.8951111435890198\n"
          ]
        },
        {
          "output_type": "stream",
          "name": "stderr",
          "text": [
            "100%|██████████| 797/797 [00:09<00:00, 87.07it/s]\n",
            "100%|██████████| 141/141 [00:01<00:00, 108.42it/s]\n"
          ]
        },
        {
          "output_type": "stream",
          "name": "stdout",
          "text": [
            "EPOCH -  89 . Train Accuracy =  0.9970000386238098 , Validation Accuracy =  0.8935555815696716\n"
          ]
        },
        {
          "output_type": "stream",
          "name": "stderr",
          "text": [
            "100%|██████████| 797/797 [00:08<00:00, 88.75it/s]\n",
            "100%|██████████| 141/141 [00:01<00:00, 110.98it/s]\n"
          ]
        },
        {
          "output_type": "stream",
          "name": "stdout",
          "text": [
            "EPOCH -  90 . Train Accuracy =  0.996313750743866 , Validation Accuracy =  0.8980000019073486\n"
          ]
        },
        {
          "output_type": "stream",
          "name": "stderr",
          "text": [
            "100%|██████████| 797/797 [00:08<00:00, 89.54it/s]\n",
            "100%|██████████| 141/141 [00:01<00:00, 92.86it/s] \n"
          ]
        },
        {
          "output_type": "stream",
          "name": "stdout",
          "text": [
            "EPOCH -  91 . Train Accuracy =  0.9983921647071838 , Validation Accuracy =  0.8971111178398132\n"
          ]
        },
        {
          "output_type": "stream",
          "name": "stderr",
          "text": [
            "100%|██████████| 797/797 [00:08<00:00, 96.15it/s]\n",
            "100%|██████████| 141/141 [00:01<00:00, 97.58it/s]\n"
          ]
        },
        {
          "output_type": "stream",
          "name": "stdout",
          "text": [
            "EPOCH -  92 . Train Accuracy =  0.9960392117500305 , Validation Accuracy =  0.8996666669845581\n",
            "Model Re-Saved\n"
          ]
        },
        {
          "output_type": "stream",
          "name": "stderr",
          "text": [
            "100%|██████████| 797/797 [00:08<00:00, 90.75it/s]\n",
            "100%|██████████| 141/141 [00:01<00:00, 111.86it/s]\n"
          ]
        },
        {
          "output_type": "stream",
          "name": "stdout",
          "text": [
            "EPOCH -  93 . Train Accuracy =  0.9965882301330566 , Validation Accuracy =  0.8946666717529297\n"
          ]
        },
        {
          "output_type": "stream",
          "name": "stderr",
          "text": [
            "100%|██████████| 797/797 [00:08<00:00, 89.29it/s]\n",
            "100%|██████████| 141/141 [00:01<00:00, 109.74it/s]\n"
          ]
        },
        {
          "output_type": "stream",
          "name": "stdout",
          "text": [
            "EPOCH -  94 . Train Accuracy =  0.9981569051742554 , Validation Accuracy =  0.9023333191871643\n",
            "Model Re-Saved\n"
          ]
        },
        {
          "output_type": "stream",
          "name": "stderr",
          "text": [
            "100%|██████████| 797/797 [00:08<00:00, 89.06it/s] \n",
            "100%|██████████| 141/141 [00:01<00:00, 111.99it/s]\n"
          ]
        },
        {
          "output_type": "stream",
          "name": "stdout",
          "text": [
            "EPOCH -  95 . Train Accuracy =  0.997176468372345 , Validation Accuracy =  0.8968889117240906\n"
          ]
        },
        {
          "output_type": "stream",
          "name": "stderr",
          "text": [
            "100%|██████████| 797/797 [00:08<00:00, 89.37it/s]\n",
            "100%|██████████| 141/141 [00:01<00:00, 110.44it/s]\n"
          ]
        },
        {
          "output_type": "stream",
          "name": "stdout",
          "text": [
            "EPOCH -  96 . Train Accuracy =  0.9972549080848694 , Validation Accuracy =  0.8983333706855774\n"
          ]
        },
        {
          "output_type": "stream",
          "name": "stderr",
          "text": [
            "100%|██████████| 797/797 [00:08<00:00, 90.88it/s]\n",
            "100%|██████████| 141/141 [00:01<00:00, 90.75it/s] \n"
          ]
        },
        {
          "output_type": "stream",
          "name": "stdout",
          "text": [
            "EPOCH -  97 . Train Accuracy =  0.9973137378692627 , Validation Accuracy =  0.8980000019073486\n"
          ]
        },
        {
          "output_type": "stream",
          "name": "stderr",
          "text": [
            "100%|██████████| 797/797 [00:08<00:00, 95.59it/s]\n",
            "100%|██████████| 141/141 [00:01<00:00, 105.18it/s]\n"
          ]
        },
        {
          "output_type": "stream",
          "name": "stdout",
          "text": [
            "EPOCH -  98 . Train Accuracy =  0.9965882301330566 , Validation Accuracy =  0.8970000147819519\n"
          ]
        },
        {
          "output_type": "stream",
          "name": "stderr",
          "text": [
            "100%|██████████| 797/797 [00:08<00:00, 89.70it/s]\n",
            "100%|██████████| 141/141 [00:01<00:00, 111.22it/s]\n"
          ]
        },
        {
          "output_type": "stream",
          "name": "stdout",
          "text": [
            "EPOCH -  99 . Train Accuracy =  0.9966862797737122 , Validation Accuracy =  0.8930000066757202\n"
          ]
        },
        {
          "output_type": "stream",
          "name": "stderr",
          "text": [
            "100%|██████████| 797/797 [00:08<00:00, 89.80it/s]\n",
            "100%|██████████| 141/141 [00:01<00:00, 112.45it/s]\n"
          ]
        },
        {
          "output_type": "stream",
          "name": "stdout",
          "text": [
            "EPOCH -  100 . Train Accuracy =  0.9976862668991089 , Validation Accuracy =  0.9024444818496704\n",
            "Model Re-Saved\n",
            "\n"
          ]
        },
        {
          "output_type": "stream",
          "name": "stderr",
          "text": [
            "100%|██████████| 797/797 [00:07<00:00, 100.35it/s]\n"
          ]
        },
        {
          "output_type": "stream",
          "name": "stdout",
          "text": [
            "Train Accuracy =  0.9984509944915771\n"
          ]
        },
        {
          "output_type": "stream",
          "name": "stderr",
          "text": [
            "100%|██████████| 157/157 [00:01<00:00, 110.44it/s]"
          ]
        },
        {
          "output_type": "stream",
          "name": "stdout",
          "text": [
            "Test Accuracy =  0.8967999815940857\n",
            "Generalization Gap =  0.10165101289749146\n"
          ]
        },
        {
          "output_type": "stream",
          "name": "stderr",
          "text": [
            "\n"
          ]
        }
      ]
    },
    {
      "cell_type": "code",
      "source": [
        "# -------------------------------------------- STL 10 Dataset -----------------------------------------------------------\n",
        "Option = 3\n",
        "Train_DataLoader, Val_DataLoader, Test_DataLoader = CreateDataLoaders(Option, 64)\n",
        "ModelName = \"Model_MLP_STL10.pt\"\n",
        "\n",
        "model = MLP(27648, 10).to(device)\n",
        "loss_criteria = nn.CrossEntropyLoss()\n",
        "AdamOpt = torch.optim.Adam(model.parameters(), lr=0.0001)\n",
        "\n",
        "ValAccuracy = 0\n",
        "\n",
        "saved = False\n",
        "if saved == True:\n",
        "    model = torch.load(ModelName, map_location=torch.device('cpu')).to(device)\n",
        "else:\n",
        "    model.train()\n",
        "    Train_Accuracy = 0\n",
        "\n",
        "    for e in range(EPOCHS):\n",
        "        Train_Accuracy = TrainModel(model, loss_criteria, AdamOpt, device, Train_DataLoader)\n",
        "        val_acc = EvaluateModel(model, Val_DataLoader, device)\n",
        "\n",
        "        print(\"EPOCH - \", e+1, \". Train Accuracy = \", Train_Accuracy.cpu().item(), \", Validation Accuracy = \", val_acc.cpu().item())\n",
        "        \n",
        "        if val_acc.cpu().item() > ValAccuracy:\n",
        "            print(\"Model Re-Saved\")\n",
        "            ValAccuracy = val_acc.cpu().item()\n",
        "            torch.save(model, ModelName)\n",
        "\n",
        "\n",
        "    saved_model = torch.load(ModelName, map_location=torch.device('cpu')).to(device)\n",
        "\n",
        "print()\n",
        "Train_Accuracy = EvaluateModel(saved_model, Train_DataLoader, device)\n",
        "print(\"Train Accuracy = \", Train_Accuracy.cpu().item())\n",
        "Test_Accuracy = EvaluateModel(saved_model, Test_DataLoader, device)\n",
        "print(\"Test Accuracy = \", Test_Accuracy.cpu().item())\n",
        "\n",
        "print(\"Generalization Gap = \", (Train_Accuracy.cpu().item() - Test_Accuracy.cpu().item()))"
      ],
      "metadata": {
        "colab": {
          "base_uri": "https://localhost:8080/"
        },
        "id": "-tWwRkwo0YAM",
        "outputId": "f9cc1100-5dd8-4fb4-8815-862aa22610e6"
      },
      "execution_count": null,
      "outputs": [
        {
          "output_type": "stream",
          "name": "stdout",
          "text": [
            "Files already downloaded and verified\n",
            "Files already downloaded and verified\n"
          ]
        },
        {
          "output_type": "stream",
          "name": "stderr",
          "text": [
            "100%|██████████| 67/67 [00:02<00:00, 32.65it/s]\n",
            "100%|██████████| 12/12 [00:00<00:00, 37.45it/s]\n"
          ]
        },
        {
          "output_type": "stream",
          "name": "stdout",
          "text": [
            "EPOCH -  1 . Train Accuracy =  0.33858823776245117 , Validation Accuracy =  0.3933333158493042\n",
            "Model Re-Saved\n"
          ]
        },
        {
          "output_type": "stream",
          "name": "stderr",
          "text": [
            "100%|██████████| 67/67 [00:01<00:00, 33.83it/s]\n",
            "100%|██████████| 12/12 [00:00<00:00, 36.08it/s]\n"
          ]
        },
        {
          "output_type": "stream",
          "name": "stdout",
          "text": [
            "EPOCH -  2 . Train Accuracy =  0.4941176474094391 , Validation Accuracy =  0.41600000858306885\n",
            "Model Re-Saved\n"
          ]
        },
        {
          "output_type": "stream",
          "name": "stderr",
          "text": [
            "100%|██████████| 67/67 [00:02<00:00, 33.44it/s]\n",
            "100%|██████████| 12/12 [00:00<00:00, 36.03it/s]\n"
          ]
        },
        {
          "output_type": "stream",
          "name": "stdout",
          "text": [
            "EPOCH -  3 . Train Accuracy =  0.6058823466300964 , Validation Accuracy =  0.41200000047683716\n"
          ]
        },
        {
          "output_type": "stream",
          "name": "stderr",
          "text": [
            "100%|██████████| 67/67 [00:02<00:00, 29.03it/s]\n",
            "100%|██████████| 12/12 [00:00<00:00, 24.44it/s]\n"
          ]
        },
        {
          "output_type": "stream",
          "name": "stdout",
          "text": [
            "EPOCH -  4 . Train Accuracy =  0.7263529300689697 , Validation Accuracy =  0.41200000047683716\n"
          ]
        },
        {
          "output_type": "stream",
          "name": "stderr",
          "text": [
            "100%|██████████| 67/67 [00:02<00:00, 31.34it/s]\n",
            "100%|██████████| 12/12 [00:00<00:00, 36.34it/s]\n"
          ]
        },
        {
          "output_type": "stream",
          "name": "stdout",
          "text": [
            "EPOCH -  5 . Train Accuracy =  0.8322353363037109 , Validation Accuracy =  0.3959999978542328\n"
          ]
        },
        {
          "output_type": "stream",
          "name": "stderr",
          "text": [
            "100%|██████████| 67/67 [00:01<00:00, 34.42it/s]\n",
            "100%|██████████| 12/12 [00:00<00:00, 33.67it/s]\n"
          ]
        },
        {
          "output_type": "stream",
          "name": "stdout",
          "text": [
            "EPOCH -  6 . Train Accuracy =  0.8997647166252136 , Validation Accuracy =  0.40799999237060547\n"
          ]
        },
        {
          "output_type": "stream",
          "name": "stderr",
          "text": [
            "100%|██████████| 67/67 [00:01<00:00, 34.12it/s]\n",
            "100%|██████████| 12/12 [00:00<00:00, 38.86it/s]\n"
          ]
        },
        {
          "output_type": "stream",
          "name": "stdout",
          "text": [
            "EPOCH -  7 . Train Accuracy =  0.9491764903068542 , Validation Accuracy =  0.4039999842643738\n"
          ]
        },
        {
          "output_type": "stream",
          "name": "stderr",
          "text": [
            "100%|██████████| 67/67 [00:01<00:00, 34.40it/s]\n",
            "100%|██████████| 12/12 [00:00<00:00, 37.23it/s]\n"
          ]
        },
        {
          "output_type": "stream",
          "name": "stdout",
          "text": [
            "EPOCH -  8 . Train Accuracy =  0.9675294160842896 , Validation Accuracy =  0.40799999237060547\n"
          ]
        },
        {
          "output_type": "stream",
          "name": "stderr",
          "text": [
            "100%|██████████| 67/67 [00:02<00:00, 29.06it/s]\n",
            "100%|██████████| 12/12 [00:00<00:00, 24.26it/s]\n"
          ]
        },
        {
          "output_type": "stream",
          "name": "stdout",
          "text": [
            "EPOCH -  9 . Train Accuracy =  0.9672941565513611 , Validation Accuracy =  0.40666666626930237\n"
          ]
        },
        {
          "output_type": "stream",
          "name": "stderr",
          "text": [
            "100%|██████████| 67/67 [00:02<00:00, 30.85it/s]\n",
            "100%|██████████| 12/12 [00:00<00:00, 37.03it/s]\n"
          ]
        },
        {
          "output_type": "stream",
          "name": "stdout",
          "text": [
            "EPOCH -  10 . Train Accuracy =  0.9882352948188782 , Validation Accuracy =  0.41200000047683716\n"
          ]
        },
        {
          "output_type": "stream",
          "name": "stderr",
          "text": [
            "100%|██████████| 67/67 [00:01<00:00, 34.58it/s]\n",
            "100%|██████████| 12/12 [00:00<00:00, 35.40it/s]\n"
          ]
        },
        {
          "output_type": "stream",
          "name": "stdout",
          "text": [
            "EPOCH -  11 . Train Accuracy =  0.9849411845207214 , Validation Accuracy =  0.41333332657814026\n"
          ]
        },
        {
          "output_type": "stream",
          "name": "stderr",
          "text": [
            "100%|██████████| 67/67 [00:01<00:00, 34.34it/s]\n",
            "100%|██████████| 12/12 [00:00<00:00, 38.02it/s]\n"
          ]
        },
        {
          "output_type": "stream",
          "name": "stdout",
          "text": [
            "EPOCH -  12 . Train Accuracy =  0.986823558807373 , Validation Accuracy =  0.41733333468437195\n",
            "Model Re-Saved\n"
          ]
        },
        {
          "output_type": "stream",
          "name": "stderr",
          "text": [
            "100%|██████████| 67/67 [00:01<00:00, 34.37it/s]\n",
            "100%|██████████| 12/12 [00:00<00:00, 35.79it/s]\n"
          ]
        },
        {
          "output_type": "stream",
          "name": "stdout",
          "text": [
            "EPOCH -  13 . Train Accuracy =  0.9917647242546082 , Validation Accuracy =  0.41066667437553406\n"
          ]
        },
        {
          "output_type": "stream",
          "name": "stderr",
          "text": [
            "100%|██████████| 67/67 [00:02<00:00, 28.62it/s]\n",
            "100%|██████████| 12/12 [00:00<00:00, 26.09it/s]\n"
          ]
        },
        {
          "output_type": "stream",
          "name": "stdout",
          "text": [
            "EPOCH -  14 . Train Accuracy =  0.990352988243103 , Validation Accuracy =  0.4026666581630707\n"
          ]
        },
        {
          "output_type": "stream",
          "name": "stderr",
          "text": [
            "100%|██████████| 67/67 [00:02<00:00, 32.23it/s]\n",
            "100%|██████████| 12/12 [00:00<00:00, 36.13it/s]\n"
          ]
        },
        {
          "output_type": "stream",
          "name": "stdout",
          "text": [
            "EPOCH -  15 . Train Accuracy =  0.9884706139564514 , Validation Accuracy =  0.41600000858306885\n"
          ]
        },
        {
          "output_type": "stream",
          "name": "stderr",
          "text": [
            "100%|██████████| 67/67 [00:01<00:00, 34.73it/s]\n",
            "100%|██████████| 12/12 [00:00<00:00, 36.82it/s]\n"
          ]
        },
        {
          "output_type": "stream",
          "name": "stdout",
          "text": [
            "EPOCH -  16 . Train Accuracy =  0.9929412007331848 , Validation Accuracy =  0.4039999842643738\n"
          ]
        },
        {
          "output_type": "stream",
          "name": "stderr",
          "text": [
            "100%|██████████| 67/67 [00:01<00:00, 34.41it/s]\n",
            "100%|██████████| 12/12 [00:00<00:00, 36.34it/s]\n"
          ]
        },
        {
          "output_type": "stream",
          "name": "stdout",
          "text": [
            "EPOCH -  17 . Train Accuracy =  0.9865882396697998 , Validation Accuracy =  0.3959999978542328\n"
          ]
        },
        {
          "output_type": "stream",
          "name": "stderr",
          "text": [
            "100%|██████████| 67/67 [00:01<00:00, 33.56it/s]\n",
            "100%|██████████| 12/12 [00:00<00:00, 36.68it/s]\n"
          ]
        },
        {
          "output_type": "stream",
          "name": "stdout",
          "text": [
            "EPOCH -  18 . Train Accuracy =  0.9920000433921814 , Validation Accuracy =  0.3840000033378601\n"
          ]
        },
        {
          "output_type": "stream",
          "name": "stderr",
          "text": [
            "100%|██████████| 67/67 [00:02<00:00, 28.76it/s]\n",
            "100%|██████████| 12/12 [00:00<00:00, 24.75it/s]\n"
          ]
        },
        {
          "output_type": "stream",
          "name": "stdout",
          "text": [
            "EPOCH -  19 . Train Accuracy =  0.9967058897018433 , Validation Accuracy =  0.41333332657814026\n"
          ]
        },
        {
          "output_type": "stream",
          "name": "stderr",
          "text": [
            "100%|██████████| 67/67 [00:02<00:00, 31.18it/s]\n",
            "100%|██████████| 12/12 [00:00<00:00, 36.16it/s]\n"
          ]
        },
        {
          "output_type": "stream",
          "name": "stdout",
          "text": [
            "EPOCH -  20 . Train Accuracy =  0.9901176691055298 , Validation Accuracy =  0.3973333239555359\n"
          ]
        },
        {
          "output_type": "stream",
          "name": "stderr",
          "text": [
            "100%|██████████| 67/67 [00:01<00:00, 34.42it/s]\n",
            "100%|██████████| 12/12 [00:00<00:00, 35.98it/s]\n"
          ]
        },
        {
          "output_type": "stream",
          "name": "stdout",
          "text": [
            "EPOCH -  21 . Train Accuracy =  0.9894117712974548 , Validation Accuracy =  0.398666650056839\n"
          ]
        },
        {
          "output_type": "stream",
          "name": "stderr",
          "text": [
            "100%|██████████| 67/67 [00:01<00:00, 34.45it/s]\n",
            "100%|██████████| 12/12 [00:00<00:00, 36.49it/s]\n"
          ]
        },
        {
          "output_type": "stream",
          "name": "stdout",
          "text": [
            "EPOCH -  22 . Train Accuracy =  0.9910588264465332 , Validation Accuracy =  0.3879999816417694\n"
          ]
        },
        {
          "output_type": "stream",
          "name": "stderr",
          "text": [
            "100%|██████████| 67/67 [00:01<00:00, 34.34it/s]\n",
            "100%|██████████| 12/12 [00:00<00:00, 37.73it/s]\n"
          ]
        },
        {
          "output_type": "stream",
          "name": "stdout",
          "text": [
            "EPOCH -  23 . Train Accuracy =  0.9981176853179932 , Validation Accuracy =  0.41866666078567505\n",
            "Model Re-Saved\n"
          ]
        },
        {
          "output_type": "stream",
          "name": "stderr",
          "text": [
            "100%|██████████| 67/67 [00:02<00:00, 27.55it/s]\n",
            "100%|██████████| 12/12 [00:00<00:00, 24.45it/s]\n"
          ]
        },
        {
          "output_type": "stream",
          "name": "stdout",
          "text": [
            "EPOCH -  24 . Train Accuracy =  0.9981176853179932 , Validation Accuracy =  0.42533332109451294\n",
            "Model Re-Saved\n"
          ]
        },
        {
          "output_type": "stream",
          "name": "stderr",
          "text": [
            "100%|██████████| 67/67 [00:01<00:00, 33.68it/s]\n",
            "100%|██████████| 12/12 [00:00<00:00, 36.32it/s]\n"
          ]
        },
        {
          "output_type": "stream",
          "name": "stdout",
          "text": [
            "EPOCH -  25 . Train Accuracy =  0.9997647404670715 , Validation Accuracy =  0.42266666889190674\n"
          ]
        },
        {
          "output_type": "stream",
          "name": "stderr",
          "text": [
            "100%|██████████| 67/67 [00:01<00:00, 34.03it/s]\n",
            "100%|██████████| 12/12 [00:00<00:00, 36.90it/s]\n"
          ]
        },
        {
          "output_type": "stream",
          "name": "stdout",
          "text": [
            "EPOCH -  26 . Train Accuracy =  1.0 , Validation Accuracy =  0.4333333373069763\n",
            "Model Re-Saved\n"
          ]
        },
        {
          "output_type": "stream",
          "name": "stderr",
          "text": [
            "100%|██████████| 67/67 [00:01<00:00, 34.61it/s]\n",
            "100%|██████████| 12/12 [00:00<00:00, 35.34it/s]\n"
          ]
        },
        {
          "output_type": "stream",
          "name": "stdout",
          "text": [
            "EPOCH -  27 . Train Accuracy =  1.0 , Validation Accuracy =  0.4346666634082794\n",
            "Model Re-Saved\n"
          ]
        },
        {
          "output_type": "stream",
          "name": "stderr",
          "text": [
            "100%|██████████| 67/67 [00:01<00:00, 34.96it/s]\n",
            "100%|██████████| 12/12 [00:00<00:00, 36.62it/s]\n"
          ]
        },
        {
          "output_type": "stream",
          "name": "stdout",
          "text": [
            "EPOCH -  28 . Train Accuracy =  1.0 , Validation Accuracy =  0.4333333373069763\n"
          ]
        },
        {
          "output_type": "stream",
          "name": "stderr",
          "text": [
            "100%|██████████| 67/67 [00:02<00:00, 24.84it/s]\n",
            "100%|██████████| 12/12 [00:00<00:00, 36.13it/s]\n"
          ]
        },
        {
          "output_type": "stream",
          "name": "stdout",
          "text": [
            "EPOCH -  29 . Train Accuracy =  1.0 , Validation Accuracy =  0.4346666634082794\n"
          ]
        },
        {
          "output_type": "stream",
          "name": "stderr",
          "text": [
            "100%|██████████| 67/67 [00:01<00:00, 34.20it/s]\n",
            "100%|██████████| 12/12 [00:00<00:00, 34.72it/s]\n"
          ]
        },
        {
          "output_type": "stream",
          "name": "stdout",
          "text": [
            "EPOCH -  30 . Train Accuracy =  1.0 , Validation Accuracy =  0.42800000309944153\n"
          ]
        },
        {
          "output_type": "stream",
          "name": "stderr",
          "text": [
            "100%|██████████| 67/67 [00:01<00:00, 33.71it/s]\n",
            "100%|██████████| 12/12 [00:00<00:00, 35.96it/s]\n"
          ]
        },
        {
          "output_type": "stream",
          "name": "stdout",
          "text": [
            "EPOCH -  31 . Train Accuracy =  1.0 , Validation Accuracy =  0.42933332920074463\n"
          ]
        },
        {
          "output_type": "stream",
          "name": "stderr",
          "text": [
            "100%|██████████| 67/67 [00:01<00:00, 34.83it/s]\n",
            "100%|██████████| 12/12 [00:00<00:00, 37.05it/s]\n"
          ]
        },
        {
          "output_type": "stream",
          "name": "stdout",
          "text": [
            "EPOCH -  32 . Train Accuracy =  1.0 , Validation Accuracy =  0.4359999895095825\n",
            "Model Re-Saved\n"
          ]
        },
        {
          "output_type": "stream",
          "name": "stderr",
          "text": [
            "100%|██████████| 67/67 [00:01<00:00, 34.40it/s]\n",
            "100%|██████████| 12/12 [00:00<00:00, 33.70it/s]\n"
          ]
        },
        {
          "output_type": "stream",
          "name": "stdout",
          "text": [
            "EPOCH -  33 . Train Accuracy =  1.0 , Validation Accuracy =  0.4346666634082794\n"
          ]
        },
        {
          "output_type": "stream",
          "name": "stderr",
          "text": [
            "100%|██████████| 67/67 [00:02<00:00, 25.36it/s]\n",
            "100%|██████████| 12/12 [00:00<00:00, 36.77it/s]\n"
          ]
        },
        {
          "output_type": "stream",
          "name": "stdout",
          "text": [
            "EPOCH -  34 . Train Accuracy =  1.0 , Validation Accuracy =  0.41600000858306885\n"
          ]
        },
        {
          "output_type": "stream",
          "name": "stderr",
          "text": [
            "100%|██████████| 67/67 [00:01<00:00, 34.55it/s]\n",
            "100%|██████████| 12/12 [00:00<00:00, 36.31it/s]\n"
          ]
        },
        {
          "output_type": "stream",
          "name": "stdout",
          "text": [
            "EPOCH -  35 . Train Accuracy =  1.0 , Validation Accuracy =  0.41333332657814026\n"
          ]
        },
        {
          "output_type": "stream",
          "name": "stderr",
          "text": [
            "100%|██████████| 67/67 [00:01<00:00, 33.99it/s]\n",
            "100%|██████████| 12/12 [00:00<00:00, 37.62it/s]\n"
          ]
        },
        {
          "output_type": "stream",
          "name": "stdout",
          "text": [
            "EPOCH -  36 . Train Accuracy =  1.0 , Validation Accuracy =  0.42933332920074463\n"
          ]
        },
        {
          "output_type": "stream",
          "name": "stderr",
          "text": [
            "100%|██████████| 67/67 [00:01<00:00, 34.39it/s]\n",
            "100%|██████████| 12/12 [00:00<00:00, 37.39it/s]\n"
          ]
        },
        {
          "output_type": "stream",
          "name": "stdout",
          "text": [
            "EPOCH -  37 . Train Accuracy =  1.0 , Validation Accuracy =  0.42533332109451294\n"
          ]
        },
        {
          "output_type": "stream",
          "name": "stderr",
          "text": [
            "100%|██████████| 67/67 [00:01<00:00, 34.70it/s]\n",
            "100%|██████████| 12/12 [00:00<00:00, 36.19it/s]\n"
          ]
        },
        {
          "output_type": "stream",
          "name": "stdout",
          "text": [
            "EPOCH -  38 . Train Accuracy =  1.0 , Validation Accuracy =  0.4359999895095825\n"
          ]
        },
        {
          "output_type": "stream",
          "name": "stderr",
          "text": [
            "100%|██████████| 67/67 [00:02<00:00, 24.38it/s]\n",
            "100%|██████████| 12/12 [00:00<00:00, 37.19it/s]\n"
          ]
        },
        {
          "output_type": "stream",
          "name": "stdout",
          "text": [
            "EPOCH -  39 . Train Accuracy =  1.0 , Validation Accuracy =  0.4413333237171173\n",
            "Model Re-Saved\n"
          ]
        },
        {
          "output_type": "stream",
          "name": "stderr",
          "text": [
            "100%|██████████| 67/67 [00:01<00:00, 34.48it/s]\n",
            "100%|██████████| 12/12 [00:00<00:00, 36.92it/s]\n"
          ]
        },
        {
          "output_type": "stream",
          "name": "stdout",
          "text": [
            "EPOCH -  40 . Train Accuracy =  1.0 , Validation Accuracy =  0.4346666634082794\n"
          ]
        },
        {
          "output_type": "stream",
          "name": "stderr",
          "text": [
            "100%|██████████| 67/67 [00:01<00:00, 34.76it/s]\n",
            "100%|██████████| 12/12 [00:00<00:00, 38.76it/s]\n"
          ]
        },
        {
          "output_type": "stream",
          "name": "stdout",
          "text": [
            "EPOCH -  41 . Train Accuracy =  1.0 , Validation Accuracy =  0.42533332109451294\n"
          ]
        },
        {
          "output_type": "stream",
          "name": "stderr",
          "text": [
            "100%|██████████| 67/67 [00:02<00:00, 32.26it/s]\n",
            "100%|██████████| 12/12 [00:00<00:00, 37.45it/s]\n"
          ]
        },
        {
          "output_type": "stream",
          "name": "stdout",
          "text": [
            "EPOCH -  42 . Train Accuracy =  1.0 , Validation Accuracy =  0.42533332109451294\n"
          ]
        },
        {
          "output_type": "stream",
          "name": "stderr",
          "text": [
            "100%|██████████| 67/67 [00:01<00:00, 34.10it/s]\n",
            "100%|██████████| 12/12 [00:00<00:00, 29.29it/s]\n"
          ]
        },
        {
          "output_type": "stream",
          "name": "stdout",
          "text": [
            "EPOCH -  43 . Train Accuracy =  1.0 , Validation Accuracy =  0.4333333373069763\n"
          ]
        },
        {
          "output_type": "stream",
          "name": "stderr",
          "text": [
            "100%|██████████| 67/67 [00:02<00:00, 25.79it/s]\n",
            "100%|██████████| 12/12 [00:00<00:00, 36.49it/s]\n"
          ]
        },
        {
          "output_type": "stream",
          "name": "stdout",
          "text": [
            "EPOCH -  44 . Train Accuracy =  1.0 , Validation Accuracy =  0.42933332920074463\n"
          ]
        },
        {
          "output_type": "stream",
          "name": "stderr",
          "text": [
            "100%|██████████| 67/67 [00:01<00:00, 34.39it/s]\n",
            "100%|██████████| 12/12 [00:00<00:00, 36.82it/s]\n"
          ]
        },
        {
          "output_type": "stream",
          "name": "stdout",
          "text": [
            "EPOCH -  45 . Train Accuracy =  1.0 , Validation Accuracy =  0.4399999976158142\n"
          ]
        },
        {
          "output_type": "stream",
          "name": "stderr",
          "text": [
            "100%|██████████| 67/67 [00:01<00:00, 34.59it/s]\n",
            "100%|██████████| 12/12 [00:00<00:00, 36.47it/s]\n"
          ]
        },
        {
          "output_type": "stream",
          "name": "stdout",
          "text": [
            "EPOCH -  46 . Train Accuracy =  1.0 , Validation Accuracy =  0.4346666634082794\n"
          ]
        },
        {
          "output_type": "stream",
          "name": "stderr",
          "text": [
            "100%|██████████| 67/67 [00:01<00:00, 34.73it/s]\n",
            "100%|██████████| 12/12 [00:00<00:00, 35.69it/s]\n"
          ]
        },
        {
          "output_type": "stream",
          "name": "stdout",
          "text": [
            "EPOCH -  47 . Train Accuracy =  1.0 , Validation Accuracy =  0.4346666634082794\n"
          ]
        },
        {
          "output_type": "stream",
          "name": "stderr",
          "text": [
            "100%|██████████| 67/67 [00:01<00:00, 34.81it/s]\n",
            "100%|██████████| 12/12 [00:00<00:00, 35.15it/s]\n"
          ]
        },
        {
          "output_type": "stream",
          "name": "stdout",
          "text": [
            "EPOCH -  48 . Train Accuracy =  1.0 , Validation Accuracy =  0.41733333468437195\n"
          ]
        },
        {
          "output_type": "stream",
          "name": "stderr",
          "text": [
            "100%|██████████| 67/67 [00:02<00:00, 25.30it/s]\n",
            "100%|██████████| 12/12 [00:00<00:00, 36.93it/s]\n"
          ]
        },
        {
          "output_type": "stream",
          "name": "stdout",
          "text": [
            "EPOCH -  49 . Train Accuracy =  1.0 , Validation Accuracy =  0.41066667437553406\n"
          ]
        },
        {
          "output_type": "stream",
          "name": "stderr",
          "text": [
            "100%|██████████| 67/67 [00:01<00:00, 35.17it/s]\n",
            "100%|██████████| 12/12 [00:00<00:00, 36.79it/s]\n"
          ]
        },
        {
          "output_type": "stream",
          "name": "stdout",
          "text": [
            "EPOCH -  50 . Train Accuracy =  1.0 , Validation Accuracy =  0.4373333156108856\n"
          ]
        },
        {
          "output_type": "stream",
          "name": "stderr",
          "text": [
            "100%|██████████| 67/67 [00:01<00:00, 35.02it/s]\n",
            "100%|██████████| 12/12 [00:00<00:00, 36.47it/s]\n"
          ]
        },
        {
          "output_type": "stream",
          "name": "stdout",
          "text": [
            "EPOCH -  51 . Train Accuracy =  1.0 , Validation Accuracy =  0.42933332920074463\n"
          ]
        },
        {
          "output_type": "stream",
          "name": "stderr",
          "text": [
            "100%|██████████| 67/67 [00:01<00:00, 34.42it/s]\n",
            "100%|██████████| 12/12 [00:00<00:00, 37.19it/s]\n"
          ]
        },
        {
          "output_type": "stream",
          "name": "stdout",
          "text": [
            "EPOCH -  52 . Train Accuracy =  1.0 , Validation Accuracy =  0.4266666769981384\n"
          ]
        },
        {
          "output_type": "stream",
          "name": "stderr",
          "text": [
            "100%|██████████| 67/67 [00:01<00:00, 34.72it/s]\n",
            "100%|██████████| 12/12 [00:00<00:00, 36.98it/s]\n"
          ]
        },
        {
          "output_type": "stream",
          "name": "stdout",
          "text": [
            "EPOCH -  53 . Train Accuracy =  0.8656470775604248 , Validation Accuracy =  0.36666667461395264\n"
          ]
        },
        {
          "output_type": "stream",
          "name": "stderr",
          "text": [
            "100%|██████████| 67/67 [00:02<00:00, 25.05it/s]\n",
            "100%|██████████| 12/12 [00:00<00:00, 36.66it/s]\n"
          ]
        },
        {
          "output_type": "stream",
          "name": "stdout",
          "text": [
            "EPOCH -  54 . Train Accuracy =  0.7192941308021545 , Validation Accuracy =  0.3853333294391632\n"
          ]
        },
        {
          "output_type": "stream",
          "name": "stderr",
          "text": [
            "100%|██████████| 67/67 [00:01<00:00, 34.25it/s]\n",
            "100%|██████████| 12/12 [00:00<00:00, 36.74it/s]\n"
          ]
        },
        {
          "output_type": "stream",
          "name": "stdout",
          "text": [
            "EPOCH -  55 . Train Accuracy =  0.9218823909759521 , Validation Accuracy =  0.4026666581630707\n"
          ]
        },
        {
          "output_type": "stream",
          "name": "stderr",
          "text": [
            "100%|██████████| 67/67 [00:01<00:00, 34.83it/s]\n",
            "100%|██████████| 12/12 [00:00<00:00, 35.94it/s]\n"
          ]
        },
        {
          "output_type": "stream",
          "name": "stdout",
          "text": [
            "EPOCH -  56 . Train Accuracy =  0.9795294404029846 , Validation Accuracy =  0.3799999952316284\n"
          ]
        },
        {
          "output_type": "stream",
          "name": "stderr",
          "text": [
            "100%|██████████| 67/67 [00:01<00:00, 34.33it/s]\n",
            "100%|██████████| 12/12 [00:00<00:00, 37.40it/s]\n"
          ]
        },
        {
          "output_type": "stream",
          "name": "stdout",
          "text": [
            "EPOCH -  57 . Train Accuracy =  0.9938823580741882 , Validation Accuracy =  0.41466665267944336\n"
          ]
        },
        {
          "output_type": "stream",
          "name": "stderr",
          "text": [
            "100%|██████████| 67/67 [00:01<00:00, 34.16it/s]\n",
            "100%|██████████| 12/12 [00:00<00:00, 36.34it/s]\n"
          ]
        },
        {
          "output_type": "stream",
          "name": "stdout",
          "text": [
            "EPOCH -  58 . Train Accuracy =  0.9960000514984131 , Validation Accuracy =  0.41066667437553406\n"
          ]
        },
        {
          "output_type": "stream",
          "name": "stderr",
          "text": [
            "100%|██████████| 67/67 [00:02<00:00, 24.55it/s]\n",
            "100%|██████████| 12/12 [00:00<00:00, 36.34it/s]\n"
          ]
        },
        {
          "output_type": "stream",
          "name": "stdout",
          "text": [
            "EPOCH -  59 . Train Accuracy =  0.9969412088394165 , Validation Accuracy =  0.40799999237060547\n"
          ]
        },
        {
          "output_type": "stream",
          "name": "stderr",
          "text": [
            "100%|██████████| 67/67 [00:01<00:00, 34.06it/s]\n",
            "100%|██████████| 12/12 [00:00<00:00, 34.59it/s]\n"
          ]
        },
        {
          "output_type": "stream",
          "name": "stdout",
          "text": [
            "EPOCH -  60 . Train Accuracy =  0.9969412088394165 , Validation Accuracy =  0.4013333320617676\n"
          ]
        },
        {
          "output_type": "stream",
          "name": "stderr",
          "text": [
            "100%|██████████| 67/67 [00:01<00:00, 33.51it/s]\n",
            "100%|██████████| 12/12 [00:00<00:00, 37.21it/s]\n"
          ]
        },
        {
          "output_type": "stream",
          "name": "stdout",
          "text": [
            "EPOCH -  61 . Train Accuracy =  0.9908235669136047 , Validation Accuracy =  0.41866666078567505\n"
          ]
        },
        {
          "output_type": "stream",
          "name": "stderr",
          "text": [
            "100%|██████████| 67/67 [00:01<00:00, 33.76it/s]\n",
            "100%|██████████| 12/12 [00:00<00:00, 36.64it/s]\n"
          ]
        },
        {
          "output_type": "stream",
          "name": "stdout",
          "text": [
            "EPOCH -  62 . Train Accuracy =  0.9957647323608398 , Validation Accuracy =  0.41600000858306885\n"
          ]
        },
        {
          "output_type": "stream",
          "name": "stderr",
          "text": [
            "100%|██████████| 67/67 [00:01<00:00, 34.48it/s]\n",
            "100%|██████████| 12/12 [00:00<00:00, 36.95it/s]\n"
          ]
        },
        {
          "output_type": "stream",
          "name": "stdout",
          "text": [
            "EPOCH -  63 . Train Accuracy =  0.9962353110313416 , Validation Accuracy =  0.41200000047683716\n"
          ]
        },
        {
          "output_type": "stream",
          "name": "stderr",
          "text": [
            "100%|██████████| 67/67 [00:02<00:00, 24.87it/s]\n",
            "100%|██████████| 12/12 [00:00<00:00, 35.89it/s]\n"
          ]
        },
        {
          "output_type": "stream",
          "name": "stdout",
          "text": [
            "EPOCH -  64 . Train Accuracy =  0.9943529367446899 , Validation Accuracy =  0.41333332657814026\n"
          ]
        },
        {
          "output_type": "stream",
          "name": "stderr",
          "text": [
            "100%|██████████| 67/67 [00:01<00:00, 33.64it/s]\n",
            "100%|██████████| 12/12 [00:00<00:00, 36.55it/s]\n"
          ]
        },
        {
          "output_type": "stream",
          "name": "stdout",
          "text": [
            "EPOCH -  65 . Train Accuracy =  0.9981176853179932 , Validation Accuracy =  0.41733333468437195\n"
          ]
        },
        {
          "output_type": "stream",
          "name": "stderr",
          "text": [
            "100%|██████████| 67/67 [00:01<00:00, 34.30it/s]\n",
            "100%|██████████| 12/12 [00:00<00:00, 37.23it/s]\n"
          ]
        },
        {
          "output_type": "stream",
          "name": "stdout",
          "text": [
            "EPOCH -  66 . Train Accuracy =  0.9988235235214233 , Validation Accuracy =  0.41733333468437195\n"
          ]
        },
        {
          "output_type": "stream",
          "name": "stderr",
          "text": [
            "100%|██████████| 67/67 [00:01<00:00, 33.54it/s]\n",
            "100%|██████████| 12/12 [00:00<00:00, 37.08it/s]\n"
          ]
        },
        {
          "output_type": "stream",
          "name": "stdout",
          "text": [
            "EPOCH -  67 . Train Accuracy =  0.997176468372345 , Validation Accuracy =  0.42933332920074463\n"
          ]
        },
        {
          "output_type": "stream",
          "name": "stderr",
          "text": [
            "100%|██████████| 67/67 [00:01<00:00, 34.21it/s]\n",
            "100%|██████████| 12/12 [00:00<00:00, 36.48it/s]\n"
          ]
        },
        {
          "output_type": "stream",
          "name": "stdout",
          "text": [
            "EPOCH -  68 . Train Accuracy =  0.984705924987793 , Validation Accuracy =  0.4026666581630707\n"
          ]
        },
        {
          "output_type": "stream",
          "name": "stderr",
          "text": [
            "100%|██████████| 67/67 [00:02<00:00, 25.01it/s]\n",
            "100%|██████████| 12/12 [00:00<00:00, 35.73it/s]\n"
          ]
        },
        {
          "output_type": "stream",
          "name": "stdout",
          "text": [
            "EPOCH -  69 . Train Accuracy =  0.9887059330940247 , Validation Accuracy =  0.3973333239555359\n"
          ]
        },
        {
          "output_type": "stream",
          "name": "stderr",
          "text": [
            "100%|██████████| 67/67 [00:01<00:00, 34.28it/s]\n",
            "100%|██████████| 12/12 [00:00<00:00, 36.94it/s]\n"
          ]
        },
        {
          "output_type": "stream",
          "name": "stdout",
          "text": [
            "EPOCH -  70 . Train Accuracy =  0.9938823580741882 , Validation Accuracy =  0.3853333294391632\n"
          ]
        },
        {
          "output_type": "stream",
          "name": "stderr",
          "text": [
            "100%|██████████| 67/67 [00:01<00:00, 34.29it/s]\n",
            "100%|██████████| 12/12 [00:00<00:00, 36.02it/s]\n"
          ]
        },
        {
          "output_type": "stream",
          "name": "stdout",
          "text": [
            "EPOCH -  71 . Train Accuracy =  0.9950588345527649 , Validation Accuracy =  0.41466665267944336\n"
          ]
        },
        {
          "output_type": "stream",
          "name": "stderr",
          "text": [
            "100%|██████████| 67/67 [00:01<00:00, 34.85it/s]\n",
            "100%|██████████| 12/12 [00:00<00:00, 35.82it/s]\n"
          ]
        },
        {
          "output_type": "stream",
          "name": "stdout",
          "text": [
            "EPOCH -  72 . Train Accuracy =  0.9915294051170349 , Validation Accuracy =  0.41999998688697815\n"
          ]
        },
        {
          "output_type": "stream",
          "name": "stderr",
          "text": [
            "100%|██████████| 67/67 [00:01<00:00, 34.47it/s]\n",
            "100%|██████████| 12/12 [00:00<00:00, 33.88it/s]\n"
          ]
        },
        {
          "output_type": "stream",
          "name": "stdout",
          "text": [
            "EPOCH -  73 . Train Accuracy =  0.984705924987793 , Validation Accuracy =  0.398666650056839\n"
          ]
        },
        {
          "output_type": "stream",
          "name": "stderr",
          "text": [
            "100%|██████████| 67/67 [00:02<00:00, 24.89it/s]\n",
            "100%|██████████| 12/12 [00:00<00:00, 38.25it/s]\n"
          ]
        },
        {
          "output_type": "stream",
          "name": "stdout",
          "text": [
            "EPOCH -  74 . Train Accuracy =  0.9896470904350281 , Validation Accuracy =  0.4039999842643738\n"
          ]
        },
        {
          "output_type": "stream",
          "name": "stderr",
          "text": [
            "100%|██████████| 67/67 [00:01<00:00, 34.86it/s]\n",
            "100%|██████████| 12/12 [00:00<00:00, 35.26it/s]\n"
          ]
        },
        {
          "output_type": "stream",
          "name": "stdout",
          "text": [
            "EPOCH -  75 . Train Accuracy =  0.9960000514984131 , Validation Accuracy =  0.41733333468437195\n"
          ]
        },
        {
          "output_type": "stream",
          "name": "stderr",
          "text": [
            "100%|██████████| 67/67 [00:01<00:00, 33.61it/s]\n",
            "100%|██████████| 12/12 [00:00<00:00, 37.17it/s]\n"
          ]
        },
        {
          "output_type": "stream",
          "name": "stdout",
          "text": [
            "EPOCH -  76 . Train Accuracy =  0.9974117875099182 , Validation Accuracy =  0.41066667437553406\n"
          ]
        },
        {
          "output_type": "stream",
          "name": "stderr",
          "text": [
            "100%|██████████| 67/67 [00:01<00:00, 35.08it/s]\n",
            "100%|██████████| 12/12 [00:00<00:00, 37.46it/s]\n"
          ]
        },
        {
          "output_type": "stream",
          "name": "stdout",
          "text": [
            "EPOCH -  77 . Train Accuracy =  0.9976471066474915 , Validation Accuracy =  0.40533334016799927\n"
          ]
        },
        {
          "output_type": "stream",
          "name": "stderr",
          "text": [
            "100%|██████████| 67/67 [00:01<00:00, 34.07it/s]\n",
            "100%|██████████| 12/12 [00:00<00:00, 38.37it/s]\n"
          ]
        },
        {
          "output_type": "stream",
          "name": "stdout",
          "text": [
            "EPOCH -  78 . Train Accuracy =  0.9948235750198364 , Validation Accuracy =  0.41333332657814026\n"
          ]
        },
        {
          "output_type": "stream",
          "name": "stderr",
          "text": [
            "100%|██████████| 67/67 [00:02<00:00, 25.00it/s]\n",
            "100%|██████████| 12/12 [00:00<00:00, 37.23it/s]\n"
          ]
        },
        {
          "output_type": "stream",
          "name": "stdout",
          "text": [
            "EPOCH -  79 . Train Accuracy =  0.9898823499679565 , Validation Accuracy =  0.40933331847190857\n"
          ]
        },
        {
          "output_type": "stream",
          "name": "stderr",
          "text": [
            "100%|██████████| 67/67 [00:01<00:00, 34.20it/s]\n",
            "100%|██████████| 12/12 [00:00<00:00, 35.10it/s]\n"
          ]
        },
        {
          "output_type": "stream",
          "name": "stdout",
          "text": [
            "EPOCH -  80 . Train Accuracy =  0.9894117712974548 , Validation Accuracy =  0.41333332657814026\n"
          ]
        },
        {
          "output_type": "stream",
          "name": "stderr",
          "text": [
            "100%|██████████| 67/67 [00:01<00:00, 34.96it/s]\n",
            "100%|██████████| 12/12 [00:00<00:00, 35.66it/s]\n"
          ]
        },
        {
          "output_type": "stream",
          "name": "stdout",
          "text": [
            "EPOCH -  81 . Train Accuracy =  0.9795294404029846 , Validation Accuracy =  0.40933331847190857\n"
          ]
        },
        {
          "output_type": "stream",
          "name": "stderr",
          "text": [
            "100%|██████████| 67/67 [00:01<00:00, 34.31it/s]\n",
            "100%|██████████| 12/12 [00:00<00:00, 33.65it/s]\n"
          ]
        },
        {
          "output_type": "stream",
          "name": "stdout",
          "text": [
            "EPOCH -  82 . Train Accuracy =  0.9889411926269531 , Validation Accuracy =  0.4013333320617676\n"
          ]
        },
        {
          "output_type": "stream",
          "name": "stderr",
          "text": [
            "100%|██████████| 67/67 [00:01<00:00, 34.07it/s]\n",
            "100%|██████████| 12/12 [00:00<00:00, 36.05it/s]\n"
          ]
        },
        {
          "output_type": "stream",
          "name": "stdout",
          "text": [
            "EPOCH -  83 . Train Accuracy =  0.9894117712974548 , Validation Accuracy =  0.4013333320617676\n"
          ]
        },
        {
          "output_type": "stream",
          "name": "stderr",
          "text": [
            "100%|██████████| 67/67 [00:02<00:00, 24.78it/s]\n",
            "100%|██████████| 12/12 [00:00<00:00, 35.99it/s]\n"
          ]
        },
        {
          "output_type": "stream",
          "name": "stdout",
          "text": [
            "EPOCH -  84 . Train Accuracy =  0.9934117794036865 , Validation Accuracy =  0.41200000047683716\n"
          ]
        },
        {
          "output_type": "stream",
          "name": "stderr",
          "text": [
            "100%|██████████| 67/67 [00:01<00:00, 33.75it/s]\n",
            "100%|██████████| 12/12 [00:00<00:00, 36.87it/s]\n"
          ]
        },
        {
          "output_type": "stream",
          "name": "stdout",
          "text": [
            "EPOCH -  85 . Train Accuracy =  0.9978823661804199 , Validation Accuracy =  0.41600000858306885\n"
          ]
        },
        {
          "output_type": "stream",
          "name": "stderr",
          "text": [
            "100%|██████████| 67/67 [00:02<00:00, 32.81it/s]\n",
            "100%|██████████| 12/12 [00:00<00:00, 24.48it/s]\n"
          ]
        },
        {
          "output_type": "stream",
          "name": "stdout",
          "text": [
            "EPOCH -  86 . Train Accuracy =  0.9992941617965698 , Validation Accuracy =  0.42266666889190674\n"
          ]
        },
        {
          "output_type": "stream",
          "name": "stderr",
          "text": [
            "100%|██████████| 67/67 [00:02<00:00, 26.76it/s]\n",
            "100%|██████████| 12/12 [00:00<00:00, 37.75it/s]\n"
          ]
        },
        {
          "output_type": "stream",
          "name": "stdout",
          "text": [
            "EPOCH -  87 . Train Accuracy =  1.0 , Validation Accuracy =  0.41866666078567505\n"
          ]
        },
        {
          "output_type": "stream",
          "name": "stderr",
          "text": [
            "100%|██████████| 67/67 [00:02<00:00, 32.13it/s]\n",
            "100%|██████████| 12/12 [00:00<00:00, 24.73it/s]\n"
          ]
        },
        {
          "output_type": "stream",
          "name": "stdout",
          "text": [
            "EPOCH -  88 . Train Accuracy =  0.9988235235214233 , Validation Accuracy =  0.41600000858306885\n"
          ]
        },
        {
          "output_type": "stream",
          "name": "stderr",
          "text": [
            "100%|██████████| 67/67 [00:02<00:00, 28.25it/s]\n",
            "100%|██████████| 12/12 [00:00<00:00, 37.17it/s]\n"
          ]
        },
        {
          "output_type": "stream",
          "name": "stdout",
          "text": [
            "EPOCH -  89 . Train Accuracy =  0.9992941617965698 , Validation Accuracy =  0.4359999895095825\n"
          ]
        },
        {
          "output_type": "stream",
          "name": "stderr",
          "text": [
            "100%|██████████| 67/67 [00:01<00:00, 34.44it/s]\n",
            "100%|██████████| 12/12 [00:00<00:00, 36.44it/s]\n"
          ]
        },
        {
          "output_type": "stream",
          "name": "stdout",
          "text": [
            "EPOCH -  90 . Train Accuracy =  0.9901176691055298 , Validation Accuracy =  0.3946666717529297\n"
          ]
        },
        {
          "output_type": "stream",
          "name": "stderr",
          "text": [
            "100%|██████████| 67/67 [00:02<00:00, 33.30it/s]\n",
            "100%|██████████| 12/12 [00:00<00:00, 34.76it/s]\n"
          ]
        },
        {
          "output_type": "stream",
          "name": "stdout",
          "text": [
            "EPOCH -  91 . Train Accuracy =  0.9929412007331848 , Validation Accuracy =  0.41200000047683716\n"
          ]
        },
        {
          "output_type": "stream",
          "name": "stderr",
          "text": [
            "100%|██████████| 67/67 [00:01<00:00, 33.70it/s]\n",
            "100%|██████████| 12/12 [00:00<00:00, 36.71it/s]\n"
          ]
        },
        {
          "output_type": "stream",
          "name": "stdout",
          "text": [
            "EPOCH -  92 . Train Accuracy =  0.9950588345527649 , Validation Accuracy =  0.42133334279060364\n"
          ]
        },
        {
          "output_type": "stream",
          "name": "stderr",
          "text": [
            "100%|██████████| 67/67 [00:02<00:00, 30.92it/s]\n",
            "100%|██████████| 12/12 [00:00<00:00, 25.13it/s]\n"
          ]
        },
        {
          "output_type": "stream",
          "name": "stdout",
          "text": [
            "EPOCH -  93 . Train Accuracy =  0.9974117875099182 , Validation Accuracy =  0.3919999897480011\n"
          ]
        },
        {
          "output_type": "stream",
          "name": "stderr",
          "text": [
            "100%|██████████| 67/67 [00:02<00:00, 28.07it/s]\n",
            "100%|██████████| 12/12 [00:00<00:00, 36.26it/s]\n"
          ]
        },
        {
          "output_type": "stream",
          "name": "stdout",
          "text": [
            "EPOCH -  94 . Train Accuracy =  0.9910588264465332 , Validation Accuracy =  0.41999998688697815\n"
          ]
        },
        {
          "output_type": "stream",
          "name": "stderr",
          "text": [
            "100%|██████████| 67/67 [00:01<00:00, 33.95it/s]\n",
            "100%|██████████| 12/12 [00:00<00:00, 37.82it/s]\n"
          ]
        },
        {
          "output_type": "stream",
          "name": "stdout",
          "text": [
            "EPOCH -  95 . Train Accuracy =  0.9821176528930664 , Validation Accuracy =  0.3933333158493042\n"
          ]
        },
        {
          "output_type": "stream",
          "name": "stderr",
          "text": [
            "100%|██████████| 67/67 [00:01<00:00, 33.75it/s]\n",
            "100%|██████████| 12/12 [00:00<00:00, 35.01it/s]\n"
          ]
        },
        {
          "output_type": "stream",
          "name": "stdout",
          "text": [
            "EPOCH -  96 . Train Accuracy =  0.9887059330940247 , Validation Accuracy =  0.4026666581630707\n"
          ]
        },
        {
          "output_type": "stream",
          "name": "stderr",
          "text": [
            "100%|██████████| 67/67 [00:01<00:00, 33.87it/s]\n",
            "100%|██████████| 12/12 [00:00<00:00, 36.86it/s]\n"
          ]
        },
        {
          "output_type": "stream",
          "name": "stdout",
          "text": [
            "EPOCH -  97 . Train Accuracy =  0.9936470985412598 , Validation Accuracy =  0.42399999499320984\n"
          ]
        },
        {
          "output_type": "stream",
          "name": "stderr",
          "text": [
            "100%|██████████| 67/67 [00:02<00:00, 29.38it/s]\n",
            "100%|██████████| 12/12 [00:00<00:00, 24.56it/s]\n"
          ]
        },
        {
          "output_type": "stream",
          "name": "stdout",
          "text": [
            "EPOCH -  98 . Train Accuracy =  0.9941176772117615 , Validation Accuracy =  0.4026666581630707\n"
          ]
        },
        {
          "output_type": "stream",
          "name": "stderr",
          "text": [
            "100%|██████████| 67/67 [00:02<00:00, 29.52it/s]\n",
            "100%|██████████| 12/12 [00:00<00:00, 36.53it/s]\n"
          ]
        },
        {
          "output_type": "stream",
          "name": "stdout",
          "text": [
            "EPOCH -  99 . Train Accuracy =  0.9943529367446899 , Validation Accuracy =  0.40799999237060547\n"
          ]
        },
        {
          "output_type": "stream",
          "name": "stderr",
          "text": [
            "100%|██████████| 67/67 [00:01<00:00, 33.73it/s]\n",
            "100%|██████████| 12/12 [00:00<00:00, 35.93it/s]\n"
          ]
        },
        {
          "output_type": "stream",
          "name": "stdout",
          "text": [
            "EPOCH -  100 . Train Accuracy =  0.9981176853179932 , Validation Accuracy =  0.41600000858306885\n",
            "\n"
          ]
        },
        {
          "output_type": "stream",
          "name": "stderr",
          "text": [
            "100%|██████████| 67/67 [00:01<00:00, 36.50it/s]\n"
          ]
        },
        {
          "output_type": "stream",
          "name": "stdout",
          "text": [
            "Train Accuracy =  1.0\n"
          ]
        },
        {
          "output_type": "stream",
          "name": "stderr",
          "text": [
            "100%|██████████| 125/125 [00:03<00:00, 36.12it/s]"
          ]
        },
        {
          "output_type": "stream",
          "name": "stdout",
          "text": [
            "Test Accuracy =  0.41850000619888306\n",
            "Generalization Gap =  0.5814999938011169\n"
          ]
        },
        {
          "output_type": "stream",
          "name": "stderr",
          "text": [
            "\n"
          ]
        }
      ]
    },
    {
      "cell_type": "code",
      "source": [],
      "metadata": {
        "id": "MCgbM0RU41jW"
      },
      "execution_count": null,
      "outputs": []
    },
    {
      "cell_type": "code",
      "source": [
        "# -------------------------------------------- SVHN Dataset -----------------------------------------------------------\n",
        "Option = 4\n",
        "Train_DataLoader, Val_DataLoader, Test_DataLoader = CreateDataLoaders(Option, 64)\n",
        "ModelName = \"Model_MLP_SVHN.pt\"\n",
        "\n",
        "model = MLP(3072, 10).to(device)\n",
        "loss_criteria = nn.CrossEntropyLoss()\n",
        "AdamOpt = torch.optim.Adam(model.parameters(), lr=0.0001)\n",
        "\n",
        "ValAccuracy = 0\n",
        "\n",
        "saved = False\n",
        "if saved == True:\n",
        "    model = torch.load(ModelName, map_location=torch.device('cpu')).to(device)\n",
        "else:\n",
        "    model.train()\n",
        "    Train_Accuracy = 0\n",
        "\n",
        "    for e in range(EPOCHS):\n",
        "        Train_Accuracy = TrainModel(model, loss_criteria, AdamOpt, device, Train_DataLoader)\n",
        "        val_acc = EvaluateModel(model, Val_DataLoader, device)\n",
        "\n",
        "        print(\"EPOCH - \", e+1, \". Train Accuracy = \", Train_Accuracy.cpu().item(), \", Validation Accuracy = \", val_acc.cpu().item())\n",
        "        \n",
        "        if val_acc.cpu().item() > ValAccuracy:\n",
        "            print(\"Model Re-Saved\")\n",
        "            ValAccuracy = val_acc.cpu().item()\n",
        "            torch.save(model, ModelName)\n",
        "\n",
        "\n",
        "    saved_model = torch.load(ModelName, map_location=torch.device('cpu')).to(device)\n",
        "\n",
        "print()\n",
        "Train_Accuracy = EvaluateModel(saved_model, Train_DataLoader, device)\n",
        "print(\"Train Accuracy = \", Train_Accuracy.cpu().item())\n",
        "Test_Accuracy = EvaluateModel(saved_model, Test_DataLoader, device)\n",
        "print(\"Test Accuracy = \", Test_Accuracy.cpu().item())\n",
        "\n",
        "print(\"Generalization Gap = \", (Train_Accuracy.cpu().item() - Test_Accuracy.cpu().item()))"
      ],
      "metadata": {
        "colab": {
          "base_uri": "https://localhost:8080/"
        },
        "id": "S74cyqaf41zF",
        "outputId": "c47f41b5-097c-45cd-dce3-0218a70fed02"
      },
      "execution_count": null,
      "outputs": [
        {
          "output_type": "stream",
          "name": "stdout",
          "text": [
            "Using downloaded and verified file: ./train_32x32.mat\n",
            "73257\n",
            "Downloading http://ufldl.stanford.edu/housenumbers/test_32x32.mat to ./test_32x32.mat\n"
          ]
        },
        {
          "output_type": "stream",
          "name": "stderr",
          "text": [
            "100%|██████████| 64275384/64275384 [00:07<00:00, 8775987.25it/s] \n",
            "100%|██████████| 973/973 [00:13<00:00, 69.92it/s]\n",
            "100%|██████████| 172/172 [00:02<00:00, 85.23it/s]\n"
          ]
        },
        {
          "output_type": "stream",
          "name": "stdout",
          "text": [
            "EPOCH -  1 . Train Accuracy =  0.6348044276237488 , Validation Accuracy =  0.7269997000694275\n",
            "Model Re-Saved\n"
          ]
        },
        {
          "output_type": "stream",
          "name": "stderr",
          "text": [
            "100%|██████████| 973/973 [00:13<00:00, 72.98it/s]\n",
            "100%|██████████| 172/172 [00:02<00:00, 81.55it/s]\n"
          ]
        },
        {
          "output_type": "stream",
          "name": "stdout",
          "text": [
            "EPOCH -  2 . Train Accuracy =  0.7535170912742615 , Validation Accuracy =  0.763035774230957\n",
            "Model Re-Saved\n"
          ]
        },
        {
          "output_type": "stream",
          "name": "stderr",
          "text": [
            "100%|██████████| 973/973 [00:13<00:00, 73.07it/s]\n",
            "100%|██████████| 172/172 [00:02<00:00, 67.79it/s]\n"
          ]
        },
        {
          "output_type": "stream",
          "name": "stdout",
          "text": [
            "EPOCH -  3 . Train Accuracy =  0.7886073589324951 , Validation Accuracy =  0.7866047620773315\n",
            "Model Re-Saved\n"
          ]
        },
        {
          "output_type": "stream",
          "name": "stderr",
          "text": [
            "100%|██████████| 973/973 [00:13<00:00, 71.53it/s]\n",
            "100%|██████████| 172/172 [00:01<00:00, 87.69it/s]\n"
          ]
        },
        {
          "output_type": "stream",
          "name": "stdout",
          "text": [
            "EPOCH -  4 . Train Accuracy =  0.8122631311416626 , Validation Accuracy =  0.7880607843399048\n",
            "Model Re-Saved\n"
          ]
        },
        {
          "output_type": "stream",
          "name": "stderr",
          "text": [
            "100%|██████████| 973/973 [00:13<00:00, 72.66it/s]\n",
            "100%|██████████| 172/172 [00:02<00:00, 84.77it/s]\n"
          ]
        },
        {
          "output_type": "stream",
          "name": "stdout",
          "text": [
            "EPOCH -  5 . Train Accuracy =  0.8280336856842041 , Validation Accuracy =  0.8132677674293518\n",
            "Model Re-Saved\n"
          ]
        },
        {
          "output_type": "stream",
          "name": "stderr",
          "text": [
            "100%|██████████| 973/973 [00:13<00:00, 72.80it/s]\n",
            "100%|██████████| 172/172 [00:02<00:00, 85.21it/s]\n"
          ]
        },
        {
          "output_type": "stream",
          "name": "stdout",
          "text": [
            "EPOCH -  6 . Train Accuracy =  0.8410580158233643 , Validation Accuracy =  0.814632773399353\n",
            "Model Re-Saved\n"
          ]
        },
        {
          "output_type": "stream",
          "name": "stderr",
          "text": [
            "100%|██████████| 973/973 [00:13<00:00, 69.72it/s]\n",
            "100%|██████████| 172/172 [00:02<00:00, 74.22it/s]\n"
          ]
        },
        {
          "output_type": "stream",
          "name": "stdout",
          "text": [
            "EPOCH -  7 . Train Accuracy =  0.8519143462181091 , Validation Accuracy =  0.8165438175201416\n",
            "Model Re-Saved\n"
          ]
        },
        {
          "output_type": "stream",
          "name": "stderr",
          "text": [
            "100%|██████████| 973/973 [00:13<00:00, 71.52it/s]\n",
            "100%|██████████| 172/172 [00:02<00:00, 84.22it/s]\n"
          ]
        },
        {
          "output_type": "stream",
          "name": "stdout",
          "text": [
            "EPOCH -  8 . Train Accuracy =  0.8590126633644104 , Validation Accuracy =  0.8244608044624329\n",
            "Model Re-Saved\n"
          ]
        },
        {
          "output_type": "stream",
          "name": "stderr",
          "text": [
            "100%|██████████| 973/973 [00:14<00:00, 68.04it/s]\n",
            "100%|██████████| 172/172 [00:01<00:00, 86.81it/s]\n"
          ]
        },
        {
          "output_type": "stream",
          "name": "stdout",
          "text": [
            "EPOCH -  9 . Train Accuracy =  0.8672512769699097 , Validation Accuracy =  0.8270087838172913\n",
            "Model Re-Saved\n"
          ]
        },
        {
          "output_type": "stream",
          "name": "stderr",
          "text": [
            "100%|██████████| 973/973 [00:13<00:00, 72.18it/s]\n",
            "100%|██████████| 172/172 [00:02<00:00, 64.64it/s]\n"
          ]
        },
        {
          "output_type": "stream",
          "name": "stdout",
          "text": [
            "EPOCH -  10 . Train Accuracy =  0.8765979409217834 , Validation Accuracy =  0.826826810836792\n"
          ]
        },
        {
          "output_type": "stream",
          "name": "stderr",
          "text": [
            "100%|██████████| 973/973 [00:13<00:00, 72.52it/s]\n",
            "100%|██████████| 172/172 [00:01<00:00, 86.33it/s]\n"
          ]
        },
        {
          "output_type": "stream",
          "name": "stdout",
          "text": [
            "EPOCH -  11 . Train Accuracy =  0.8835356831550598 , Validation Accuracy =  0.830193817615509\n",
            "Model Re-Saved\n"
          ]
        },
        {
          "output_type": "stream",
          "name": "stderr",
          "text": [
            "100%|██████████| 973/973 [00:13<00:00, 72.47it/s]\n",
            "100%|██████████| 172/172 [00:02<00:00, 83.25it/s]\n"
          ]
        },
        {
          "output_type": "stream",
          "name": "stdout",
          "text": [
            "EPOCH -  12 . Train Accuracy =  0.8903931379318237 , Validation Accuracy =  0.8355628252029419\n",
            "Model Re-Saved\n"
          ]
        },
        {
          "output_type": "stream",
          "name": "stderr",
          "text": [
            "100%|██████████| 973/973 [00:13<00:00, 72.11it/s]\n",
            "100%|██████████| 172/172 [00:02<00:00, 70.78it/s]\n"
          ]
        },
        {
          "output_type": "stream",
          "name": "stdout",
          "text": [
            "EPOCH -  13 . Train Accuracy =  0.8956125378608704 , Validation Accuracy =  0.8363817930221558\n",
            "Model Re-Saved\n"
          ]
        },
        {
          "output_type": "stream",
          "name": "stderr",
          "text": [
            "100%|██████████| 973/973 [00:13<00:00, 70.46it/s]\n",
            "100%|██████████| 172/172 [00:01<00:00, 86.94it/s]\n"
          ]
        },
        {
          "output_type": "stream",
          "name": "stdout",
          "text": [
            "EPOCH -  14 . Train Accuracy =  0.9007195234298706 , Validation Accuracy =  0.834561824798584\n"
          ]
        },
        {
          "output_type": "stream",
          "name": "stderr",
          "text": [
            "100%|██████████| 973/973 [00:13<00:00, 72.07it/s]\n",
            "100%|██████████| 172/172 [00:02<00:00, 85.65it/s]\n"
          ]
        },
        {
          "output_type": "stream",
          "name": "stdout",
          "text": [
            "EPOCH -  15 . Train Accuracy =  0.9070469737052917 , Validation Accuracy =  0.8356538414955139\n"
          ]
        },
        {
          "output_type": "stream",
          "name": "stderr",
          "text": [
            "100%|██████████| 973/973 [00:13<00:00, 72.38it/s]\n",
            "100%|██████████| 172/172 [00:01<00:00, 86.69it/s]\n"
          ]
        },
        {
          "output_type": "stream",
          "name": "stdout",
          "text": [
            "EPOCH -  16 . Train Accuracy =  0.9115918278694153 , Validation Accuracy =  0.8372918367385864\n",
            "Model Re-Saved\n"
          ]
        },
        {
          "output_type": "stream",
          "name": "stderr",
          "text": [
            "100%|██████████| 973/973 [00:13<00:00, 71.46it/s]\n",
            "100%|██████████| 172/172 [00:02<00:00, 65.74it/s]\n"
          ]
        },
        {
          "output_type": "stream",
          "name": "stdout",
          "text": [
            "EPOCH -  17 . Train Accuracy =  0.9160243272781372 , Validation Accuracy =  0.8383837938308716\n",
            "Model Re-Saved\n"
          ]
        },
        {
          "output_type": "stream",
          "name": "stderr",
          "text": [
            "100%|██████████| 973/973 [00:13<00:00, 72.45it/s]\n",
            "100%|██████████| 172/172 [00:02<00:00, 85.30it/s]\n"
          ]
        },
        {
          "output_type": "stream",
          "name": "stdout",
          "text": [
            "EPOCH -  18 . Train Accuracy =  0.9218860864639282 , Validation Accuracy =  0.845481812953949\n",
            "Model Re-Saved\n"
          ]
        },
        {
          "output_type": "stream",
          "name": "stderr",
          "text": [
            "100%|██████████| 973/973 [00:13<00:00, 71.10it/s]\n",
            "100%|██████████| 172/172 [00:02<00:00, 85.65it/s]\n"
          ]
        },
        {
          "output_type": "stream",
          "name": "stdout",
          "text": [
            "EPOCH -  19 . Train Accuracy =  0.9266397356987 , Validation Accuracy =  0.8436618447303772\n"
          ]
        },
        {
          "output_type": "stream",
          "name": "stderr",
          "text": [
            "100%|██████████| 973/973 [00:13<00:00, 71.93it/s]\n",
            "100%|██████████| 172/172 [00:02<00:00, 70.39it/s]\n"
          ]
        },
        {
          "output_type": "stream",
          "name": "stdout",
          "text": [
            "EPOCH -  20 . Train Accuracy =  0.9279405474662781 , Validation Accuracy =  0.8439348340034485\n"
          ]
        },
        {
          "output_type": "stream",
          "name": "stderr",
          "text": [
            "100%|██████████| 973/973 [00:13<00:00, 70.88it/s]\n",
            "100%|██████████| 172/172 [00:01<00:00, 86.25it/s]\n"
          ]
        },
        {
          "output_type": "stream",
          "name": "stdout",
          "text": [
            "EPOCH -  21 . Train Accuracy =  0.9340271353721619 , Validation Accuracy =  0.8418418169021606\n"
          ]
        },
        {
          "output_type": "stream",
          "name": "stderr",
          "text": [
            "100%|██████████| 973/973 [00:13<00:00, 71.55it/s]\n",
            "100%|██████████| 172/172 [00:02<00:00, 83.85it/s]\n"
          ]
        },
        {
          "output_type": "stream",
          "name": "stdout",
          "text": [
            "EPOCH -  22 . Train Accuracy =  0.9352797865867615 , Validation Accuracy =  0.8392028212547302\n"
          ]
        },
        {
          "output_type": "stream",
          "name": "stderr",
          "text": [
            "100%|██████████| 973/973 [00:14<00:00, 68.21it/s]\n",
            "100%|██████████| 172/172 [00:02<00:00, 79.28it/s]\n"
          ]
        },
        {
          "output_type": "stream",
          "name": "stdout",
          "text": [
            "EPOCH -  23 . Train Accuracy =  0.9389253258705139 , Validation Accuracy =  0.8382018208503723\n"
          ]
        },
        {
          "output_type": "stream",
          "name": "stderr",
          "text": [
            "100%|██████████| 973/973 [00:14<00:00, 66.81it/s]\n",
            "100%|██████████| 172/172 [00:01<00:00, 86.19it/s]\n"
          ]
        },
        {
          "output_type": "stream",
          "name": "stdout",
          "text": [
            "EPOCH -  24 . Train Accuracy =  0.9413985013961792 , Validation Accuracy =  0.8461188077926636\n",
            "Model Re-Saved\n"
          ]
        },
        {
          "output_type": "stream",
          "name": "stderr",
          "text": [
            "100%|██████████| 973/973 [00:13<00:00, 72.20it/s]\n",
            "100%|██████████| 172/172 [00:01<00:00, 87.48it/s]\n"
          ]
        },
        {
          "output_type": "stream",
          "name": "stdout",
          "text": [
            "EPOCH -  25 . Train Accuracy =  0.9454776644706726 , Validation Accuracy =  0.8427518010139465\n"
          ]
        },
        {
          "output_type": "stream",
          "name": "stderr",
          "text": [
            "100%|██████████| 973/973 [00:13<00:00, 72.81it/s]\n",
            "100%|██████████| 172/172 [00:01<00:00, 86.24it/s]\n"
          ]
        },
        {
          "output_type": "stream",
          "name": "stdout",
          "text": [
            "EPOCH -  26 . Train Accuracy =  0.946923017501831 , Validation Accuracy =  0.8398398160934448\n"
          ]
        },
        {
          "output_type": "stream",
          "name": "stderr",
          "text": [
            "100%|██████████| 973/973 [00:13<00:00, 72.01it/s]\n",
            "100%|██████████| 172/172 [00:02<00:00, 64.84it/s]\n"
          ]
        },
        {
          "output_type": "stream",
          "name": "stdout",
          "text": [
            "EPOCH -  27 . Train Accuracy =  0.9497013092041016 , Validation Accuracy =  0.8469378352165222\n",
            "Model Re-Saved\n"
          ]
        },
        {
          "output_type": "stream",
          "name": "stderr",
          "text": [
            "100%|██████████| 973/973 [00:13<00:00, 72.59it/s]\n",
            "100%|██████████| 172/172 [00:02<00:00, 84.39it/s]\n"
          ]
        },
        {
          "output_type": "stream",
          "name": "stdout",
          "text": [
            "EPOCH -  28 . Train Accuracy =  0.9507933855056763 , Validation Accuracy =  0.8373827934265137\n"
          ]
        },
        {
          "output_type": "stream",
          "name": "stderr",
          "text": [
            "100%|██████████| 973/973 [00:13<00:00, 72.38it/s]\n",
            "100%|██████████| 172/172 [00:02<00:00, 85.75it/s]\n"
          ]
        },
        {
          "output_type": "stream",
          "name": "stdout",
          "text": [
            "EPOCH -  29 . Train Accuracy =  0.9544067978858948 , Validation Accuracy =  0.8430248498916626\n"
          ]
        },
        {
          "output_type": "stream",
          "name": "stderr",
          "text": [
            "100%|██████████| 973/973 [00:13<00:00, 71.99it/s]\n",
            "100%|██████████| 172/172 [00:02<00:00, 76.40it/s]\n"
          ]
        },
        {
          "output_type": "stream",
          "name": "stdout",
          "text": [
            "EPOCH -  30 . Train Accuracy =  0.9543746709823608 , Validation Accuracy =  0.8434798121452332\n"
          ]
        },
        {
          "output_type": "stream",
          "name": "stderr",
          "text": [
            "100%|██████████| 973/973 [00:13<00:00, 70.48it/s]\n",
            "100%|██████████| 172/172 [00:02<00:00, 85.70it/s]\n"
          ]
        },
        {
          "output_type": "stream",
          "name": "stdout",
          "text": [
            "EPOCH -  31 . Train Accuracy =  0.9578917026519775 , Validation Accuracy =  0.8451178073883057\n"
          ]
        },
        {
          "output_type": "stream",
          "name": "stderr",
          "text": [
            "100%|██████████| 973/973 [00:13<00:00, 72.67it/s]\n",
            "100%|██████████| 172/172 [00:02<00:00, 84.50it/s]\n"
          ]
        },
        {
          "output_type": "stream",
          "name": "stdout",
          "text": [
            "EPOCH -  32 . Train Accuracy =  0.9591604471206665 , Validation Accuracy =  0.8373827934265137\n"
          ]
        },
        {
          "output_type": "stream",
          "name": "stderr",
          "text": [
            "100%|██████████| 973/973 [00:13<00:00, 72.58it/s]\n",
            "100%|██████████| 172/172 [00:01<00:00, 86.47it/s]\n"
          ]
        },
        {
          "output_type": "stream",
          "name": "stdout",
          "text": [
            "EPOCH -  33 . Train Accuracy =  0.9603970050811768 , Validation Accuracy =  0.8459368348121643\n"
          ]
        },
        {
          "output_type": "stream",
          "name": "stderr",
          "text": [
            "100%|██████████| 973/973 [00:13<00:00, 71.88it/s]\n",
            "100%|██████████| 172/172 [00:02<00:00, 63.16it/s]\n"
          ]
        },
        {
          "output_type": "stream",
          "name": "stdout",
          "text": [
            "EPOCH -  34 . Train Accuracy =  0.9607182145118713 , Validation Accuracy =  0.8468468189239502\n"
          ]
        },
        {
          "output_type": "stream",
          "name": "stderr",
          "text": [
            "100%|██████████| 973/973 [00:13<00:00, 71.45it/s]\n",
            "100%|██████████| 172/172 [00:01<00:00, 87.10it/s]\n"
          ]
        },
        {
          "output_type": "stream",
          "name": "stdout",
          "text": [
            "EPOCH -  35 . Train Accuracy =  0.9649097919464111 , Validation Accuracy =  0.8460278511047363\n"
          ]
        },
        {
          "output_type": "stream",
          "name": "stderr",
          "text": [
            "100%|██████████| 973/973 [00:13<00:00, 72.04it/s]\n",
            "100%|██████████| 172/172 [00:01<00:00, 87.07it/s]\n"
          ]
        },
        {
          "output_type": "stream",
          "name": "stdout",
          "text": [
            "EPOCH -  36 . Train Accuracy =  0.9632074236869812 , Validation Accuracy =  0.8503048419952393\n",
            "Model Re-Saved\n"
          ]
        },
        {
          "output_type": "stream",
          "name": "stderr",
          "text": [
            "100%|██████████| 973/973 [00:14<00:00, 68.73it/s]\n",
            "100%|██████████| 172/172 [00:02<00:00, 66.91it/s]\n"
          ]
        },
        {
          "output_type": "stream",
          "name": "stdout",
          "text": [
            "EPOCH -  37 . Train Accuracy =  0.9660981893539429 , Validation Accuracy =  0.8485758304595947\n"
          ]
        },
        {
          "output_type": "stream",
          "name": "stderr",
          "text": [
            "100%|██████████| 973/973 [00:13<00:00, 71.23it/s]\n",
            "100%|██████████| 172/172 [00:02<00:00, 85.56it/s]\n"
          ]
        },
        {
          "output_type": "stream",
          "name": "stdout",
          "text": [
            "EPOCH -  38 . Train Accuracy =  0.9671420454978943 , Validation Accuracy =  0.8491218090057373\n"
          ]
        },
        {
          "output_type": "stream",
          "name": "stderr",
          "text": [
            "100%|██████████| 973/973 [00:13<00:00, 70.67it/s]\n",
            "100%|██████████| 172/172 [00:02<00:00, 83.78it/s]\n"
          ]
        },
        {
          "output_type": "stream",
          "name": "stdout",
          "text": [
            "EPOCH -  39 . Train Accuracy =  0.9669493436813354 , Validation Accuracy =  0.8501228094100952\n"
          ]
        },
        {
          "output_type": "stream",
          "name": "stderr",
          "text": [
            "100%|██████████| 973/973 [00:14<00:00, 69.36it/s]\n",
            "100%|██████████| 172/172 [00:02<00:00, 73.17it/s]\n"
          ]
        },
        {
          "output_type": "stream",
          "name": "stdout",
          "text": [
            "EPOCH -  40 . Train Accuracy =  0.9687159061431885 , Validation Accuracy =  0.8431158065795898\n"
          ]
        },
        {
          "output_type": "stream",
          "name": "stderr",
          "text": [
            "100%|██████████| 973/973 [00:14<00:00, 68.22it/s]\n",
            "100%|██████████| 172/172 [00:02<00:00, 84.05it/s]\n"
          ]
        },
        {
          "output_type": "stream",
          "name": "stdout",
          "text": [
            "EPOCH -  41 . Train Accuracy =  0.9698561429977417 , Validation Accuracy =  0.8446628451347351\n"
          ]
        },
        {
          "output_type": "stream",
          "name": "stderr",
          "text": [
            "100%|██████████| 973/973 [00:13<00:00, 71.13it/s]\n",
            "100%|██████████| 172/172 [00:02<00:00, 85.20it/s]\n"
          ]
        },
        {
          "output_type": "stream",
          "name": "stdout",
          "text": [
            "EPOCH -  42 . Train Accuracy =  0.9709963798522949 , Validation Accuracy =  0.8381108045578003\n"
          ]
        },
        {
          "output_type": "stream",
          "name": "stderr",
          "text": [
            "100%|██████████| 973/973 [00:13<00:00, 71.73it/s]\n",
            "100%|██████████| 172/172 [00:02<00:00, 83.75it/s]\n"
          ]
        },
        {
          "output_type": "stream",
          "name": "stdout",
          "text": [
            "EPOCH -  43 . Train Accuracy =  0.9707233309745789 , Validation Accuracy =  0.8452088236808777\n"
          ]
        },
        {
          "output_type": "stream",
          "name": "stderr",
          "text": [
            "100%|██████████| 973/973 [00:13<00:00, 69.71it/s]\n",
            "100%|██████████| 172/172 [00:02<00:00, 71.84it/s]\n"
          ]
        },
        {
          "output_type": "stream",
          "name": "stdout",
          "text": [
            "EPOCH -  44 . Train Accuracy =  0.9729716777801514 , Validation Accuracy =  0.8503048419952393\n"
          ]
        },
        {
          "output_type": "stream",
          "name": "stderr",
          "text": [
            "100%|██████████| 973/973 [00:13<00:00, 71.27it/s]\n",
            "100%|██████████| 172/172 [00:02<00:00, 82.51it/s]\n"
          ]
        },
        {
          "output_type": "stream",
          "name": "stdout",
          "text": [
            "EPOCH -  45 . Train Accuracy =  0.9734213948249817 , Validation Accuracy =  0.848848819732666\n"
          ]
        },
        {
          "output_type": "stream",
          "name": "stderr",
          "text": [
            "100%|██████████| 973/973 [00:13<00:00, 70.41it/s]\n",
            "100%|██████████| 172/172 [00:02<00:00, 83.32it/s]\n"
          ]
        },
        {
          "output_type": "stream",
          "name": "stdout",
          "text": [
            "EPOCH -  46 . Train Accuracy =  0.974192202091217 , Validation Accuracy =  0.8444808125495911\n"
          ]
        },
        {
          "output_type": "stream",
          "name": "stderr",
          "text": [
            "100%|██████████| 973/973 [00:13<00:00, 71.94it/s]\n",
            "100%|██████████| 172/172 [00:02<00:00, 62.79it/s]\n"
          ]
        },
        {
          "output_type": "stream",
          "name": "stdout",
          "text": [
            "EPOCH -  47 . Train Accuracy =  0.9739031791687012 , Validation Accuracy =  0.8447538018226624\n"
          ]
        },
        {
          "output_type": "stream",
          "name": "stderr",
          "text": [
            "100%|██████████| 973/973 [00:13<00:00, 72.02it/s]\n",
            "100%|██████████| 172/172 [00:02<00:00, 85.59it/s]\n"
          ]
        },
        {
          "output_type": "stream",
          "name": "stdout",
          "text": [
            "EPOCH -  48 . Train Accuracy =  0.9751397371292114 , Validation Accuracy =  0.8475748300552368\n"
          ]
        },
        {
          "output_type": "stream",
          "name": "stderr",
          "text": [
            "100%|██████████| 973/973 [00:13<00:00, 72.16it/s]\n",
            "100%|██████████| 172/172 [00:02<00:00, 84.64it/s]\n"
          ]
        },
        {
          "output_type": "stream",
          "name": "stdout",
          "text": [
            "EPOCH -  49 . Train Accuracy =  0.9753164052963257 , Validation Accuracy =  0.8386568427085876\n"
          ]
        },
        {
          "output_type": "stream",
          "name": "stderr",
          "text": [
            "100%|██████████| 973/973 [00:13<00:00, 71.37it/s]\n",
            "100%|██████████| 172/172 [00:02<00:00, 78.27it/s]\n"
          ]
        },
        {
          "output_type": "stream",
          "name": "stdout",
          "text": [
            "EPOCH -  50 . Train Accuracy =  0.9765529632568359 , Validation Accuracy =  0.8523978590965271\n",
            "Model Re-Saved\n"
          ]
        },
        {
          "output_type": "stream",
          "name": "stderr",
          "text": [
            "100%|██████████| 973/973 [00:14<00:00, 68.74it/s]\n",
            "100%|██████████| 172/172 [00:02<00:00, 63.37it/s]\n"
          ]
        },
        {
          "output_type": "stream",
          "name": "stdout",
          "text": [
            "EPOCH -  51 . Train Accuracy =  0.9765850901603699 , Validation Accuracy =  0.8473018407821655\n"
          ]
        },
        {
          "output_type": "stream",
          "name": "stderr",
          "text": [
            "100%|██████████| 973/973 [00:13<00:00, 71.78it/s]\n",
            "100%|██████████| 172/172 [00:01<00:00, 86.45it/s]\n"
          ]
        },
        {
          "output_type": "stream",
          "name": "stdout",
          "text": [
            "EPOCH -  52 . Train Accuracy =  0.9779662489891052 , Validation Accuracy =  0.842205822467804\n"
          ]
        },
        {
          "output_type": "stream",
          "name": "stderr",
          "text": [
            "100%|██████████| 973/973 [00:13<00:00, 72.49it/s]\n",
            "100%|██████████| 172/172 [00:02<00:00, 84.73it/s]\n"
          ]
        },
        {
          "output_type": "stream",
          "name": "stdout",
          "text": [
            "EPOCH -  53 . Train Accuracy =  0.9784159064292908 , Validation Accuracy =  0.848848819732666\n"
          ]
        },
        {
          "output_type": "stream",
          "name": "stderr",
          "text": [
            "100%|██████████| 973/973 [00:13<00:00, 69.91it/s]\n",
            "100%|██████████| 172/172 [00:02<00:00, 73.69it/s]\n"
          ]
        },
        {
          "output_type": "stream",
          "name": "stdout",
          "text": [
            "EPOCH -  54 . Train Accuracy =  0.9789458513259888 , Validation Accuracy =  0.8482118248939514\n"
          ]
        },
        {
          "output_type": "stream",
          "name": "stderr",
          "text": [
            "100%|██████████| 973/973 [00:13<00:00, 71.84it/s]\n",
            "100%|██████████| 172/172 [00:02<00:00, 85.21it/s]\n"
          ]
        },
        {
          "output_type": "stream",
          "name": "stdout",
          "text": [
            "EPOCH -  55 . Train Accuracy =  0.9798130989074707 , Validation Accuracy =  0.8452088236808777\n"
          ]
        },
        {
          "output_type": "stream",
          "name": "stderr",
          "text": [
            "100%|██████████| 973/973 [00:13<00:00, 72.31it/s]\n",
            "100%|██████████| 172/172 [00:01<00:00, 86.20it/s]\n"
          ]
        },
        {
          "output_type": "stream",
          "name": "stdout",
          "text": [
            "EPOCH -  56 . Train Accuracy =  0.9798130989074707 , Validation Accuracy =  0.8472108244895935\n"
          ]
        },
        {
          "output_type": "stream",
          "name": "stderr",
          "text": [
            "100%|██████████| 973/973 [00:13<00:00, 71.68it/s]\n",
            "100%|██████████| 172/172 [00:02<00:00, 62.92it/s]\n"
          ]
        },
        {
          "output_type": "stream",
          "name": "stdout",
          "text": [
            "EPOCH -  57 . Train Accuracy =  0.9799415469169617 , Validation Accuracy =  0.8482118248939514\n"
          ]
        },
        {
          "output_type": "stream",
          "name": "stderr",
          "text": [
            "100%|██████████| 973/973 [00:13<00:00, 71.87it/s]\n",
            "100%|██████████| 172/172 [00:02<00:00, 85.12it/s]\n"
          ]
        },
        {
          "output_type": "stream",
          "name": "stdout",
          "text": [
            "EPOCH -  58 . Train Accuracy =  0.9802788496017456 , Validation Accuracy =  0.8449358344078064\n"
          ]
        },
        {
          "output_type": "stream",
          "name": "stderr",
          "text": [
            "100%|██████████| 973/973 [00:13<00:00, 71.59it/s]\n",
            "100%|██████████| 172/172 [00:02<00:00, 84.40it/s]\n"
          ]
        },
        {
          "output_type": "stream",
          "name": "stdout",
          "text": [
            "EPOCH -  59 . Train Accuracy =  0.9821577668190002 , Validation Accuracy =  0.8470288515090942\n"
          ]
        },
        {
          "output_type": "stream",
          "name": "stderr",
          "text": [
            "100%|██████████| 973/973 [00:13<00:00, 71.08it/s]\n",
            "100%|██████████| 172/172 [00:02<00:00, 77.58it/s]\n"
          ]
        },
        {
          "output_type": "stream",
          "name": "stdout",
          "text": [
            "EPOCH -  60 . Train Accuracy =  0.9815314412117004 , Validation Accuracy =  0.845481812953949\n"
          ]
        },
        {
          "output_type": "stream",
          "name": "stderr",
          "text": [
            "100%|██████████| 973/973 [00:13<00:00, 69.53it/s]\n",
            "100%|██████████| 172/172 [00:02<00:00, 85.18it/s]\n"
          ]
        },
        {
          "output_type": "stream",
          "name": "stdout",
          "text": [
            "EPOCH -  61 . Train Accuracy =  0.9804554581642151 , Validation Accuracy =  0.8432978391647339\n"
          ]
        },
        {
          "output_type": "stream",
          "name": "stderr",
          "text": [
            "100%|██████████| 973/973 [00:13<00:00, 70.70it/s]\n",
            "100%|██████████| 172/172 [00:02<00:00, 83.80it/s]\n"
          ]
        },
        {
          "output_type": "stream",
          "name": "stdout",
          "text": [
            "EPOCH -  62 . Train Accuracy =  0.981852650642395 , Validation Accuracy =  0.8459368348121643\n"
          ]
        },
        {
          "output_type": "stream",
          "name": "stderr",
          "text": [
            "100%|██████████| 973/973 [00:13<00:00, 71.88it/s]\n",
            "100%|██████████| 172/172 [00:01<00:00, 86.48it/s]\n"
          ]
        },
        {
          "output_type": "stream",
          "name": "stdout",
          "text": [
            "EPOCH -  63 . Train Accuracy =  0.9831855893135071 , Validation Accuracy =  0.8510328531265259\n"
          ]
        },
        {
          "output_type": "stream",
          "name": "stderr",
          "text": [
            "100%|██████████| 973/973 [00:13<00:00, 70.49it/s]\n",
            "100%|██████████| 172/172 [00:02<00:00, 67.39it/s]\n"
          ]
        },
        {
          "output_type": "stream",
          "name": "stdout",
          "text": [
            "EPOCH -  64 . Train Accuracy =  0.9816759824752808 , Validation Accuracy =  0.8417508006095886\n"
          ]
        },
        {
          "output_type": "stream",
          "name": "stderr",
          "text": [
            "100%|██████████| 973/973 [00:13<00:00, 70.94it/s]\n",
            "100%|██████████| 172/172 [00:02<00:00, 83.63it/s]\n"
          ]
        },
        {
          "output_type": "stream",
          "name": "stdout",
          "text": [
            "EPOCH -  65 . Train Accuracy =  0.9840367436408997 , Validation Accuracy =  0.8452998399734497\n"
          ]
        },
        {
          "output_type": "stream",
          "name": "stderr",
          "text": [
            "100%|██████████| 973/973 [00:14<00:00, 67.38it/s]\n",
            "100%|██████████| 172/172 [00:02<00:00, 85.63it/s]\n"
          ]
        },
        {
          "output_type": "stream",
          "name": "stdout",
          "text": [
            "EPOCH -  66 . Train Accuracy =  0.9832016825675964 , Validation Accuracy =  0.8468468189239502\n"
          ]
        },
        {
          "output_type": "stream",
          "name": "stderr",
          "text": [
            "100%|██████████| 973/973 [00:13<00:00, 71.35it/s]\n",
            "100%|██████████| 172/172 [00:02<00:00, 61.75it/s]\n"
          ]
        },
        {
          "output_type": "stream",
          "name": "stdout",
          "text": [
            "EPOCH -  67 . Train Accuracy =  0.9842295050621033 , Validation Accuracy =  0.852124810218811\n"
          ]
        },
        {
          "output_type": "stream",
          "name": "stderr",
          "text": [
            "100%|██████████| 973/973 [00:13<00:00, 71.62it/s]\n",
            "100%|██████████| 172/172 [00:02<00:00, 85.65it/s]\n"
          ]
        },
        {
          "output_type": "stream",
          "name": "stdout",
          "text": [
            "EPOCH -  68 . Train Accuracy =  0.9838280081748962 , Validation Accuracy =  0.844389796257019\n"
          ]
        },
        {
          "output_type": "stream",
          "name": "stderr",
          "text": [
            "100%|██████████| 973/973 [00:13<00:00, 72.25it/s]\n",
            "100%|██████████| 172/172 [00:02<00:00, 85.53it/s]\n"
          ]
        },
        {
          "output_type": "stream",
          "name": "stdout",
          "text": [
            "EPOCH -  69 . Train Accuracy =  0.9842295050621033 , Validation Accuracy =  0.8507598042488098\n"
          ]
        },
        {
          "output_type": "stream",
          "name": "stderr",
          "text": [
            "100%|██████████| 973/973 [00:13<00:00, 71.72it/s]\n",
            "100%|██████████| 172/172 [00:02<00:00, 74.96it/s]\n"
          ]
        },
        {
          "output_type": "stream",
          "name": "stdout",
          "text": [
            "EPOCH -  70 . Train Accuracy =  0.9868472218513489 , Validation Accuracy =  0.8493038415908813\n"
          ]
        },
        {
          "output_type": "stream",
          "name": "stderr",
          "text": [
            "100%|██████████| 973/973 [00:14<00:00, 69.41it/s]\n",
            "100%|██████████| 172/172 [00:01<00:00, 86.24it/s]\n"
          ]
        },
        {
          "output_type": "stream",
          "name": "stdout",
          "text": [
            "EPOCH -  71 . Train Accuracy =  0.9834907650947571 , Validation Accuracy =  0.848757803440094\n"
          ]
        },
        {
          "output_type": "stream",
          "name": "stderr",
          "text": [
            "100%|██████████| 973/973 [00:13<00:00, 71.91it/s]\n",
            "100%|██████████| 172/172 [00:02<00:00, 85.20it/s]\n"
          ]
        },
        {
          "output_type": "stream",
          "name": "stdout",
          "text": [
            "EPOCH -  72 . Train Accuracy =  0.9853215217590332 , Validation Accuracy =  0.8445718288421631\n"
          ]
        },
        {
          "output_type": "stream",
          "name": "stderr",
          "text": [
            "100%|██████████| 973/973 [00:13<00:00, 71.12it/s]\n",
            "100%|██████████| 172/172 [00:01<00:00, 86.61it/s]\n"
          ]
        },
        {
          "output_type": "stream",
          "name": "stdout",
          "text": [
            "EPOCH -  73 . Train Accuracy =  0.9852412343025208 , Validation Accuracy =  0.8468468189239502\n"
          ]
        },
        {
          "output_type": "stream",
          "name": "stderr",
          "text": [
            "100%|██████████| 973/973 [00:13<00:00, 70.72it/s]\n",
            "100%|██████████| 172/172 [00:02<00:00, 69.09it/s]\n"
          ]
        },
        {
          "output_type": "stream",
          "name": "stdout",
          "text": [
            "EPOCH -  74 . Train Accuracy =  0.9861406087875366 , Validation Accuracy =  0.8529438376426697\n",
            "Model Re-Saved\n"
          ]
        },
        {
          "output_type": "stream",
          "name": "stderr",
          "text": [
            "100%|██████████| 973/973 [00:13<00:00, 71.46it/s]\n",
            "100%|██████████| 172/172 [00:01<00:00, 86.57it/s]\n"
          ]
        },
        {
          "output_type": "stream",
          "name": "stdout",
          "text": [
            "EPOCH -  75 . Train Accuracy =  0.9855303168296814 , Validation Accuracy =  0.850031852722168\n"
          ]
        },
        {
          "output_type": "stream",
          "name": "stderr",
          "text": [
            "100%|██████████| 973/973 [00:13<00:00, 72.12it/s]\n",
            "100%|██████████| 172/172 [00:02<00:00, 85.96it/s]\n"
          ]
        },
        {
          "output_type": "stream",
          "name": "stdout",
          "text": [
            "EPOCH -  76 . Train Accuracy =  0.9872487187385559 , Validation Accuracy =  0.8470288515090942\n"
          ]
        },
        {
          "output_type": "stream",
          "name": "stderr",
          "text": [
            "100%|██████████| 973/973 [00:13<00:00, 71.02it/s]\n",
            "100%|██████████| 172/172 [00:02<00:00, 68.10it/s]\n"
          ]
        },
        {
          "output_type": "stream",
          "name": "stdout",
          "text": [
            "EPOCH -  77 . Train Accuracy =  0.9864778518676758 , Validation Accuracy =  0.8473928570747375\n"
          ]
        },
        {
          "output_type": "stream",
          "name": "stderr",
          "text": [
            "100%|██████████| 973/973 [00:13<00:00, 70.66it/s]\n",
            "100%|██████████| 172/172 [00:02<00:00, 85.11it/s]\n"
          ]
        },
        {
          "output_type": "stream",
          "name": "stdout",
          "text": [
            "EPOCH -  78 . Train Accuracy =  0.9871202111244202 , Validation Accuracy =  0.8432978391647339\n"
          ]
        },
        {
          "output_type": "stream",
          "name": "stderr",
          "text": [
            "100%|██████████| 973/973 [00:13<00:00, 71.17it/s]\n",
            "100%|██████████| 172/172 [00:01<00:00, 86.01it/s]\n"
          ]
        },
        {
          "output_type": "stream",
          "name": "stdout",
          "text": [
            "EPOCH -  79 . Train Accuracy =  0.9864778518676758 , Validation Accuracy =  0.8502138257026672\n"
          ]
        },
        {
          "output_type": "stream",
          "name": "stderr",
          "text": [
            "100%|██████████| 973/973 [00:14<00:00, 68.08it/s]\n",
            "100%|██████████| 172/172 [00:02<00:00, 73.95it/s]\n"
          ]
        },
        {
          "output_type": "stream",
          "name": "stdout",
          "text": [
            "EPOCH -  80 . Train Accuracy =  0.9870559573173523 , Validation Accuracy =  0.8430248498916626\n"
          ]
        },
        {
          "output_type": "stream",
          "name": "stderr",
          "text": [
            "100%|██████████| 973/973 [00:13<00:00, 69.84it/s]\n",
            "100%|██████████| 172/172 [00:02<00:00, 85.27it/s]\n"
          ]
        },
        {
          "output_type": "stream",
          "name": "stdout",
          "text": [
            "EPOCH -  81 . Train Accuracy =  0.9876501560211182 , Validation Accuracy =  0.8501228094100952\n"
          ]
        },
        {
          "output_type": "stream",
          "name": "stderr",
          "text": [
            "100%|██████████| 973/973 [00:13<00:00, 71.39it/s]\n",
            "100%|██████████| 172/172 [00:02<00:00, 85.48it/s]\n"
          ]
        },
        {
          "output_type": "stream",
          "name": "stdout",
          "text": [
            "EPOCH -  82 . Train Accuracy =  0.9874253273010254 , Validation Accuracy =  0.8485758304595947\n"
          ]
        },
        {
          "output_type": "stream",
          "name": "stderr",
          "text": [
            "100%|██████████| 973/973 [00:13<00:00, 71.62it/s]\n",
            "100%|██████████| 172/172 [00:02<00:00, 84.26it/s]\n"
          ]
        },
        {
          "output_type": "stream",
          "name": "stdout",
          "text": [
            "EPOCH -  83 . Train Accuracy =  0.9873450398445129 , Validation Accuracy =  0.853398859500885\n",
            "Model Re-Saved\n"
          ]
        },
        {
          "output_type": "stream",
          "name": "stderr",
          "text": [
            "100%|██████████| 973/973 [00:13<00:00, 69.58it/s]\n",
            "100%|██████████| 172/172 [00:02<00:00, 70.89it/s]\n"
          ]
        },
        {
          "output_type": "stream",
          "name": "stdout",
          "text": [
            "EPOCH -  84 . Train Accuracy =  0.987312912940979 , Validation Accuracy =  0.8450268507003784\n"
          ]
        },
        {
          "output_type": "stream",
          "name": "stderr",
          "text": [
            "100%|██████████| 973/973 [00:13<00:00, 70.39it/s]\n",
            "100%|██████████| 172/172 [00:02<00:00, 82.79it/s]\n"
          ]
        },
        {
          "output_type": "stream",
          "name": "stdout",
          "text": [
            "EPOCH -  85 . Train Accuracy =  0.9873611330986023 , Validation Accuracy =  0.8493948578834534\n"
          ]
        },
        {
          "output_type": "stream",
          "name": "stderr",
          "text": [
            "100%|██████████| 973/973 [00:13<00:00, 71.77it/s]\n",
            "100%|██████████| 172/172 [00:02<00:00, 85.58it/s]\n"
          ]
        },
        {
          "output_type": "stream",
          "name": "stdout",
          "text": [
            "EPOCH -  86 . Train Accuracy =  0.9878589510917664 , Validation Accuracy =  0.8484848141670227\n"
          ]
        },
        {
          "output_type": "stream",
          "name": "stderr",
          "text": [
            "100%|██████████| 973/973 [00:13<00:00, 71.44it/s]\n",
            "100%|██████████| 172/172 [00:02<00:00, 63.00it/s]\n"
          ]
        },
        {
          "output_type": "stream",
          "name": "stdout",
          "text": [
            "EPOCH -  87 . Train Accuracy =  0.9885013699531555 , Validation Accuracy =  0.8438438177108765\n"
          ]
        },
        {
          "output_type": "stream",
          "name": "stderr",
          "text": [
            "100%|██████████| 973/973 [00:13<00:00, 71.25it/s]\n",
            "100%|██████████| 172/172 [00:02<00:00, 82.85it/s]\n"
          ]
        },
        {
          "output_type": "stream",
          "name": "stdout",
          "text": [
            "EPOCH -  88 . Train Accuracy =  0.9891597628593445 , Validation Accuracy =  0.8504868149757385\n"
          ]
        },
        {
          "output_type": "stream",
          "name": "stderr",
          "text": [
            "100%|██████████| 973/973 [00:13<00:00, 71.05it/s]\n",
            "100%|██████████| 172/172 [00:02<00:00, 79.54it/s]\n"
          ]
        },
        {
          "output_type": "stream",
          "name": "stdout",
          "text": [
            "EPOCH -  89 . Train Accuracy =  0.9869435429573059 , Validation Accuracy =  0.8463008403778076\n"
          ]
        },
        {
          "output_type": "stream",
          "name": "stderr",
          "text": [
            "100%|██████████| 973/973 [00:13<00:00, 71.82it/s]\n",
            "100%|██████████| 172/172 [00:02<00:00, 69.80it/s]\n"
          ]
        },
        {
          "output_type": "stream",
          "name": "stdout",
          "text": [
            "EPOCH -  90 . Train Accuracy =  0.9897058010101318 , Validation Accuracy =  0.8494858145713806\n"
          ]
        },
        {
          "output_type": "stream",
          "name": "stderr",
          "text": [
            "100%|██████████| 973/973 [00:13<00:00, 70.36it/s]\n",
            "100%|██████████| 172/172 [00:01<00:00, 86.34it/s]\n"
          ]
        },
        {
          "output_type": "stream",
          "name": "stdout",
          "text": [
            "EPOCH -  91 . Train Accuracy =  0.9885174036026001 , Validation Accuracy =  0.8491218090057373\n"
          ]
        },
        {
          "output_type": "stream",
          "name": "stderr",
          "text": [
            "100%|██████████| 973/973 [00:13<00:00, 71.57it/s]\n",
            "100%|██████████| 172/172 [00:02<00:00, 84.78it/s]\n"
          ]
        },
        {
          "output_type": "stream",
          "name": "stdout",
          "text": [
            "EPOCH -  92 . Train Accuracy =  0.9894328117370605 , Validation Accuracy =  0.8491218090057373\n"
          ]
        },
        {
          "output_type": "stream",
          "name": "stderr",
          "text": [
            "100%|██████████| 973/973 [00:13<00:00, 71.97it/s]\n",
            "100%|██████████| 172/172 [00:02<00:00, 84.14it/s]\n"
          ]
        },
        {
          "output_type": "stream",
          "name": "stdout",
          "text": [
            "EPOCH -  93 . Train Accuracy =  0.9896094799041748 , Validation Accuracy =  0.8501228094100952\n"
          ]
        },
        {
          "output_type": "stream",
          "name": "stderr",
          "text": [
            "100%|██████████| 973/973 [00:14<00:00, 64.98it/s]\n",
            "100%|██████████| 172/172 [00:02<00:00, 81.86it/s]\n"
          ]
        },
        {
          "output_type": "stream",
          "name": "stdout",
          "text": [
            "EPOCH -  94 . Train Accuracy =  0.9901554584503174 , Validation Accuracy =  0.8469378352165222\n"
          ]
        },
        {
          "output_type": "stream",
          "name": "stderr",
          "text": [
            "100%|██████████| 973/973 [00:13<00:00, 70.88it/s]\n",
            "100%|██████████| 172/172 [00:02<00:00, 83.20it/s]\n"
          ]
        },
        {
          "output_type": "stream",
          "name": "stdout",
          "text": [
            "EPOCH -  95 . Train Accuracy =  0.9894328117370605 , Validation Accuracy =  0.845481812953949\n"
          ]
        },
        {
          "output_type": "stream",
          "name": "stderr",
          "text": [
            "100%|██████████| 973/973 [00:13<00:00, 70.67it/s]\n",
            "100%|██████████| 172/172 [00:02<00:00, 85.41it/s]\n"
          ]
        },
        {
          "output_type": "stream",
          "name": "stdout",
          "text": [
            "EPOCH -  96 . Train Accuracy =  0.9897058010101318 , Validation Accuracy =  0.8430248498916626\n"
          ]
        },
        {
          "output_type": "stream",
          "name": "stderr",
          "text": [
            "100%|██████████| 973/973 [00:13<00:00, 70.69it/s]\n",
            "100%|██████████| 172/172 [00:02<00:00, 67.54it/s]\n"
          ]
        },
        {
          "output_type": "stream",
          "name": "stdout",
          "text": [
            "EPOCH -  97 . Train Accuracy =  0.989111602306366 , Validation Accuracy =  0.8529438376426697\n"
          ]
        },
        {
          "output_type": "stream",
          "name": "stderr",
          "text": [
            "100%|██████████| 973/973 [00:13<00:00, 71.44it/s]\n",
            "100%|██████████| 172/172 [00:02<00:00, 85.29it/s]\n"
          ]
        },
        {
          "output_type": "stream",
          "name": "stdout",
          "text": [
            "EPOCH -  98 . Train Accuracy =  0.9898824691772461 , Validation Accuracy =  0.8492128252983093\n"
          ]
        },
        {
          "output_type": "stream",
          "name": "stderr",
          "text": [
            "100%|██████████| 973/973 [00:13<00:00, 71.82it/s]\n",
            "100%|██████████| 172/172 [00:02<00:00, 85.27it/s]\n"
          ]
        },
        {
          "output_type": "stream",
          "name": "stdout",
          "text": [
            "EPOCH -  99 . Train Accuracy =  0.9911672472953796 , Validation Accuracy =  0.8502138257026672\n"
          ]
        },
        {
          "output_type": "stream",
          "name": "stderr",
          "text": [
            "100%|██████████| 973/973 [00:13<00:00, 70.81it/s]\n",
            "100%|██████████| 172/172 [00:02<00:00, 66.80it/s]\n"
          ]
        },
        {
          "output_type": "stream",
          "name": "stdout",
          "text": [
            "EPOCH -  100 . Train Accuracy =  0.9893043041229248 , Validation Accuracy =  0.848757803440094\n",
            "\n"
          ]
        },
        {
          "output_type": "stream",
          "name": "stderr",
          "text": [
            "100%|██████████| 973/973 [00:12<00:00, 80.60it/s]\n"
          ]
        },
        {
          "output_type": "stream",
          "name": "stdout",
          "text": [
            "Train Accuracy =  0.9911832809448242\n"
          ]
        },
        {
          "output_type": "stream",
          "name": "stderr",
          "text": [
            "100%|██████████| 407/407 [00:04<00:00, 82.27it/s]"
          ]
        },
        {
          "output_type": "stream",
          "name": "stdout",
          "text": [
            "Test Accuracy =  0.8196834325790405\n",
            "Generalization Gap =  0.1714998483657837\n"
          ]
        },
        {
          "output_type": "stream",
          "name": "stderr",
          "text": [
            "\n"
          ]
        }
      ]
    }
  ]
}