{
  "nbformat": 4,
  "nbformat_minor": 0,
  "metadata": {
    "colab": {
      "provenance": [],
      "gpuType": "T4"
    },
    "kernelspec": {
      "name": "python3",
      "display_name": "Python 3"
    },
    "language_info": {
      "name": "python"
    },
    "gpuClass": "standard",
    "accelerator": "GPU"
  },
  "cells": [
    {
      "cell_type": "code",
      "execution_count": null,
      "metadata": {
        "id": "JiSUo3t_qZmX"
      },
      "outputs": [],
      "source": [
        "import torch\n",
        "import torch.nn as nn\n",
        "import torchvision\n",
        "from torchvision import datasets\n",
        "from torchvision import transforms\n",
        "\n",
        "import numpy as np\n",
        "from tqdm import tqdm\n",
        "import math\n",
        "\n",
        "import random\n",
        "\n",
        "import matplotlib.pyplot as plt"
      ]
    },
    {
      "cell_type": "code",
      "source": [
        "transform = transforms.Compose([\n",
        "                    transforms.ToTensor(), \n",
        "                    # transforms.Normalize((0.5,), (0.5,)),\n",
        "            ])\n",
        "\n",
        "RandPercent = 0\n",
        "def randomLabels(y):\n",
        "    if random.random() <= RandPercent:\n",
        "        return random.randint(0,9)\n",
        "    return y"
      ],
      "metadata": {
        "id": "ziexsFs4tr1v"
      },
      "execution_count": null,
      "outputs": []
    },
    {
      "cell_type": "code",
      "source": [
        "def CreateDataLoaders(Option, p_BatchSize, RandomNoisePerc = None):\n",
        "    if Option == 1:\n",
        "        train_dataset = datasets.MNIST(\"./\", train=True, transform = transform, download=True)\n",
        "        train_subset, val_subset = torch.utils.data.random_split(train_dataset, [int(len(train_dataset) * 0.85), int(len(train_dataset) * 0.15)], generator=torch.Generator().manual_seed(1))\n",
        "        test_dataset = datasets.MNIST(\"./\", train=False, transform = transform, download=True)\n",
        "    elif Option == 2:\n",
        "        train_dataset = datasets.FashionMNIST(\"./\", train=True, transform = transform, download=True)\n",
        "        train_subset, val_subset = torch.utils.data.random_split(train_dataset, [int(len(train_dataset) * 0.85), int(len(train_dataset) * 0.15)], generator=torch.Generator().manual_seed(1))\n",
        "        test_dataset = datasets.FashionMNIST(\"./\", train=False, transform = transform, download=True)\n",
        "    \n",
        "    elif Option == 5:\n",
        "        train_dataset = datasets.CIFAR10(\"./\", train=True, transform = transform, download=True)\n",
        "        train_subset, val_subset = torch.utils.data.random_split(train_dataset, [int(len(train_dataset) * 0.85), int(len(train_dataset) * 0.15)], generator=torch.Generator().manual_seed(1))\n",
        "        test_dataset = datasets.CIFAR10(\"./\", train=False, transform = transform, download=True)\n",
        "\n",
        "    elif Option == 6:\n",
        "        train_dataset = datasets.CIFAR100(\"./\", train=True, transform = transform, download=True)\n",
        "        train_subset, val_subset = torch.utils.data.random_split(train_dataset, [int(len(train_dataset) * 0.85), int(len(train_dataset) * 0.15)], generator=torch.Generator().manual_seed(1))\n",
        "        test_dataset = datasets.CIFAR100(\"./\", train=False, transform = transform, download=True)\n",
        "\n",
        "    elif Option == 7:\n",
        "        RandPercent = RandomNoisePerc\n",
        "        train_dataset = datasets.CIFAR10(\"./\", train=True, transform = transform, target_transform = randomLabels, download=True)\n",
        "        train_subset, val_subset = torch.utils.data.random_split(train_dataset, [int(len(train_dataset) * 0.85), int(len(train_dataset) * 0.15)], generator=torch.Generator().manual_seed(1))\n",
        "        test_dataset = datasets.CIFAR10(\"./\", train=False, transform = transform, download=True)\n",
        "    \n",
        "    Train_DataLoader = torch.utils.data.DataLoader(train_subset, batch_size = p_BatchSize, shuffle = True)\n",
        "    Val_DataLoader = torch.utils.data.DataLoader(val_subset, batch_size = p_BatchSize, shuffle = True)\n",
        "    Test_DataLoader = torch.utils.data.DataLoader(test_dataset, batch_size = p_BatchSize, shuffle = True)\n",
        "\n",
        "    return Train_DataLoader, Val_DataLoader, Test_DataLoader"
      ],
      "metadata": {
        "id": "qs5tvnqOtsQa"
      },
      "execution_count": null,
      "outputs": []
    },
    {
      "cell_type": "code",
      "source": [
        "def GetBatchData(X, Y, BatchIdx, BatchSize):\n",
        "    tmpX = torch.tensor(X[BatchIdx*BatchSize: BatchIdx*BatchSize + BatchSize])\n",
        "    tmpY = torch.tensor(Y[BatchIdx*BatchSize: BatchIdx*BatchSize + BatchSize])\n",
        "\n",
        "    return tmpX, tmpY"
      ],
      "metadata": {
        "id": "r2cTIV25RLh0"
      },
      "execution_count": null,
      "outputs": []
    },
    {
      "cell_type": "code",
      "source": [
        "def PlotGraph(X, Y1, Y2):\n",
        "    plt.plot(X, Y1, label = 'Train')\n",
        "    plt.plot(X, Y2, label = \"Val\")\n",
        "\n",
        "    plt.xlabel(\"Epoch\")\n",
        "    plt.ylabel(\"Accuracy\")\n",
        "\n",
        "    plt.legend(loc='best')\n",
        "    plt.show()"
      ],
      "metadata": {
        "id": "RKPr1ypEiX7G"
      },
      "execution_count": null,
      "outputs": []
    },
    {
      "cell_type": "code",
      "source": [
        "# class AllConv(nn.Module):\n",
        "#     def __init__(self, OutputDim):\n",
        "#         super(AllConv, self).__init__()\n",
        "#         # self.InputDim = InputDim\n",
        "#         self.OutputDim = OutputDim\n",
        "        \n",
        "#         self.Conv1 = nn.Conv2d(3, 96, kernel_size = 3)\n",
        "#         self.Conv2 = nn.Conv2d(96, 96, kernel_size = 3)\n",
        "#         self.Conv3 = nn.Conv2d(96, 96, kernel_size = 3, stride = 2)\n",
        "#         self.Conv4 = nn.Conv2d(96, 192, kernel_size = 3)\n",
        "#         self.Conv5 = nn.Conv2d(192, 192, kernel_size = 3)\n",
        "#         self.Conv6 = nn.Conv2d(192, 192, kernel_size = 3, stride = 2)\n",
        "#         self.Conv7 = nn.Conv2d(192, 192, kernel_size = 3)\n",
        "#         self.Conv8 = nn.Conv2d(192, 192, kernel_size = 1)\n",
        "#         self.Conv9 = nn.Conv2d(192, self.OutputDim, kernel_size = 1)\n",
        "\n",
        "#         self.AvgPool = nn.AvgPool2d(kernel_size = 2) # In Paper it is mentioned to avg pool on 6 x 6\n",
        "\n",
        "#         self.ActFunc = nn.functional.relu\n",
        "#         # self.batch = nn.BatchNorm1d(800)\n",
        "#         self.SftMax = nn.functional.softmax\n",
        "\n",
        "#     def forward(self, x):\n",
        "#         # print(x.shape)\n",
        "#         x = self.ActFunc(self.Conv1(x))\n",
        "#         # print(x.shape)\n",
        "#         x = self.ActFunc(self.Conv2(x))\n",
        "#         # print(x.shape)\n",
        "#         x = self.ActFunc(self.Conv3(x))\n",
        "#         # print(x.shape)\n",
        "#         x = self.ActFunc(self.Conv4(x))\n",
        "#         # print(x.shape)\n",
        "#         x = self.ActFunc(self.Conv5(x))\n",
        "#         # print(x.shape)\n",
        "#         x = self.ActFunc(self.Conv6(x))\n",
        "#         # print(x.shape)\n",
        "#         x = self.ActFunc(self.Conv7(x))\n",
        "#         # print(x.shape)\n",
        "#         x = self.ActFunc(self.Conv8(x))\n",
        "#         # print(x.shape)\n",
        "#         x = self.ActFunc(self.Conv9(x))\n",
        "#         # print(x.shape)\n",
        "#         # print(\"Conv done\")\n",
        "#         x = self.AvgPool(x)\n",
        "#         # print(x.shape)\n",
        "        \n",
        "#         return x"
      ],
      "metadata": {
        "id": "1hIH_Ef5ttxF"
      },
      "execution_count": null,
      "outputs": []
    },
    {
      "cell_type": "code",
      "source": [
        "class AllConv(nn.Module):\n",
        "    def __init__(self, OutputDim):\n",
        "        super(AllConv, self).__init__()\n",
        "        # self.InputDim = InputDim\n",
        "        self.OutputDim = OutputDim\n",
        "        \n",
        "        self.Conv1 = nn.Conv2d(3, 10, kernel_size = 3) # 32*32*3 -> 15*15*3\n",
        "        self.Conv2 = nn.Conv2d(10, 20, kernel_size = 3, stride = 2) # 30*30*3 -> 14*14*3\n",
        "        self.Conv3 = nn.Conv2d(20, 35, kernel_size = 3, stride = 2) # 14*14*3 -> 6*6*3\n",
        "        self.Conv4 = nn.Conv2d(35, 50, kernel_size = 3, stride = 2) # 6*6*3 -> 2*2*3\n",
        "        self.Conv5 = nn.Conv2d(50, self.OutputDim, kernel_size = 2) # 2*2*3 -> 1*1*Out\n",
        "\n",
        "        # self.Conv1 = nn.Conv2d(3, 96, kernel_size = 3)\n",
        "        # self.Conv2 = nn.Conv2d(96, 96, kernel_size = 3)\n",
        "        # self.Conv3 = nn.Conv2d(96, 96, kernel_size = 3, stride = 2)\n",
        "        # self.Conv4 = nn.Conv2d(96, 192, kernel_size = 3)\n",
        "        # self.Conv5 = nn.Conv2d(192, 192, kernel_size = 3)\n",
        "        # self.Conv6 = nn.Conv2d(192, 192, kernel_size = 3, stride = 2)\n",
        "        # self.Conv7 = nn.Conv2d(192, 192, kernel_size = 3)\n",
        "        # self.Conv8 = nn.Conv2d(192, 192, kernel_size = 1)\n",
        "        # self.Conv9 = nn.Conv2d(192, self.OutputDim, kernel_size = 1)\n",
        "\n",
        "        # self.AvgPool = nn.AvgPool2d(kernel_size = 2) # In Paper it is mentioned to avg pool on 6 x 6\n",
        "\n",
        "        self.ActFunc = nn.functional.relu\n",
        "        # self.batch = nn.BatchNorm1d(800)\n",
        "        # self.SftMax = nn.Softmax\n",
        "\n",
        "    def forward(self, x):\n",
        "        # print(x.shape)\n",
        "        x = self.ActFunc(self.Conv1(x))\n",
        "        # print(x.shape)\n",
        "        x = self.ActFunc(self.Conv2(x))\n",
        "        # print(x.shape)\n",
        "        x = self.ActFunc(self.Conv3(x))\n",
        "        # print(x.shape)\n",
        "        x = self.ActFunc(self.Conv4(x))\n",
        "        # print(x.shape)\n",
        "        x = self.ActFunc(self.Conv5(x))\n",
        "        # print(x.shape)\n",
        "        # x = self.ActFunc(self.Conv6(x))\n",
        "        # # print(x.shape)\n",
        "        # x = self.ActFunc(self.Conv7(x))\n",
        "        # # print(x.shape)\n",
        "        # x = self.ActFunc(self.Conv8(x))\n",
        "        # # print(x.shape)\n",
        "        # x = self.ActFunc(self.Conv9(x))\n",
        "        # # print(x.shape)\n",
        "        # # print(\"Conv done\")\n",
        "        # x = self.AvgPool(x)\n",
        "        # print(x.shape)\n",
        "        \n",
        "        return x"
      ],
      "metadata": {
        "id": "-Q0F_mjB1LxO"
      },
      "execution_count": null,
      "outputs": []
    },
    {
      "cell_type": "code",
      "source": [
        "def TrainModel(p_model, loss_criteria, Optimizer, device,  p_TrainDL = None, Gamma = 5):\n",
        "    TrainCorr = 0\n",
        "    TotNumOfSamples = 0\n",
        "\n",
        "    if p_TrainDL != None:\n",
        "        for images, labels in tqdm(p_TrainDL):\n",
        "            Optimizer.zero_grad()\n",
        "\n",
        "            images = images.to(device)\n",
        "            labels = labels.to(device)\n",
        "\n",
        "            pred = p_model(images)\n",
        "            pred = pred.reshape(pred.shape[0], -1)\n",
        "            predClass = torch.max(pred.data, 1)[1]\n",
        "\n",
        "            loss = loss_criteria(pred, labels)\n",
        "            TrainCorr += (predClass==labels).sum()\n",
        "            TotNumOfSamples += len(labels)\n",
        "\n",
        "            loss.backward()\n",
        "            Optimizer.step()\n",
        "\n",
        "    return TrainCorr/TotNumOfSamples\n",
        "\n",
        "def EvaluateModel(p_model, p_loader, device):\n",
        "    Correct = 0\n",
        "    TotalNumOfSamples = 0\n",
        "\n",
        "    for images, labels in tqdm(p_loader):\n",
        "        images = images.to(device)\n",
        "        labels = labels.to(device)\n",
        "\n",
        "        pred = p_model(images)\n",
        "        pred = pred.reshape(pred.shape[0], -1)\n",
        "        # print(pred.shape)\n",
        "        predClass = torch.max(pred.data, 1)[1]\n",
        "        Correct += (predClass==labels).sum()\n",
        "        TotalNumOfSamples += len(labels)\n",
        "        # print(predClass)\n",
        "        # print(labels)\n",
        "        # print(predClass==labels)\n",
        "        # print(\"Correct\", Correct, \" Out of\", TotalNumOfSamples)\n",
        "        # loss = loss_criteria(predClass, labels)\n",
        "        # Accuracy += loss.cpu().data.item()\n",
        "\n",
        "    # print(\"Correct\", Correct, \" Out of\", TotalNumOfSamples)\n",
        "    return Correct/TotalNumOfSamples"
      ],
      "metadata": {
        "id": "HoEvsNoy0Waf"
      },
      "execution_count": null,
      "outputs": []
    },
    {
      "cell_type": "code",
      "source": [
        "device = torch.device('cuda' if torch.cuda.is_available() else 'cpu')\n",
        "EPOCHS = 50\n",
        "\n",
        "Epoch_List = [i+1 for i in range(EPOCHS)]"
      ],
      "metadata": {
        "id": "S7ztEDE31IFt"
      },
      "execution_count": null,
      "outputs": []
    },
    {
      "cell_type": "code",
      "source": [],
      "metadata": {
        "id": "0aPy4frb1KUp"
      },
      "execution_count": null,
      "outputs": []
    },
    {
      "cell_type": "code",
      "source": [
        "# -------------------------------------------- CIFAR-10 Dataset -----------------------------------------------------------\n",
        "Option = 5\n",
        "Train_DataLoader, Val_DataLoader, Test_DataLoader = CreateDataLoaders(Option, 64)\n",
        "ModelName = \"Model_AllConv_CIFAR10.pt\"\n",
        "\n",
        "model = AllConv(10).to(device)\n",
        "loss_criteria = nn.CrossEntropyLoss()\n",
        "AdamOpt = torch.optim.Adam(model.parameters(), lr=0.0001)\n",
        "\n",
        "ValAccuracy = 0\n",
        "TrainAcc_List = []\n",
        "ValAcc_List = []\n",
        "\n",
        "saved = False\n",
        "if saved == True:\n",
        "    saved_model = torch.load(ModelName, map_location=torch.device('cpu')).to(device)\n",
        "else:\n",
        "    model.train()\n",
        "    Train_Accuracy = 0\n",
        "\n",
        "    for e in range(EPOCHS):\n",
        "        Train_Accuracy = TrainModel(model, loss_criteria, AdamOpt, device, Train_DataLoader)\n",
        "        val_acc = EvaluateModel(model, Val_DataLoader, device)\n",
        "\n",
        "        TrainAcc_List.append(Train_Accuracy.cpu().item())\n",
        "        ValAcc_List.append(val_acc.cpu().item())\n",
        "\n",
        "        print(\"EPOCH - \", e+1, \". Train Accuracy = \", Train_Accuracy.cpu().item(), \", Validation Accuracy = \", val_acc.cpu().item())\n",
        "        \n",
        "        if val_acc.cpu().item() > ValAccuracy:\n",
        "            print(\"Model Re-Saved\")\n",
        "            ValAccuracy = val_acc.cpu().item()\n",
        "            torch.save(model, ModelName)\n",
        "\n",
        "    saved_model = torch.load(ModelName, map_location=torch.device('cpu')).to(device)\n",
        "\n",
        "\n",
        "print()\n",
        "\n",
        "Train_Accuracy = EvaluateModel(saved_model, Train_DataLoader, device)\n",
        "print(\"Train Accuracy = \", Train_Accuracy.cpu().item())\n",
        "Test_Accuracy = EvaluateModel(saved_model, Test_DataLoader, device)\n",
        "print(\"Test Accuracy = \", Test_Accuracy.cpu().item())\n",
        "\n",
        "print(\"Generalization Gap = \", (Train_Accuracy.cpu().item() - Test_Accuracy.cpu().item()))"
      ],
      "metadata": {
        "colab": {
          "base_uri": "https://localhost:8080/"
        },
        "id": "MCsj6Mafh-v3",
        "outputId": "62bcce29-d6f8-4bfd-bcad-35dabbba6950"
      },
      "execution_count": null,
      "outputs": [
        {
          "output_type": "stream",
          "name": "stdout",
          "text": [
            "Downloading https://www.cs.toronto.edu/~kriz/cifar-10-python.tar.gz to ./cifar-10-python.tar.gz\n"
          ]
        },
        {
          "output_type": "stream",
          "name": "stderr",
          "text": [
            "100%|██████████| 170498071/170498071 [00:05<00:00, 31556757.28it/s]\n"
          ]
        },
        {
          "output_type": "stream",
          "name": "stdout",
          "text": [
            "Extracting ./cifar-10-python.tar.gz to ./\n",
            "Files already downloaded and verified\n"
          ]
        },
        {
          "output_type": "stream",
          "name": "stderr",
          "text": [
            "100%|██████████| 665/665 [00:15<00:00, 43.32it/s]\n",
            "100%|██████████| 118/118 [00:01<00:00, 94.88it/s]\n"
          ]
        },
        {
          "output_type": "stream",
          "name": "stdout",
          "text": [
            "EPOCH -  1 . Train Accuracy =  0.202752947807312 , Validation Accuracy =  0.24426667392253876\n",
            "Model Re-Saved\n"
          ]
        },
        {
          "output_type": "stream",
          "name": "stderr",
          "text": [
            "100%|██████████| 665/665 [00:08<00:00, 76.34it/s]\n",
            "100%|██████████| 118/118 [00:01<00:00, 93.47it/s]\n"
          ]
        },
        {
          "output_type": "stream",
          "name": "stdout",
          "text": [
            "EPOCH -  2 . Train Accuracy =  0.26682353019714355 , Validation Accuracy =  0.27693334221839905\n",
            "Model Re-Saved\n"
          ]
        },
        {
          "output_type": "stream",
          "name": "stderr",
          "text": [
            "100%|██████████| 665/665 [00:08<00:00, 77.37it/s]\n",
            "100%|██████████| 118/118 [00:01<00:00, 94.94it/s]\n"
          ]
        },
        {
          "output_type": "stream",
          "name": "stdout",
          "text": [
            "EPOCH -  3 . Train Accuracy =  0.3008941113948822 , Validation Accuracy =  0.3049333393573761\n",
            "Model Re-Saved\n"
          ]
        },
        {
          "output_type": "stream",
          "name": "stderr",
          "text": [
            "100%|██████████| 665/665 [00:07<00:00, 83.61it/s]\n",
            "100%|██████████| 118/118 [00:01<00:00, 74.24it/s]\n"
          ]
        },
        {
          "output_type": "stream",
          "name": "stdout",
          "text": [
            "EPOCH -  4 . Train Accuracy =  0.31647059321403503 , Validation Accuracy =  0.31520000100135803\n",
            "Model Re-Saved\n"
          ]
        },
        {
          "output_type": "stream",
          "name": "stderr",
          "text": [
            "100%|██████████| 665/665 [00:08<00:00, 78.69it/s]\n",
            "100%|██████████| 118/118 [00:01<00:00, 94.03it/s]\n"
          ]
        },
        {
          "output_type": "stream",
          "name": "stdout",
          "text": [
            "EPOCH -  5 . Train Accuracy =  0.32665881514549255 , Validation Accuracy =  0.3233333230018616\n",
            "Model Re-Saved\n"
          ]
        },
        {
          "output_type": "stream",
          "name": "stderr",
          "text": [
            "100%|██████████| 665/665 [00:08<00:00, 75.95it/s]\n",
            "100%|██████████| 118/118 [00:01<00:00, 88.55it/s]\n"
          ]
        },
        {
          "output_type": "stream",
          "name": "stdout",
          "text": [
            "EPOCH -  6 . Train Accuracy =  0.33592942357063293 , Validation Accuracy =  0.33160001039505005\n",
            "Model Re-Saved\n"
          ]
        },
        {
          "output_type": "stream",
          "name": "stderr",
          "text": [
            "100%|██████████| 665/665 [00:08<00:00, 74.51it/s]\n",
            "100%|██████████| 118/118 [00:01<00:00, 93.04it/s]\n"
          ]
        },
        {
          "output_type": "stream",
          "name": "stdout",
          "text": [
            "EPOCH -  7 . Train Accuracy =  0.3417647182941437 , Validation Accuracy =  0.33560001850128174\n",
            "Model Re-Saved\n"
          ]
        },
        {
          "output_type": "stream",
          "name": "stderr",
          "text": [
            "100%|██████████| 665/665 [00:08<00:00, 75.18it/s]\n",
            "100%|██████████| 118/118 [00:01<00:00, 93.27it/s]\n"
          ]
        },
        {
          "output_type": "stream",
          "name": "stdout",
          "text": [
            "EPOCH -  8 . Train Accuracy =  0.34934118390083313 , Validation Accuracy =  0.34746667742729187\n",
            "Model Re-Saved\n"
          ]
        },
        {
          "output_type": "stream",
          "name": "stderr",
          "text": [
            "100%|██████████| 665/665 [00:08<00:00, 80.14it/s]\n",
            "100%|██████████| 118/118 [00:01<00:00, 70.34it/s]\n"
          ]
        },
        {
          "output_type": "stream",
          "name": "stdout",
          "text": [
            "EPOCH -  9 . Train Accuracy =  0.3518117666244507 , Validation Accuracy =  0.3450666666030884\n"
          ]
        },
        {
          "output_type": "stream",
          "name": "stderr",
          "text": [
            "100%|██████████| 665/665 [00:08<00:00, 83.06it/s]\n",
            "100%|██████████| 118/118 [00:01<00:00, 92.93it/s]\n"
          ]
        },
        {
          "output_type": "stream",
          "name": "stdout",
          "text": [
            "EPOCH -  10 . Train Accuracy =  0.35903528332710266 , Validation Accuracy =  0.3555999994277954\n",
            "Model Re-Saved\n"
          ]
        },
        {
          "output_type": "stream",
          "name": "stderr",
          "text": [
            "100%|██████████| 665/665 [00:08<00:00, 74.88it/s]\n",
            "100%|██████████| 118/118 [00:01<00:00, 93.94it/s]\n"
          ]
        },
        {
          "output_type": "stream",
          "name": "stdout",
          "text": [
            "EPOCH -  11 . Train Accuracy =  0.36444705724716187 , Validation Accuracy =  0.3630666732788086\n",
            "Model Re-Saved\n"
          ]
        },
        {
          "output_type": "stream",
          "name": "stderr",
          "text": [
            "100%|██████████| 665/665 [00:08<00:00, 75.04it/s]\n",
            "100%|██████████| 118/118 [00:01<00:00, 94.55it/s]\n"
          ]
        },
        {
          "output_type": "stream",
          "name": "stdout",
          "text": [
            "EPOCH -  12 . Train Accuracy =  0.36800000071525574 , Validation Accuracy =  0.3569333255290985\n"
          ]
        },
        {
          "output_type": "stream",
          "name": "stderr",
          "text": [
            "100%|██████████| 665/665 [00:08<00:00, 74.77it/s]\n",
            "100%|██████████| 118/118 [00:01<00:00, 93.93it/s]\n"
          ]
        },
        {
          "output_type": "stream",
          "name": "stdout",
          "text": [
            "EPOCH -  13 . Train Accuracy =  0.3714117705821991 , Validation Accuracy =  0.36746665835380554\n",
            "Model Re-Saved\n"
          ]
        },
        {
          "output_type": "stream",
          "name": "stderr",
          "text": [
            "100%|██████████| 665/665 [00:08<00:00, 74.92it/s]\n",
            "100%|██████████| 118/118 [00:01<00:00, 93.70it/s]\n"
          ]
        },
        {
          "output_type": "stream",
          "name": "stdout",
          "text": [
            "EPOCH -  14 . Train Accuracy =  0.3764705955982208 , Validation Accuracy =  0.36720001697540283\n"
          ]
        },
        {
          "output_type": "stream",
          "name": "stderr",
          "text": [
            "100%|██████████| 665/665 [00:08<00:00, 81.50it/s]\n",
            "100%|██████████| 118/118 [00:01<00:00, 66.39it/s]\n"
          ]
        },
        {
          "output_type": "stream",
          "name": "stdout",
          "text": [
            "EPOCH -  15 . Train Accuracy =  0.37896472215652466 , Validation Accuracy =  0.3713333308696747\n",
            "Model Re-Saved\n"
          ]
        },
        {
          "output_type": "stream",
          "name": "stderr",
          "text": [
            "100%|██████████| 665/665 [00:08<00:00, 79.11it/s]\n",
            "100%|██████████| 118/118 [00:01<00:00, 95.51it/s]\n"
          ]
        },
        {
          "output_type": "stream",
          "name": "stdout",
          "text": [
            "EPOCH -  16 . Train Accuracy =  0.3796941339969635 , Validation Accuracy =  0.3738666772842407\n",
            "Model Re-Saved\n"
          ]
        },
        {
          "output_type": "stream",
          "name": "stderr",
          "text": [
            "100%|██████████| 665/665 [00:08<00:00, 75.03it/s]\n",
            "100%|██████████| 118/118 [00:01<00:00, 92.98it/s]\n"
          ]
        },
        {
          "output_type": "stream",
          "name": "stdout",
          "text": [
            "EPOCH -  17 . Train Accuracy =  0.3847764730453491 , Validation Accuracy =  0.3789333403110504\n",
            "Model Re-Saved\n"
          ]
        },
        {
          "output_type": "stream",
          "name": "stderr",
          "text": [
            "100%|██████████| 665/665 [00:08<00:00, 74.78it/s]\n",
            "100%|██████████| 118/118 [00:01<00:00, 92.48it/s]\n"
          ]
        },
        {
          "output_type": "stream",
          "name": "stdout",
          "text": [
            "EPOCH -  18 . Train Accuracy =  0.38614118099212646 , Validation Accuracy =  0.3786666691303253\n"
          ]
        },
        {
          "output_type": "stream",
          "name": "stderr",
          "text": [
            "100%|██████████| 665/665 [00:08<00:00, 74.69it/s]\n",
            "100%|██████████| 118/118 [00:01<00:00, 93.95it/s]\n"
          ]
        },
        {
          "output_type": "stream",
          "name": "stdout",
          "text": [
            "EPOCH -  19 . Train Accuracy =  0.3878588378429413 , Validation Accuracy =  0.3831999897956848\n",
            "Model Re-Saved\n"
          ]
        },
        {
          "output_type": "stream",
          "name": "stderr",
          "text": [
            "100%|██████████| 665/665 [00:08<00:00, 77.33it/s]\n",
            "100%|██████████| 118/118 [00:01<00:00, 80.78it/s]\n"
          ]
        },
        {
          "output_type": "stream",
          "name": "stdout",
          "text": [
            "EPOCH -  20 . Train Accuracy =  0.3903999924659729 , Validation Accuracy =  0.38306668400764465\n"
          ]
        },
        {
          "output_type": "stream",
          "name": "stderr",
          "text": [
            "100%|██████████| 665/665 [00:08<00:00, 82.28it/s]\n",
            "100%|██████████| 118/118 [00:01<00:00, 84.85it/s]\n"
          ]
        },
        {
          "output_type": "stream",
          "name": "stdout",
          "text": [
            "EPOCH -  21 . Train Accuracy =  0.39254117012023926 , Validation Accuracy =  0.365200012922287\n"
          ]
        },
        {
          "output_type": "stream",
          "name": "stderr",
          "text": [
            "100%|██████████| 665/665 [00:08<00:00, 78.32it/s]\n",
            "100%|██████████| 118/118 [00:01<00:00, 94.62it/s]\n"
          ]
        },
        {
          "output_type": "stream",
          "name": "stdout",
          "text": [
            "EPOCH -  22 . Train Accuracy =  0.39477646350860596 , Validation Accuracy =  0.38866665959358215\n",
            "Model Re-Saved\n"
          ]
        },
        {
          "output_type": "stream",
          "name": "stderr",
          "text": [
            "100%|██████████| 665/665 [00:08<00:00, 75.84it/s]\n",
            "100%|██████████| 118/118 [00:01<00:00, 92.89it/s]\n"
          ]
        },
        {
          "output_type": "stream",
          "name": "stdout",
          "text": [
            "EPOCH -  23 . Train Accuracy =  0.39505884051322937 , Validation Accuracy =  0.3861333429813385\n"
          ]
        },
        {
          "output_type": "stream",
          "name": "stderr",
          "text": [
            "100%|██████████| 665/665 [00:08<00:00, 74.47it/s]\n",
            "100%|██████████| 118/118 [00:01<00:00, 92.85it/s]\n"
          ]
        },
        {
          "output_type": "stream",
          "name": "stdout",
          "text": [
            "EPOCH -  24 . Train Accuracy =  0.39797648787498474 , Validation Accuracy =  0.3930666744709015\n",
            "Model Re-Saved\n"
          ]
        },
        {
          "output_type": "stream",
          "name": "stderr",
          "text": [
            "100%|██████████| 665/665 [00:08<00:00, 75.89it/s]\n",
            "100%|██████████| 118/118 [00:01<00:00, 95.31it/s]\n"
          ]
        },
        {
          "output_type": "stream",
          "name": "stdout",
          "text": [
            "EPOCH -  25 . Train Accuracy =  0.40018823742866516 , Validation Accuracy =  0.39293333888053894\n"
          ]
        },
        {
          "output_type": "stream",
          "name": "stderr",
          "text": [
            "100%|██████████| 665/665 [00:08<00:00, 82.09it/s]\n",
            "100%|██████████| 118/118 [00:01<00:00, 64.43it/s]\n"
          ]
        },
        {
          "output_type": "stream",
          "name": "stdout",
          "text": [
            "EPOCH -  26 . Train Accuracy =  0.40148234367370605 , Validation Accuracy =  0.3919999897480011\n"
          ]
        },
        {
          "output_type": "stream",
          "name": "stderr",
          "text": [
            "100%|██████████| 665/665 [00:08<00:00, 81.41it/s]\n",
            "100%|██████████| 118/118 [00:01<00:00, 91.75it/s]\n"
          ]
        },
        {
          "output_type": "stream",
          "name": "stdout",
          "text": [
            "EPOCH -  27 . Train Accuracy =  0.4044705927371979 , Validation Accuracy =  0.3887999951839447\n"
          ]
        },
        {
          "output_type": "stream",
          "name": "stderr",
          "text": [
            "100%|██████████| 665/665 [00:08<00:00, 75.84it/s]\n",
            "100%|██████████| 118/118 [00:01<00:00, 93.97it/s]\n"
          ]
        },
        {
          "output_type": "stream",
          "name": "stdout",
          "text": [
            "EPOCH -  28 . Train Accuracy =  0.4044470489025116 , Validation Accuracy =  0.38813334703445435\n"
          ]
        },
        {
          "output_type": "stream",
          "name": "stderr",
          "text": [
            "100%|██████████| 665/665 [00:08<00:00, 75.25it/s]\n",
            "100%|██████████| 118/118 [00:01<00:00, 94.54it/s]\n"
          ]
        },
        {
          "output_type": "stream",
          "name": "stdout",
          "text": [
            "EPOCH -  29 . Train Accuracy =  0.40562352538108826 , Validation Accuracy =  0.39399999380111694\n",
            "Model Re-Saved\n"
          ]
        },
        {
          "output_type": "stream",
          "name": "stderr",
          "text": [
            "100%|██████████| 665/665 [00:08<00:00, 75.69it/s]\n",
            "100%|██████████| 118/118 [00:01<00:00, 93.71it/s]\n"
          ]
        },
        {
          "output_type": "stream",
          "name": "stdout",
          "text": [
            "EPOCH -  30 . Train Accuracy =  0.4071294069290161 , Validation Accuracy =  0.39693334698677063\n",
            "Model Re-Saved\n"
          ]
        },
        {
          "output_type": "stream",
          "name": "stderr",
          "text": [
            "100%|██████████| 665/665 [00:08<00:00, 78.57it/s]\n",
            "100%|██████████| 118/118 [00:01<00:00, 71.71it/s]\n"
          ]
        },
        {
          "output_type": "stream",
          "name": "stdout",
          "text": [
            "EPOCH -  31 . Train Accuracy =  0.40788236260414124 , Validation Accuracy =  0.39480000734329224\n"
          ]
        },
        {
          "output_type": "stream",
          "name": "stderr",
          "text": [
            "100%|██████████| 665/665 [00:08<00:00, 81.70it/s]\n",
            "100%|██████████| 118/118 [00:01<00:00, 93.52it/s]\n"
          ]
        },
        {
          "output_type": "stream",
          "name": "stdout",
          "text": [
            "EPOCH -  32 . Train Accuracy =  0.41122353076934814 , Validation Accuracy =  0.39453333616256714\n"
          ]
        },
        {
          "output_type": "stream",
          "name": "stderr",
          "text": [
            "100%|██████████| 665/665 [00:08<00:00, 75.94it/s]\n",
            "100%|██████████| 118/118 [00:01<00:00, 92.58it/s]\n"
          ]
        },
        {
          "output_type": "stream",
          "name": "stdout",
          "text": [
            "EPOCH -  33 . Train Accuracy =  0.41070589423179626 , Validation Accuracy =  0.3991999924182892\n",
            "Model Re-Saved\n"
          ]
        },
        {
          "output_type": "stream",
          "name": "stderr",
          "text": [
            "100%|██████████| 665/665 [00:08<00:00, 76.03it/s]\n",
            "100%|██████████| 118/118 [00:01<00:00, 95.48it/s]\n"
          ]
        },
        {
          "output_type": "stream",
          "name": "stdout",
          "text": [
            "EPOCH -  34 . Train Accuracy =  0.41122353076934814 , Validation Accuracy =  0.39959999918937683\n",
            "Model Re-Saved\n"
          ]
        },
        {
          "output_type": "stream",
          "name": "stderr",
          "text": [
            "100%|██████████| 665/665 [00:08<00:00, 75.96it/s]\n",
            "100%|██████████| 118/118 [00:01<00:00, 92.70it/s]\n"
          ]
        },
        {
          "output_type": "stream",
          "name": "stdout",
          "text": [
            "EPOCH -  35 . Train Accuracy =  0.4136941134929657 , Validation Accuracy =  0.39559999108314514\n"
          ]
        },
        {
          "output_type": "stream",
          "name": "stderr",
          "text": [
            "100%|██████████| 665/665 [00:08<00:00, 75.80it/s]\n",
            "100%|██████████| 118/118 [00:01<00:00, 92.04it/s]\n"
          ]
        },
        {
          "output_type": "stream",
          "name": "stdout",
          "text": [
            "EPOCH -  36 . Train Accuracy =  0.4149411916732788 , Validation Accuracy =  0.39746665954589844\n"
          ]
        },
        {
          "output_type": "stream",
          "name": "stderr",
          "text": [
            "100%|██████████| 665/665 [00:08<00:00, 81.52it/s]\n",
            "100%|██████████| 118/118 [00:01<00:00, 73.01it/s]\n"
          ]
        },
        {
          "output_type": "stream",
          "name": "stdout",
          "text": [
            "EPOCH -  37 . Train Accuracy =  0.4163764715194702 , Validation Accuracy =  0.40119999647140503\n",
            "Model Re-Saved\n"
          ]
        },
        {
          "output_type": "stream",
          "name": "stderr",
          "text": [
            "100%|██████████| 665/665 [00:08<00:00, 80.73it/s]\n",
            "100%|██████████| 118/118 [00:01<00:00, 89.87it/s]\n"
          ]
        },
        {
          "output_type": "stream",
          "name": "stdout",
          "text": [
            "EPOCH -  38 . Train Accuracy =  0.41792941093444824 , Validation Accuracy =  0.39853334426879883\n"
          ]
        },
        {
          "output_type": "stream",
          "name": "stderr",
          "text": [
            "100%|██████████| 665/665 [00:08<00:00, 76.69it/s]\n",
            "100%|██████████| 118/118 [00:01<00:00, 93.61it/s]\n"
          ]
        },
        {
          "output_type": "stream",
          "name": "stdout",
          "text": [
            "EPOCH -  39 . Train Accuracy =  0.41778823733329773 , Validation Accuracy =  0.40666666626930237\n",
            "Model Re-Saved\n"
          ]
        },
        {
          "output_type": "stream",
          "name": "stderr",
          "text": [
            "100%|██████████| 665/665 [00:08<00:00, 75.40it/s]\n",
            "100%|██████████| 118/118 [00:01<00:00, 94.08it/s]\n"
          ]
        },
        {
          "output_type": "stream",
          "name": "stdout",
          "text": [
            "EPOCH -  40 . Train Accuracy =  0.42002353072166443 , Validation Accuracy =  0.4030666649341583\n"
          ]
        },
        {
          "output_type": "stream",
          "name": "stderr",
          "text": [
            "100%|██████████| 665/665 [00:08<00:00, 76.44it/s]\n",
            "100%|██████████| 118/118 [00:01<00:00, 93.93it/s]\n"
          ]
        },
        {
          "output_type": "stream",
          "name": "stdout",
          "text": [
            "EPOCH -  41 . Train Accuracy =  0.4202117621898651 , Validation Accuracy =  0.4046666622161865\n"
          ]
        },
        {
          "output_type": "stream",
          "name": "stderr",
          "text": [
            "100%|██████████| 665/665 [00:08<00:00, 82.54it/s]\n",
            "100%|██████████| 118/118 [00:01<00:00, 64.82it/s]\n"
          ]
        },
        {
          "output_type": "stream",
          "name": "stdout",
          "text": [
            "EPOCH -  42 . Train Accuracy =  0.42270588874816895 , Validation Accuracy =  0.4073333442211151\n",
            "Model Re-Saved\n"
          ]
        },
        {
          "output_type": "stream",
          "name": "stderr",
          "text": [
            "100%|██████████| 665/665 [00:08<00:00, 82.19it/s]\n",
            "100%|██████████| 118/118 [00:01<00:00, 88.19it/s]\n"
          ]
        },
        {
          "output_type": "stream",
          "name": "stdout",
          "text": [
            "EPOCH -  43 . Train Accuracy =  0.42350587248802185 , Validation Accuracy =  0.408133327960968\n",
            "Model Re-Saved\n"
          ]
        },
        {
          "output_type": "stream",
          "name": "stderr",
          "text": [
            "100%|██████████| 665/665 [00:08<00:00, 76.80it/s]\n",
            "100%|██████████| 118/118 [00:01<00:00, 93.91it/s]\n"
          ]
        },
        {
          "output_type": "stream",
          "name": "stdout",
          "text": [
            "EPOCH -  44 . Train Accuracy =  0.4234117567539215 , Validation Accuracy =  0.4054666757583618\n"
          ]
        },
        {
          "output_type": "stream",
          "name": "stderr",
          "text": [
            "100%|██████████| 665/665 [00:08<00:00, 75.87it/s]\n",
            "100%|██████████| 118/118 [00:01<00:00, 95.53it/s]\n"
          ]
        },
        {
          "output_type": "stream",
          "name": "stdout",
          "text": [
            "EPOCH -  45 . Train Accuracy =  0.4245647192001343 , Validation Accuracy =  0.408133327960968\n"
          ]
        },
        {
          "output_type": "stream",
          "name": "stderr",
          "text": [
            "100%|██████████| 665/665 [00:08<00:00, 76.76it/s]\n",
            "100%|██████████| 118/118 [00:01<00:00, 94.43it/s]\n"
          ]
        },
        {
          "output_type": "stream",
          "name": "stdout",
          "text": [
            "EPOCH -  46 . Train Accuracy =  0.4259529411792755 , Validation Accuracy =  0.4094666838645935\n",
            "Model Re-Saved\n"
          ]
        },
        {
          "output_type": "stream",
          "name": "stderr",
          "text": [
            "100%|██████████| 665/665 [00:08<00:00, 78.62it/s]\n",
            "100%|██████████| 118/118 [00:01<00:00, 71.65it/s]\n"
          ]
        },
        {
          "output_type": "stream",
          "name": "stdout",
          "text": [
            "EPOCH -  47 . Train Accuracy =  0.42576470971107483 , Validation Accuracy =  0.40799999237060547\n"
          ]
        },
        {
          "output_type": "stream",
          "name": "stderr",
          "text": [
            "100%|██████████| 665/665 [00:08<00:00, 81.70it/s]\n",
            "100%|██████████| 118/118 [00:01<00:00, 93.67it/s]\n"
          ]
        },
        {
          "output_type": "stream",
          "name": "stdout",
          "text": [
            "EPOCH -  48 . Train Accuracy =  0.4269647002220154 , Validation Accuracy =  0.4068000018596649\n"
          ]
        },
        {
          "output_type": "stream",
          "name": "stderr",
          "text": [
            "100%|██████████| 665/665 [00:08<00:00, 75.17it/s]\n",
            "100%|██████████| 118/118 [00:01<00:00, 94.00it/s]\n"
          ]
        },
        {
          "output_type": "stream",
          "name": "stdout",
          "text": [
            "EPOCH -  49 . Train Accuracy =  0.42858824133872986 , Validation Accuracy =  0.41120001673698425\n",
            "Model Re-Saved\n"
          ]
        },
        {
          "output_type": "stream",
          "name": "stderr",
          "text": [
            "100%|██████████| 665/665 [00:08<00:00, 75.49it/s]\n",
            "100%|██████████| 118/118 [00:01<00:00, 94.10it/s]\n"
          ]
        },
        {
          "output_type": "stream",
          "name": "stdout",
          "text": [
            "EPOCH -  50 . Train Accuracy =  0.4285176396369934 , Validation Accuracy =  0.41093334555625916\n",
            "\n"
          ]
        },
        {
          "output_type": "stream",
          "name": "stderr",
          "text": [
            "100%|██████████| 665/665 [00:07<00:00, 84.86it/s]\n"
          ]
        },
        {
          "output_type": "stream",
          "name": "stdout",
          "text": [
            "Train Accuracy =  0.4326823651790619\n"
          ]
        },
        {
          "output_type": "stream",
          "name": "stderr",
          "text": [
            "100%|██████████| 157/157 [00:01<00:00, 93.54it/s]"
          ]
        },
        {
          "output_type": "stream",
          "name": "stdout",
          "text": [
            "Test Accuracy =  0.41679999232292175\n",
            "Generalization Gap =  0.015882372856140137\n"
          ]
        },
        {
          "output_type": "stream",
          "name": "stderr",
          "text": [
            "\n"
          ]
        }
      ]
    },
    {
      "cell_type": "code",
      "source": [
        "PlotGraph(Epoch_List, TrainAcc_List, ValAcc_List)"
      ],
      "metadata": {
        "colab": {
          "base_uri": "https://localhost:8080/",
          "height": 449
        },
        "id": "fXWGLSTYiC9Y",
        "outputId": "bf48f904-6ef0-4252-d2f2-a7c53c6dcb7f"
      },
      "execution_count": null,
      "outputs": [
        {
          "output_type": "display_data",
          "data": {
            "text/plain": [
              "<Figure size 640x480 with 1 Axes>"
            ],
            "image/png": "[encoded data removed]"
          },
          "metadata": {}
        }
      ]
    },
    {
      "cell_type": "code",
      "source": [],
      "metadata": {
        "id": "G8pxmyGtCkDa"
      },
      "execution_count": null,
      "outputs": []
    },
    {
      "cell_type": "code",
      "source": [
        "# # -------------------------------------------- CIFAR-100 Dataset -----------------------------------------------------------\n",
        "# Option = 6\n",
        "# Train_DataLoader, Val_DataLoader, Test_DataLoader = CreateDataLoaders(Option, 64)\n",
        "# ModelName = \"Model_AllConv_CIFAR100.pt\"\n",
        "\n",
        "# model = AllConv(100).to(device)\n",
        "# loss_criteria = nn.CrossEntropyLoss()\n",
        "# AdamOpt = torch.optim.Adam(model.parameters(), lr=0.0001)\n",
        "\n",
        "# ValAccuracy = 0\n",
        "\n",
        "# saved = False\n",
        "# if saved == True:\n",
        "#     saved_model = torch.load(ModelName, map_location=torch.device('cpu')).to(device)\n",
        "# else:\n",
        "#     model.train()\n",
        "#     Train_Accuracy = 0\n",
        "\n",
        "#     for e in range(EPOCHS):\n",
        "#         Train_Accuracy = TrainModel(model, loss_criteria, AdamOpt, device, Train_DataLoader)\n",
        "#         val_acc = EvaluateModel(model, Val_DataLoader, device)\n",
        "\n",
        "#         print(\"EPOCH - \", e+1, \". Train Accuracy = \", Train_Accuracy.cpu().item(), \", Validation Accuracy = \", val_acc.cpu().item())\n",
        "        \n",
        "#         if val_acc.cpu().item() > ValAccuracy:\n",
        "#             print(\"Model Re-Saved\")\n",
        "#             ValAccuracy = val_acc.cpu().item()\n",
        "#             torch.save(model, ModelName)\n",
        "\n",
        "#     saved_model = torch.load(ModelName, map_location=torch.device('cpu')).to(device)\n",
        "\n",
        "\n",
        "# print()\n",
        "\n",
        "# Train_Accuracy = EvaluateModel(saved_model, Train_DataLoader, device)\n",
        "# print(\"Train Accuracy = \", Train_Accuracy.cpu().item())\n",
        "# Test_Accuracy = EvaluateModel(saved_model, Test_DataLoader, device)\n",
        "# print(\"Test Accuracy = \", Test_Accuracy.cpu().item())\n",
        "\n",
        "# print(\"Generalization Gap = \", (Train_Accuracy.cpu().item() - Test_Accuracy.cpu().item()))"
      ],
      "metadata": {
        "id": "7xA16iAVCkZ6"
      },
      "execution_count": null,
      "outputs": []
    },
    {
      "cell_type": "code",
      "source": [
        "# -------------------------------------------- CIFAR-100 Dataset -----------------------------------------------------------\n",
        "Option = 6\n",
        "Train_DataLoader, Val_DataLoader, Test_DataLoader = CreateDataLoaders(Option, 64)\n",
        "ModelName = \"Model_AllConv_CIFAR100.pt\"\n",
        "\n",
        "model = AllConv(100).to(device)\n",
        "loss_criteria = nn.CrossEntropyLoss()\n",
        "AdamOpt = torch.optim.Adam(model.parameters(), lr=0.0001)\n",
        "\n",
        "ValAccuracy = 0\n",
        "TrainAcc_List = []\n",
        "ValAcc_List = []\n",
        "\n",
        "saved = False\n",
        "if saved == True:\n",
        "    saved_model = torch.load(ModelName, map_location=torch.device('cpu')).to(device)\n",
        "else:\n",
        "    model.train()\n",
        "    Train_Accuracy = 0\n",
        "\n",
        "    for e in range(EPOCHS):\n",
        "        Train_Accuracy = TrainModel(model, loss_criteria, AdamOpt, device, Train_DataLoader)\n",
        "        val_acc = EvaluateModel(model, Val_DataLoader, device)\n",
        "\n",
        "        TrainAcc_List.append(Train_Accuracy.cpu().item())\n",
        "        ValAcc_List.append(val_acc.cpu().item())\n",
        "\n",
        "        print(\"EPOCH - \", e+1, \". Train Accuracy = \", Train_Accuracy.cpu().item(), \", Validation Accuracy = \", val_acc.cpu().item())\n",
        "        \n",
        "        if val_acc.cpu().item() > ValAccuracy:\n",
        "            print(\"Model Re-Saved\")\n",
        "            ValAccuracy = val_acc.cpu().item()\n",
        "            torch.save(model, ModelName)\n",
        "\n",
        "    saved_model = torch.load(ModelName, map_location=torch.device('cpu')).to(device)\n",
        "\n",
        "\n",
        "print()\n",
        "\n",
        "Train_Accuracy = EvaluateModel(saved_model, Train_DataLoader, device)\n",
        "print(\"Train Accuracy = \", Train_Accuracy.cpu().item())\n",
        "Test_Accuracy = EvaluateModel(saved_model, Test_DataLoader, device)\n",
        "print(\"Test Accuracy = \", Test_Accuracy.cpu().item())\n",
        "\n",
        "print(\"Generalization Gap = \", (Train_Accuracy.cpu().item() - Test_Accuracy.cpu().item()))"
      ],
      "metadata": {
        "colab": {
          "base_uri": "https://localhost:8080/"
        },
        "id": "R5XnLEBXmR7T",
        "outputId": "0767e7b7-fd6a-49ed-f875-f1132edbfeab"
      },
      "execution_count": null,
      "outputs": [
        {
          "output_type": "stream",
          "name": "stdout",
          "text": [
            "Downloading https://www.cs.toronto.edu/~kriz/cifar-100-python.tar.gz to ./cifar-100-python.tar.gz\n"
          ]
        },
        {
          "output_type": "stream",
          "name": "stderr",
          "text": [
            "100%|██████████| 169001437/169001437 [00:04<00:00, 34935671.06it/s]\n"
          ]
        },
        {
          "output_type": "stream",
          "name": "stdout",
          "text": [
            "Extracting ./cifar-100-python.tar.gz to ./\n",
            "Files already downloaded and verified\n"
          ]
        },
        {
          "output_type": "stream",
          "name": "stderr",
          "text": [
            "100%|██████████| 665/665 [00:08<00:00, 81.34it/s]\n",
            "100%|██████████| 118/118 [00:01<00:00, 92.65it/s]\n"
          ]
        },
        {
          "output_type": "stream",
          "name": "stdout",
          "text": [
            "EPOCH -  1 . Train Accuracy =  0.02338823489844799 , Validation Accuracy =  0.04786666855216026\n",
            "Model Re-Saved\n"
          ]
        },
        {
          "output_type": "stream",
          "name": "stderr",
          "text": [
            "100%|██████████| 665/665 [00:08<00:00, 75.84it/s]\n",
            "100%|██████████| 118/118 [00:01<00:00, 92.38it/s]\n"
          ]
        },
        {
          "output_type": "stream",
          "name": "stdout",
          "text": [
            "EPOCH -  2 . Train Accuracy =  0.05637647211551666 , Validation Accuracy =  0.06293333321809769\n",
            "Model Re-Saved\n"
          ]
        },
        {
          "output_type": "stream",
          "name": "stderr",
          "text": [
            "100%|██████████| 665/665 [00:08<00:00, 76.03it/s]\n",
            "100%|██████████| 118/118 [00:01<00:00, 92.29it/s]\n"
          ]
        },
        {
          "output_type": "stream",
          "name": "stdout",
          "text": [
            "EPOCH -  3 . Train Accuracy =  0.07190588116645813 , Validation Accuracy =  0.06960000097751617\n",
            "Model Re-Saved\n"
          ]
        },
        {
          "output_type": "stream",
          "name": "stderr",
          "text": [
            "100%|██████████| 665/665 [00:08<00:00, 75.38it/s]\n",
            "100%|██████████| 118/118 [00:01<00:00, 95.00it/s]\n"
          ]
        },
        {
          "output_type": "stream",
          "name": "stdout",
          "text": [
            "EPOCH -  4 . Train Accuracy =  0.08042352646589279 , Validation Accuracy =  0.07826666533946991\n",
            "Model Re-Saved\n"
          ]
        },
        {
          "output_type": "stream",
          "name": "stderr",
          "text": [
            "100%|██████████| 665/665 [00:08<00:00, 77.55it/s]\n",
            "100%|██████████| 118/118 [00:01<00:00, 80.53it/s]\n"
          ]
        },
        {
          "output_type": "stream",
          "name": "stdout",
          "text": [
            "EPOCH -  5 . Train Accuracy =  0.08985882252454758 , Validation Accuracy =  0.08533333241939545\n",
            "Model Re-Saved\n"
          ]
        },
        {
          "output_type": "stream",
          "name": "stderr",
          "text": [
            "100%|██████████| 665/665 [00:08<00:00, 81.25it/s]\n",
            "100%|██████████| 118/118 [00:01<00:00, 80.78it/s]\n"
          ]
        },
        {
          "output_type": "stream",
          "name": "stdout",
          "text": [
            "EPOCH -  6 . Train Accuracy =  0.09595294296741486 , Validation Accuracy =  0.09426666796207428\n",
            "Model Re-Saved\n"
          ]
        },
        {
          "output_type": "stream",
          "name": "stderr",
          "text": [
            "100%|██████████| 665/665 [00:08<00:00, 76.26it/s]\n",
            "100%|██████████| 118/118 [00:01<00:00, 93.62it/s]\n"
          ]
        },
        {
          "output_type": "stream",
          "name": "stdout",
          "text": [
            "EPOCH -  7 . Train Accuracy =  0.10247059166431427 , Validation Accuracy =  0.09746666997671127\n",
            "Model Re-Saved\n"
          ]
        },
        {
          "output_type": "stream",
          "name": "stderr",
          "text": [
            "100%|██████████| 665/665 [00:09<00:00, 73.52it/s]\n",
            "100%|██████████| 118/118 [00:01<00:00, 92.46it/s]\n"
          ]
        },
        {
          "output_type": "stream",
          "name": "stdout",
          "text": [
            "EPOCH -  8 . Train Accuracy =  0.10602352768182755 , Validation Accuracy =  0.09933333098888397\n",
            "Model Re-Saved\n"
          ]
        },
        {
          "output_type": "stream",
          "name": "stderr",
          "text": [
            "100%|██████████| 665/665 [00:08<00:00, 75.07it/s]\n",
            "100%|██████████| 118/118 [00:01<00:00, 92.76it/s]\n"
          ]
        },
        {
          "output_type": "stream",
          "name": "stdout",
          "text": [
            "EPOCH -  9 . Train Accuracy =  0.11110588163137436 , Validation Accuracy =  0.10733333230018616\n",
            "Model Re-Saved\n"
          ]
        },
        {
          "output_type": "stream",
          "name": "stderr",
          "text": [
            "100%|██████████| 665/665 [00:08<00:00, 75.22it/s]\n",
            "100%|██████████| 118/118 [00:01<00:00, 94.99it/s]\n"
          ]
        },
        {
          "output_type": "stream",
          "name": "stdout",
          "text": [
            "EPOCH -  10 . Train Accuracy =  0.11197647452354431 , Validation Accuracy =  0.10920000076293945\n",
            "Model Re-Saved\n"
          ]
        },
        {
          "output_type": "stream",
          "name": "stderr",
          "text": [
            "100%|██████████| 665/665 [00:08<00:00, 79.73it/s]\n",
            "100%|██████████| 118/118 [00:01<00:00, 67.76it/s]\n"
          ]
        },
        {
          "output_type": "stream",
          "name": "stdout",
          "text": [
            "EPOCH -  11 . Train Accuracy =  0.11830588430166245 , Validation Accuracy =  0.10626666992902756\n"
          ]
        },
        {
          "output_type": "stream",
          "name": "stderr",
          "text": [
            "100%|██████████| 665/665 [00:08<00:00, 81.15it/s]\n",
            "100%|██████████| 118/118 [00:01<00:00, 94.65it/s]\n"
          ]
        },
        {
          "output_type": "stream",
          "name": "stdout",
          "text": [
            "EPOCH -  12 . Train Accuracy =  0.12040000408887863 , Validation Accuracy =  0.11240000277757645\n",
            "Model Re-Saved\n"
          ]
        },
        {
          "output_type": "stream",
          "name": "stderr",
          "text": [
            "100%|██████████| 665/665 [00:08<00:00, 74.36it/s]\n",
            "100%|██████████| 118/118 [00:01<00:00, 92.81it/s]\n"
          ]
        },
        {
          "output_type": "stream",
          "name": "stdout",
          "text": [
            "EPOCH -  13 . Train Accuracy =  0.12369412183761597 , Validation Accuracy =  0.1128000020980835\n",
            "Model Re-Saved\n"
          ]
        },
        {
          "output_type": "stream",
          "name": "stderr",
          "text": [
            "100%|██████████| 665/665 [00:08<00:00, 75.64it/s]\n",
            "100%|██████████| 118/118 [00:01<00:00, 92.77it/s]\n"
          ]
        },
        {
          "output_type": "stream",
          "name": "stdout",
          "text": [
            "EPOCH -  14 . Train Accuracy =  0.12425882369279861 , Validation Accuracy =  0.11479999870061874\n",
            "Model Re-Saved\n"
          ]
        },
        {
          "output_type": "stream",
          "name": "stderr",
          "text": [
            "100%|██████████| 665/665 [00:08<00:00, 74.66it/s]\n",
            "100%|██████████| 118/118 [00:01<00:00, 93.43it/s]\n"
          ]
        },
        {
          "output_type": "stream",
          "name": "stdout",
          "text": [
            "EPOCH -  15 . Train Accuracy =  0.12884706258773804 , Validation Accuracy =  0.11959999799728394\n",
            "Model Re-Saved\n"
          ]
        },
        {
          "output_type": "stream",
          "name": "stderr",
          "text": [
            "100%|██████████| 665/665 [00:08<00:00, 74.78it/s]\n",
            "100%|██████████| 118/118 [00:01<00:00, 86.04it/s]\n"
          ]
        },
        {
          "output_type": "stream",
          "name": "stdout",
          "text": [
            "EPOCH -  16 . Train Accuracy =  0.12945882976055145 , Validation Accuracy =  0.11693333834409714\n"
          ]
        },
        {
          "output_type": "stream",
          "name": "stderr",
          "text": [
            "100%|██████████| 665/665 [00:08<00:00, 81.88it/s]\n",
            "100%|██████████| 118/118 [00:01<00:00, 64.94it/s]\n"
          ]
        },
        {
          "output_type": "stream",
          "name": "stdout",
          "text": [
            "EPOCH -  17 . Train Accuracy =  0.1330353021621704 , Validation Accuracy =  0.11906667053699493\n"
          ]
        },
        {
          "output_type": "stream",
          "name": "stderr",
          "text": [
            "100%|██████████| 665/665 [00:08<00:00, 80.45it/s]\n",
            "100%|██████████| 118/118 [00:01<00:00, 92.77it/s]\n"
          ]
        },
        {
          "output_type": "stream",
          "name": "stdout",
          "text": [
            "EPOCH -  18 . Train Accuracy =  0.13458824157714844 , Validation Accuracy =  0.12533333897590637\n",
            "Model Re-Saved\n"
          ]
        },
        {
          "output_type": "stream",
          "name": "stderr",
          "text": [
            "100%|██████████| 665/665 [00:08<00:00, 75.39it/s]\n",
            "100%|██████████| 118/118 [00:01<00:00, 92.24it/s]\n"
          ]
        },
        {
          "output_type": "stream",
          "name": "stdout",
          "text": [
            "EPOCH -  19 . Train Accuracy =  0.13760000467300415 , Validation Accuracy =  0.12293333560228348\n"
          ]
        },
        {
          "output_type": "stream",
          "name": "stderr",
          "text": [
            "100%|██████████| 665/665 [00:08<00:00, 76.23it/s]\n",
            "100%|██████████| 118/118 [00:01<00:00, 91.04it/s]\n"
          ]
        },
        {
          "output_type": "stream",
          "name": "stdout",
          "text": [
            "EPOCH -  20 . Train Accuracy =  0.13788235187530518 , Validation Accuracy =  0.12786667048931122\n",
            "Model Re-Saved\n"
          ]
        },
        {
          "output_type": "stream",
          "name": "stderr",
          "text": [
            "100%|██████████| 665/665 [00:08<00:00, 75.41it/s]\n",
            "100%|██████████| 118/118 [00:01<00:00, 93.55it/s]\n"
          ]
        },
        {
          "output_type": "stream",
          "name": "stdout",
          "text": [
            "EPOCH -  21 . Train Accuracy =  0.14004705846309662 , Validation Accuracy =  0.12573333084583282\n"
          ]
        },
        {
          "output_type": "stream",
          "name": "stderr",
          "text": [
            "100%|██████████| 665/665 [00:08<00:00, 78.16it/s]\n",
            "100%|██████████| 118/118 [00:01<00:00, 78.03it/s]\n"
          ]
        },
        {
          "output_type": "stream",
          "name": "stdout",
          "text": [
            "EPOCH -  22 . Train Accuracy =  0.1437647044658661 , Validation Accuracy =  0.12960000336170197\n",
            "Model Re-Saved\n"
          ]
        },
        {
          "output_type": "stream",
          "name": "stderr",
          "text": [
            "100%|██████████| 665/665 [00:08<00:00, 80.25it/s]\n",
            "100%|██████████| 118/118 [00:01<00:00, 84.77it/s]\n"
          ]
        },
        {
          "output_type": "stream",
          "name": "stdout",
          "text": [
            "EPOCH -  23 . Train Accuracy =  0.14541175961494446 , Validation Accuracy =  0.13026666641235352\n",
            "Model Re-Saved\n"
          ]
        },
        {
          "output_type": "stream",
          "name": "stderr",
          "text": [
            "100%|██████████| 665/665 [00:08<00:00, 76.47it/s]\n",
            "100%|██████████| 118/118 [00:01<00:00, 90.04it/s]\n"
          ]
        },
        {
          "output_type": "stream",
          "name": "stdout",
          "text": [
            "EPOCH -  24 . Train Accuracy =  0.14715294539928436 , Validation Accuracy =  0.13359999656677246\n",
            "Model Re-Saved\n"
          ]
        },
        {
          "output_type": "stream",
          "name": "stderr",
          "text": [
            "100%|██████████| 665/665 [00:08<00:00, 75.38it/s]\n",
            "100%|██████████| 118/118 [00:01<00:00, 92.69it/s]\n"
          ]
        },
        {
          "output_type": "stream",
          "name": "stdout",
          "text": [
            "EPOCH -  25 . Train Accuracy =  0.14938823878765106 , Validation Accuracy =  0.13520000874996185\n",
            "Model Re-Saved\n"
          ]
        },
        {
          "output_type": "stream",
          "name": "stderr",
          "text": [
            "100%|██████████| 665/665 [00:08<00:00, 74.68it/s]\n",
            "100%|██████████| 118/118 [00:01<00:00, 91.09it/s]\n"
          ]
        },
        {
          "output_type": "stream",
          "name": "stdout",
          "text": [
            "EPOCH -  26 . Train Accuracy =  0.151411771774292 , Validation Accuracy =  0.13493333756923676\n"
          ]
        },
        {
          "output_type": "stream",
          "name": "stderr",
          "text": [
            "100%|██████████| 665/665 [00:08<00:00, 75.64it/s]\n",
            "100%|██████████| 118/118 [00:01<00:00, 90.05it/s]\n"
          ]
        },
        {
          "output_type": "stream",
          "name": "stdout",
          "text": [
            "EPOCH -  27 . Train Accuracy =  0.15484705567359924 , Validation Accuracy =  0.1361333280801773\n",
            "Model Re-Saved\n"
          ]
        },
        {
          "output_type": "stream",
          "name": "stderr",
          "text": [
            "100%|██████████| 665/665 [00:08<00:00, 80.28it/s]\n",
            "100%|██████████| 118/118 [00:01<00:00, 64.96it/s]\n"
          ]
        },
        {
          "output_type": "stream",
          "name": "stdout",
          "text": [
            "EPOCH -  28 . Train Accuracy =  0.15390588343143463 , Validation Accuracy =  0.13973332941532135\n",
            "Model Re-Saved\n"
          ]
        },
        {
          "output_type": "stream",
          "name": "stderr",
          "text": [
            "100%|██████████| 665/665 [00:08<00:00, 81.35it/s]\n",
            "100%|██████████| 118/118 [00:01<00:00, 93.24it/s]\n"
          ]
        },
        {
          "output_type": "stream",
          "name": "stdout",
          "text": [
            "EPOCH -  29 . Train Accuracy =  0.15689411759376526 , Validation Accuracy =  0.13840000331401825\n"
          ]
        },
        {
          "output_type": "stream",
          "name": "stderr",
          "text": [
            "100%|██████████| 665/665 [00:08<00:00, 75.48it/s]\n",
            "100%|██████████| 118/118 [00:01<00:00, 91.21it/s]\n"
          ]
        },
        {
          "output_type": "stream",
          "name": "stdout",
          "text": [
            "EPOCH -  30 . Train Accuracy =  0.15877647697925568 , Validation Accuracy =  0.1398666650056839\n",
            "Model Re-Saved\n"
          ]
        },
        {
          "output_type": "stream",
          "name": "stderr",
          "text": [
            "100%|██████████| 665/665 [00:08<00:00, 74.98it/s]\n",
            "100%|██████████| 118/118 [00:01<00:00, 91.16it/s]\n"
          ]
        },
        {
          "output_type": "stream",
          "name": "stdout",
          "text": [
            "EPOCH -  31 . Train Accuracy =  0.16011764109134674 , Validation Accuracy =  0.1425333321094513\n",
            "Model Re-Saved\n"
          ]
        },
        {
          "output_type": "stream",
          "name": "stderr",
          "text": [
            "100%|██████████| 665/665 [00:08<00:00, 74.73it/s]\n",
            "100%|██████████| 118/118 [00:01<00:00, 91.69it/s]\n"
          ]
        },
        {
          "output_type": "stream",
          "name": "stdout",
          "text": [
            "EPOCH -  32 . Train Accuracy =  0.16164706647396088 , Validation Accuracy =  0.1441333293914795\n",
            "Model Re-Saved\n"
          ]
        },
        {
          "output_type": "stream",
          "name": "stderr",
          "text": [
            "100%|██████████| 665/665 [00:08<00:00, 75.01it/s]\n",
            "100%|██████████| 118/118 [00:01<00:00, 87.38it/s]\n"
          ]
        },
        {
          "output_type": "stream",
          "name": "stdout",
          "text": [
            "EPOCH -  33 . Train Accuracy =  0.163223534822464 , Validation Accuracy =  0.1459999978542328\n",
            "Model Re-Saved\n"
          ]
        },
        {
          "output_type": "stream",
          "name": "stderr",
          "text": [
            "100%|██████████| 665/665 [00:08<00:00, 81.54it/s]\n",
            "100%|██████████| 118/118 [00:01<00:00, 70.87it/s]\n"
          ]
        },
        {
          "output_type": "stream",
          "name": "stdout",
          "text": [
            "EPOCH -  34 . Train Accuracy =  0.16390588879585266 , Validation Accuracy =  0.14426666498184204\n"
          ]
        },
        {
          "output_type": "stream",
          "name": "stderr",
          "text": [
            "100%|██████████| 665/665 [00:08<00:00, 77.28it/s]\n",
            "100%|██████████| 118/118 [00:01<00:00, 94.83it/s]\n"
          ]
        },
        {
          "output_type": "stream",
          "name": "stdout",
          "text": [
            "EPOCH -  35 . Train Accuracy =  0.16694118082523346 , Validation Accuracy =  0.14506666362285614\n"
          ]
        },
        {
          "output_type": "stream",
          "name": "stderr",
          "text": [
            "100%|██████████| 665/665 [00:08<00:00, 75.22it/s]\n",
            "100%|██████████| 118/118 [00:01<00:00, 89.19it/s]\n"
          ]
        },
        {
          "output_type": "stream",
          "name": "stdout",
          "text": [
            "EPOCH -  36 . Train Accuracy =  0.16785882413387299 , Validation Accuracy =  0.14666666090488434\n",
            "Model Re-Saved\n"
          ]
        },
        {
          "output_type": "stream",
          "name": "stderr",
          "text": [
            "100%|██████████| 665/665 [00:08<00:00, 75.68it/s]\n",
            "100%|██████████| 118/118 [00:01<00:00, 93.39it/s]\n"
          ]
        },
        {
          "output_type": "stream",
          "name": "stdout",
          "text": [
            "EPOCH -  37 . Train Accuracy =  0.16748236119747162 , Validation Accuracy =  0.14840000867843628\n",
            "Model Re-Saved\n"
          ]
        },
        {
          "output_type": "stream",
          "name": "stderr",
          "text": [
            "100%|██████████| 665/665 [00:08<00:00, 75.57it/s]\n",
            "100%|██████████| 118/118 [00:01<00:00, 94.48it/s]\n"
          ]
        },
        {
          "output_type": "stream",
          "name": "stdout",
          "text": [
            "EPOCH -  38 . Train Accuracy =  0.16995294392108917 , Validation Accuracy =  0.147599995136261\n"
          ]
        },
        {
          "output_type": "stream",
          "name": "stderr",
          "text": [
            "100%|██████████| 665/665 [00:08<00:00, 76.29it/s]\n",
            "100%|██████████| 118/118 [00:01<00:00, 79.83it/s]\n"
          ]
        },
        {
          "output_type": "stream",
          "name": "stdout",
          "text": [
            "EPOCH -  39 . Train Accuracy =  0.17098823189735413 , Validation Accuracy =  0.15186667442321777\n",
            "Model Re-Saved\n"
          ]
        },
        {
          "output_type": "stream",
          "name": "stderr",
          "text": [
            "100%|██████████| 665/665 [00:08<00:00, 81.27it/s]\n",
            "100%|██████████| 118/118 [00:01<00:00, 80.10it/s]\n"
          ]
        },
        {
          "output_type": "stream",
          "name": "stdout",
          "text": [
            "EPOCH -  40 . Train Accuracy =  0.17127059400081635 , Validation Accuracy =  0.15186667442321777\n"
          ]
        },
        {
          "output_type": "stream",
          "name": "stderr",
          "text": [
            "100%|██████████| 665/665 [00:08<00:00, 76.00it/s]\n",
            "100%|██████████| 118/118 [00:01<00:00, 93.54it/s]\n"
          ]
        },
        {
          "output_type": "stream",
          "name": "stdout",
          "text": [
            "EPOCH -  41 . Train Accuracy =  0.17463529109954834 , Validation Accuracy =  0.14813333749771118\n"
          ]
        },
        {
          "output_type": "stream",
          "name": "stderr",
          "text": [
            "100%|██████████| 665/665 [00:08<00:00, 75.67it/s]\n",
            "100%|██████████| 118/118 [00:01<00:00, 91.30it/s]\n"
          ]
        },
        {
          "output_type": "stream",
          "name": "stdout",
          "text": [
            "EPOCH -  42 . Train Accuracy =  0.1748470664024353 , Validation Accuracy =  0.15013334155082703\n"
          ]
        },
        {
          "output_type": "stream",
          "name": "stderr",
          "text": [
            "100%|██████████| 665/665 [00:08<00:00, 75.13it/s]\n",
            "100%|██████████| 118/118 [00:01<00:00, 93.07it/s]\n"
          ]
        },
        {
          "output_type": "stream",
          "name": "stdout",
          "text": [
            "EPOCH -  43 . Train Accuracy =  0.1759529411792755 , Validation Accuracy =  0.15426667034626007\n",
            "Model Re-Saved\n"
          ]
        },
        {
          "output_type": "stream",
          "name": "stderr",
          "text": [
            "100%|██████████| 665/665 [00:08<00:00, 75.25it/s]\n",
            "100%|██████████| 118/118 [00:01<00:00, 93.55it/s]\n"
          ]
        },
        {
          "output_type": "stream",
          "name": "stdout",
          "text": [
            "EPOCH -  44 . Train Accuracy =  0.17687058448791504 , Validation Accuracy =  0.15559999644756317\n",
            "Model Re-Saved\n"
          ]
        },
        {
          "output_type": "stream",
          "name": "stderr",
          "text": [
            "100%|██████████| 665/665 [00:08<00:00, 81.03it/s]\n",
            "100%|██████████| 118/118 [00:01<00:00, 64.05it/s]\n"
          ]
        },
        {
          "output_type": "stream",
          "name": "stdout",
          "text": [
            "EPOCH -  45 . Train Accuracy =  0.17783530056476593 , Validation Accuracy =  0.15266667306423187\n"
          ]
        },
        {
          "output_type": "stream",
          "name": "stderr",
          "text": [
            "100%|██████████| 665/665 [00:08<00:00, 81.41it/s]\n",
            "100%|██████████| 118/118 [00:01<00:00, 92.39it/s]\n"
          ]
        },
        {
          "output_type": "stream",
          "name": "stdout",
          "text": [
            "EPOCH -  46 . Train Accuracy =  0.17971764504909515 , Validation Accuracy =  0.15533334016799927\n"
          ]
        },
        {
          "output_type": "stream",
          "name": "stderr",
          "text": [
            "100%|██████████| 665/665 [00:08<00:00, 73.91it/s]\n",
            "100%|██████████| 118/118 [00:01<00:00, 93.00it/s]\n"
          ]
        },
        {
          "output_type": "stream",
          "name": "stdout",
          "text": [
            "EPOCH -  47 . Train Accuracy =  0.18039999902248383 , Validation Accuracy =  0.15720000863075256\n",
            "Model Re-Saved\n"
          ]
        },
        {
          "output_type": "stream",
          "name": "stderr",
          "text": [
            "100%|██████████| 665/665 [00:08<00:00, 75.26it/s]\n",
            "100%|██████████| 118/118 [00:01<00:00, 91.97it/s]\n"
          ]
        },
        {
          "output_type": "stream",
          "name": "stdout",
          "text": [
            "EPOCH -  48 . Train Accuracy =  0.1820470541715622 , Validation Accuracy =  0.15613333880901337\n"
          ]
        },
        {
          "output_type": "stream",
          "name": "stderr",
          "text": [
            "100%|██████████| 665/665 [00:08<00:00, 74.93it/s]\n",
            "100%|██████████| 118/118 [00:01<00:00, 92.67it/s]\n"
          ]
        },
        {
          "output_type": "stream",
          "name": "stdout",
          "text": [
            "EPOCH -  49 . Train Accuracy =  0.18371765315532684 , Validation Accuracy =  0.15533334016799927\n"
          ]
        },
        {
          "output_type": "stream",
          "name": "stderr",
          "text": [
            "100%|██████████| 665/665 [00:08<00:00, 75.54it/s]\n",
            "100%|██████████| 118/118 [00:01<00:00, 94.10it/s]\n"
          ]
        },
        {
          "output_type": "stream",
          "name": "stdout",
          "text": [
            "EPOCH -  50 . Train Accuracy =  0.1834588199853897 , Validation Accuracy =  0.15826666355133057\n",
            "Model Re-Saved\n",
            "\n"
          ]
        },
        {
          "output_type": "stream",
          "name": "stderr",
          "text": [
            "100%|██████████| 665/665 [00:07<00:00, 92.65it/s]\n"
          ]
        },
        {
          "output_type": "stream",
          "name": "stdout",
          "text": [
            "Train Accuracy =  0.18576470017433167\n"
          ]
        },
        {
          "output_type": "stream",
          "name": "stderr",
          "text": [
            "100%|██████████| 157/157 [00:01<00:00, 85.24it/s]"
          ]
        },
        {
          "output_type": "stream",
          "name": "stdout",
          "text": [
            "Test Accuracy =  0.15519998967647552\n",
            "Generalization Gap =  0.03056471049785614\n"
          ]
        },
        {
          "output_type": "stream",
          "name": "stderr",
          "text": [
            "\n"
          ]
        }
      ]
    },
    {
      "cell_type": "code",
      "source": [
        "PlotGraph(Epoch_List, TrainAcc_List, ValAcc_List)"
      ],
      "metadata": {
        "colab": {
          "base_uri": "https://localhost:8080/",
          "height": 449
        },
        "id": "ljUEnM9qm8IL",
        "outputId": "60cfcffe-8e24-4fd1-deb7-72b9d5784937"
      },
      "execution_count": null,
      "outputs": [
        {
          "output_type": "display_data",
          "data": {
            "text/plain": [
              "<Figure size 640x480 with 1 Axes>"
            ],
            "image/png": "[encoded data removed]"
          },
          "metadata": {}
        }
      ]
    },
    {
      "cell_type": "code",
      "source": [],
      "metadata": {
        "id": "VUWIpQhQ5xjU"
      },
      "execution_count": null,
      "outputs": []
    },
    {
      "cell_type": "code",
      "source": [
        "# # transform2 = transforms.Compose([\n",
        "# #                     transforms.ToList(), \n",
        "# #                     # transforms.Normalize((0.5,), (0.5,)),\n",
        "# #             ])\n",
        "\n",
        "# def GetRandomizedCIFAR(p_NoisePercentage, p_BatchSize):\n",
        "#     X_Train = []\n",
        "#     Y_Train = []\n",
        "\n",
        "#     train_dataset = datasets.CIFAR10(\"./\", train=True, transform = transform, download=True)\n",
        "#     train_subset, val_subset = torch.utils.data.random_split(train_dataset, [int(len(train_dataset) * 0.85), int(len(train_dataset) * 0.15)], generator=torch.Generator().manual_seed(1))\n",
        "#     test_dataset = datasets.CIFAR10(\"./\", train=False, transform = transform,  download=True)\n",
        "\n",
        "\n",
        "\n",
        "#     print(train_dataset[0][0].shape)\n",
        "#     print(train_dataset[0][0].tolist())\n",
        "#     print(len(train_dataset[0][0].tolist()))\n",
        "#     print(len(train_subset))\n",
        "    \n",
        "#     cnt = 0\n",
        "#     for i in range (len(train_subset)):\n",
        "#         X_Train.append(train_subset[i][0].tolist())\n",
        "#         if cnt < p_NoisePercentage * len(train_subset):\n",
        "#             Y_Train.append(random.randint(0, 9))\n",
        "#             cnt += 1\n",
        "        \n",
        "#         else:\n",
        "#             Y_Train.append(train_subset[i][0].tolist())\n",
        "\n",
        "#     Val_DataLoader = torch.utils.data.DataLoader(val_subset, batch_size = p_BatchSize, shuffle = True)\n",
        "#     Test_DataLoader = torch.utils.data.DataLoader(test_dataset, batch_size = p_BatchSize, shuffle = True)\n",
        "\n",
        "#     return X_Train, Y_Train, Val_DataLoader, Test_DataLoader\n"
      ],
      "metadata": {
        "id": "_dsC_zg65xzA"
      },
      "execution_count": null,
      "outputs": []
    },
    {
      "cell_type": "code",
      "source": [
        "# X_Train, Y_Train, Val_DataLoader, Test_DataLoader = GetRandomizedCIFAR(0.25, 64)\n",
        "\n"
      ],
      "metadata": {
        "id": "Th648n7i8SZH"
      },
      "execution_count": null,
      "outputs": []
    },
    {
      "cell_type": "code",
      "source": [
        "# X_Batch, Y_Batch = GetBatchData(X_Train, Y_Train, 2, 64)\n",
        "# # print(Y_Train[:10])\n",
        "# print(X_Batch.shape)\n",
        "# print(Y_Batch.shape)\n",
        "# print(Y_Batch)"
      ],
      "metadata": {
        "id": "_yIsyvuiO0Ii"
      },
      "execution_count": null,
      "outputs": []
    },
    {
      "cell_type": "code",
      "source": [],
      "metadata": {
        "id": "3-IEBP8eWUB7"
      },
      "execution_count": null,
      "outputs": []
    },
    {
      "cell_type": "code",
      "source": [
        "# X_Train, Y_Train, Val_DataLoader, Test_DataLoader = GetRandomizedCIFAR(0.20, 64)"
      ],
      "metadata": {
        "id": "5_ji8v9RWUK3"
      },
      "execution_count": null,
      "outputs": []
    },
    {
      "cell_type": "code",
      "source": [
        "# -------------------------------------------- CIFAR-10 Dataset with 20% Randomness -----------------------------------------------------------\n",
        "Option = 7\n",
        "Train_DataLoader, Val_DataLoader, Test_DataLoader = CreateDataLoaders(Option, 64, RandomNoisePerc=0.2)\n",
        "ModelName = \"Model_AllConv_CIFAR10_R20.pt\"\n",
        "\n",
        "model = AllConv(10).to(device)\n",
        "loss_criteria = nn.CrossEntropyLoss()\n",
        "AdamOpt = torch.optim.Adam(model.parameters(), lr=0.0001)\n",
        "\n",
        "ValAccuracy = 0\n",
        "TrainAcc_List = []\n",
        "ValAcc_List = []\n",
        "\n",
        "saved = False\n",
        "if saved == True:\n",
        "    saved_model = torch.load(ModelName, map_location=torch.device('cpu')).to(device)\n",
        "else:\n",
        "    model.train()\n",
        "    Train_Accuracy = 0\n",
        "\n",
        "    for e in range(EPOCHS):\n",
        "        Train_Accuracy = TrainModel(model, loss_criteria, AdamOpt, device, Train_DataLoader)\n",
        "        val_acc = EvaluateModel(model, Val_DataLoader, device)\n",
        "\n",
        "        TrainAcc_List.append(Train_Accuracy.cpu().item())\n",
        "        ValAcc_List.append(val_acc.cpu().item())\n",
        "\n",
        "        print(\"EPOCH - \", e+1, \". Train Accuracy = \", Train_Accuracy.cpu().item(), \", Validation Accuracy = \", val_acc.cpu().item())\n",
        "        \n",
        "        if val_acc.cpu().item() > ValAccuracy:\n",
        "            print(\"Model Re-Saved\")\n",
        "            ValAccuracy = val_acc.cpu().item()\n",
        "            torch.save(model, ModelName)\n",
        "\n",
        "    saved_model = torch.load(ModelName, map_location=torch.device('cpu')).to(device)\n",
        "\n",
        "\n",
        "print()\n",
        "\n",
        "Train_Accuracy = EvaluateModel(saved_model, Train_DataLoader, device)\n",
        "print(\"Train Accuracy = \", Train_Accuracy.cpu().item())\n",
        "Test_Accuracy = EvaluateModel(saved_model, Test_DataLoader, device)\n",
        "print(\"Test Accuracy = \", Test_Accuracy.cpu().item())\n",
        "\n",
        "print(\"Generalization Gap = \", (Train_Accuracy.cpu().item() - Test_Accuracy.cpu().item()))"
      ],
      "metadata": {
        "id": "xE10ZR7kP2y-",
        "colab": {
          "base_uri": "https://localhost:8080/"
        },
        "outputId": "03a1cabc-f5db-453e-ba16-344db09431e4"
      },
      "execution_count": null,
      "outputs": [
        {
          "output_type": "stream",
          "name": "stdout",
          "text": [
            "Files already downloaded and verified\n",
            "Files already downloaded and verified\n"
          ]
        },
        {
          "output_type": "stream",
          "name": "stderr",
          "text": [
            "100%|██████████| 665/665 [00:09<00:00, 73.73it/s]\n",
            "100%|██████████| 118/118 [00:01<00:00, 91.39it/s]\n"
          ]
        },
        {
          "output_type": "stream",
          "name": "stdout",
          "text": [
            "EPOCH -  1 . Train Accuracy =  0.1967294067144394 , Validation Accuracy =  0.25866666436195374\n",
            "Model Re-Saved\n"
          ]
        },
        {
          "output_type": "stream",
          "name": "stderr",
          "text": [
            "100%|██████████| 665/665 [00:08<00:00, 80.02it/s]\n",
            "100%|██████████| 118/118 [00:01<00:00, 66.17it/s]\n"
          ]
        },
        {
          "output_type": "stream",
          "name": "stdout",
          "text": [
            "EPOCH -  2 . Train Accuracy =  0.27115294337272644 , Validation Accuracy =  0.28306666016578674\n",
            "Model Re-Saved\n"
          ]
        },
        {
          "output_type": "stream",
          "name": "stderr",
          "text": [
            "100%|██████████| 665/665 [00:08<00:00, 81.17it/s]\n",
            "100%|██████████| 118/118 [00:01<00:00, 92.81it/s]\n"
          ]
        },
        {
          "output_type": "stream",
          "name": "stdout",
          "text": [
            "EPOCH -  3 . Train Accuracy =  0.29924705624580383 , Validation Accuracy =  0.31093335151672363\n",
            "Model Re-Saved\n"
          ]
        },
        {
          "output_type": "stream",
          "name": "stderr",
          "text": [
            "100%|██████████| 665/665 [00:08<00:00, 76.04it/s]\n",
            "100%|██████████| 118/118 [00:01<00:00, 92.15it/s]\n"
          ]
        },
        {
          "output_type": "stream",
          "name": "stdout",
          "text": [
            "EPOCH -  4 . Train Accuracy =  0.32296469807624817 , Validation Accuracy =  0.32066667079925537\n",
            "Model Re-Saved\n"
          ]
        },
        {
          "output_type": "stream",
          "name": "stderr",
          "text": [
            "100%|██████████| 665/665 [00:08<00:00, 74.90it/s]\n",
            "100%|██████████| 118/118 [00:01<00:00, 93.39it/s]\n"
          ]
        },
        {
          "output_type": "stream",
          "name": "stdout",
          "text": [
            "EPOCH -  5 . Train Accuracy =  0.33896470069885254 , Validation Accuracy =  0.3441333472728729\n",
            "Model Re-Saved\n"
          ]
        },
        {
          "output_type": "stream",
          "name": "stderr",
          "text": [
            "100%|██████████| 665/665 [00:08<00:00, 75.41it/s]\n",
            "100%|██████████| 118/118 [00:01<00:00, 91.51it/s]\n"
          ]
        },
        {
          "output_type": "stream",
          "name": "stdout",
          "text": [
            "EPOCH -  6 . Train Accuracy =  0.34978824853897095 , Validation Accuracy =  0.3529333472251892\n",
            "Model Re-Saved\n"
          ]
        },
        {
          "output_type": "stream",
          "name": "stderr",
          "text": [
            "100%|██████████| 665/665 [00:08<00:00, 75.50it/s]\n",
            "100%|██████████| 118/118 [00:01<00:00, 84.58it/s]\n"
          ]
        },
        {
          "output_type": "stream",
          "name": "stdout",
          "text": [
            "EPOCH -  7 . Train Accuracy =  0.3586353063583374 , Validation Accuracy =  0.35546666383743286\n",
            "Model Re-Saved\n"
          ]
        },
        {
          "output_type": "stream",
          "name": "stderr",
          "text": [
            "100%|██████████| 665/665 [00:08<00:00, 81.15it/s]\n",
            "100%|██████████| 118/118 [00:01<00:00, 62.89it/s]\n"
          ]
        },
        {
          "output_type": "stream",
          "name": "stdout",
          "text": [
            "EPOCH -  8 . Train Accuracy =  0.36651766300201416 , Validation Accuracy =  0.35866665840148926\n",
            "Model Re-Saved\n"
          ]
        },
        {
          "output_type": "stream",
          "name": "stderr",
          "text": [
            "100%|██████████| 665/665 [00:08<00:00, 80.41it/s]\n",
            "100%|██████████| 118/118 [00:01<00:00, 92.49it/s]\n"
          ]
        },
        {
          "output_type": "stream",
          "name": "stdout",
          "text": [
            "EPOCH -  9 . Train Accuracy =  0.36922353506088257 , Validation Accuracy =  0.36399999260902405\n",
            "Model Re-Saved\n"
          ]
        },
        {
          "output_type": "stream",
          "name": "stderr",
          "text": [
            "100%|██████████| 665/665 [00:08<00:00, 75.00it/s]\n",
            "100%|██████████| 118/118 [00:01<00:00, 92.28it/s]\n"
          ]
        },
        {
          "output_type": "stream",
          "name": "stdout",
          "text": [
            "EPOCH -  10 . Train Accuracy =  0.37545883655548096 , Validation Accuracy =  0.3713333308696747\n",
            "Model Re-Saved\n"
          ]
        },
        {
          "output_type": "stream",
          "name": "stderr",
          "text": [
            "100%|██████████| 665/665 [00:08<00:00, 74.30it/s]\n",
            "100%|██████████| 118/118 [00:01<00:00, 92.07it/s]\n"
          ]
        },
        {
          "output_type": "stream",
          "name": "stdout",
          "text": [
            "EPOCH -  11 . Train Accuracy =  0.38058823347091675 , Validation Accuracy =  0.38040000200271606\n",
            "Model Re-Saved\n"
          ]
        },
        {
          "output_type": "stream",
          "name": "stderr",
          "text": [
            "100%|██████████| 665/665 [00:08<00:00, 74.94it/s]\n",
            "100%|██████████| 118/118 [00:01<00:00, 91.54it/s]\n"
          ]
        },
        {
          "output_type": "stream",
          "name": "stdout",
          "text": [
            "EPOCH -  12 . Train Accuracy =  0.384517639875412 , Validation Accuracy =  0.3776000142097473\n"
          ]
        },
        {
          "output_type": "stream",
          "name": "stderr",
          "text": [
            "100%|██████████| 665/665 [00:08<00:00, 75.10it/s]\n",
            "100%|██████████| 118/118 [00:01<00:00, 92.51it/s]\n"
          ]
        },
        {
          "output_type": "stream",
          "name": "stdout",
          "text": [
            "EPOCH -  13 . Train Accuracy =  0.38790589570999146 , Validation Accuracy =  0.3770666718482971\n"
          ]
        },
        {
          "output_type": "stream",
          "name": "stderr",
          "text": [
            "100%|██████████| 665/665 [00:08<00:00, 79.82it/s]\n",
            "100%|██████████| 118/118 [00:01<00:00, 67.21it/s]\n"
          ]
        },
        {
          "output_type": "stream",
          "name": "stdout",
          "text": [
            "EPOCH -  14 . Train Accuracy =  0.3918117582798004 , Validation Accuracy =  0.3869333267211914\n",
            "Model Re-Saved\n"
          ]
        },
        {
          "output_type": "stream",
          "name": "stderr",
          "text": [
            "100%|██████████| 665/665 [00:08<00:00, 78.85it/s]\n",
            "100%|██████████| 118/118 [00:01<00:00, 92.80it/s]\n"
          ]
        },
        {
          "output_type": "stream",
          "name": "stdout",
          "text": [
            "EPOCH -  15 . Train Accuracy =  0.3937176465988159 , Validation Accuracy =  0.3858666718006134\n"
          ]
        },
        {
          "output_type": "stream",
          "name": "stderr",
          "text": [
            "100%|██████████| 665/665 [00:08<00:00, 75.17it/s]\n",
            "100%|██████████| 118/118 [00:01<00:00, 92.98it/s]\n"
          ]
        },
        {
          "output_type": "stream",
          "name": "stdout",
          "text": [
            "EPOCH -  16 . Train Accuracy =  0.39889413118362427 , Validation Accuracy =  0.390666663646698\n",
            "Model Re-Saved\n"
          ]
        },
        {
          "output_type": "stream",
          "name": "stderr",
          "text": [
            "100%|██████████| 665/665 [00:08<00:00, 75.07it/s]\n",
            "100%|██████████| 118/118 [00:01<00:00, 91.99it/s]\n"
          ]
        },
        {
          "output_type": "stream",
          "name": "stdout",
          "text": [
            "EPOCH -  17 . Train Accuracy =  0.40007057785987854 , Validation Accuracy =  0.3869333267211914\n"
          ]
        },
        {
          "output_type": "stream",
          "name": "stderr",
          "text": [
            "100%|██████████| 665/665 [00:08<00:00, 75.30it/s]\n",
            "100%|██████████| 118/118 [00:01<00:00, 91.33it/s]\n"
          ]
        },
        {
          "output_type": "stream",
          "name": "stdout",
          "text": [
            "EPOCH -  18 . Train Accuracy =  0.40228235721588135 , Validation Accuracy =  0.39800000190734863\n",
            "Model Re-Saved\n"
          ]
        },
        {
          "output_type": "stream",
          "name": "stderr",
          "text": [
            "100%|██████████| 665/665 [00:08<00:00, 75.85it/s]\n",
            "100%|██████████| 118/118 [00:01<00:00, 80.49it/s]\n"
          ]
        },
        {
          "output_type": "stream",
          "name": "stdout",
          "text": [
            "EPOCH -  19 . Train Accuracy =  0.404729425907135 , Validation Accuracy =  0.3903999924659729\n"
          ]
        },
        {
          "output_type": "stream",
          "name": "stderr",
          "text": [
            "100%|██████████| 665/665 [00:08<00:00, 80.83it/s]\n",
            "100%|██████████| 118/118 [00:01<00:00, 78.88it/s]\n"
          ]
        },
        {
          "output_type": "stream",
          "name": "stdout",
          "text": [
            "EPOCH -  20 . Train Accuracy =  0.4081176519393921 , Validation Accuracy =  0.3994666635990143\n",
            "Model Re-Saved\n"
          ]
        },
        {
          "output_type": "stream",
          "name": "stderr",
          "text": [
            "100%|██████████| 665/665 [00:08<00:00, 77.81it/s]\n",
            "100%|██████████| 118/118 [00:01<00:00, 94.38it/s]\n"
          ]
        },
        {
          "output_type": "stream",
          "name": "stdout",
          "text": [
            "EPOCH -  21 . Train Accuracy =  0.40943530201911926 , Validation Accuracy =  0.3988000154495239\n"
          ]
        },
        {
          "output_type": "stream",
          "name": "stderr",
          "text": [
            "100%|██████████| 665/665 [00:08<00:00, 75.06it/s]\n",
            "100%|██████████| 118/118 [00:01<00:00, 93.23it/s]\n"
          ]
        },
        {
          "output_type": "stream",
          "name": "stdout",
          "text": [
            "EPOCH -  22 . Train Accuracy =  0.41155293583869934 , Validation Accuracy =  0.3912000060081482\n"
          ]
        },
        {
          "output_type": "stream",
          "name": "stderr",
          "text": [
            "100%|██████████| 665/665 [00:08<00:00, 75.65it/s]\n",
            "100%|██████████| 118/118 [00:01<00:00, 89.61it/s]\n"
          ]
        },
        {
          "output_type": "stream",
          "name": "stdout",
          "text": [
            "EPOCH -  23 . Train Accuracy =  0.4125646948814392 , Validation Accuracy =  0.4013333320617676\n",
            "Model Re-Saved\n"
          ]
        },
        {
          "output_type": "stream",
          "name": "stderr",
          "text": [
            "100%|██████████| 665/665 [00:08<00:00, 74.87it/s]\n",
            "100%|██████████| 118/118 [00:01<00:00, 92.90it/s]\n"
          ]
        },
        {
          "output_type": "stream",
          "name": "stdout",
          "text": [
            "EPOCH -  24 . Train Accuracy =  0.41552940011024475 , Validation Accuracy =  0.4000000059604645\n"
          ]
        },
        {
          "output_type": "stream",
          "name": "stderr",
          "text": [
            "100%|██████████| 665/665 [00:08<00:00, 78.36it/s]\n",
            "100%|██████████| 118/118 [00:01<00:00, 69.30it/s]\n"
          ]
        },
        {
          "output_type": "stream",
          "name": "stdout",
          "text": [
            "EPOCH -  25 . Train Accuracy =  0.41665881872177124 , Validation Accuracy =  0.4005333483219147\n"
          ]
        },
        {
          "output_type": "stream",
          "name": "stderr",
          "text": [
            "100%|██████████| 665/665 [00:08<00:00, 80.61it/s]\n",
            "100%|██████████| 118/118 [00:01<00:00, 93.51it/s]\n"
          ]
        },
        {
          "output_type": "stream",
          "name": "stdout",
          "text": [
            "EPOCH -  26 . Train Accuracy =  0.4194588363170624 , Validation Accuracy =  0.4054666757583618\n",
            "Model Re-Saved\n"
          ]
        },
        {
          "output_type": "stream",
          "name": "stderr",
          "text": [
            "100%|██████████| 665/665 [00:08<00:00, 74.51it/s]\n",
            "100%|██████████| 118/118 [00:01<00:00, 91.17it/s]\n"
          ]
        },
        {
          "output_type": "stream",
          "name": "stdout",
          "text": [
            "EPOCH -  27 . Train Accuracy =  0.4224470555782318 , Validation Accuracy =  0.4017333388328552\n"
          ]
        },
        {
          "output_type": "stream",
          "name": "stderr",
          "text": [
            "100%|██████████| 665/665 [00:08<00:00, 75.33it/s]\n",
            "100%|██████████| 118/118 [00:01<00:00, 93.16it/s]\n"
          ]
        },
        {
          "output_type": "stream",
          "name": "stdout",
          "text": [
            "EPOCH -  28 . Train Accuracy =  0.42315295338630676 , Validation Accuracy =  0.40906667709350586\n",
            "Model Re-Saved\n"
          ]
        },
        {
          "output_type": "stream",
          "name": "stderr",
          "text": [
            "100%|██████████| 665/665 [00:08<00:00, 75.06it/s]\n",
            "100%|██████████| 118/118 [00:01<00:00, 91.06it/s]\n"
          ]
        },
        {
          "output_type": "stream",
          "name": "stdout",
          "text": [
            "EPOCH -  29 . Train Accuracy =  0.42555293440818787 , Validation Accuracy =  0.40773335099220276\n"
          ]
        },
        {
          "output_type": "stream",
          "name": "stderr",
          "text": [
            "100%|██████████| 665/665 [00:08<00:00, 75.12it/s]\n",
            "100%|██████████| 118/118 [00:01<00:00, 90.64it/s]\n"
          ]
        },
        {
          "output_type": "stream",
          "name": "stdout",
          "text": [
            "EPOCH -  30 . Train Accuracy =  0.428352952003479 , Validation Accuracy =  0.4068000018596649\n"
          ]
        },
        {
          "output_type": "stream",
          "name": "stderr",
          "text": [
            "100%|██████████| 665/665 [00:08<00:00, 80.68it/s]\n",
            "100%|██████████| 118/118 [00:01<00:00, 65.62it/s]\n"
          ]
        },
        {
          "output_type": "stream",
          "name": "stdout",
          "text": [
            "EPOCH -  31 . Train Accuracy =  0.42910587787628174 , Validation Accuracy =  0.412933349609375\n",
            "Model Re-Saved\n"
          ]
        },
        {
          "output_type": "stream",
          "name": "stderr",
          "text": [
            "100%|██████████| 665/665 [00:08<00:00, 80.23it/s]\n",
            "100%|██████████| 118/118 [00:01<00:00, 94.15it/s]\n"
          ]
        },
        {
          "output_type": "stream",
          "name": "stdout",
          "text": [
            "EPOCH -  32 . Train Accuracy =  0.4305647015571594 , Validation Accuracy =  0.4134666621685028\n",
            "Model Re-Saved\n"
          ]
        },
        {
          "output_type": "stream",
          "name": "stderr",
          "text": [
            "100%|██████████| 665/665 [00:08<00:00, 74.49it/s]\n",
            "100%|██████████| 118/118 [00:01<00:00, 91.71it/s]\n"
          ]
        },
        {
          "output_type": "stream",
          "name": "stdout",
          "text": [
            "EPOCH -  33 . Train Accuracy =  0.43150588870048523 , Validation Accuracy =  0.41359999775886536\n",
            "Model Re-Saved\n"
          ]
        },
        {
          "output_type": "stream",
          "name": "stderr",
          "text": [
            "100%|██████████| 665/665 [00:08<00:00, 74.70it/s]\n",
            "100%|██████████| 118/118 [00:01<00:00, 93.06it/s]\n"
          ]
        },
        {
          "output_type": "stream",
          "name": "stdout",
          "text": [
            "EPOCH -  34 . Train Accuracy =  0.43355295062065125 , Validation Accuracy =  0.41466668248176575\n",
            "Model Re-Saved\n"
          ]
        },
        {
          "output_type": "stream",
          "name": "stderr",
          "text": [
            "100%|██████████| 665/665 [00:08<00:00, 74.49it/s]\n",
            "100%|██████████| 118/118 [00:01<00:00, 92.59it/s]\n"
          ]
        },
        {
          "output_type": "stream",
          "name": "stdout",
          "text": [
            "EPOCH -  35 . Train Accuracy =  0.43578824400901794 , Validation Accuracy =  0.4180000126361847\n",
            "Model Re-Saved\n"
          ]
        },
        {
          "output_type": "stream",
          "name": "stderr",
          "text": [
            "100%|██████████| 665/665 [00:08<00:00, 75.00it/s]\n",
            "100%|██████████| 118/118 [00:01<00:00, 92.91it/s]\n"
          ]
        },
        {
          "output_type": "stream",
          "name": "stdout",
          "text": [
            "EPOCH -  36 . Train Accuracy =  0.4361411929130554 , Validation Accuracy =  0.41626667976379395\n"
          ]
        },
        {
          "output_type": "stream",
          "name": "stderr",
          "text": [
            "100%|██████████| 665/665 [00:08<00:00, 81.91it/s]\n",
            "100%|██████████| 118/118 [00:01<00:00, 68.92it/s]\n"
          ]
        },
        {
          "output_type": "stream",
          "name": "stdout",
          "text": [
            "EPOCH -  37 . Train Accuracy =  0.43736469745635986 , Validation Accuracy =  0.41786667704582214\n"
          ]
        },
        {
          "output_type": "stream",
          "name": "stderr",
          "text": [
            "100%|██████████| 665/665 [00:08<00:00, 78.27it/s]\n",
            "100%|██████████| 118/118 [00:01<00:00, 91.66it/s]\n"
          ]
        },
        {
          "output_type": "stream",
          "name": "stdout",
          "text": [
            "EPOCH -  38 . Train Accuracy =  0.44009411334991455 , Validation Accuracy =  0.41546666622161865\n"
          ]
        },
        {
          "output_type": "stream",
          "name": "stderr",
          "text": [
            "100%|██████████| 665/665 [00:08<00:00, 74.57it/s]\n",
            "100%|██████████| 118/118 [00:01<00:00, 91.89it/s]\n"
          ]
        },
        {
          "output_type": "stream",
          "name": "stdout",
          "text": [
            "EPOCH -  39 . Train Accuracy =  0.44249412417411804 , Validation Accuracy =  0.41840001940727234\n",
            "Model Re-Saved\n"
          ]
        },
        {
          "output_type": "stream",
          "name": "stderr",
          "text": [
            "100%|██████████| 665/665 [00:08<00:00, 75.72it/s]\n",
            "100%|██████████| 118/118 [00:01<00:00, 93.28it/s]\n"
          ]
        },
        {
          "output_type": "stream",
          "name": "stdout",
          "text": [
            "EPOCH -  40 . Train Accuracy =  0.4416470527648926 , Validation Accuracy =  0.41733333468437195\n"
          ]
        },
        {
          "output_type": "stream",
          "name": "stderr",
          "text": [
            "100%|██████████| 665/665 [00:08<00:00, 75.30it/s]\n",
            "100%|██████████| 118/118 [00:01<00:00, 89.55it/s]\n"
          ]
        },
        {
          "output_type": "stream",
          "name": "stdout",
          "text": [
            "EPOCH -  41 . Train Accuracy =  0.4462588131427765 , Validation Accuracy =  0.4236000180244446\n",
            "Model Re-Saved\n"
          ]
        },
        {
          "output_type": "stream",
          "name": "stderr",
          "text": [
            "100%|██████████| 665/665 [00:08<00:00, 75.90it/s]\n",
            "100%|██████████| 118/118 [00:01<00:00, 80.11it/s]\n"
          ]
        },
        {
          "output_type": "stream",
          "name": "stdout",
          "text": [
            "EPOCH -  42 . Train Accuracy =  0.44628235697746277 , Validation Accuracy =  0.4177333414554596\n"
          ]
        },
        {
          "output_type": "stream",
          "name": "stderr",
          "text": [
            "100%|██████████| 665/665 [00:08<00:00, 80.99it/s]\n",
            "100%|██████████| 118/118 [00:01<00:00, 75.23it/s]\n"
          ]
        },
        {
          "output_type": "stream",
          "name": "stdout",
          "text": [
            "EPOCH -  43 . Train Accuracy =  0.4463764727115631 , Validation Accuracy =  0.42266666889190674\n"
          ]
        },
        {
          "output_type": "stream",
          "name": "stderr",
          "text": [
            "100%|██████████| 665/665 [00:08<00:00, 76.41it/s]\n",
            "100%|██████████| 118/118 [00:01<00:00, 89.70it/s]\n"
          ]
        },
        {
          "output_type": "stream",
          "name": "stdout",
          "text": [
            "EPOCH -  44 . Train Accuracy =  0.44807058572769165 , Validation Accuracy =  0.4238666594028473\n",
            "Model Re-Saved\n"
          ]
        },
        {
          "output_type": "stream",
          "name": "stderr",
          "text": [
            "100%|██████████| 665/665 [00:08<00:00, 75.21it/s]\n",
            "100%|██████████| 118/118 [00:01<00:00, 92.50it/s]\n"
          ]
        },
        {
          "output_type": "stream",
          "name": "stdout",
          "text": [
            "EPOCH -  45 . Train Accuracy =  0.4500235319137573 , Validation Accuracy =  0.42239999771118164\n"
          ]
        },
        {
          "output_type": "stream",
          "name": "stderr",
          "text": [
            "100%|██████████| 665/665 [00:08<00:00, 75.33it/s]\n",
            "100%|██████████| 118/118 [00:01<00:00, 93.29it/s]\n"
          ]
        },
        {
          "output_type": "stream",
          "name": "stdout",
          "text": [
            "EPOCH -  46 . Train Accuracy =  0.45256471633911133 , Validation Accuracy =  0.42293334007263184\n"
          ]
        },
        {
          "output_type": "stream",
          "name": "stderr",
          "text": [
            "100%|██████████| 665/665 [00:08<00:00, 75.54it/s]\n",
            "100%|██████████| 118/118 [00:01<00:00, 91.59it/s]\n"
          ]
        },
        {
          "output_type": "stream",
          "name": "stdout",
          "text": [
            "EPOCH -  47 . Train Accuracy =  0.4518117606639862 , Validation Accuracy =  0.4286666810512543\n",
            "Model Re-Saved\n"
          ]
        },
        {
          "output_type": "stream",
          "name": "stderr",
          "text": [
            "100%|██████████| 665/665 [00:08<00:00, 77.49it/s]\n",
            "100%|██████████| 118/118 [00:01<00:00, 72.71it/s]\n"
          ]
        },
        {
          "output_type": "stream",
          "name": "stdout",
          "text": [
            "EPOCH -  48 . Train Accuracy =  0.45237648487091064 , Validation Accuracy =  0.4284000098705292\n"
          ]
        },
        {
          "output_type": "stream",
          "name": "stderr",
          "text": [
            "100%|██████████| 665/665 [00:08<00:00, 81.55it/s]\n",
            "100%|██████████| 118/118 [00:01<00:00, 90.23it/s]\n"
          ]
        },
        {
          "output_type": "stream",
          "name": "stdout",
          "text": [
            "EPOCH -  49 . Train Accuracy =  0.453741192817688 , Validation Accuracy =  0.4311999976634979\n",
            "Model Re-Saved\n"
          ]
        },
        {
          "output_type": "stream",
          "name": "stderr",
          "text": [
            "100%|██████████| 665/665 [00:08<00:00, 75.25it/s]\n",
            "100%|██████████| 118/118 [00:01<00:00, 90.33it/s]\n"
          ]
        },
        {
          "output_type": "stream",
          "name": "stdout",
          "text": [
            "EPOCH -  50 . Train Accuracy =  0.4569176435470581 , Validation Accuracy =  0.43053334951400757\n",
            "\n"
          ]
        },
        {
          "output_type": "stream",
          "name": "stderr",
          "text": [
            "100%|██████████| 665/665 [00:08<00:00, 81.88it/s]\n"
          ]
        },
        {
          "output_type": "stream",
          "name": "stdout",
          "text": [
            "Train Accuracy =  0.4570588171482086\n"
          ]
        },
        {
          "output_type": "stream",
          "name": "stderr",
          "text": [
            "100%|██████████| 157/157 [00:01<00:00, 93.10it/s]"
          ]
        },
        {
          "output_type": "stream",
          "name": "stdout",
          "text": [
            "Test Accuracy =  0.43639999628067017\n",
            "Generalization Gap =  0.020658820867538452\n"
          ]
        },
        {
          "output_type": "stream",
          "name": "stderr",
          "text": [
            "\n"
          ]
        }
      ]
    },
    {
      "cell_type": "code",
      "source": [
        "PlotGraph(Epoch_List, TrainAcc_List, ValAcc_List)"
      ],
      "metadata": {
        "colab": {
          "base_uri": "https://localhost:8080/",
          "height": 449
        },
        "id": "Vt6s1TD-WcWh",
        "outputId": "f4da3279-94ed-4f1e-82f2-0471cc2fa510"
      },
      "execution_count": null,
      "outputs": [
        {
          "output_type": "display_data",
          "data": {
            "text/plain": [
              "<Figure size 640x480 with 1 Axes>"
            ],
            "image/png": "[encoded data removed]"
          },
          "metadata": {}
        }
      ]
    },
    {
      "cell_type": "code",
      "source": [],
      "metadata": {
        "id": "ThgiXiWXnQ54"
      },
      "execution_count": null,
      "outputs": []
    },
    {
      "cell_type": "code",
      "source": [
        "# -------------------------------------------- CIFAR-10 Dataset with 40% Randomness -----------------------------------------------------------\n",
        "Option = 7\n",
        "Train_DataLoader, Val_DataLoader, Test_DataLoader = CreateDataLoaders(Option, 64, RandomNoisePerc=0.4)\n",
        "ModelName = \"Model_AllConv_CIFAR10_R40.pt\"\n",
        "\n",
        "model = AllConv(10).to(device)\n",
        "loss_criteria = nn.CrossEntropyLoss()\n",
        "AdamOpt = torch.optim.Adam(model.parameters(), lr=0.0001)\n",
        "\n",
        "ValAccuracy = 0\n",
        "TrainAcc_List = []\n",
        "ValAcc_List = []\n",
        "\n",
        "saved = False\n",
        "if saved == True:\n",
        "    saved_model = torch.load(ModelName, map_location=torch.device('cpu')).to(device)\n",
        "else:\n",
        "    model.train()\n",
        "    Train_Accuracy = 0\n",
        "\n",
        "    for e in range(EPOCHS):\n",
        "        Train_Accuracy = TrainModel(model, loss_criteria, AdamOpt, device, Train_DataLoader)\n",
        "        val_acc = EvaluateModel(model, Val_DataLoader, device)\n",
        "\n",
        "        TrainAcc_List.append(Train_Accuracy.cpu().item())\n",
        "        ValAcc_List.append(val_acc.cpu().item())\n",
        "\n",
        "        print(\"EPOCH - \", e+1, \". Train Accuracy = \", Train_Accuracy.cpu().item(), \", Validation Accuracy = \", val_acc.cpu().item())\n",
        "        \n",
        "        if val_acc.cpu().item() > ValAccuracy:\n",
        "            print(\"Model Re-Saved\")\n",
        "            ValAccuracy = val_acc.cpu().item()\n",
        "            torch.save(model, ModelName)\n",
        "\n",
        "    saved_model = torch.load(ModelName, map_location=torch.device('cpu')).to(device)\n",
        "\n",
        "\n",
        "print()\n",
        "\n",
        "Train_Accuracy = EvaluateModel(saved_model, Train_DataLoader, device)\n",
        "print(\"Train Accuracy = \", Train_Accuracy.cpu().item())\n",
        "Test_Accuracy = EvaluateModel(saved_model, Test_DataLoader, device)\n",
        "print(\"Test Accuracy = \", Test_Accuracy.cpu().item())\n",
        "\n",
        "print(\"Generalization Gap = \", (Train_Accuracy.cpu().item() - Test_Accuracy.cpu().item()))"
      ],
      "metadata": {
        "colab": {
          "base_uri": "https://localhost:8080/"
        },
        "id": "B3KZ2pPInRD1",
        "outputId": "f241e917-d456-4630-83e8-22021d30e36e"
      },
      "execution_count": null,
      "outputs": [
        {
          "output_type": "stream",
          "name": "stdout",
          "text": [
            "Files already downloaded and verified\n",
            "Files already downloaded and verified\n"
          ]
        },
        {
          "output_type": "stream",
          "name": "stderr",
          "text": [
            "100%|██████████| 665/665 [00:08<00:00, 74.57it/s]\n",
            "100%|██████████| 118/118 [00:01<00:00, 92.15it/s]\n"
          ]
        },
        {
          "output_type": "stream",
          "name": "stdout",
          "text": [
            "EPOCH -  1 . Train Accuracy =  0.19261176884174347 , Validation Accuracy =  0.23226666450500488\n",
            "Model Re-Saved\n"
          ]
        },
        {
          "output_type": "stream",
          "name": "stderr",
          "text": [
            "100%|██████████| 665/665 [00:08<00:00, 74.63it/s]\n",
            "100%|██████████| 118/118 [00:01<00:00, 90.47it/s]\n"
          ]
        },
        {
          "output_type": "stream",
          "name": "stdout",
          "text": [
            "EPOCH -  2 . Train Accuracy =  0.2686823606491089 , Validation Accuracy =  0.26786667108535767\n",
            "Model Re-Saved\n"
          ]
        },
        {
          "output_type": "stream",
          "name": "stderr",
          "text": [
            "100%|██████████| 665/665 [00:08<00:00, 75.27it/s]\n",
            "100%|██████████| 118/118 [00:01<00:00, 93.40it/s]\n"
          ]
        },
        {
          "output_type": "stream",
          "name": "stdout",
          "text": [
            "EPOCH -  3 . Train Accuracy =  0.2986353039741516 , Validation Accuracy =  0.2998666763305664\n",
            "Model Re-Saved\n"
          ]
        },
        {
          "output_type": "stream",
          "name": "stderr",
          "text": [
            "100%|██████████| 665/665 [00:08<00:00, 80.71it/s]\n",
            "100%|██████████| 118/118 [00:01<00:00, 69.80it/s]\n"
          ]
        },
        {
          "output_type": "stream",
          "name": "stdout",
          "text": [
            "EPOCH -  4 . Train Accuracy =  0.31997647881507874 , Validation Accuracy =  0.3163999915122986\n",
            "Model Re-Saved\n"
          ]
        },
        {
          "output_type": "stream",
          "name": "stderr",
          "text": [
            "100%|██████████| 665/665 [00:08<00:00, 78.83it/s]\n",
            "100%|██████████| 118/118 [00:01<00:00, 93.49it/s]\n"
          ]
        },
        {
          "output_type": "stream",
          "name": "stdout",
          "text": [
            "EPOCH -  5 . Train Accuracy =  0.335999995470047 , Validation Accuracy =  0.3346666693687439\n",
            "Model Re-Saved\n"
          ]
        },
        {
          "output_type": "stream",
          "name": "stderr",
          "text": [
            "100%|██████████| 665/665 [00:08<00:00, 74.99it/s]\n",
            "100%|██████████| 118/118 [00:01<00:00, 92.51it/s]\n"
          ]
        },
        {
          "output_type": "stream",
          "name": "stdout",
          "text": [
            "EPOCH -  6 . Train Accuracy =  0.349576473236084 , Validation Accuracy =  0.3421333432197571\n",
            "Model Re-Saved\n"
          ]
        },
        {
          "output_type": "stream",
          "name": "stderr",
          "text": [
            "100%|██████████| 665/665 [00:08<00:00, 74.97it/s]\n",
            "100%|██████████| 118/118 [00:01<00:00, 92.21it/s]\n"
          ]
        },
        {
          "output_type": "stream",
          "name": "stdout",
          "text": [
            "EPOCH -  7 . Train Accuracy =  0.35745882987976074 , Validation Accuracy =  0.3489333391189575\n",
            "Model Re-Saved\n"
          ]
        },
        {
          "output_type": "stream",
          "name": "stderr",
          "text": [
            "100%|██████████| 665/665 [00:08<00:00, 73.94it/s]\n",
            "100%|██████████| 118/118 [00:01<00:00, 91.75it/s]\n"
          ]
        },
        {
          "output_type": "stream",
          "name": "stdout",
          "text": [
            "EPOCH -  8 . Train Accuracy =  0.36447060108184814 , Validation Accuracy =  0.3545333445072174\n",
            "Model Re-Saved\n"
          ]
        },
        {
          "output_type": "stream",
          "name": "stderr",
          "text": [
            "100%|██████████| 665/665 [00:08<00:00, 75.59it/s]\n",
            "100%|██████████| 118/118 [00:01<00:00, 85.82it/s]\n"
          ]
        },
        {
          "output_type": "stream",
          "name": "stdout",
          "text": [
            "EPOCH -  9 . Train Accuracy =  0.36957648396492004 , Validation Accuracy =  0.35546666383743286\n",
            "Model Re-Saved\n"
          ]
        },
        {
          "output_type": "stream",
          "name": "stderr",
          "text": [
            "100%|██████████| 665/665 [00:08<00:00, 80.97it/s]\n",
            "100%|██████████| 118/118 [00:01<00:00, 75.31it/s]\n"
          ]
        },
        {
          "output_type": "stream",
          "name": "stdout",
          "text": [
            "EPOCH -  10 . Train Accuracy =  0.3763294219970703 , Validation Accuracy =  0.35973334312438965\n",
            "Model Re-Saved\n"
          ]
        },
        {
          "output_type": "stream",
          "name": "stderr",
          "text": [
            "100%|██████████| 665/665 [00:08<00:00, 76.38it/s]\n",
            "100%|██████████| 118/118 [00:01<00:00, 93.09it/s]\n"
          ]
        },
        {
          "output_type": "stream",
          "name": "stdout",
          "text": [
            "EPOCH -  11 . Train Accuracy =  0.38136470317840576 , Validation Accuracy =  0.36559998989105225\n",
            "Model Re-Saved\n"
          ]
        },
        {
          "output_type": "stream",
          "name": "stderr",
          "text": [
            "100%|██████████| 665/665 [00:08<00:00, 74.75it/s]\n",
            "100%|██████████| 118/118 [00:01<00:00, 94.37it/s]\n"
          ]
        },
        {
          "output_type": "stream",
          "name": "stdout",
          "text": [
            "EPOCH -  12 . Train Accuracy =  0.3844941258430481 , Validation Accuracy =  0.367333322763443\n",
            "Model Re-Saved\n"
          ]
        },
        {
          "output_type": "stream",
          "name": "stderr",
          "text": [
            "100%|██████████| 665/665 [00:08<00:00, 74.87it/s]\n",
            "100%|██████████| 118/118 [00:01<00:00, 93.10it/s]\n"
          ]
        },
        {
          "output_type": "stream",
          "name": "stdout",
          "text": [
            "EPOCH -  13 . Train Accuracy =  0.387835294008255 , Validation Accuracy =  0.3684000074863434\n",
            "Model Re-Saved\n"
          ]
        },
        {
          "output_type": "stream",
          "name": "stderr",
          "text": [
            "100%|██████████| 665/665 [00:08<00:00, 75.14it/s]\n",
            "100%|██████████| 118/118 [00:01<00:00, 92.69it/s]\n"
          ]
        },
        {
          "output_type": "stream",
          "name": "stdout",
          "text": [
            "EPOCH -  14 . Train Accuracy =  0.38997647166252136 , Validation Accuracy =  0.37119999527931213\n",
            "Model Re-Saved\n"
          ]
        },
        {
          "output_type": "stream",
          "name": "stderr",
          "text": [
            "100%|██████████| 665/665 [00:08<00:00, 76.09it/s]\n",
            "100%|██████████| 118/118 [00:01<00:00, 78.09it/s]\n"
          ]
        },
        {
          "output_type": "stream",
          "name": "stdout",
          "text": [
            "EPOCH -  15 . Train Accuracy =  0.3940705955028534 , Validation Accuracy =  0.3808000087738037\n",
            "Model Re-Saved\n"
          ]
        },
        {
          "output_type": "stream",
          "name": "stderr",
          "text": [
            "100%|██████████| 665/665 [00:08<00:00, 80.77it/s]\n",
            "100%|██████████| 118/118 [00:01<00:00, 76.09it/s]\n"
          ]
        },
        {
          "output_type": "stream",
          "name": "stdout",
          "text": [
            "EPOCH -  16 . Train Accuracy =  0.3974117636680603 , Validation Accuracy =  0.37720000743865967\n"
          ]
        },
        {
          "output_type": "stream",
          "name": "stderr",
          "text": [
            "100%|██████████| 665/665 [00:08<00:00, 77.66it/s]\n",
            "100%|██████████| 118/118 [00:01<00:00, 85.53it/s]\n"
          ]
        },
        {
          "output_type": "stream",
          "name": "stdout",
          "text": [
            "EPOCH -  17 . Train Accuracy =  0.3996706008911133 , Validation Accuracy =  0.3903999924659729\n",
            "Model Re-Saved\n"
          ]
        },
        {
          "output_type": "stream",
          "name": "stderr",
          "text": [
            "100%|██████████| 665/665 [00:08<00:00, 74.51it/s]\n",
            "100%|██████████| 118/118 [00:01<00:00, 89.71it/s]\n"
          ]
        },
        {
          "output_type": "stream",
          "name": "stdout",
          "text": [
            "EPOCH -  18 . Train Accuracy =  0.40454116463661194 , Validation Accuracy =  0.38866665959358215\n"
          ]
        },
        {
          "output_type": "stream",
          "name": "stderr",
          "text": [
            "100%|██████████| 665/665 [00:08<00:00, 74.87it/s]\n",
            "100%|██████████| 118/118 [00:01<00:00, 93.67it/s]\n"
          ]
        },
        {
          "output_type": "stream",
          "name": "stdout",
          "text": [
            "EPOCH -  19 . Train Accuracy =  0.40515294671058655 , Validation Accuracy =  0.38733333349227905\n"
          ]
        },
        {
          "output_type": "stream",
          "name": "stderr",
          "text": [
            "100%|██████████| 665/665 [00:08<00:00, 75.37it/s]\n",
            "100%|██████████| 118/118 [00:01<00:00, 92.63it/s]\n"
          ]
        },
        {
          "output_type": "stream",
          "name": "stdout",
          "text": [
            "EPOCH -  20 . Train Accuracy =  0.4102117717266083 , Validation Accuracy =  0.38946667313575745\n"
          ]
        },
        {
          "output_type": "stream",
          "name": "stderr",
          "text": [
            "100%|██████████| 665/665 [00:08<00:00, 77.26it/s]\n",
            "100%|██████████| 118/118 [00:01<00:00, 74.89it/s]\n"
          ]
        },
        {
          "output_type": "stream",
          "name": "stdout",
          "text": [
            "EPOCH -  21 . Train Accuracy =  0.41025882959365845 , Validation Accuracy =  0.3930666744709015\n",
            "Model Re-Saved\n"
          ]
        },
        {
          "output_type": "stream",
          "name": "stderr",
          "text": [
            "100%|██████████| 665/665 [00:08<00:00, 80.87it/s]\n",
            "100%|██████████| 118/118 [00:01<00:00, 88.31it/s]\n"
          ]
        },
        {
          "output_type": "stream",
          "name": "stdout",
          "text": [
            "EPOCH -  22 . Train Accuracy =  0.412235289812088 , Validation Accuracy =  0.3952000141143799\n",
            "Model Re-Saved\n"
          ]
        },
        {
          "output_type": "stream",
          "name": "stderr",
          "text": [
            "100%|██████████| 665/665 [00:08<00:00, 75.68it/s]\n",
            "100%|██████████| 118/118 [00:01<00:00, 92.67it/s]\n"
          ]
        },
        {
          "output_type": "stream",
          "name": "stdout",
          "text": [
            "EPOCH -  23 . Train Accuracy =  0.4146353006362915 , Validation Accuracy =  0.3925333321094513\n"
          ]
        },
        {
          "output_type": "stream",
          "name": "stderr",
          "text": [
            "100%|██████████| 665/665 [00:09<00:00, 73.12it/s]\n",
            "100%|██████████| 118/118 [00:01<00:00, 91.20it/s]\n"
          ]
        },
        {
          "output_type": "stream",
          "name": "stdout",
          "text": [
            "EPOCH -  24 . Train Accuracy =  0.4164000153541565 , Validation Accuracy =  0.3938666582107544\n"
          ]
        },
        {
          "output_type": "stream",
          "name": "stderr",
          "text": [
            "100%|██████████| 665/665 [00:08<00:00, 75.08it/s]\n",
            "100%|██████████| 118/118 [00:01<00:00, 91.63it/s]\n"
          ]
        },
        {
          "output_type": "stream",
          "name": "stdout",
          "text": [
            "EPOCH -  25 . Train Accuracy =  0.41837647557258606 , Validation Accuracy =  0.396533340215683\n",
            "Model Re-Saved\n"
          ]
        },
        {
          "output_type": "stream",
          "name": "stderr",
          "text": [
            "100%|██████████| 665/665 [00:08<00:00, 74.67it/s]\n",
            "100%|██████████| 118/118 [00:01<00:00, 70.00it/s]\n"
          ]
        },
        {
          "output_type": "stream",
          "name": "stdout",
          "text": [
            "EPOCH -  26 . Train Accuracy =  0.438611775636673 , Validation Accuracy =  0.4474666714668274\n",
            "Model Re-Saved\n"
          ]
        },
        {
          "output_type": "stream",
          "name": "stderr",
          "text": [
            "100%|██████████| 665/665 [00:08<00:00, 75.56it/s]\n",
            "100%|██████████| 118/118 [00:01<00:00, 77.69it/s]\n"
          ]
        },
        {
          "output_type": "stream",
          "name": "stdout",
          "text": [
            "EPOCH -  27 . Train Accuracy =  0.4560000002384186 , Validation Accuracy =  0.4458666741847992\n"
          ]
        },
        {
          "output_type": "stream",
          "name": "stderr",
          "text": [
            "100%|██████████| 665/665 [00:08<00:00, 80.96it/s]\n",
            "100%|██████████| 118/118 [00:01<00:00, 81.67it/s]\n"
          ]
        },
        {
          "output_type": "stream",
          "name": "stdout",
          "text": [
            "EPOCH -  28 . Train Accuracy =  0.4578823447227478 , Validation Accuracy =  0.44733333587646484\n"
          ]
        },
        {
          "output_type": "stream",
          "name": "stderr",
          "text": [
            "100%|██████████| 665/665 [00:08<00:00, 76.72it/s]\n",
            "100%|██████████| 118/118 [00:01<00:00, 93.31it/s]\n"
          ]
        },
        {
          "output_type": "stream",
          "name": "stdout",
          "text": [
            "EPOCH -  29 . Train Accuracy =  0.4610588252544403 , Validation Accuracy =  0.4501333236694336\n",
            "Model Re-Saved\n"
          ]
        },
        {
          "output_type": "stream",
          "name": "stderr",
          "text": [
            "100%|██████████| 665/665 [00:09<00:00, 73.74it/s]\n",
            "100%|██████████| 118/118 [00:01<00:00, 93.04it/s]\n"
          ]
        },
        {
          "output_type": "stream",
          "name": "stdout",
          "text": [
            "EPOCH -  30 . Train Accuracy =  0.46675294637680054 , Validation Accuracy =  0.454800009727478\n",
            "Model Re-Saved\n"
          ]
        },
        {
          "output_type": "stream",
          "name": "stderr",
          "text": [
            "100%|██████████| 665/665 [00:08<00:00, 74.47it/s]\n",
            "100%|██████████| 118/118 [00:01<00:00, 92.06it/s]\n"
          ]
        },
        {
          "output_type": "stream",
          "name": "stdout",
          "text": [
            "EPOCH -  31 . Train Accuracy =  0.467105895280838 , Validation Accuracy =  0.4562666714191437\n",
            "Model Re-Saved\n"
          ]
        },
        {
          "output_type": "stream",
          "name": "stderr",
          "text": [
            "100%|██████████| 665/665 [00:08<00:00, 74.32it/s]\n",
            "100%|██████████| 118/118 [00:01<00:00, 90.51it/s]\n"
          ]
        },
        {
          "output_type": "stream",
          "name": "stdout",
          "text": [
            "EPOCH -  32 . Train Accuracy =  0.4704705774784088 , Validation Accuracy =  0.4538666605949402\n"
          ]
        },
        {
          "output_type": "stream",
          "name": "stderr",
          "text": [
            "100%|██████████| 665/665 [00:08<00:00, 77.55it/s]\n",
            "100%|██████████| 118/118 [00:01<00:00, 70.38it/s]\n"
          ]
        },
        {
          "output_type": "stream",
          "name": "stdout",
          "text": [
            "EPOCH -  33 . Train Accuracy =  0.4712941348552704 , Validation Accuracy =  0.4501333236694336\n"
          ]
        },
        {
          "output_type": "stream",
          "name": "stderr",
          "text": [
            "100%|██████████| 665/665 [00:08<00:00, 81.69it/s]\n",
            "100%|██████████| 118/118 [00:01<00:00, 91.92it/s]\n"
          ]
        },
        {
          "output_type": "stream",
          "name": "stdout",
          "text": [
            "EPOCH -  34 . Train Accuracy =  0.47647058963775635 , Validation Accuracy =  0.4607999920845032\n",
            "Model Re-Saved\n"
          ]
        },
        {
          "output_type": "stream",
          "name": "stderr",
          "text": [
            "100%|██████████| 665/665 [00:08<00:00, 75.47it/s]\n",
            "100%|██████████| 118/118 [00:01<00:00, 93.11it/s]\n"
          ]
        },
        {
          "output_type": "stream",
          "name": "stdout",
          "text": [
            "EPOCH -  35 . Train Accuracy =  0.4762117564678192 , Validation Accuracy =  0.46346667408943176\n",
            "Model Re-Saved\n"
          ]
        },
        {
          "output_type": "stream",
          "name": "stderr",
          "text": [
            "100%|██████████| 665/665 [00:09<00:00, 73.44it/s]\n",
            "100%|██████████| 118/118 [00:01<00:00, 91.87it/s]\n"
          ]
        },
        {
          "output_type": "stream",
          "name": "stdout",
          "text": [
            "EPOCH -  36 . Train Accuracy =  0.4792705774307251 , Validation Accuracy =  0.459199994802475\n"
          ]
        },
        {
          "output_type": "stream",
          "name": "stderr",
          "text": [
            "100%|██████████| 665/665 [00:08<00:00, 75.56it/s]\n",
            "100%|██████████| 118/118 [00:01<00:00, 89.52it/s]\n"
          ]
        },
        {
          "output_type": "stream",
          "name": "stdout",
          "text": [
            "EPOCH -  37 . Train Accuracy =  0.4812941253185272 , Validation Accuracy =  0.46400001645088196\n",
            "Model Re-Saved\n"
          ]
        },
        {
          "output_type": "stream",
          "name": "stderr",
          "text": [
            "100%|██████████| 665/665 [00:08<00:00, 75.28it/s]\n",
            "100%|██████████| 118/118 [00:01<00:00, 90.82it/s]\n"
          ]
        },
        {
          "output_type": "stream",
          "name": "stdout",
          "text": [
            "EPOCH -  38 . Train Accuracy =  0.48348236083984375 , Validation Accuracy =  0.46720001101493835\n",
            "Model Re-Saved\n"
          ]
        },
        {
          "output_type": "stream",
          "name": "stderr",
          "text": [
            "100%|██████████| 665/665 [00:08<00:00, 78.63it/s]\n",
            "100%|██████████| 118/118 [00:01<00:00, 63.69it/s]\n"
          ]
        },
        {
          "output_type": "stream",
          "name": "stdout",
          "text": [
            "EPOCH -  39 . Train Accuracy =  0.4861176609992981 , Validation Accuracy =  0.4665333330631256\n"
          ]
        },
        {
          "output_type": "stream",
          "name": "stderr",
          "text": [
            "100%|██████████| 665/665 [00:08<00:00, 80.35it/s]\n",
            "100%|██████████| 118/118 [00:01<00:00, 90.54it/s]\n"
          ]
        },
        {
          "output_type": "stream",
          "name": "stdout",
          "text": [
            "EPOCH -  40 . Train Accuracy =  0.48743531107902527 , Validation Accuracy =  0.47226667404174805\n",
            "Model Re-Saved\n"
          ]
        },
        {
          "output_type": "stream",
          "name": "stderr",
          "text": [
            "100%|██████████| 665/665 [00:08<00:00, 74.73it/s]\n",
            "100%|██████████| 118/118 [00:01<00:00, 91.96it/s]\n"
          ]
        },
        {
          "output_type": "stream",
          "name": "stdout",
          "text": [
            "EPOCH -  41 . Train Accuracy =  0.4895058870315552 , Validation Accuracy =  0.4654666781425476\n"
          ]
        },
        {
          "output_type": "stream",
          "name": "stderr",
          "text": [
            "100%|██████████| 665/665 [00:09<00:00, 72.84it/s]\n",
            "100%|██████████| 118/118 [00:01<00:00, 94.84it/s]\n"
          ]
        },
        {
          "output_type": "stream",
          "name": "stdout",
          "text": [
            "EPOCH -  42 . Train Accuracy =  0.491505891084671 , Validation Accuracy =  0.47333332896232605\n",
            "Model Re-Saved\n"
          ]
        },
        {
          "output_type": "stream",
          "name": "stderr",
          "text": [
            "100%|██████████| 665/665 [00:08<00:00, 75.63it/s]\n",
            "100%|██████████| 118/118 [00:01<00:00, 92.65it/s]\n"
          ]
        },
        {
          "output_type": "stream",
          "name": "stdout",
          "text": [
            "EPOCH -  43 . Train Accuracy =  0.49209412932395935 , Validation Accuracy =  0.4772000014781952\n",
            "Model Re-Saved\n"
          ]
        },
        {
          "output_type": "stream",
          "name": "stderr",
          "text": [
            "100%|██████████| 665/665 [00:08<00:00, 75.20it/s]\n",
            "100%|██████████| 118/118 [00:01<00:00, 92.67it/s]\n"
          ]
        },
        {
          "output_type": "stream",
          "name": "stdout",
          "text": [
            "EPOCH -  44 . Train Accuracy =  0.4936235249042511 , Validation Accuracy =  0.47573333978652954\n"
          ]
        },
        {
          "output_type": "stream",
          "name": "stderr",
          "text": [
            "100%|██████████| 665/665 [00:08<00:00, 80.89it/s]\n",
            "100%|██████████| 118/118 [00:01<00:00, 63.21it/s]\n"
          ]
        },
        {
          "output_type": "stream",
          "name": "stdout",
          "text": [
            "EPOCH -  45 . Train Accuracy =  0.49654117226600647 , Validation Accuracy =  0.4758666753768921\n"
          ]
        },
        {
          "output_type": "stream",
          "name": "stderr",
          "text": [
            "100%|██████████| 665/665 [00:08<00:00, 80.88it/s]\n",
            "100%|██████████| 118/118 [00:01<00:00, 92.45it/s]\n"
          ]
        },
        {
          "output_type": "stream",
          "name": "stdout",
          "text": [
            "EPOCH -  46 . Train Accuracy =  0.4972705841064453 , Validation Accuracy =  0.4747999906539917\n"
          ]
        },
        {
          "output_type": "stream",
          "name": "stderr",
          "text": [
            "100%|██████████| 665/665 [00:08<00:00, 74.44it/s]\n",
            "100%|██████████| 118/118 [00:01<00:00, 91.20it/s]\n"
          ]
        },
        {
          "output_type": "stream",
          "name": "stdout",
          "text": [
            "EPOCH -  47 . Train Accuracy =  0.5000470876693726 , Validation Accuracy =  0.4750666618347168\n"
          ]
        },
        {
          "output_type": "stream",
          "name": "stderr",
          "text": [
            "100%|██████████| 665/665 [00:09<00:00, 72.69it/s]\n",
            "100%|██████████| 118/118 [00:01<00:00, 92.40it/s]\n"
          ]
        },
        {
          "output_type": "stream",
          "name": "stdout",
          "text": [
            "EPOCH -  48 . Train Accuracy =  0.5019999742507935 , Validation Accuracy =  0.4838666617870331\n",
            "Model Re-Saved\n"
          ]
        },
        {
          "output_type": "stream",
          "name": "stderr",
          "text": [
            "100%|██████████| 665/665 [00:08<00:00, 74.58it/s]\n",
            "100%|██████████| 118/118 [00:01<00:00, 91.32it/s]\n"
          ]
        },
        {
          "output_type": "stream",
          "name": "stdout",
          "text": [
            "EPOCH -  49 . Train Accuracy =  0.5040470361709595 , Validation Accuracy =  0.48266667127609253\n"
          ]
        },
        {
          "output_type": "stream",
          "name": "stderr",
          "text": [
            "100%|██████████| 665/665 [00:08<00:00, 74.94it/s]\n",
            "100%|██████████| 118/118 [00:01<00:00, 92.13it/s]\n"
          ]
        },
        {
          "output_type": "stream",
          "name": "stdout",
          "text": [
            "EPOCH -  50 . Train Accuracy =  0.503811776638031 , Validation Accuracy =  0.4819999933242798\n",
            "\n"
          ]
        },
        {
          "output_type": "stream",
          "name": "stderr",
          "text": [
            "100%|██████████| 665/665 [00:07<00:00, 89.73it/s]\n"
          ]
        },
        {
          "output_type": "stream",
          "name": "stdout",
          "text": [
            "Train Accuracy =  0.5065411925315857\n"
          ]
        },
        {
          "output_type": "stream",
          "name": "stderr",
          "text": [
            "100%|██████████| 157/157 [00:02<00:00, 78.02it/s]"
          ]
        },
        {
          "output_type": "stream",
          "name": "stdout",
          "text": [
            "Test Accuracy =  0.48399999737739563\n",
            "Generalization Gap =  0.022541195154190063\n"
          ]
        },
        {
          "output_type": "stream",
          "name": "stderr",
          "text": [
            "\n"
          ]
        }
      ]
    },
    {
      "cell_type": "code",
      "source": [
        "PlotGraph(Epoch_List, TrainAcc_List, ValAcc_List)"
      ],
      "metadata": {
        "colab": {
          "base_uri": "https://localhost:8080/",
          "height": 449
        },
        "id": "IWrrXX7FnXLP",
        "outputId": "7d5fc0c4-a1c5-4fdc-b7df-443cf08afa09"
      },
      "execution_count": null,
      "outputs": [
        {
          "output_type": "display_data",
          "data": {
            "text/plain": [
              "<Figure size 640x480 with 1 Axes>"
            ],
            "image/png": "[encoded data removed]"
          },
          "metadata": {}
        }
      ]
    },
    {
      "cell_type": "code",
      "source": [],
      "metadata": {
        "id": "0q8CDfWEnXlK"
      },
      "execution_count": null,
      "outputs": []
    },
    {
      "cell_type": "code",
      "source": [
        "# -------------------------------------------- CIFAR-10 Dataset with 60% Randomness -----------------------------------------------------------\n",
        "Option = 7\n",
        "Train_DataLoader, Val_DataLoader, Test_DataLoader = CreateDataLoaders(Option, 64, RandomNoisePerc=0.6)\n",
        "ModelName = \"Model_AllConv_CIFAR10_R60.pt\"\n",
        "\n",
        "model = AllConv(10).to(device)\n",
        "loss_criteria = nn.CrossEntropyLoss()\n",
        "AdamOpt = torch.optim.Adam(model.parameters(), lr=0.0001)\n",
        "\n",
        "ValAccuracy = 0\n",
        "TrainAcc_List = []\n",
        "ValAcc_List = []\n",
        "\n",
        "saved = False\n",
        "if saved == True:\n",
        "    saved_model = torch.load(ModelName, map_location=torch.device('cpu')).to(device)\n",
        "else:\n",
        "    model.train()\n",
        "    Train_Accuracy = 0\n",
        "\n",
        "    for e in range(EPOCHS):\n",
        "        Train_Accuracy = TrainModel(model, loss_criteria, AdamOpt, device, Train_DataLoader)\n",
        "        val_acc = EvaluateModel(model, Val_DataLoader, device)\n",
        "\n",
        "        TrainAcc_List.append(Train_Accuracy.cpu().item())\n",
        "        ValAcc_List.append(val_acc.cpu().item())\n",
        "\n",
        "        print(\"EPOCH - \", e+1, \". Train Accuracy = \", Train_Accuracy.cpu().item(), \", Validation Accuracy = \", val_acc.cpu().item())\n",
        "        \n",
        "        if val_acc.cpu().item() > ValAccuracy:\n",
        "            print(\"Model Re-Saved\")\n",
        "            ValAccuracy = val_acc.cpu().item()\n",
        "            torch.save(model, ModelName)\n",
        "\n",
        "    saved_model = torch.load(ModelName, map_location=torch.device('cpu')).to(device)\n",
        "\n",
        "\n",
        "print()\n",
        "\n",
        "Train_Accuracy = EvaluateModel(saved_model, Train_DataLoader, device)\n",
        "print(\"Train Accuracy = \", Train_Accuracy.cpu().item())\n",
        "Test_Accuracy = EvaluateModel(saved_model, Test_DataLoader, device)\n",
        "print(\"Test Accuracy = \", Test_Accuracy.cpu().item())\n",
        "\n",
        "print(\"Generalization Gap = \", (Train_Accuracy.cpu().item() - Test_Accuracy.cpu().item()))"
      ],
      "metadata": {
        "colab": {
          "base_uri": "https://localhost:8080/"
        },
        "id": "vZru2MVcnXtz",
        "outputId": "fc37b666-b40c-4a91-b52c-b3d099dae686"
      },
      "execution_count": null,
      "outputs": [
        {
          "output_type": "stream",
          "name": "stdout",
          "text": [
            "Files already downloaded and verified\n",
            "Files already downloaded and verified\n"
          ]
        },
        {
          "output_type": "stream",
          "name": "stderr",
          "text": [
            "100%|██████████| 665/665 [00:08<00:00, 75.12it/s]\n",
            "100%|██████████| 118/118 [00:01<00:00, 93.64it/s]\n"
          ]
        },
        {
          "output_type": "stream",
          "name": "stdout",
          "text": [
            "EPOCH -  1 . Train Accuracy =  0.17800000309944153 , Validation Accuracy =  0.22253333032131195\n",
            "Model Re-Saved\n"
          ]
        },
        {
          "output_type": "stream",
          "name": "stderr",
          "text": [
            "100%|██████████| 665/665 [00:08<00:00, 76.20it/s]\n",
            "100%|██████████| 118/118 [00:01<00:00, 93.21it/s]\n"
          ]
        },
        {
          "output_type": "stream",
          "name": "stdout",
          "text": [
            "EPOCH -  2 . Train Accuracy =  0.2337176501750946 , Validation Accuracy =  0.23413333296775818\n",
            "Model Re-Saved\n"
          ]
        },
        {
          "output_type": "stream",
          "name": "stderr",
          "text": [
            "100%|██████████| 665/665 [00:08<00:00, 74.67it/s]\n",
            "100%|██████████| 118/118 [00:01<00:00, 93.96it/s]\n"
          ]
        },
        {
          "output_type": "stream",
          "name": "stdout",
          "text": [
            "EPOCH -  3 . Train Accuracy =  0.2469882369041443 , Validation Accuracy =  0.2457333356142044\n",
            "Model Re-Saved\n"
          ]
        },
        {
          "output_type": "stream",
          "name": "stderr",
          "text": [
            "100%|██████████| 665/665 [00:08<00:00, 79.36it/s]\n",
            "100%|██████████| 118/118 [00:01<00:00, 68.53it/s]\n"
          ]
        },
        {
          "output_type": "stream",
          "name": "stdout",
          "text": [
            "EPOCH -  4 . Train Accuracy =  0.2572000026702881 , Validation Accuracy =  0.25386667251586914\n",
            "Model Re-Saved\n"
          ]
        },
        {
          "output_type": "stream",
          "name": "stderr",
          "text": [
            "100%|██████████| 665/665 [00:08<00:00, 81.80it/s]\n",
            "100%|██████████| 118/118 [00:01<00:00, 94.29it/s]\n"
          ]
        },
        {
          "output_type": "stream",
          "name": "stdout",
          "text": [
            "EPOCH -  5 . Train Accuracy =  0.26555293798446655 , Validation Accuracy =  0.2704000174999237\n",
            "Model Re-Saved\n"
          ]
        },
        {
          "output_type": "stream",
          "name": "stderr",
          "text": [
            "100%|██████████| 665/665 [00:08<00:00, 74.33it/s]\n",
            "100%|██████████| 118/118 [00:01<00:00, 92.79it/s]\n"
          ]
        },
        {
          "output_type": "stream",
          "name": "stdout",
          "text": [
            "EPOCH -  6 . Train Accuracy =  0.27545881271362305 , Validation Accuracy =  0.27533334493637085\n",
            "Model Re-Saved\n"
          ]
        },
        {
          "output_type": "stream",
          "name": "stderr",
          "text": [
            "100%|██████████| 665/665 [00:08<00:00, 74.03it/s]\n",
            "100%|██████████| 118/118 [00:01<00:00, 92.90it/s]\n"
          ]
        },
        {
          "output_type": "stream",
          "name": "stdout",
          "text": [
            "EPOCH -  7 . Train Accuracy =  0.28103530406951904 , Validation Accuracy =  0.27720001339912415\n",
            "Model Re-Saved\n"
          ]
        },
        {
          "output_type": "stream",
          "name": "stderr",
          "text": [
            "100%|██████████| 665/665 [00:08<00:00, 74.39it/s]\n",
            "100%|██████████| 118/118 [00:01<00:00, 91.87it/s]\n"
          ]
        },
        {
          "output_type": "stream",
          "name": "stdout",
          "text": [
            "EPOCH -  8 . Train Accuracy =  0.28611764311790466 , Validation Accuracy =  0.28546667098999023\n",
            "Model Re-Saved\n"
          ]
        },
        {
          "output_type": "stream",
          "name": "stderr",
          "text": [
            "100%|██████████| 665/665 [00:08<00:00, 74.56it/s]\n",
            "100%|██████████| 118/118 [00:01<00:00, 87.96it/s]\n"
          ]
        },
        {
          "output_type": "stream",
          "name": "stdout",
          "text": [
            "EPOCH -  9 . Train Accuracy =  0.29216471314430237 , Validation Accuracy =  0.2810666561126709\n"
          ]
        },
        {
          "output_type": "stream",
          "name": "stderr",
          "text": [
            "100%|██████████| 665/665 [00:08<00:00, 80.77it/s]\n",
            "100%|██████████| 118/118 [00:01<00:00, 63.63it/s]\n"
          ]
        },
        {
          "output_type": "stream",
          "name": "stdout",
          "text": [
            "EPOCH -  10 . Train Accuracy =  0.2965646982192993 , Validation Accuracy =  0.29786667227745056\n",
            "Model Re-Saved\n"
          ]
        },
        {
          "output_type": "stream",
          "name": "stderr",
          "text": [
            "100%|██████████| 665/665 [00:08<00:00, 81.81it/s]\n",
            "100%|██████████| 118/118 [00:01<00:00, 93.45it/s]\n"
          ]
        },
        {
          "output_type": "stream",
          "name": "stdout",
          "text": [
            "EPOCH -  11 . Train Accuracy =  0.30112940073013306 , Validation Accuracy =  0.30213335156440735\n",
            "Model Re-Saved\n"
          ]
        },
        {
          "output_type": "stream",
          "name": "stderr",
          "text": [
            "100%|██████████| 665/665 [00:08<00:00, 75.34it/s]\n",
            "100%|██████████| 118/118 [00:01<00:00, 92.76it/s]\n"
          ]
        },
        {
          "output_type": "stream",
          "name": "stdout",
          "text": [
            "EPOCH -  12 . Train Accuracy =  0.3048705756664276 , Validation Accuracy =  0.29919999837875366\n"
          ]
        },
        {
          "output_type": "stream",
          "name": "stderr",
          "text": [
            "100%|██████████| 665/665 [00:08<00:00, 74.98it/s]\n",
            "100%|██████████| 118/118 [00:01<00:00, 92.71it/s]\n"
          ]
        },
        {
          "output_type": "stream",
          "name": "stdout",
          "text": [
            "EPOCH -  13 . Train Accuracy =  0.3074588179588318 , Validation Accuracy =  0.3030666708946228\n",
            "Model Re-Saved\n"
          ]
        },
        {
          "output_type": "stream",
          "name": "stderr",
          "text": [
            "100%|██████████| 665/665 [00:08<00:00, 75.68it/s]\n",
            "100%|██████████| 118/118 [00:01<00:00, 91.30it/s]\n"
          ]
        },
        {
          "output_type": "stream",
          "name": "stdout",
          "text": [
            "EPOCH -  14 . Train Accuracy =  0.3119058907032013 , Validation Accuracy =  0.3086666762828827\n",
            "Model Re-Saved\n"
          ]
        },
        {
          "output_type": "stream",
          "name": "stderr",
          "text": [
            "100%|██████████| 665/665 [00:08<00:00, 74.90it/s]\n",
            "100%|██████████| 118/118 [00:01<00:00, 92.63it/s]\n"
          ]
        },
        {
          "output_type": "stream",
          "name": "stdout",
          "text": [
            "EPOCH -  15 . Train Accuracy =  0.31357645988464355 , Validation Accuracy =  0.30933332443237305\n",
            "Model Re-Saved\n"
          ]
        },
        {
          "output_type": "stream",
          "name": "stderr",
          "text": [
            "100%|██████████| 665/665 [00:08<00:00, 80.17it/s]\n",
            "100%|██████████| 118/118 [00:01<00:00, 69.64it/s]\n"
          ]
        },
        {
          "output_type": "stream",
          "name": "stdout",
          "text": [
            "EPOCH -  16 . Train Accuracy =  0.3151293992996216 , Validation Accuracy =  0.3113333284854889\n",
            "Model Re-Saved\n"
          ]
        },
        {
          "output_type": "stream",
          "name": "stderr",
          "text": [
            "100%|██████████| 665/665 [00:08<00:00, 79.43it/s]\n",
            "100%|██████████| 118/118 [00:01<00:00, 93.67it/s]\n"
          ]
        },
        {
          "output_type": "stream",
          "name": "stdout",
          "text": [
            "EPOCH -  17 . Train Accuracy =  0.3179529309272766 , Validation Accuracy =  0.3131999969482422\n",
            "Model Re-Saved\n"
          ]
        },
        {
          "output_type": "stream",
          "name": "stderr",
          "text": [
            "100%|██████████| 665/665 [00:08<00:00, 75.39it/s]\n",
            "100%|██████████| 118/118 [00:01<00:00, 93.90it/s]\n"
          ]
        },
        {
          "output_type": "stream",
          "name": "stdout",
          "text": [
            "EPOCH -  18 . Train Accuracy =  0.3181176483631134 , Validation Accuracy =  0.31386667490005493\n",
            "Model Re-Saved\n"
          ]
        },
        {
          "output_type": "stream",
          "name": "stderr",
          "text": [
            "100%|██████████| 665/665 [00:08<00:00, 75.54it/s]\n",
            "100%|██████████| 118/118 [00:01<00:00, 93.59it/s]\n"
          ]
        },
        {
          "output_type": "stream",
          "name": "stdout",
          "text": [
            "EPOCH -  19 . Train Accuracy =  0.3208470642566681 , Validation Accuracy =  0.3157333433628082\n",
            "Model Re-Saved\n"
          ]
        },
        {
          "output_type": "stream",
          "name": "stderr",
          "text": [
            "100%|██████████| 665/665 [00:08<00:00, 75.62it/s]\n",
            "100%|██████████| 118/118 [00:01<00:00, 91.85it/s]\n"
          ]
        },
        {
          "output_type": "stream",
          "name": "stdout",
          "text": [
            "EPOCH -  20 . Train Accuracy =  0.3233411908149719 , Validation Accuracy =  0.31386667490005493\n"
          ]
        },
        {
          "output_type": "stream",
          "name": "stderr",
          "text": [
            "100%|██████████| 665/665 [00:08<00:00, 77.60it/s]\n",
            "100%|██████████| 118/118 [00:01<00:00, 75.93it/s]\n"
          ]
        },
        {
          "output_type": "stream",
          "name": "stdout",
          "text": [
            "EPOCH -  21 . Train Accuracy =  0.32312941551208496 , Validation Accuracy =  0.3224000036716461\n",
            "Model Re-Saved\n"
          ]
        },
        {
          "output_type": "stream",
          "name": "stderr",
          "text": [
            "100%|██████████| 665/665 [00:08<00:00, 80.54it/s]\n",
            "100%|██████████| 118/118 [00:01<00:00, 85.38it/s]\n"
          ]
        },
        {
          "output_type": "stream",
          "name": "stdout",
          "text": [
            "EPOCH -  22 . Train Accuracy =  0.3248235285282135 , Validation Accuracy =  0.3194666802883148\n"
          ]
        },
        {
          "output_type": "stream",
          "name": "stderr",
          "text": [
            "100%|██████████| 665/665 [00:08<00:00, 75.89it/s]\n",
            "100%|██████████| 118/118 [00:01<00:00, 93.43it/s]\n"
          ]
        },
        {
          "output_type": "stream",
          "name": "stdout",
          "text": [
            "EPOCH -  23 . Train Accuracy =  0.32630589604377747 , Validation Accuracy =  0.32253333926200867\n",
            "Model Re-Saved\n"
          ]
        },
        {
          "output_type": "stream",
          "name": "stderr",
          "text": [
            "100%|██████████| 665/665 [00:08<00:00, 74.81it/s]\n",
            "100%|██████████| 118/118 [00:01<00:00, 92.40it/s]\n"
          ]
        },
        {
          "output_type": "stream",
          "name": "stdout",
          "text": [
            "EPOCH -  24 . Train Accuracy =  0.32985883951187134 , Validation Accuracy =  0.3217333257198334\n"
          ]
        },
        {
          "output_type": "stream",
          "name": "stderr",
          "text": [
            "100%|██████████| 665/665 [00:08<00:00, 74.60it/s]\n",
            "100%|██████████| 118/118 [00:01<00:00, 92.47it/s]\n"
          ]
        },
        {
          "output_type": "stream",
          "name": "stdout",
          "text": [
            "EPOCH -  25 . Train Accuracy =  0.32969412207603455 , Validation Accuracy =  0.3218666613101959\n"
          ]
        },
        {
          "output_type": "stream",
          "name": "stderr",
          "text": [
            "100%|██████████| 665/665 [00:08<00:00, 75.29it/s]\n",
            "100%|██████████| 118/118 [00:01<00:00, 67.61it/s]\n"
          ]
        },
        {
          "output_type": "stream",
          "name": "stdout",
          "text": [
            "EPOCH -  26 . Train Accuracy =  0.3324705958366394 , Validation Accuracy =  0.3277333378791809\n",
            "Model Re-Saved\n"
          ]
        },
        {
          "output_type": "stream",
          "name": "stderr",
          "text": [
            "100%|██████████| 665/665 [00:13<00:00, 49.87it/s]\n",
            "100%|██████████| 118/118 [00:01<00:00, 93.38it/s]\n"
          ]
        },
        {
          "output_type": "stream",
          "name": "stdout",
          "text": [
            "EPOCH -  27 . Train Accuracy =  0.33209413290023804 , Validation Accuracy =  0.32626667618751526\n"
          ]
        },
        {
          "output_type": "stream",
          "name": "stderr",
          "text": [
            "100%|██████████| 665/665 [00:08<00:00, 74.53it/s]\n",
            "100%|██████████| 118/118 [00:01<00:00, 92.75it/s]\n"
          ]
        },
        {
          "output_type": "stream",
          "name": "stdout",
          "text": [
            "EPOCH -  28 . Train Accuracy =  0.33435294032096863 , Validation Accuracy =  0.3271999955177307\n"
          ]
        },
        {
          "output_type": "stream",
          "name": "stderr",
          "text": [
            "100%|██████████| 665/665 [00:08<00:00, 77.52it/s]\n",
            "100%|██████████| 118/118 [00:01<00:00, 79.44it/s]\n"
          ]
        },
        {
          "output_type": "stream",
          "name": "stdout",
          "text": [
            "EPOCH -  29 . Train Accuracy =  0.3356705904006958 , Validation Accuracy =  0.32919999957084656\n",
            "Model Re-Saved\n"
          ]
        },
        {
          "output_type": "stream",
          "name": "stderr",
          "text": [
            "100%|██████████| 665/665 [00:08<00:00, 79.85it/s]\n",
            "100%|██████████| 118/118 [00:01<00:00, 78.29it/s]\n"
          ]
        },
        {
          "output_type": "stream",
          "name": "stdout",
          "text": [
            "EPOCH -  30 . Train Accuracy =  0.33668234944343567 , Validation Accuracy =  0.32973334193229675\n",
            "Model Re-Saved\n"
          ]
        },
        {
          "output_type": "stream",
          "name": "stderr",
          "text": [
            "100%|██████████| 665/665 [00:08<00:00, 75.89it/s]\n",
            "100%|██████████| 118/118 [00:01<00:00, 92.09it/s]\n"
          ]
        },
        {
          "output_type": "stream",
          "name": "stdout",
          "text": [
            "EPOCH -  31 . Train Accuracy =  0.33828234672546387 , Validation Accuracy =  0.3317333459854126\n",
            "Model Re-Saved\n"
          ]
        },
        {
          "output_type": "stream",
          "name": "stderr",
          "text": [
            "100%|██████████| 665/665 [00:08<00:00, 74.65it/s]\n",
            "100%|██████████| 118/118 [00:01<00:00, 93.28it/s]\n"
          ]
        },
        {
          "output_type": "stream",
          "name": "stdout",
          "text": [
            "EPOCH -  32 . Train Accuracy =  0.33828234672546387 , Validation Accuracy =  0.3298666775226593\n"
          ]
        },
        {
          "output_type": "stream",
          "name": "stderr",
          "text": [
            "100%|██████████| 665/665 [00:08<00:00, 74.98it/s]\n",
            "100%|██████████| 118/118 [00:01<00:00, 93.41it/s]\n"
          ]
        },
        {
          "output_type": "stream",
          "name": "stdout",
          "text": [
            "EPOCH -  33 . Train Accuracy =  0.3391999900341034 , Validation Accuracy =  0.32626667618751526\n"
          ]
        },
        {
          "output_type": "stream",
          "name": "stderr",
          "text": [
            "100%|██████████| 665/665 [00:08<00:00, 74.49it/s]\n",
            "100%|██████████| 118/118 [00:01<00:00, 93.78it/s]\n"
          ]
        },
        {
          "output_type": "stream",
          "name": "stdout",
          "text": [
            "EPOCH -  34 . Train Accuracy =  0.34119999408721924 , Validation Accuracy =  0.3330666720867157\n",
            "Model Re-Saved\n"
          ]
        },
        {
          "output_type": "stream",
          "name": "stderr",
          "text": [
            "100%|██████████| 665/665 [00:09<00:00, 69.22it/s]\n",
            "100%|██████████| 118/118 [00:01<00:00, 92.50it/s]\n"
          ]
        },
        {
          "output_type": "stream",
          "name": "stdout",
          "text": [
            "EPOCH -  35 . Train Accuracy =  0.3424000144004822 , Validation Accuracy =  0.33160001039505005\n"
          ]
        },
        {
          "output_type": "stream",
          "name": "stderr",
          "text": [
            "100%|██████████| 665/665 [00:08<00:00, 81.29it/s]\n",
            "100%|██████████| 118/118 [00:01<00:00, 69.22it/s]\n"
          ]
        },
        {
          "output_type": "stream",
          "name": "stdout",
          "text": [
            "EPOCH -  36 . Train Accuracy =  0.3444235324859619 , Validation Accuracy =  0.33186668157577515\n"
          ]
        },
        {
          "output_type": "stream",
          "name": "stderr",
          "text": [
            "100%|██████████| 665/665 [00:08<00:00, 78.43it/s]\n",
            "100%|██████████| 118/118 [00:01<00:00, 93.37it/s]\n"
          ]
        },
        {
          "output_type": "stream",
          "name": "stdout",
          "text": [
            "EPOCH -  37 . Train Accuracy =  0.34548234939575195 , Validation Accuracy =  0.32653334736824036\n"
          ]
        },
        {
          "output_type": "stream",
          "name": "stderr",
          "text": [
            "100%|██████████| 665/665 [00:08<00:00, 74.94it/s]\n",
            "100%|██████████| 118/118 [00:01<00:00, 91.81it/s]\n"
          ]
        },
        {
          "output_type": "stream",
          "name": "stdout",
          "text": [
            "EPOCH -  38 . Train Accuracy =  0.34583529829978943 , Validation Accuracy =  0.33079999685287476\n"
          ]
        },
        {
          "output_type": "stream",
          "name": "stderr",
          "text": [
            "100%|██████████| 665/665 [00:08<00:00, 74.89it/s]\n",
            "100%|██████████| 118/118 [00:01<00:00, 89.07it/s]\n"
          ]
        },
        {
          "output_type": "stream",
          "name": "stdout",
          "text": [
            "EPOCH -  39 . Train Accuracy =  0.3462117612361908 , Validation Accuracy =  0.3365333378314972\n",
            "Model Re-Saved\n"
          ]
        },
        {
          "output_type": "stream",
          "name": "stderr",
          "text": [
            "100%|██████████| 665/665 [00:09<00:00, 73.16it/s]\n",
            "100%|██████████| 118/118 [00:01<00:00, 91.36it/s]\n"
          ]
        },
        {
          "output_type": "stream",
          "name": "stdout",
          "text": [
            "EPOCH -  40 . Train Accuracy =  0.3475058972835541 , Validation Accuracy =  0.33373335003852844\n"
          ]
        },
        {
          "output_type": "stream",
          "name": "stderr",
          "text": [
            "100%|██████████| 665/665 [00:08<00:00, 76.52it/s]\n",
            "100%|██████████| 118/118 [00:01<00:00, 86.03it/s]\n"
          ]
        },
        {
          "output_type": "stream",
          "name": "stdout",
          "text": [
            "EPOCH -  41 . Train Accuracy =  0.34804704785346985 , Validation Accuracy =  0.33906668424606323\n",
            "Model Re-Saved\n"
          ]
        },
        {
          "output_type": "stream",
          "name": "stderr",
          "text": [
            "100%|██████████| 665/665 [00:08<00:00, 80.91it/s]\n",
            "100%|██████████| 118/118 [00:01<00:00, 75.45it/s]\n"
          ]
        },
        {
          "output_type": "stream",
          "name": "stdout",
          "text": [
            "EPOCH -  42 . Train Accuracy =  0.3505176603794098 , Validation Accuracy =  0.33880001306533813\n"
          ]
        },
        {
          "output_type": "stream",
          "name": "stderr",
          "text": [
            "100%|██████████| 665/665 [00:08<00:00, 78.04it/s]\n",
            "100%|██████████| 118/118 [00:01<00:00, 92.91it/s]\n"
          ]
        },
        {
          "output_type": "stream",
          "name": "stdout",
          "text": [
            "EPOCH -  43 . Train Accuracy =  0.350352942943573 , Validation Accuracy =  0.3400000035762787\n",
            "Model Re-Saved\n"
          ]
        },
        {
          "output_type": "stream",
          "name": "stderr",
          "text": [
            "100%|██████████| 665/665 [00:08<00:00, 74.87it/s]\n",
            "100%|██████████| 118/118 [00:01<00:00, 88.27it/s]\n"
          ]
        },
        {
          "output_type": "stream",
          "name": "stdout",
          "text": [
            "EPOCH -  44 . Train Accuracy =  0.35136470198631287 , Validation Accuracy =  0.3389333486557007\n"
          ]
        },
        {
          "output_type": "stream",
          "name": "stderr",
          "text": [
            "100%|██████████| 665/665 [00:08<00:00, 75.21it/s]\n",
            "100%|██████████| 118/118 [00:01<00:00, 92.77it/s]\n"
          ]
        },
        {
          "output_type": "stream",
          "name": "stdout",
          "text": [
            "EPOCH -  45 . Train Accuracy =  0.3537176549434662 , Validation Accuracy =  0.3400000035762787\n"
          ]
        },
        {
          "output_type": "stream",
          "name": "stderr",
          "text": [
            "100%|██████████| 665/665 [00:08<00:00, 74.32it/s]\n",
            "100%|██████████| 118/118 [00:01<00:00, 86.55it/s]\n"
          ]
        },
        {
          "output_type": "stream",
          "name": "stdout",
          "text": [
            "EPOCH -  46 . Train Accuracy =  0.3543529510498047 , Validation Accuracy =  0.3368000090122223\n"
          ]
        },
        {
          "output_type": "stream",
          "name": "stderr",
          "text": [
            "100%|██████████| 665/665 [00:08<00:00, 78.29it/s]\n",
            "100%|██████████| 118/118 [00:01<00:00, 71.35it/s]\n"
          ]
        },
        {
          "output_type": "stream",
          "name": "stdout",
          "text": [
            "EPOCH -  47 . Train Accuracy =  0.3542117774486542 , Validation Accuracy =  0.344400018453598\n",
            "Model Re-Saved\n"
          ]
        },
        {
          "output_type": "stream",
          "name": "stderr",
          "text": [
            "100%|██████████| 665/665 [00:08<00:00, 80.49it/s]\n",
            "100%|██████████| 118/118 [00:01<00:00, 87.34it/s]\n"
          ]
        },
        {
          "output_type": "stream",
          "name": "stdout",
          "text": [
            "EPOCH -  48 . Train Accuracy =  0.3543529510498047 , Validation Accuracy =  0.3476000130176544\n",
            "Model Re-Saved\n"
          ]
        },
        {
          "output_type": "stream",
          "name": "stderr",
          "text": [
            "100%|██████████| 665/665 [00:08<00:00, 75.66it/s]\n",
            "100%|██████████| 118/118 [00:01<00:00, 92.69it/s]\n"
          ]
        },
        {
          "output_type": "stream",
          "name": "stdout",
          "text": [
            "EPOCH -  49 . Train Accuracy =  0.3560470640659332 , Validation Accuracy =  0.3397333323955536\n"
          ]
        },
        {
          "output_type": "stream",
          "name": "stderr",
          "text": [
            "100%|██████████| 665/665 [00:08<00:00, 75.03it/s]\n",
            "100%|██████████| 118/118 [00:01<00:00, 89.64it/s]\n"
          ]
        },
        {
          "output_type": "stream",
          "name": "stdout",
          "text": [
            "EPOCH -  50 . Train Accuracy =  0.35665881633758545 , Validation Accuracy =  0.3431999981403351\n",
            "\n"
          ]
        },
        {
          "output_type": "stream",
          "name": "stderr",
          "text": [
            "100%|██████████| 665/665 [00:08<00:00, 82.86it/s]\n"
          ]
        },
        {
          "output_type": "stream",
          "name": "stdout",
          "text": [
            "Train Accuracy =  0.36016470193862915\n"
          ]
        },
        {
          "output_type": "stream",
          "name": "stderr",
          "text": [
            "100%|██████████| 157/157 [00:01<00:00, 94.82it/s]"
          ]
        },
        {
          "output_type": "stream",
          "name": "stdout",
          "text": [
            "Test Accuracy =  0.3490999937057495\n",
            "Generalization Gap =  0.011064708232879639\n"
          ]
        },
        {
          "output_type": "stream",
          "name": "stderr",
          "text": [
            "\n"
          ]
        }
      ]
    },
    {
      "cell_type": "code",
      "source": [
        "PlotGraph(Epoch_List, TrainAcc_List, ValAcc_List)"
      ],
      "metadata": {
        "colab": {
          "base_uri": "https://localhost:8080/",
          "height": 449
        },
        "id": "NYJM5LUmnd68",
        "outputId": "02c2aedf-9d09-45d7-9158-0b177aba014c"
      },
      "execution_count": null,
      "outputs": [
        {
          "output_type": "display_data",
          "data": {
            "text/plain": [
              "<Figure size 640x480 with 1 Axes>"
            ],
            "image/png": "[encoded data removed]"
          },
          "metadata": {}
        }
      ]
    },
    {
      "cell_type": "code",
      "source": [],
      "metadata": {
        "id": "5O7oluVxneEU"
      },
      "execution_count": null,
      "outputs": []
    },
    {
      "cell_type": "code",
      "source": [
        "# -------------------------------------------- CIFAR-10 Dataset with 80% Randomness -----------------------------------------------------------\n",
        "Option = 7\n",
        "Train_DataLoader, Val_DataLoader, Test_DataLoader = CreateDataLoaders(Option, 64, RandomNoisePerc=0.8)\n",
        "ModelName = \"Model_AllConv_CIFAR10_R80.pt\"\n",
        "\n",
        "model = AllConv(10).to(device)\n",
        "loss_criteria = nn.CrossEntropyLoss()\n",
        "AdamOpt = torch.optim.Adam(model.parameters(), lr=0.0001)\n",
        "\n",
        "ValAccuracy = 0\n",
        "TrainAcc_List = []\n",
        "ValAcc_List = []\n",
        "\n",
        "saved = False\n",
        "if saved == True:\n",
        "    saved_model = torch.load(ModelName, map_location=torch.device('cpu')).to(device)\n",
        "else:\n",
        "    model.train()\n",
        "    Train_Accuracy = 0\n",
        "\n",
        "    for e in range(EPOCHS):\n",
        "        Train_Accuracy = TrainModel(model, loss_criteria, AdamOpt, device, Train_DataLoader)\n",
        "        val_acc = EvaluateModel(model, Val_DataLoader, device)\n",
        "\n",
        "        TrainAcc_List.append(Train_Accuracy.cpu().item())\n",
        "        ValAcc_List.append(val_acc.cpu().item())\n",
        "\n",
        "        print(\"EPOCH - \", e+1, \". Train Accuracy = \", Train_Accuracy.cpu().item(), \", Validation Accuracy = \", val_acc.cpu().item())\n",
        "        \n",
        "        if val_acc.cpu().item() > ValAccuracy:\n",
        "            print(\"Model Re-Saved\")\n",
        "            ValAccuracy = val_acc.cpu().item()\n",
        "            torch.save(model, ModelName)\n",
        "\n",
        "    saved_model = torch.load(ModelName, map_location=torch.device('cpu')).to(device)\n",
        "\n",
        "\n",
        "print()\n",
        "\n",
        "Train_Accuracy = EvaluateModel(saved_model, Train_DataLoader, device)\n",
        "print(\"Train Accuracy = \", Train_Accuracy.cpu().item())\n",
        "Test_Accuracy = EvaluateModel(saved_model, Test_DataLoader, device)\n",
        "print(\"Test Accuracy = \", Test_Accuracy.cpu().item())\n",
        "\n",
        "print(\"Generalization Gap = \", (Train_Accuracy.cpu().item() - Test_Accuracy.cpu().item()))"
      ],
      "metadata": {
        "colab": {
          "base_uri": "https://localhost:8080/"
        },
        "id": "H4i1h6VNneLo",
        "outputId": "c10760ff-a107-406b-a35c-da8d61611205"
      },
      "execution_count": null,
      "outputs": [
        {
          "output_type": "stream",
          "name": "stdout",
          "text": [
            "Files already downloaded and verified\n",
            "Files already downloaded and verified\n"
          ]
        },
        {
          "output_type": "stream",
          "name": "stderr",
          "text": [
            "100%|██████████| 665/665 [00:08<00:00, 74.55it/s]\n",
            "100%|██████████| 118/118 [00:01<00:00, 86.27it/s]\n"
          ]
        },
        {
          "output_type": "stream",
          "name": "stdout",
          "text": [
            "EPOCH -  1 . Train Accuracy =  0.16475294530391693 , Validation Accuracy =  0.20546667277812958\n",
            "Model Re-Saved\n"
          ]
        },
        {
          "output_type": "stream",
          "name": "stderr",
          "text": [
            "100%|██████████| 665/665 [00:08<00:00, 75.33it/s]\n",
            "100%|██████████| 118/118 [00:01<00:00, 92.35it/s]\n"
          ]
        },
        {
          "output_type": "stream",
          "name": "stdout",
          "text": [
            "EPOCH -  2 . Train Accuracy =  0.21687059104442596 , Validation Accuracy =  0.2266666740179062\n",
            "Model Re-Saved\n"
          ]
        },
        {
          "output_type": "stream",
          "name": "stderr",
          "text": [
            "100%|██████████| 665/665 [00:08<00:00, 80.19it/s]\n",
            "100%|██████████| 118/118 [00:01<00:00, 65.03it/s]\n"
          ]
        },
        {
          "output_type": "stream",
          "name": "stdout",
          "text": [
            "EPOCH -  3 . Train Accuracy =  0.23623529076576233 , Validation Accuracy =  0.2446666657924652\n",
            "Model Re-Saved\n"
          ]
        },
        {
          "output_type": "stream",
          "name": "stderr",
          "text": [
            "100%|██████████| 665/665 [00:08<00:00, 78.77it/s]\n",
            "100%|██████████| 118/118 [00:01<00:00, 91.98it/s]\n"
          ]
        },
        {
          "output_type": "stream",
          "name": "stdout",
          "text": [
            "EPOCH -  4 . Train Accuracy =  0.2512470483779907 , Validation Accuracy =  0.24986666440963745\n",
            "Model Re-Saved\n"
          ]
        },
        {
          "output_type": "stream",
          "name": "stderr",
          "text": [
            "100%|██████████| 665/665 [00:08<00:00, 74.27it/s]\n",
            "100%|██████████| 118/118 [00:01<00:00, 91.66it/s]\n"
          ]
        },
        {
          "output_type": "stream",
          "name": "stdout",
          "text": [
            "EPOCH -  5 . Train Accuracy =  0.26364704966545105 , Validation Accuracy =  0.2626666724681854\n",
            "Model Re-Saved\n"
          ]
        },
        {
          "output_type": "stream",
          "name": "stderr",
          "text": [
            "100%|██████████| 665/665 [00:08<00:00, 75.13it/s]\n",
            "100%|██████████| 118/118 [00:01<00:00, 92.14it/s]\n"
          ]
        },
        {
          "output_type": "stream",
          "name": "stdout",
          "text": [
            "EPOCH -  6 . Train Accuracy =  0.27609410881996155 , Validation Accuracy =  0.27106666564941406\n",
            "Model Re-Saved\n"
          ]
        },
        {
          "output_type": "stream",
          "name": "stderr",
          "text": [
            "100%|██████████| 665/665 [00:08<00:00, 74.81it/s]\n",
            "100%|██████████| 118/118 [00:01<00:00, 91.13it/s]\n"
          ]
        },
        {
          "output_type": "stream",
          "name": "stdout",
          "text": [
            "EPOCH -  7 . Train Accuracy =  0.28341177105903625 , Validation Accuracy =  0.2800000011920929\n",
            "Model Re-Saved\n"
          ]
        },
        {
          "output_type": "stream",
          "name": "stderr",
          "text": [
            "100%|██████████| 665/665 [00:08<00:00, 74.08it/s]\n",
            "100%|██████████| 118/118 [00:01<00:00, 92.26it/s]\n"
          ]
        },
        {
          "output_type": "stream",
          "name": "stdout",
          "text": [
            "EPOCH -  8 . Train Accuracy =  0.29044705629348755 , Validation Accuracy =  0.28600001335144043\n",
            "Model Re-Saved\n"
          ]
        },
        {
          "output_type": "stream",
          "name": "stderr",
          "text": [
            "100%|██████████| 665/665 [00:08<00:00, 80.89it/s]\n",
            "100%|██████████| 118/118 [00:01<00:00, 67.01it/s]\n"
          ]
        },
        {
          "output_type": "stream",
          "name": "stdout",
          "text": [
            "EPOCH -  9 . Train Accuracy =  0.2951764762401581 , Validation Accuracy =  0.2932000160217285\n",
            "Model Re-Saved\n"
          ]
        },
        {
          "output_type": "stream",
          "name": "stderr",
          "text": [
            "100%|██████████| 665/665 [00:08<00:00, 78.51it/s]\n",
            "100%|██████████| 118/118 [00:01<00:00, 92.89it/s]\n"
          ]
        },
        {
          "output_type": "stream",
          "name": "stdout",
          "text": [
            "EPOCH -  10 . Train Accuracy =  0.2988470494747162 , Validation Accuracy =  0.29253333806991577\n"
          ]
        },
        {
          "output_type": "stream",
          "name": "stderr",
          "text": [
            "100%|██████████| 665/665 [00:08<00:00, 74.28it/s]\n",
            "100%|██████████| 118/118 [00:01<00:00, 92.07it/s]\n"
          ]
        },
        {
          "output_type": "stream",
          "name": "stdout",
          "text": [
            "EPOCH -  11 . Train Accuracy =  0.30369412899017334 , Validation Accuracy =  0.29840001463890076\n",
            "Model Re-Saved\n"
          ]
        },
        {
          "output_type": "stream",
          "name": "stderr",
          "text": [
            "100%|██████████| 665/665 [00:08<00:00, 74.82it/s]\n",
            "100%|██████████| 118/118 [00:01<00:00, 91.74it/s]\n"
          ]
        },
        {
          "output_type": "stream",
          "name": "stdout",
          "text": [
            "EPOCH -  12 . Train Accuracy =  0.30752941966056824 , Validation Accuracy =  0.30186668038368225\n",
            "Model Re-Saved\n"
          ]
        },
        {
          "output_type": "stream",
          "name": "stderr",
          "text": [
            "100%|██████████| 665/665 [00:08<00:00, 74.20it/s]\n",
            "100%|██████████| 118/118 [00:01<00:00, 92.75it/s]\n"
          ]
        },
        {
          "output_type": "stream",
          "name": "stdout",
          "text": [
            "EPOCH -  13 . Train Accuracy =  0.3114588260650635 , Validation Accuracy =  0.30399999022483826\n",
            "Model Re-Saved\n"
          ]
        },
        {
          "output_type": "stream",
          "name": "stderr",
          "text": [
            "100%|██████████| 665/665 [00:08<00:00, 74.41it/s]\n",
            "100%|██████████| 118/118 [00:01<00:00, 94.18it/s]\n"
          ]
        },
        {
          "output_type": "stream",
          "name": "stdout",
          "text": [
            "EPOCH -  14 . Train Accuracy =  0.31616470217704773 , Validation Accuracy =  0.30826666951179504\n",
            "Model Re-Saved\n"
          ]
        },
        {
          "output_type": "stream",
          "name": "stderr",
          "text": [
            "100%|██████████| 665/665 [00:08<00:00, 80.75it/s]\n",
            "100%|██████████| 118/118 [00:01<00:00, 68.50it/s]\n"
          ]
        },
        {
          "output_type": "stream",
          "name": "stdout",
          "text": [
            "EPOCH -  15 . Train Accuracy =  0.3197176456451416 , Validation Accuracy =  0.3160000145435333\n",
            "Model Re-Saved\n"
          ]
        },
        {
          "output_type": "stream",
          "name": "stderr",
          "text": [
            "100%|██████████| 665/665 [00:08<00:00, 78.28it/s]\n",
            "100%|██████████| 118/118 [00:01<00:00, 92.62it/s]\n"
          ]
        },
        {
          "output_type": "stream",
          "name": "stdout",
          "text": [
            "EPOCH -  16 . Train Accuracy =  0.3223058879375458 , Validation Accuracy =  0.317466676235199\n",
            "Model Re-Saved\n"
          ]
        },
        {
          "output_type": "stream",
          "name": "stderr",
          "text": [
            "100%|██████████| 665/665 [00:08<00:00, 75.23it/s]\n",
            "100%|██████████| 118/118 [00:01<00:00, 93.14it/s]\n"
          ]
        },
        {
          "output_type": "stream",
          "name": "stdout",
          "text": [
            "EPOCH -  17 . Train Accuracy =  0.32519999146461487 , Validation Accuracy =  0.31933334469795227\n",
            "Model Re-Saved\n"
          ]
        },
        {
          "output_type": "stream",
          "name": "stderr",
          "text": [
            "100%|██████████| 665/665 [00:08<00:00, 74.77it/s]\n",
            "100%|██████████| 118/118 [00:01<00:00, 92.80it/s]\n"
          ]
        },
        {
          "output_type": "stream",
          "name": "stdout",
          "text": [
            "EPOCH -  18 . Train Accuracy =  0.3262588381767273 , Validation Accuracy =  0.3218666613101959\n",
            "Model Re-Saved\n"
          ]
        },
        {
          "output_type": "stream",
          "name": "stderr",
          "text": [
            "100%|██████████| 665/665 [00:08<00:00, 73.98it/s]\n",
            "100%|██████████| 118/118 [00:01<00:00, 92.44it/s]\n"
          ]
        },
        {
          "output_type": "stream",
          "name": "stdout",
          "text": [
            "EPOCH -  19 . Train Accuracy =  0.32858824729919434 , Validation Accuracy =  0.32386666536331177\n",
            "Model Re-Saved\n"
          ]
        },
        {
          "output_type": "stream",
          "name": "stderr",
          "text": [
            "100%|██████████| 665/665 [00:08<00:00, 74.18it/s]\n",
            "100%|██████████| 118/118 [00:01<00:00, 89.99it/s]\n"
          ]
        },
        {
          "output_type": "stream",
          "name": "stdout",
          "text": [
            "EPOCH -  20 . Train Accuracy =  0.33112940192222595 , Validation Accuracy =  0.32386666536331177\n"
          ]
        },
        {
          "output_type": "stream",
          "name": "stderr",
          "text": [
            "100%|██████████| 665/665 [00:08<00:00, 80.34it/s]\n",
            "100%|██████████| 118/118 [00:01<00:00, 71.62it/s]\n"
          ]
        },
        {
          "output_type": "stream",
          "name": "stdout",
          "text": [
            "EPOCH -  21 . Train Accuracy =  0.3345176577568054 , Validation Accuracy =  0.3255999982357025\n",
            "Model Re-Saved\n"
          ]
        },
        {
          "output_type": "stream",
          "name": "stderr",
          "text": [
            "100%|██████████| 665/665 [00:08<00:00, 78.58it/s]\n",
            "100%|██████████| 118/118 [00:01<00:00, 92.94it/s]\n"
          ]
        },
        {
          "output_type": "stream",
          "name": "stdout",
          "text": [
            "EPOCH -  22 . Train Accuracy =  0.33527058362960815 , Validation Accuracy =  0.33000001311302185\n",
            "Model Re-Saved\n"
          ]
        },
        {
          "output_type": "stream",
          "name": "stderr",
          "text": [
            "100%|██████████| 665/665 [00:08<00:00, 75.03it/s]\n",
            "100%|██████████| 118/118 [00:01<00:00, 89.38it/s]\n"
          ]
        },
        {
          "output_type": "stream",
          "name": "stdout",
          "text": [
            "EPOCH -  23 . Train Accuracy =  0.33731764554977417 , Validation Accuracy =  0.33426666259765625\n",
            "Model Re-Saved\n"
          ]
        },
        {
          "output_type": "stream",
          "name": "stderr",
          "text": [
            "100%|██████████| 665/665 [00:08<00:00, 75.01it/s]\n",
            "100%|██████████| 118/118 [00:01<00:00, 92.17it/s]\n"
          ]
        },
        {
          "output_type": "stream",
          "name": "stdout",
          "text": [
            "EPOCH -  24 . Train Accuracy =  0.34070587158203125 , Validation Accuracy =  0.3328000009059906\n"
          ]
        },
        {
          "output_type": "stream",
          "name": "stderr",
          "text": [
            "100%|██████████| 665/665 [00:08<00:00, 74.72it/s]\n",
            "100%|██████████| 118/118 [00:01<00:00, 92.29it/s]\n"
          ]
        },
        {
          "output_type": "stream",
          "name": "stdout",
          "text": [
            "EPOCH -  25 . Train Accuracy =  0.3412941098213196 , Validation Accuracy =  0.3375999927520752\n",
            "Model Re-Saved\n"
          ]
        },
        {
          "output_type": "stream",
          "name": "stderr",
          "text": [
            "100%|██████████| 665/665 [00:08<00:00, 75.14it/s]\n",
            "100%|██████████| 118/118 [00:01<00:00, 81.93it/s]\n"
          ]
        },
        {
          "output_type": "stream",
          "name": "stdout",
          "text": [
            "EPOCH -  26 . Train Accuracy =  0.343129426240921 , Validation Accuracy =  0.33533334732055664\n"
          ]
        },
        {
          "output_type": "stream",
          "name": "stderr",
          "text": [
            "100%|██████████| 665/665 [00:08<00:00, 80.17it/s]\n",
            "100%|██████████| 118/118 [00:01<00:00, 76.15it/s]\n"
          ]
        },
        {
          "output_type": "stream",
          "name": "stdout",
          "text": [
            "EPOCH -  27 . Train Accuracy =  0.3447764813899994 , Validation Accuracy =  0.3362666666507721\n"
          ]
        },
        {
          "output_type": "stream",
          "name": "stderr",
          "text": [
            "100%|██████████| 665/665 [00:08<00:00, 76.71it/s]\n",
            "100%|██████████| 118/118 [00:01<00:00, 89.78it/s]\n"
          ]
        },
        {
          "output_type": "stream",
          "name": "stdout",
          "text": [
            "EPOCH -  28 . Train Accuracy =  0.34545883536338806 , Validation Accuracy =  0.33533334732055664\n"
          ]
        },
        {
          "output_type": "stream",
          "name": "stderr",
          "text": [
            "100%|██████████| 665/665 [00:08<00:00, 74.08it/s]\n",
            "100%|██████████| 118/118 [00:01<00:00, 91.79it/s]\n"
          ]
        },
        {
          "output_type": "stream",
          "name": "stdout",
          "text": [
            "EPOCH -  29 . Train Accuracy =  0.3594117760658264 , Validation Accuracy =  0.37400001287460327\n",
            "Model Re-Saved\n"
          ]
        },
        {
          "output_type": "stream",
          "name": "stderr",
          "text": [
            "100%|██████████| 665/665 [00:08<00:00, 74.94it/s]\n",
            "100%|██████████| 118/118 [00:01<00:00, 89.89it/s]\n"
          ]
        },
        {
          "output_type": "stream",
          "name": "stdout",
          "text": [
            "EPOCH -  30 . Train Accuracy =  0.3802352845668793 , Validation Accuracy =  0.37693333625793457\n",
            "Model Re-Saved\n"
          ]
        },
        {
          "output_type": "stream",
          "name": "stderr",
          "text": [
            "100%|██████████| 665/665 [00:08<00:00, 74.95it/s]\n",
            "100%|██████████| 118/118 [00:01<00:00, 94.03it/s]\n"
          ]
        },
        {
          "output_type": "stream",
          "name": "stdout",
          "text": [
            "EPOCH -  31 . Train Accuracy =  0.3824470639228821 , Validation Accuracy =  0.37439998984336853\n"
          ]
        },
        {
          "output_type": "stream",
          "name": "stderr",
          "text": [
            "100%|██████████| 665/665 [00:08<00:00, 76.74it/s]\n",
            "100%|██████████| 118/118 [00:01<00:00, 78.24it/s]\n"
          ]
        },
        {
          "output_type": "stream",
          "name": "stdout",
          "text": [
            "EPOCH -  32 . Train Accuracy =  0.38567060232162476 , Validation Accuracy =  0.3882666826248169\n",
            "Model Re-Saved\n"
          ]
        },
        {
          "output_type": "stream",
          "name": "stderr",
          "text": [
            "100%|██████████| 665/665 [00:08<00:00, 80.71it/s]\n",
            "100%|██████████| 118/118 [00:01<00:00, 78.80it/s]\n"
          ]
        },
        {
          "output_type": "stream",
          "name": "stdout",
          "text": [
            "EPOCH -  33 . Train Accuracy =  0.3867058753967285 , Validation Accuracy =  0.3818666636943817\n"
          ]
        },
        {
          "output_type": "stream",
          "name": "stderr",
          "text": [
            "100%|██████████| 665/665 [00:08<00:00, 76.58it/s]\n",
            "100%|██████████| 118/118 [00:01<00:00, 93.09it/s]\n"
          ]
        },
        {
          "output_type": "stream",
          "name": "stdout",
          "text": [
            "EPOCH -  34 . Train Accuracy =  0.38792940974235535 , Validation Accuracy =  0.38893333077430725\n",
            "Model Re-Saved\n"
          ]
        },
        {
          "output_type": "stream",
          "name": "stderr",
          "text": [
            "100%|██████████| 665/665 [00:09<00:00, 73.69it/s]\n",
            "100%|██████████| 118/118 [00:01<00:00, 91.83it/s]\n"
          ]
        },
        {
          "output_type": "stream",
          "name": "stdout",
          "text": [
            "EPOCH -  35 . Train Accuracy =  0.3913411796092987 , Validation Accuracy =  0.38573333621025085\n"
          ]
        },
        {
          "output_type": "stream",
          "name": "stderr",
          "text": [
            "100%|██████████| 665/665 [00:08<00:00, 73.98it/s]\n",
            "100%|██████████| 118/118 [00:01<00:00, 89.64it/s]\n"
          ]
        },
        {
          "output_type": "stream",
          "name": "stdout",
          "text": [
            "EPOCH -  36 . Train Accuracy =  0.39221176505088806 , Validation Accuracy =  0.37933334708213806\n"
          ]
        },
        {
          "output_type": "stream",
          "name": "stderr",
          "text": [
            "100%|██████████| 665/665 [00:09<00:00, 73.82it/s]\n",
            "100%|██████████| 118/118 [00:01<00:00, 90.98it/s]\n"
          ]
        },
        {
          "output_type": "stream",
          "name": "stdout",
          "text": [
            "EPOCH -  37 . Train Accuracy =  0.39317646622657776 , Validation Accuracy =  0.38946667313575745\n",
            "Model Re-Saved\n"
          ]
        },
        {
          "output_type": "stream",
          "name": "stderr",
          "text": [
            "100%|██████████| 665/665 [00:08<00:00, 76.77it/s]\n",
            "100%|██████████| 118/118 [00:01<00:00, 76.03it/s]\n"
          ]
        },
        {
          "output_type": "stream",
          "name": "stdout",
          "text": [
            "EPOCH -  38 . Train Accuracy =  0.39449411630630493 , Validation Accuracy =  0.3885333240032196\n"
          ]
        },
        {
          "output_type": "stream",
          "name": "stderr",
          "text": [
            "100%|██████████| 665/665 [00:08<00:00, 81.29it/s]\n",
            "100%|██████████| 118/118 [00:01<00:00, 77.25it/s]\n"
          ]
        },
        {
          "output_type": "stream",
          "name": "stdout",
          "text": [
            "EPOCH -  39 . Train Accuracy =  0.39672940969467163 , Validation Accuracy =  0.39239999651908875\n",
            "Model Re-Saved\n"
          ]
        },
        {
          "output_type": "stream",
          "name": "stderr",
          "text": [
            "100%|██████████| 665/665 [00:08<00:00, 77.22it/s]\n",
            "100%|██████████| 118/118 [00:01<00:00, 92.29it/s]\n"
          ]
        },
        {
          "output_type": "stream",
          "name": "stdout",
          "text": [
            "EPOCH -  40 . Train Accuracy =  0.399152934551239 , Validation Accuracy =  0.39133334159851074\n"
          ]
        },
        {
          "output_type": "stream",
          "name": "stderr",
          "text": [
            "100%|██████████| 665/665 [00:08<00:00, 74.53it/s]\n",
            "100%|██████████| 118/118 [00:01<00:00, 92.14it/s]\n"
          ]
        },
        {
          "output_type": "stream",
          "name": "stdout",
          "text": [
            "EPOCH -  41 . Train Accuracy =  0.40023529529571533 , Validation Accuracy =  0.39693334698677063\n",
            "Model Re-Saved\n"
          ]
        },
        {
          "output_type": "stream",
          "name": "stderr",
          "text": [
            "100%|██████████| 665/665 [00:08<00:00, 74.90it/s]\n",
            "100%|██████████| 118/118 [00:01<00:00, 91.93it/s]\n"
          ]
        },
        {
          "output_type": "stream",
          "name": "stdout",
          "text": [
            "EPOCH -  42 . Train Accuracy =  0.40211763978004456 , Validation Accuracy =  0.3978666663169861\n",
            "Model Re-Saved\n"
          ]
        },
        {
          "output_type": "stream",
          "name": "stderr",
          "text": [
            "100%|██████████| 665/665 [00:08<00:00, 75.13it/s]\n",
            "100%|██████████| 118/118 [00:01<00:00, 91.85it/s]\n"
          ]
        },
        {
          "output_type": "stream",
          "name": "stdout",
          "text": [
            "EPOCH -  43 . Train Accuracy =  0.40275293588638306 , Validation Accuracy =  0.39373335242271423\n"
          ]
        },
        {
          "output_type": "stream",
          "name": "stderr",
          "text": [
            "100%|██████████| 665/665 [00:08<00:00, 76.94it/s]\n",
            "100%|██████████| 118/118 [00:01<00:00, 73.05it/s]\n"
          ]
        },
        {
          "output_type": "stream",
          "name": "stdout",
          "text": [
            "EPOCH -  44 . Train Accuracy =  0.4052705764770508 , Validation Accuracy =  0.3968000113964081\n"
          ]
        },
        {
          "output_type": "stream",
          "name": "stderr",
          "text": [
            "100%|██████████| 665/665 [00:08<00:00, 79.91it/s]\n",
            "100%|██████████| 118/118 [00:01<00:00, 80.88it/s]\n"
          ]
        },
        {
          "output_type": "stream",
          "name": "stdout",
          "text": [
            "EPOCH -  45 . Train Accuracy =  0.4065176546573639 , Validation Accuracy =  0.39586666226387024\n"
          ]
        },
        {
          "output_type": "stream",
          "name": "stderr",
          "text": [
            "100%|██████████| 665/665 [00:08<00:00, 76.31it/s]\n",
            "100%|██████████| 118/118 [00:01<00:00, 92.03it/s]\n"
          ]
        },
        {
          "output_type": "stream",
          "name": "stdout",
          "text": [
            "EPOCH -  46 . Train Accuracy =  0.40929412841796875 , Validation Accuracy =  0.397599995136261\n"
          ]
        },
        {
          "output_type": "stream",
          "name": "stderr",
          "text": [
            "100%|██████████| 665/665 [00:08<00:00, 75.02it/s]\n",
            "100%|██████████| 118/118 [00:01<00:00, 92.42it/s]\n"
          ]
        },
        {
          "output_type": "stream",
          "name": "stdout",
          "text": [
            "EPOCH -  47 . Train Accuracy =  0.4090588390827179 , Validation Accuracy =  0.39986667037010193\n",
            "Model Re-Saved\n"
          ]
        },
        {
          "output_type": "stream",
          "name": "stderr",
          "text": [
            "100%|██████████| 665/665 [00:08<00:00, 74.90it/s]\n",
            "100%|██████████| 118/118 [00:01<00:00, 90.42it/s]\n"
          ]
        },
        {
          "output_type": "stream",
          "name": "stdout",
          "text": [
            "EPOCH -  48 . Train Accuracy =  0.4099764823913574 , Validation Accuracy =  0.4027999937534332\n",
            "Model Re-Saved\n"
          ]
        },
        {
          "output_type": "stream",
          "name": "stderr",
          "text": [
            "100%|██████████| 665/665 [00:08<00:00, 74.63it/s]\n",
            "100%|██████████| 118/118 [00:01<00:00, 91.64it/s]\n"
          ]
        },
        {
          "output_type": "stream",
          "name": "stdout",
          "text": [
            "EPOCH -  49 . Train Accuracy =  0.41091763973236084 , Validation Accuracy =  0.400133341550827\n"
          ]
        },
        {
          "output_type": "stream",
          "name": "stderr",
          "text": [
            "100%|██████████| 665/665 [00:08<00:00, 77.51it/s]\n",
            "100%|██████████| 118/118 [00:01<00:00, 70.99it/s]\n"
          ]
        },
        {
          "output_type": "stream",
          "name": "stdout",
          "text": [
            "EPOCH -  50 . Train Accuracy =  0.41407057642936707 , Validation Accuracy =  0.4052000045776367\n",
            "Model Re-Saved\n",
            "\n"
          ]
        },
        {
          "output_type": "stream",
          "name": "stderr",
          "text": [
            "100%|██████████| 665/665 [00:07<00:00, 89.56it/s]\n"
          ]
        },
        {
          "output_type": "stream",
          "name": "stdout",
          "text": [
            "Train Accuracy =  0.41661176085472107\n"
          ]
        },
        {
          "output_type": "stream",
          "name": "stderr",
          "text": [
            "100%|██████████| 157/157 [00:01<00:00, 91.91it/s]"
          ]
        },
        {
          "output_type": "stream",
          "name": "stdout",
          "text": [
            "Test Accuracy =  0.4066999852657318\n",
            "Generalization Gap =  0.009911775588989258\n"
          ]
        },
        {
          "output_type": "stream",
          "name": "stderr",
          "text": [
            "\n"
          ]
        }
      ]
    },
    {
      "cell_type": "code",
      "source": [
        "PlotGraph(Epoch_List, TrainAcc_List, ValAcc_List)"
      ],
      "metadata": {
        "colab": {
          "base_uri": "https://localhost:8080/",
          "height": 449
        },
        "id": "Sq_PddjYniL5",
        "outputId": "7c35fc6a-475d-4ed6-da7b-678b0fbbf98b"
      },
      "execution_count": null,
      "outputs": [
        {
          "output_type": "display_data",
          "data": {
            "text/plain": [
              "<Figure size 640x480 with 1 Axes>"
            ],
            "image/png": "[encoded data removed]"
          },
          "metadata": {}
        }
      ]
    },
    {
      "cell_type": "code",
      "source": [],
      "metadata": {
        "id": "ySpZ1vtTniUV"
      },
      "execution_count": null,
      "outputs": []
    },
    {
      "cell_type": "code",
      "source": [
        "# -------------------------------------------- CIFAR-10 Dataset with 100% Randomness -----------------------------------------------------------\n",
        "Option = 7\n",
        "Train_DataLoader, Val_DataLoader, Test_DataLoader = CreateDataLoaders(Option, 64, RandomNoisePerc=1)\n",
        "ModelName = \"Model_AllConv_CIFAR10_R100.pt\"\n",
        "\n",
        "model = AllConv(10).to(device)\n",
        "loss_criteria = nn.CrossEntropyLoss()\n",
        "AdamOpt = torch.optim.Adam(model.parameters(), lr=0.0001)\n",
        "\n",
        "ValAccuracy = 0\n",
        "TrainAcc_List = []\n",
        "ValAcc_List = []\n",
        "\n",
        "saved = False\n",
        "if saved == True:\n",
        "    saved_model = torch.load(ModelName, map_location=torch.device('cpu')).to(device)\n",
        "else:\n",
        "    model.train()\n",
        "    Train_Accuracy = 0\n",
        "\n",
        "    for e in range(EPOCHS):\n",
        "        Train_Accuracy = TrainModel(model, loss_criteria, AdamOpt, device, Train_DataLoader)\n",
        "        val_acc = EvaluateModel(model, Val_DataLoader, device)\n",
        "\n",
        "        TrainAcc_List.append(Train_Accuracy.cpu().item())\n",
        "        ValAcc_List.append(val_acc.cpu().item())\n",
        "\n",
        "        print(\"EPOCH - \", e+1, \". Train Accuracy = \", Train_Accuracy.cpu().item(), \", Validation Accuracy = \", val_acc.cpu().item())\n",
        "        \n",
        "        if val_acc.cpu().item() > ValAccuracy:\n",
        "            print(\"Model Re-Saved\")\n",
        "            ValAccuracy = val_acc.cpu().item()\n",
        "            torch.save(model, ModelName)\n",
        "\n",
        "    saved_model = torch.load(ModelName, map_location=torch.device('cpu')).to(device)\n",
        "\n",
        "\n",
        "print()\n",
        "\n",
        "Train_Accuracy = EvaluateModel(saved_model, Train_DataLoader, device)\n",
        "print(\"Train Accuracy = \", Train_Accuracy.cpu().item())\n",
        "Test_Accuracy = EvaluateModel(saved_model, Test_DataLoader, device)\n",
        "print(\"Test Accuracy = \", Test_Accuracy.cpu().item())\n",
        "\n",
        "print(\"Generalization Gap = \", (Train_Accuracy.cpu().item() - Test_Accuracy.cpu().item()))"
      ],
      "metadata": {
        "colab": {
          "base_uri": "https://localhost:8080/"
        },
        "id": "yZls8uI8nicj",
        "outputId": "c7985ab6-15db-4a9c-b45d-deab92a753ca"
      },
      "execution_count": null,
      "outputs": [
        {
          "output_type": "stream",
          "name": "stdout",
          "text": [
            "Files already downloaded and verified\n",
            "Files already downloaded and verified\n"
          ]
        },
        {
          "output_type": "stream",
          "name": "stderr",
          "text": [
            "100%|██████████| 665/665 [00:08<00:00, 78.46it/s]\n",
            "100%|██████████| 118/118 [00:01<00:00, 91.95it/s]\n"
          ]
        },
        {
          "output_type": "stream",
          "name": "stdout",
          "text": [
            "EPOCH -  1 . Train Accuracy =  0.19748234748840332 , Validation Accuracy =  0.2762666642665863\n",
            "Model Re-Saved\n"
          ]
        },
        {
          "output_type": "stream",
          "name": "stderr",
          "text": [
            "100%|██████████| 665/665 [00:08<00:00, 74.83it/s]\n",
            "100%|██████████| 118/118 [00:01<00:00, 90.40it/s]\n"
          ]
        },
        {
          "output_type": "stream",
          "name": "stdout",
          "text": [
            "EPOCH -  2 . Train Accuracy =  0.2892235219478607 , Validation Accuracy =  0.2894666790962219\n",
            "Model Re-Saved\n"
          ]
        },
        {
          "output_type": "stream",
          "name": "stderr",
          "text": [
            "100%|██████████| 665/665 [00:08<00:00, 75.66it/s]\n",
            "100%|██████████| 118/118 [00:01<00:00, 93.46it/s]\n"
          ]
        },
        {
          "output_type": "stream",
          "name": "stdout",
          "text": [
            "EPOCH -  3 . Train Accuracy =  0.31338822841644287 , Validation Accuracy =  0.3242666721343994\n",
            "Model Re-Saved\n"
          ]
        },
        {
          "output_type": "stream",
          "name": "stderr",
          "text": [
            "100%|██████████| 665/665 [00:08<00:00, 75.14it/s]\n",
            "100%|██████████| 118/118 [00:01<00:00, 93.30it/s]\n"
          ]
        },
        {
          "output_type": "stream",
          "name": "stdout",
          "text": [
            "EPOCH -  4 . Train Accuracy =  0.33334118127822876 , Validation Accuracy =  0.3483999967575073\n",
            "Model Re-Saved\n"
          ]
        },
        {
          "output_type": "stream",
          "name": "stderr",
          "text": [
            "100%|██████████| 665/665 [00:08<00:00, 76.86it/s]\n",
            "100%|██████████| 118/118 [00:01<00:00, 77.64it/s]\n"
          ]
        },
        {
          "output_type": "stream",
          "name": "stdout",
          "text": [
            "EPOCH -  5 . Train Accuracy =  0.3528705835342407 , Validation Accuracy =  0.36239999532699585\n",
            "Model Re-Saved\n"
          ]
        },
        {
          "output_type": "stream",
          "name": "stderr",
          "text": [
            "100%|██████████| 665/665 [00:08<00:00, 81.59it/s]\n",
            "100%|██████████| 118/118 [00:01<00:00, 78.90it/s]\n"
          ]
        },
        {
          "output_type": "stream",
          "name": "stdout",
          "text": [
            "EPOCH -  6 . Train Accuracy =  0.36992940306663513 , Validation Accuracy =  0.3729333281517029\n",
            "Model Re-Saved\n"
          ]
        },
        {
          "output_type": "stream",
          "name": "stderr",
          "text": [
            "100%|██████████| 665/665 [00:08<00:00, 77.26it/s]\n",
            "100%|██████████| 118/118 [00:01<00:00, 91.89it/s]\n"
          ]
        },
        {
          "output_type": "stream",
          "name": "stdout",
          "text": [
            "EPOCH -  7 . Train Accuracy =  0.384023517370224 , Validation Accuracy =  0.3770666718482971\n",
            "Model Re-Saved\n"
          ]
        },
        {
          "output_type": "stream",
          "name": "stderr",
          "text": [
            "100%|██████████| 665/665 [00:08<00:00, 75.25it/s]\n",
            "100%|██████████| 118/118 [00:01<00:00, 92.79it/s]\n"
          ]
        },
        {
          "output_type": "stream",
          "name": "stdout",
          "text": [
            "EPOCH -  8 . Train Accuracy =  0.39672940969467163 , Validation Accuracy =  0.39453333616256714\n",
            "Model Re-Saved\n"
          ]
        },
        {
          "output_type": "stream",
          "name": "stderr",
          "text": [
            "100%|██████████| 665/665 [00:08<00:00, 74.93it/s]\n",
            "100%|██████████| 118/118 [00:01<00:00, 92.09it/s]\n"
          ]
        },
        {
          "output_type": "stream",
          "name": "stdout",
          "text": [
            "EPOCH -  9 . Train Accuracy =  0.4055529534816742 , Validation Accuracy =  0.41040000319480896\n",
            "Model Re-Saved\n"
          ]
        },
        {
          "output_type": "stream",
          "name": "stderr",
          "text": [
            "100%|██████████| 665/665 [00:08<00:00, 75.02it/s]\n",
            "100%|██████████| 118/118 [00:01<00:00, 93.08it/s]\n"
          ]
        },
        {
          "output_type": "stream",
          "name": "stdout",
          "text": [
            "EPOCH -  10 . Train Accuracy =  0.41519999504089355 , Validation Accuracy =  0.42053332924842834\n",
            "Model Re-Saved\n"
          ]
        },
        {
          "output_type": "stream",
          "name": "stderr",
          "text": [
            "100%|██████████| 665/665 [00:08<00:00, 78.16it/s]\n",
            "100%|██████████| 118/118 [00:01<00:00, 69.71it/s]\n"
          ]
        },
        {
          "output_type": "stream",
          "name": "stdout",
          "text": [
            "EPOCH -  11 . Train Accuracy =  0.4229411780834198 , Validation Accuracy =  0.4236000180244446\n",
            "Model Re-Saved\n"
          ]
        },
        {
          "output_type": "stream",
          "name": "stderr",
          "text": [
            "100%|██████████| 665/665 [00:08<00:00, 80.63it/s]\n",
            "100%|██████████| 118/118 [00:01<00:00, 92.84it/s]\n"
          ]
        },
        {
          "output_type": "stream",
          "name": "stdout",
          "text": [
            "EPOCH -  12 . Train Accuracy =  0.42665883898735046 , Validation Accuracy =  0.4262666702270508\n",
            "Model Re-Saved\n"
          ]
        },
        {
          "output_type": "stream",
          "name": "stderr",
          "text": [
            "100%|██████████| 665/665 [00:08<00:00, 74.81it/s]\n",
            "100%|██████████| 118/118 [00:01<00:00, 93.59it/s]\n"
          ]
        },
        {
          "output_type": "stream",
          "name": "stdout",
          "text": [
            "EPOCH -  13 . Train Accuracy =  0.4320235252380371 , Validation Accuracy =  0.4297333359718323\n",
            "Model Re-Saved\n"
          ]
        },
        {
          "output_type": "stream",
          "name": "stderr",
          "text": [
            "100%|██████████| 665/665 [00:08<00:00, 74.96it/s]\n",
            "100%|██████████| 118/118 [00:01<00:00, 94.52it/s]\n"
          ]
        },
        {
          "output_type": "stream",
          "name": "stdout",
          "text": [
            "EPOCH -  14 . Train Accuracy =  0.4347764849662781 , Validation Accuracy =  0.43826666474342346\n",
            "Model Re-Saved\n"
          ]
        },
        {
          "output_type": "stream",
          "name": "stderr",
          "text": [
            "100%|██████████| 665/665 [00:08<00:00, 75.49it/s]\n",
            "100%|██████████| 118/118 [00:01<00:00, 92.81it/s]\n"
          ]
        },
        {
          "output_type": "stream",
          "name": "stdout",
          "text": [
            "EPOCH -  15 . Train Accuracy =  0.43868234753608704 , Validation Accuracy =  0.4300000071525574\n"
          ]
        },
        {
          "output_type": "stream",
          "name": "stderr",
          "text": [
            "100%|██████████| 665/665 [00:08<00:00, 74.46it/s]\n",
            "100%|██████████| 118/118 [00:01<00:00, 91.52it/s]\n"
          ]
        },
        {
          "output_type": "stream",
          "name": "stdout",
          "text": [
            "EPOCH -  16 . Train Accuracy =  0.44244706630706787 , Validation Accuracy =  0.44333332777023315\n",
            "Model Re-Saved\n"
          ]
        },
        {
          "output_type": "stream",
          "name": "stderr",
          "text": [
            "100%|██████████| 665/665 [00:08<00:00, 77.76it/s]\n",
            "100%|██████████| 118/118 [00:01<00:00, 65.77it/s]\n"
          ]
        },
        {
          "output_type": "stream",
          "name": "stdout",
          "text": [
            "EPOCH -  17 . Train Accuracy =  0.44745883345603943 , Validation Accuracy =  0.44306668639183044\n"
          ]
        },
        {
          "output_type": "stream",
          "name": "stderr",
          "text": [
            "100%|██████████| 665/665 [00:08<00:00, 79.66it/s]\n",
            "100%|██████████| 118/118 [00:01<00:00, 93.99it/s]\n"
          ]
        },
        {
          "output_type": "stream",
          "name": "stdout",
          "text": [
            "EPOCH -  18 . Train Accuracy =  0.4479529559612274 , Validation Accuracy =  0.43986666202545166\n"
          ]
        },
        {
          "output_type": "stream",
          "name": "stderr",
          "text": [
            "100%|██████████| 665/665 [00:08<00:00, 74.99it/s]\n",
            "100%|██████████| 118/118 [00:01<00:00, 92.96it/s]\n"
          ]
        },
        {
          "output_type": "stream",
          "name": "stdout",
          "text": [
            "EPOCH -  19 . Train Accuracy =  0.45042353868484497 , Validation Accuracy =  0.4389333426952362\n"
          ]
        },
        {
          "output_type": "stream",
          "name": "stderr",
          "text": [
            "100%|██████████| 665/665 [00:08<00:00, 74.93it/s]\n",
            "100%|██████████| 118/118 [00:01<00:00, 88.77it/s]\n"
          ]
        },
        {
          "output_type": "stream",
          "name": "stdout",
          "text": [
            "EPOCH -  20 . Train Accuracy =  0.4523294270038605 , Validation Accuracy =  0.45399999618530273\n",
            "Model Re-Saved\n"
          ]
        },
        {
          "output_type": "stream",
          "name": "stderr",
          "text": [
            "100%|██████████| 665/665 [00:08<00:00, 75.49it/s]\n",
            "100%|██████████| 118/118 [00:01<00:00, 91.29it/s]\n"
          ]
        },
        {
          "output_type": "stream",
          "name": "stdout",
          "text": [
            "EPOCH -  21 . Train Accuracy =  0.4564000070095062 , Validation Accuracy =  0.45000001788139343\n"
          ]
        },
        {
          "output_type": "stream",
          "name": "stderr",
          "text": [
            "100%|██████████| 665/665 [00:08<00:00, 75.44it/s]\n",
            "100%|██████████| 118/118 [00:01<00:00, 92.74it/s]\n"
          ]
        },
        {
          "output_type": "stream",
          "name": "stdout",
          "text": [
            "EPOCH -  22 . Train Accuracy =  0.45872941613197327 , Validation Accuracy =  0.4590666592121124\n",
            "Model Re-Saved\n"
          ]
        },
        {
          "output_type": "stream",
          "name": "stderr",
          "text": [
            "100%|██████████| 665/665 [00:08<00:00, 81.16it/s]\n",
            "100%|██████████| 118/118 [00:01<00:00, 63.32it/s]\n"
          ]
        },
        {
          "output_type": "stream",
          "name": "stdout",
          "text": [
            "EPOCH -  23 . Train Accuracy =  0.4610823690891266 , Validation Accuracy =  0.4566666781902313\n"
          ]
        },
        {
          "output_type": "stream",
          "name": "stderr",
          "text": [
            "100%|██████████| 665/665 [00:08<00:00, 78.96it/s]\n",
            "100%|██████████| 118/118 [00:01<00:00, 92.09it/s]\n"
          ]
        },
        {
          "output_type": "stream",
          "name": "stdout",
          "text": [
            "EPOCH -  24 . Train Accuracy =  0.46385881304740906 , Validation Accuracy =  0.4565333425998688\n"
          ]
        },
        {
          "output_type": "stream",
          "name": "stderr",
          "text": [
            "100%|██████████| 665/665 [00:08<00:00, 74.73it/s]\n",
            "100%|██████████| 118/118 [00:01<00:00, 90.06it/s]\n"
          ]
        },
        {
          "output_type": "stream",
          "name": "stdout",
          "text": [
            "EPOCH -  25 . Train Accuracy =  0.46703529357910156 , Validation Accuracy =  0.4480000138282776\n"
          ]
        },
        {
          "output_type": "stream",
          "name": "stderr",
          "text": [
            "100%|██████████| 665/665 [00:08<00:00, 74.17it/s]\n",
            "100%|██████████| 118/118 [00:01<00:00, 91.30it/s]\n"
          ]
        },
        {
          "output_type": "stream",
          "name": "stdout",
          "text": [
            "EPOCH -  26 . Train Accuracy =  0.46835294365882874 , Validation Accuracy =  0.47040000557899475\n",
            "Model Re-Saved\n"
          ]
        },
        {
          "output_type": "stream",
          "name": "stderr",
          "text": [
            "100%|██████████| 665/665 [00:08<00:00, 75.22it/s]\n",
            "100%|██████████| 118/118 [00:01<00:00, 93.24it/s]\n"
          ]
        },
        {
          "output_type": "stream",
          "name": "stdout",
          "text": [
            "EPOCH -  27 . Train Accuracy =  0.4704705774784088 , Validation Accuracy =  0.4670666754245758\n"
          ]
        },
        {
          "output_type": "stream",
          "name": "stderr",
          "text": [
            "100%|██████████| 665/665 [00:08<00:00, 74.26it/s]\n",
            "100%|██████████| 118/118 [00:01<00:00, 91.53it/s]\n"
          ]
        },
        {
          "output_type": "stream",
          "name": "stdout",
          "text": [
            "EPOCH -  28 . Train Accuracy =  0.47315293550491333 , Validation Accuracy =  0.467600017786026\n"
          ]
        },
        {
          "output_type": "stream",
          "name": "stderr",
          "text": [
            "100%|██████████| 665/665 [00:08<00:00, 81.14it/s]\n",
            "100%|██████████| 118/118 [00:01<00:00, 66.11it/s]\n"
          ]
        },
        {
          "output_type": "stream",
          "name": "stdout",
          "text": [
            "EPOCH -  29 . Train Accuracy =  0.4725882411003113 , Validation Accuracy =  0.4713333249092102\n",
            "Model Re-Saved\n"
          ]
        },
        {
          "output_type": "stream",
          "name": "stderr",
          "text": [
            "100%|██████████| 665/665 [00:08<00:00, 77.34it/s]\n",
            "100%|██████████| 118/118 [00:01<00:00, 92.06it/s]\n"
          ]
        },
        {
          "output_type": "stream",
          "name": "stdout",
          "text": [
            "EPOCH -  30 . Train Accuracy =  0.47729411721229553 , Validation Accuracy =  0.47306665778160095\n",
            "Model Re-Saved\n"
          ]
        },
        {
          "output_type": "stream",
          "name": "stderr",
          "text": [
            "100%|██████████| 665/665 [00:08<00:00, 74.82it/s]\n",
            "100%|██████████| 118/118 [00:01<00:00, 92.82it/s]\n"
          ]
        },
        {
          "output_type": "stream",
          "name": "stdout",
          "text": [
            "EPOCH -  31 . Train Accuracy =  0.47901177406311035 , Validation Accuracy =  0.4638666808605194\n"
          ]
        },
        {
          "output_type": "stream",
          "name": "stderr",
          "text": [
            "100%|██████████| 665/665 [00:08<00:00, 74.37it/s]\n",
            "100%|██████████| 118/118 [00:01<00:00, 92.03it/s]\n"
          ]
        },
        {
          "output_type": "stream",
          "name": "stdout",
          "text": [
            "EPOCH -  32 . Train Accuracy =  0.48169413208961487 , Validation Accuracy =  0.4801333248615265\n",
            "Model Re-Saved\n"
          ]
        },
        {
          "output_type": "stream",
          "name": "stderr",
          "text": [
            "100%|██████████| 665/665 [00:08<00:00, 74.39it/s]\n",
            "100%|██████████| 118/118 [00:01<00:00, 88.84it/s]\n"
          ]
        },
        {
          "output_type": "stream",
          "name": "stdout",
          "text": [
            "EPOCH -  33 . Train Accuracy =  0.48491764068603516 , Validation Accuracy =  0.47679999470710754\n"
          ]
        },
        {
          "output_type": "stream",
          "name": "stderr",
          "text": [
            "100%|██████████| 665/665 [00:09<00:00, 73.61it/s]\n",
            "100%|██████████| 118/118 [00:01<00:00, 90.84it/s]\n"
          ]
        },
        {
          "output_type": "stream",
          "name": "stdout",
          "text": [
            "EPOCH -  34 . Train Accuracy =  0.4856705963611603 , Validation Accuracy =  0.4828000068664551\n",
            "Model Re-Saved\n"
          ]
        },
        {
          "output_type": "stream",
          "name": "stderr",
          "text": [
            "100%|██████████| 665/665 [00:08<00:00, 81.50it/s]\n",
            "100%|██████████| 118/118 [00:01<00:00, 65.31it/s]\n"
          ]
        },
        {
          "output_type": "stream",
          "name": "stdout",
          "text": [
            "EPOCH -  35 . Train Accuracy =  0.4868941307067871 , Validation Accuracy =  0.47573333978652954\n"
          ]
        },
        {
          "output_type": "stream",
          "name": "stderr",
          "text": [
            "100%|██████████| 665/665 [00:08<00:00, 77.60it/s]\n",
            "100%|██████████| 118/118 [00:01<00:00, 93.64it/s]\n"
          ]
        },
        {
          "output_type": "stream",
          "name": "stdout",
          "text": [
            "EPOCH -  36 . Train Accuracy =  0.4892941117286682 , Validation Accuracy =  0.48213332891464233\n"
          ]
        },
        {
          "output_type": "stream",
          "name": "stderr",
          "text": [
            "100%|██████████| 665/665 [00:08<00:00, 75.28it/s]\n",
            "100%|██████████| 118/118 [00:01<00:00, 90.92it/s]\n"
          ]
        },
        {
          "output_type": "stream",
          "name": "stdout",
          "text": [
            "EPOCH -  37 . Train Accuracy =  0.49101176857948303 , Validation Accuracy =  0.4858666658401489\n",
            "Model Re-Saved\n"
          ]
        },
        {
          "output_type": "stream",
          "name": "stderr",
          "text": [
            "100%|██████████| 665/665 [00:08<00:00, 76.29it/s]\n",
            "100%|██████████| 118/118 [00:01<00:00, 93.18it/s]\n"
          ]
        },
        {
          "output_type": "stream",
          "name": "stdout",
          "text": [
            "EPOCH -  38 . Train Accuracy =  0.4924705922603607 , Validation Accuracy =  0.4842666685581207\n"
          ]
        },
        {
          "output_type": "stream",
          "name": "stderr",
          "text": [
            "100%|██████████| 665/665 [00:08<00:00, 74.29it/s]\n",
            "100%|██████████| 118/118 [00:01<00:00, 92.02it/s]\n"
          ]
        },
        {
          "output_type": "stream",
          "name": "stdout",
          "text": [
            "EPOCH -  39 . Train Accuracy =  0.4943764805793762 , Validation Accuracy =  0.4829333424568176\n"
          ]
        },
        {
          "output_type": "stream",
          "name": "stderr",
          "text": [
            "100%|██████████| 665/665 [00:09<00:00, 72.16it/s]\n",
            "100%|██████████| 118/118 [00:01<00:00, 83.04it/s]\n"
          ]
        },
        {
          "output_type": "stream",
          "name": "stdout",
          "text": [
            "EPOCH -  40 . Train Accuracy =  0.4987058937549591 , Validation Accuracy =  0.4880000054836273\n",
            "Model Re-Saved\n"
          ]
        },
        {
          "output_type": "stream",
          "name": "stderr",
          "text": [
            "100%|██████████| 665/665 [00:08<00:00, 78.25it/s]\n",
            "100%|██████████| 118/118 [00:01<00:00, 61.47it/s]\n"
          ]
        },
        {
          "output_type": "stream",
          "name": "stdout",
          "text": [
            "EPOCH -  41 . Train Accuracy =  0.4978823661804199 , Validation Accuracy =  0.48919999599456787\n",
            "Model Re-Saved\n"
          ]
        },
        {
          "output_type": "stream",
          "name": "stderr",
          "text": [
            "100%|██████████| 665/665 [00:08<00:00, 77.29it/s]\n",
            "100%|██████████| 118/118 [00:01<00:00, 84.68it/s]\n"
          ]
        },
        {
          "output_type": "stream",
          "name": "stdout",
          "text": [
            "EPOCH -  42 . Train Accuracy =  0.4987058937549591 , Validation Accuracy =  0.4912000000476837\n",
            "Model Re-Saved\n"
          ]
        },
        {
          "output_type": "stream",
          "name": "stderr",
          "text": [
            "100%|██████████| 665/665 [00:09<00:00, 73.07it/s]\n",
            "100%|██████████| 118/118 [00:01<00:00, 90.99it/s]\n"
          ]
        },
        {
          "output_type": "stream",
          "name": "stdout",
          "text": [
            "EPOCH -  43 . Train Accuracy =  0.5014352798461914 , Validation Accuracy =  0.4877333343029022\n"
          ]
        },
        {
          "output_type": "stream",
          "name": "stderr",
          "text": [
            "100%|██████████| 665/665 [00:09<00:00, 73.47it/s]\n",
            "100%|██████████| 118/118 [00:01<00:00, 90.48it/s]\n"
          ]
        },
        {
          "output_type": "stream",
          "name": "stdout",
          "text": [
            "EPOCH -  44 . Train Accuracy =  0.5040470361709595 , Validation Accuracy =  0.49639999866485596\n",
            "Model Re-Saved\n"
          ]
        },
        {
          "output_type": "stream",
          "name": "stderr",
          "text": [
            "100%|██████████| 665/665 [00:08<00:00, 74.33it/s]\n",
            "100%|██████████| 118/118 [00:01<00:00, 91.77it/s]\n"
          ]
        },
        {
          "output_type": "stream",
          "name": "stdout",
          "text": [
            "EPOCH -  45 . Train Accuracy =  0.5048470497131348 , Validation Accuracy =  0.4914666712284088\n"
          ]
        },
        {
          "output_type": "stream",
          "name": "stderr",
          "text": [
            "100%|██████████| 665/665 [00:09<00:00, 73.77it/s]\n",
            "100%|██████████| 118/118 [00:01<00:00, 88.28it/s]\n"
          ]
        },
        {
          "output_type": "stream",
          "name": "stdout",
          "text": [
            "EPOCH -  46 . Train Accuracy =  0.5076941251754761 , Validation Accuracy =  0.4898666739463806\n"
          ]
        },
        {
          "output_type": "stream",
          "name": "stderr",
          "text": [
            "100%|██████████| 665/665 [00:08<00:00, 76.58it/s]\n",
            "100%|██████████| 118/118 [00:01<00:00, 73.14it/s]\n"
          ]
        },
        {
          "output_type": "stream",
          "name": "stdout",
          "text": [
            "EPOCH -  47 . Train Accuracy =  0.5102353096008301 , Validation Accuracy =  0.4968000054359436\n",
            "Model Re-Saved\n"
          ]
        },
        {
          "output_type": "stream",
          "name": "stderr",
          "text": [
            "100%|██████████| 665/665 [00:08<00:00, 79.00it/s]\n",
            "100%|██████████| 118/118 [00:01<00:00, 80.79it/s]\n"
          ]
        },
        {
          "output_type": "stream",
          "name": "stdout",
          "text": [
            "EPOCH -  48 . Train Accuracy =  0.5091294050216675 , Validation Accuracy =  0.4992000162601471\n",
            "Model Re-Saved\n"
          ]
        },
        {
          "output_type": "stream",
          "name": "stderr",
          "text": [
            "100%|██████████| 665/665 [00:09<00:00, 73.21it/s]\n",
            "100%|██████████| 118/118 [00:01<00:00, 90.83it/s]\n"
          ]
        },
        {
          "output_type": "stream",
          "name": "stdout",
          "text": [
            "EPOCH -  49 . Train Accuracy =  0.5117882490158081 , Validation Accuracy =  0.5054666996002197\n",
            "Model Re-Saved\n"
          ]
        },
        {
          "output_type": "stream",
          "name": "stderr",
          "text": [
            "100%|██████████| 665/665 [00:08<00:00, 74.07it/s]\n",
            "100%|██████████| 118/118 [00:01<00:00, 91.87it/s]\n"
          ]
        },
        {
          "output_type": "stream",
          "name": "stdout",
          "text": [
            "EPOCH -  50 . Train Accuracy =  0.515223503112793 , Validation Accuracy =  0.5006666779518127\n",
            "\n"
          ]
        },
        {
          "output_type": "stream",
          "name": "stderr",
          "text": [
            "100%|██████████| 665/665 [00:08<00:00, 82.54it/s]\n"
          ]
        },
        {
          "output_type": "stream",
          "name": "stdout",
          "text": [
            "Train Accuracy =  0.5199529528617859\n"
          ]
        },
        {
          "output_type": "stream",
          "name": "stderr",
          "text": [
            "100%|██████████| 157/157 [00:01<00:00, 93.48it/s]"
          ]
        },
        {
          "output_type": "stream",
          "name": "stdout",
          "text": [
            "Test Accuracy =  0.5054999589920044\n",
            "Generalization Gap =  0.014452993869781494\n"
          ]
        },
        {
          "output_type": "stream",
          "name": "stderr",
          "text": [
            "\n"
          ]
        }
      ]
    },
    {
      "cell_type": "code",
      "source": [
        "PlotGraph(Epoch_List, TrainAcc_List, ValAcc_List)"
      ],
      "metadata": {
        "colab": {
          "base_uri": "https://localhost:8080/",
          "height": 449
        },
        "id": "JVMK47hBpp6X",
        "outputId": "a29bdc2e-d14a-4f41-fefb-029bf8c7a8d8"
      },
      "execution_count": null,
      "outputs": [
        {
          "output_type": "display_data",
          "data": {
            "text/plain": [
              "<Figure size 640x480 with 1 Axes>"
            ],
            "image/png": "[encoded data removed]"
          },
          "metadata": {}
        }
      ]
    },
    {
      "cell_type": "code",
      "source": [],
      "metadata": {
        "id": "XRemrzq7tcw8"
      },
      "execution_count": null,
      "outputs": []
    }
  ]
}