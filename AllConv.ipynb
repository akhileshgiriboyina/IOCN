{
  "nbformat": 4,
  "nbformat_minor": 0,
  "metadata": {
    "colab": {
      "provenance": []
    },
    "kernelspec": {
      "name": "python3",
      "display_name": "Python 3"
    },
    "language_info": {
      "name": "python"
    },
    "accelerator": "GPU",
    "gpuClass": "standard"
  },
  "cells": [
    {
      "cell_type": "code",
      "execution_count": null,
      "metadata": {
        "id": "JiSUo3t_qZmX"
      },
      "outputs": [],
      "source": [
        "import torch\n",
        "import torch.nn as nn\n",
        "import torchvision\n",
        "from torchvision import datasets\n",
        "from torchvision import transforms\n",
        "\n",
        "import numpy as np\n",
        "from tqdm import tqdm\n",
        "import math"
      ]
    },
    {
      "cell_type": "code",
      "source": [
        "transform = transforms.Compose([\n",
        "                    transforms.ToTensor(), \n",
        "                    # transforms.Normalize((0.5,), (0.5,)),\n",
        "            ])"
      ],
      "metadata": {
        "id": "ziexsFs4tr1v"
      },
      "execution_count": null,
      "outputs": []
    },
    {
      "cell_type": "code",
      "source": [
        "def CreateDataLoaders(Option, p_BatchSize):\n",
        "    if Option == 1:\n",
        "        train_dataset = datasets.MNIST(\"./\", train=True, transform = transform, download=True)\n",
        "        train_subset, val_subset = torch.utils.data.random_split(train_dataset, [int(len(train_dataset) * 0.85), int(len(train_dataset) * 0.15)], generator=torch.Generator().manual_seed(1))\n",
        "        test_dataset = datasets.MNIST(\"./\", train=False, transform = transform, download=True)\n",
        "    elif Option == 2:\n",
        "        train_dataset = datasets.FashionMNIST(\"./\", train=True, transform = transform, download=True)\n",
        "        train_subset, val_subset = torch.utils.data.random_split(train_dataset, [int(len(train_dataset) * 0.85), int(len(train_dataset) * 0.15)], generator=torch.Generator().manual_seed(1))\n",
        "        test_dataset = datasets.FashionMNIST(\"./\", train=False, transform = transform, download=True)\n",
        "    \n",
        "    elif Option == 5:\n",
        "        train_dataset = datasets.CIFAR10(\"./\", train=True, transform = transform, download=True)\n",
        "        train_subset, val_subset = torch.utils.data.random_split(train_dataset, [int(len(train_dataset) * 0.85), int(len(train_dataset) * 0.15)], generator=torch.Generator().manual_seed(1))\n",
        "        test_dataset = datasets.CIFAR10(\"./\", train=False, transform = transform, download=True)\n",
        "\n",
        "    elif Option == 6:\n",
        "        train_dataset = datasets.CIFAR100(\"./\", train=True, transform = transform, download=True)\n",
        "        train_subset, val_subset = torch.utils.data.random_split(train_dataset, [int(len(train_dataset) * 0.85), int(len(train_dataset) * 0.15)], generator=torch.Generator().manual_seed(1))\n",
        "        test_dataset = datasets.CIFAR100(\"./\", train=False, transform = transform, download=True)\n",
        "\n",
        "    \n",
        "    Train_DataLoader = torch.utils.data.DataLoader(train_subset, batch_size = p_BatchSize, shuffle = True)\n",
        "    Val_DataLoader = torch.utils.data.DataLoader(val_subset, batch_size = p_BatchSize, shuffle = True)\n",
        "    Test_DataLoader = torch.utils.data.DataLoader(test_dataset, batch_size = p_BatchSize, shuffle = True)\n",
        "\n",
        "    return Train_DataLoader, Val_DataLoader, Test_DataLoader"
      ],
      "metadata": {
        "id": "qs5tvnqOtsQa"
      },
      "execution_count": null,
      "outputs": []
    },
    {
      "cell_type": "code",
      "source": [
        "class AllConv(nn.Module):\n",
        "    def __init__(self, OutputDim):\n",
        "        super(AllConv, self).__init__()\n",
        "        # self.InputDim = InputDim\n",
        "        self.OutputDim = OutputDim\n",
        "        \n",
        "        self.Conv1 = nn.Conv2d(3, 96, kernel_size = 3)\n",
        "        self.Conv2 = nn.Conv2d(96, 96, kernel_size = 3)\n",
        "        self.Conv3 = nn.Conv2d(96, 96, kernel_size = 3, stride = 2)\n",
        "        self.Conv4 = nn.Conv2d(96, 192, kernel_size = 3)\n",
        "        self.Conv5 = nn.Conv2d(192, 192, kernel_size = 3)\n",
        "        self.Conv6 = nn.Conv2d(192, 192, kernel_size = 3, stride = 2)\n",
        "        self.Conv7 = nn.Conv2d(192, 192, kernel_size = 3)\n",
        "        self.Conv8 = nn.Conv2d(192, 192, kernel_size = 1)\n",
        "        self.Conv9 = nn.Conv2d(192, self.OutputDim, kernel_size = 1)\n",
        "\n",
        "        self.AvgPool = nn.AvgPool2d(kernel_size = 2) # In Paper it is mentioned to avg pool on 6 x 6\n",
        "\n",
        "        self.ActFunc = nn.functional.relu\n",
        "        # self.batch = nn.BatchNorm1d(800)\n",
        "        # self.SftMax = nn.Softmax\n",
        "\n",
        "    def forward(self, x):\n",
        "        # print(x.shape)\n",
        "        x = self.ActFunc(self.Conv1(x))\n",
        "        # print(x.shape)\n",
        "        x = self.ActFunc(self.Conv2(x))\n",
        "        # print(x.shape)\n",
        "        x = self.ActFunc(self.Conv3(x))\n",
        "        # print(x.shape)\n",
        "        x = self.ActFunc(self.Conv4(x))\n",
        "        # print(x.shape)\n",
        "        x = self.ActFunc(self.Conv5(x))\n",
        "        # print(x.shape)\n",
        "        x = self.ActFunc(self.Conv6(x))\n",
        "        # print(x.shape)\n",
        "        x = self.ActFunc(self.Conv7(x))\n",
        "        # print(x.shape)\n",
        "        x = self.ActFunc(self.Conv8(x))\n",
        "        # print(x.shape)\n",
        "        x = self.ActFunc(self.Conv9(x))\n",
        "        # print(x.shape)\n",
        "        # print(\"Conv done\")\n",
        "        x = self.AvgPool(x)\n",
        "        # print(x.shape)\n",
        "        \n",
        "        return x"
      ],
      "metadata": {
        "id": "1hIH_Ef5ttxF"
      },
      "execution_count": null,
      "outputs": []
    },
    {
      "cell_type": "code",
      "source": [
        "def TrainModel(p_model, loss_criteria, Optimizer, device,  p_TrainDL, Gamma = 5):\n",
        "    TrainCorr = 0\n",
        "    TotNumOfSamples = 0\n",
        "    ValAccuracy = float('inf')\n",
        "\n",
        "    for images, labels in tqdm(p_TrainDL):\n",
        "        Optimizer.zero_grad()\n",
        "\n",
        "        # images = images.reshape(images.shape[0], -1).to(device)\n",
        "        images = images.to(device)\n",
        "        labels = labels.to(device)\n",
        "\n",
        "        pred = p_model(images)\n",
        "        pred = pred.reshape(pred.shape[0], -1)\n",
        "        # print(type(pred))\n",
        "        # print(pred.shape)\n",
        "        # print(pred)\n",
        "        # pred=pred.to(torch.float)\n",
        "        # labels=labels.to(torch.float)\n",
        "        predClass = torch.max(pred.data, 1)[1]\n",
        "        # predClass = np.argmax(pred, axis=-1)\n",
        "        # predClass = pred.max(1)\n",
        "        # print(\"Pred\", predClass)\n",
        "        # print(type(labels))\n",
        "        # print(\"labels\", labels)\n",
        "\n",
        "        # predClass=predClass.to(torch.float)\n",
        "        loss = loss_criteria(pred, labels)\n",
        "        TrainCorr += (predClass==labels).sum()\n",
        "        TotNumOfSamples += len(labels)\n",
        "\n",
        "        loss.backward()\n",
        "        Optimizer.step()\n",
        "    \n",
        "    # print(\"Correct\", TrainCorr, \" Out of\", TotNumOfSamples)\n",
        "    return TrainCorr/TotNumOfSamples\n",
        "\n",
        "def EvaluateModel(p_model, p_loader, device):\n",
        "    Correct = 0\n",
        "    TotalNumOfSamples = 0\n",
        "\n",
        "    for images, labels in tqdm(p_loader):\n",
        "        images = images.to(device)\n",
        "        labels = labels.to(device)\n",
        "\n",
        "        pred = p_model(images)\n",
        "        pred = pred.reshape(pred.shape[0], -1)\n",
        "        # print(pred.shape)\n",
        "        predClass = torch.max(pred.data, 1)[1]\n",
        "        Correct += (predClass==labels).sum()\n",
        "        TotalNumOfSamples += len(labels)\n",
        "        # print(predClass)\n",
        "        # print(labels)\n",
        "        # print(predClass==labels)\n",
        "        # print(\"Correct\", Correct, \" Out of\", TotalNumOfSamples)\n",
        "        # loss = loss_criteria(predClass, labels)\n",
        "        # Accuracy += loss.cpu().data.item()\n",
        "\n",
        "    # print(\"Correct\", Correct, \" Out of\", TotalNumOfSamples)\n",
        "    return Correct/TotalNumOfSamples"
      ],
      "metadata": {
        "id": "HoEvsNoy0Waf"
      },
      "execution_count": null,
      "outputs": []
    },
    {
      "cell_type": "code",
      "source": [
        "device = torch.device('cuda' if torch.cuda.is_available() else 'cpu')\n",
        "EPOCHS = 100"
      ],
      "metadata": {
        "id": "S7ztEDE31IFt"
      },
      "execution_count": null,
      "outputs": []
    },
    {
      "cell_type": "code",
      "source": [],
      "metadata": {
        "id": "0aPy4frb1KUp"
      },
      "execution_count": null,
      "outputs": []
    },
    {
      "cell_type": "code",
      "source": [
        "# -------------------------------------------- CIFAR-10 Dataset -----------------------------------------------------------\n",
        "Option = 5\n",
        "Train_DataLoader, Val_DataLoader, Test_DataLoader = CreateDataLoaders(Option, 64)\n",
        "ModelName = \"Model_AllConv_CIFAR10.pt\"\n",
        "\n",
        "model = AllConv(10).to(device)\n",
        "loss_criteria = nn.CrossEntropyLoss()\n",
        "AdamOpt = torch.optim.Adam(model.parameters(), lr=0.0001)\n",
        "\n",
        "ValAccuracy = 0\n",
        "\n",
        "saved = False\n",
        "if saved == True:\n",
        "    saved_model = torch.load(ModelName, map_location=torch.device('cpu')).to(device)\n",
        "else:\n",
        "    model.train()\n",
        "    Train_Accuracy = 0\n",
        "\n",
        "    for e in range(EPOCHS):\n",
        "        Train_Accuracy = TrainModel(model, loss_criteria, AdamOpt, device, Train_DataLoader)\n",
        "        val_acc = EvaluateModel(model, Val_DataLoader, device)\n",
        "\n",
        "        print(\"EPOCH - \", e+1, \". Train Accuracy = \", Train_Accuracy.cpu().item(), \", Validation Accuracy = \", val_acc.cpu().item())\n",
        "        \n",
        "        if val_acc.cpu().item() > ValAccuracy:\n",
        "            print(\"Model Re-Saved\")\n",
        "            ValAccuracy = val_acc.cpu().item()\n",
        "            torch.save(model, ModelName)\n",
        "\n",
        "    saved_model = torch.load(ModelName, map_location=torch.device('cpu')).to(device)\n",
        "\n",
        "\n",
        "print()\n",
        "\n",
        "Train_Accuracy = EvaluateModel(saved_model, Train_DataLoader, device)\n",
        "print(\"Train Accuracy = \", Train_Accuracy.cpu().item())\n",
        "Test_Accuracy = EvaluateModel(saved_model, Test_DataLoader, device)\n",
        "print(\"Test Accuracy = \", Test_Accuracy.cpu().item())\n",
        "\n",
        "print(\"Generalization Gap = \", (Train_Accuracy.cpu().item() - Test_Accuracy.cpu().item()))"
      ],
      "metadata": {
        "colab": {
          "base_uri": "https://localhost:8080/"
        },
        "id": "Ie5jieeO1D1A",
        "outputId": "01b25a26-73e2-4eb2-b940-c2b758e188be"
      },
      "execution_count": null,
      "outputs": [
        {
          "output_type": "stream",
          "name": "stdout",
          "text": [
            "Files already downloaded and verified\n",
            "Files already downloaded and verified\n"
          ]
        },
        {
          "output_type": "stream",
          "name": "stderr",
          "text": [
            "100%|██████████| 665/665 [00:11<00:00, 59.96it/s]\n",
            "100%|██████████| 118/118 [00:01<00:00, 90.20it/s]\n"
          ]
        },
        {
          "output_type": "stream",
          "name": "stdout",
          "text": [
            "EPOCH -  1 . Train Accuracy =  0.23574118316173553 , Validation Accuracy =  0.3059999942779541\n",
            "Model Re-Saved\n"
          ]
        },
        {
          "output_type": "stream",
          "name": "stderr",
          "text": [
            "100%|██████████| 665/665 [00:11<00:00, 59.52it/s]\n",
            "100%|██████████| 118/118 [00:01<00:00, 86.41it/s]\n"
          ]
        },
        {
          "output_type": "stream",
          "name": "stdout",
          "text": [
            "EPOCH -  2 . Train Accuracy =  0.3138352930545807 , Validation Accuracy =  0.3431999981403351\n",
            "Model Re-Saved\n"
          ]
        },
        {
          "output_type": "stream",
          "name": "stderr",
          "text": [
            "100%|██████████| 665/665 [00:11<00:00, 60.12it/s]\n",
            "100%|██████████| 118/118 [00:01<00:00, 87.09it/s]\n"
          ]
        },
        {
          "output_type": "stream",
          "name": "stdout",
          "text": [
            "EPOCH -  3 . Train Accuracy =  0.3527058959007263 , Validation Accuracy =  0.3705333471298218\n",
            "Model Re-Saved\n"
          ]
        },
        {
          "output_type": "stream",
          "name": "stderr",
          "text": [
            "100%|██████████| 665/665 [00:11<00:00, 59.93it/s]\n",
            "100%|██████████| 118/118 [00:01<00:00, 82.59it/s]\n"
          ]
        },
        {
          "output_type": "stream",
          "name": "stdout",
          "text": [
            "EPOCH -  4 . Train Accuracy =  0.3792235255241394 , Validation Accuracy =  0.39613333344459534\n",
            "Model Re-Saved\n"
          ]
        },
        {
          "output_type": "stream",
          "name": "stderr",
          "text": [
            "100%|██████████| 665/665 [00:10<00:00, 61.15it/s]\n",
            "100%|██████████| 118/118 [00:01<00:00, 79.77it/s]\n"
          ]
        },
        {
          "output_type": "stream",
          "name": "stdout",
          "text": [
            "EPOCH -  5 . Train Accuracy =  0.40545883774757385 , Validation Accuracy =  0.41280001401901245\n",
            "Model Re-Saved\n"
          ]
        },
        {
          "output_type": "stream",
          "name": "stderr",
          "text": [
            "100%|██████████| 665/665 [00:10<00:00, 61.60it/s]\n",
            "100%|██████████| 118/118 [00:01<00:00, 76.91it/s]\n"
          ]
        },
        {
          "output_type": "stream",
          "name": "stdout",
          "text": [
            "EPOCH -  6 . Train Accuracy =  0.4267764687538147 , Validation Accuracy =  0.4301333427429199\n",
            "Model Re-Saved\n"
          ]
        },
        {
          "output_type": "stream",
          "name": "stderr",
          "text": [
            "100%|██████████| 665/665 [00:10<00:00, 61.28it/s]\n",
            "100%|██████████| 118/118 [00:01<00:00, 70.72it/s]\n"
          ]
        },
        {
          "output_type": "stream",
          "name": "stdout",
          "text": [
            "EPOCH -  7 . Train Accuracy =  0.4430117607116699 , Validation Accuracy =  0.4402666687965393\n",
            "Model Re-Saved\n"
          ]
        },
        {
          "output_type": "stream",
          "name": "stderr",
          "text": [
            "100%|██████████| 665/665 [00:10<00:00, 61.66it/s]\n",
            "100%|██████████| 118/118 [00:01<00:00, 69.09it/s]\n"
          ]
        },
        {
          "output_type": "stream",
          "name": "stdout",
          "text": [
            "EPOCH -  8 . Train Accuracy =  0.4543529450893402 , Validation Accuracy =  0.451200008392334\n",
            "Model Re-Saved\n"
          ]
        },
        {
          "output_type": "stream",
          "name": "stderr",
          "text": [
            "100%|██████████| 665/665 [00:10<00:00, 61.81it/s]\n",
            "100%|██████████| 118/118 [00:01<00:00, 63.86it/s]\n"
          ]
        },
        {
          "output_type": "stream",
          "name": "stdout",
          "text": [
            "EPOCH -  9 . Train Accuracy =  0.46755293011665344 , Validation Accuracy =  0.4646666646003723\n",
            "Model Re-Saved\n"
          ]
        },
        {
          "output_type": "stream",
          "name": "stderr",
          "text": [
            "100%|██████████| 665/665 [00:10<00:00, 61.01it/s]\n",
            "100%|██████████| 118/118 [00:01<00:00, 62.22it/s]\n"
          ]
        },
        {
          "output_type": "stream",
          "name": "stdout",
          "text": [
            "EPOCH -  10 . Train Accuracy =  0.4773411750793457 , Validation Accuracy =  0.4472000002861023\n"
          ]
        },
        {
          "output_type": "stream",
          "name": "stderr",
          "text": [
            "100%|██████████| 665/665 [00:10<00:00, 61.87it/s]\n",
            "100%|██████████| 118/118 [00:01<00:00, 65.32it/s]\n"
          ]
        },
        {
          "output_type": "stream",
          "name": "stdout",
          "text": [
            "EPOCH -  11 . Train Accuracy =  0.48809412121772766 , Validation Accuracy =  0.47893333435058594\n",
            "Model Re-Saved\n"
          ]
        },
        {
          "output_type": "stream",
          "name": "stderr",
          "text": [
            "100%|██████████| 665/665 [00:10<00:00, 61.74it/s]\n",
            "100%|██████████| 118/118 [00:01<00:00, 69.88it/s]\n"
          ]
        },
        {
          "output_type": "stream",
          "name": "stdout",
          "text": [
            "EPOCH -  12 . Train Accuracy =  0.4991764724254608 , Validation Accuracy =  0.4869333505630493\n",
            "Model Re-Saved\n"
          ]
        },
        {
          "output_type": "stream",
          "name": "stderr",
          "text": [
            "100%|██████████| 665/665 [00:10<00:00, 61.87it/s]\n",
            "100%|██████████| 118/118 [00:01<00:00, 73.42it/s]\n"
          ]
        },
        {
          "output_type": "stream",
          "name": "stdout",
          "text": [
            "EPOCH -  13 . Train Accuracy =  0.5053411722183228 , Validation Accuracy =  0.4866666793823242\n"
          ]
        },
        {
          "output_type": "stream",
          "name": "stderr",
          "text": [
            "100%|██████████| 665/665 [00:10<00:00, 61.63it/s]\n",
            "100%|██████████| 118/118 [00:01<00:00, 76.30it/s]\n"
          ]
        },
        {
          "output_type": "stream",
          "name": "stdout",
          "text": [
            "EPOCH -  14 . Train Accuracy =  0.5124706029891968 , Validation Accuracy =  0.49266666173934937\n",
            "Model Re-Saved\n"
          ]
        },
        {
          "output_type": "stream",
          "name": "stderr",
          "text": [
            "100%|██████████| 665/665 [00:10<00:00, 60.78it/s]\n",
            "100%|██████████| 118/118 [00:01<00:00, 83.49it/s]\n"
          ]
        },
        {
          "output_type": "stream",
          "name": "stdout",
          "text": [
            "EPOCH -  15 . Train Accuracy =  0.5216000080108643 , Validation Accuracy =  0.51746666431427\n",
            "Model Re-Saved\n"
          ]
        },
        {
          "output_type": "stream",
          "name": "stderr",
          "text": [
            "100%|██████████| 665/665 [00:11<00:00, 60.13it/s]\n",
            "100%|██████████| 118/118 [00:01<00:00, 86.70it/s]\n"
          ]
        },
        {
          "output_type": "stream",
          "name": "stdout",
          "text": [
            "EPOCH -  16 . Train Accuracy =  0.5279058814048767 , Validation Accuracy =  0.4860000014305115\n"
          ]
        },
        {
          "output_type": "stream",
          "name": "stderr",
          "text": [
            "100%|██████████| 665/665 [00:11<00:00, 57.83it/s]\n",
            "100%|██████████| 118/118 [00:01<00:00, 88.61it/s]\n"
          ]
        },
        {
          "output_type": "stream",
          "name": "stdout",
          "text": [
            "EPOCH -  17 . Train Accuracy =  0.5366352796554565 , Validation Accuracy =  0.5134666562080383\n"
          ]
        },
        {
          "output_type": "stream",
          "name": "stderr",
          "text": [
            "100%|██████████| 665/665 [00:10<00:00, 60.68it/s]\n",
            "100%|██████████| 118/118 [00:01<00:00, 88.19it/s]\n"
          ]
        },
        {
          "output_type": "stream",
          "name": "stdout",
          "text": [
            "EPOCH -  18 . Train Accuracy =  0.5416470766067505 , Validation Accuracy =  0.49266666173934937\n"
          ]
        },
        {
          "output_type": "stream",
          "name": "stderr",
          "text": [
            "100%|██████████| 665/665 [00:11<00:00, 60.43it/s]\n",
            "100%|██████████| 118/118 [00:01<00:00, 89.71it/s]\n"
          ]
        },
        {
          "output_type": "stream",
          "name": "stdout",
          "text": [
            "EPOCH -  19 . Train Accuracy =  0.5490353107452393 , Validation Accuracy =  0.5269333124160767\n",
            "Model Re-Saved\n"
          ]
        },
        {
          "output_type": "stream",
          "name": "stderr",
          "text": [
            "100%|██████████| 665/665 [00:10<00:00, 60.63it/s]\n",
            "100%|██████████| 118/118 [00:01<00:00, 87.63it/s]\n"
          ]
        },
        {
          "output_type": "stream",
          "name": "stdout",
          "text": [
            "EPOCH -  20 . Train Accuracy =  0.5575293898582458 , Validation Accuracy =  0.5237333178520203\n"
          ]
        },
        {
          "output_type": "stream",
          "name": "stderr",
          "text": [
            "100%|██████████| 665/665 [00:10<00:00, 60.94it/s]\n",
            "100%|██████████| 118/118 [00:01<00:00, 86.10it/s]\n"
          ]
        },
        {
          "output_type": "stream",
          "name": "stdout",
          "text": [
            "EPOCH -  21 . Train Accuracy =  0.5627999901771545 , Validation Accuracy =  0.5353333353996277\n",
            "Model Re-Saved\n"
          ]
        },
        {
          "output_type": "stream",
          "name": "stderr",
          "text": [
            "100%|██████████| 665/665 [00:11<00:00, 59.90it/s]\n",
            "100%|██████████| 118/118 [00:01<00:00, 88.89it/s]\n"
          ]
        },
        {
          "output_type": "stream",
          "name": "stdout",
          "text": [
            "EPOCH -  22 . Train Accuracy =  0.5684705972671509 , Validation Accuracy =  0.5301333665847778\n"
          ]
        },
        {
          "output_type": "stream",
          "name": "stderr",
          "text": [
            "100%|██████████| 665/665 [00:10<00:00, 60.76it/s]\n",
            "100%|██████████| 118/118 [00:01<00:00, 88.93it/s]\n"
          ]
        },
        {
          "output_type": "stream",
          "name": "stdout",
          "text": [
            "EPOCH -  23 . Train Accuracy =  0.57489413022995 , Validation Accuracy =  0.5290666818618774\n"
          ]
        },
        {
          "output_type": "stream",
          "name": "stderr",
          "text": [
            "100%|██████████| 665/665 [00:10<00:00, 60.66it/s]\n",
            "100%|██████████| 118/118 [00:01<00:00, 88.40it/s]\n"
          ]
        },
        {
          "output_type": "stream",
          "name": "stdout",
          "text": [
            "EPOCH -  24 . Train Accuracy =  0.5832470655441284 , Validation Accuracy =  0.5441333651542664\n",
            "Model Re-Saved\n"
          ]
        },
        {
          "output_type": "stream",
          "name": "stderr",
          "text": [
            "100%|██████████| 665/665 [00:10<00:00, 60.67it/s]\n",
            "100%|██████████| 118/118 [00:01<00:00, 88.28it/s]\n"
          ]
        },
        {
          "output_type": "stream",
          "name": "stdout",
          "text": [
            "EPOCH -  25 . Train Accuracy =  0.5910823345184326 , Validation Accuracy =  0.5424000024795532\n"
          ]
        },
        {
          "output_type": "stream",
          "name": "stderr",
          "text": [
            "100%|██████████| 665/665 [00:10<00:00, 60.74it/s]\n",
            "100%|██████████| 118/118 [00:01<00:00, 87.10it/s]\n"
          ]
        },
        {
          "output_type": "stream",
          "name": "stdout",
          "text": [
            "EPOCH -  26 . Train Accuracy =  0.5920941233634949 , Validation Accuracy =  0.5517333149909973\n",
            "Model Re-Saved\n"
          ]
        },
        {
          "output_type": "stream",
          "name": "stderr",
          "text": [
            "100%|██████████| 665/665 [00:10<00:00, 60.48it/s]\n",
            "100%|██████████| 118/118 [00:01<00:00, 87.97it/s]\n"
          ]
        },
        {
          "output_type": "stream",
          "name": "stdout",
          "text": [
            "EPOCH -  27 . Train Accuracy =  0.599858820438385 , Validation Accuracy =  0.5525333285331726\n",
            "Model Re-Saved\n"
          ]
        },
        {
          "output_type": "stream",
          "name": "stderr",
          "text": [
            "100%|██████████| 665/665 [00:11<00:00, 58.54it/s]\n",
            "100%|██████████| 118/118 [00:01<00:00, 80.40it/s]\n"
          ]
        },
        {
          "output_type": "stream",
          "name": "stdout",
          "text": [
            "EPOCH -  28 . Train Accuracy =  0.6066117882728577 , Validation Accuracy =  0.5470666885375977\n"
          ]
        },
        {
          "output_type": "stream",
          "name": "stderr",
          "text": [
            "100%|██████████| 665/665 [00:11<00:00, 57.54it/s]\n",
            "100%|██████████| 118/118 [00:01<00:00, 88.23it/s]\n"
          ]
        },
        {
          "output_type": "stream",
          "name": "stdout",
          "text": [
            "EPOCH -  29 . Train Accuracy =  0.6121882200241089 , Validation Accuracy =  0.5554666519165039\n",
            "Model Re-Saved\n"
          ]
        },
        {
          "output_type": "stream",
          "name": "stderr",
          "text": [
            "100%|██████████| 665/665 [00:11<00:00, 60.26it/s]\n",
            "100%|██████████| 118/118 [00:01<00:00, 87.46it/s]\n"
          ]
        },
        {
          "output_type": "stream",
          "name": "stdout",
          "text": [
            "EPOCH -  30 . Train Accuracy =  0.6159764528274536 , Validation Accuracy =  0.5565333366394043\n",
            "Model Re-Saved\n"
          ]
        },
        {
          "output_type": "stream",
          "name": "stderr",
          "text": [
            "100%|██████████| 665/665 [00:10<00:00, 60.88it/s]\n",
            "100%|██████████| 118/118 [00:01<00:00, 86.47it/s]\n"
          ]
        },
        {
          "output_type": "stream",
          "name": "stdout",
          "text": [
            "EPOCH -  31 . Train Accuracy =  0.6222588419914246 , Validation Accuracy =  0.545199990272522\n"
          ]
        },
        {
          "output_type": "stream",
          "name": "stderr",
          "text": [
            "100%|██████████| 665/665 [00:11<00:00, 60.42it/s]\n",
            "100%|██████████| 118/118 [00:01<00:00, 86.61it/s]\n"
          ]
        },
        {
          "output_type": "stream",
          "name": "stdout",
          "text": [
            "EPOCH -  32 . Train Accuracy =  0.6276470422744751 , Validation Accuracy =  0.5569333434104919\n",
            "Model Re-Saved\n"
          ]
        },
        {
          "output_type": "stream",
          "name": "stderr",
          "text": [
            "100%|██████████| 665/665 [00:10<00:00, 60.75it/s]\n",
            "100%|██████████| 118/118 [00:01<00:00, 87.96it/s]\n"
          ]
        },
        {
          "output_type": "stream",
          "name": "stdout",
          "text": [
            "EPOCH -  33 . Train Accuracy =  0.6330353021621704 , Validation Accuracy =  0.5652000308036804\n",
            "Model Re-Saved\n"
          ]
        },
        {
          "output_type": "stream",
          "name": "stderr",
          "text": [
            "100%|██████████| 665/665 [00:11<00:00, 57.38it/s]\n",
            "100%|██████████| 118/118 [00:01<00:00, 79.40it/s]\n"
          ]
        },
        {
          "output_type": "stream",
          "name": "stdout",
          "text": [
            "EPOCH -  34 . Train Accuracy =  0.6398823857307434 , Validation Accuracy =  0.5684000253677368\n",
            "Model Re-Saved\n"
          ]
        },
        {
          "output_type": "stream",
          "name": "stderr",
          "text": [
            "100%|██████████| 665/665 [00:10<00:00, 60.64it/s]\n",
            "100%|██████████| 118/118 [00:01<00:00, 88.08it/s]\n"
          ]
        },
        {
          "output_type": "stream",
          "name": "stdout",
          "text": [
            "EPOCH -  35 . Train Accuracy =  0.6444470882415771 , Validation Accuracy =  0.5623999834060669\n"
          ]
        },
        {
          "output_type": "stream",
          "name": "stderr",
          "text": [
            "100%|██████████| 665/665 [00:11<00:00, 60.28it/s]\n",
            "100%|██████████| 118/118 [00:01<00:00, 86.21it/s]\n"
          ]
        },
        {
          "output_type": "stream",
          "name": "stdout",
          "text": [
            "EPOCH -  36 . Train Accuracy =  0.6503294110298157 , Validation Accuracy =  0.5612000226974487\n"
          ]
        },
        {
          "output_type": "stream",
          "name": "stderr",
          "text": [
            "100%|██████████| 665/665 [00:11<00:00, 60.45it/s]\n",
            "100%|██████████| 118/118 [00:01<00:00, 89.99it/s]\n"
          ]
        },
        {
          "output_type": "stream",
          "name": "stdout",
          "text": [
            "EPOCH -  37 . Train Accuracy =  0.6586117744445801 , Validation Accuracy =  0.5666666626930237\n"
          ]
        },
        {
          "output_type": "stream",
          "name": "stderr",
          "text": [
            "100%|██████████| 665/665 [00:10<00:00, 60.70it/s]\n",
            "100%|██████████| 118/118 [00:01<00:00, 89.20it/s]\n"
          ]
        },
        {
          "output_type": "stream",
          "name": "stdout",
          "text": [
            "EPOCH -  38 . Train Accuracy =  0.6614823341369629 , Validation Accuracy =  0.572533369064331\n",
            "Model Re-Saved\n"
          ]
        },
        {
          "output_type": "stream",
          "name": "stderr",
          "text": [
            "100%|██████████| 665/665 [00:10<00:00, 60.53it/s]\n",
            "100%|██████████| 118/118 [00:01<00:00, 87.20it/s]\n"
          ]
        },
        {
          "output_type": "stream",
          "name": "stdout",
          "text": [
            "EPOCH -  39 . Train Accuracy =  0.6669882535934448 , Validation Accuracy =  0.5618667006492615\n"
          ]
        },
        {
          "output_type": "stream",
          "name": "stderr",
          "text": [
            "100%|██████████| 665/665 [00:10<00:00, 60.78it/s]\n",
            "100%|██████████| 118/118 [00:01<00:00, 83.34it/s]\n"
          ]
        },
        {
          "output_type": "stream",
          "name": "stdout",
          "text": [
            "EPOCH -  40 . Train Accuracy =  0.670941174030304 , Validation Accuracy =  0.5730666518211365\n",
            "Model Re-Saved\n"
          ]
        },
        {
          "output_type": "stream",
          "name": "stderr",
          "text": [
            "100%|██████████| 665/665 [00:10<00:00, 60.72it/s]\n",
            "100%|██████████| 118/118 [00:01<00:00, 87.82it/s]\n"
          ]
        },
        {
          "output_type": "stream",
          "name": "stdout",
          "text": [
            "EPOCH -  41 . Train Accuracy =  0.6783294081687927 , Validation Accuracy =  0.5702666640281677\n"
          ]
        },
        {
          "output_type": "stream",
          "name": "stderr",
          "text": [
            "100%|██████████| 665/665 [00:10<00:00, 60.58it/s]\n",
            "100%|██████████| 118/118 [00:01<00:00, 88.24it/s]\n"
          ]
        },
        {
          "output_type": "stream",
          "name": "stdout",
          "text": [
            "EPOCH -  42 . Train Accuracy =  0.6847764849662781 , Validation Accuracy =  0.5724000334739685\n"
          ]
        },
        {
          "output_type": "stream",
          "name": "stderr",
          "text": [
            "100%|██████████| 665/665 [00:10<00:00, 60.62it/s]\n",
            "100%|██████████| 118/118 [00:01<00:00, 89.19it/s]\n"
          ]
        },
        {
          "output_type": "stream",
          "name": "stdout",
          "text": [
            "EPOCH -  43 . Train Accuracy =  0.6912470459938049 , Validation Accuracy =  0.5702666640281677\n"
          ]
        },
        {
          "output_type": "stream",
          "name": "stderr",
          "text": [
            "100%|██████████| 665/665 [00:11<00:00, 60.37it/s]\n",
            "100%|██████████| 118/118 [00:01<00:00, 89.69it/s]\n"
          ]
        },
        {
          "output_type": "stream",
          "name": "stdout",
          "text": [
            "EPOCH -  44 . Train Accuracy =  0.692799985408783 , Validation Accuracy =  0.5754666924476624\n",
            "Model Re-Saved\n"
          ]
        },
        {
          "output_type": "stream",
          "name": "stderr",
          "text": [
            "100%|██████████| 665/665 [00:10<00:00, 60.63it/s]\n",
            "100%|██████████| 118/118 [00:01<00:00, 87.14it/s]\n"
          ]
        },
        {
          "output_type": "stream",
          "name": "stdout",
          "text": [
            "EPOCH -  45 . Train Accuracy =  0.7013411521911621 , Validation Accuracy =  0.5754666924476624\n"
          ]
        },
        {
          "output_type": "stream",
          "name": "stderr",
          "text": [
            "100%|██████████| 665/665 [00:10<00:00, 60.67it/s]\n",
            "100%|██████████| 118/118 [00:01<00:00, 82.22it/s]\n"
          ]
        },
        {
          "output_type": "stream",
          "name": "stdout",
          "text": [
            "EPOCH -  46 . Train Accuracy =  0.703811764717102 , Validation Accuracy =  0.566266655921936\n"
          ]
        },
        {
          "output_type": "stream",
          "name": "stderr",
          "text": [
            "100%|██████████| 665/665 [00:10<00:00, 60.55it/s]\n",
            "100%|██████████| 118/118 [00:01<00:00, 87.78it/s]\n"
          ]
        },
        {
          "output_type": "stream",
          "name": "stdout",
          "text": [
            "EPOCH -  47 . Train Accuracy =  0.7112235426902771 , Validation Accuracy =  0.565333366394043\n"
          ]
        },
        {
          "output_type": "stream",
          "name": "stderr",
          "text": [
            "100%|██████████| 665/665 [00:10<00:00, 60.74it/s]\n",
            "100%|██████████| 118/118 [00:01<00:00, 86.82it/s]\n"
          ]
        },
        {
          "output_type": "stream",
          "name": "stdout",
          "text": [
            "EPOCH -  48 . Train Accuracy =  0.7159529328346252 , Validation Accuracy =  0.5699999928474426\n"
          ]
        },
        {
          "output_type": "stream",
          "name": "stderr",
          "text": [
            "100%|██████████| 665/665 [00:10<00:00, 60.68it/s]\n",
            "100%|██████████| 118/118 [00:01<00:00, 88.49it/s]\n"
          ]
        },
        {
          "output_type": "stream",
          "name": "stdout",
          "text": [
            "EPOCH -  49 . Train Accuracy =  0.717694103717804 , Validation Accuracy =  0.5749333500862122\n"
          ]
        },
        {
          "output_type": "stream",
          "name": "stderr",
          "text": [
            "100%|██████████| 665/665 [00:10<00:00, 60.68it/s]\n",
            "100%|██████████| 118/118 [00:01<00:00, 88.10it/s]\n"
          ]
        },
        {
          "output_type": "stream",
          "name": "stdout",
          "text": [
            "EPOCH -  50 . Train Accuracy =  0.726164698600769 , Validation Accuracy =  0.5760000348091125\n",
            "Model Re-Saved\n"
          ]
        },
        {
          "output_type": "stream",
          "name": "stderr",
          "text": [
            "100%|██████████| 665/665 [00:11<00:00, 60.45it/s]\n",
            "100%|██████████| 118/118 [00:01<00:00, 88.53it/s]\n"
          ]
        },
        {
          "output_type": "stream",
          "name": "stdout",
          "text": [
            "EPOCH -  51 . Train Accuracy =  0.7311058640480042 , Validation Accuracy =  0.5713333487510681\n"
          ]
        },
        {
          "output_type": "stream",
          "name": "stderr",
          "text": [
            "100%|██████████| 665/665 [00:11<00:00, 57.72it/s]\n",
            "100%|██████████| 118/118 [00:01<00:00, 87.86it/s]\n"
          ]
        },
        {
          "output_type": "stream",
          "name": "stdout",
          "text": [
            "EPOCH -  52 . Train Accuracy =  0.7347294092178345 , Validation Accuracy =  0.5745333433151245\n"
          ]
        },
        {
          "output_type": "stream",
          "name": "stderr",
          "text": [
            "100%|██████████| 665/665 [00:11<00:00, 60.31it/s]\n",
            "100%|██████████| 118/118 [00:01<00:00, 88.06it/s]\n"
          ]
        },
        {
          "output_type": "stream",
          "name": "stdout",
          "text": [
            "EPOCH -  53 . Train Accuracy =  0.7383058667182922 , Validation Accuracy =  0.5752000212669373\n"
          ]
        },
        {
          "output_type": "stream",
          "name": "stderr",
          "text": [
            "100%|██████████| 665/665 [00:10<00:00, 60.92it/s]\n",
            "100%|██████████| 118/118 [00:01<00:00, 87.37it/s]\n"
          ]
        },
        {
          "output_type": "stream",
          "name": "stdout",
          "text": [
            "EPOCH -  54 . Train Accuracy =  0.7396705746650696 , Validation Accuracy =  0.5657333135604858\n"
          ]
        },
        {
          "output_type": "stream",
          "name": "stderr",
          "text": [
            "100%|██████████| 665/665 [00:10<00:00, 60.72it/s]\n",
            "100%|██████████| 118/118 [00:01<00:00, 88.38it/s]\n"
          ]
        },
        {
          "output_type": "stream",
          "name": "stdout",
          "text": [
            "EPOCH -  55 . Train Accuracy =  0.7473176717758179 , Validation Accuracy =  0.5684000253677368\n"
          ]
        },
        {
          "output_type": "stream",
          "name": "stderr",
          "text": [
            "100%|██████████| 665/665 [00:10<00:00, 60.87it/s]\n",
            "100%|██████████| 118/118 [00:01<00:00, 89.66it/s]\n"
          ]
        },
        {
          "output_type": "stream",
          "name": "stdout",
          "text": [
            "EPOCH -  56 . Train Accuracy =  0.7486823797225952 , Validation Accuracy =  0.5735999941825867\n"
          ]
        },
        {
          "output_type": "stream",
          "name": "stderr",
          "text": [
            "100%|██████████| 665/665 [00:10<00:00, 60.65it/s]\n",
            "100%|██████████| 118/118 [00:01<00:00, 90.34it/s]\n"
          ]
        },
        {
          "output_type": "stream",
          "name": "stdout",
          "text": [
            "EPOCH -  57 . Train Accuracy =  0.7550352811813354 , Validation Accuracy =  0.5749333500862122\n"
          ]
        },
        {
          "output_type": "stream",
          "name": "stderr",
          "text": [
            "100%|██████████| 665/665 [00:11<00:00, 59.94it/s]\n",
            "100%|██████████| 118/118 [00:01<00:00, 81.83it/s]\n"
          ]
        },
        {
          "output_type": "stream",
          "name": "stdout",
          "text": [
            "EPOCH -  58 . Train Accuracy =  0.755294144153595 , Validation Accuracy =  0.5705333352088928\n"
          ]
        },
        {
          "output_type": "stream",
          "name": "stderr",
          "text": [
            "100%|██████████| 665/665 [00:10<00:00, 60.46it/s]\n",
            "100%|██████████| 118/118 [00:01<00:00, 79.69it/s]\n"
          ]
        },
        {
          "output_type": "stream",
          "name": "stdout",
          "text": [
            "EPOCH -  59 . Train Accuracy =  0.7582117915153503 , Validation Accuracy =  0.5673333406448364\n"
          ]
        },
        {
          "output_type": "stream",
          "name": "stderr",
          "text": [
            "100%|██████████| 665/665 [00:10<00:00, 61.17it/s]\n",
            "100%|██████████| 118/118 [00:01<00:00, 74.47it/s]\n"
          ]
        },
        {
          "output_type": "stream",
          "name": "stdout",
          "text": [
            "EPOCH -  60 . Train Accuracy =  0.7620470523834229 , Validation Accuracy =  0.5682666897773743\n"
          ]
        },
        {
          "output_type": "stream",
          "name": "stderr",
          "text": [
            "100%|██████████| 665/665 [00:10<00:00, 61.60it/s]\n",
            "100%|██████████| 118/118 [00:01<00:00, 68.14it/s]\n"
          ]
        },
        {
          "output_type": "stream",
          "name": "stdout",
          "text": [
            "EPOCH -  61 . Train Accuracy =  0.7657411694526672 , Validation Accuracy =  0.5648000240325928\n"
          ]
        },
        {
          "output_type": "stream",
          "name": "stderr",
          "text": [
            "100%|██████████| 665/665 [00:10<00:00, 61.75it/s]\n",
            "100%|██████████| 118/118 [00:01<00:00, 65.57it/s]\n"
          ]
        },
        {
          "output_type": "stream",
          "name": "stdout",
          "text": [
            "EPOCH -  62 . Train Accuracy =  0.7640235424041748 , Validation Accuracy =  0.5738666653633118\n"
          ]
        },
        {
          "output_type": "stream",
          "name": "stderr",
          "text": [
            "100%|██████████| 665/665 [00:10<00:00, 62.25it/s]\n",
            "100%|██████████| 118/118 [00:01<00:00, 64.55it/s]\n"
          ]
        },
        {
          "output_type": "stream",
          "name": "stdout",
          "text": [
            "EPOCH -  63 . Train Accuracy =  0.7699999809265137 , Validation Accuracy =  0.5786666870117188\n",
            "Model Re-Saved\n"
          ]
        },
        {
          "output_type": "stream",
          "name": "stderr",
          "text": [
            "100%|██████████| 665/665 [00:10<00:00, 62.50it/s]\n",
            "100%|██████████| 118/118 [00:01<00:00, 60.68it/s]\n"
          ]
        },
        {
          "output_type": "stream",
          "name": "stdout",
          "text": [
            "EPOCH -  64 . Train Accuracy =  0.7683764696121216 , Validation Accuracy =  0.5589333176612854\n"
          ]
        },
        {
          "output_type": "stream",
          "name": "stderr",
          "text": [
            "100%|██████████| 665/665 [00:10<00:00, 61.73it/s]\n",
            "100%|██████████| 118/118 [00:01<00:00, 63.66it/s]\n"
          ]
        },
        {
          "output_type": "stream",
          "name": "stdout",
          "text": [
            "EPOCH -  65 . Train Accuracy =  0.7717646956443787 , Validation Accuracy =  0.5752000212669373\n"
          ]
        },
        {
          "output_type": "stream",
          "name": "stderr",
          "text": [
            "100%|██████████| 665/665 [00:10<00:00, 62.07it/s]\n",
            "100%|██████████| 118/118 [00:01<00:00, 68.15it/s]\n"
          ]
        },
        {
          "output_type": "stream",
          "name": "stdout",
          "text": [
            "EPOCH -  66 . Train Accuracy =  0.7745411992073059 , Validation Accuracy =  0.5693333148956299\n"
          ]
        },
        {
          "output_type": "stream",
          "name": "stderr",
          "text": [
            "100%|██████████| 665/665 [00:10<00:00, 61.65it/s]\n",
            "100%|██████████| 118/118 [00:01<00:00, 69.36it/s]\n"
          ]
        },
        {
          "output_type": "stream",
          "name": "stdout",
          "text": [
            "EPOCH -  67 . Train Accuracy =  0.7756235599517822 , Validation Accuracy =  0.5648000240325928\n"
          ]
        },
        {
          "output_type": "stream",
          "name": "stderr",
          "text": [
            "100%|██████████| 665/665 [00:10<00:00, 61.52it/s]\n",
            "100%|██████████| 118/118 [00:01<00:00, 73.98it/s]\n"
          ]
        },
        {
          "output_type": "stream",
          "name": "stdout",
          "text": [
            "EPOCH -  68 . Train Accuracy =  0.7682353258132935 , Validation Accuracy =  0.5691999793052673\n"
          ]
        },
        {
          "output_type": "stream",
          "name": "stderr",
          "text": [
            "100%|██████████| 665/665 [00:10<00:00, 60.56it/s]\n",
            "100%|██████████| 118/118 [00:01<00:00, 59.34it/s]\n"
          ]
        },
        {
          "output_type": "stream",
          "name": "stdout",
          "text": [
            "EPOCH -  69 . Train Accuracy =  0.777929425239563 , Validation Accuracy =  0.5678666830062866\n"
          ]
        },
        {
          "output_type": "stream",
          "name": "stderr",
          "text": [
            "100%|██████████| 665/665 [00:10<00:00, 60.76it/s]\n",
            "100%|██████████| 118/118 [00:01<00:00, 68.84it/s]\n"
          ]
        },
        {
          "output_type": "stream",
          "name": "stdout",
          "text": [
            "EPOCH -  70 . Train Accuracy =  0.7763529419898987 , Validation Accuracy =  0.5762666463851929\n"
          ]
        },
        {
          "output_type": "stream",
          "name": "stderr",
          "text": [
            "100%|██████████| 665/665 [00:10<00:00, 60.83it/s]\n",
            "100%|██████████| 118/118 [00:01<00:00, 78.71it/s]\n"
          ]
        },
        {
          "output_type": "stream",
          "name": "stdout",
          "text": [
            "EPOCH -  71 . Train Accuracy =  0.7795764803886414 , Validation Accuracy =  0.5716000199317932\n"
          ]
        },
        {
          "output_type": "stream",
          "name": "stderr",
          "text": [
            "100%|██████████| 665/665 [00:10<00:00, 61.08it/s]\n",
            "100%|██████████| 118/118 [00:01<00:00, 85.00it/s]\n"
          ]
        },
        {
          "output_type": "stream",
          "name": "stdout",
          "text": [
            "EPOCH -  72 . Train Accuracy =  0.779482364654541 , Validation Accuracy =  0.5706666707992554\n"
          ]
        },
        {
          "output_type": "stream",
          "name": "stderr",
          "text": [
            "100%|██████████| 665/665 [00:10<00:00, 60.84it/s]\n",
            "100%|██████████| 118/118 [00:01<00:00, 85.87it/s]\n"
          ]
        },
        {
          "output_type": "stream",
          "name": "stdout",
          "text": [
            "EPOCH -  73 . Train Accuracy =  0.7745882272720337 , Validation Accuracy =  0.5648000240325928\n"
          ]
        },
        {
          "output_type": "stream",
          "name": "stderr",
          "text": [
            "100%|██████████| 665/665 [00:10<00:00, 60.89it/s]\n",
            "100%|██████████| 118/118 [00:01<00:00, 88.48it/s]\n"
          ]
        },
        {
          "output_type": "stream",
          "name": "stdout",
          "text": [
            "EPOCH -  74 . Train Accuracy =  0.779976487159729 , Validation Accuracy =  0.5742666721343994\n"
          ]
        },
        {
          "output_type": "stream",
          "name": "stderr",
          "text": [
            "100%|██████████| 665/665 [00:10<00:00, 61.07it/s]\n",
            "100%|██████████| 118/118 [00:01<00:00, 87.87it/s]\n"
          ]
        },
        {
          "output_type": "stream",
          "name": "stdout",
          "text": [
            "EPOCH -  75 . Train Accuracy =  0.7781176567077637 , Validation Accuracy =  0.569599986076355\n"
          ]
        },
        {
          "output_type": "stream",
          "name": "stderr",
          "text": [
            "100%|██████████| 665/665 [00:10<00:00, 60.59it/s]\n",
            "100%|██████████| 118/118 [00:01<00:00, 89.01it/s]\n"
          ]
        },
        {
          "output_type": "stream",
          "name": "stdout",
          "text": [
            "EPOCH -  76 . Train Accuracy =  0.781741201877594 , Validation Accuracy =  0.568933367729187\n"
          ]
        },
        {
          "output_type": "stream",
          "name": "stderr",
          "text": [
            "100%|██████████| 665/665 [00:11<00:00, 60.45it/s]\n",
            "100%|██████████| 118/118 [00:01<00:00, 87.23it/s]\n"
          ]
        },
        {
          "output_type": "stream",
          "name": "stdout",
          "text": [
            "EPOCH -  77 . Train Accuracy =  0.782023549079895 , Validation Accuracy =  0.5721333622932434\n"
          ]
        },
        {
          "output_type": "stream",
          "name": "stderr",
          "text": [
            "100%|██████████| 665/665 [00:10<00:00, 60.65it/s]\n",
            "100%|██████████| 118/118 [00:01<00:00, 87.37it/s]\n"
          ]
        },
        {
          "output_type": "stream",
          "name": "stdout",
          "text": [
            "EPOCH -  78 . Train Accuracy =  0.7765882611274719 , Validation Accuracy =  0.5766666531562805\n"
          ]
        },
        {
          "output_type": "stream",
          "name": "stderr",
          "text": [
            "100%|██████████| 665/665 [00:10<00:00, 61.08it/s]\n",
            "100%|██████████| 118/118 [00:01<00:00, 88.40it/s]\n"
          ]
        },
        {
          "output_type": "stream",
          "name": "stdout",
          "text": [
            "EPOCH -  79 . Train Accuracy =  0.7832235097885132 , Validation Accuracy =  0.5698666572570801\n"
          ]
        },
        {
          "output_type": "stream",
          "name": "stderr",
          "text": [
            "100%|██████████| 665/665 [00:10<00:00, 61.01it/s]\n",
            "100%|██████████| 118/118 [00:01<00:00, 89.26it/s]\n"
          ]
        },
        {
          "output_type": "stream",
          "name": "stdout",
          "text": [
            "EPOCH -  80 . Train Accuracy =  0.7781646847724915 , Validation Accuracy =  0.5805333256721497\n",
            "Model Re-Saved\n"
          ]
        },
        {
          "output_type": "stream",
          "name": "stderr",
          "text": [
            "100%|██████████| 665/665 [00:10<00:00, 60.72it/s]\n",
            "100%|██████████| 118/118 [00:01<00:00, 87.51it/s]\n"
          ]
        },
        {
          "output_type": "stream",
          "name": "stdout",
          "text": [
            "EPOCH -  81 . Train Accuracy =  0.7864000201225281 , Validation Accuracy =  0.5698666572570801\n"
          ]
        },
        {
          "output_type": "stream",
          "name": "stderr",
          "text": [
            "100%|██████████| 665/665 [00:10<00:00, 61.33it/s]\n",
            "100%|██████████| 118/118 [00:01<00:00, 86.45it/s]\n"
          ]
        },
        {
          "output_type": "stream",
          "name": "stdout",
          "text": [
            "EPOCH -  82 . Train Accuracy =  0.7808235287666321 , Validation Accuracy =  0.572266697883606\n"
          ]
        },
        {
          "output_type": "stream",
          "name": "stderr",
          "text": [
            "100%|██████████| 665/665 [00:10<00:00, 60.72it/s]\n",
            "100%|██████████| 118/118 [00:01<00:00, 89.50it/s]\n"
          ]
        },
        {
          "output_type": "stream",
          "name": "stdout",
          "text": [
            "EPOCH -  83 . Train Accuracy =  0.7802352905273438 , Validation Accuracy =  0.5705333352088928\n"
          ]
        },
        {
          "output_type": "stream",
          "name": "stderr",
          "text": [
            "100%|██████████| 665/665 [00:10<00:00, 60.86it/s]\n",
            "100%|██████████| 118/118 [00:01<00:00, 88.08it/s]\n"
          ]
        },
        {
          "output_type": "stream",
          "name": "stdout",
          "text": [
            "EPOCH -  84 . Train Accuracy =  0.7841176390647888 , Validation Accuracy =  0.5760000348091125\n"
          ]
        },
        {
          "output_type": "stream",
          "name": "stderr",
          "text": [
            "100%|██████████| 665/665 [00:10<00:00, 60.83it/s]\n",
            "100%|██████████| 118/118 [00:01<00:00, 89.51it/s]\n"
          ]
        },
        {
          "output_type": "stream",
          "name": "stdout",
          "text": [
            "EPOCH -  85 . Train Accuracy =  0.7830823659896851 , Validation Accuracy =  0.5756000280380249\n"
          ]
        },
        {
          "output_type": "stream",
          "name": "stderr",
          "text": [
            "100%|██████████| 665/665 [00:10<00:00, 60.81it/s]\n",
            "100%|██████████| 118/118 [00:01<00:00, 88.92it/s]\n"
          ]
        },
        {
          "output_type": "stream",
          "name": "stdout",
          "text": [
            "EPOCH -  86 . Train Accuracy =  0.7837411761283875 , Validation Accuracy =  0.5717333555221558\n"
          ]
        },
        {
          "output_type": "stream",
          "name": "stderr",
          "text": [
            "100%|██████████| 665/665 [00:11<00:00, 58.46it/s]\n",
            "100%|██████████| 118/118 [00:01<00:00, 88.35it/s]\n"
          ]
        },
        {
          "output_type": "stream",
          "name": "stdout",
          "text": [
            "EPOCH -  87 . Train Accuracy =  0.7819294333457947 , Validation Accuracy =  0.5756000280380249\n"
          ]
        },
        {
          "output_type": "stream",
          "name": "stderr",
          "text": [
            "100%|██████████| 665/665 [00:10<00:00, 60.90it/s]\n",
            "100%|██████████| 118/118 [00:01<00:00, 90.84it/s]\n"
          ]
        },
        {
          "output_type": "stream",
          "name": "stdout",
          "text": [
            "EPOCH -  88 . Train Accuracy =  0.7846588492393494 , Validation Accuracy =  0.5678666830062866\n"
          ]
        },
        {
          "output_type": "stream",
          "name": "stderr",
          "text": [
            "100%|██████████| 665/665 [00:10<00:00, 60.47it/s]\n",
            "100%|██████████| 118/118 [00:01<00:00, 90.20it/s]\n"
          ]
        },
        {
          "output_type": "stream",
          "name": "stdout",
          "text": [
            "EPOCH -  89 . Train Accuracy =  0.7836941480636597 , Validation Accuracy =  0.5709333419799805\n"
          ]
        },
        {
          "output_type": "stream",
          "name": "stderr",
          "text": [
            "100%|██████████| 665/665 [00:10<00:00, 60.91it/s]\n",
            "100%|██████████| 118/118 [00:01<00:00, 89.39it/s]\n"
          ]
        },
        {
          "output_type": "stream",
          "name": "stdout",
          "text": [
            "EPOCH -  90 . Train Accuracy =  0.7857412099838257 , Validation Accuracy =  0.5734666585922241\n"
          ]
        },
        {
          "output_type": "stream",
          "name": "stderr",
          "text": [
            "100%|██████████| 665/665 [00:10<00:00, 60.95it/s]\n",
            "100%|██████████| 118/118 [00:01<00:00, 87.97it/s]\n"
          ]
        },
        {
          "output_type": "stream",
          "name": "stdout",
          "text": [
            "EPOCH -  91 . Train Accuracy =  0.7847999930381775 , Validation Accuracy =  0.5627999901771545\n"
          ]
        },
        {
          "output_type": "stream",
          "name": "stderr",
          "text": [
            "100%|██████████| 665/665 [00:10<00:00, 60.53it/s]\n",
            "100%|██████████| 118/118 [00:01<00:00, 88.81it/s]\n"
          ]
        },
        {
          "output_type": "stream",
          "name": "stdout",
          "text": [
            "EPOCH -  92 . Train Accuracy =  0.7858117818832397 , Validation Accuracy =  0.5716000199317932\n"
          ]
        },
        {
          "output_type": "stream",
          "name": "stderr",
          "text": [
            "100%|██████████| 665/665 [00:10<00:00, 60.97it/s]\n",
            "100%|██████████| 118/118 [00:01<00:00, 88.46it/s]\n"
          ]
        },
        {
          "output_type": "stream",
          "name": "stdout",
          "text": [
            "EPOCH -  93 . Train Accuracy =  0.7836941480636597 , Validation Accuracy =  0.5803999900817871\n"
          ]
        },
        {
          "output_type": "stream",
          "name": "stderr",
          "text": [
            "100%|██████████| 665/665 [00:10<00:00, 61.02it/s]\n",
            "100%|██████████| 118/118 [00:01<00:00, 89.75it/s]\n"
          ]
        },
        {
          "output_type": "stream",
          "name": "stdout",
          "text": [
            "EPOCH -  94 . Train Accuracy =  0.7820941209793091 , Validation Accuracy =  0.5771999955177307\n"
          ]
        },
        {
          "output_type": "stream",
          "name": "stderr",
          "text": [
            "100%|██████████| 665/665 [00:10<00:00, 60.55it/s]\n",
            "100%|██████████| 118/118 [00:01<00:00, 85.73it/s]\n"
          ]
        },
        {
          "output_type": "stream",
          "name": "stdout",
          "text": [
            "EPOCH -  95 . Train Accuracy =  0.7888941168785095 , Validation Accuracy =  0.5727999806404114\n"
          ]
        },
        {
          "output_type": "stream",
          "name": "stderr",
          "text": [
            "100%|██████████| 665/665 [00:10<00:00, 61.16it/s]\n",
            "100%|██████████| 118/118 [00:01<00:00, 85.86it/s]\n"
          ]
        },
        {
          "output_type": "stream",
          "name": "stdout",
          "text": [
            "EPOCH -  96 . Train Accuracy =  0.7855058908462524 , Validation Accuracy =  0.5748000144958496\n"
          ]
        },
        {
          "output_type": "stream",
          "name": "stderr",
          "text": [
            "100%|██████████| 665/665 [00:10<00:00, 61.08it/s]\n",
            "100%|██████████| 118/118 [00:01<00:00, 87.12it/s]\n"
          ]
        },
        {
          "output_type": "stream",
          "name": "stdout",
          "text": [
            "EPOCH -  97 . Train Accuracy =  0.7822588086128235 , Validation Accuracy =  0.5802666544914246\n"
          ]
        },
        {
          "output_type": "stream",
          "name": "stderr",
          "text": [
            "100%|██████████| 665/665 [00:10<00:00, 60.83it/s]\n",
            "100%|██████████| 118/118 [00:01<00:00, 86.60it/s]\n"
          ]
        },
        {
          "output_type": "stream",
          "name": "stdout",
          "text": [
            "EPOCH -  98 . Train Accuracy =  0.7876470685005188 , Validation Accuracy =  0.5703999996185303\n"
          ]
        },
        {
          "output_type": "stream",
          "name": "stderr",
          "text": [
            "100%|██████████| 665/665 [00:10<00:00, 60.96it/s]\n",
            "100%|██████████| 118/118 [00:01<00:00, 87.17it/s]\n"
          ]
        },
        {
          "output_type": "stream",
          "name": "stdout",
          "text": [
            "EPOCH -  99 . Train Accuracy =  0.7879765033721924 , Validation Accuracy =  0.5762666463851929\n"
          ]
        },
        {
          "output_type": "stream",
          "name": "stderr",
          "text": [
            "100%|██████████| 665/665 [00:10<00:00, 60.93it/s]\n",
            "100%|██████████| 118/118 [00:01<00:00, 85.79it/s]\n"
          ]
        },
        {
          "output_type": "stream",
          "name": "stdout",
          "text": [
            "EPOCH -  100 . Train Accuracy =  0.7832000255584717 , Validation Accuracy =  0.579466700553894\n",
            "\n"
          ]
        },
        {
          "output_type": "stream",
          "name": "stderr",
          "text": [
            "100%|██████████| 665/665 [00:08<00:00, 82.16it/s]\n"
          ]
        },
        {
          "output_type": "stream",
          "name": "stdout",
          "text": [
            "Train Accuracy =  0.7877647280693054\n"
          ]
        },
        {
          "output_type": "stream",
          "name": "stderr",
          "text": [
            "100%|██████████| 157/157 [00:02<00:00, 77.74it/s]"
          ]
        },
        {
          "output_type": "stream",
          "name": "stdout",
          "text": [
            "Test Accuracy =  0.5697000026702881\n",
            "Generalization Gap =  0.21806472539901733\n"
          ]
        },
        {
          "output_type": "stream",
          "name": "stderr",
          "text": [
            "\n"
          ]
        }
      ]
    },
    {
      "cell_type": "code",
      "source": [],
      "metadata": {
        "id": "G8pxmyGtCkDa"
      },
      "execution_count": null,
      "outputs": []
    },
    {
      "cell_type": "code",
      "source": [
        "# -------------------------------------------- CIFAR-100 Dataset -----------------------------------------------------------\n",
        "Option = 6\n",
        "Train_DataLoader, Val_DataLoader, Test_DataLoader = CreateDataLoaders(Option, 64)\n",
        "ModelName = \"Model_AllConv_CIFAR100.pt\"\n",
        "\n",
        "model = AllConv(100).to(device)\n",
        "loss_criteria = nn.CrossEntropyLoss()\n",
        "AdamOpt = torch.optim.Adam(model.parameters(), lr=0.0001)\n",
        "\n",
        "ValAccuracy = 0\n",
        "\n",
        "saved = False\n",
        "if saved == True:\n",
        "    saved_model = torch.load(ModelName, map_location=torch.device('cpu')).to(device)\n",
        "else:\n",
        "    model.train()\n",
        "    Train_Accuracy = 0\n",
        "\n",
        "    for e in range(EPOCHS):\n",
        "        Train_Accuracy = TrainModel(model, loss_criteria, AdamOpt, device, Train_DataLoader)\n",
        "        val_acc = EvaluateModel(model, Val_DataLoader, device)\n",
        "\n",
        "        print(\"EPOCH - \", e+1, \". Train Accuracy = \", Train_Accuracy.cpu().item(), \", Validation Accuracy = \", val_acc.cpu().item())\n",
        "        \n",
        "        if val_acc.cpu().item() > ValAccuracy:\n",
        "            print(\"Model Re-Saved\")\n",
        "            ValAccuracy = val_acc.cpu().item()\n",
        "            torch.save(model, ModelName)\n",
        "\n",
        "    saved_model = torch.load(ModelName, map_location=torch.device('cpu')).to(device)\n",
        "\n",
        "\n",
        "print()\n",
        "\n",
        "Train_Accuracy = EvaluateModel(saved_model, Train_DataLoader, device)\n",
        "print(\"Train Accuracy = \", Train_Accuracy.cpu().item())\n",
        "Test_Accuracy = EvaluateModel(saved_model, Test_DataLoader, device)\n",
        "print(\"Test Accuracy = \", Test_Accuracy.cpu().item())\n",
        "\n",
        "print(\"Generalization Gap = \", (Train_Accuracy.cpu().item() - Test_Accuracy.cpu().item()))"
      ],
      "metadata": {
        "colab": {
          "base_uri": "https://localhost:8080/"
        },
        "id": "7xA16iAVCkZ6",
        "outputId": "0c37482c-50dc-429a-ee21-47efedd499bc"
      },
      "execution_count": null,
      "outputs": [
        {
          "output_type": "stream",
          "name": "stdout",
          "text": [
            "Files already downloaded and verified\n",
            "Files already downloaded and verified\n"
          ]
        },
        {
          "output_type": "stream",
          "name": "stderr",
          "text": [
            "100%|██████████| 665/665 [00:10<00:00, 61.67it/s]\n",
            "100%|██████████| 118/118 [00:01<00:00, 61.71it/s]\n"
          ]
        },
        {
          "output_type": "stream",
          "name": "stdout",
          "text": [
            "EPOCH -  1 . Train Accuracy =  0.02894117683172226 , Validation Accuracy =  0.04453333467245102\n",
            "Model Re-Saved\n"
          ]
        },
        {
          "output_type": "stream",
          "name": "stderr",
          "text": [
            "100%|██████████| 665/665 [00:10<00:00, 61.24it/s]\n",
            "100%|██████████| 118/118 [00:01<00:00, 64.25it/s]\n"
          ]
        },
        {
          "output_type": "stream",
          "name": "stdout",
          "text": [
            "EPOCH -  2 . Train Accuracy =  0.05625882372260094 , Validation Accuracy =  0.06706666946411133\n",
            "Model Re-Saved\n"
          ]
        },
        {
          "output_type": "stream",
          "name": "stderr",
          "text": [
            "100%|██████████| 665/665 [00:10<00:00, 61.94it/s]\n",
            "100%|██████████| 118/118 [00:01<00:00, 68.97it/s]\n"
          ]
        },
        {
          "output_type": "stream",
          "name": "stdout",
          "text": [
            "EPOCH -  3 . Train Accuracy =  0.08214117586612701 , Validation Accuracy =  0.085466668009758\n",
            "Model Re-Saved\n"
          ]
        },
        {
          "output_type": "stream",
          "name": "stderr",
          "text": [
            "100%|██████████| 665/665 [00:10<00:00, 61.72it/s]\n",
            "100%|██████████| 118/118 [00:01<00:00, 72.98it/s]\n"
          ]
        },
        {
          "output_type": "stream",
          "name": "stdout",
          "text": [
            "EPOCH -  4 . Train Accuracy =  0.09981176257133484 , Validation Accuracy =  0.09386666864156723\n",
            "Model Re-Saved\n"
          ]
        },
        {
          "output_type": "stream",
          "name": "stderr",
          "text": [
            "100%|██████████| 665/665 [00:11<00:00, 59.34it/s]\n",
            "100%|██████████| 118/118 [00:01<00:00, 82.48it/s]\n"
          ]
        },
        {
          "output_type": "stream",
          "name": "stdout",
          "text": [
            "EPOCH -  5 . Train Accuracy =  0.11494117975234985 , Validation Accuracy =  0.1085333377122879\n",
            "Model Re-Saved\n"
          ]
        },
        {
          "output_type": "stream",
          "name": "stderr",
          "text": [
            "100%|██████████| 665/665 [00:10<00:00, 61.41it/s]\n",
            "100%|██████████| 118/118 [00:01<00:00, 80.62it/s]\n"
          ]
        },
        {
          "output_type": "stream",
          "name": "stdout",
          "text": [
            "EPOCH -  6 . Train Accuracy =  0.12752941250801086 , Validation Accuracy =  0.11026667058467865\n",
            "Model Re-Saved\n"
          ]
        },
        {
          "output_type": "stream",
          "name": "stderr",
          "text": [
            "100%|██████████| 665/665 [00:10<00:00, 61.27it/s]\n",
            "100%|██████████| 118/118 [00:01<00:00, 86.26it/s]\n"
          ]
        },
        {
          "output_type": "stream",
          "name": "stdout",
          "text": [
            "EPOCH -  7 . Train Accuracy =  0.13887058198451996 , Validation Accuracy =  0.11986666917800903\n",
            "Model Re-Saved\n"
          ]
        },
        {
          "output_type": "stream",
          "name": "stderr",
          "text": [
            "100%|██████████| 665/665 [00:10<00:00, 60.65it/s]\n",
            "100%|██████████| 118/118 [00:01<00:00, 87.75it/s]\n"
          ]
        },
        {
          "output_type": "stream",
          "name": "stdout",
          "text": [
            "EPOCH -  8 . Train Accuracy =  0.14698824286460876 , Validation Accuracy =  0.12053333222866058\n",
            "Model Re-Saved\n"
          ]
        },
        {
          "output_type": "stream",
          "name": "stderr",
          "text": [
            "100%|██████████| 665/665 [00:10<00:00, 60.73it/s]\n",
            "100%|██████████| 118/118 [00:01<00:00, 86.60it/s]\n"
          ]
        },
        {
          "output_type": "stream",
          "name": "stdout",
          "text": [
            "EPOCH -  9 . Train Accuracy =  0.15576471388339996 , Validation Accuracy =  0.12906666100025177\n",
            "Model Re-Saved\n"
          ]
        },
        {
          "output_type": "stream",
          "name": "stderr",
          "text": [
            "100%|██████████| 665/665 [00:10<00:00, 60.65it/s]\n",
            "100%|██████████| 118/118 [00:01<00:00, 88.25it/s]\n"
          ]
        },
        {
          "output_type": "stream",
          "name": "stdout",
          "text": [
            "EPOCH -  10 . Train Accuracy =  0.16247059404850006 , Validation Accuracy =  0.1342666745185852\n",
            "Model Re-Saved\n"
          ]
        },
        {
          "output_type": "stream",
          "name": "stderr",
          "text": [
            "100%|██████████| 665/665 [00:10<00:00, 60.66it/s]\n",
            "100%|██████████| 118/118 [00:01<00:00, 88.26it/s]\n"
          ]
        },
        {
          "output_type": "stream",
          "name": "stdout",
          "text": [
            "EPOCH -  11 . Train Accuracy =  0.17192941904067993 , Validation Accuracy =  0.1412000060081482\n",
            "Model Re-Saved\n"
          ]
        },
        {
          "output_type": "stream",
          "name": "stderr",
          "text": [
            "100%|██████████| 665/665 [00:10<00:00, 60.86it/s]\n",
            "100%|██████████| 118/118 [00:01<00:00, 82.17it/s]\n"
          ]
        },
        {
          "output_type": "stream",
          "name": "stdout",
          "text": [
            "EPOCH -  12 . Train Accuracy =  0.18016470968723297 , Validation Accuracy =  0.14293333888053894\n",
            "Model Re-Saved\n"
          ]
        },
        {
          "output_type": "stream",
          "name": "stderr",
          "text": [
            "100%|██████████| 665/665 [00:10<00:00, 60.97it/s]\n",
            "100%|██████████| 118/118 [00:01<00:00, 88.73it/s]\n"
          ]
        },
        {
          "output_type": "stream",
          "name": "stdout",
          "text": [
            "EPOCH -  13 . Train Accuracy =  0.18590588867664337 , Validation Accuracy =  0.14959999918937683\n",
            "Model Re-Saved\n"
          ]
        },
        {
          "output_type": "stream",
          "name": "stderr",
          "text": [
            "100%|██████████| 665/665 [00:10<00:00, 60.83it/s]\n",
            "100%|██████████| 118/118 [00:01<00:00, 86.78it/s]\n"
          ]
        },
        {
          "output_type": "stream",
          "name": "stdout",
          "text": [
            "EPOCH -  14 . Train Accuracy =  0.19324706494808197 , Validation Accuracy =  0.14746667444705963\n"
          ]
        },
        {
          "output_type": "stream",
          "name": "stderr",
          "text": [
            "100%|██████████| 665/665 [00:10<00:00, 60.55it/s]\n",
            "100%|██████████| 118/118 [00:01<00:00, 85.85it/s]\n"
          ]
        },
        {
          "output_type": "stream",
          "name": "stdout",
          "text": [
            "EPOCH -  15 . Train Accuracy =  0.20124706625938416 , Validation Accuracy =  0.15479999780654907\n",
            "Model Re-Saved\n"
          ]
        },
        {
          "output_type": "stream",
          "name": "stderr",
          "text": [
            "100%|██████████| 665/665 [00:10<00:00, 60.67it/s]\n",
            "100%|██████████| 118/118 [00:01<00:00, 88.58it/s]\n"
          ]
        },
        {
          "output_type": "stream",
          "name": "stdout",
          "text": [
            "EPOCH -  16 . Train Accuracy =  0.20847058296203613 , Validation Accuracy =  0.15600000321865082\n",
            "Model Re-Saved\n"
          ]
        },
        {
          "output_type": "stream",
          "name": "stderr",
          "text": [
            "100%|██████████| 665/665 [00:10<00:00, 60.74it/s]\n",
            "100%|██████████| 118/118 [00:01<00:00, 87.68it/s]\n"
          ]
        },
        {
          "output_type": "stream",
          "name": "stdout",
          "text": [
            "EPOCH -  17 . Train Accuracy =  0.21510587632656097 , Validation Accuracy =  0.1624000072479248\n",
            "Model Re-Saved\n"
          ]
        },
        {
          "output_type": "stream",
          "name": "stderr",
          "text": [
            "100%|██████████| 665/665 [00:10<00:00, 60.86it/s]\n",
            "100%|██████████| 118/118 [00:01<00:00, 87.65it/s]\n"
          ]
        },
        {
          "output_type": "stream",
          "name": "stdout",
          "text": [
            "EPOCH -  18 . Train Accuracy =  0.223058819770813 , Validation Accuracy =  0.1605333387851715\n"
          ]
        },
        {
          "output_type": "stream",
          "name": "stderr",
          "text": [
            "100%|██████████| 665/665 [00:11<00:00, 60.40it/s]\n",
            "100%|██████████| 118/118 [00:01<00:00, 89.20it/s]\n"
          ]
        },
        {
          "output_type": "stream",
          "name": "stdout",
          "text": [
            "EPOCH -  19 . Train Accuracy =  0.23065882921218872 , Validation Accuracy =  0.1624000072479248\n"
          ]
        },
        {
          "output_type": "stream",
          "name": "stderr",
          "text": [
            "100%|██████████| 665/665 [00:10<00:00, 61.03it/s]\n",
            "100%|██████████| 118/118 [00:01<00:00, 85.42it/s]\n"
          ]
        },
        {
          "output_type": "stream",
          "name": "stdout",
          "text": [
            "EPOCH -  20 . Train Accuracy =  0.2356470674276352 , Validation Accuracy =  0.1613333374261856\n"
          ]
        },
        {
          "output_type": "stream",
          "name": "stderr",
          "text": [
            "100%|██████████| 665/665 [00:10<00:00, 60.69it/s]\n",
            "100%|██████████| 118/118 [00:01<00:00, 86.86it/s]\n"
          ]
        },
        {
          "output_type": "stream",
          "name": "stdout",
          "text": [
            "EPOCH -  21 . Train Accuracy =  0.2400941252708435 , Validation Accuracy =  0.1629333347082138\n",
            "Model Re-Saved\n"
          ]
        },
        {
          "output_type": "stream",
          "name": "stderr",
          "text": [
            "100%|██████████| 665/665 [00:10<00:00, 60.58it/s]\n",
            "100%|██████████| 118/118 [00:01<00:00, 64.54it/s]\n"
          ]
        },
        {
          "output_type": "stream",
          "name": "stdout",
          "text": [
            "EPOCH -  22 . Train Accuracy =  0.24974118173122406 , Validation Accuracy =  0.1679999977350235\n",
            "Model Re-Saved\n"
          ]
        },
        {
          "output_type": "stream",
          "name": "stderr",
          "text": [
            "100%|██████████| 665/665 [00:11<00:00, 59.98it/s]\n",
            "100%|██████████| 118/118 [00:01<00:00, 88.04it/s]\n"
          ]
        },
        {
          "output_type": "stream",
          "name": "stdout",
          "text": [
            "EPOCH -  23 . Train Accuracy =  0.25519999861717224 , Validation Accuracy =  0.16359999775886536\n"
          ]
        },
        {
          "output_type": "stream",
          "name": "stderr",
          "text": [
            "100%|██████████| 665/665 [00:10<00:00, 61.03it/s]\n",
            "100%|██████████| 118/118 [00:01<00:00, 88.26it/s]\n"
          ]
        },
        {
          "output_type": "stream",
          "name": "stdout",
          "text": [
            "EPOCH -  24 . Train Accuracy =  0.2649882435798645 , Validation Accuracy =  0.1693333387374878\n",
            "Model Re-Saved\n"
          ]
        },
        {
          "output_type": "stream",
          "name": "stderr",
          "text": [
            "100%|██████████| 665/665 [00:10<00:00, 60.57it/s]\n",
            "100%|██████████| 118/118 [00:01<00:00, 87.74it/s]\n"
          ]
        },
        {
          "output_type": "stream",
          "name": "stdout",
          "text": [
            "EPOCH -  25 . Train Accuracy =  0.2705411911010742 , Validation Accuracy =  0.1693333387374878\n"
          ]
        },
        {
          "output_type": "stream",
          "name": "stderr",
          "text": [
            "100%|██████████| 665/665 [00:10<00:00, 60.93it/s]\n",
            "100%|██████████| 118/118 [00:01<00:00, 87.53it/s]\n"
          ]
        },
        {
          "output_type": "stream",
          "name": "stdout",
          "text": [
            "EPOCH -  26 . Train Accuracy =  0.2761411666870117 , Validation Accuracy =  0.16786666214466095\n"
          ]
        },
        {
          "output_type": "stream",
          "name": "stderr",
          "text": [
            "100%|██████████| 665/665 [00:10<00:00, 60.59it/s]\n",
            "100%|██████████| 118/118 [00:01<00:00, 89.06it/s]\n"
          ]
        },
        {
          "output_type": "stream",
          "name": "stdout",
          "text": [
            "EPOCH -  27 . Train Accuracy =  0.2822117805480957 , Validation Accuracy =  0.1653333306312561\n"
          ]
        },
        {
          "output_type": "stream",
          "name": "stderr",
          "text": [
            "100%|██████████| 665/665 [00:11<00:00, 60.10it/s]\n",
            "100%|██████████| 118/118 [00:01<00:00, 87.42it/s]\n"
          ]
        },
        {
          "output_type": "stream",
          "name": "stdout",
          "text": [
            "EPOCH -  28 . Train Accuracy =  0.2898588180541992 , Validation Accuracy =  0.1687999963760376\n"
          ]
        },
        {
          "output_type": "stream",
          "name": "stderr",
          "text": [
            "100%|██████████| 665/665 [00:10<00:00, 60.56it/s]\n",
            "100%|██████████| 118/118 [00:01<00:00, 89.27it/s]\n"
          ]
        },
        {
          "output_type": "stream",
          "name": "stdout",
          "text": [
            "EPOCH -  29 . Train Accuracy =  0.29917648434638977 , Validation Accuracy =  0.1685333400964737\n"
          ]
        },
        {
          "output_type": "stream",
          "name": "stderr",
          "text": [
            "100%|██████████| 665/665 [00:10<00:00, 60.95it/s]\n",
            "100%|██████████| 118/118 [00:01<00:00, 88.41it/s]\n"
          ]
        },
        {
          "output_type": "stream",
          "name": "stdout",
          "text": [
            "EPOCH -  30 . Train Accuracy =  0.303105890750885 , Validation Accuracy =  0.16946667432785034\n",
            "Model Re-Saved\n"
          ]
        },
        {
          "output_type": "stream",
          "name": "stderr",
          "text": [
            "100%|██████████| 665/665 [00:11<00:00, 60.09it/s]\n",
            "100%|██████████| 118/118 [00:01<00:00, 88.60it/s]\n"
          ]
        },
        {
          "output_type": "stream",
          "name": "stdout",
          "text": [
            "EPOCH -  31 . Train Accuracy =  0.31009411811828613 , Validation Accuracy =  0.17053332924842834\n",
            "Model Re-Saved\n"
          ]
        },
        {
          "output_type": "stream",
          "name": "stderr",
          "text": [
            "100%|██████████| 665/665 [00:10<00:00, 60.49it/s]\n",
            "100%|██████████| 118/118 [00:01<00:00, 86.77it/s]\n"
          ]
        },
        {
          "output_type": "stream",
          "name": "stdout",
          "text": [
            "EPOCH -  32 . Train Accuracy =  0.3175294101238251 , Validation Accuracy =  0.17506666481494904\n",
            "Model Re-Saved\n"
          ]
        },
        {
          "output_type": "stream",
          "name": "stderr",
          "text": [
            "100%|██████████| 665/665 [00:11<00:00, 60.39it/s]\n",
            "100%|██████████| 118/118 [00:01<00:00, 86.03it/s]\n"
          ]
        },
        {
          "output_type": "stream",
          "name": "stdout",
          "text": [
            "EPOCH -  33 . Train Accuracy =  0.3224470615386963 , Validation Accuracy =  0.1728000044822693\n"
          ]
        },
        {
          "output_type": "stream",
          "name": "stderr",
          "text": [
            "100%|██████████| 665/665 [00:11<00:00, 60.19it/s]\n",
            "100%|██████████| 118/118 [00:01<00:00, 87.13it/s]\n"
          ]
        },
        {
          "output_type": "stream",
          "name": "stdout",
          "text": [
            "EPOCH -  34 . Train Accuracy =  0.3312470614910126 , Validation Accuracy =  0.1666666716337204\n"
          ]
        },
        {
          "output_type": "stream",
          "name": "stderr",
          "text": [
            "100%|██████████| 665/665 [00:11<00:00, 60.45it/s]\n",
            "100%|██████████| 118/118 [00:01<00:00, 88.51it/s]\n"
          ]
        },
        {
          "output_type": "stream",
          "name": "stdout",
          "text": [
            "EPOCH -  35 . Train Accuracy =  0.33752942085266113 , Validation Accuracy =  0.1706666648387909\n"
          ]
        },
        {
          "output_type": "stream",
          "name": "stderr",
          "text": [
            "100%|██████████| 665/665 [00:10<00:00, 60.72it/s]\n",
            "100%|██████████| 118/118 [00:01<00:00, 86.08it/s]\n"
          ]
        },
        {
          "output_type": "stream",
          "name": "stdout",
          "text": [
            "EPOCH -  36 . Train Accuracy =  0.34449413418769836 , Validation Accuracy =  0.17386667430400848\n"
          ]
        },
        {
          "output_type": "stream",
          "name": "stderr",
          "text": [
            "100%|██████████| 665/665 [00:11<00:00, 60.23it/s]\n",
            "100%|██████████| 118/118 [00:01<00:00, 89.06it/s]\n"
          ]
        },
        {
          "output_type": "stream",
          "name": "stdout",
          "text": [
            "EPOCH -  37 . Train Accuracy =  0.34912940859794617 , Validation Accuracy =  0.17239999771118164\n"
          ]
        },
        {
          "output_type": "stream",
          "name": "stderr",
          "text": [
            "100%|██████████| 665/665 [00:11<00:00, 59.98it/s]\n",
            "100%|██████████| 118/118 [00:01<00:00, 84.71it/s]\n"
          ]
        },
        {
          "output_type": "stream",
          "name": "stdout",
          "text": [
            "EPOCH -  38 . Train Accuracy =  0.35585883259773254 , Validation Accuracy =  0.16413334012031555\n"
          ]
        },
        {
          "output_type": "stream",
          "name": "stderr",
          "text": [
            "100%|██████████| 665/665 [00:11<00:00, 60.22it/s]\n",
            "100%|██████████| 118/118 [00:01<00:00, 87.94it/s]\n"
          ]
        },
        {
          "output_type": "stream",
          "name": "stdout",
          "text": [
            "EPOCH -  39 . Train Accuracy =  0.3627529442310333 , Validation Accuracy =  0.1685333400964737\n"
          ]
        },
        {
          "output_type": "stream",
          "name": "stderr",
          "text": [
            "100%|██████████| 665/665 [00:11<00:00, 57.83it/s]\n",
            "100%|██████████| 118/118 [00:01<00:00, 85.98it/s]\n"
          ]
        },
        {
          "output_type": "stream",
          "name": "stdout",
          "text": [
            "EPOCH -  40 . Train Accuracy =  0.36748236417770386 , Validation Accuracy =  0.1690666675567627\n"
          ]
        },
        {
          "output_type": "stream",
          "name": "stderr",
          "text": [
            "100%|██████████| 665/665 [00:11<00:00, 60.08it/s]\n",
            "100%|██████████| 118/118 [00:01<00:00, 85.44it/s]\n"
          ]
        },
        {
          "output_type": "stream",
          "name": "stdout",
          "text": [
            "EPOCH -  41 . Train Accuracy =  0.37305882573127747 , Validation Accuracy =  0.16973333060741425\n"
          ]
        },
        {
          "output_type": "stream",
          "name": "stderr",
          "text": [
            "100%|██████████| 665/665 [00:11<00:00, 59.97it/s]\n",
            "100%|██████████| 118/118 [00:01<00:00, 82.64it/s]\n"
          ]
        },
        {
          "output_type": "stream",
          "name": "stdout",
          "text": [
            "EPOCH -  42 . Train Accuracy =  0.375741183757782 , Validation Accuracy =  0.1690666675567627\n"
          ]
        },
        {
          "output_type": "stream",
          "name": "stderr",
          "text": [
            "100%|██████████| 665/665 [00:11<00:00, 59.70it/s]\n",
            "100%|██████████| 118/118 [00:01<00:00, 85.37it/s]\n"
          ]
        },
        {
          "output_type": "stream",
          "name": "stdout",
          "text": [
            "EPOCH -  43 . Train Accuracy =  0.3803294003009796 , Validation Accuracy =  0.1695999950170517\n"
          ]
        },
        {
          "output_type": "stream",
          "name": "stderr",
          "text": [
            "100%|██████████| 665/665 [00:11<00:00, 60.41it/s]\n",
            "100%|██████████| 118/118 [00:01<00:00, 86.29it/s]\n"
          ]
        },
        {
          "output_type": "stream",
          "name": "stdout",
          "text": [
            "EPOCH -  44 . Train Accuracy =  0.38684704899787903 , Validation Accuracy =  0.1677333414554596\n"
          ]
        },
        {
          "output_type": "stream",
          "name": "stderr",
          "text": [
            "100%|██████████| 665/665 [00:11<00:00, 60.29it/s]\n",
            "100%|██████████| 118/118 [00:01<00:00, 87.09it/s]\n"
          ]
        },
        {
          "output_type": "stream",
          "name": "stdout",
          "text": [
            "EPOCH -  45 . Train Accuracy =  0.3905176520347595 , Validation Accuracy =  0.16680000722408295\n"
          ]
        },
        {
          "output_type": "stream",
          "name": "stderr",
          "text": [
            "100%|██████████| 665/665 [00:11<00:00, 60.38it/s]\n",
            "100%|██████████| 118/118 [00:01<00:00, 87.80it/s]\n"
          ]
        },
        {
          "output_type": "stream",
          "name": "stdout",
          "text": [
            "EPOCH -  46 . Train Accuracy =  0.39512941241264343 , Validation Accuracy =  0.16413334012031555\n"
          ]
        },
        {
          "output_type": "stream",
          "name": "stderr",
          "text": [
            "100%|██████████| 665/665 [00:11<00:00, 60.27it/s]\n",
            "100%|██████████| 118/118 [00:01<00:00, 86.21it/s]\n"
          ]
        },
        {
          "output_type": "stream",
          "name": "stdout",
          "text": [
            "EPOCH -  47 . Train Accuracy =  0.39922353625297546 , Validation Accuracy =  0.16680000722408295\n"
          ]
        },
        {
          "output_type": "stream",
          "name": "stderr",
          "text": [
            "100%|██████████| 665/665 [00:11<00:00, 60.27it/s]\n",
            "100%|██████████| 118/118 [00:01<00:00, 87.42it/s]\n"
          ]
        },
        {
          "output_type": "stream",
          "name": "stdout",
          "text": [
            "EPOCH -  48 . Train Accuracy =  0.40432941913604736 , Validation Accuracy =  0.1661333292722702\n"
          ]
        },
        {
          "output_type": "stream",
          "name": "stderr",
          "text": [
            "100%|██████████| 665/665 [00:11<00:00, 59.81it/s]\n",
            "100%|██████████| 118/118 [00:01<00:00, 87.25it/s]\n"
          ]
        },
        {
          "output_type": "stream",
          "name": "stdout",
          "text": [
            "EPOCH -  49 . Train Accuracy =  0.40658822655677795 , Validation Accuracy =  0.1616000086069107\n"
          ]
        },
        {
          "output_type": "stream",
          "name": "stderr",
          "text": [
            "100%|██████████| 665/665 [00:11<00:00, 59.71it/s]\n",
            "100%|██████████| 118/118 [00:01<00:00, 78.05it/s]\n"
          ]
        },
        {
          "output_type": "stream",
          "name": "stdout",
          "text": [
            "EPOCH -  50 . Train Accuracy =  0.40915295481681824 , Validation Accuracy =  0.16519999504089355\n"
          ]
        },
        {
          "output_type": "stream",
          "name": "stderr",
          "text": [
            "100%|██████████| 665/665 [00:10<00:00, 60.69it/s]\n",
            "100%|██████████| 118/118 [00:01<00:00, 74.33it/s]\n"
          ]
        },
        {
          "output_type": "stream",
          "name": "stdout",
          "text": [
            "EPOCH -  51 . Train Accuracy =  0.41011765599250793 , Validation Accuracy =  0.1626666635274887\n"
          ]
        },
        {
          "output_type": "stream",
          "name": "stderr",
          "text": [
            "100%|██████████| 665/665 [00:10<00:00, 60.91it/s]\n",
            "100%|██████████| 118/118 [00:01<00:00, 67.87it/s]\n"
          ]
        },
        {
          "output_type": "stream",
          "name": "stdout",
          "text": [
            "EPOCH -  52 . Train Accuracy =  0.41489413380622864 , Validation Accuracy =  0.1626666635274887\n"
          ]
        },
        {
          "output_type": "stream",
          "name": "stderr",
          "text": [
            "100%|██████████| 665/665 [00:10<00:00, 61.75it/s]\n",
            "100%|██████████| 118/118 [00:01<00:00, 64.15it/s]\n"
          ]
        },
        {
          "output_type": "stream",
          "name": "stdout",
          "text": [
            "EPOCH -  53 . Train Accuracy =  0.4161176383495331 , Validation Accuracy =  0.1666666716337204\n"
          ]
        },
        {
          "output_type": "stream",
          "name": "stderr",
          "text": [
            "100%|██████████| 665/665 [00:10<00:00, 61.27it/s]\n",
            "100%|██████████| 118/118 [00:02<00:00, 56.17it/s]\n"
          ]
        },
        {
          "output_type": "stream",
          "name": "stdout",
          "text": [
            "EPOCH -  54 . Train Accuracy =  0.4186588227748871 , Validation Accuracy =  0.1613333374261856\n"
          ]
        },
        {
          "output_type": "stream",
          "name": "stderr",
          "text": [
            "100%|██████████| 665/665 [00:10<00:00, 60.87it/s]\n",
            "100%|██████████| 118/118 [00:01<00:00, 63.20it/s]\n"
          ]
        },
        {
          "output_type": "stream",
          "name": "stdout",
          "text": [
            "EPOCH -  55 . Train Accuracy =  0.4214823544025421 , Validation Accuracy =  0.16279999911785126\n"
          ]
        },
        {
          "output_type": "stream",
          "name": "stderr",
          "text": [
            "100%|██████████| 665/665 [00:11<00:00, 60.38it/s]\n",
            "100%|██████████| 118/118 [00:01<00:00, 62.85it/s]\n"
          ]
        },
        {
          "output_type": "stream",
          "name": "stdout",
          "text": [
            "EPOCH -  56 . Train Accuracy =  0.42303529381752014 , Validation Accuracy =  0.1607999950647354\n"
          ]
        },
        {
          "output_type": "stream",
          "name": "stderr",
          "text": [
            "100%|██████████| 665/665 [00:11<00:00, 60.44it/s]\n",
            "100%|██████████| 118/118 [00:01<00:00, 64.07it/s]\n"
          ]
        },
        {
          "output_type": "stream",
          "name": "stdout",
          "text": [
            "EPOCH -  57 . Train Accuracy =  0.423270583152771 , Validation Accuracy =  0.1586666703224182\n"
          ]
        },
        {
          "output_type": "stream",
          "name": "stderr",
          "text": [
            "100%|██████████| 665/665 [00:11<00:00, 58.90it/s]\n",
            "100%|██████████| 118/118 [00:01<00:00, 84.85it/s]\n"
          ]
        },
        {
          "output_type": "stream",
          "name": "stdout",
          "text": [
            "EPOCH -  58 . Train Accuracy =  0.4249882400035858 , Validation Accuracy =  0.1610666662454605\n"
          ]
        },
        {
          "output_type": "stream",
          "name": "stderr",
          "text": [
            "100%|██████████| 665/665 [00:11<00:00, 60.26it/s]\n",
            "100%|██████████| 118/118 [00:01<00:00, 84.69it/s]\n"
          ]
        },
        {
          "output_type": "stream",
          "name": "stdout",
          "text": [
            "EPOCH -  59 . Train Accuracy =  0.42607060074806213 , Validation Accuracy =  0.1624000072479248\n"
          ]
        },
        {
          "output_type": "stream",
          "name": "stderr",
          "text": [
            "100%|██████████| 665/665 [00:11<00:00, 60.20it/s]\n",
            "100%|██████████| 118/118 [00:01<00:00, 85.45it/s]\n"
          ]
        },
        {
          "output_type": "stream",
          "name": "stdout",
          "text": [
            "EPOCH -  60 . Train Accuracy =  0.42952942848205566 , Validation Accuracy =  0.1613333374261856\n"
          ]
        },
        {
          "output_type": "stream",
          "name": "stderr",
          "text": [
            "100%|██████████| 665/665 [00:11<00:00, 60.19it/s]\n",
            "100%|██████████| 118/118 [00:01<00:00, 85.73it/s]\n"
          ]
        },
        {
          "output_type": "stream",
          "name": "stdout",
          "text": [
            "EPOCH -  61 . Train Accuracy =  0.43021175265312195 , Validation Accuracy =  0.1629333347082138\n"
          ]
        },
        {
          "output_type": "stream",
          "name": "stderr",
          "text": [
            "100%|██████████| 665/665 [00:11<00:00, 60.13it/s]\n",
            "100%|██████████| 118/118 [00:01<00:00, 87.89it/s]\n"
          ]
        },
        {
          "output_type": "stream",
          "name": "stdout",
          "text": [
            "EPOCH -  62 . Train Accuracy =  0.42795294523239136 , Validation Accuracy =  0.1618666648864746\n"
          ]
        },
        {
          "output_type": "stream",
          "name": "stderr",
          "text": [
            "100%|██████████| 665/665 [00:10<00:00, 60.66it/s]\n",
            "100%|██████████| 118/118 [00:01<00:00, 87.84it/s]\n"
          ]
        },
        {
          "output_type": "stream",
          "name": "stdout",
          "text": [
            "EPOCH -  63 . Train Accuracy =  0.42800000309944153 , Validation Accuracy =  0.1621333360671997\n"
          ]
        },
        {
          "output_type": "stream",
          "name": "stderr",
          "text": [
            "100%|██████████| 665/665 [00:11<00:00, 60.36it/s]\n",
            "100%|██████████| 118/118 [00:01<00:00, 83.99it/s]\n"
          ]
        },
        {
          "output_type": "stream",
          "name": "stdout",
          "text": [
            "EPOCH -  64 . Train Accuracy =  0.43098825216293335 , Validation Accuracy =  0.15919999778270721\n"
          ]
        },
        {
          "output_type": "stream",
          "name": "stderr",
          "text": [
            "100%|██████████| 665/665 [00:11<00:00, 60.28it/s]\n",
            "100%|██████████| 118/118 [00:01<00:00, 85.72it/s]\n"
          ]
        },
        {
          "output_type": "stream",
          "name": "stdout",
          "text": [
            "EPOCH -  65 . Train Accuracy =  0.4323999881744385 , Validation Accuracy =  0.15906666219234467\n"
          ]
        },
        {
          "output_type": "stream",
          "name": "stderr",
          "text": [
            "100%|██████████| 665/665 [00:10<00:00, 60.49it/s]\n",
            "100%|██████████| 118/118 [00:01<00:00, 86.24it/s]\n"
          ]
        },
        {
          "output_type": "stream",
          "name": "stdout",
          "text": [
            "EPOCH -  66 . Train Accuracy =  0.43054118752479553 , Validation Accuracy =  0.15666666626930237\n"
          ]
        },
        {
          "output_type": "stream",
          "name": "stderr",
          "text": [
            "100%|██████████| 665/665 [00:11<00:00, 59.70it/s]\n",
            "100%|██████████| 118/118 [00:01<00:00, 85.81it/s]\n"
          ]
        },
        {
          "output_type": "stream",
          "name": "stdout",
          "text": [
            "EPOCH -  67 . Train Accuracy =  0.4312705993652344 , Validation Accuracy =  0.1589333415031433\n"
          ]
        },
        {
          "output_type": "stream",
          "name": "stderr",
          "text": [
            "100%|██████████| 665/665 [00:10<00:00, 60.67it/s]\n",
            "100%|██████████| 118/118 [00:01<00:00, 87.14it/s]\n"
          ]
        },
        {
          "output_type": "stream",
          "name": "stdout",
          "text": [
            "EPOCH -  68 . Train Accuracy =  0.43642354011535645 , Validation Accuracy =  0.15546667575836182\n"
          ]
        },
        {
          "output_type": "stream",
          "name": "stderr",
          "text": [
            "100%|██████████| 665/665 [00:10<00:00, 60.77it/s]\n",
            "100%|██████████| 118/118 [00:01<00:00, 86.06it/s]\n"
          ]
        },
        {
          "output_type": "stream",
          "name": "stdout",
          "text": [
            "EPOCH -  69 . Train Accuracy =  0.43256470561027527 , Validation Accuracy =  0.1632000058889389\n"
          ]
        },
        {
          "output_type": "stream",
          "name": "stderr",
          "text": [
            "100%|██████████| 665/665 [00:10<00:00, 60.58it/s]\n",
            "100%|██████████| 118/118 [00:01<00:00, 87.80it/s]\n"
          ]
        },
        {
          "output_type": "stream",
          "name": "stdout",
          "text": [
            "EPOCH -  70 . Train Accuracy =  0.4366588294506073 , Validation Accuracy =  0.15479999780654907\n"
          ]
        },
        {
          "output_type": "stream",
          "name": "stderr",
          "text": [
            "100%|██████████| 665/665 [00:10<00:00, 60.65it/s]\n",
            "100%|██████████| 118/118 [00:01<00:00, 86.15it/s]\n"
          ]
        },
        {
          "output_type": "stream",
          "name": "stdout",
          "text": [
            "EPOCH -  71 . Train Accuracy =  0.435576468706131 , Validation Accuracy =  0.15680000185966492\n"
          ]
        },
        {
          "output_type": "stream",
          "name": "stderr",
          "text": [
            "100%|██████████| 665/665 [00:10<00:00, 60.74it/s]\n",
            "100%|██████████| 118/118 [00:01<00:00, 86.95it/s]\n"
          ]
        },
        {
          "output_type": "stream",
          "name": "stdout",
          "text": [
            "EPOCH -  72 . Train Accuracy =  0.43308234214782715 , Validation Accuracy =  0.15933333337306976\n"
          ]
        },
        {
          "output_type": "stream",
          "name": "stderr",
          "text": [
            "100%|██████████| 665/665 [00:11<00:00, 60.17it/s]\n",
            "100%|██████████| 118/118 [00:01<00:00, 87.01it/s]\n"
          ]
        },
        {
          "output_type": "stream",
          "name": "stdout",
          "text": [
            "EPOCH -  73 . Train Accuracy =  0.43705883622169495 , Validation Accuracy =  0.15666666626930237\n"
          ]
        },
        {
          "output_type": "stream",
          "name": "stderr",
          "text": [
            "100%|██████████| 665/665 [00:10<00:00, 60.74it/s]\n",
            "100%|██████████| 118/118 [00:01<00:00, 88.01it/s]\n"
          ]
        },
        {
          "output_type": "stream",
          "name": "stdout",
          "text": [
            "EPOCH -  74 . Train Accuracy =  0.4336705803871155 , Validation Accuracy =  0.15800000727176666\n"
          ]
        },
        {
          "output_type": "stream",
          "name": "stderr",
          "text": [
            "100%|██████████| 665/665 [00:11<00:00, 56.99it/s]\n",
            "100%|██████████| 118/118 [00:01<00:00, 86.66it/s]\n"
          ]
        },
        {
          "output_type": "stream",
          "name": "stdout",
          "text": [
            "EPOCH -  75 . Train Accuracy =  0.4347764849662781 , Validation Accuracy =  0.15533334016799927\n"
          ]
        },
        {
          "output_type": "stream",
          "name": "stderr",
          "text": [
            "100%|██████████| 665/665 [00:10<00:00, 60.97it/s]\n",
            "100%|██████████| 118/118 [00:01<00:00, 88.75it/s]\n"
          ]
        },
        {
          "output_type": "stream",
          "name": "stdout",
          "text": [
            "EPOCH -  76 . Train Accuracy =  0.4382117688655853 , Validation Accuracy =  0.15800000727176666\n"
          ]
        },
        {
          "output_type": "stream",
          "name": "stderr",
          "text": [
            "100%|██████████| 665/665 [00:10<00:00, 60.67it/s]\n",
            "100%|██████████| 118/118 [00:01<00:00, 87.14it/s]\n"
          ]
        },
        {
          "output_type": "stream",
          "name": "stdout",
          "text": [
            "EPOCH -  77 . Train Accuracy =  0.43691766262054443 , Validation Accuracy =  0.15466666221618652\n"
          ]
        },
        {
          "output_type": "stream",
          "name": "stderr",
          "text": [
            "100%|██████████| 665/665 [00:11<00:00, 60.40it/s]\n",
            "100%|██████████| 118/118 [00:01<00:00, 85.07it/s]\n"
          ]
        },
        {
          "output_type": "stream",
          "name": "stdout",
          "text": [
            "EPOCH -  78 . Train Accuracy =  0.4361882507801056 , Validation Accuracy =  0.15666666626930237\n"
          ]
        },
        {
          "output_type": "stream",
          "name": "stderr",
          "text": [
            "100%|██████████| 665/665 [00:11<00:00, 60.06it/s]\n",
            "100%|██████████| 118/118 [00:01<00:00, 86.57it/s]\n"
          ]
        },
        {
          "output_type": "stream",
          "name": "stdout",
          "text": [
            "EPOCH -  79 . Train Accuracy =  0.43677645921707153 , Validation Accuracy =  0.15733332931995392\n"
          ]
        },
        {
          "output_type": "stream",
          "name": "stderr",
          "text": [
            "100%|██████████| 665/665 [00:10<00:00, 60.47it/s]\n",
            "100%|██████████| 118/118 [00:01<00:00, 84.63it/s]\n"
          ]
        },
        {
          "output_type": "stream",
          "name": "stdout",
          "text": [
            "EPOCH -  80 . Train Accuracy =  0.4395529329776764 , Validation Accuracy =  0.15413333475589752\n"
          ]
        },
        {
          "output_type": "stream",
          "name": "stderr",
          "text": [
            "100%|██████████| 665/665 [00:10<00:00, 60.66it/s]\n",
            "100%|██████████| 118/118 [00:01<00:00, 86.23it/s]\n"
          ]
        },
        {
          "output_type": "stream",
          "name": "stdout",
          "text": [
            "EPOCH -  81 . Train Accuracy =  0.43607059121131897 , Validation Accuracy =  0.15373332798480988\n"
          ]
        },
        {
          "output_type": "stream",
          "name": "stderr",
          "text": [
            "100%|██████████| 665/665 [00:10<00:00, 60.61it/s]\n",
            "100%|██████████| 118/118 [00:01<00:00, 87.34it/s]\n"
          ]
        },
        {
          "output_type": "stream",
          "name": "stdout",
          "text": [
            "EPOCH -  82 . Train Accuracy =  0.4387529492378235 , Validation Accuracy =  0.15653333067893982\n"
          ]
        },
        {
          "output_type": "stream",
          "name": "stderr",
          "text": [
            "100%|██████████| 665/665 [00:10<00:00, 60.57it/s]\n",
            "100%|██████████| 118/118 [00:01<00:00, 88.17it/s]\n"
          ]
        },
        {
          "output_type": "stream",
          "name": "stdout",
          "text": [
            "EPOCH -  83 . Train Accuracy =  0.4384470582008362 , Validation Accuracy =  0.15280000865459442\n"
          ]
        },
        {
          "output_type": "stream",
          "name": "stderr",
          "text": [
            "100%|██████████| 665/665 [00:10<00:00, 60.57it/s]\n",
            "100%|██████████| 118/118 [00:01<00:00, 85.74it/s]\n"
          ]
        },
        {
          "output_type": "stream",
          "name": "stdout",
          "text": [
            "EPOCH -  84 . Train Accuracy =  0.43783530592918396 , Validation Accuracy =  0.15386666357517242\n"
          ]
        },
        {
          "output_type": "stream",
          "name": "stderr",
          "text": [
            "100%|██████████| 665/665 [00:11<00:00, 60.37it/s]\n",
            "100%|██████████| 118/118 [00:01<00:00, 79.95it/s]\n"
          ]
        },
        {
          "output_type": "stream",
          "name": "stdout",
          "text": [
            "EPOCH -  85 . Train Accuracy =  0.43847060203552246 , Validation Accuracy =  0.15440000593662262\n"
          ]
        },
        {
          "output_type": "stream",
          "name": "stderr",
          "text": [
            "100%|██████████| 665/665 [00:10<00:00, 60.75it/s]\n",
            "100%|██████████| 118/118 [00:01<00:00, 87.43it/s]\n"
          ]
        },
        {
          "output_type": "stream",
          "name": "stdout",
          "text": [
            "EPOCH -  86 . Train Accuracy =  0.4398588240146637 , Validation Accuracy =  0.15639999508857727\n"
          ]
        },
        {
          "output_type": "stream",
          "name": "stderr",
          "text": [
            "100%|██████████| 665/665 [00:10<00:00, 60.88it/s]\n",
            "100%|██████████| 118/118 [00:01<00:00, 87.54it/s]\n"
          ]
        },
        {
          "output_type": "stream",
          "name": "stdout",
          "text": [
            "EPOCH -  87 . Train Accuracy =  0.44025883078575134 , Validation Accuracy =  0.14959999918937683\n"
          ]
        },
        {
          "output_type": "stream",
          "name": "stderr",
          "text": [
            "100%|██████████| 665/665 [00:10<00:00, 60.90it/s]\n",
            "100%|██████████| 118/118 [00:01<00:00, 86.34it/s]\n"
          ]
        },
        {
          "output_type": "stream",
          "name": "stdout",
          "text": [
            "EPOCH -  88 . Train Accuracy =  0.43661177158355713 , Validation Accuracy =  0.14880000054836273\n"
          ]
        },
        {
          "output_type": "stream",
          "name": "stderr",
          "text": [
            "100%|██████████| 665/665 [00:10<00:00, 61.13it/s]\n",
            "100%|██████████| 118/118 [00:01<00:00, 86.94it/s]\n"
          ]
        },
        {
          "output_type": "stream",
          "name": "stdout",
          "text": [
            "EPOCH -  89 . Train Accuracy =  0.44054117798805237 , Validation Accuracy =  0.15119999647140503\n"
          ]
        },
        {
          "output_type": "stream",
          "name": "stderr",
          "text": [
            "100%|██████████| 665/665 [00:10<00:00, 61.03it/s]\n",
            "100%|██████████| 118/118 [00:01<00:00, 88.61it/s]\n"
          ]
        },
        {
          "output_type": "stream",
          "name": "stdout",
          "text": [
            "EPOCH -  90 . Train Accuracy =  0.4365176558494568 , Validation Accuracy =  0.15280000865459442\n"
          ]
        },
        {
          "output_type": "stream",
          "name": "stderr",
          "text": [
            "100%|██████████| 665/665 [00:10<00:00, 61.10it/s]\n",
            "100%|██████████| 118/118 [00:01<00:00, 82.46it/s]\n"
          ]
        },
        {
          "output_type": "stream",
          "name": "stdout",
          "text": [
            "EPOCH -  91 . Train Accuracy =  0.4393647015094757 , Validation Accuracy =  0.15373332798480988\n"
          ]
        },
        {
          "output_type": "stream",
          "name": "stderr",
          "text": [
            "100%|██████████| 665/665 [00:10<00:00, 61.30it/s]\n",
            "100%|██████████| 118/118 [00:01<00:00, 89.15it/s]\n"
          ]
        },
        {
          "output_type": "stream",
          "name": "stdout",
          "text": [
            "EPOCH -  92 . Train Accuracy =  0.43990588188171387 , Validation Accuracy =  0.15280000865459442\n"
          ]
        },
        {
          "output_type": "stream",
          "name": "stderr",
          "text": [
            "100%|██████████| 665/665 [00:11<00:00, 57.88it/s]\n",
            "100%|██████████| 118/118 [00:01<00:00, 86.70it/s]\n"
          ]
        },
        {
          "output_type": "stream",
          "name": "stdout",
          "text": [
            "EPOCH -  93 . Train Accuracy =  0.4398353099822998 , Validation Accuracy =  0.15399999916553497\n"
          ]
        },
        {
          "output_type": "stream",
          "name": "stderr",
          "text": [
            "100%|██████████| 665/665 [00:10<00:00, 60.55it/s]\n",
            "100%|██████████| 118/118 [00:01<00:00, 88.69it/s]\n"
          ]
        },
        {
          "output_type": "stream",
          "name": "stdout",
          "text": [
            "EPOCH -  94 . Train Accuracy =  0.44056472182273865 , Validation Accuracy =  0.15839999914169312\n"
          ]
        },
        {
          "output_type": "stream",
          "name": "stderr",
          "text": [
            "100%|██████████| 665/665 [00:10<00:00, 60.92it/s]\n",
            "100%|██████████| 118/118 [00:01<00:00, 88.00it/s]\n"
          ]
        },
        {
          "output_type": "stream",
          "name": "stdout",
          "text": [
            "EPOCH -  95 . Train Accuracy =  0.43863528966903687 , Validation Accuracy =  0.15213333070278168\n"
          ]
        },
        {
          "output_type": "stream",
          "name": "stderr",
          "text": [
            "100%|██████████| 665/665 [00:10<00:00, 60.80it/s]\n",
            "100%|██████████| 118/118 [00:01<00:00, 87.01it/s]\n"
          ]
        },
        {
          "output_type": "stream",
          "name": "stdout",
          "text": [
            "EPOCH -  96 . Train Accuracy =  0.4411058723926544 , Validation Accuracy =  0.14853332936763763\n"
          ]
        },
        {
          "output_type": "stream",
          "name": "stderr",
          "text": [
            "100%|██████████| 665/665 [00:10<00:00, 60.91it/s]\n",
            "100%|██████████| 118/118 [00:01<00:00, 86.73it/s]\n"
          ]
        },
        {
          "output_type": "stream",
          "name": "stdout",
          "text": [
            "EPOCH -  97 . Train Accuracy =  0.4403058886528015 , Validation Accuracy =  0.15213333070278168\n"
          ]
        },
        {
          "output_type": "stream",
          "name": "stderr",
          "text": [
            "100%|██████████| 665/665 [00:10<00:00, 60.66it/s]\n",
            "100%|██████████| 118/118 [00:01<00:00, 88.70it/s]\n"
          ]
        },
        {
          "output_type": "stream",
          "name": "stdout",
          "text": [
            "EPOCH -  98 . Train Accuracy =  0.44040000438690186 , Validation Accuracy =  0.14959999918937683\n"
          ]
        },
        {
          "output_type": "stream",
          "name": "stderr",
          "text": [
            "100%|██████████| 665/665 [00:10<00:00, 60.99it/s]\n",
            "100%|██████████| 118/118 [00:01<00:00, 87.77it/s]\n"
          ]
        },
        {
          "output_type": "stream",
          "name": "stdout",
          "text": [
            "EPOCH -  99 . Train Accuracy =  0.44216471910476685 , Validation Accuracy =  0.15066666901111603\n"
          ]
        },
        {
          "output_type": "stream",
          "name": "stderr",
          "text": [
            "100%|██████████| 665/665 [00:10<00:00, 61.33it/s]\n",
            "100%|██████████| 118/118 [00:01<00:00, 88.07it/s]\n"
          ]
        },
        {
          "output_type": "stream",
          "name": "stdout",
          "text": [
            "EPOCH -  100 . Train Accuracy =  0.4423764646053314 , Validation Accuracy =  0.15106667578220367\n",
            "\n"
          ]
        },
        {
          "output_type": "stream",
          "name": "stderr",
          "text": [
            "100%|██████████| 665/665 [00:08<00:00, 79.79it/s]\n"
          ]
        },
        {
          "output_type": "stream",
          "name": "stdout",
          "text": [
            "Train Accuracy =  0.3353646993637085\n"
          ]
        },
        {
          "output_type": "stream",
          "name": "stderr",
          "text": [
            "100%|██████████| 157/157 [00:01<00:00, 89.72it/s]"
          ]
        },
        {
          "output_type": "stream",
          "name": "stdout",
          "text": [
            "Test Accuracy =  0.18679998815059662\n",
            "Generalization Gap =  0.14856471121311188\n"
          ]
        },
        {
          "output_type": "stream",
          "name": "stderr",
          "text": [
            "\n"
          ]
        }
      ]
    }
  ]
}