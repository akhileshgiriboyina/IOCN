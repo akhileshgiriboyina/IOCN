{
  "nbformat": 4,
  "nbformat_minor": 0,
  "metadata": {
    "colab": {
      "provenance": [],
      "gpuType": "T4"
    },
    "kernelspec": {
      "name": "python3",
      "display_name": "Python 3"
    },
    "language_info": {
      "name": "python"
    },
    "accelerator": "GPU",
    "gpuClass": "standard"
  },
  "cells": [
    {
      "cell_type": "code",
      "execution_count": 1,
      "metadata": {
        "id": "-yujd2lE3GPM"
      },
      "outputs": [],
      "source": [
        "import numpy as np\n",
        "import tensorflow as tf\n",
        "import torch\n",
        "import torchvision\n",
        "from torchvision import datasets\n",
        "from torchvision import transforms\n",
        "from torch.autograd import Variable\n",
        "import torch.nn as nn\n",
        "from tqdm import tqdm \n",
        "import torch.nn.functional as Func"
      ]
    },
    {
      "cell_type": "code",
      "source": [
        "class Expert(nn.Module):\n",
        "    def __init__(self, input_size):\n",
        "        super(Expert, self).__init__()\n",
        "        self.fc1 = nn.Linear(input_size, 800)\n",
        "        self.fc2 = nn.Linear(800, 800)\n",
        "        self.fc3 = nn.Linear(800, 800)\n",
        "        self.fc4 = nn.Linear(800,1)\n",
        "        self.sigmoid = nn.Sigmoid()\n",
        "        self.elu=Func.elu\n",
        "        self.batch = nn.BatchNorm1d(800)\n",
        "\n",
        "    def forward(self, x):\n",
        "        x = self.elu(self.fc1(x))\n",
        "        x = self.elu(self.fc2(x))\n",
        "        x = self.elu(self.fc3(x))\n",
        "        x = self.sigmoid(self.fc4(x))\n",
        "        return x\n",
        "  \n",
        "\n",
        "class Gating(nn.Module):\n",
        "    def __init__(self, input_size, num_experts):\n",
        "        super(Gating, self).__init__()\n",
        "        self.fc1 = nn.Linear(input_size, num_experts)\n",
        "        self.SftMax = nn.functional.softmax\n",
        "\n",
        "    def forward(self, x):\n",
        "        x = self.SftMax(self.fc1(x))\n",
        "        # print(\"X value\",x)\n",
        "        return x\n",
        "  "
      ],
      "metadata": {
        "id": "uGaHBXjh3YjL"
      },
      "execution_count": 2,
      "outputs": []
    },
    {
      "cell_type": "code",
      "source": [
        "device = torch.device('cuda' if torch.cuda.is_available() else 'cpu')\n",
        "Expert_model = Expert(32*32*3).to(device)\n"
      ],
      "metadata": {
        "id": "0WFTiFaF30n6"
      },
      "execution_count": 3,
      "outputs": []
    },
    {
      "cell_type": "code",
      "source": [
        "# from torch._C import float32\n",
        "def train(model,optimizer,loss_function,device,train_data,Gamma=5):\n",
        "  correct_train_pred = 0\n",
        "  total_samples = 0\n",
        "  total_batches = 0 \n",
        "  for i, (images, labels) in enumerate(train_data):\n",
        "\n",
        "\n",
        "    images = images.reshape(-1, 32*32*3)\n",
        "\n",
        "    images = images.to(device)\n",
        "    labels = torch.tensor(labels,dtype=torch.float32).to(device)\n",
        "    # labels = labels.to(device)\n",
        "    outputs = model(images)\n",
        "    # print(\"OP\",outputs)\n",
        "    \n",
        "\n",
        "    loss = loss_function(outputs,labels)\n",
        "\n",
        "    optimizer.zero_grad()\n",
        "    # print(type(labels[0].item()))\n",
        "    # print(type(outputs[0].item()))\n",
        "    # print(labels.dtype)\n",
        "    # print(outputs.dtype)\n",
        "    # print(loss)\n",
        "    # print(type(loss))\n",
        "    # print(loss)\n",
        "    loss.backward()\n",
        "    optimizer.step()\n",
        "    \n",
        "\n",
        "    # for name, param in model.named_parameters():\n",
        "    #   print(name,param)\n",
        "    for name, param in model.named_parameters(): \n",
        "      if \"fc1\" in name or \"bias\" in name or \"batch\" in name:\n",
        "          continue\n",
        "      tmpParam = param.data\n",
        "      NewTmpParam = torch.exp(tmpParam - Gamma)\n",
        "      tmpParam = torch.where(tmpParam<0, NewTmpParam, tmpParam)\n",
        "      param.data = tmpParam\n",
        "    # for name, param in model.named_parameters():\n",
        "    #   print(name,param)\n",
        "\n",
        "    # i=0\n",
        "    # with torch.no_grad():\n",
        "    #       for params in model.parameters():\n",
        "    #           if i != 0:\n",
        "    #             newparams=params.detach().clone()\n",
        "    #             params.copy_(torch.where(newparams < 0, torch.exp(newparams - Gamma), newparams))\n",
        "    #           i=i+1\n",
        "    # total_batches+=1\n",
        "\n",
        "    # predClass = torch.max(outputs.data, 1)[1]\n",
        "    # print(\"OP\",outputs)\n",
        "    predClass = [1.0 if j > 0.5 else 0.0 for j in outputs]\n",
        "    \n",
        "    predClass = torch.tensor(predClass).to(device)\n",
        "    # print(predClass)\n",
        "    # print(labels)\n",
        "\n",
        "    correct_train_pred += (predClass==labels).sum()\n",
        "    total_samples += len(labels)\n",
        "    break\n",
        "    \n",
        "  return correct_train_pred/total_samples\n",
        "\n",
        "def evaluate(model,loader,device,loss_function):\n",
        "  correct=0\n",
        "  total_samples = 0\n",
        "  for i, (images,labels) in enumerate(loader):\n",
        "    images = images.reshape(-1, 32*32*3)\n",
        "\n",
        "    images = images.to(device)\n",
        "    labels = labels.to(device)\n",
        "\n",
        "    pred_output = model(images)\n",
        "    loss=loss_function(pred_output,labels)\n",
        "    predClass = [1.0 if i > 0.5 else 0.0 for i in pred_output]\n",
        "\n",
        "    # predClass = torch.max(pred_output.data, 1)[1]\n",
        "\n",
        "\n",
        "    # print(\"eval func\",predClass)\n",
        "    predClass = torch.tensor(predClass).to(device)\n",
        "    correct+=(predClass==labels).sum()\n",
        "    total_samples+=len(labels)\n",
        "  return correct/total_samples\n",
        "  "
      ],
      "metadata": {
        "id": "7u6TcEH035kC"
      },
      "execution_count": 36,
      "outputs": []
    },
    {
      "cell_type": "code",
      "source": [
        "lmda = lambda y : float(y > 1 and y < 8)\n",
        "\n",
        "#load and prepare the dataset\n",
        "transform = transforms.Compose([\n",
        "    transforms.ToTensor(),\n",
        "    transforms.Resize((32, 32))\n",
        "    # transforms.Normalize((0.5, 0.5, 0.5), (0.5, 0.5, 0.5))\n",
        "])\n",
        "\n",
        "train_dataset = datasets.CIFAR10(root='./data', train=True, download=True, transform=transform,target_transform=lmda)\n",
        "train_subset, val_subset = torch.utils.data.random_split(train_dataset, [int(len(train_dataset) * 0.85), int(len(train_dataset) * 0.15)], generator=torch.Generator().manual_seed(1))\n",
        "\n",
        "train_loader = torch.utils.data.DataLoader(train_subset, batch_size=64, shuffle=True)\n",
        "val_loader = torch.utils.data.DataLoader(val_subset, batch_size=64, shuffle=True)\n",
        "\n",
        "test_dataset = datasets.CIFAR10(root='./data',train=False,download=True,transform=transform,target_transform=lmda)\n",
        "test_loader = torch.utils.data.DataLoader(test_dataset, batch_size=64, shuffle=True)\n"
      ],
      "metadata": {
        "colab": {
          "base_uri": "https://localhost:8080/"
        },
        "id": "jM3An-_t4F7F",
        "outputId": "4e868c31-229d-42dc-8448-fdc64e4a7884"
      },
      "execution_count": 5,
      "outputs": [
        {
          "output_type": "stream",
          "name": "stdout",
          "text": [
            "Downloading https://www.cs.toronto.edu/~kriz/cifar-10-python.tar.gz to ./data/cifar-10-python.tar.gz\n"
          ]
        },
        {
          "output_type": "stream",
          "name": "stderr",
          "text": [
            "100%|██████████| 170498071/170498071 [00:05<00:00, 29641119.96it/s]\n"
          ]
        },
        {
          "output_type": "stream",
          "name": "stdout",
          "text": [
            "Extracting ./data/cifar-10-python.tar.gz to ./data\n",
            "Files already downloaded and verified\n"
          ]
        }
      ]
    },
    {
      "cell_type": "code",
      "source": [
        "# no_experts= 5\n",
        "\n",
        "# fraction = 1/no_experts\n",
        "# total = len(train_dataset)\n",
        "# list_for_split = [int(total*fraction)]*no_experts\n",
        "\n",
        "# op = torch.utils.data.random_split(train_dataset,list_for_split,generator = torch.Generator().manual_seed(1))\n",
        "\n",
        "def TrainExperts(NumOfExperts):\n",
        "  # new_train_dataset = datasets.CIFAR10(root='./data', train=True, download=True, transform=transform,target_transform=lmda)\n",
        "  fraction = 1/NumOfExperts\n",
        "  total = len(train_dataset)\n",
        "  list_for_split = [int(total*fraction)]*NumOfExperts\n",
        "  # list_for_split = [8333,8333,8333,8333,8333,8335]\n",
        "\n",
        "  dataset_list = torch.utils.data.random_split(train_dataset,list_for_split,generator = torch.Generator().manual_seed(1))\n",
        "\n",
        "  model_list=[]\n",
        "  for i in range(NumOfExperts):\n",
        "    new_train_loader = torch.utils.data.DataLoader(dataset_list[i], batch_size=64, shuffle=True)\n",
        "    Expert_model = Expert(32*32*3).to(device)\n",
        "    Expert_model.train()\n",
        "    loss_function = nn.MSELoss()\n",
        "    optimizer = torch.optim.Adam(Expert_model.parameters(), lr=0.0001)\n",
        "\n",
        "    EPOCHS = 20\n",
        "    train_accuracy = 0\n",
        "\n",
        "    ModelName=\"Expert_Model_1.pt\"\n",
        "\n",
        "    ValAccuracy = 0\n",
        "    TrainAcc_List = []\n",
        "    ValAcc_List = []\n",
        "    for i in tqdm(range(EPOCHS)):\n",
        "      train_accuracy = train(Expert_model,optimizer,loss_function,device,new_train_loader)\n",
        "      val_acc = evaluate(Expert_model,val_loader,device,loss_function)\n",
        "      TrainAcc_List.append(train_accuracy.cpu().item())\n",
        "      ValAcc_List.append(val_acc.cpu().item())\n",
        "\n",
        "      print(\"EPOCH - \", i+1, \". Train Accuracy = \", train_accuracy.cpu().item(), \", Validation Accuracy = \", val_acc.cpu().item())\n",
        "\n",
        "      if val_acc.cpu().item() > ValAccuracy:\n",
        "        print(\"Model Re-Saved\")\n",
        "        ValAccuracy = val_acc.cpu().item()\n",
        "        torch.save(Expert_model, ModelName)\n",
        "    saved_model = torch.load(ModelName, map_location=torch.device('cpu')).to(device)\n",
        "    model_list.append(saved_model)\n",
        "\n",
        "\n",
        "    # Train_Accuracy = evaluate(saved_model, new_train_loader, device)\n",
        "    # print(\"Train Accuracy = \", Train_Accuracy.cpu().item())\n",
        "    # Test_Accuracy = evaluate(saved_model, test_loader, device)\n",
        "    # print(\"Test Accuracy = \", Test_Accuracy.cpu().item())\n",
        "\n",
        "    # print(\"Generalization Gap = \", (Train_Accuracy.cpu().item() - Test_Accuracy.cpu().item()))\n",
        "\n",
        "  return model_list\n",
        "\n"
      ],
      "metadata": {
        "id": "BbEgiBY24LJa"
      },
      "execution_count": 45,
      "outputs": []
    },
    {
      "cell_type": "code",
      "source": [
        "# from torch._C import float32\n",
        "def trainGated(Gatedmodel,optimizer,loss_function,device,train_data, model_list,Gamma=5):\n",
        "  correct_train_pred = 0\n",
        "  total_samples = 0\n",
        "  total_batches = 0 \n",
        "  for k, (images, labels) in enumerate(train_data):\n",
        "\n",
        "\n",
        "    images = images.reshape(-1, 32*32*3)\n",
        "\n",
        "    images = images.to(device)\n",
        "    labels = torch.tensor(labels,dtype=torch.float32).to(device)\n",
        "    \n",
        "    \n",
        "    optimizer.zero_grad()\n",
        "\n",
        "    loss = 0\n",
        "    for i in range(len(images)):\n",
        "      # labels = labels.to(device)\n",
        "      outputs = Gatedmodel(images[i])\n",
        "      # print(outputs)\n",
        "      for j in range(len(model_list)):\n",
        "        loss += outputs[j] * ((labels[i] - model_list[j](images[i]))**2) \n",
        "        # loss += outputs[j] * torch.exp(labels - model_list[j](images)) #----------------------------->change\n",
        "      \n",
        "      # loss = -1 * torch.log(loss)\n",
        "      # print(\"loss\",loss)\n",
        "\n",
        "    # loss = loss_function(outputs,labels)\n",
        "\n",
        "    # print(type(labels[0].item()))\n",
        "    # print(type(outputs[0].item()))\n",
        "    # print(labels.dtype)\n",
        "    # print(outputs.dtype)\n",
        "    # print(loss)\n",
        "    # print(type(loss))\n",
        "    # print(loss)\n",
        "    loss.backward()\n",
        "    optimizer.step()\n",
        "\n",
        "    total_batches+=1\n",
        "\n",
        "    # predClass = torch.max(outputs.data, 1)[1]\n",
        "    # predClass = [1.0 if i > 0.5 else 0.0 for i in outputs]\n",
        "    \n",
        "    # predClass = torch.tensor(predClass).to(device)\n",
        "    # print(predClass)\n",
        "    # print(labels)\n",
        "\n",
        "    # correct_train_pred += (predClass==labels).sum()\n",
        "    # total_samples += len(labels)\n",
        "  return loss\n",
        "\n",
        "def evaluateGated(GatedModel,loader,device, model_List):\n",
        "  correct=0\n",
        "  total_samples = 0\n",
        "  for i, (images,labels) in enumerate(loader):\n",
        "    images = images.reshape(-1, 32*32*3)\n",
        "\n",
        "    images = images.to(device)\n",
        "    labels = labels.to(device)\n",
        "\n",
        "    for k in range(len(images)):\n",
        "      image = images[k].to(device)\n",
        "      GateProb = GatedModel(image)\n",
        "      # print(type(GateProb),GateProb)\n",
        "      # break\n",
        "    # GateProb = GatedModel(images)\n",
        "      pred = 0\n",
        "    # print(type(GateProb),GateProb)\n",
        "\n",
        "      for j in range(len(model_List)):\n",
        "        pred += GateProb[j] * model_List[j](image)\n",
        "        # print(\"pred value\",pred)\n",
        "      # print(\"final prediction\",pred)\n",
        "      # pred = GateProb *\n",
        "      # print(\"pred\",pred,\"label\",labels[k])\n",
        "      if (pred > 0.5 and labels[k] == 1) or (pred <= 0.5 and labels[k] == 0):\n",
        "        correct += 1\n",
        "      total_samples += 1\n",
        "    \n",
        "    \n",
        "  return correct/total_samples\n",
        "  "
      ],
      "metadata": {
        "id": "qk4VleIf4URe"
      },
      "execution_count": 38,
      "outputs": []
    },
    {
      "cell_type": "code",
      "source": [
        "List_observations=[]"
      ],
      "metadata": {
        "id": "NxySNdwH4ejc"
      },
      "execution_count": 8,
      "outputs": []
    },
    {
      "cell_type": "code",
      "source": [
        "ExpertModels = TrainExperts(2)\n",
        "\n",
        "Gating_model = Gating(32*32*3, 2).to(device)\n",
        "loss_criteria = nn.CrossEntropyLoss()\n",
        "AdamOpt = torch.optim.Adam(Gating_model.parameters(), lr=0.0001)\n",
        "\n",
        "trainGated(Gating_model,AdamOpt,loss_criteria,device,train_loader, ExpertModels)"
      ],
      "metadata": {
        "colab": {
          "base_uri": "https://localhost:8080/"
        },
        "id": "pDmZrejI4X-U",
        "outputId": "275f4257-ef9f-4fb0-ddd1-60cb1e8b8b9b"
      },
      "execution_count": 37,
      "outputs": [
        {
          "output_type": "stream",
          "name": "stderr",
          "text": [
            "\r  0%|          | 0/20 [00:00<?, ?it/s]<ipython-input-36-5704d1e767e3>:12: UserWarning: To copy construct from a tensor, it is recommended to use sourceTensor.clone().detach() or sourceTensor.clone().detach().requires_grad_(True), rather than torch.tensor(sourceTensor).\n",
            "  labels = torch.tensor(labels,dtype=torch.float32).to(device)\n",
            "  5%|▌         | 1/20 [00:02<00:51,  2.70s/it]"
          ]
        },
        {
          "output_type": "stream",
          "name": "stdout",
          "text": [
            "EPOCH -  1 . Train Accuracy =  0.609375 , Validation Accuracy =  0.6013333201408386\n",
            "Model Re-Saved\n"
          ]
        },
        {
          "output_type": "stream",
          "name": "stderr",
          "text": [
            "\r 10%|█         | 2/20 [00:05<00:45,  2.51s/it]"
          ]
        },
        {
          "output_type": "stream",
          "name": "stdout",
          "text": [
            "EPOCH -  2 . Train Accuracy =  0.671875 , Validation Accuracy =  0.39559999108314514\n"
          ]
        },
        {
          "output_type": "stream",
          "name": "stderr",
          "text": [
            "\r 15%|█▌        | 3/20 [00:07<00:41,  2.47s/it]"
          ]
        },
        {
          "output_type": "stream",
          "name": "stdout",
          "text": [
            "EPOCH -  3 . Train Accuracy =  0.4375 , Validation Accuracy =  0.39559999108314514\n"
          ]
        },
        {
          "output_type": "stream",
          "name": "stderr",
          "text": [
            "\r 20%|██        | 4/20 [00:09<00:38,  2.42s/it]"
          ]
        },
        {
          "output_type": "stream",
          "name": "stdout",
          "text": [
            "EPOCH -  4 . Train Accuracy =  0.421875 , Validation Accuracy =  0.39559999108314514\n"
          ]
        },
        {
          "output_type": "stream",
          "name": "stderr",
          "text": [
            "\r 25%|██▌       | 5/20 [00:12<00:39,  2.63s/it]"
          ]
        },
        {
          "output_type": "stream",
          "name": "stdout",
          "text": [
            "EPOCH -  5 . Train Accuracy =  0.4375 , Validation Accuracy =  0.39559999108314514\n"
          ]
        },
        {
          "output_type": "stream",
          "name": "stderr",
          "text": [
            "\r 30%|███       | 6/20 [00:15<00:36,  2.59s/it]"
          ]
        },
        {
          "output_type": "stream",
          "name": "stdout",
          "text": [
            "EPOCH -  6 . Train Accuracy =  0.40625 , Validation Accuracy =  0.39559999108314514\n"
          ]
        },
        {
          "output_type": "stream",
          "name": "stderr",
          "text": [
            "\r 35%|███▌      | 7/20 [00:17<00:32,  2.52s/it]"
          ]
        },
        {
          "output_type": "stream",
          "name": "stdout",
          "text": [
            "EPOCH -  7 . Train Accuracy =  0.453125 , Validation Accuracy =  0.39559999108314514\n"
          ]
        },
        {
          "output_type": "stream",
          "name": "stderr",
          "text": [
            "\r 40%|████      | 8/20 [00:20<00:29,  2.49s/it]"
          ]
        },
        {
          "output_type": "stream",
          "name": "stdout",
          "text": [
            "EPOCH -  8 . Train Accuracy =  0.578125 , Validation Accuracy =  0.39559999108314514\n"
          ]
        },
        {
          "output_type": "stream",
          "name": "stderr",
          "text": [
            "\r 45%|████▌     | 9/20 [00:22<00:27,  2.46s/it]"
          ]
        },
        {
          "output_type": "stream",
          "name": "stdout",
          "text": [
            "EPOCH -  9 . Train Accuracy =  0.375 , Validation Accuracy =  0.39559999108314514\n"
          ]
        },
        {
          "output_type": "stream",
          "name": "stderr",
          "text": [
            "\r 50%|█████     | 10/20 [00:25<00:26,  2.66s/it]"
          ]
        },
        {
          "output_type": "stream",
          "name": "stdout",
          "text": [
            "EPOCH -  10 . Train Accuracy =  0.359375 , Validation Accuracy =  0.39559999108314514\n"
          ]
        },
        {
          "output_type": "stream",
          "name": "stderr",
          "text": [
            "\r 55%|█████▌    | 11/20 [00:28<00:23,  2.58s/it]"
          ]
        },
        {
          "output_type": "stream",
          "name": "stdout",
          "text": [
            "EPOCH -  11 . Train Accuracy =  0.421875 , Validation Accuracy =  0.39559999108314514\n"
          ]
        },
        {
          "output_type": "stream",
          "name": "stderr",
          "text": [
            "\r 60%|██████    | 12/20 [00:30<00:20,  2.53s/it]"
          ]
        },
        {
          "output_type": "stream",
          "name": "stdout",
          "text": [
            "EPOCH -  12 . Train Accuracy =  0.421875 , Validation Accuracy =  0.39559999108314514\n"
          ]
        },
        {
          "output_type": "stream",
          "name": "stderr",
          "text": [
            "\r 65%|██████▌   | 13/20 [00:32<00:17,  2.49s/it]"
          ]
        },
        {
          "output_type": "stream",
          "name": "stdout",
          "text": [
            "EPOCH -  13 . Train Accuracy =  0.40625 , Validation Accuracy =  0.39559999108314514\n"
          ]
        },
        {
          "output_type": "stream",
          "name": "stderr",
          "text": [
            "\r 70%|███████   | 14/20 [00:35<00:14,  2.45s/it]"
          ]
        },
        {
          "output_type": "stream",
          "name": "stdout",
          "text": [
            "EPOCH -  14 . Train Accuracy =  0.359375 , Validation Accuracy =  0.39559999108314514\n"
          ]
        },
        {
          "output_type": "stream",
          "name": "stderr",
          "text": [
            "\r 75%|███████▌  | 15/20 [00:38<00:13,  2.64s/it]"
          ]
        },
        {
          "output_type": "stream",
          "name": "stdout",
          "text": [
            "EPOCH -  15 . Train Accuracy =  0.4375 , Validation Accuracy =  0.39559999108314514\n"
          ]
        },
        {
          "output_type": "stream",
          "name": "stderr",
          "text": [
            "\r 80%|████████  | 16/20 [00:40<00:10,  2.57s/it]"
          ]
        },
        {
          "output_type": "stream",
          "name": "stdout",
          "text": [
            "EPOCH -  16 . Train Accuracy =  0.421875 , Validation Accuracy =  0.39559999108314514\n"
          ]
        },
        {
          "output_type": "stream",
          "name": "stderr",
          "text": [
            "\r 85%|████████▌ | 17/20 [00:43<00:07,  2.51s/it]"
          ]
        },
        {
          "output_type": "stream",
          "name": "stdout",
          "text": [
            "EPOCH -  17 . Train Accuracy =  0.421875 , Validation Accuracy =  0.39559999108314514\n"
          ]
        },
        {
          "output_type": "stream",
          "name": "stderr",
          "text": [
            "\r 90%|█████████ | 18/20 [00:45<00:04,  2.47s/it]"
          ]
        },
        {
          "output_type": "stream",
          "name": "stdout",
          "text": [
            "EPOCH -  18 . Train Accuracy =  0.34375 , Validation Accuracy =  0.39559999108314514\n"
          ]
        },
        {
          "output_type": "stream",
          "name": "stderr",
          "text": [
            "\r 95%|█████████▌| 19/20 [00:48<00:02,  2.52s/it]"
          ]
        },
        {
          "output_type": "stream",
          "name": "stdout",
          "text": [
            "EPOCH -  19 . Train Accuracy =  0.46875 , Validation Accuracy =  0.39559999108314514\n"
          ]
        },
        {
          "output_type": "stream",
          "name": "stderr",
          "text": [
            "100%|██████████| 20/20 [00:50<00:00,  2.55s/it]\n"
          ]
        },
        {
          "output_type": "stream",
          "name": "stdout",
          "text": [
            "EPOCH -  20 . Train Accuracy =  0.375 , Validation Accuracy =  0.39559999108314514\n"
          ]
        },
        {
          "output_type": "stream",
          "name": "stderr",
          "text": [
            "  5%|▌         | 1/20 [00:02<00:46,  2.44s/it]"
          ]
        },
        {
          "output_type": "stream",
          "name": "stdout",
          "text": [
            "EPOCH -  1 . Train Accuracy =  0.46875 , Validation Accuracy =  0.6013333201408386\n",
            "Model Re-Saved\n"
          ]
        },
        {
          "output_type": "stream",
          "name": "stderr",
          "text": [
            "\r 10%|█         | 2/20 [00:04<00:43,  2.43s/it]"
          ]
        },
        {
          "output_type": "stream",
          "name": "stdout",
          "text": [
            "EPOCH -  2 . Train Accuracy =  0.59375 , Validation Accuracy =  0.39559999108314514\n"
          ]
        },
        {
          "output_type": "stream",
          "name": "stderr",
          "text": [
            "\r 15%|█▌        | 3/20 [00:07<00:41,  2.42s/it]"
          ]
        },
        {
          "output_type": "stream",
          "name": "stdout",
          "text": [
            "EPOCH -  3 . Train Accuracy =  0.46875 , Validation Accuracy =  0.39559999108314514\n"
          ]
        },
        {
          "output_type": "stream",
          "name": "stderr",
          "text": [
            "\r 20%|██        | 4/20 [00:10<00:41,  2.57s/it]"
          ]
        },
        {
          "output_type": "stream",
          "name": "stdout",
          "text": [
            "EPOCH -  4 . Train Accuracy =  0.53125 , Validation Accuracy =  0.39559999108314514\n"
          ]
        },
        {
          "output_type": "stream",
          "name": "stderr",
          "text": [
            "\r 25%|██▌       | 5/20 [00:12<00:39,  2.61s/it]"
          ]
        },
        {
          "output_type": "stream",
          "name": "stdout",
          "text": [
            "EPOCH -  5 . Train Accuracy =  0.4375 , Validation Accuracy =  0.39559999108314514\n"
          ]
        },
        {
          "output_type": "stream",
          "name": "stderr",
          "text": [
            "\r 30%|███       | 6/20 [00:15<00:35,  2.53s/it]"
          ]
        },
        {
          "output_type": "stream",
          "name": "stdout",
          "text": [
            "EPOCH -  6 . Train Accuracy =  0.34375 , Validation Accuracy =  0.39559999108314514\n"
          ]
        },
        {
          "output_type": "stream",
          "name": "stderr",
          "text": [
            "\r 35%|███▌      | 7/20 [00:17<00:32,  2.48s/it]"
          ]
        },
        {
          "output_type": "stream",
          "name": "stdout",
          "text": [
            "EPOCH -  7 . Train Accuracy =  0.453125 , Validation Accuracy =  0.39559999108314514\n"
          ]
        },
        {
          "output_type": "stream",
          "name": "stderr",
          "text": [
            "\r 40%|████      | 8/20 [00:19<00:29,  2.45s/it]"
          ]
        },
        {
          "output_type": "stream",
          "name": "stdout",
          "text": [
            "EPOCH -  8 . Train Accuracy =  0.453125 , Validation Accuracy =  0.39559999108314514\n"
          ]
        },
        {
          "output_type": "stream",
          "name": "stderr",
          "text": [
            "\r 45%|████▌     | 9/20 [00:22<00:29,  2.65s/it]"
          ]
        },
        {
          "output_type": "stream",
          "name": "stdout",
          "text": [
            "EPOCH -  9 . Train Accuracy =  0.40625 , Validation Accuracy =  0.39559999108314514\n"
          ]
        },
        {
          "output_type": "stream",
          "name": "stderr",
          "text": [
            "\r 50%|█████     | 10/20 [00:25<00:26,  2.60s/it]"
          ]
        },
        {
          "output_type": "stream",
          "name": "stdout",
          "text": [
            "EPOCH -  10 . Train Accuracy =  0.34375 , Validation Accuracy =  0.39559999108314514\n"
          ]
        },
        {
          "output_type": "stream",
          "name": "stderr",
          "text": [
            "\r 55%|█████▌    | 11/20 [00:27<00:22,  2.52s/it]"
          ]
        },
        {
          "output_type": "stream",
          "name": "stdout",
          "text": [
            "EPOCH -  11 . Train Accuracy =  0.359375 , Validation Accuracy =  0.39559999108314514\n"
          ]
        },
        {
          "output_type": "stream",
          "name": "stderr",
          "text": [
            "\r 60%|██████    | 12/20 [00:30<00:19,  2.48s/it]"
          ]
        },
        {
          "output_type": "stream",
          "name": "stdout",
          "text": [
            "EPOCH -  12 . Train Accuracy =  0.34375 , Validation Accuracy =  0.39559999108314514\n"
          ]
        },
        {
          "output_type": "stream",
          "name": "stderr",
          "text": [
            "\r 65%|██████▌   | 13/20 [00:32<00:17,  2.46s/it]"
          ]
        },
        {
          "output_type": "stream",
          "name": "stdout",
          "text": [
            "EPOCH -  13 . Train Accuracy =  0.296875 , Validation Accuracy =  0.39559999108314514\n"
          ]
        },
        {
          "output_type": "stream",
          "name": "stderr",
          "text": [
            "\r 70%|███████   | 14/20 [00:35<00:15,  2.66s/it]"
          ]
        },
        {
          "output_type": "stream",
          "name": "stdout",
          "text": [
            "EPOCH -  14 . Train Accuracy =  0.421875 , Validation Accuracy =  0.39559999108314514\n"
          ]
        },
        {
          "output_type": "stream",
          "name": "stderr",
          "text": [
            "\r 75%|███████▌  | 15/20 [00:38<00:12,  2.58s/it]"
          ]
        },
        {
          "output_type": "stream",
          "name": "stdout",
          "text": [
            "EPOCH -  15 . Train Accuracy =  0.4375 , Validation Accuracy =  0.39559999108314514\n"
          ]
        },
        {
          "output_type": "stream",
          "name": "stderr",
          "text": [
            "\r 80%|████████  | 16/20 [00:40<00:10,  2.52s/it]"
          ]
        },
        {
          "output_type": "stream",
          "name": "stdout",
          "text": [
            "EPOCH -  16 . Train Accuracy =  0.328125 , Validation Accuracy =  0.39559999108314514\n"
          ]
        },
        {
          "output_type": "stream",
          "name": "stderr",
          "text": [
            "\r 85%|████████▌ | 17/20 [00:42<00:07,  2.48s/it]"
          ]
        },
        {
          "output_type": "stream",
          "name": "stdout",
          "text": [
            "EPOCH -  17 . Train Accuracy =  0.3125 , Validation Accuracy =  0.39559999108314514\n"
          ]
        },
        {
          "output_type": "stream",
          "name": "stderr",
          "text": [
            "\r 90%|█████████ | 18/20 [00:45<00:04,  2.45s/it]"
          ]
        },
        {
          "output_type": "stream",
          "name": "stdout",
          "text": [
            "EPOCH -  18 . Train Accuracy =  0.390625 , Validation Accuracy =  0.39559999108314514\n"
          ]
        },
        {
          "output_type": "stream",
          "name": "stderr",
          "text": [
            "\r 95%|█████████▌| 19/20 [00:48<00:02,  2.64s/it]"
          ]
        },
        {
          "output_type": "stream",
          "name": "stdout",
          "text": [
            "EPOCH -  19 . Train Accuracy =  0.40625 , Validation Accuracy =  0.39559999108314514\n"
          ]
        },
        {
          "output_type": "stream",
          "name": "stderr",
          "text": [
            "100%|██████████| 20/20 [00:50<00:00,  2.54s/it]"
          ]
        },
        {
          "output_type": "stream",
          "name": "stdout",
          "text": [
            "EPOCH -  20 . Train Accuracy =  0.421875 , Validation Accuracy =  0.39559999108314514\n"
          ]
        },
        {
          "output_type": "stream",
          "name": "stderr",
          "text": [
            "\n",
            "<ipython-input-2-98ef64b1a863>:27: UserWarning: Implicit dimension choice for softmax has been deprecated. Change the call to include dim=X as an argument.\n",
            "  x = self.SftMax(self.fc1(x))\n"
          ]
        },
        {
          "output_type": "execute_result",
          "data": {
            "text/plain": [
              "tensor([1.0000], device='cuda:0', grad_fn=<AddBackward0>)"
            ]
          },
          "metadata": {},
          "execution_count": 37
        }
      ]
    },
    {
      "cell_type": "code",
      "source": [
        "val=evaluateGated(Gating_model,test_loader,device, ExpertModels)\n",
        "print(val)\n",
        "List_observations.append(val)"
      ],
      "metadata": {
        "colab": {
          "base_uri": "https://localhost:8080/"
        },
        "id": "iyr5oaWz4bxX",
        "outputId": "424e1c65-cb44-48fc-a3c0-7958ca700988"
      },
      "execution_count": 39,
      "outputs": [
        {
          "output_type": "stream",
          "name": "stderr",
          "text": [
            "<ipython-input-2-98ef64b1a863>:27: UserWarning: Implicit dimension choice for softmax has been deprecated. Change the call to include dim=X as an argument.\n",
            "  x = self.SftMax(self.fc1(x))\n"
          ]
        },
        {
          "output_type": "stream",
          "name": "stdout",
          "text": [
            "0.5989\n"
          ]
        }
      ]
    },
    {
      "cell_type": "code",
      "source": [
        "ExpertModels = TrainExperts(4)\n",
        "\n",
        "Gating_model = Gating(32*32*3, 4).to(device)\n",
        "loss_criteria = nn.CrossEntropyLoss()\n",
        "AdamOpt = torch.optim.Adam(Gating_model.parameters(), lr=0.0001)\n",
        "\n",
        "trainGated(Gating_model,AdamOpt,loss_criteria,device,train_loader, ExpertModels)"
      ],
      "metadata": {
        "colab": {
          "base_uri": "https://localhost:8080/"
        },
        "id": "f-wT6bI58sea",
        "outputId": "8a8b2682-1974-472c-9dad-0155774bc113"
      },
      "execution_count": 40,
      "outputs": [
        {
          "output_type": "stream",
          "name": "stderr",
          "text": [
            "\r  0%|          | 0/20 [00:00<?, ?it/s]<ipython-input-36-5704d1e767e3>:12: UserWarning: To copy construct from a tensor, it is recommended to use sourceTensor.clone().detach() or sourceTensor.clone().detach().requires_grad_(True), rather than torch.tensor(sourceTensor).\n",
            "  labels = torch.tensor(labels,dtype=torch.float32).to(device)\n",
            "  5%|▌         | 1/20 [00:02<00:45,  2.40s/it]"
          ]
        },
        {
          "output_type": "stream",
          "name": "stdout",
          "text": [
            "EPOCH -  1 . Train Accuracy =  0.515625 , Validation Accuracy =  0.6041333675384521\n",
            "Model Re-Saved\n"
          ]
        },
        {
          "output_type": "stream",
          "name": "stderr",
          "text": [
            "\r 10%|█         | 2/20 [00:05<00:50,  2.80s/it]"
          ]
        },
        {
          "output_type": "stream",
          "name": "stdout",
          "text": [
            "EPOCH -  2 . Train Accuracy =  0.671875 , Validation Accuracy =  0.39239999651908875\n"
          ]
        },
        {
          "output_type": "stream",
          "name": "stderr",
          "text": [
            "\r 15%|█▌        | 3/20 [00:07<00:44,  2.63s/it]"
          ]
        },
        {
          "output_type": "stream",
          "name": "stdout",
          "text": [
            "EPOCH -  3 . Train Accuracy =  0.359375 , Validation Accuracy =  0.6043999791145325\n",
            "Model Re-Saved\n"
          ]
        },
        {
          "output_type": "stream",
          "name": "stderr",
          "text": [
            "\r 20%|██        | 4/20 [00:10<00:40,  2.55s/it]"
          ]
        },
        {
          "output_type": "stream",
          "name": "stdout",
          "text": [
            "EPOCH -  4 . Train Accuracy =  0.578125 , Validation Accuracy =  0.6043999791145325\n"
          ]
        },
        {
          "output_type": "stream",
          "name": "stderr",
          "text": [
            "\r 25%|██▌       | 5/20 [00:12<00:37,  2.49s/it]"
          ]
        },
        {
          "output_type": "stream",
          "name": "stdout",
          "text": [
            "EPOCH -  5 . Train Accuracy =  0.546875 , Validation Accuracy =  0.6043999791145325\n"
          ]
        },
        {
          "output_type": "stream",
          "name": "stderr",
          "text": [
            "\r 30%|███       | 6/20 [00:15<00:35,  2.51s/it]"
          ]
        },
        {
          "output_type": "stream",
          "name": "stdout",
          "text": [
            "EPOCH -  6 . Train Accuracy =  0.5625 , Validation Accuracy =  0.6043999791145325\n"
          ]
        },
        {
          "output_type": "stream",
          "name": "stderr",
          "text": [
            "\r 35%|███▌      | 7/20 [00:18<00:34,  2.66s/it]"
          ]
        },
        {
          "output_type": "stream",
          "name": "stdout",
          "text": [
            "EPOCH -  7 . Train Accuracy =  0.625 , Validation Accuracy =  0.6043999791145325\n"
          ]
        },
        {
          "output_type": "stream",
          "name": "stderr",
          "text": [
            "\r 40%|████      | 8/20 [00:20<00:30,  2.57s/it]"
          ]
        },
        {
          "output_type": "stream",
          "name": "stdout",
          "text": [
            "EPOCH -  8 . Train Accuracy =  0.5625 , Validation Accuracy =  0.6043999791145325\n"
          ]
        },
        {
          "output_type": "stream",
          "name": "stderr",
          "text": [
            "\r 45%|████▌     | 9/20 [00:23<00:27,  2.53s/it]"
          ]
        },
        {
          "output_type": "stream",
          "name": "stdout",
          "text": [
            "EPOCH -  9 . Train Accuracy =  0.59375 , Validation Accuracy =  0.6043999791145325\n"
          ]
        },
        {
          "output_type": "stream",
          "name": "stderr",
          "text": [
            "\r 50%|█████     | 10/20 [00:25<00:24,  2.48s/it]"
          ]
        },
        {
          "output_type": "stream",
          "name": "stdout",
          "text": [
            "EPOCH -  10 . Train Accuracy =  0.625 , Validation Accuracy =  0.6043999791145325\n"
          ]
        },
        {
          "output_type": "stream",
          "name": "stderr",
          "text": [
            "\r 55%|█████▌    | 11/20 [00:28<00:22,  2.54s/it]"
          ]
        },
        {
          "output_type": "stream",
          "name": "stdout",
          "text": [
            "EPOCH -  11 . Train Accuracy =  0.59375 , Validation Accuracy =  0.6043999791145325\n"
          ]
        },
        {
          "output_type": "stream",
          "name": "stderr",
          "text": [
            "\r 60%|██████    | 12/20 [00:30<00:20,  2.60s/it]"
          ]
        },
        {
          "output_type": "stream",
          "name": "stdout",
          "text": [
            "EPOCH -  12 . Train Accuracy =  0.6875 , Validation Accuracy =  0.6043999791145325\n"
          ]
        },
        {
          "output_type": "stream",
          "name": "stderr",
          "text": [
            "\r 65%|██████▌   | 13/20 [00:33<00:17,  2.54s/it]"
          ]
        },
        {
          "output_type": "stream",
          "name": "stdout",
          "text": [
            "EPOCH -  13 . Train Accuracy =  0.53125 , Validation Accuracy =  0.6043999791145325\n"
          ]
        },
        {
          "output_type": "stream",
          "name": "stderr",
          "text": [
            "\r 70%|███████   | 14/20 [00:35<00:14,  2.49s/it]"
          ]
        },
        {
          "output_type": "stream",
          "name": "stdout",
          "text": [
            "EPOCH -  14 . Train Accuracy =  0.578125 , Validation Accuracy =  0.6043999791145325\n"
          ]
        },
        {
          "output_type": "stream",
          "name": "stderr",
          "text": [
            "\r 75%|███████▌  | 15/20 [00:38<00:12,  2.47s/it]"
          ]
        },
        {
          "output_type": "stream",
          "name": "stdout",
          "text": [
            "EPOCH -  15 . Train Accuracy =  0.625 , Validation Accuracy =  0.6043999791145325\n"
          ]
        },
        {
          "output_type": "stream",
          "name": "stderr",
          "text": [
            "\r 80%|████████  | 16/20 [00:40<00:10,  2.57s/it]"
          ]
        },
        {
          "output_type": "stream",
          "name": "stdout",
          "text": [
            "EPOCH -  16 . Train Accuracy =  0.5625 , Validation Accuracy =  0.6043999791145325\n"
          ]
        },
        {
          "output_type": "stream",
          "name": "stderr",
          "text": [
            "\r 85%|████████▌ | 17/20 [00:43<00:07,  2.58s/it]"
          ]
        },
        {
          "output_type": "stream",
          "name": "stdout",
          "text": [
            "EPOCH -  17 . Train Accuracy =  0.515625 , Validation Accuracy =  0.6043999791145325\n"
          ]
        },
        {
          "output_type": "stream",
          "name": "stderr",
          "text": [
            "\r 90%|█████████ | 18/20 [00:45<00:05,  2.52s/it]"
          ]
        },
        {
          "output_type": "stream",
          "name": "stdout",
          "text": [
            "EPOCH -  18 . Train Accuracy =  0.578125 , Validation Accuracy =  0.6043999791145325\n"
          ]
        },
        {
          "output_type": "stream",
          "name": "stderr",
          "text": [
            "\r 95%|█████████▌| 19/20 [00:48<00:02,  2.50s/it]"
          ]
        },
        {
          "output_type": "stream",
          "name": "stdout",
          "text": [
            "EPOCH -  19 . Train Accuracy =  0.53125 , Validation Accuracy =  0.6043999791145325\n"
          ]
        },
        {
          "output_type": "stream",
          "name": "stderr",
          "text": [
            "100%|██████████| 20/20 [00:50<00:00,  2.54s/it]\n"
          ]
        },
        {
          "output_type": "stream",
          "name": "stdout",
          "text": [
            "EPOCH -  20 . Train Accuracy =  0.65625 , Validation Accuracy =  0.6043999791145325\n"
          ]
        },
        {
          "output_type": "stream",
          "name": "stderr",
          "text": [
            "  5%|▌         | 1/20 [00:03<00:59,  3.14s/it]"
          ]
        },
        {
          "output_type": "stream",
          "name": "stdout",
          "text": [
            "EPOCH -  1 . Train Accuracy =  0.578125 , Validation Accuracy =  0.6043999791145325\n",
            "Model Re-Saved\n"
          ]
        },
        {
          "output_type": "stream",
          "name": "stderr",
          "text": [
            "\r 10%|█         | 2/20 [00:05<00:48,  2.69s/it]"
          ]
        },
        {
          "output_type": "stream",
          "name": "stdout",
          "text": [
            "EPOCH -  2 . Train Accuracy =  0.625 , Validation Accuracy =  0.5445333123207092\n"
          ]
        },
        {
          "output_type": "stream",
          "name": "stderr",
          "text": [
            "\r 15%|█▌        | 3/20 [00:07<00:43,  2.57s/it]"
          ]
        },
        {
          "output_type": "stream",
          "name": "stdout",
          "text": [
            "EPOCH -  3 . Train Accuracy =  0.640625 , Validation Accuracy =  0.39559999108314514\n"
          ]
        },
        {
          "output_type": "stream",
          "name": "stderr",
          "text": [
            "\r 20%|██        | 4/20 [00:10<00:39,  2.50s/it]"
          ]
        },
        {
          "output_type": "stream",
          "name": "stdout",
          "text": [
            "EPOCH -  4 . Train Accuracy =  0.421875 , Validation Accuracy =  0.39559999108314514\n"
          ]
        },
        {
          "output_type": "stream",
          "name": "stderr",
          "text": [
            "\r 25%|██▌       | 5/20 [00:12<00:36,  2.46s/it]"
          ]
        },
        {
          "output_type": "stream",
          "name": "stdout",
          "text": [
            "EPOCH -  5 . Train Accuracy =  0.34375 , Validation Accuracy =  0.39559999108314514\n"
          ]
        },
        {
          "output_type": "stream",
          "name": "stderr",
          "text": [
            "\r 30%|███       | 6/20 [00:15<00:37,  2.67s/it]"
          ]
        },
        {
          "output_type": "stream",
          "name": "stdout",
          "text": [
            "EPOCH -  6 . Train Accuracy =  0.328125 , Validation Accuracy =  0.39559999108314514\n"
          ]
        },
        {
          "output_type": "stream",
          "name": "stderr",
          "text": [
            "\r 35%|███▌      | 7/20 [00:18<00:33,  2.58s/it]"
          ]
        },
        {
          "output_type": "stream",
          "name": "stdout",
          "text": [
            "EPOCH -  7 . Train Accuracy =  0.5625 , Validation Accuracy =  0.39559999108314514\n"
          ]
        },
        {
          "output_type": "stream",
          "name": "stderr",
          "text": [
            "\r 40%|████      | 8/20 [00:20<00:30,  2.52s/it]"
          ]
        },
        {
          "output_type": "stream",
          "name": "stdout",
          "text": [
            "EPOCH -  8 . Train Accuracy =  0.546875 , Validation Accuracy =  0.39559999108314514\n"
          ]
        },
        {
          "output_type": "stream",
          "name": "stderr",
          "text": [
            "\r 45%|████▌     | 9/20 [00:22<00:27,  2.48s/it]"
          ]
        },
        {
          "output_type": "stream",
          "name": "stdout",
          "text": [
            "EPOCH -  9 . Train Accuracy =  0.390625 , Validation Accuracy =  0.39559999108314514\n"
          ]
        },
        {
          "output_type": "stream",
          "name": "stderr",
          "text": [
            "\r 50%|█████     | 10/20 [00:25<00:24,  2.44s/it]"
          ]
        },
        {
          "output_type": "stream",
          "name": "stdout",
          "text": [
            "EPOCH -  10 . Train Accuracy =  0.390625 , Validation Accuracy =  0.39559999108314514\n"
          ]
        },
        {
          "output_type": "stream",
          "name": "stderr",
          "text": [
            "\r 55%|█████▌    | 11/20 [00:28<00:23,  2.64s/it]"
          ]
        },
        {
          "output_type": "stream",
          "name": "stdout",
          "text": [
            "EPOCH -  11 . Train Accuracy =  0.34375 , Validation Accuracy =  0.39559999108314514\n"
          ]
        },
        {
          "output_type": "stream",
          "name": "stderr",
          "text": [
            "\r 60%|██████    | 12/20 [00:30<00:20,  2.56s/it]"
          ]
        },
        {
          "output_type": "stream",
          "name": "stdout",
          "text": [
            "EPOCH -  12 . Train Accuracy =  0.453125 , Validation Accuracy =  0.39559999108314514\n"
          ]
        },
        {
          "output_type": "stream",
          "name": "stderr",
          "text": [
            "\r 65%|██████▌   | 13/20 [00:33<00:17,  2.53s/it]"
          ]
        },
        {
          "output_type": "stream",
          "name": "stdout",
          "text": [
            "EPOCH -  13 . Train Accuracy =  0.390625 , Validation Accuracy =  0.39559999108314514\n"
          ]
        },
        {
          "output_type": "stream",
          "name": "stderr",
          "text": [
            "\r 70%|███████   | 14/20 [00:35<00:15,  2.51s/it]"
          ]
        },
        {
          "output_type": "stream",
          "name": "stdout",
          "text": [
            "EPOCH -  14 . Train Accuracy =  0.4375 , Validation Accuracy =  0.39559999108314514\n"
          ]
        },
        {
          "output_type": "stream",
          "name": "stderr",
          "text": [
            "\r 75%|███████▌  | 15/20 [00:38<00:12,  2.55s/it]"
          ]
        },
        {
          "output_type": "stream",
          "name": "stdout",
          "text": [
            "EPOCH -  15 . Train Accuracy =  0.359375 , Validation Accuracy =  0.39559999108314514\n"
          ]
        },
        {
          "output_type": "stream",
          "name": "stderr",
          "text": [
            "\r 80%|████████  | 16/20 [00:41<00:10,  2.64s/it]"
          ]
        },
        {
          "output_type": "stream",
          "name": "stdout",
          "text": [
            "EPOCH -  16 . Train Accuracy =  0.375 , Validation Accuracy =  0.39559999108314514\n"
          ]
        },
        {
          "output_type": "stream",
          "name": "stderr",
          "text": [
            "\r 85%|████████▌ | 17/20 [00:43<00:07,  2.56s/it]"
          ]
        },
        {
          "output_type": "stream",
          "name": "stdout",
          "text": [
            "EPOCH -  17 . Train Accuracy =  0.3125 , Validation Accuracy =  0.39559999108314514\n"
          ]
        },
        {
          "output_type": "stream",
          "name": "stderr",
          "text": [
            "\r 90%|█████████ | 18/20 [00:45<00:05,  2.51s/it]"
          ]
        },
        {
          "output_type": "stream",
          "name": "stdout",
          "text": [
            "EPOCH -  18 . Train Accuracy =  0.421875 , Validation Accuracy =  0.39559999108314514\n"
          ]
        },
        {
          "output_type": "stream",
          "name": "stderr",
          "text": [
            "\r 95%|█████████▌| 19/20 [00:48<00:02,  2.47s/it]"
          ]
        },
        {
          "output_type": "stream",
          "name": "stdout",
          "text": [
            "EPOCH -  19 . Train Accuracy =  0.40625 , Validation Accuracy =  0.39559999108314514\n"
          ]
        },
        {
          "output_type": "stream",
          "name": "stderr",
          "text": [
            "100%|██████████| 20/20 [00:51<00:00,  2.56s/it]\n"
          ]
        },
        {
          "output_type": "stream",
          "name": "stdout",
          "text": [
            "EPOCH -  20 . Train Accuracy =  0.46875 , Validation Accuracy =  0.39559999108314514\n"
          ]
        },
        {
          "output_type": "stream",
          "name": "stderr",
          "text": [
            "  5%|▌         | 1/20 [00:02<00:50,  2.65s/it]"
          ]
        },
        {
          "output_type": "stream",
          "name": "stdout",
          "text": [
            "EPOCH -  1 . Train Accuracy =  0.484375 , Validation Accuracy =  0.6040000319480896\n",
            "Model Re-Saved\n"
          ]
        },
        {
          "output_type": "stream",
          "name": "stderr",
          "text": [
            "\r 10%|█         | 2/20 [00:05<00:44,  2.49s/it]"
          ]
        },
        {
          "output_type": "stream",
          "name": "stdout",
          "text": [
            "EPOCH -  2 . Train Accuracy =  0.640625 , Validation Accuracy =  0.39559999108314514\n"
          ]
        },
        {
          "output_type": "stream",
          "name": "stderr",
          "text": [
            "\r 15%|█▌        | 3/20 [00:07<00:41,  2.45s/it]"
          ]
        },
        {
          "output_type": "stream",
          "name": "stdout",
          "text": [
            "EPOCH -  3 . Train Accuracy =  0.34375 , Validation Accuracy =  0.39559999108314514\n"
          ]
        },
        {
          "output_type": "stream",
          "name": "stderr",
          "text": [
            "\r 20%|██        | 4/20 [00:09<00:38,  2.43s/it]"
          ]
        },
        {
          "output_type": "stream",
          "name": "stdout",
          "text": [
            "EPOCH -  4 . Train Accuracy =  0.46875 , Validation Accuracy =  0.39559999108314514\n"
          ]
        },
        {
          "output_type": "stream",
          "name": "stderr",
          "text": [
            "\r 25%|██▌       | 5/20 [00:12<00:39,  2.64s/it]"
          ]
        },
        {
          "output_type": "stream",
          "name": "stdout",
          "text": [
            "EPOCH -  5 . Train Accuracy =  0.5 , Validation Accuracy =  0.39559999108314514\n"
          ]
        },
        {
          "output_type": "stream",
          "name": "stderr",
          "text": [
            "\r 30%|███       | 6/20 [00:15<00:36,  2.58s/it]"
          ]
        },
        {
          "output_type": "stream",
          "name": "stdout",
          "text": [
            "EPOCH -  6 . Train Accuracy =  0.390625 , Validation Accuracy =  0.39559999108314514\n"
          ]
        },
        {
          "output_type": "stream",
          "name": "stderr",
          "text": [
            "\r 35%|███▌      | 7/20 [00:17<00:32,  2.51s/it]"
          ]
        },
        {
          "output_type": "stream",
          "name": "stdout",
          "text": [
            "EPOCH -  7 . Train Accuracy =  0.3125 , Validation Accuracy =  0.39559999108314514\n"
          ]
        },
        {
          "output_type": "stream",
          "name": "stderr",
          "text": [
            "\r 40%|████      | 8/20 [00:20<00:29,  2.47s/it]"
          ]
        },
        {
          "output_type": "stream",
          "name": "stdout",
          "text": [
            "EPOCH -  8 . Train Accuracy =  0.484375 , Validation Accuracy =  0.39559999108314514\n"
          ]
        },
        {
          "output_type": "stream",
          "name": "stderr",
          "text": [
            "\r 45%|████▌     | 9/20 [00:22<00:27,  2.47s/it]"
          ]
        },
        {
          "output_type": "stream",
          "name": "stdout",
          "text": [
            "EPOCH -  9 . Train Accuracy =  0.40625 , Validation Accuracy =  0.39559999108314514\n"
          ]
        },
        {
          "output_type": "stream",
          "name": "stderr",
          "text": [
            "\r 50%|█████     | 10/20 [00:25<00:26,  2.65s/it]"
          ]
        },
        {
          "output_type": "stream",
          "name": "stdout",
          "text": [
            "EPOCH -  10 . Train Accuracy =  0.25 , Validation Accuracy =  0.39559999108314514\n"
          ]
        },
        {
          "output_type": "stream",
          "name": "stderr",
          "text": [
            "\r 55%|█████▌    | 11/20 [00:27<00:23,  2.57s/it]"
          ]
        },
        {
          "output_type": "stream",
          "name": "stdout",
          "text": [
            "EPOCH -  11 . Train Accuracy =  0.4375 , Validation Accuracy =  0.39559999108314514\n"
          ]
        },
        {
          "output_type": "stream",
          "name": "stderr",
          "text": [
            "\r 60%|██████    | 12/20 [00:30<00:20,  2.52s/it]"
          ]
        },
        {
          "output_type": "stream",
          "name": "stdout",
          "text": [
            "EPOCH -  12 . Train Accuracy =  0.453125 , Validation Accuracy =  0.39559999108314514\n"
          ]
        },
        {
          "output_type": "stream",
          "name": "stderr",
          "text": [
            "\r 65%|██████▌   | 13/20 [00:32<00:17,  2.49s/it]"
          ]
        },
        {
          "output_type": "stream",
          "name": "stdout",
          "text": [
            "EPOCH -  13 . Train Accuracy =  0.390625 , Validation Accuracy =  0.39559999108314514\n"
          ]
        },
        {
          "output_type": "stream",
          "name": "stderr",
          "text": [
            "\r 70%|███████   | 14/20 [00:35<00:14,  2.46s/it]"
          ]
        },
        {
          "output_type": "stream",
          "name": "stdout",
          "text": [
            "EPOCH -  14 . Train Accuracy =  0.40625 , Validation Accuracy =  0.39559999108314514\n"
          ]
        },
        {
          "output_type": "stream",
          "name": "stderr",
          "text": [
            "\r 75%|███████▌  | 15/20 [00:38<00:13,  2.64s/it]"
          ]
        },
        {
          "output_type": "stream",
          "name": "stdout",
          "text": [
            "EPOCH -  15 . Train Accuracy =  0.40625 , Validation Accuracy =  0.39559999108314514\n"
          ]
        },
        {
          "output_type": "stream",
          "name": "stderr",
          "text": [
            "\r 80%|████████  | 16/20 [00:40<00:10,  2.56s/it]"
          ]
        },
        {
          "output_type": "stream",
          "name": "stdout",
          "text": [
            "EPOCH -  16 . Train Accuracy =  0.421875 , Validation Accuracy =  0.39559999108314514\n"
          ]
        },
        {
          "output_type": "stream",
          "name": "stderr",
          "text": [
            "\r 85%|████████▌ | 17/20 [00:43<00:07,  2.51s/it]"
          ]
        },
        {
          "output_type": "stream",
          "name": "stdout",
          "text": [
            "EPOCH -  17 . Train Accuracy =  0.390625 , Validation Accuracy =  0.39559999108314514\n"
          ]
        },
        {
          "output_type": "stream",
          "name": "stderr",
          "text": [
            "\r 90%|█████████ | 18/20 [00:45<00:04,  2.49s/it]"
          ]
        },
        {
          "output_type": "stream",
          "name": "stdout",
          "text": [
            "EPOCH -  18 . Train Accuracy =  0.34375 , Validation Accuracy =  0.39559999108314514\n"
          ]
        },
        {
          "output_type": "stream",
          "name": "stderr",
          "text": [
            "\r 95%|█████████▌| 19/20 [00:48<00:02,  2.51s/it]"
          ]
        },
        {
          "output_type": "stream",
          "name": "stdout",
          "text": [
            "EPOCH -  19 . Train Accuracy =  0.34375 , Validation Accuracy =  0.39559999108314514\n"
          ]
        },
        {
          "output_type": "stream",
          "name": "stderr",
          "text": [
            "100%|██████████| 20/20 [00:50<00:00,  2.54s/it]\n"
          ]
        },
        {
          "output_type": "stream",
          "name": "stdout",
          "text": [
            "EPOCH -  20 . Train Accuracy =  0.3125 , Validation Accuracy =  0.39559999108314514\n"
          ]
        },
        {
          "output_type": "stream",
          "name": "stderr",
          "text": [
            "  5%|▌         | 1/20 [00:02<00:45,  2.42s/it]"
          ]
        },
        {
          "output_type": "stream",
          "name": "stdout",
          "text": [
            "EPOCH -  1 . Train Accuracy =  0.609375 , Validation Accuracy =  0.6042667031288147\n",
            "Model Re-Saved\n"
          ]
        },
        {
          "output_type": "stream",
          "name": "stderr",
          "text": [
            "\r 10%|█         | 2/20 [00:04<00:43,  2.41s/it]"
          ]
        },
        {
          "output_type": "stream",
          "name": "stdout",
          "text": [
            "EPOCH -  2 . Train Accuracy =  0.59375 , Validation Accuracy =  0.38519999384880066\n"
          ]
        },
        {
          "output_type": "stream",
          "name": "stderr",
          "text": [
            "\r 15%|█▌        | 3/20 [00:07<00:41,  2.45s/it]"
          ]
        },
        {
          "output_type": "stream",
          "name": "stdout",
          "text": [
            "EPOCH -  3 . Train Accuracy =  0.421875 , Validation Accuracy =  0.604533314704895\n",
            "Model Re-Saved\n"
          ]
        },
        {
          "output_type": "stream",
          "name": "stderr",
          "text": [
            "\r 20%|██        | 4/20 [00:10<00:42,  2.63s/it]"
          ]
        },
        {
          "output_type": "stream",
          "name": "stdout",
          "text": [
            "EPOCH -  4 . Train Accuracy =  0.609375 , Validation Accuracy =  0.6043999791145325\n"
          ]
        },
        {
          "output_type": "stream",
          "name": "stderr",
          "text": [
            "\r 25%|██▌       | 5/20 [00:13<00:40,  2.69s/it]"
          ]
        },
        {
          "output_type": "stream",
          "name": "stdout",
          "text": [
            "EPOCH -  5 . Train Accuracy =  0.5625 , Validation Accuracy =  0.6043999791145325\n"
          ]
        },
        {
          "output_type": "stream",
          "name": "stderr",
          "text": [
            "\r 30%|███       | 6/20 [00:15<00:36,  2.59s/it]"
          ]
        },
        {
          "output_type": "stream",
          "name": "stdout",
          "text": [
            "EPOCH -  6 . Train Accuracy =  0.625 , Validation Accuracy =  0.6043999791145325\n"
          ]
        },
        {
          "output_type": "stream",
          "name": "stderr",
          "text": [
            "\r 35%|███▌      | 7/20 [00:17<00:32,  2.52s/it]"
          ]
        },
        {
          "output_type": "stream",
          "name": "stdout",
          "text": [
            "EPOCH -  7 . Train Accuracy =  0.71875 , Validation Accuracy =  0.6043999791145325\n"
          ]
        },
        {
          "output_type": "stream",
          "name": "stderr",
          "text": [
            "\r 40%|████      | 8/20 [00:20<00:29,  2.48s/it]"
          ]
        },
        {
          "output_type": "stream",
          "name": "stdout",
          "text": [
            "EPOCH -  8 . Train Accuracy =  0.578125 , Validation Accuracy =  0.6043999791145325\n"
          ]
        },
        {
          "output_type": "stream",
          "name": "stderr",
          "text": [
            "\r 45%|████▌     | 9/20 [00:23<00:29,  2.67s/it]"
          ]
        },
        {
          "output_type": "stream",
          "name": "stdout",
          "text": [
            "EPOCH -  9 . Train Accuracy =  0.65625 , Validation Accuracy =  0.6043999791145325\n"
          ]
        },
        {
          "output_type": "stream",
          "name": "stderr",
          "text": [
            "\r 50%|█████     | 10/20 [00:25<00:25,  2.59s/it]"
          ]
        },
        {
          "output_type": "stream",
          "name": "stdout",
          "text": [
            "EPOCH -  10 . Train Accuracy =  0.703125 , Validation Accuracy =  0.6043999791145325\n"
          ]
        },
        {
          "output_type": "stream",
          "name": "stderr",
          "text": [
            "\r 55%|█████▌    | 11/20 [00:28<00:22,  2.54s/it]"
          ]
        },
        {
          "output_type": "stream",
          "name": "stdout",
          "text": [
            "EPOCH -  11 . Train Accuracy =  0.65625 , Validation Accuracy =  0.6043999791145325\n"
          ]
        },
        {
          "output_type": "stream",
          "name": "stderr",
          "text": [
            "\r 60%|██████    | 12/20 [00:30<00:19,  2.49s/it]"
          ]
        },
        {
          "output_type": "stream",
          "name": "stdout",
          "text": [
            "EPOCH -  12 . Train Accuracy =  0.609375 , Validation Accuracy =  0.6043999791145325\n"
          ]
        },
        {
          "output_type": "stream",
          "name": "stderr",
          "text": [
            "\r 65%|██████▌   | 13/20 [00:32<00:17,  2.47s/it]"
          ]
        },
        {
          "output_type": "stream",
          "name": "stdout",
          "text": [
            "EPOCH -  13 . Train Accuracy =  0.5625 , Validation Accuracy =  0.6043999791145325\n"
          ]
        },
        {
          "output_type": "stream",
          "name": "stderr",
          "text": [
            "\r 70%|███████   | 14/20 [00:35<00:15,  2.65s/it]"
          ]
        },
        {
          "output_type": "stream",
          "name": "stdout",
          "text": [
            "EPOCH -  14 . Train Accuracy =  0.5625 , Validation Accuracy =  0.6043999791145325\n"
          ]
        },
        {
          "output_type": "stream",
          "name": "stderr",
          "text": [
            "\r 75%|███████▌  | 15/20 [00:38<00:12,  2.57s/it]"
          ]
        },
        {
          "output_type": "stream",
          "name": "stdout",
          "text": [
            "EPOCH -  15 . Train Accuracy =  0.578125 , Validation Accuracy =  0.6043999791145325\n"
          ]
        },
        {
          "output_type": "stream",
          "name": "stderr",
          "text": [
            "\r 80%|████████  | 16/20 [00:40<00:10,  2.51s/it]"
          ]
        },
        {
          "output_type": "stream",
          "name": "stdout",
          "text": [
            "EPOCH -  16 . Train Accuracy =  0.5625 , Validation Accuracy =  0.6043999791145325\n"
          ]
        },
        {
          "output_type": "stream",
          "name": "stderr",
          "text": [
            "\r 85%|████████▌ | 17/20 [00:43<00:07,  2.46s/it]"
          ]
        },
        {
          "output_type": "stream",
          "name": "stdout",
          "text": [
            "EPOCH -  17 . Train Accuracy =  0.625 , Validation Accuracy =  0.6043999791145325\n"
          ]
        },
        {
          "output_type": "stream",
          "name": "stderr",
          "text": [
            "\r 90%|█████████ | 18/20 [00:45<00:04,  2.47s/it]"
          ]
        },
        {
          "output_type": "stream",
          "name": "stdout",
          "text": [
            "EPOCH -  18 . Train Accuracy =  0.59375 , Validation Accuracy =  0.6043999791145325\n"
          ]
        },
        {
          "output_type": "stream",
          "name": "stderr",
          "text": [
            "\r 95%|█████████▌| 19/20 [00:48<00:02,  2.64s/it]"
          ]
        },
        {
          "output_type": "stream",
          "name": "stdout",
          "text": [
            "EPOCH -  19 . Train Accuracy =  0.59375 , Validation Accuracy =  0.6043999791145325\n"
          ]
        },
        {
          "output_type": "stream",
          "name": "stderr",
          "text": [
            "100%|██████████| 20/20 [00:50<00:00,  2.55s/it]"
          ]
        },
        {
          "output_type": "stream",
          "name": "stdout",
          "text": [
            "EPOCH -  20 . Train Accuracy =  0.625 , Validation Accuracy =  0.6043999791145325\n"
          ]
        },
        {
          "output_type": "stream",
          "name": "stderr",
          "text": [
            "\n",
            "<ipython-input-2-98ef64b1a863>:27: UserWarning: Implicit dimension choice for softmax has been deprecated. Change the call to include dim=X as an argument.\n",
            "  x = self.SftMax(self.fc1(x))\n"
          ]
        },
        {
          "output_type": "execute_result",
          "data": {
            "text/plain": [
              "tensor([1.9988], device='cuda:0', grad_fn=<AddBackward0>)"
            ]
          },
          "metadata": {},
          "execution_count": 40
        }
      ]
    },
    {
      "cell_type": "code",
      "source": [
        "val=evaluateGated(Gating_model,test_loader,device, ExpertModels)\n",
        "print(val)\n",
        "List_observations.append(val)"
      ],
      "metadata": {
        "colab": {
          "base_uri": "https://localhost:8080/"
        },
        "id": "gDcoQbPf8v3T",
        "outputId": "9b1d53cc-7256-47f3-b952-71adc00985ec"
      },
      "execution_count": 41,
      "outputs": [
        {
          "output_type": "stream",
          "name": "stderr",
          "text": [
            "<ipython-input-2-98ef64b1a863>:27: UserWarning: Implicit dimension choice for softmax has been deprecated. Change the call to include dim=X as an argument.\n",
            "  x = self.SftMax(self.fc1(x))\n"
          ]
        },
        {
          "output_type": "stream",
          "name": "stdout",
          "text": [
            "0.6\n"
          ]
        }
      ]
    },
    {
      "cell_type": "code",
      "source": [
        "ExpertModels = TrainExperts(6)\n",
        "\n",
        "Gating_model = Gating(32*32*3, 6).to(device)\n",
        "loss_criteria = nn.CrossEntropyLoss()\n",
        "AdamOpt = torch.optim.Adam(Gating_model.parameters(), lr=0.0001)\n",
        "\n",
        "trainGated(Gating_model,AdamOpt,loss_criteria,device,train_loader, ExpertModels)"
      ],
      "metadata": {
        "colab": {
          "base_uri": "https://localhost:8080/"
        },
        "id": "jgV2lPKi8zB2",
        "outputId": "1d5c6ab1-f618-47d4-d45d-72bfe8933fb0"
      },
      "execution_count": 43,
      "outputs": [
        {
          "output_type": "stream",
          "name": "stderr",
          "text": [
            "\r  0%|          | 0/20 [00:00<?, ?it/s]<ipython-input-36-5704d1e767e3>:12: UserWarning: To copy construct from a tensor, it is recommended to use sourceTensor.clone().detach() or sourceTensor.clone().detach().requires_grad_(True), rather than torch.tensor(sourceTensor).\n",
            "  labels = torch.tensor(labels,dtype=torch.float32).to(device)\n",
            "  5%|▌         | 1/20 [00:02<00:47,  2.50s/it]"
          ]
        },
        {
          "output_type": "stream",
          "name": "stdout",
          "text": [
            "EPOCH -  1 . Train Accuracy =  0.515625 , Validation Accuracy =  0.6041333675384521\n",
            "Model Re-Saved\n"
          ]
        },
        {
          "output_type": "stream",
          "name": "stderr",
          "text": [
            "\r 10%|█         | 2/20 [00:05<00:45,  2.54s/it]"
          ]
        },
        {
          "output_type": "stream",
          "name": "stdout",
          "text": [
            "EPOCH -  2 . Train Accuracy =  0.671875 , Validation Accuracy =  0.39026665687561035\n"
          ]
        },
        {
          "output_type": "stream",
          "name": "stderr",
          "text": [
            "\r 15%|█▌        | 3/20 [00:08<00:48,  2.85s/it]"
          ]
        },
        {
          "output_type": "stream",
          "name": "stdout",
          "text": [
            "EPOCH -  3 . Train Accuracy =  0.390625 , Validation Accuracy =  0.6043999791145325\n",
            "Model Re-Saved\n"
          ]
        },
        {
          "output_type": "stream",
          "name": "stderr",
          "text": [
            "\r 20%|██        | 4/20 [00:10<00:43,  2.69s/it]"
          ]
        },
        {
          "output_type": "stream",
          "name": "stdout",
          "text": [
            "EPOCH -  4 . Train Accuracy =  0.578125 , Validation Accuracy =  0.6043999791145325\n"
          ]
        },
        {
          "output_type": "stream",
          "name": "stderr",
          "text": [
            "\r 25%|██▌       | 5/20 [00:13<00:39,  2.61s/it]"
          ]
        },
        {
          "output_type": "stream",
          "name": "stdout",
          "text": [
            "EPOCH -  5 . Train Accuracy =  0.5 , Validation Accuracy =  0.6043999791145325\n"
          ]
        },
        {
          "output_type": "stream",
          "name": "stderr",
          "text": [
            "\r 30%|███       | 6/20 [00:15<00:35,  2.55s/it]"
          ]
        },
        {
          "output_type": "stream",
          "name": "stdout",
          "text": [
            "EPOCH -  6 . Train Accuracy =  0.625 , Validation Accuracy =  0.6043999791145325\n"
          ]
        },
        {
          "output_type": "stream",
          "name": "stderr",
          "text": [
            "\r 35%|███▌      | 7/20 [00:18<00:34,  2.63s/it]"
          ]
        },
        {
          "output_type": "stream",
          "name": "stdout",
          "text": [
            "EPOCH -  7 . Train Accuracy =  0.53125 , Validation Accuracy =  0.6043999791145325\n"
          ]
        },
        {
          "output_type": "stream",
          "name": "stderr",
          "text": [
            "\r 40%|████      | 8/20 [00:21<00:32,  2.70s/it]"
          ]
        },
        {
          "output_type": "stream",
          "name": "stdout",
          "text": [
            "EPOCH -  8 . Train Accuracy =  0.65625 , Validation Accuracy =  0.6043999791145325\n"
          ]
        },
        {
          "output_type": "stream",
          "name": "stderr",
          "text": [
            "\r 45%|████▌     | 9/20 [00:23<00:28,  2.61s/it]"
          ]
        },
        {
          "output_type": "stream",
          "name": "stdout",
          "text": [
            "EPOCH -  9 . Train Accuracy =  0.65625 , Validation Accuracy =  0.6043999791145325\n"
          ]
        },
        {
          "output_type": "stream",
          "name": "stderr",
          "text": [
            "\r 50%|█████     | 10/20 [00:26<00:25,  2.56s/it]"
          ]
        },
        {
          "output_type": "stream",
          "name": "stdout",
          "text": [
            "EPOCH -  10 . Train Accuracy =  0.609375 , Validation Accuracy =  0.6043999791145325\n"
          ]
        },
        {
          "output_type": "stream",
          "name": "stderr",
          "text": [
            "\r 55%|█████▌    | 11/20 [00:28<00:22,  2.52s/it]"
          ]
        },
        {
          "output_type": "stream",
          "name": "stdout",
          "text": [
            "EPOCH -  11 . Train Accuracy =  0.546875 , Validation Accuracy =  0.6043999791145325\n"
          ]
        },
        {
          "output_type": "stream",
          "name": "stderr",
          "text": [
            "\r 60%|██████    | 12/20 [00:31<00:21,  2.68s/it]"
          ]
        },
        {
          "output_type": "stream",
          "name": "stdout",
          "text": [
            "EPOCH -  12 . Train Accuracy =  0.5625 , Validation Accuracy =  0.6043999791145325\n"
          ]
        },
        {
          "output_type": "stream",
          "name": "stderr",
          "text": [
            "\r 65%|██████▌   | 13/20 [00:34<00:18,  2.63s/it]"
          ]
        },
        {
          "output_type": "stream",
          "name": "stdout",
          "text": [
            "EPOCH -  13 . Train Accuracy =  0.625 , Validation Accuracy =  0.6043999791145325\n"
          ]
        },
        {
          "output_type": "stream",
          "name": "stderr",
          "text": [
            "\r 70%|███████   | 14/20 [00:36<00:15,  2.58s/it]"
          ]
        },
        {
          "output_type": "stream",
          "name": "stdout",
          "text": [
            "EPOCH -  14 . Train Accuracy =  0.578125 , Validation Accuracy =  0.6043999791145325\n"
          ]
        },
        {
          "output_type": "stream",
          "name": "stderr",
          "text": [
            "\r 75%|███████▌  | 15/20 [00:39<00:12,  2.53s/it]"
          ]
        },
        {
          "output_type": "stream",
          "name": "stdout",
          "text": [
            "EPOCH -  15 . Train Accuracy =  0.640625 , Validation Accuracy =  0.6043999791145325\n"
          ]
        },
        {
          "output_type": "stream",
          "name": "stderr",
          "text": [
            "\r 80%|████████  | 16/20 [00:41<00:10,  2.50s/it]"
          ]
        },
        {
          "output_type": "stream",
          "name": "stdout",
          "text": [
            "EPOCH -  16 . Train Accuracy =  0.625 , Validation Accuracy =  0.6043999791145325\n"
          ]
        },
        {
          "output_type": "stream",
          "name": "stderr",
          "text": [
            "\r 85%|████████▌ | 17/20 [00:44<00:08,  2.68s/it]"
          ]
        },
        {
          "output_type": "stream",
          "name": "stdout",
          "text": [
            "EPOCH -  17 . Train Accuracy =  0.53125 , Validation Accuracy =  0.6043999791145325\n"
          ]
        },
        {
          "output_type": "stream",
          "name": "stderr",
          "text": [
            "\r 90%|█████████ | 18/20 [00:47<00:05,  2.61s/it]"
          ]
        },
        {
          "output_type": "stream",
          "name": "stdout",
          "text": [
            "EPOCH -  18 . Train Accuracy =  0.65625 , Validation Accuracy =  0.6043999791145325\n"
          ]
        },
        {
          "output_type": "stream",
          "name": "stderr",
          "text": [
            "\r 95%|█████████▌| 19/20 [00:49<00:02,  2.56s/it]"
          ]
        },
        {
          "output_type": "stream",
          "name": "stdout",
          "text": [
            "EPOCH -  19 . Train Accuracy =  0.578125 , Validation Accuracy =  0.6043999791145325\n"
          ]
        },
        {
          "output_type": "stream",
          "name": "stderr",
          "text": [
            "100%|██████████| 20/20 [00:51<00:00,  2.59s/it]\n"
          ]
        },
        {
          "output_type": "stream",
          "name": "stdout",
          "text": [
            "EPOCH -  20 . Train Accuracy =  0.625 , Validation Accuracy =  0.6043999791145325\n"
          ]
        },
        {
          "output_type": "stream",
          "name": "stderr",
          "text": [
            "  5%|▌         | 1/20 [00:02<00:48,  2.57s/it]"
          ]
        },
        {
          "output_type": "stream",
          "name": "stdout",
          "text": [
            "EPOCH -  1 . Train Accuracy =  0.484375 , Validation Accuracy =  0.5929333567619324\n",
            "Model Re-Saved\n"
          ]
        },
        {
          "output_type": "stream",
          "name": "stderr",
          "text": [
            "\r 10%|█         | 2/20 [00:05<00:51,  2.88s/it]"
          ]
        },
        {
          "output_type": "stream",
          "name": "stdout",
          "text": [
            "EPOCH -  2 . Train Accuracy =  0.578125 , Validation Accuracy =  0.39559999108314514\n"
          ]
        },
        {
          "output_type": "stream",
          "name": "stderr",
          "text": [
            "\r 15%|█▌        | 3/20 [00:08<00:46,  2.71s/it]"
          ]
        },
        {
          "output_type": "stream",
          "name": "stdout",
          "text": [
            "EPOCH -  3 . Train Accuracy =  0.546875 , Validation Accuracy =  0.39559999108314514\n"
          ]
        },
        {
          "output_type": "stream",
          "name": "stderr",
          "text": [
            "\r 20%|██        | 4/20 [00:10<00:43,  2.72s/it]"
          ]
        },
        {
          "output_type": "stream",
          "name": "stdout",
          "text": [
            "EPOCH -  4 . Train Accuracy =  0.421875 , Validation Accuracy =  0.39559999108314514\n"
          ]
        },
        {
          "output_type": "stream",
          "name": "stderr",
          "text": [
            "\r 25%|██▌       | 5/20 [00:13<00:39,  2.63s/it]"
          ]
        },
        {
          "output_type": "stream",
          "name": "stdout",
          "text": [
            "EPOCH -  5 . Train Accuracy =  0.3125 , Validation Accuracy =  0.39559999108314514\n"
          ]
        },
        {
          "output_type": "stream",
          "name": "stderr",
          "text": [
            "\r 30%|███       | 6/20 [00:16<00:38,  2.76s/it]"
          ]
        },
        {
          "output_type": "stream",
          "name": "stdout",
          "text": [
            "EPOCH -  6 . Train Accuracy =  0.5 , Validation Accuracy =  0.39559999108314514\n"
          ]
        },
        {
          "output_type": "stream",
          "name": "stderr",
          "text": [
            "\r 35%|███▌      | 7/20 [00:18<00:35,  2.70s/it]"
          ]
        },
        {
          "output_type": "stream",
          "name": "stdout",
          "text": [
            "EPOCH -  7 . Train Accuracy =  0.390625 , Validation Accuracy =  0.39559999108314514\n"
          ]
        },
        {
          "output_type": "stream",
          "name": "stderr",
          "text": [
            "\r 40%|████      | 8/20 [00:21<00:31,  2.62s/it]"
          ]
        },
        {
          "output_type": "stream",
          "name": "stdout",
          "text": [
            "EPOCH -  8 . Train Accuracy =  0.421875 , Validation Accuracy =  0.39559999108314514\n"
          ]
        },
        {
          "output_type": "stream",
          "name": "stderr",
          "text": [
            "\r 45%|████▌     | 9/20 [00:23<00:28,  2.56s/it]"
          ]
        },
        {
          "output_type": "stream",
          "name": "stdout",
          "text": [
            "EPOCH -  9 . Train Accuracy =  0.484375 , Validation Accuracy =  0.39559999108314514\n"
          ]
        },
        {
          "output_type": "stream",
          "name": "stderr",
          "text": [
            "\r 50%|█████     | 10/20 [00:26<00:25,  2.52s/it]"
          ]
        },
        {
          "output_type": "stream",
          "name": "stdout",
          "text": [
            "EPOCH -  10 . Train Accuracy =  0.421875 , Validation Accuracy =  0.39559999108314514\n"
          ]
        },
        {
          "output_type": "stream",
          "name": "stderr",
          "text": [
            "\r 55%|█████▌    | 11/20 [00:29<00:24,  2.71s/it]"
          ]
        },
        {
          "output_type": "stream",
          "name": "stdout",
          "text": [
            "EPOCH -  11 . Train Accuracy =  0.328125 , Validation Accuracy =  0.39559999108314514\n"
          ]
        },
        {
          "output_type": "stream",
          "name": "stderr",
          "text": [
            "\r 60%|██████    | 12/20 [00:31<00:20,  2.62s/it]"
          ]
        },
        {
          "output_type": "stream",
          "name": "stdout",
          "text": [
            "EPOCH -  12 . Train Accuracy =  0.40625 , Validation Accuracy =  0.39559999108314514\n"
          ]
        },
        {
          "output_type": "stream",
          "name": "stderr",
          "text": [
            "\r 65%|██████▌   | 13/20 [00:34<00:17,  2.56s/it]"
          ]
        },
        {
          "output_type": "stream",
          "name": "stdout",
          "text": [
            "EPOCH -  13 . Train Accuracy =  0.390625 , Validation Accuracy =  0.39559999108314514\n"
          ]
        },
        {
          "output_type": "stream",
          "name": "stderr",
          "text": [
            "\r 70%|███████   | 14/20 [00:36<00:15,  2.52s/it]"
          ]
        },
        {
          "output_type": "stream",
          "name": "stdout",
          "text": [
            "EPOCH -  14 . Train Accuracy =  0.296875 , Validation Accuracy =  0.39559999108314514\n"
          ]
        },
        {
          "output_type": "stream",
          "name": "stderr",
          "text": [
            "\r 75%|███████▌  | 15/20 [00:39<00:12,  2.51s/it]"
          ]
        },
        {
          "output_type": "stream",
          "name": "stdout",
          "text": [
            "EPOCH -  15 . Train Accuracy =  0.265625 , Validation Accuracy =  0.39559999108314514\n"
          ]
        },
        {
          "output_type": "stream",
          "name": "stderr",
          "text": [
            "\r 80%|████████  | 16/20 [00:42<00:10,  2.71s/it]"
          ]
        },
        {
          "output_type": "stream",
          "name": "stdout",
          "text": [
            "EPOCH -  16 . Train Accuracy =  0.421875 , Validation Accuracy =  0.39559999108314514\n"
          ]
        },
        {
          "output_type": "stream",
          "name": "stderr",
          "text": [
            "\r 85%|████████▌ | 17/20 [00:44<00:07,  2.65s/it]"
          ]
        },
        {
          "output_type": "stream",
          "name": "stdout",
          "text": [
            "EPOCH -  17 . Train Accuracy =  0.515625 , Validation Accuracy =  0.39559999108314514\n"
          ]
        },
        {
          "output_type": "stream",
          "name": "stderr",
          "text": [
            "\r 90%|█████████ | 18/20 [00:47<00:05,  2.60s/it]"
          ]
        },
        {
          "output_type": "stream",
          "name": "stdout",
          "text": [
            "EPOCH -  18 . Train Accuracy =  0.40625 , Validation Accuracy =  0.39559999108314514\n"
          ]
        },
        {
          "output_type": "stream",
          "name": "stderr",
          "text": [
            "\r 95%|█████████▌| 19/20 [00:49<00:02,  2.56s/it]"
          ]
        },
        {
          "output_type": "stream",
          "name": "stdout",
          "text": [
            "EPOCH -  19 . Train Accuracy =  0.421875 , Validation Accuracy =  0.39559999108314514\n"
          ]
        },
        {
          "output_type": "stream",
          "name": "stderr",
          "text": [
            "100%|██████████| 20/20 [00:52<00:00,  2.63s/it]\n"
          ]
        },
        {
          "output_type": "stream",
          "name": "stdout",
          "text": [
            "EPOCH -  20 . Train Accuracy =  0.375 , Validation Accuracy =  0.39559999108314514\n"
          ]
        },
        {
          "output_type": "stream",
          "name": "stderr",
          "text": [
            "  5%|▌         | 1/20 [00:02<00:52,  2.77s/it]"
          ]
        },
        {
          "output_type": "stream",
          "name": "stdout",
          "text": [
            "EPOCH -  1 . Train Accuracy =  0.5625 , Validation Accuracy =  0.6034666895866394\n",
            "Model Re-Saved\n"
          ]
        },
        {
          "output_type": "stream",
          "name": "stderr",
          "text": [
            "\r 10%|█         | 2/20 [00:05<00:46,  2.58s/it]"
          ]
        },
        {
          "output_type": "stream",
          "name": "stdout",
          "text": [
            "EPOCH -  2 . Train Accuracy =  0.59375 , Validation Accuracy =  0.39559999108314514\n"
          ]
        },
        {
          "output_type": "stream",
          "name": "stderr",
          "text": [
            "\r 15%|█▌        | 3/20 [00:07<00:43,  2.53s/it]"
          ]
        },
        {
          "output_type": "stream",
          "name": "stdout",
          "text": [
            "EPOCH -  3 . Train Accuracy =  0.359375 , Validation Accuracy =  0.39559999108314514\n"
          ]
        },
        {
          "output_type": "stream",
          "name": "stderr",
          "text": [
            "\r 20%|██        | 4/20 [00:10<00:39,  2.50s/it]"
          ]
        },
        {
          "output_type": "stream",
          "name": "stdout",
          "text": [
            "EPOCH -  4 . Train Accuracy =  0.421875 , Validation Accuracy =  0.39559999108314514\n"
          ]
        },
        {
          "output_type": "stream",
          "name": "stderr",
          "text": [
            "\r 25%|██▌       | 5/20 [00:13<00:40,  2.72s/it]"
          ]
        },
        {
          "output_type": "stream",
          "name": "stdout",
          "text": [
            "EPOCH -  5 . Train Accuracy =  0.328125 , Validation Accuracy =  0.39559999108314514\n"
          ]
        },
        {
          "output_type": "stream",
          "name": "stderr",
          "text": [
            "\r 30%|███       | 6/20 [00:15<00:36,  2.62s/it]"
          ]
        },
        {
          "output_type": "stream",
          "name": "stdout",
          "text": [
            "EPOCH -  6 . Train Accuracy =  0.46875 , Validation Accuracy =  0.39559999108314514\n"
          ]
        },
        {
          "output_type": "stream",
          "name": "stderr",
          "text": [
            "\r 35%|███▌      | 7/20 [00:18<00:33,  2.57s/it]"
          ]
        },
        {
          "output_type": "stream",
          "name": "stdout",
          "text": [
            "EPOCH -  7 . Train Accuracy =  0.421875 , Validation Accuracy =  0.39559999108314514\n"
          ]
        },
        {
          "output_type": "stream",
          "name": "stderr",
          "text": [
            "\r 40%|████      | 8/20 [00:20<00:30,  2.53s/it]"
          ]
        },
        {
          "output_type": "stream",
          "name": "stdout",
          "text": [
            "EPOCH -  8 . Train Accuracy =  0.421875 , Validation Accuracy =  0.39559999108314514\n"
          ]
        },
        {
          "output_type": "stream",
          "name": "stderr",
          "text": [
            "\r 45%|████▌     | 9/20 [00:23<00:27,  2.51s/it]"
          ]
        },
        {
          "output_type": "stream",
          "name": "stdout",
          "text": [
            "EPOCH -  9 . Train Accuracy =  0.359375 , Validation Accuracy =  0.39559999108314514\n"
          ]
        },
        {
          "output_type": "stream",
          "name": "stderr",
          "text": [
            "\r 50%|█████     | 10/20 [00:26<00:27,  2.72s/it]"
          ]
        },
        {
          "output_type": "stream",
          "name": "stdout",
          "text": [
            "EPOCH -  10 . Train Accuracy =  0.3125 , Validation Accuracy =  0.39559999108314514\n"
          ]
        },
        {
          "output_type": "stream",
          "name": "stderr",
          "text": [
            "\r 55%|█████▌    | 11/20 [00:28<00:23,  2.65s/it]"
          ]
        },
        {
          "output_type": "stream",
          "name": "stdout",
          "text": [
            "EPOCH -  11 . Train Accuracy =  0.46875 , Validation Accuracy =  0.39559999108314514\n"
          ]
        },
        {
          "output_type": "stream",
          "name": "stderr",
          "text": [
            "\r 60%|██████    | 12/20 [00:31<00:20,  2.59s/it]"
          ]
        },
        {
          "output_type": "stream",
          "name": "stdout",
          "text": [
            "EPOCH -  12 . Train Accuracy =  0.34375 , Validation Accuracy =  0.39559999108314514\n"
          ]
        },
        {
          "output_type": "stream",
          "name": "stderr",
          "text": [
            "\r 65%|██████▌   | 13/20 [00:33<00:17,  2.55s/it]"
          ]
        },
        {
          "output_type": "stream",
          "name": "stdout",
          "text": [
            "EPOCH -  13 . Train Accuracy =  0.375 , Validation Accuracy =  0.39559999108314514\n"
          ]
        },
        {
          "output_type": "stream",
          "name": "stderr",
          "text": [
            "\r 70%|███████   | 14/20 [00:36<00:15,  2.58s/it]"
          ]
        },
        {
          "output_type": "stream",
          "name": "stdout",
          "text": [
            "EPOCH -  14 . Train Accuracy =  0.46875 , Validation Accuracy =  0.39559999108314514\n"
          ]
        },
        {
          "output_type": "stream",
          "name": "stderr",
          "text": [
            "\r 75%|███████▌  | 15/20 [00:39<00:13,  2.68s/it]"
          ]
        },
        {
          "output_type": "stream",
          "name": "stdout",
          "text": [
            "EPOCH -  15 . Train Accuracy =  0.359375 , Validation Accuracy =  0.39559999108314514\n"
          ]
        },
        {
          "output_type": "stream",
          "name": "stderr",
          "text": [
            "\r 80%|████████  | 16/20 [00:41<00:10,  2.62s/it]"
          ]
        },
        {
          "output_type": "stream",
          "name": "stdout",
          "text": [
            "EPOCH -  16 . Train Accuracy =  0.296875 , Validation Accuracy =  0.39559999108314514\n"
          ]
        },
        {
          "output_type": "stream",
          "name": "stderr",
          "text": [
            "\r 85%|████████▌ | 17/20 [00:44<00:07,  2.57s/it]"
          ]
        },
        {
          "output_type": "stream",
          "name": "stdout",
          "text": [
            "EPOCH -  17 . Train Accuracy =  0.4375 , Validation Accuracy =  0.39559999108314514\n"
          ]
        },
        {
          "output_type": "stream",
          "name": "stderr",
          "text": [
            "\r 90%|█████████ | 18/20 [00:46<00:05,  2.55s/it]"
          ]
        },
        {
          "output_type": "stream",
          "name": "stdout",
          "text": [
            "EPOCH -  18 . Train Accuracy =  0.5 , Validation Accuracy =  0.39559999108314514\n"
          ]
        },
        {
          "output_type": "stream",
          "name": "stderr",
          "text": [
            "\r 95%|█████████▌| 19/20 [00:49<00:02,  2.71s/it]"
          ]
        },
        {
          "output_type": "stream",
          "name": "stdout",
          "text": [
            "EPOCH -  19 . Train Accuracy =  0.421875 , Validation Accuracy =  0.39559999108314514\n"
          ]
        },
        {
          "output_type": "stream",
          "name": "stderr",
          "text": [
            "100%|██████████| 20/20 [00:52<00:00,  2.62s/it]\n"
          ]
        },
        {
          "output_type": "stream",
          "name": "stdout",
          "text": [
            "EPOCH -  20 . Train Accuracy =  0.40625 , Validation Accuracy =  0.39559999108314514\n"
          ]
        },
        {
          "output_type": "stream",
          "name": "stderr",
          "text": [
            "  5%|▌         | 1/20 [00:02<00:47,  2.49s/it]"
          ]
        },
        {
          "output_type": "stream",
          "name": "stdout",
          "text": [
            "EPOCH -  1 . Train Accuracy =  0.34375 , Validation Accuracy =  0.604533314704895\n",
            "Model Re-Saved\n"
          ]
        },
        {
          "output_type": "stream",
          "name": "stderr",
          "text": [
            "\r 10%|█         | 2/20 [00:04<00:44,  2.48s/it]"
          ]
        },
        {
          "output_type": "stream",
          "name": "stdout",
          "text": [
            "EPOCH -  2 . Train Accuracy =  0.59375 , Validation Accuracy =  0.604533314704895\n"
          ]
        },
        {
          "output_type": "stream",
          "name": "stderr",
          "text": [
            "\r 15%|█▌        | 3/20 [00:07<00:42,  2.50s/it]"
          ]
        },
        {
          "output_type": "stream",
          "name": "stdout",
          "text": [
            "EPOCH -  3 . Train Accuracy =  0.59375 , Validation Accuracy =  0.6034666895866394\n"
          ]
        },
        {
          "output_type": "stream",
          "name": "stderr",
          "text": [
            "\r 20%|██        | 4/20 [00:10<00:44,  2.76s/it]"
          ]
        },
        {
          "output_type": "stream",
          "name": "stdout",
          "text": [
            "EPOCH -  4 . Train Accuracy =  0.59375 , Validation Accuracy =  0.3250666558742523\n"
          ]
        },
        {
          "output_type": "stream",
          "name": "stderr",
          "text": [
            "\r 25%|██▌       | 5/20 [00:13<00:39,  2.65s/it]"
          ]
        },
        {
          "output_type": "stream",
          "name": "stdout",
          "text": [
            "EPOCH -  5 . Train Accuracy =  0.28125 , Validation Accuracy =  0.5781333446502686\n"
          ]
        },
        {
          "output_type": "stream",
          "name": "stderr",
          "text": [
            "\r 30%|███       | 6/20 [00:15<00:36,  2.59s/it]"
          ]
        },
        {
          "output_type": "stream",
          "name": "stdout",
          "text": [
            "EPOCH -  6 . Train Accuracy =  0.578125 , Validation Accuracy =  0.6037333607673645\n"
          ]
        },
        {
          "output_type": "stream",
          "name": "stderr",
          "text": [
            "\r 35%|███▌      | 7/20 [00:18<00:33,  2.55s/it]"
          ]
        },
        {
          "output_type": "stream",
          "name": "stdout",
          "text": [
            "EPOCH -  7 . Train Accuracy =  0.78125 , Validation Accuracy =  0.6043999791145325\n"
          ]
        },
        {
          "output_type": "stream",
          "name": "stderr",
          "text": [
            "\r 40%|████      | 8/20 [00:20<00:31,  2.60s/it]"
          ]
        },
        {
          "output_type": "stream",
          "name": "stdout",
          "text": [
            "EPOCH -  8 . Train Accuracy =  0.59375 , Validation Accuracy =  0.6043999791145325\n"
          ]
        },
        {
          "output_type": "stream",
          "name": "stderr",
          "text": [
            "\r 45%|████▌     | 9/20 [00:23<00:29,  2.70s/it]"
          ]
        },
        {
          "output_type": "stream",
          "name": "stdout",
          "text": [
            "EPOCH -  9 . Train Accuracy =  0.65625 , Validation Accuracy =  0.6043999791145325\n"
          ]
        },
        {
          "output_type": "stream",
          "name": "stderr",
          "text": [
            "\r 50%|█████     | 10/20 [00:26<00:26,  2.64s/it]"
          ]
        },
        {
          "output_type": "stream",
          "name": "stdout",
          "text": [
            "EPOCH -  10 . Train Accuracy =  0.671875 , Validation Accuracy =  0.6043999791145325\n"
          ]
        },
        {
          "output_type": "stream",
          "name": "stderr",
          "text": [
            "\r 55%|█████▌    | 11/20 [00:28<00:23,  2.58s/it]"
          ]
        },
        {
          "output_type": "stream",
          "name": "stdout",
          "text": [
            "EPOCH -  11 . Train Accuracy =  0.59375 , Validation Accuracy =  0.6043999791145325\n"
          ]
        },
        {
          "output_type": "stream",
          "name": "stderr",
          "text": [
            "\r 60%|██████    | 12/20 [00:31<00:20,  2.56s/it]"
          ]
        },
        {
          "output_type": "stream",
          "name": "stdout",
          "text": [
            "EPOCH -  12 . Train Accuracy =  0.625 , Validation Accuracy =  0.6043999791145325\n"
          ]
        },
        {
          "output_type": "stream",
          "name": "stderr",
          "text": [
            "\r 65%|██████▌   | 13/20 [00:34<00:19,  2.72s/it]"
          ]
        },
        {
          "output_type": "stream",
          "name": "stdout",
          "text": [
            "EPOCH -  13 . Train Accuracy =  0.609375 , Validation Accuracy =  0.6043999791145325\n"
          ]
        },
        {
          "output_type": "stream",
          "name": "stderr",
          "text": [
            "\r 70%|███████   | 14/20 [00:36<00:16,  2.68s/it]"
          ]
        },
        {
          "output_type": "stream",
          "name": "stdout",
          "text": [
            "EPOCH -  14 . Train Accuracy =  0.484375 , Validation Accuracy =  0.6043999791145325\n"
          ]
        },
        {
          "output_type": "stream",
          "name": "stderr",
          "text": [
            "\r 75%|███████▌  | 15/20 [00:39<00:13,  2.63s/it]"
          ]
        },
        {
          "output_type": "stream",
          "name": "stdout",
          "text": [
            "EPOCH -  15 . Train Accuracy =  0.734375 , Validation Accuracy =  0.6043999791145325\n"
          ]
        },
        {
          "output_type": "stream",
          "name": "stderr",
          "text": [
            "\r 80%|████████  | 16/20 [00:41<00:10,  2.59s/it]"
          ]
        },
        {
          "output_type": "stream",
          "name": "stdout",
          "text": [
            "EPOCH -  16 . Train Accuracy =  0.59375 , Validation Accuracy =  0.6043999791145325\n"
          ]
        },
        {
          "output_type": "stream",
          "name": "stderr",
          "text": [
            "\r 85%|████████▌ | 17/20 [00:44<00:07,  2.56s/it]"
          ]
        },
        {
          "output_type": "stream",
          "name": "stdout",
          "text": [
            "EPOCH -  17 . Train Accuracy =  0.5625 , Validation Accuracy =  0.6043999791145325\n"
          ]
        },
        {
          "output_type": "stream",
          "name": "stderr",
          "text": [
            "\r 90%|█████████ | 18/20 [00:47<00:05,  2.74s/it]"
          ]
        },
        {
          "output_type": "stream",
          "name": "stdout",
          "text": [
            "EPOCH -  18 . Train Accuracy =  0.640625 , Validation Accuracy =  0.6043999791145325\n"
          ]
        },
        {
          "output_type": "stream",
          "name": "stderr",
          "text": [
            "\r 95%|█████████▌| 19/20 [00:49<00:02,  2.65s/it]"
          ]
        },
        {
          "output_type": "stream",
          "name": "stdout",
          "text": [
            "EPOCH -  19 . Train Accuracy =  0.5625 , Validation Accuracy =  0.6043999791145325\n"
          ]
        },
        {
          "output_type": "stream",
          "name": "stderr",
          "text": [
            "100%|██████████| 20/20 [00:52<00:00,  2.62s/it]\n"
          ]
        },
        {
          "output_type": "stream",
          "name": "stdout",
          "text": [
            "EPOCH -  20 . Train Accuracy =  0.609375 , Validation Accuracy =  0.6043999791145325\n"
          ]
        },
        {
          "output_type": "stream",
          "name": "stderr",
          "text": [
            "  5%|▌         | 1/20 [00:02<00:47,  2.52s/it]"
          ]
        },
        {
          "output_type": "stream",
          "name": "stdout",
          "text": [
            "EPOCH -  1 . Train Accuracy =  0.328125 , Validation Accuracy =  0.6042667031288147\n",
            "Model Re-Saved\n"
          ]
        },
        {
          "output_type": "stream",
          "name": "stderr",
          "text": [
            "\r 10%|█         | 2/20 [00:05<00:48,  2.67s/it]"
          ]
        },
        {
          "output_type": "stream",
          "name": "stdout",
          "text": [
            "EPOCH -  2 . Train Accuracy =  0.6875 , Validation Accuracy =  0.6043999791145325\n",
            "Model Re-Saved\n"
          ]
        },
        {
          "output_type": "stream",
          "name": "stderr",
          "text": [
            "\r 15%|█▌        | 3/20 [00:08<00:47,  2.77s/it]"
          ]
        },
        {
          "output_type": "stream",
          "name": "stdout",
          "text": [
            "EPOCH -  3 . Train Accuracy =  0.53125 , Validation Accuracy =  0.6043999791145325\n"
          ]
        },
        {
          "output_type": "stream",
          "name": "stderr",
          "text": [
            "\r 20%|██        | 4/20 [00:10<00:42,  2.66s/it]"
          ]
        },
        {
          "output_type": "stream",
          "name": "stdout",
          "text": [
            "EPOCH -  4 . Train Accuracy =  0.5 , Validation Accuracy =  0.6043999791145325\n"
          ]
        },
        {
          "output_type": "stream",
          "name": "stderr",
          "text": [
            "\r 25%|██▌       | 5/20 [00:13<00:38,  2.58s/it]"
          ]
        },
        {
          "output_type": "stream",
          "name": "stdout",
          "text": [
            "EPOCH -  5 . Train Accuracy =  0.609375 , Validation Accuracy =  0.6043999791145325\n"
          ]
        },
        {
          "output_type": "stream",
          "name": "stderr",
          "text": [
            "\r 30%|███       | 6/20 [00:15<00:35,  2.54s/it]"
          ]
        },
        {
          "output_type": "stream",
          "name": "stdout",
          "text": [
            "EPOCH -  6 . Train Accuracy =  0.546875 , Validation Accuracy =  0.6043999791145325\n"
          ]
        },
        {
          "output_type": "stream",
          "name": "stderr",
          "text": [
            "\r 35%|███▌      | 7/20 [00:18<00:34,  2.69s/it]"
          ]
        },
        {
          "output_type": "stream",
          "name": "stdout",
          "text": [
            "EPOCH -  7 . Train Accuracy =  0.578125 , Validation Accuracy =  0.6043999791145325\n"
          ]
        },
        {
          "output_type": "stream",
          "name": "stderr",
          "text": [
            "\r 40%|████      | 8/20 [00:21<00:31,  2.66s/it]"
          ]
        },
        {
          "output_type": "stream",
          "name": "stdout",
          "text": [
            "EPOCH -  8 . Train Accuracy =  0.671875 , Validation Accuracy =  0.6043999791145325\n"
          ]
        },
        {
          "output_type": "stream",
          "name": "stderr",
          "text": [
            "\r 45%|████▌     | 9/20 [00:23<00:28,  2.59s/it]"
          ]
        },
        {
          "output_type": "stream",
          "name": "stdout",
          "text": [
            "EPOCH -  9 . Train Accuracy =  0.515625 , Validation Accuracy =  0.6043999791145325\n"
          ]
        },
        {
          "output_type": "stream",
          "name": "stderr",
          "text": [
            "\r 50%|█████     | 10/20 [00:26<00:25,  2.55s/it]"
          ]
        },
        {
          "output_type": "stream",
          "name": "stdout",
          "text": [
            "EPOCH -  10 . Train Accuracy =  0.515625 , Validation Accuracy =  0.6043999791145325\n"
          ]
        },
        {
          "output_type": "stream",
          "name": "stderr",
          "text": [
            "\r 55%|█████▌    | 11/20 [00:28<00:22,  2.53s/it]"
          ]
        },
        {
          "output_type": "stream",
          "name": "stdout",
          "text": [
            "EPOCH -  11 . Train Accuracy =  0.59375 , Validation Accuracy =  0.6043999791145325\n"
          ]
        },
        {
          "output_type": "stream",
          "name": "stderr",
          "text": [
            "\r 60%|██████    | 12/20 [00:31<00:21,  2.72s/it]"
          ]
        },
        {
          "output_type": "stream",
          "name": "stdout",
          "text": [
            "EPOCH -  12 . Train Accuracy =  0.515625 , Validation Accuracy =  0.6043999791145325\n"
          ]
        },
        {
          "output_type": "stream",
          "name": "stderr",
          "text": [
            "\r 65%|██████▌   | 13/20 [00:34<00:18,  2.64s/it]"
          ]
        },
        {
          "output_type": "stream",
          "name": "stdout",
          "text": [
            "EPOCH -  13 . Train Accuracy =  0.625 , Validation Accuracy =  0.6043999791145325\n"
          ]
        },
        {
          "output_type": "stream",
          "name": "stderr",
          "text": [
            "\r 70%|███████   | 14/20 [00:36<00:15,  2.59s/it]"
          ]
        },
        {
          "output_type": "stream",
          "name": "stdout",
          "text": [
            "EPOCH -  14 . Train Accuracy =  0.5 , Validation Accuracy =  0.6043999791145325\n"
          ]
        },
        {
          "output_type": "stream",
          "name": "stderr",
          "text": [
            "\r 75%|███████▌  | 15/20 [00:39<00:12,  2.54s/it]"
          ]
        },
        {
          "output_type": "stream",
          "name": "stdout",
          "text": [
            "EPOCH -  15 . Train Accuracy =  0.59375 , Validation Accuracy =  0.6043999791145325\n"
          ]
        },
        {
          "output_type": "stream",
          "name": "stderr",
          "text": [
            "\r 80%|████████  | 16/20 [00:41<00:10,  2.58s/it]"
          ]
        },
        {
          "output_type": "stream",
          "name": "stdout",
          "text": [
            "EPOCH -  16 . Train Accuracy =  0.625 , Validation Accuracy =  0.6043999791145325\n"
          ]
        },
        {
          "output_type": "stream",
          "name": "stderr",
          "text": [
            "\r 85%|████████▌ | 17/20 [00:44<00:08,  2.71s/it]"
          ]
        },
        {
          "output_type": "stream",
          "name": "stdout",
          "text": [
            "EPOCH -  17 . Train Accuracy =  0.59375 , Validation Accuracy =  0.6043999791145325\n"
          ]
        },
        {
          "output_type": "stream",
          "name": "stderr",
          "text": [
            "\r 90%|█████████ | 18/20 [00:47<00:05,  2.64s/it]"
          ]
        },
        {
          "output_type": "stream",
          "name": "stdout",
          "text": [
            "EPOCH -  18 . Train Accuracy =  0.53125 , Validation Accuracy =  0.6043999791145325\n"
          ]
        },
        {
          "output_type": "stream",
          "name": "stderr",
          "text": [
            "\r 95%|█████████▌| 19/20 [00:49<00:02,  2.59s/it]"
          ]
        },
        {
          "output_type": "stream",
          "name": "stdout",
          "text": [
            "EPOCH -  19 . Train Accuracy =  0.609375 , Validation Accuracy =  0.6043999791145325\n"
          ]
        },
        {
          "output_type": "stream",
          "name": "stderr",
          "text": [
            "100%|██████████| 20/20 [00:52<00:00,  2.61s/it]\n"
          ]
        },
        {
          "output_type": "stream",
          "name": "stdout",
          "text": [
            "EPOCH -  20 . Train Accuracy =  0.59375 , Validation Accuracy =  0.6043999791145325\n"
          ]
        },
        {
          "output_type": "stream",
          "name": "stderr",
          "text": [
            "  5%|▌         | 1/20 [00:03<00:58,  3.06s/it]"
          ]
        },
        {
          "output_type": "stream",
          "name": "stdout",
          "text": [
            "EPOCH -  1 . Train Accuracy =  0.359375 , Validation Accuracy =  0.6043999791145325\n",
            "Model Re-Saved\n"
          ]
        },
        {
          "output_type": "stream",
          "name": "stderr",
          "text": [
            "\r 10%|█         | 2/20 [00:05<00:52,  2.90s/it]"
          ]
        },
        {
          "output_type": "stream",
          "name": "stdout",
          "text": [
            "EPOCH -  2 . Train Accuracy =  0.625 , Validation Accuracy =  0.6042667031288147\n"
          ]
        },
        {
          "output_type": "stream",
          "name": "stderr",
          "text": [
            "\r 15%|█▌        | 3/20 [00:08<00:46,  2.73s/it]"
          ]
        },
        {
          "output_type": "stream",
          "name": "stdout",
          "text": [
            "EPOCH -  3 . Train Accuracy =  0.5625 , Validation Accuracy =  0.46853333711624146\n"
          ]
        },
        {
          "output_type": "stream",
          "name": "stderr",
          "text": [
            "\r 20%|██        | 4/20 [00:10<00:42,  2.65s/it]"
          ]
        },
        {
          "output_type": "stream",
          "name": "stdout",
          "text": [
            "EPOCH -  4 . Train Accuracy =  0.328125 , Validation Accuracy =  0.39559999108314514\n"
          ]
        },
        {
          "output_type": "stream",
          "name": "stderr",
          "text": [
            "\r 25%|██▌       | 5/20 [00:13<00:39,  2.61s/it]"
          ]
        },
        {
          "output_type": "stream",
          "name": "stdout",
          "text": [
            "EPOCH -  5 . Train Accuracy =  0.359375 , Validation Accuracy =  0.39559999108314514\n"
          ]
        },
        {
          "output_type": "stream",
          "name": "stderr",
          "text": [
            "\r 30%|███       | 6/20 [00:16<00:39,  2.83s/it]"
          ]
        },
        {
          "output_type": "stream",
          "name": "stdout",
          "text": [
            "EPOCH -  6 . Train Accuracy =  0.40625 , Validation Accuracy =  0.39559999108314514\n"
          ]
        },
        {
          "output_type": "stream",
          "name": "stderr",
          "text": [
            "\r 35%|███▌      | 7/20 [00:19<00:35,  2.75s/it]"
          ]
        },
        {
          "output_type": "stream",
          "name": "stdout",
          "text": [
            "EPOCH -  7 . Train Accuracy =  0.46875 , Validation Accuracy =  0.39559999108314514\n"
          ]
        },
        {
          "output_type": "stream",
          "name": "stderr",
          "text": [
            "\r 40%|████      | 8/20 [00:21<00:32,  2.68s/it]"
          ]
        },
        {
          "output_type": "stream",
          "name": "stdout",
          "text": [
            "EPOCH -  8 . Train Accuracy =  0.359375 , Validation Accuracy =  0.39559999108314514\n"
          ]
        },
        {
          "output_type": "stream",
          "name": "stderr",
          "text": [
            "\r 45%|████▌     | 9/20 [00:24<00:29,  2.64s/it]"
          ]
        },
        {
          "output_type": "stream",
          "name": "stdout",
          "text": [
            "EPOCH -  9 . Train Accuracy =  0.359375 , Validation Accuracy =  0.39559999108314514\n"
          ]
        },
        {
          "output_type": "stream",
          "name": "stderr",
          "text": [
            "\r 50%|█████     | 10/20 [00:27<00:27,  2.72s/it]"
          ]
        },
        {
          "output_type": "stream",
          "name": "stdout",
          "text": [
            "EPOCH -  10 . Train Accuracy =  0.40625 , Validation Accuracy =  0.39559999108314514\n"
          ]
        },
        {
          "output_type": "stream",
          "name": "stderr",
          "text": [
            "\r 55%|█████▌    | 11/20 [00:30<00:24,  2.75s/it]"
          ]
        },
        {
          "output_type": "stream",
          "name": "stdout",
          "text": [
            "EPOCH -  11 . Train Accuracy =  0.453125 , Validation Accuracy =  0.39559999108314514\n"
          ]
        },
        {
          "output_type": "stream",
          "name": "stderr",
          "text": [
            "\r 60%|██████    | 12/20 [00:32<00:21,  2.67s/it]"
          ]
        },
        {
          "output_type": "stream",
          "name": "stdout",
          "text": [
            "EPOCH -  12 . Train Accuracy =  0.421875 , Validation Accuracy =  0.39559999108314514\n"
          ]
        },
        {
          "output_type": "stream",
          "name": "stderr",
          "text": [
            "\r 65%|██████▌   | 13/20 [00:35<00:18,  2.64s/it]"
          ]
        },
        {
          "output_type": "stream",
          "name": "stdout",
          "text": [
            "EPOCH -  13 . Train Accuracy =  0.484375 , Validation Accuracy =  0.39559999108314514\n"
          ]
        },
        {
          "output_type": "stream",
          "name": "stderr",
          "text": [
            "\r 70%|███████   | 14/20 [00:37<00:15,  2.60s/it]"
          ]
        },
        {
          "output_type": "stream",
          "name": "stdout",
          "text": [
            "EPOCH -  14 . Train Accuracy =  0.53125 , Validation Accuracy =  0.39559999108314514\n"
          ]
        },
        {
          "output_type": "stream",
          "name": "stderr",
          "text": [
            "\r 75%|███████▌  | 15/20 [00:41<00:14,  2.84s/it]"
          ]
        },
        {
          "output_type": "stream",
          "name": "stdout",
          "text": [
            "EPOCH -  15 . Train Accuracy =  0.34375 , Validation Accuracy =  0.39559999108314514\n"
          ]
        },
        {
          "output_type": "stream",
          "name": "stderr",
          "text": [
            "\r 80%|████████  | 16/20 [00:43<00:10,  2.75s/it]"
          ]
        },
        {
          "output_type": "stream",
          "name": "stdout",
          "text": [
            "EPOCH -  16 . Train Accuracy =  0.3125 , Validation Accuracy =  0.39559999108314514\n"
          ]
        },
        {
          "output_type": "stream",
          "name": "stderr",
          "text": [
            "\r 85%|████████▌ | 17/20 [00:46<00:08,  2.67s/it]"
          ]
        },
        {
          "output_type": "stream",
          "name": "stdout",
          "text": [
            "EPOCH -  17 . Train Accuracy =  0.453125 , Validation Accuracy =  0.39559999108314514\n"
          ]
        },
        {
          "output_type": "stream",
          "name": "stderr",
          "text": [
            "\r 90%|█████████ | 18/20 [00:48<00:05,  2.62s/it]"
          ]
        },
        {
          "output_type": "stream",
          "name": "stdout",
          "text": [
            "EPOCH -  18 . Train Accuracy =  0.3125 , Validation Accuracy =  0.39559999108314514\n"
          ]
        },
        {
          "output_type": "stream",
          "name": "stderr",
          "text": [
            "\r 95%|█████████▌| 19/20 [00:51<00:02,  2.67s/it]"
          ]
        },
        {
          "output_type": "stream",
          "name": "stdout",
          "text": [
            "EPOCH -  19 . Train Accuracy =  0.46875 , Validation Accuracy =  0.39559999108314514\n"
          ]
        },
        {
          "output_type": "stream",
          "name": "stderr",
          "text": [
            "100%|██████████| 20/20 [00:54<00:00,  2.71s/it]"
          ]
        },
        {
          "output_type": "stream",
          "name": "stdout",
          "text": [
            "EPOCH -  20 . Train Accuracy =  0.40625 , Validation Accuracy =  0.39559999108314514\n"
          ]
        },
        {
          "output_type": "stream",
          "name": "stderr",
          "text": [
            "\n",
            "<ipython-input-2-98ef64b1a863>:27: UserWarning: Implicit dimension choice for softmax has been deprecated. Change the call to include dim=X as an argument.\n",
            "  x = self.SftMax(self.fc1(x))\n"
          ]
        },
        {
          "output_type": "execute_result",
          "data": {
            "text/plain": [
              "tensor([2.9940], device='cuda:0', grad_fn=<AddBackward0>)"
            ]
          },
          "metadata": {},
          "execution_count": 43
        }
      ]
    },
    {
      "cell_type": "code",
      "source": [
        "val=evaluateGated(Gating_model,test_loader,device, ExpertModels)\n",
        "print(val)\n",
        "List_observations.append(val)"
      ],
      "metadata": {
        "colab": {
          "base_uri": "https://localhost:8080/"
        },
        "id": "tdHrpWrs8ycu",
        "outputId": "6ac2aa39-a710-485f-8cdf-052d633a07dd"
      },
      "execution_count": 44,
      "outputs": [
        {
          "output_type": "stream",
          "name": "stderr",
          "text": [
            "<ipython-input-2-98ef64b1a863>:27: UserWarning: Implicit dimension choice for softmax has been deprecated. Change the call to include dim=X as an argument.\n",
            "  x = self.SftMax(self.fc1(x))\n"
          ]
        },
        {
          "output_type": "stream",
          "name": "stdout",
          "text": [
            "0.6006\n"
          ]
        }
      ]
    },
    {
      "cell_type": "code",
      "source": [
        "ExpertModels = TrainExperts(8)\n",
        "\n",
        "Gating_model = Gating(32*32*3, 8).to(device)\n",
        "loss_criteria = nn.CrossEntropyLoss()\n",
        "AdamOpt = torch.optim.Adam(Gating_model.parameters(), lr=0.0001)\n",
        "\n",
        "trainGated(Gating_model,AdamOpt,loss_criteria,device,train_loader, ExpertModels)"
      ],
      "metadata": {
        "colab": {
          "base_uri": "https://localhost:8080/"
        },
        "id": "okiiR_f782XW",
        "outputId": "af897490-fc61-4b78-cf32-717d97f98d16"
      },
      "execution_count": 46,
      "outputs": [
        {
          "output_type": "stream",
          "name": "stderr",
          "text": [
            "\r  5%|▌         | 1/20 [00:02<00:56,  2.96s/it]"
          ]
        },
        {
          "output_type": "stream",
          "name": "stdout",
          "text": [
            "EPOCH -  1 . Train Accuracy =  0.515625 , Validation Accuracy =  0.6043999791145325\n",
            "Model Re-Saved\n"
          ]
        },
        {
          "output_type": "stream",
          "name": "stderr",
          "text": [
            "\r 10%|█         | 2/20 [00:05<00:48,  2.68s/it]"
          ]
        },
        {
          "output_type": "stream",
          "name": "stdout",
          "text": [
            "EPOCH -  2 . Train Accuracy =  0.640625 , Validation Accuracy =  0.4153333306312561\n"
          ]
        },
        {
          "output_type": "stream",
          "name": "stderr",
          "text": [
            "\r 15%|█▌        | 3/20 [00:08<00:44,  2.63s/it]"
          ]
        },
        {
          "output_type": "stream",
          "name": "stdout",
          "text": [
            "EPOCH -  3 . Train Accuracy =  0.328125 , Validation Accuracy =  0.6043999791145325\n"
          ]
        },
        {
          "output_type": "stream",
          "name": "stderr",
          "text": [
            "\r 20%|██        | 4/20 [00:10<00:41,  2.59s/it]"
          ]
        },
        {
          "output_type": "stream",
          "name": "stdout",
          "text": [
            "EPOCH -  4 . Train Accuracy =  0.578125 , Validation Accuracy =  0.6043999791145325\n"
          ]
        },
        {
          "output_type": "stream",
          "name": "stderr",
          "text": [
            "\r 25%|██▌       | 5/20 [00:13<00:42,  2.82s/it]"
          ]
        },
        {
          "output_type": "stream",
          "name": "stdout",
          "text": [
            "EPOCH -  5 . Train Accuracy =  0.5625 , Validation Accuracy =  0.6043999791145325\n"
          ]
        },
        {
          "output_type": "stream",
          "name": "stderr",
          "text": [
            "\r 30%|███       | 6/20 [00:16<00:37,  2.71s/it]"
          ]
        },
        {
          "output_type": "stream",
          "name": "stdout",
          "text": [
            "EPOCH -  6 . Train Accuracy =  0.546875 , Validation Accuracy =  0.6043999791145325\n"
          ]
        },
        {
          "output_type": "stream",
          "name": "stderr",
          "text": [
            "\r 35%|███▌      | 7/20 [00:18<00:34,  2.63s/it]"
          ]
        },
        {
          "output_type": "stream",
          "name": "stdout",
          "text": [
            "EPOCH -  7 . Train Accuracy =  0.640625 , Validation Accuracy =  0.6043999791145325\n"
          ]
        },
        {
          "output_type": "stream",
          "name": "stderr",
          "text": [
            "\r 40%|████      | 8/20 [00:21<00:31,  2.58s/it]"
          ]
        },
        {
          "output_type": "stream",
          "name": "stdout",
          "text": [
            "EPOCH -  8 . Train Accuracy =  0.59375 , Validation Accuracy =  0.6043999791145325\n"
          ]
        },
        {
          "output_type": "stream",
          "name": "stderr",
          "text": [
            "\r 45%|████▌     | 9/20 [00:23<00:28,  2.56s/it]"
          ]
        },
        {
          "output_type": "stream",
          "name": "stdout",
          "text": [
            "EPOCH -  9 . Train Accuracy =  0.578125 , Validation Accuracy =  0.6043999791145325\n"
          ]
        },
        {
          "output_type": "stream",
          "name": "stderr",
          "text": [
            "\r 50%|█████     | 10/20 [00:26<00:27,  2.73s/it]"
          ]
        },
        {
          "output_type": "stream",
          "name": "stdout",
          "text": [
            "EPOCH -  10 . Train Accuracy =  0.609375 , Validation Accuracy =  0.6043999791145325\n"
          ]
        },
        {
          "output_type": "stream",
          "name": "stderr",
          "text": [
            "\r 55%|█████▌    | 11/20 [00:29<00:24,  2.70s/it]"
          ]
        },
        {
          "output_type": "stream",
          "name": "stdout",
          "text": [
            "EPOCH -  11 . Train Accuracy =  0.6875 , Validation Accuracy =  0.6043999791145325\n"
          ]
        },
        {
          "output_type": "stream",
          "name": "stderr",
          "text": [
            "\r 60%|██████    | 12/20 [00:32<00:21,  2.69s/it]"
          ]
        },
        {
          "output_type": "stream",
          "name": "stdout",
          "text": [
            "EPOCH -  12 . Train Accuracy =  0.59375 , Validation Accuracy =  0.6043999791145325\n"
          ]
        },
        {
          "output_type": "stream",
          "name": "stderr",
          "text": [
            "\r 65%|██████▌   | 13/20 [00:34<00:18,  2.63s/it]"
          ]
        },
        {
          "output_type": "stream",
          "name": "stdout",
          "text": [
            "EPOCH -  13 . Train Accuracy =  0.65625 , Validation Accuracy =  0.6043999791145325\n"
          ]
        },
        {
          "output_type": "stream",
          "name": "stderr",
          "text": [
            "\r 70%|███████   | 14/20 [00:37<00:16,  2.73s/it]"
          ]
        },
        {
          "output_type": "stream",
          "name": "stdout",
          "text": [
            "EPOCH -  14 . Train Accuracy =  0.46875 , Validation Accuracy =  0.6043999791145325\n"
          ]
        },
        {
          "output_type": "stream",
          "name": "stderr",
          "text": [
            "\r 75%|███████▌  | 15/20 [00:40<00:13,  2.70s/it]"
          ]
        },
        {
          "output_type": "stream",
          "name": "stdout",
          "text": [
            "EPOCH -  15 . Train Accuracy =  0.640625 , Validation Accuracy =  0.6043999791145325\n"
          ]
        },
        {
          "output_type": "stream",
          "name": "stderr",
          "text": [
            "\r 80%|████████  | 16/20 [00:42<00:10,  2.63s/it]"
          ]
        },
        {
          "output_type": "stream",
          "name": "stdout",
          "text": [
            "EPOCH -  16 . Train Accuracy =  0.703125 , Validation Accuracy =  0.6043999791145325\n"
          ]
        },
        {
          "output_type": "stream",
          "name": "stderr",
          "text": [
            "\r 85%|████████▌ | 17/20 [00:45<00:07,  2.57s/it]"
          ]
        },
        {
          "output_type": "stream",
          "name": "stdout",
          "text": [
            "EPOCH -  17 . Train Accuracy =  0.640625 , Validation Accuracy =  0.6043999791145325\n"
          ]
        },
        {
          "output_type": "stream",
          "name": "stderr",
          "text": [
            "\r 90%|█████████ | 18/20 [00:47<00:05,  2.53s/it]"
          ]
        },
        {
          "output_type": "stream",
          "name": "stdout",
          "text": [
            "EPOCH -  18 . Train Accuracy =  0.546875 , Validation Accuracy =  0.6043999791145325\n"
          ]
        },
        {
          "output_type": "stream",
          "name": "stderr",
          "text": [
            "\r 95%|█████████▌| 19/20 [00:50<00:02,  2.73s/it]"
          ]
        },
        {
          "output_type": "stream",
          "name": "stdout",
          "text": [
            "EPOCH -  19 . Train Accuracy =  0.59375 , Validation Accuracy =  0.6043999791145325\n"
          ]
        },
        {
          "output_type": "stream",
          "name": "stderr",
          "text": [
            "100%|██████████| 20/20 [00:53<00:00,  2.66s/it]\n"
          ]
        },
        {
          "output_type": "stream",
          "name": "stdout",
          "text": [
            "EPOCH -  20 . Train Accuracy =  0.65625 , Validation Accuracy =  0.6043999791145325\n"
          ]
        },
        {
          "output_type": "stream",
          "name": "stderr",
          "text": [
            "  5%|▌         | 1/20 [00:02<00:47,  2.50s/it]"
          ]
        },
        {
          "output_type": "stream",
          "name": "stdout",
          "text": [
            "EPOCH -  1 . Train Accuracy =  0.328125 , Validation Accuracy =  0.603866696357727\n",
            "Model Re-Saved\n"
          ]
        },
        {
          "output_type": "stream",
          "name": "stderr",
          "text": [
            "\r 10%|█         | 2/20 [00:04<00:44,  2.48s/it]"
          ]
        },
        {
          "output_type": "stream",
          "name": "stdout",
          "text": [
            "EPOCH -  2 . Train Accuracy =  0.578125 , Validation Accuracy =  0.603866696357727\n"
          ]
        },
        {
          "output_type": "stream",
          "name": "stderr",
          "text": [
            "\r 15%|█▌        | 3/20 [00:07<00:43,  2.56s/it]"
          ]
        },
        {
          "output_type": "stream",
          "name": "stdout",
          "text": [
            "EPOCH -  3 . Train Accuracy =  0.546875 , Validation Accuracy =  0.43026667833328247\n"
          ]
        },
        {
          "output_type": "stream",
          "name": "stderr",
          "text": [
            "\r 20%|██        | 4/20 [00:10<00:44,  2.75s/it]"
          ]
        },
        {
          "output_type": "stream",
          "name": "stdout",
          "text": [
            "EPOCH -  4 . Train Accuracy =  0.46875 , Validation Accuracy =  0.6043999791145325\n",
            "Model Re-Saved\n"
          ]
        },
        {
          "output_type": "stream",
          "name": "stderr",
          "text": [
            "\r 25%|██▌       | 5/20 [00:13<00:39,  2.67s/it]"
          ]
        },
        {
          "output_type": "stream",
          "name": "stdout",
          "text": [
            "EPOCH -  5 . Train Accuracy =  0.65625 , Validation Accuracy =  0.6043999791145325\n"
          ]
        },
        {
          "output_type": "stream",
          "name": "stderr",
          "text": [
            "\r 30%|███       | 6/20 [00:15<00:36,  2.60s/it]"
          ]
        },
        {
          "output_type": "stream",
          "name": "stdout",
          "text": [
            "EPOCH -  6 . Train Accuracy =  0.578125 , Validation Accuracy =  0.6043999791145325\n"
          ]
        },
        {
          "output_type": "stream",
          "name": "stderr",
          "text": [
            "\r 35%|███▌      | 7/20 [00:18<00:33,  2.57s/it]"
          ]
        },
        {
          "output_type": "stream",
          "name": "stdout",
          "text": [
            "EPOCH -  7 . Train Accuracy =  0.640625 , Validation Accuracy =  0.6043999791145325\n"
          ]
        },
        {
          "output_type": "stream",
          "name": "stderr",
          "text": [
            "\r 40%|████      | 8/20 [00:21<00:32,  2.68s/it]"
          ]
        },
        {
          "output_type": "stream",
          "name": "stdout",
          "text": [
            "EPOCH -  8 . Train Accuracy =  0.703125 , Validation Accuracy =  0.6043999791145325\n"
          ]
        },
        {
          "output_type": "stream",
          "name": "stderr",
          "text": [
            "\r 45%|████▌     | 9/20 [00:23<00:29,  2.67s/it]"
          ]
        },
        {
          "output_type": "stream",
          "name": "stdout",
          "text": [
            "EPOCH -  9 . Train Accuracy =  0.5625 , Validation Accuracy =  0.6043999791145325\n"
          ]
        },
        {
          "output_type": "stream",
          "name": "stderr",
          "text": [
            "\r 50%|█████     | 10/20 [00:26<00:26,  2.61s/it]"
          ]
        },
        {
          "output_type": "stream",
          "name": "stdout",
          "text": [
            "EPOCH -  10 . Train Accuracy =  0.578125 , Validation Accuracy =  0.6043999791145325\n"
          ]
        },
        {
          "output_type": "stream",
          "name": "stderr",
          "text": [
            "\r 55%|█████▌    | 11/20 [00:28<00:23,  2.58s/it]"
          ]
        },
        {
          "output_type": "stream",
          "name": "stdout",
          "text": [
            "EPOCH -  11 . Train Accuracy =  0.546875 , Validation Accuracy =  0.6043999791145325\n"
          ]
        },
        {
          "output_type": "stream",
          "name": "stderr",
          "text": [
            "\r 60%|██████    | 12/20 [00:31<00:20,  2.55s/it]"
          ]
        },
        {
          "output_type": "stream",
          "name": "stdout",
          "text": [
            "EPOCH -  12 . Train Accuracy =  0.53125 , Validation Accuracy =  0.6043999791145325\n"
          ]
        },
        {
          "output_type": "stream",
          "name": "stderr",
          "text": [
            "\r 65%|██████▌   | 13/20 [00:34<00:19,  2.73s/it]"
          ]
        },
        {
          "output_type": "stream",
          "name": "stdout",
          "text": [
            "EPOCH -  13 . Train Accuracy =  0.6875 , Validation Accuracy =  0.6043999791145325\n"
          ]
        },
        {
          "output_type": "stream",
          "name": "stderr",
          "text": [
            "\r 70%|███████   | 14/20 [00:36<00:15,  2.65s/it]"
          ]
        },
        {
          "output_type": "stream",
          "name": "stdout",
          "text": [
            "EPOCH -  14 . Train Accuracy =  0.640625 , Validation Accuracy =  0.6043999791145325\n"
          ]
        },
        {
          "output_type": "stream",
          "name": "stderr",
          "text": [
            "\r 75%|███████▌  | 15/20 [00:39<00:12,  2.59s/it]"
          ]
        },
        {
          "output_type": "stream",
          "name": "stdout",
          "text": [
            "EPOCH -  15 . Train Accuracy =  0.453125 , Validation Accuracy =  0.6043999791145325\n"
          ]
        },
        {
          "output_type": "stream",
          "name": "stderr",
          "text": [
            "\r 80%|████████  | 16/20 [00:41<00:10,  2.55s/it]"
          ]
        },
        {
          "output_type": "stream",
          "name": "stdout",
          "text": [
            "EPOCH -  16 . Train Accuracy =  0.640625 , Validation Accuracy =  0.6043999791145325\n"
          ]
        },
        {
          "output_type": "stream",
          "name": "stderr",
          "text": [
            "\r 85%|████████▌ | 17/20 [00:44<00:07,  2.54s/it]"
          ]
        },
        {
          "output_type": "stream",
          "name": "stdout",
          "text": [
            "EPOCH -  17 . Train Accuracy =  0.703125 , Validation Accuracy =  0.6043999791145325\n"
          ]
        },
        {
          "output_type": "stream",
          "name": "stderr",
          "text": [
            "\r 90%|█████████ | 18/20 [00:47<00:05,  2.70s/it]"
          ]
        },
        {
          "output_type": "stream",
          "name": "stdout",
          "text": [
            "EPOCH -  18 . Train Accuracy =  0.53125 , Validation Accuracy =  0.6043999791145325\n"
          ]
        },
        {
          "output_type": "stream",
          "name": "stderr",
          "text": [
            "\r 95%|█████████▌| 19/20 [00:49<00:02,  2.65s/it]"
          ]
        },
        {
          "output_type": "stream",
          "name": "stdout",
          "text": [
            "EPOCH -  19 . Train Accuracy =  0.625 , Validation Accuracy =  0.6043999791145325\n"
          ]
        },
        {
          "output_type": "stream",
          "name": "stderr",
          "text": [
            "100%|██████████| 20/20 [00:52<00:00,  2.63s/it]\n"
          ]
        },
        {
          "output_type": "stream",
          "name": "stdout",
          "text": [
            "EPOCH -  20 . Train Accuracy =  0.609375 , Validation Accuracy =  0.6043999791145325\n"
          ]
        },
        {
          "output_type": "stream",
          "name": "stderr",
          "text": [
            "  5%|▌         | 1/20 [00:02<00:47,  2.51s/it]"
          ]
        },
        {
          "output_type": "stream",
          "name": "stdout",
          "text": [
            "EPOCH -  1 . Train Accuracy =  0.59375 , Validation Accuracy =  0.6030666828155518\n",
            "Model Re-Saved\n"
          ]
        },
        {
          "output_type": "stream",
          "name": "stderr",
          "text": [
            "\r 10%|█         | 2/20 [00:05<00:50,  2.79s/it]"
          ]
        },
        {
          "output_type": "stream",
          "name": "stdout",
          "text": [
            "EPOCH -  2 . Train Accuracy =  0.53125 , Validation Accuracy =  0.39559999108314514\n"
          ]
        },
        {
          "output_type": "stream",
          "name": "stderr",
          "text": [
            "\r 15%|█▌        | 3/20 [00:08<00:46,  2.72s/it]"
          ]
        },
        {
          "output_type": "stream",
          "name": "stdout",
          "text": [
            "EPOCH -  3 . Train Accuracy =  0.40625 , Validation Accuracy =  0.39559999108314514\n"
          ]
        },
        {
          "output_type": "stream",
          "name": "stderr",
          "text": [
            "\r 20%|██        | 4/20 [00:10<00:42,  2.63s/it]"
          ]
        },
        {
          "output_type": "stream",
          "name": "stdout",
          "text": [
            "EPOCH -  4 . Train Accuracy =  0.359375 , Validation Accuracy =  0.39559999108314514\n"
          ]
        },
        {
          "output_type": "stream",
          "name": "stderr",
          "text": [
            "\r 25%|██▌       | 5/20 [00:13<00:38,  2.56s/it]"
          ]
        },
        {
          "output_type": "stream",
          "name": "stdout",
          "text": [
            "EPOCH -  5 . Train Accuracy =  0.46875 , Validation Accuracy =  0.39559999108314514\n"
          ]
        },
        {
          "output_type": "stream",
          "name": "stderr",
          "text": [
            "\r 30%|███       | 6/20 [00:15<00:35,  2.53s/it]"
          ]
        },
        {
          "output_type": "stream",
          "name": "stdout",
          "text": [
            "EPOCH -  6 . Train Accuracy =  0.40625 , Validation Accuracy =  0.39559999108314514\n"
          ]
        },
        {
          "output_type": "stream",
          "name": "stderr",
          "text": [
            "\r 35%|███▌      | 7/20 [00:18<00:35,  2.74s/it]"
          ]
        },
        {
          "output_type": "stream",
          "name": "stdout",
          "text": [
            "EPOCH -  7 . Train Accuracy =  0.40625 , Validation Accuracy =  0.39559999108314514\n"
          ]
        },
        {
          "output_type": "stream",
          "name": "stderr",
          "text": [
            "\r 40%|████      | 8/20 [00:21<00:31,  2.64s/it]"
          ]
        },
        {
          "output_type": "stream",
          "name": "stdout",
          "text": [
            "EPOCH -  8 . Train Accuracy =  0.296875 , Validation Accuracy =  0.39559999108314514\n"
          ]
        },
        {
          "output_type": "stream",
          "name": "stderr",
          "text": [
            "\r 45%|████▌     | 9/20 [00:23<00:28,  2.60s/it]"
          ]
        },
        {
          "output_type": "stream",
          "name": "stdout",
          "text": [
            "EPOCH -  9 . Train Accuracy =  0.40625 , Validation Accuracy =  0.39559999108314514\n"
          ]
        },
        {
          "output_type": "stream",
          "name": "stderr",
          "text": [
            "\r 50%|█████     | 10/20 [00:26<00:25,  2.56s/it]"
          ]
        },
        {
          "output_type": "stream",
          "name": "stdout",
          "text": [
            "EPOCH -  10 . Train Accuracy =  0.46875 , Validation Accuracy =  0.39559999108314514\n"
          ]
        },
        {
          "output_type": "stream",
          "name": "stderr",
          "text": [
            "\r 55%|█████▌    | 11/20 [00:28<00:23,  2.58s/it]"
          ]
        },
        {
          "output_type": "stream",
          "name": "stdout",
          "text": [
            "EPOCH -  11 . Train Accuracy =  0.390625 , Validation Accuracy =  0.39559999108314514\n"
          ]
        },
        {
          "output_type": "stream",
          "name": "stderr",
          "text": [
            "\r 60%|██████    | 12/20 [00:31<00:21,  2.71s/it]"
          ]
        },
        {
          "output_type": "stream",
          "name": "stdout",
          "text": [
            "EPOCH -  12 . Train Accuracy =  0.46875 , Validation Accuracy =  0.39559999108314514\n"
          ]
        },
        {
          "output_type": "stream",
          "name": "stderr",
          "text": [
            "\r 65%|██████▌   | 13/20 [00:34<00:18,  2.64s/it]"
          ]
        },
        {
          "output_type": "stream",
          "name": "stdout",
          "text": [
            "EPOCH -  13 . Train Accuracy =  0.328125 , Validation Accuracy =  0.39559999108314514\n"
          ]
        },
        {
          "output_type": "stream",
          "name": "stderr",
          "text": [
            "\r 70%|███████   | 14/20 [00:36<00:15,  2.59s/it]"
          ]
        },
        {
          "output_type": "stream",
          "name": "stdout",
          "text": [
            "EPOCH -  14 . Train Accuracy =  0.328125 , Validation Accuracy =  0.39559999108314514\n"
          ]
        },
        {
          "output_type": "stream",
          "name": "stderr",
          "text": [
            "\r 75%|███████▌  | 15/20 [00:39<00:12,  2.55s/it]"
          ]
        },
        {
          "output_type": "stream",
          "name": "stdout",
          "text": [
            "EPOCH -  15 . Train Accuracy =  0.375 , Validation Accuracy =  0.39559999108314514\n"
          ]
        },
        {
          "output_type": "stream",
          "name": "stderr",
          "text": [
            "\r 80%|████████  | 16/20 [00:42<00:10,  2.65s/it]"
          ]
        },
        {
          "output_type": "stream",
          "name": "stdout",
          "text": [
            "EPOCH -  16 . Train Accuracy =  0.484375 , Validation Accuracy =  0.39559999108314514\n"
          ]
        },
        {
          "output_type": "stream",
          "name": "stderr",
          "text": [
            "\r 85%|████████▌ | 17/20 [00:44<00:08,  2.69s/it]"
          ]
        },
        {
          "output_type": "stream",
          "name": "stdout",
          "text": [
            "EPOCH -  17 . Train Accuracy =  0.5 , Validation Accuracy =  0.39559999108314514\n"
          ]
        },
        {
          "output_type": "stream",
          "name": "stderr",
          "text": [
            "\r 90%|█████████ | 18/20 [00:47<00:05,  2.61s/it]"
          ]
        },
        {
          "output_type": "stream",
          "name": "stdout",
          "text": [
            "EPOCH -  18 . Train Accuracy =  0.375 , Validation Accuracy =  0.39559999108314514\n"
          ]
        },
        {
          "output_type": "stream",
          "name": "stderr",
          "text": [
            "\r 95%|█████████▌| 19/20 [00:49<00:02,  2.56s/it]"
          ]
        },
        {
          "output_type": "stream",
          "name": "stdout",
          "text": [
            "EPOCH -  19 . Train Accuracy =  0.359375 , Validation Accuracy =  0.39559999108314514\n"
          ]
        },
        {
          "output_type": "stream",
          "name": "stderr",
          "text": [
            "100%|██████████| 20/20 [00:52<00:00,  2.61s/it]\n"
          ]
        },
        {
          "output_type": "stream",
          "name": "stdout",
          "text": [
            "EPOCH -  20 . Train Accuracy =  0.390625 , Validation Accuracy =  0.39559999108314514\n"
          ]
        },
        {
          "output_type": "stream",
          "name": "stderr",
          "text": [
            "  5%|▌         | 1/20 [00:03<00:59,  3.15s/it]"
          ]
        },
        {
          "output_type": "stream",
          "name": "stdout",
          "text": [
            "EPOCH -  1 . Train Accuracy =  0.5625 , Validation Accuracy =  0.6042667031288147\n",
            "Model Re-Saved\n"
          ]
        },
        {
          "output_type": "stream",
          "name": "stderr",
          "text": [
            "\r 10%|█         | 2/20 [00:05<00:49,  2.76s/it]"
          ]
        },
        {
          "output_type": "stream",
          "name": "stdout",
          "text": [
            "EPOCH -  2 . Train Accuracy =  0.71875 , Validation Accuracy =  0.6040000319480896\n"
          ]
        },
        {
          "output_type": "stream",
          "name": "stderr",
          "text": [
            "\r 15%|█▌        | 3/20 [00:08<00:44,  2.65s/it]"
          ]
        },
        {
          "output_type": "stream",
          "name": "stdout",
          "text": [
            "EPOCH -  3 . Train Accuracy =  0.703125 , Validation Accuracy =  0.604533314704895\n",
            "Model Re-Saved\n"
          ]
        },
        {
          "output_type": "stream",
          "name": "stderr",
          "text": [
            "\r 20%|██        | 4/20 [00:10<00:41,  2.60s/it]"
          ]
        },
        {
          "output_type": "stream",
          "name": "stdout",
          "text": [
            "EPOCH -  4 . Train Accuracy =  0.6875 , Validation Accuracy =  0.6046666502952576\n",
            "Model Re-Saved\n"
          ]
        },
        {
          "output_type": "stream",
          "name": "stderr",
          "text": [
            "\r 25%|██▌       | 5/20 [00:13<00:39,  2.63s/it]"
          ]
        },
        {
          "output_type": "stream",
          "name": "stdout",
          "text": [
            "EPOCH -  5 . Train Accuracy =  0.609375 , Validation Accuracy =  0.603866696357727\n"
          ]
        },
        {
          "output_type": "stream",
          "name": "stderr",
          "text": [
            "\r 30%|███       | 6/20 [00:16<00:38,  2.77s/it]"
          ]
        },
        {
          "output_type": "stream",
          "name": "stdout",
          "text": [
            "EPOCH -  6 . Train Accuracy =  0.640625 , Validation Accuracy =  0.6018666625022888\n"
          ]
        },
        {
          "output_type": "stream",
          "name": "stderr",
          "text": [
            "\r 35%|███▌      | 7/20 [00:18<00:34,  2.68s/it]"
          ]
        },
        {
          "output_type": "stream",
          "name": "stdout",
          "text": [
            "EPOCH -  7 . Train Accuracy =  0.640625 , Validation Accuracy =  0.5510666966438293\n"
          ]
        },
        {
          "output_type": "stream",
          "name": "stderr",
          "text": [
            "\r 40%|████      | 8/20 [00:21<00:31,  2.61s/it]"
          ]
        },
        {
          "output_type": "stream",
          "name": "stdout",
          "text": [
            "EPOCH -  8 . Train Accuracy =  0.5 , Validation Accuracy =  0.6000000238418579\n"
          ]
        },
        {
          "output_type": "stream",
          "name": "stderr",
          "text": [
            "\r 45%|████▌     | 9/20 [00:23<00:28,  2.55s/it]"
          ]
        },
        {
          "output_type": "stream",
          "name": "stdout",
          "text": [
            "EPOCH -  9 . Train Accuracy =  0.484375 , Validation Accuracy =  0.6043999791145325\n"
          ]
        },
        {
          "output_type": "stream",
          "name": "stderr",
          "text": [
            "\r 50%|█████     | 10/20 [00:26<00:26,  2.65s/it]"
          ]
        },
        {
          "output_type": "stream",
          "name": "stdout",
          "text": [
            "EPOCH -  10 . Train Accuracy =  0.578125 , Validation Accuracy =  0.6046666502952576\n"
          ]
        },
        {
          "output_type": "stream",
          "name": "stderr",
          "text": [
            "\r 55%|█████▌    | 11/20 [00:29<00:24,  2.67s/it]"
          ]
        },
        {
          "output_type": "stream",
          "name": "stdout",
          "text": [
            "EPOCH -  11 . Train Accuracy =  0.671875 , Validation Accuracy =  0.6043999791145325\n"
          ]
        },
        {
          "output_type": "stream",
          "name": "stderr",
          "text": [
            "\r 60%|██████    | 12/20 [00:31<00:20,  2.62s/it]"
          ]
        },
        {
          "output_type": "stream",
          "name": "stdout",
          "text": [
            "EPOCH -  12 . Train Accuracy =  0.546875 , Validation Accuracy =  0.6043999791145325\n"
          ]
        },
        {
          "output_type": "stream",
          "name": "stderr",
          "text": [
            "\r 65%|██████▌   | 13/20 [00:34<00:18,  2.58s/it]"
          ]
        },
        {
          "output_type": "stream",
          "name": "stdout",
          "text": [
            "EPOCH -  13 . Train Accuracy =  0.515625 , Validation Accuracy =  0.6043999791145325\n"
          ]
        },
        {
          "output_type": "stream",
          "name": "stderr",
          "text": [
            "\r 70%|███████   | 14/20 [00:36<00:15,  2.54s/it]"
          ]
        },
        {
          "output_type": "stream",
          "name": "stdout",
          "text": [
            "EPOCH -  14 . Train Accuracy =  0.609375 , Validation Accuracy =  0.6043999791145325\n"
          ]
        },
        {
          "output_type": "stream",
          "name": "stderr",
          "text": [
            "\r 75%|███████▌  | 15/20 [00:39<00:13,  2.72s/it]"
          ]
        },
        {
          "output_type": "stream",
          "name": "stdout",
          "text": [
            "EPOCH -  15 . Train Accuracy =  0.53125 , Validation Accuracy =  0.6043999791145325\n"
          ]
        },
        {
          "output_type": "stream",
          "name": "stderr",
          "text": [
            "\r 80%|████████  | 16/20 [00:42<00:10,  2.66s/it]"
          ]
        },
        {
          "output_type": "stream",
          "name": "stdout",
          "text": [
            "EPOCH -  16 . Train Accuracy =  0.59375 , Validation Accuracy =  0.6043999791145325\n"
          ]
        },
        {
          "output_type": "stream",
          "name": "stderr",
          "text": [
            "\r 85%|████████▌ | 17/20 [00:44<00:07,  2.61s/it]"
          ]
        },
        {
          "output_type": "stream",
          "name": "stdout",
          "text": [
            "EPOCH -  17 . Train Accuracy =  0.625 , Validation Accuracy =  0.6043999791145325\n"
          ]
        },
        {
          "output_type": "stream",
          "name": "stderr",
          "text": [
            "\r 90%|█████████ | 18/20 [00:47<00:05,  2.56s/it]"
          ]
        },
        {
          "output_type": "stream",
          "name": "stdout",
          "text": [
            "EPOCH -  18 . Train Accuracy =  0.59375 , Validation Accuracy =  0.6043999791145325\n"
          ]
        },
        {
          "output_type": "stream",
          "name": "stderr",
          "text": [
            "\r 95%|█████████▌| 19/20 [00:49<00:02,  2.56s/it]"
          ]
        },
        {
          "output_type": "stream",
          "name": "stdout",
          "text": [
            "EPOCH -  19 . Train Accuracy =  0.53125 , Validation Accuracy =  0.6043999791145325\n"
          ]
        },
        {
          "output_type": "stream",
          "name": "stderr",
          "text": [
            "100%|██████████| 20/20 [00:53<00:00,  2.65s/it]\n"
          ]
        },
        {
          "output_type": "stream",
          "name": "stdout",
          "text": [
            "EPOCH -  20 . Train Accuracy =  0.65625 , Validation Accuracy =  0.6043999791145325\n"
          ]
        },
        {
          "output_type": "stream",
          "name": "stderr",
          "text": [
            "  5%|▌         | 1/20 [00:02<00:48,  2.54s/it]"
          ]
        },
        {
          "output_type": "stream",
          "name": "stdout",
          "text": [
            "EPOCH -  1 . Train Accuracy =  0.671875 , Validation Accuracy =  0.6043999791145325\n",
            "Model Re-Saved\n"
          ]
        },
        {
          "output_type": "stream",
          "name": "stderr",
          "text": [
            "\r 10%|█         | 2/20 [00:04<00:44,  2.49s/it]"
          ]
        },
        {
          "output_type": "stream",
          "name": "stdout",
          "text": [
            "EPOCH -  2 . Train Accuracy =  0.625 , Validation Accuracy =  0.6041333675384521\n"
          ]
        },
        {
          "output_type": "stream",
          "name": "stderr",
          "text": [
            "\r 15%|█▌        | 3/20 [00:07<00:42,  2.48s/it]"
          ]
        },
        {
          "output_type": "stream",
          "name": "stdout",
          "text": [
            "EPOCH -  3 . Train Accuracy =  0.546875 , Validation Accuracy =  0.5527999997138977\n"
          ]
        },
        {
          "output_type": "stream",
          "name": "stderr",
          "text": [
            "\r 20%|██        | 4/20 [00:10<00:42,  2.64s/it]"
          ]
        },
        {
          "output_type": "stream",
          "name": "stdout",
          "text": [
            "EPOCH -  4 . Train Accuracy =  0.609375 , Validation Accuracy =  0.39559999108314514\n"
          ]
        },
        {
          "output_type": "stream",
          "name": "stderr",
          "text": [
            "\r 25%|██▌       | 5/20 [00:13<00:40,  2.67s/it]"
          ]
        },
        {
          "output_type": "stream",
          "name": "stdout",
          "text": [
            "EPOCH -  5 . Train Accuracy =  0.40625 , Validation Accuracy =  0.39559999108314514\n"
          ]
        },
        {
          "output_type": "stream",
          "name": "stderr",
          "text": [
            "\r 30%|███       | 6/20 [00:15<00:36,  2.60s/it]"
          ]
        },
        {
          "output_type": "stream",
          "name": "stdout",
          "text": [
            "EPOCH -  6 . Train Accuracy =  0.390625 , Validation Accuracy =  0.39559999108314514\n"
          ]
        },
        {
          "output_type": "stream",
          "name": "stderr",
          "text": [
            "\r 35%|███▌      | 7/20 [00:18<00:33,  2.57s/it]"
          ]
        },
        {
          "output_type": "stream",
          "name": "stdout",
          "text": [
            "EPOCH -  7 . Train Accuracy =  0.453125 , Validation Accuracy =  0.39559999108314514\n"
          ]
        },
        {
          "output_type": "stream",
          "name": "stderr",
          "text": [
            "\r 40%|████      | 8/20 [00:20<00:30,  2.55s/it]"
          ]
        },
        {
          "output_type": "stream",
          "name": "stdout",
          "text": [
            "EPOCH -  8 . Train Accuracy =  0.3125 , Validation Accuracy =  0.39559999108314514\n"
          ]
        },
        {
          "output_type": "stream",
          "name": "stderr",
          "text": [
            "\r 45%|████▌     | 9/20 [00:23<00:30,  2.76s/it]"
          ]
        },
        {
          "output_type": "stream",
          "name": "stdout",
          "text": [
            "EPOCH -  9 . Train Accuracy =  0.453125 , Validation Accuracy =  0.39559999108314514\n"
          ]
        },
        {
          "output_type": "stream",
          "name": "stderr",
          "text": [
            "\r 50%|█████     | 10/20 [00:26<00:26,  2.67s/it]"
          ]
        },
        {
          "output_type": "stream",
          "name": "stdout",
          "text": [
            "EPOCH -  10 . Train Accuracy =  0.375 , Validation Accuracy =  0.39559999108314514\n"
          ]
        },
        {
          "output_type": "stream",
          "name": "stderr",
          "text": [
            "\r 55%|█████▌    | 11/20 [00:28<00:23,  2.63s/it]"
          ]
        },
        {
          "output_type": "stream",
          "name": "stdout",
          "text": [
            "EPOCH -  11 . Train Accuracy =  0.375 , Validation Accuracy =  0.39559999108314514\n"
          ]
        },
        {
          "output_type": "stream",
          "name": "stderr",
          "text": [
            "\r 60%|██████    | 12/20 [00:31<00:20,  2.61s/it]"
          ]
        },
        {
          "output_type": "stream",
          "name": "stdout",
          "text": [
            "EPOCH -  12 . Train Accuracy =  0.484375 , Validation Accuracy =  0.39559999108314514\n"
          ]
        },
        {
          "output_type": "stream",
          "name": "stderr",
          "text": [
            "\r 65%|██████▌   | 13/20 [00:34<00:18,  2.64s/it]"
          ]
        },
        {
          "output_type": "stream",
          "name": "stdout",
          "text": [
            "EPOCH -  13 . Train Accuracy =  0.4375 , Validation Accuracy =  0.39559999108314514\n"
          ]
        },
        {
          "output_type": "stream",
          "name": "stderr",
          "text": [
            "\r 70%|███████   | 14/20 [00:37<00:16,  2.75s/it]"
          ]
        },
        {
          "output_type": "stream",
          "name": "stdout",
          "text": [
            "EPOCH -  14 . Train Accuracy =  0.375 , Validation Accuracy =  0.39559999108314514\n"
          ]
        },
        {
          "output_type": "stream",
          "name": "stderr",
          "text": [
            "\r 75%|███████▌  | 15/20 [00:39<00:13,  2.69s/it]"
          ]
        },
        {
          "output_type": "stream",
          "name": "stdout",
          "text": [
            "EPOCH -  15 . Train Accuracy =  0.484375 , Validation Accuracy =  0.39559999108314514\n"
          ]
        },
        {
          "output_type": "stream",
          "name": "stderr",
          "text": [
            "\r 80%|████████  | 16/20 [00:42<00:10,  2.63s/it]"
          ]
        },
        {
          "output_type": "stream",
          "name": "stdout",
          "text": [
            "EPOCH -  16 . Train Accuracy =  0.359375 , Validation Accuracy =  0.39559999108314514\n"
          ]
        },
        {
          "output_type": "stream",
          "name": "stderr",
          "text": [
            "\r 85%|████████▌ | 17/20 [00:44<00:07,  2.60s/it]"
          ]
        },
        {
          "output_type": "stream",
          "name": "stdout",
          "text": [
            "EPOCH -  17 . Train Accuracy =  0.3125 , Validation Accuracy =  0.39559999108314514\n"
          ]
        },
        {
          "output_type": "stream",
          "name": "stderr",
          "text": [
            "\r 90%|█████████ | 18/20 [00:47<00:05,  2.78s/it]"
          ]
        },
        {
          "output_type": "stream",
          "name": "stdout",
          "text": [
            "EPOCH -  18 . Train Accuracy =  0.328125 , Validation Accuracy =  0.39559999108314514\n"
          ]
        },
        {
          "output_type": "stream",
          "name": "stderr",
          "text": [
            "\r 95%|█████████▌| 19/20 [00:50<00:02,  2.70s/it]"
          ]
        },
        {
          "output_type": "stream",
          "name": "stdout",
          "text": [
            "EPOCH -  19 . Train Accuracy =  0.453125 , Validation Accuracy =  0.39559999108314514\n"
          ]
        },
        {
          "output_type": "stream",
          "name": "stderr",
          "text": [
            "100%|██████████| 20/20 [00:52<00:00,  2.65s/it]\n"
          ]
        },
        {
          "output_type": "stream",
          "name": "stdout",
          "text": [
            "EPOCH -  20 . Train Accuracy =  0.375 , Validation Accuracy =  0.39559999108314514\n"
          ]
        },
        {
          "output_type": "stream",
          "name": "stderr",
          "text": [
            "  5%|▌         | 1/20 [00:02<00:47,  2.52s/it]"
          ]
        },
        {
          "output_type": "stream",
          "name": "stdout",
          "text": [
            "EPOCH -  1 . Train Accuracy =  0.5625 , Validation Accuracy =  0.6040000319480896\n",
            "Model Re-Saved\n"
          ]
        },
        {
          "output_type": "stream",
          "name": "stderr",
          "text": [
            "\r 10%|█         | 2/20 [00:05<00:46,  2.60s/it]"
          ]
        },
        {
          "output_type": "stream",
          "name": "stdout",
          "text": [
            "EPOCH -  2 . Train Accuracy =  0.609375 , Validation Accuracy =  0.4018666744232178\n"
          ]
        },
        {
          "output_type": "stream",
          "name": "stderr",
          "text": [
            "\r 15%|█▌        | 3/20 [00:08<00:48,  2.86s/it]"
          ]
        },
        {
          "output_type": "stream",
          "name": "stdout",
          "text": [
            "EPOCH -  3 . Train Accuracy =  0.359375 , Validation Accuracy =  0.6043999791145325\n",
            "Model Re-Saved\n"
          ]
        },
        {
          "output_type": "stream",
          "name": "stderr",
          "text": [
            "\r 20%|██        | 4/20 [00:10<00:43,  2.73s/it]"
          ]
        },
        {
          "output_type": "stream",
          "name": "stdout",
          "text": [
            "EPOCH -  4 . Train Accuracy =  0.5 , Validation Accuracy =  0.6043999791145325\n"
          ]
        },
        {
          "output_type": "stream",
          "name": "stderr",
          "text": [
            "\r 25%|██▌       | 5/20 [00:13<00:39,  2.65s/it]"
          ]
        },
        {
          "output_type": "stream",
          "name": "stdout",
          "text": [
            "EPOCH -  5 . Train Accuracy =  0.640625 , Validation Accuracy =  0.6043999791145325\n"
          ]
        },
        {
          "output_type": "stream",
          "name": "stderr",
          "text": [
            "\r 30%|███       | 6/20 [00:15<00:36,  2.59s/it]"
          ]
        },
        {
          "output_type": "stream",
          "name": "stdout",
          "text": [
            "EPOCH -  6 . Train Accuracy =  0.65625 , Validation Accuracy =  0.6043999791145325\n"
          ]
        },
        {
          "output_type": "stream",
          "name": "stderr",
          "text": [
            "\r 35%|███▌      | 7/20 [00:18<00:35,  2.70s/it]"
          ]
        },
        {
          "output_type": "stream",
          "name": "stdout",
          "text": [
            "EPOCH -  7 . Train Accuracy =  0.484375 , Validation Accuracy =  0.6043999791145325\n"
          ]
        },
        {
          "output_type": "stream",
          "name": "stderr",
          "text": [
            "\r 40%|████      | 8/20 [00:21<00:32,  2.69s/it]"
          ]
        },
        {
          "output_type": "stream",
          "name": "stdout",
          "text": [
            "EPOCH -  8 . Train Accuracy =  0.625 , Validation Accuracy =  0.6043999791145325\n"
          ]
        },
        {
          "output_type": "stream",
          "name": "stderr",
          "text": [
            "\r 45%|████▌     | 9/20 [00:23<00:28,  2.61s/it]"
          ]
        },
        {
          "output_type": "stream",
          "name": "stdout",
          "text": [
            "EPOCH -  9 . Train Accuracy =  0.46875 , Validation Accuracy =  0.6043999791145325\n"
          ]
        },
        {
          "output_type": "stream",
          "name": "stderr",
          "text": [
            "\r 50%|█████     | 10/20 [00:26<00:25,  2.58s/it]"
          ]
        },
        {
          "output_type": "stream",
          "name": "stdout",
          "text": [
            "EPOCH -  10 . Train Accuracy =  0.59375 , Validation Accuracy =  0.6043999791145325\n"
          ]
        },
        {
          "output_type": "stream",
          "name": "stderr",
          "text": [
            "\r 55%|█████▌    | 11/20 [00:28<00:22,  2.55s/it]"
          ]
        },
        {
          "output_type": "stream",
          "name": "stdout",
          "text": [
            "EPOCH -  11 . Train Accuracy =  0.53125 , Validation Accuracy =  0.6043999791145325\n"
          ]
        },
        {
          "output_type": "stream",
          "name": "stderr",
          "text": [
            "\r 60%|██████    | 12/20 [00:32<00:21,  2.73s/it]"
          ]
        },
        {
          "output_type": "stream",
          "name": "stdout",
          "text": [
            "EPOCH -  12 . Train Accuracy =  0.578125 , Validation Accuracy =  0.6043999791145325\n"
          ]
        },
        {
          "output_type": "stream",
          "name": "stderr",
          "text": [
            "\r 65%|██████▌   | 13/20 [00:34<00:18,  2.65s/it]"
          ]
        },
        {
          "output_type": "stream",
          "name": "stdout",
          "text": [
            "EPOCH -  13 . Train Accuracy =  0.625 , Validation Accuracy =  0.6043999791145325\n"
          ]
        },
        {
          "output_type": "stream",
          "name": "stderr",
          "text": [
            "\r 70%|███████   | 14/20 [00:36<00:15,  2.59s/it]"
          ]
        },
        {
          "output_type": "stream",
          "name": "stdout",
          "text": [
            "EPOCH -  14 . Train Accuracy =  0.578125 , Validation Accuracy =  0.6043999791145325\n"
          ]
        },
        {
          "output_type": "stream",
          "name": "stderr",
          "text": [
            "\r 75%|███████▌  | 15/20 [00:39<00:12,  2.54s/it]"
          ]
        },
        {
          "output_type": "stream",
          "name": "stdout",
          "text": [
            "EPOCH -  15 . Train Accuracy =  0.625 , Validation Accuracy =  0.6043999791145325\n"
          ]
        },
        {
          "output_type": "stream",
          "name": "stderr",
          "text": [
            "\r 80%|████████  | 16/20 [00:41<00:10,  2.52s/it]"
          ]
        },
        {
          "output_type": "stream",
          "name": "stdout",
          "text": [
            "EPOCH -  16 . Train Accuracy =  0.640625 , Validation Accuracy =  0.6043999791145325\n"
          ]
        },
        {
          "output_type": "stream",
          "name": "stderr",
          "text": [
            "\r 85%|████████▌ | 17/20 [00:44<00:08,  2.70s/it]"
          ]
        },
        {
          "output_type": "stream",
          "name": "stdout",
          "text": [
            "EPOCH -  17 . Train Accuracy =  0.578125 , Validation Accuracy =  0.6043999791145325\n"
          ]
        },
        {
          "output_type": "stream",
          "name": "stderr",
          "text": [
            "\r 90%|█████████ | 18/20 [00:47<00:05,  2.63s/it]"
          ]
        },
        {
          "output_type": "stream",
          "name": "stdout",
          "text": [
            "EPOCH -  18 . Train Accuracy =  0.625 , Validation Accuracy =  0.6043999791145325\n"
          ]
        },
        {
          "output_type": "stream",
          "name": "stderr",
          "text": [
            "\r 95%|█████████▌| 19/20 [00:49<00:02,  2.58s/it]"
          ]
        },
        {
          "output_type": "stream",
          "name": "stdout",
          "text": [
            "EPOCH -  19 . Train Accuracy =  0.640625 , Validation Accuracy =  0.6043999791145325\n"
          ]
        },
        {
          "output_type": "stream",
          "name": "stderr",
          "text": [
            "100%|██████████| 20/20 [00:52<00:00,  2.62s/it]\n"
          ]
        },
        {
          "output_type": "stream",
          "name": "stdout",
          "text": [
            "EPOCH -  20 . Train Accuracy =  0.578125 , Validation Accuracy =  0.6043999791145325\n"
          ]
        },
        {
          "output_type": "stream",
          "name": "stderr",
          "text": [
            "  5%|▌         | 1/20 [00:02<00:55,  2.93s/it]"
          ]
        },
        {
          "output_type": "stream",
          "name": "stdout",
          "text": [
            "EPOCH -  1 . Train Accuracy =  0.53125 , Validation Accuracy =  0.5875999927520752\n",
            "Model Re-Saved\n"
          ]
        },
        {
          "output_type": "stream",
          "name": "stderr",
          "text": [
            "\r 10%|█         | 2/20 [00:05<00:50,  2.81s/it]"
          ]
        },
        {
          "output_type": "stream",
          "name": "stdout",
          "text": [
            "EPOCH -  2 . Train Accuracy =  0.546875 , Validation Accuracy =  0.4298666715621948\n"
          ]
        },
        {
          "output_type": "stream",
          "name": "stderr",
          "text": [
            "\r 15%|█▌        | 3/20 [00:08<00:45,  2.68s/it]"
          ]
        },
        {
          "output_type": "stream",
          "name": "stdout",
          "text": [
            "EPOCH -  3 . Train Accuracy =  0.4375 , Validation Accuracy =  0.5486666560173035\n"
          ]
        },
        {
          "output_type": "stream",
          "name": "stderr",
          "text": [
            "\r 20%|██        | 4/20 [00:10<00:42,  2.63s/it]"
          ]
        },
        {
          "output_type": "stream",
          "name": "stdout",
          "text": [
            "EPOCH -  4 . Train Accuracy =  0.59375 , Validation Accuracy =  0.545199990272522\n"
          ]
        },
        {
          "output_type": "stream",
          "name": "stderr",
          "text": [
            "\r 25%|██▌       | 5/20 [00:13<00:39,  2.60s/it]"
          ]
        },
        {
          "output_type": "stream",
          "name": "stdout",
          "text": [
            "EPOCH -  5 . Train Accuracy =  0.546875 , Validation Accuracy =  0.5997333526611328\n",
            "Model Re-Saved\n"
          ]
        },
        {
          "output_type": "stream",
          "name": "stderr",
          "text": [
            "\r 30%|███       | 6/20 [00:16<00:39,  2.82s/it]"
          ]
        },
        {
          "output_type": "stream",
          "name": "stdout",
          "text": [
            "EPOCH -  6 . Train Accuracy =  0.515625 , Validation Accuracy =  0.6019999980926514\n",
            "Model Re-Saved\n"
          ]
        },
        {
          "output_type": "stream",
          "name": "stderr",
          "text": [
            "\r 35%|███▌      | 7/20 [00:19<00:35,  2.72s/it]"
          ]
        },
        {
          "output_type": "stream",
          "name": "stdout",
          "text": [
            "EPOCH -  7 . Train Accuracy =  0.5625 , Validation Accuracy =  0.6017333269119263\n"
          ]
        },
        {
          "output_type": "stream",
          "name": "stderr",
          "text": [
            "\r 40%|████      | 8/20 [00:21<00:31,  2.65s/it]"
          ]
        },
        {
          "output_type": "stream",
          "name": "stdout",
          "text": [
            "EPOCH -  8 . Train Accuracy =  0.5625 , Validation Accuracy =  0.5945333242416382\n"
          ]
        },
        {
          "output_type": "stream",
          "name": "stderr",
          "text": [
            "\r 45%|████▌     | 9/20 [00:23<00:28,  2.58s/it]"
          ]
        },
        {
          "output_type": "stream",
          "name": "stdout",
          "text": [
            "EPOCH -  9 . Train Accuracy =  0.59375 , Validation Accuracy =  0.572266697883606\n"
          ]
        },
        {
          "output_type": "stream",
          "name": "stderr",
          "text": [
            "\r 50%|█████     | 10/20 [00:26<00:25,  2.58s/it]"
          ]
        },
        {
          "output_type": "stream",
          "name": "stdout",
          "text": [
            "EPOCH -  10 . Train Accuracy =  0.53125 , Validation Accuracy =  0.3831999897956848\n"
          ]
        },
        {
          "output_type": "stream",
          "name": "stderr",
          "text": [
            "\r 55%|█████▌    | 11/20 [00:29<00:25,  2.78s/it]"
          ]
        },
        {
          "output_type": "stream",
          "name": "stdout",
          "text": [
            "EPOCH -  11 . Train Accuracy =  0.4375 , Validation Accuracy =  0.36800000071525574\n"
          ]
        },
        {
          "output_type": "stream",
          "name": "stderr",
          "text": [
            "\r 60%|██████    | 12/20 [00:32<00:21,  2.69s/it]"
          ]
        },
        {
          "output_type": "stream",
          "name": "stdout",
          "text": [
            "EPOCH -  12 . Train Accuracy =  0.34375 , Validation Accuracy =  0.3425333499908447\n"
          ]
        },
        {
          "output_type": "stream",
          "name": "stderr",
          "text": [
            "\r 65%|██████▌   | 13/20 [00:34<00:18,  2.62s/it]"
          ]
        },
        {
          "output_type": "stream",
          "name": "stdout",
          "text": [
            "EPOCH -  13 . Train Accuracy =  0.34375 , Validation Accuracy =  0.510533332824707\n"
          ]
        },
        {
          "output_type": "stream",
          "name": "stderr",
          "text": [
            "\r 70%|███████   | 14/20 [00:37<00:15,  2.58s/it]"
          ]
        },
        {
          "output_type": "stream",
          "name": "stdout",
          "text": [
            "EPOCH -  14 . Train Accuracy =  0.625 , Validation Accuracy =  0.5983999967575073\n"
          ]
        },
        {
          "output_type": "stream",
          "name": "stderr",
          "text": [
            "\r 75%|███████▌  | 15/20 [00:40<00:13,  2.71s/it]"
          ]
        },
        {
          "output_type": "stream",
          "name": "stdout",
          "text": [
            "EPOCH -  15 . Train Accuracy =  0.5625 , Validation Accuracy =  0.6040000319480896\n",
            "Model Re-Saved\n"
          ]
        },
        {
          "output_type": "stream",
          "name": "stderr",
          "text": [
            "\r 80%|████████  | 16/20 [00:42<00:10,  2.73s/it]"
          ]
        },
        {
          "output_type": "stream",
          "name": "stdout",
          "text": [
            "EPOCH -  16 . Train Accuracy =  0.625 , Validation Accuracy =  0.6043999791145325\n",
            "Model Re-Saved\n"
          ]
        },
        {
          "output_type": "stream",
          "name": "stderr",
          "text": [
            "\r 85%|████████▌ | 17/20 [00:45<00:07,  2.66s/it]"
          ]
        },
        {
          "output_type": "stream",
          "name": "stdout",
          "text": [
            "EPOCH -  17 . Train Accuracy =  0.515625 , Validation Accuracy =  0.6043999791145325\n"
          ]
        },
        {
          "output_type": "stream",
          "name": "stderr",
          "text": [
            "\r 90%|█████████ | 18/20 [00:47<00:05,  2.60s/it]"
          ]
        },
        {
          "output_type": "stream",
          "name": "stdout",
          "text": [
            "EPOCH -  18 . Train Accuracy =  0.578125 , Validation Accuracy =  0.6043999791145325\n"
          ]
        },
        {
          "output_type": "stream",
          "name": "stderr",
          "text": [
            "\r 95%|█████████▌| 19/20 [00:50<00:02,  2.55s/it]"
          ]
        },
        {
          "output_type": "stream",
          "name": "stdout",
          "text": [
            "EPOCH -  19 . Train Accuracy =  0.625 , Validation Accuracy =  0.6043999791145325\n"
          ]
        },
        {
          "output_type": "stream",
          "name": "stderr",
          "text": [
            "100%|██████████| 20/20 [00:53<00:00,  2.68s/it]\n"
          ]
        },
        {
          "output_type": "stream",
          "name": "stdout",
          "text": [
            "EPOCH -  20 . Train Accuracy =  0.625 , Validation Accuracy =  0.6043999791145325\n"
          ]
        },
        {
          "output_type": "stream",
          "name": "stderr",
          "text": [
            "  5%|▌         | 1/20 [00:02<00:46,  2.45s/it]"
          ]
        },
        {
          "output_type": "stream",
          "name": "stdout",
          "text": [
            "EPOCH -  1 . Train Accuracy =  0.515625 , Validation Accuracy =  0.5746666789054871\n",
            "Model Re-Saved\n"
          ]
        },
        {
          "output_type": "stream",
          "name": "stderr",
          "text": [
            "\r 10%|█         | 2/20 [00:04<00:44,  2.46s/it]"
          ]
        },
        {
          "output_type": "stream",
          "name": "stdout",
          "text": [
            "EPOCH -  2 . Train Accuracy =  0.640625 , Validation Accuracy =  0.39559999108314514\n"
          ]
        },
        {
          "output_type": "stream",
          "name": "stderr",
          "text": [
            "\r 15%|█▌        | 3/20 [00:07<00:41,  2.45s/it]"
          ]
        },
        {
          "output_type": "stream",
          "name": "stdout",
          "text": [
            "EPOCH -  3 . Train Accuracy =  0.359375 , Validation Accuracy =  0.39559999108314514\n"
          ]
        },
        {
          "output_type": "stream",
          "name": "stderr",
          "text": [
            "\r 20%|██        | 4/20 [00:10<00:40,  2.53s/it]"
          ]
        },
        {
          "output_type": "stream",
          "name": "stdout",
          "text": [
            "EPOCH -  4 . Train Accuracy =  0.375 , Validation Accuracy =  0.39559999108314514\n"
          ]
        },
        {
          "output_type": "stream",
          "name": "stderr",
          "text": [
            "\r 25%|██▌       | 5/20 [00:12<00:40,  2.68s/it]"
          ]
        },
        {
          "output_type": "stream",
          "name": "stdout",
          "text": [
            "EPOCH -  5 . Train Accuracy =  0.421875 , Validation Accuracy =  0.39559999108314514\n"
          ]
        },
        {
          "output_type": "stream",
          "name": "stderr",
          "text": [
            "\r 30%|███       | 6/20 [00:15<00:36,  2.61s/it]"
          ]
        },
        {
          "output_type": "stream",
          "name": "stdout",
          "text": [
            "EPOCH -  6 . Train Accuracy =  0.3125 , Validation Accuracy =  0.39559999108314514\n"
          ]
        },
        {
          "output_type": "stream",
          "name": "stderr",
          "text": [
            "\r 35%|███▌      | 7/20 [00:17<00:33,  2.56s/it]"
          ]
        },
        {
          "output_type": "stream",
          "name": "stdout",
          "text": [
            "EPOCH -  7 . Train Accuracy =  0.421875 , Validation Accuracy =  0.39559999108314514\n"
          ]
        },
        {
          "output_type": "stream",
          "name": "stderr",
          "text": [
            "\r 40%|████      | 8/20 [00:20<00:30,  2.55s/it]"
          ]
        },
        {
          "output_type": "stream",
          "name": "stdout",
          "text": [
            "EPOCH -  8 . Train Accuracy =  0.328125 , Validation Accuracy =  0.39559999108314514\n"
          ]
        },
        {
          "output_type": "stream",
          "name": "stderr",
          "text": [
            "\r 45%|████▌     | 9/20 [00:23<00:29,  2.70s/it]"
          ]
        },
        {
          "output_type": "stream",
          "name": "stdout",
          "text": [
            "EPOCH -  9 . Train Accuracy =  0.421875 , Validation Accuracy =  0.39559999108314514\n"
          ]
        },
        {
          "output_type": "stream",
          "name": "stderr",
          "text": [
            "\r 50%|█████     | 10/20 [00:26<00:26,  2.68s/it]"
          ]
        },
        {
          "output_type": "stream",
          "name": "stdout",
          "text": [
            "EPOCH -  10 . Train Accuracy =  0.359375 , Validation Accuracy =  0.39559999108314514\n"
          ]
        },
        {
          "output_type": "stream",
          "name": "stderr",
          "text": [
            "\r 55%|█████▌    | 11/20 [00:28<00:23,  2.61s/it]"
          ]
        },
        {
          "output_type": "stream",
          "name": "stdout",
          "text": [
            "EPOCH -  11 . Train Accuracy =  0.34375 , Validation Accuracy =  0.39559999108314514\n"
          ]
        },
        {
          "output_type": "stream",
          "name": "stderr",
          "text": [
            "\r 60%|██████    | 12/20 [00:30<00:20,  2.56s/it]"
          ]
        },
        {
          "output_type": "stream",
          "name": "stdout",
          "text": [
            "EPOCH -  12 . Train Accuracy =  0.421875 , Validation Accuracy =  0.39559999108314514\n"
          ]
        },
        {
          "output_type": "stream",
          "name": "stderr",
          "text": [
            "\r 65%|██████▌   | 13/20 [00:33<00:17,  2.53s/it]"
          ]
        },
        {
          "output_type": "stream",
          "name": "stdout",
          "text": [
            "EPOCH -  13 . Train Accuracy =  0.375 , Validation Accuracy =  0.39559999108314514\n"
          ]
        },
        {
          "output_type": "stream",
          "name": "stderr",
          "text": [
            "\r 70%|███████   | 14/20 [00:36<00:16,  2.71s/it]"
          ]
        },
        {
          "output_type": "stream",
          "name": "stdout",
          "text": [
            "EPOCH -  14 . Train Accuracy =  0.453125 , Validation Accuracy =  0.39559999108314514\n"
          ]
        },
        {
          "output_type": "stream",
          "name": "stderr",
          "text": [
            "\r 75%|███████▌  | 15/20 [00:39<00:13,  2.63s/it]"
          ]
        },
        {
          "output_type": "stream",
          "name": "stdout",
          "text": [
            "EPOCH -  15 . Train Accuracy =  0.421875 , Validation Accuracy =  0.39559999108314514\n"
          ]
        },
        {
          "output_type": "stream",
          "name": "stderr",
          "text": [
            "\r 80%|████████  | 16/20 [00:41<00:10,  2.58s/it]"
          ]
        },
        {
          "output_type": "stream",
          "name": "stdout",
          "text": [
            "EPOCH -  16 . Train Accuracy =  0.375 , Validation Accuracy =  0.39559999108314514\n"
          ]
        },
        {
          "output_type": "stream",
          "name": "stderr",
          "text": [
            "\r 85%|████████▌ | 17/20 [00:43<00:07,  2.55s/it]"
          ]
        },
        {
          "output_type": "stream",
          "name": "stdout",
          "text": [
            "EPOCH -  17 . Train Accuracy =  0.453125 , Validation Accuracy =  0.39559999108314514\n"
          ]
        },
        {
          "output_type": "stream",
          "name": "stderr",
          "text": [
            "\r 90%|█████████ | 18/20 [00:46<00:05,  2.57s/it]"
          ]
        },
        {
          "output_type": "stream",
          "name": "stdout",
          "text": [
            "EPOCH -  18 . Train Accuracy =  0.40625 , Validation Accuracy =  0.39559999108314514\n"
          ]
        },
        {
          "output_type": "stream",
          "name": "stderr",
          "text": [
            "\r 95%|█████████▌| 19/20 [00:49<00:02,  2.71s/it]"
          ]
        },
        {
          "output_type": "stream",
          "name": "stdout",
          "text": [
            "EPOCH -  19 . Train Accuracy =  0.40625 , Validation Accuracy =  0.39559999108314514\n"
          ]
        },
        {
          "output_type": "stream",
          "name": "stderr",
          "text": [
            "100%|██████████| 20/20 [00:52<00:00,  2.60s/it]"
          ]
        },
        {
          "output_type": "stream",
          "name": "stdout",
          "text": [
            "EPOCH -  20 . Train Accuracy =  0.328125 , Validation Accuracy =  0.39559999108314514\n"
          ]
        },
        {
          "output_type": "stream",
          "name": "stderr",
          "text": [
            "\n",
            "<ipython-input-2-98ef64b1a863>:27: UserWarning: Implicit dimension choice for softmax has been deprecated. Change the call to include dim=X as an argument.\n",
            "  x = self.SftMax(self.fc1(x))\n"
          ]
        },
        {
          "output_type": "execute_result",
          "data": {
            "text/plain": [
              "tensor([2.9804], device='cuda:0', grad_fn=<AddBackward0>)"
            ]
          },
          "metadata": {},
          "execution_count": 46
        }
      ]
    },
    {
      "cell_type": "code",
      "source": [
        "val=evaluateGated(Gating_model,test_loader,device, ExpertModels)\n",
        "print(val)\n",
        "List_observations.append(val)"
      ],
      "metadata": {
        "colab": {
          "base_uri": "https://localhost:8080/"
        },
        "id": "OcYQibQG87Ud",
        "outputId": "ea474956-7016-46c1-89f8-a7dbe218039d"
      },
      "execution_count": 47,
      "outputs": [
        {
          "output_type": "stream",
          "name": "stderr",
          "text": [
            "<ipython-input-2-98ef64b1a863>:27: UserWarning: Implicit dimension choice for softmax has been deprecated. Change the call to include dim=X as an argument.\n",
            "  x = self.SftMax(self.fc1(x))\n"
          ]
        },
        {
          "output_type": "stream",
          "name": "stdout",
          "text": [
            "0.5996\n"
          ]
        }
      ]
    },
    {
      "cell_type": "code",
      "source": [
        "ExpertModels = TrainExperts(10)\n",
        "\n",
        "Gating_model = Gating(32*32*3, 10).to(device)\n",
        "loss_criteria = nn.CrossEntropyLoss()\n",
        "AdamOpt = torch.optim.Adam(Gating_model.parameters(), lr=0.0001)\n",
        "\n",
        "trainGated(Gating_model,AdamOpt,loss_criteria,device,train_loader, ExpertModels)"
      ],
      "metadata": {
        "colab": {
          "base_uri": "https://localhost:8080/"
        },
        "id": "4PUqnJYR84QL",
        "outputId": "5c833d13-1ddc-429f-bb97-5d1adc5d3834"
      },
      "execution_count": 48,
      "outputs": [
        {
          "output_type": "stream",
          "name": "stderr",
          "text": [
            "\r  0%|          | 0/20 [00:00<?, ?it/s]<ipython-input-36-5704d1e767e3>:12: UserWarning: To copy construct from a tensor, it is recommended to use sourceTensor.clone().detach() or sourceTensor.clone().detach().requires_grad_(True), rather than torch.tensor(sourceTensor).\n",
            "  labels = torch.tensor(labels,dtype=torch.float32).to(device)\n",
            "  5%|▌         | 1/20 [00:02<00:47,  2.52s/it]"
          ]
        },
        {
          "output_type": "stream",
          "name": "stdout",
          "text": [
            "EPOCH -  1 . Train Accuracy =  0.453125 , Validation Accuracy =  0.6043999791145325\n",
            "Model Re-Saved\n"
          ]
        },
        {
          "output_type": "stream",
          "name": "stderr",
          "text": [
            "\r 10%|█         | 2/20 [00:04<00:44,  2.47s/it]"
          ]
        },
        {
          "output_type": "stream",
          "name": "stdout",
          "text": [
            "EPOCH -  2 . Train Accuracy =  0.734375 , Validation Accuracy =  0.6043999791145325\n"
          ]
        },
        {
          "output_type": "stream",
          "name": "stderr",
          "text": [
            "\r 15%|█▌        | 3/20 [00:08<00:47,  2.78s/it]"
          ]
        },
        {
          "output_type": "stream",
          "name": "stdout",
          "text": [
            "EPOCH -  3 . Train Accuracy =  0.5625 , Validation Accuracy =  0.6043999791145325\n"
          ]
        },
        {
          "output_type": "stream",
          "name": "stderr",
          "text": [
            "\r 20%|██        | 4/20 [00:10<00:42,  2.66s/it]"
          ]
        },
        {
          "output_type": "stream",
          "name": "stdout",
          "text": [
            "EPOCH -  4 . Train Accuracy =  0.65625 , Validation Accuracy =  0.6043999791145325\n"
          ]
        },
        {
          "output_type": "stream",
          "name": "stderr",
          "text": [
            "\r 25%|██▌       | 5/20 [00:13<00:38,  2.59s/it]"
          ]
        },
        {
          "output_type": "stream",
          "name": "stdout",
          "text": [
            "EPOCH -  5 . Train Accuracy =  0.609375 , Validation Accuracy =  0.6043999791145325\n"
          ]
        },
        {
          "output_type": "stream",
          "name": "stderr",
          "text": [
            "\r 30%|███       | 6/20 [00:15<00:35,  2.56s/it]"
          ]
        },
        {
          "output_type": "stream",
          "name": "stdout",
          "text": [
            "EPOCH -  6 . Train Accuracy =  0.671875 , Validation Accuracy =  0.6043999791145325\n"
          ]
        },
        {
          "output_type": "stream",
          "name": "stderr",
          "text": [
            "\r 35%|███▌      | 7/20 [00:18<00:34,  2.62s/it]"
          ]
        },
        {
          "output_type": "stream",
          "name": "stdout",
          "text": [
            "EPOCH -  7 . Train Accuracy =  0.640625 , Validation Accuracy =  0.6043999791145325\n"
          ]
        },
        {
          "output_type": "stream",
          "name": "stderr",
          "text": [
            "\r 40%|████      | 8/20 [00:21<00:32,  2.70s/it]"
          ]
        },
        {
          "output_type": "stream",
          "name": "stdout",
          "text": [
            "EPOCH -  8 . Train Accuracy =  0.59375 , Validation Accuracy =  0.6043999791145325\n"
          ]
        },
        {
          "output_type": "stream",
          "name": "stderr",
          "text": [
            "\r 45%|████▌     | 9/20 [00:23<00:28,  2.64s/it]"
          ]
        },
        {
          "output_type": "stream",
          "name": "stdout",
          "text": [
            "EPOCH -  9 . Train Accuracy =  0.609375 , Validation Accuracy =  0.6043999791145325\n"
          ]
        },
        {
          "output_type": "stream",
          "name": "stderr",
          "text": [
            "\r 50%|█████     | 10/20 [00:26<00:25,  2.58s/it]"
          ]
        },
        {
          "output_type": "stream",
          "name": "stdout",
          "text": [
            "EPOCH -  10 . Train Accuracy =  0.625 , Validation Accuracy =  0.6043999791145325\n"
          ]
        },
        {
          "output_type": "stream",
          "name": "stderr",
          "text": [
            "\r 55%|█████▌    | 11/20 [00:28<00:22,  2.55s/it]"
          ]
        },
        {
          "output_type": "stream",
          "name": "stdout",
          "text": [
            "EPOCH -  11 . Train Accuracy =  0.578125 , Validation Accuracy =  0.6043999791145325\n"
          ]
        },
        {
          "output_type": "stream",
          "name": "stderr",
          "text": [
            "\r 60%|██████    | 12/20 [00:31<00:21,  2.71s/it]"
          ]
        },
        {
          "output_type": "stream",
          "name": "stdout",
          "text": [
            "EPOCH -  12 . Train Accuracy =  0.59375 , Validation Accuracy =  0.6043999791145325\n"
          ]
        },
        {
          "output_type": "stream",
          "name": "stderr",
          "text": [
            "\r 65%|██████▌   | 13/20 [00:34<00:18,  2.66s/it]"
          ]
        },
        {
          "output_type": "stream",
          "name": "stdout",
          "text": [
            "EPOCH -  13 . Train Accuracy =  0.65625 , Validation Accuracy =  0.6043999791145325\n"
          ]
        },
        {
          "output_type": "stream",
          "name": "stderr",
          "text": [
            "\r 70%|███████   | 14/20 [00:36<00:15,  2.60s/it]"
          ]
        },
        {
          "output_type": "stream",
          "name": "stdout",
          "text": [
            "EPOCH -  14 . Train Accuracy =  0.59375 , Validation Accuracy =  0.6043999791145325\n"
          ]
        },
        {
          "output_type": "stream",
          "name": "stderr",
          "text": [
            "\r 75%|███████▌  | 15/20 [00:39<00:12,  2.57s/it]"
          ]
        },
        {
          "output_type": "stream",
          "name": "stdout",
          "text": [
            "EPOCH -  15 . Train Accuracy =  0.5625 , Validation Accuracy =  0.6043999791145325\n"
          ]
        },
        {
          "output_type": "stream",
          "name": "stderr",
          "text": [
            "\r 80%|████████  | 16/20 [00:41<00:10,  2.55s/it]"
          ]
        },
        {
          "output_type": "stream",
          "name": "stdout",
          "text": [
            "EPOCH -  16 . Train Accuracy =  0.671875 , Validation Accuracy =  0.6043999791145325\n"
          ]
        },
        {
          "output_type": "stream",
          "name": "stderr",
          "text": [
            "\r 85%|████████▌ | 17/20 [00:44<00:08,  2.74s/it]"
          ]
        },
        {
          "output_type": "stream",
          "name": "stdout",
          "text": [
            "EPOCH -  17 . Train Accuracy =  0.53125 , Validation Accuracy =  0.6043999791145325\n"
          ]
        },
        {
          "output_type": "stream",
          "name": "stderr",
          "text": [
            "\r 90%|█████████ | 18/20 [00:47<00:05,  2.66s/it]"
          ]
        },
        {
          "output_type": "stream",
          "name": "stdout",
          "text": [
            "EPOCH -  18 . Train Accuracy =  0.671875 , Validation Accuracy =  0.6043999791145325\n"
          ]
        },
        {
          "output_type": "stream",
          "name": "stderr",
          "text": [
            "\r 95%|█████████▌| 19/20 [00:49<00:02,  2.60s/it]"
          ]
        },
        {
          "output_type": "stream",
          "name": "stdout",
          "text": [
            "EPOCH -  19 . Train Accuracy =  0.609375 , Validation Accuracy =  0.6043999791145325\n"
          ]
        },
        {
          "output_type": "stream",
          "name": "stderr",
          "text": [
            "100%|██████████| 20/20 [00:52<00:00,  2.62s/it]\n"
          ]
        },
        {
          "output_type": "stream",
          "name": "stdout",
          "text": [
            "EPOCH -  20 . Train Accuracy =  0.515625 , Validation Accuracy =  0.6043999791145325\n"
          ]
        },
        {
          "output_type": "stream",
          "name": "stderr",
          "text": [
            "  5%|▌         | 1/20 [00:02<00:53,  2.80s/it]"
          ]
        },
        {
          "output_type": "stream",
          "name": "stdout",
          "text": [
            "EPOCH -  1 . Train Accuracy =  0.453125 , Validation Accuracy =  0.5930666923522949\n",
            "Model Re-Saved\n"
          ]
        },
        {
          "output_type": "stream",
          "name": "stderr",
          "text": [
            "\r 10%|█         | 2/20 [00:05<00:51,  2.84s/it]"
          ]
        },
        {
          "output_type": "stream",
          "name": "stdout",
          "text": [
            "EPOCH -  2 . Train Accuracy =  0.640625 , Validation Accuracy =  0.39559999108314514\n"
          ]
        },
        {
          "output_type": "stream",
          "name": "stderr",
          "text": [
            "\r 15%|█▌        | 3/20 [00:08<00:45,  2.66s/it]"
          ]
        },
        {
          "output_type": "stream",
          "name": "stdout",
          "text": [
            "EPOCH -  3 . Train Accuracy =  0.53125 , Validation Accuracy =  0.39559999108314514\n"
          ]
        },
        {
          "output_type": "stream",
          "name": "stderr",
          "text": [
            "\r 20%|██        | 4/20 [00:10<00:40,  2.56s/it]"
          ]
        },
        {
          "output_type": "stream",
          "name": "stdout",
          "text": [
            "EPOCH -  4 . Train Accuracy =  0.296875 , Validation Accuracy =  0.39559999108314514\n"
          ]
        },
        {
          "output_type": "stream",
          "name": "stderr",
          "text": [
            "\r 25%|██▌       | 5/20 [00:12<00:37,  2.52s/it]"
          ]
        },
        {
          "output_type": "stream",
          "name": "stdout",
          "text": [
            "EPOCH -  5 . Train Accuracy =  0.40625 , Validation Accuracy =  0.39559999108314514\n"
          ]
        },
        {
          "output_type": "stream",
          "name": "stderr",
          "text": [
            "\r 30%|███       | 6/20 [00:15<00:37,  2.68s/it]"
          ]
        },
        {
          "output_type": "stream",
          "name": "stdout",
          "text": [
            "EPOCH -  6 . Train Accuracy =  0.328125 , Validation Accuracy =  0.39559999108314514\n"
          ]
        },
        {
          "output_type": "stream",
          "name": "stderr",
          "text": [
            "\r 35%|███▌      | 7/20 [00:18<00:34,  2.66s/it]"
          ]
        },
        {
          "output_type": "stream",
          "name": "stdout",
          "text": [
            "EPOCH -  7 . Train Accuracy =  0.40625 , Validation Accuracy =  0.39559999108314514\n"
          ]
        },
        {
          "output_type": "stream",
          "name": "stderr",
          "text": [
            "\r 40%|████      | 8/20 [00:21<00:31,  2.61s/it]"
          ]
        },
        {
          "output_type": "stream",
          "name": "stdout",
          "text": [
            "EPOCH -  8 . Train Accuracy =  0.359375 , Validation Accuracy =  0.39559999108314514\n"
          ]
        },
        {
          "output_type": "stream",
          "name": "stderr",
          "text": [
            "\r 45%|████▌     | 9/20 [00:23<00:28,  2.59s/it]"
          ]
        },
        {
          "output_type": "stream",
          "name": "stdout",
          "text": [
            "EPOCH -  9 . Train Accuracy =  0.390625 , Validation Accuracy =  0.39559999108314514\n"
          ]
        },
        {
          "output_type": "stream",
          "name": "stderr",
          "text": [
            "\r 50%|█████     | 10/20 [00:26<00:25,  2.54s/it]"
          ]
        },
        {
          "output_type": "stream",
          "name": "stdout",
          "text": [
            "EPOCH -  10 . Train Accuracy =  0.421875 , Validation Accuracy =  0.39559999108314514\n"
          ]
        },
        {
          "output_type": "stream",
          "name": "stderr",
          "text": [
            "\r 55%|█████▌    | 11/20 [00:29<00:24,  2.73s/it]"
          ]
        },
        {
          "output_type": "stream",
          "name": "stdout",
          "text": [
            "EPOCH -  11 . Train Accuracy =  0.40625 , Validation Accuracy =  0.39559999108314514\n"
          ]
        },
        {
          "output_type": "stream",
          "name": "stderr",
          "text": [
            "\r 60%|██████    | 12/20 [00:31<00:21,  2.65s/it]"
          ]
        },
        {
          "output_type": "stream",
          "name": "stdout",
          "text": [
            "EPOCH -  12 . Train Accuracy =  0.453125 , Validation Accuracy =  0.39559999108314514\n"
          ]
        },
        {
          "output_type": "stream",
          "name": "stderr",
          "text": [
            "\r 65%|██████▌   | 13/20 [00:34<00:18,  2.59s/it]"
          ]
        },
        {
          "output_type": "stream",
          "name": "stdout",
          "text": [
            "EPOCH -  13 . Train Accuracy =  0.390625 , Validation Accuracy =  0.39559999108314514\n"
          ]
        },
        {
          "output_type": "stream",
          "name": "stderr",
          "text": [
            "\r 70%|███████   | 14/20 [00:36<00:15,  2.53s/it]"
          ]
        },
        {
          "output_type": "stream",
          "name": "stdout",
          "text": [
            "EPOCH -  14 . Train Accuracy =  0.421875 , Validation Accuracy =  0.39559999108314514\n"
          ]
        },
        {
          "output_type": "stream",
          "name": "stderr",
          "text": [
            "\r 75%|███████▌  | 15/20 [00:39<00:12,  2.56s/it]"
          ]
        },
        {
          "output_type": "stream",
          "name": "stdout",
          "text": [
            "EPOCH -  15 . Train Accuracy =  0.40625 , Validation Accuracy =  0.39559999108314514\n"
          ]
        },
        {
          "output_type": "stream",
          "name": "stderr",
          "text": [
            "\r 80%|████████  | 16/20 [00:42<00:10,  2.70s/it]"
          ]
        },
        {
          "output_type": "stream",
          "name": "stdout",
          "text": [
            "EPOCH -  16 . Train Accuracy =  0.3125 , Validation Accuracy =  0.39559999108314514\n"
          ]
        },
        {
          "output_type": "stream",
          "name": "stderr",
          "text": [
            "\r 85%|████████▌ | 17/20 [00:44<00:07,  2.62s/it]"
          ]
        },
        {
          "output_type": "stream",
          "name": "stdout",
          "text": [
            "EPOCH -  17 . Train Accuracy =  0.40625 , Validation Accuracy =  0.39559999108314514\n"
          ]
        },
        {
          "output_type": "stream",
          "name": "stderr",
          "text": [
            "\r 90%|█████████ | 18/20 [00:47<00:05,  2.56s/it]"
          ]
        },
        {
          "output_type": "stream",
          "name": "stdout",
          "text": [
            "EPOCH -  18 . Train Accuracy =  0.46875 , Validation Accuracy =  0.39559999108314514\n"
          ]
        },
        {
          "output_type": "stream",
          "name": "stderr",
          "text": [
            "\r 95%|█████████▌| 19/20 [00:49<00:02,  2.52s/it]"
          ]
        },
        {
          "output_type": "stream",
          "name": "stdout",
          "text": [
            "EPOCH -  19 . Train Accuracy =  0.421875 , Validation Accuracy =  0.39559999108314514\n"
          ]
        },
        {
          "output_type": "stream",
          "name": "stderr",
          "text": [
            "100%|██████████| 20/20 [00:52<00:00,  2.62s/it]\n"
          ]
        },
        {
          "output_type": "stream",
          "name": "stdout",
          "text": [
            "EPOCH -  20 . Train Accuracy =  0.390625 , Validation Accuracy =  0.39559999108314514\n"
          ]
        },
        {
          "output_type": "stream",
          "name": "stderr",
          "text": [
            "  5%|▌         | 1/20 [00:02<00:51,  2.71s/it]"
          ]
        },
        {
          "output_type": "stream",
          "name": "stdout",
          "text": [
            "EPOCH -  1 . Train Accuracy =  0.5 , Validation Accuracy =  0.604533314704895\n",
            "Model Re-Saved\n"
          ]
        },
        {
          "output_type": "stream",
          "name": "stderr",
          "text": [
            "\r 10%|█         | 2/20 [00:05<00:45,  2.55s/it]"
          ]
        },
        {
          "output_type": "stream",
          "name": "stdout",
          "text": [
            "EPOCH -  2 . Train Accuracy =  0.65625 , Validation Accuracy =  0.39559999108314514\n"
          ]
        },
        {
          "output_type": "stream",
          "name": "stderr",
          "text": [
            "\r 15%|█▌        | 3/20 [00:07<00:42,  2.48s/it]"
          ]
        },
        {
          "output_type": "stream",
          "name": "stdout",
          "text": [
            "EPOCH -  3 . Train Accuracy =  0.40625 , Validation Accuracy =  0.39559999108314514\n"
          ]
        },
        {
          "output_type": "stream",
          "name": "stderr",
          "text": [
            "\r 20%|██        | 4/20 [00:10<00:39,  2.49s/it]"
          ]
        },
        {
          "output_type": "stream",
          "name": "stdout",
          "text": [
            "EPOCH -  4 . Train Accuracy =  0.40625 , Validation Accuracy =  0.39559999108314514\n"
          ]
        },
        {
          "output_type": "stream",
          "name": "stderr",
          "text": [
            "\r 25%|██▌       | 5/20 [00:13<00:41,  2.73s/it]"
          ]
        },
        {
          "output_type": "stream",
          "name": "stdout",
          "text": [
            "EPOCH -  5 . Train Accuracy =  0.359375 , Validation Accuracy =  0.39559999108314514\n"
          ]
        },
        {
          "output_type": "stream",
          "name": "stderr",
          "text": [
            "\r 30%|███       | 6/20 [00:15<00:36,  2.62s/it]"
          ]
        },
        {
          "output_type": "stream",
          "name": "stdout",
          "text": [
            "EPOCH -  6 . Train Accuracy =  0.390625 , Validation Accuracy =  0.39559999108314514\n"
          ]
        },
        {
          "output_type": "stream",
          "name": "stderr",
          "text": [
            "\r 35%|███▌      | 7/20 [00:18<00:33,  2.55s/it]"
          ]
        },
        {
          "output_type": "stream",
          "name": "stdout",
          "text": [
            "EPOCH -  7 . Train Accuracy =  0.453125 , Validation Accuracy =  0.39559999108314514\n"
          ]
        },
        {
          "output_type": "stream",
          "name": "stderr",
          "text": [
            "\r 40%|████      | 8/20 [00:20<00:30,  2.52s/it]"
          ]
        },
        {
          "output_type": "stream",
          "name": "stdout",
          "text": [
            "EPOCH -  8 . Train Accuracy =  0.4375 , Validation Accuracy =  0.39559999108314514\n"
          ]
        },
        {
          "output_type": "stream",
          "name": "stderr",
          "text": [
            "\r 45%|████▌     | 9/20 [00:22<00:27,  2.49s/it]"
          ]
        },
        {
          "output_type": "stream",
          "name": "stdout",
          "text": [
            "EPOCH -  9 . Train Accuracy =  0.390625 , Validation Accuracy =  0.39559999108314514\n"
          ]
        },
        {
          "output_type": "stream",
          "name": "stderr",
          "text": [
            "\r 50%|█████     | 10/20 [00:26<00:26,  2.68s/it]"
          ]
        },
        {
          "output_type": "stream",
          "name": "stdout",
          "text": [
            "EPOCH -  10 . Train Accuracy =  0.390625 , Validation Accuracy =  0.39559999108314514\n"
          ]
        },
        {
          "output_type": "stream",
          "name": "stderr",
          "text": [
            "\r 55%|█████▌    | 11/20 [00:28<00:23,  2.63s/it]"
          ]
        },
        {
          "output_type": "stream",
          "name": "stdout",
          "text": [
            "EPOCH -  11 . Train Accuracy =  0.484375 , Validation Accuracy =  0.39559999108314514\n"
          ]
        },
        {
          "output_type": "stream",
          "name": "stderr",
          "text": [
            "\r 60%|██████    | 12/20 [00:31<00:20,  2.58s/it]"
          ]
        },
        {
          "output_type": "stream",
          "name": "stdout",
          "text": [
            "EPOCH -  12 . Train Accuracy =  0.453125 , Validation Accuracy =  0.39559999108314514\n"
          ]
        },
        {
          "output_type": "stream",
          "name": "stderr",
          "text": [
            "\r 65%|██████▌   | 13/20 [00:33<00:17,  2.55s/it]"
          ]
        },
        {
          "output_type": "stream",
          "name": "stdout",
          "text": [
            "EPOCH -  13 . Train Accuracy =  0.40625 , Validation Accuracy =  0.39559999108314514\n"
          ]
        },
        {
          "output_type": "stream",
          "name": "stderr",
          "text": [
            "\r 70%|███████   | 14/20 [00:36<00:15,  2.58s/it]"
          ]
        },
        {
          "output_type": "stream",
          "name": "stdout",
          "text": [
            "EPOCH -  14 . Train Accuracy =  0.4375 , Validation Accuracy =  0.39559999108314514\n"
          ]
        },
        {
          "output_type": "stream",
          "name": "stderr",
          "text": [
            "\r 75%|███████▌  | 15/20 [00:38<00:13,  2.65s/it]"
          ]
        },
        {
          "output_type": "stream",
          "name": "stdout",
          "text": [
            "EPOCH -  15 . Train Accuracy =  0.40625 , Validation Accuracy =  0.39559999108314514\n"
          ]
        },
        {
          "output_type": "stream",
          "name": "stderr",
          "text": [
            "\r 80%|████████  | 16/20 [00:41<00:10,  2.59s/it]"
          ]
        },
        {
          "output_type": "stream",
          "name": "stdout",
          "text": [
            "EPOCH -  16 . Train Accuracy =  0.421875 , Validation Accuracy =  0.39559999108314514\n"
          ]
        },
        {
          "output_type": "stream",
          "name": "stderr",
          "text": [
            "\r 85%|████████▌ | 17/20 [00:43<00:07,  2.55s/it]"
          ]
        },
        {
          "output_type": "stream",
          "name": "stdout",
          "text": [
            "EPOCH -  17 . Train Accuracy =  0.390625 , Validation Accuracy =  0.39559999108314514\n"
          ]
        },
        {
          "output_type": "stream",
          "name": "stderr",
          "text": [
            "\r 90%|█████████ | 18/20 [00:46<00:05,  2.53s/it]"
          ]
        },
        {
          "output_type": "stream",
          "name": "stdout",
          "text": [
            "EPOCH -  18 . Train Accuracy =  0.46875 , Validation Accuracy =  0.39559999108314514\n"
          ]
        },
        {
          "output_type": "stream",
          "name": "stderr",
          "text": [
            "\r 95%|█████████▌| 19/20 [00:49<00:02,  2.66s/it]"
          ]
        },
        {
          "output_type": "stream",
          "name": "stdout",
          "text": [
            "EPOCH -  19 . Train Accuracy =  0.34375 , Validation Accuracy =  0.39559999108314514\n"
          ]
        },
        {
          "output_type": "stream",
          "name": "stderr",
          "text": [
            "100%|██████████| 20/20 [00:51<00:00,  2.59s/it]\n"
          ]
        },
        {
          "output_type": "stream",
          "name": "stdout",
          "text": [
            "EPOCH -  20 . Train Accuracy =  0.453125 , Validation Accuracy =  0.39559999108314514\n"
          ]
        },
        {
          "output_type": "stream",
          "name": "stderr",
          "text": [
            "  5%|▌         | 1/20 [00:02<00:46,  2.45s/it]"
          ]
        },
        {
          "output_type": "stream",
          "name": "stdout",
          "text": [
            "EPOCH -  1 . Train Accuracy =  0.390625 , Validation Accuracy =  0.6041333675384521\n",
            "Model Re-Saved\n"
          ]
        },
        {
          "output_type": "stream",
          "name": "stderr",
          "text": [
            "\r 10%|█         | 2/20 [00:04<00:44,  2.45s/it]"
          ]
        },
        {
          "output_type": "stream",
          "name": "stdout",
          "text": [
            "EPOCH -  2 . Train Accuracy =  0.609375 , Validation Accuracy =  0.6041333675384521\n"
          ]
        },
        {
          "output_type": "stream",
          "name": "stderr",
          "text": [
            "\r 15%|█▌        | 3/20 [00:07<00:41,  2.45s/it]"
          ]
        },
        {
          "output_type": "stream",
          "name": "stdout",
          "text": [
            "EPOCH -  3 . Train Accuracy =  0.53125 , Validation Accuracy =  0.39559999108314514\n"
          ]
        },
        {
          "output_type": "stream",
          "name": "stderr",
          "text": [
            "\r 20%|██        | 4/20 [00:10<00:43,  2.73s/it]"
          ]
        },
        {
          "output_type": "stream",
          "name": "stdout",
          "text": [
            "EPOCH -  4 . Train Accuracy =  0.359375 , Validation Accuracy =  0.39559999108314514\n"
          ]
        },
        {
          "output_type": "stream",
          "name": "stderr",
          "text": [
            "\r 25%|██▌       | 5/20 [00:12<00:39,  2.63s/it]"
          ]
        },
        {
          "output_type": "stream",
          "name": "stdout",
          "text": [
            "EPOCH -  5 . Train Accuracy =  0.421875 , Validation Accuracy =  0.39559999108314514\n"
          ]
        },
        {
          "output_type": "stream",
          "name": "stderr",
          "text": [
            "\r 30%|███       | 6/20 [00:15<00:35,  2.56s/it]"
          ]
        },
        {
          "output_type": "stream",
          "name": "stdout",
          "text": [
            "EPOCH -  6 . Train Accuracy =  0.328125 , Validation Accuracy =  0.39559999108314514\n"
          ]
        },
        {
          "output_type": "stream",
          "name": "stderr",
          "text": [
            "\r 35%|███▌      | 7/20 [00:17<00:32,  2.52s/it]"
          ]
        },
        {
          "output_type": "stream",
          "name": "stdout",
          "text": [
            "EPOCH -  7 . Train Accuracy =  0.4375 , Validation Accuracy =  0.39559999108314514\n"
          ]
        },
        {
          "output_type": "stream",
          "name": "stderr",
          "text": [
            "\r 40%|████      | 8/20 [00:20<00:30,  2.52s/it]"
          ]
        },
        {
          "output_type": "stream",
          "name": "stdout",
          "text": [
            "EPOCH -  8 . Train Accuracy =  0.421875 , Validation Accuracy =  0.39559999108314514\n"
          ]
        },
        {
          "output_type": "stream",
          "name": "stderr",
          "text": [
            "\r 45%|████▌     | 9/20 [00:23<00:29,  2.68s/it]"
          ]
        },
        {
          "output_type": "stream",
          "name": "stdout",
          "text": [
            "EPOCH -  9 . Train Accuracy =  0.4375 , Validation Accuracy =  0.39559999108314514\n"
          ]
        },
        {
          "output_type": "stream",
          "name": "stderr",
          "text": [
            "\r 50%|█████     | 10/20 [00:25<00:26,  2.61s/it]"
          ]
        },
        {
          "output_type": "stream",
          "name": "stdout",
          "text": [
            "EPOCH -  10 . Train Accuracy =  0.4375 , Validation Accuracy =  0.39559999108314514\n"
          ]
        },
        {
          "output_type": "stream",
          "name": "stderr",
          "text": [
            "\r 55%|█████▌    | 11/20 [00:28<00:22,  2.55s/it]"
          ]
        },
        {
          "output_type": "stream",
          "name": "stdout",
          "text": [
            "EPOCH -  11 . Train Accuracy =  0.40625 , Validation Accuracy =  0.39559999108314514\n"
          ]
        },
        {
          "output_type": "stream",
          "name": "stderr",
          "text": [
            "\r 60%|██████    | 12/20 [00:30<00:20,  2.53s/it]"
          ]
        },
        {
          "output_type": "stream",
          "name": "stdout",
          "text": [
            "EPOCH -  12 . Train Accuracy =  0.359375 , Validation Accuracy =  0.39559999108314514\n"
          ]
        },
        {
          "output_type": "stream",
          "name": "stderr",
          "text": [
            "\r 65%|██████▌   | 13/20 [00:33<00:18,  2.62s/it]"
          ]
        },
        {
          "output_type": "stream",
          "name": "stdout",
          "text": [
            "EPOCH -  13 . Train Accuracy =  0.484375 , Validation Accuracy =  0.39559999108314514\n"
          ]
        },
        {
          "output_type": "stream",
          "name": "stderr",
          "text": [
            "\r 70%|███████   | 14/20 [00:36<00:16,  2.67s/it]"
          ]
        },
        {
          "output_type": "stream",
          "name": "stdout",
          "text": [
            "EPOCH -  14 . Train Accuracy =  0.328125 , Validation Accuracy =  0.39559999108314514\n"
          ]
        },
        {
          "output_type": "stream",
          "name": "stderr",
          "text": [
            "\r 75%|███████▌  | 15/20 [00:38<00:13,  2.60s/it]"
          ]
        },
        {
          "output_type": "stream",
          "name": "stdout",
          "text": [
            "EPOCH -  15 . Train Accuracy =  0.515625 , Validation Accuracy =  0.39559999108314514\n"
          ]
        },
        {
          "output_type": "stream",
          "name": "stderr",
          "text": [
            "\r 80%|████████  | 16/20 [00:41<00:10,  2.56s/it]"
          ]
        },
        {
          "output_type": "stream",
          "name": "stdout",
          "text": [
            "EPOCH -  16 . Train Accuracy =  0.390625 , Validation Accuracy =  0.39559999108314514\n"
          ]
        },
        {
          "output_type": "stream",
          "name": "stderr",
          "text": [
            "\r 85%|████████▌ | 17/20 [00:43<00:07,  2.52s/it]"
          ]
        },
        {
          "output_type": "stream",
          "name": "stdout",
          "text": [
            "EPOCH -  17 . Train Accuracy =  0.453125 , Validation Accuracy =  0.39559999108314514\n"
          ]
        },
        {
          "output_type": "stream",
          "name": "stderr",
          "text": [
            "\r 90%|█████████ | 18/20 [00:46<00:05,  2.68s/it]"
          ]
        },
        {
          "output_type": "stream",
          "name": "stdout",
          "text": [
            "EPOCH -  18 . Train Accuracy =  0.40625 , Validation Accuracy =  0.39559999108314514\n"
          ]
        },
        {
          "output_type": "stream",
          "name": "stderr",
          "text": [
            "\r 95%|█████████▌| 19/20 [00:49<00:02,  2.62s/it]"
          ]
        },
        {
          "output_type": "stream",
          "name": "stdout",
          "text": [
            "EPOCH -  19 . Train Accuracy =  0.421875 , Validation Accuracy =  0.39559999108314514\n"
          ]
        },
        {
          "output_type": "stream",
          "name": "stderr",
          "text": [
            "100%|██████████| 20/20 [00:51<00:00,  2.58s/it]\n"
          ]
        },
        {
          "output_type": "stream",
          "name": "stdout",
          "text": [
            "EPOCH -  20 . Train Accuracy =  0.390625 , Validation Accuracy =  0.39559999108314514\n"
          ]
        },
        {
          "output_type": "stream",
          "name": "stderr",
          "text": [
            "  5%|▌         | 1/20 [00:02<00:46,  2.45s/it]"
          ]
        },
        {
          "output_type": "stream",
          "name": "stdout",
          "text": [
            "EPOCH -  1 . Train Accuracy =  0.40625 , Validation Accuracy =  0.6043999791145325\n",
            "Model Re-Saved\n"
          ]
        },
        {
          "output_type": "stream",
          "name": "stderr",
          "text": [
            "\r 10%|█         | 2/20 [00:04<00:43,  2.43s/it]"
          ]
        },
        {
          "output_type": "stream",
          "name": "stdout",
          "text": [
            "EPOCH -  2 . Train Accuracy =  0.625 , Validation Accuracy =  0.6043999791145325\n"
          ]
        },
        {
          "output_type": "stream",
          "name": "stderr",
          "text": [
            "\r 15%|█▌        | 3/20 [00:07<00:46,  2.75s/it]"
          ]
        },
        {
          "output_type": "stream",
          "name": "stdout",
          "text": [
            "EPOCH -  3 . Train Accuracy =  0.5 , Validation Accuracy =  0.6043999791145325\n"
          ]
        },
        {
          "output_type": "stream",
          "name": "stderr",
          "text": [
            "\r 20%|██        | 4/20 [00:10<00:41,  2.61s/it]"
          ]
        },
        {
          "output_type": "stream",
          "name": "stdout",
          "text": [
            "EPOCH -  4 . Train Accuracy =  0.5625 , Validation Accuracy =  0.6043999791145325\n"
          ]
        },
        {
          "output_type": "stream",
          "name": "stderr",
          "text": [
            "\r 25%|██▌       | 5/20 [00:12<00:38,  2.56s/it]"
          ]
        },
        {
          "output_type": "stream",
          "name": "stdout",
          "text": [
            "EPOCH -  5 . Train Accuracy =  0.546875 , Validation Accuracy =  0.6043999791145325\n"
          ]
        },
        {
          "output_type": "stream",
          "name": "stderr",
          "text": [
            "\r 30%|███       | 6/20 [00:15<00:35,  2.53s/it]"
          ]
        },
        {
          "output_type": "stream",
          "name": "stdout",
          "text": [
            "EPOCH -  6 . Train Accuracy =  0.5 , Validation Accuracy =  0.6043999791145325\n"
          ]
        },
        {
          "output_type": "stream",
          "name": "stderr",
          "text": [
            "\r 35%|███▌      | 7/20 [00:18<00:33,  2.60s/it]"
          ]
        },
        {
          "output_type": "stream",
          "name": "stdout",
          "text": [
            "EPOCH -  7 . Train Accuracy =  0.75 , Validation Accuracy =  0.6043999791145325\n"
          ]
        },
        {
          "output_type": "stream",
          "name": "stderr",
          "text": [
            "\r 40%|████      | 8/20 [00:21<00:33,  2.77s/it]"
          ]
        },
        {
          "output_type": "stream",
          "name": "stdout",
          "text": [
            "EPOCH -  8 . Train Accuracy =  0.546875 , Validation Accuracy =  0.6042667031288147\n"
          ]
        },
        {
          "output_type": "stream",
          "name": "stderr",
          "text": [
            "\r 45%|████▌     | 9/20 [00:23<00:29,  2.67s/it]"
          ]
        },
        {
          "output_type": "stream",
          "name": "stdout",
          "text": [
            "EPOCH -  9 . Train Accuracy =  0.578125 , Validation Accuracy =  0.602400004863739\n"
          ]
        },
        {
          "output_type": "stream",
          "name": "stderr",
          "text": [
            "\r 50%|█████     | 10/20 [00:26<00:26,  2.61s/it]"
          ]
        },
        {
          "output_type": "stream",
          "name": "stdout",
          "text": [
            "EPOCH -  10 . Train Accuracy =  0.59375 , Validation Accuracy =  0.5972000360488892\n"
          ]
        },
        {
          "output_type": "stream",
          "name": "stderr",
          "text": [
            "\r 55%|█████▌    | 11/20 [00:28<00:22,  2.55s/it]"
          ]
        },
        {
          "output_type": "stream",
          "name": "stdout",
          "text": [
            "EPOCH -  11 . Train Accuracy =  0.6875 , Validation Accuracy =  0.6042667031288147\n"
          ]
        },
        {
          "output_type": "stream",
          "name": "stderr",
          "text": [
            "\r 60%|██████    | 12/20 [00:31<00:21,  2.70s/it]"
          ]
        },
        {
          "output_type": "stream",
          "name": "stdout",
          "text": [
            "EPOCH -  12 . Train Accuracy =  0.578125 , Validation Accuracy =  0.604533314704895\n",
            "Model Re-Saved\n"
          ]
        },
        {
          "output_type": "stream",
          "name": "stderr",
          "text": [
            "\r 65%|██████▌   | 13/20 [00:34<00:18,  2.64s/it]"
          ]
        },
        {
          "output_type": "stream",
          "name": "stdout",
          "text": [
            "EPOCH -  13 . Train Accuracy =  0.65625 , Validation Accuracy =  0.6043999791145325\n"
          ]
        },
        {
          "output_type": "stream",
          "name": "stderr",
          "text": [
            "\r 70%|███████   | 14/20 [00:36<00:15,  2.58s/it]"
          ]
        },
        {
          "output_type": "stream",
          "name": "stdout",
          "text": [
            "EPOCH -  14 . Train Accuracy =  0.671875 , Validation Accuracy =  0.6043999791145325\n"
          ]
        },
        {
          "output_type": "stream",
          "name": "stderr",
          "text": [
            "\r 75%|███████▌  | 15/20 [00:38<00:12,  2.53s/it]"
          ]
        },
        {
          "output_type": "stream",
          "name": "stdout",
          "text": [
            "EPOCH -  15 . Train Accuracy =  0.578125 , Validation Accuracy =  0.6043999791145325\n"
          ]
        },
        {
          "output_type": "stream",
          "name": "stderr",
          "text": [
            "\r 80%|████████  | 16/20 [00:41<00:10,  2.50s/it]"
          ]
        },
        {
          "output_type": "stream",
          "name": "stdout",
          "text": [
            "EPOCH -  16 . Train Accuracy =  0.625 , Validation Accuracy =  0.6043999791145325\n"
          ]
        },
        {
          "output_type": "stream",
          "name": "stderr",
          "text": [
            "\r 85%|████████▌ | 17/20 [00:44<00:08,  2.69s/it]"
          ]
        },
        {
          "output_type": "stream",
          "name": "stdout",
          "text": [
            "EPOCH -  17 . Train Accuracy =  0.625 , Validation Accuracy =  0.6043999791145325\n"
          ]
        },
        {
          "output_type": "stream",
          "name": "stderr",
          "text": [
            "\r 90%|█████████ | 18/20 [00:47<00:05,  2.63s/it]"
          ]
        },
        {
          "output_type": "stream",
          "name": "stdout",
          "text": [
            "EPOCH -  18 . Train Accuracy =  0.484375 , Validation Accuracy =  0.6043999791145325\n"
          ]
        },
        {
          "output_type": "stream",
          "name": "stderr",
          "text": [
            "\r 95%|█████████▌| 19/20 [00:49<00:02,  2.60s/it]"
          ]
        },
        {
          "output_type": "stream",
          "name": "stdout",
          "text": [
            "EPOCH -  19 . Train Accuracy =  0.578125 , Validation Accuracy =  0.6043999791145325\n"
          ]
        },
        {
          "output_type": "stream",
          "name": "stderr",
          "text": [
            "100%|██████████| 20/20 [00:51<00:00,  2.60s/it]\n"
          ]
        },
        {
          "output_type": "stream",
          "name": "stdout",
          "text": [
            "EPOCH -  20 . Train Accuracy =  0.625 , Validation Accuracy =  0.6043999791145325\n"
          ]
        },
        {
          "output_type": "stream",
          "name": "stderr",
          "text": [
            "  5%|▌         | 1/20 [00:02<00:51,  2.73s/it]"
          ]
        },
        {
          "output_type": "stream",
          "name": "stdout",
          "text": [
            "EPOCH -  1 . Train Accuracy =  0.5 , Validation Accuracy =  0.6010666489601135\n",
            "Model Re-Saved\n"
          ]
        },
        {
          "output_type": "stream",
          "name": "stderr",
          "text": [
            "\r 10%|█         | 2/20 [00:05<00:51,  2.86s/it]"
          ]
        },
        {
          "output_type": "stream",
          "name": "stdout",
          "text": [
            "EPOCH -  2 . Train Accuracy =  0.453125 , Validation Accuracy =  0.39559999108314514\n"
          ]
        },
        {
          "output_type": "stream",
          "name": "stderr",
          "text": [
            "\r 15%|█▌        | 3/20 [00:08<00:45,  2.65s/it]"
          ]
        },
        {
          "output_type": "stream",
          "name": "stdout",
          "text": [
            "EPOCH -  3 . Train Accuracy =  0.40625 , Validation Accuracy =  0.39559999108314514\n"
          ]
        },
        {
          "output_type": "stream",
          "name": "stderr",
          "text": [
            "\r 20%|██        | 4/20 [00:10<00:40,  2.56s/it]"
          ]
        },
        {
          "output_type": "stream",
          "name": "stdout",
          "text": [
            "EPOCH -  4 . Train Accuracy =  0.40625 , Validation Accuracy =  0.39559999108314514\n"
          ]
        },
        {
          "output_type": "stream",
          "name": "stderr",
          "text": [
            "\r 25%|██▌       | 5/20 [00:12<00:37,  2.52s/it]"
          ]
        },
        {
          "output_type": "stream",
          "name": "stdout",
          "text": [
            "EPOCH -  5 . Train Accuracy =  0.4375 , Validation Accuracy =  0.39559999108314514\n"
          ]
        },
        {
          "output_type": "stream",
          "name": "stderr",
          "text": [
            "\r 30%|███       | 6/20 [00:15<00:37,  2.64s/it]"
          ]
        },
        {
          "output_type": "stream",
          "name": "stdout",
          "text": [
            "EPOCH -  6 . Train Accuracy =  0.296875 , Validation Accuracy =  0.39559999108314514\n"
          ]
        },
        {
          "output_type": "stream",
          "name": "stderr",
          "text": [
            "\r 35%|███▌      | 7/20 [00:18<00:34,  2.65s/it]"
          ]
        },
        {
          "output_type": "stream",
          "name": "stdout",
          "text": [
            "EPOCH -  7 . Train Accuracy =  0.328125 , Validation Accuracy =  0.39559999108314514\n"
          ]
        },
        {
          "output_type": "stream",
          "name": "stderr",
          "text": [
            "\r 40%|████      | 8/20 [00:20<00:30,  2.58s/it]"
          ]
        },
        {
          "output_type": "stream",
          "name": "stdout",
          "text": [
            "EPOCH -  8 . Train Accuracy =  0.453125 , Validation Accuracy =  0.39559999108314514\n"
          ]
        },
        {
          "output_type": "stream",
          "name": "stderr",
          "text": [
            "\r 45%|████▌     | 9/20 [00:23<00:27,  2.53s/it]"
          ]
        },
        {
          "output_type": "stream",
          "name": "stdout",
          "text": [
            "EPOCH -  9 . Train Accuracy =  0.4375 , Validation Accuracy =  0.39559999108314514\n"
          ]
        },
        {
          "output_type": "stream",
          "name": "stderr",
          "text": [
            "\r 50%|█████     | 10/20 [00:25<00:25,  2.51s/it]"
          ]
        },
        {
          "output_type": "stream",
          "name": "stdout",
          "text": [
            "EPOCH -  10 . Train Accuracy =  0.3125 , Validation Accuracy =  0.39559999108314514\n"
          ]
        },
        {
          "output_type": "stream",
          "name": "stderr",
          "text": [
            "\r 55%|█████▌    | 11/20 [00:28<00:24,  2.71s/it]"
          ]
        },
        {
          "output_type": "stream",
          "name": "stdout",
          "text": [
            "EPOCH -  11 . Train Accuracy =  0.40625 , Validation Accuracy =  0.39559999108314514\n"
          ]
        },
        {
          "output_type": "stream",
          "name": "stderr",
          "text": [
            "\r 60%|██████    | 12/20 [00:31<00:20,  2.62s/it]"
          ]
        },
        {
          "output_type": "stream",
          "name": "stdout",
          "text": [
            "EPOCH -  12 . Train Accuracy =  0.4375 , Validation Accuracy =  0.39559999108314514\n"
          ]
        },
        {
          "output_type": "stream",
          "name": "stderr",
          "text": [
            "\r 65%|██████▌   | 13/20 [00:33<00:17,  2.56s/it]"
          ]
        },
        {
          "output_type": "stream",
          "name": "stdout",
          "text": [
            "EPOCH -  13 . Train Accuracy =  0.390625 , Validation Accuracy =  0.39559999108314514\n"
          ]
        },
        {
          "output_type": "stream",
          "name": "stderr",
          "text": [
            "\r 70%|███████   | 14/20 [00:36<00:15,  2.52s/it]"
          ]
        },
        {
          "output_type": "stream",
          "name": "stdout",
          "text": [
            "EPOCH -  14 . Train Accuracy =  0.3125 , Validation Accuracy =  0.39559999108314514\n"
          ]
        },
        {
          "output_type": "stream",
          "name": "stderr",
          "text": [
            "\r 75%|███████▌  | 15/20 [00:38<00:12,  2.51s/it]"
          ]
        },
        {
          "output_type": "stream",
          "name": "stdout",
          "text": [
            "EPOCH -  15 . Train Accuracy =  0.515625 , Validation Accuracy =  0.39559999108314514\n"
          ]
        },
        {
          "output_type": "stream",
          "name": "stderr",
          "text": [
            "\r 80%|████████  | 16/20 [00:41<00:10,  2.70s/it]"
          ]
        },
        {
          "output_type": "stream",
          "name": "stdout",
          "text": [
            "EPOCH -  16 . Train Accuracy =  0.34375 , Validation Accuracy =  0.39559999108314514\n"
          ]
        },
        {
          "output_type": "stream",
          "name": "stderr",
          "text": [
            "\r 85%|████████▌ | 17/20 [00:44<00:07,  2.61s/it]"
          ]
        },
        {
          "output_type": "stream",
          "name": "stdout",
          "text": [
            "EPOCH -  17 . Train Accuracy =  0.40625 , Validation Accuracy =  0.39559999108314514\n"
          ]
        },
        {
          "output_type": "stream",
          "name": "stderr",
          "text": [
            "\r 90%|█████████ | 18/20 [00:46<00:05,  2.55s/it]"
          ]
        },
        {
          "output_type": "stream",
          "name": "stdout",
          "text": [
            "EPOCH -  18 . Train Accuracy =  0.578125 , Validation Accuracy =  0.39559999108314514\n"
          ]
        },
        {
          "output_type": "stream",
          "name": "stderr",
          "text": [
            "\r 95%|█████████▌| 19/20 [00:49<00:02,  2.51s/it]"
          ]
        },
        {
          "output_type": "stream",
          "name": "stdout",
          "text": [
            "EPOCH -  19 . Train Accuracy =  0.3125 , Validation Accuracy =  0.39559999108314514\n"
          ]
        },
        {
          "output_type": "stream",
          "name": "stderr",
          "text": [
            "100%|██████████| 20/20 [00:51<00:00,  2.59s/it]\n"
          ]
        },
        {
          "output_type": "stream",
          "name": "stdout",
          "text": [
            "EPOCH -  20 . Train Accuracy =  0.375 , Validation Accuracy =  0.39559999108314514\n"
          ]
        },
        {
          "output_type": "stream",
          "name": "stderr",
          "text": [
            "  5%|▌         | 1/20 [00:02<00:55,  2.92s/it]"
          ]
        },
        {
          "output_type": "stream",
          "name": "stdout",
          "text": [
            "EPOCH -  1 . Train Accuracy =  0.28125 , Validation Accuracy =  0.6040000319480896\n",
            "Model Re-Saved\n"
          ]
        },
        {
          "output_type": "stream",
          "name": "stderr",
          "text": [
            "\r 10%|█         | 2/20 [00:05<00:47,  2.65s/it]"
          ]
        },
        {
          "output_type": "stream",
          "name": "stdout",
          "text": [
            "EPOCH -  2 . Train Accuracy =  0.609375 , Validation Accuracy =  0.5351999998092651\n"
          ]
        },
        {
          "output_type": "stream",
          "name": "stderr",
          "text": [
            "\r 15%|█▌        | 3/20 [00:07<00:43,  2.56s/it]"
          ]
        },
        {
          "output_type": "stream",
          "name": "stdout",
          "text": [
            "EPOCH -  3 . Train Accuracy =  0.46875 , Validation Accuracy =  0.3952000141143799\n"
          ]
        },
        {
          "output_type": "stream",
          "name": "stderr",
          "text": [
            "\r 20%|██        | 4/20 [00:10<00:40,  2.53s/it]"
          ]
        },
        {
          "output_type": "stream",
          "name": "stdout",
          "text": [
            "EPOCH -  4 . Train Accuracy =  0.40625 , Validation Accuracy =  0.39533334970474243\n"
          ]
        },
        {
          "output_type": "stream",
          "name": "stderr",
          "text": [
            "\r 25%|██▌       | 5/20 [00:13<00:40,  2.69s/it]"
          ]
        },
        {
          "output_type": "stream",
          "name": "stdout",
          "text": [
            "EPOCH -  5 . Train Accuracy =  0.390625 , Validation Accuracy =  0.395466685295105\n"
          ]
        },
        {
          "output_type": "stream",
          "name": "stderr",
          "text": [
            "\r 30%|███       | 6/20 [00:15<00:37,  2.66s/it]"
          ]
        },
        {
          "output_type": "stream",
          "name": "stdout",
          "text": [
            "EPOCH -  6 . Train Accuracy =  0.421875 , Validation Accuracy =  0.39586666226387024\n"
          ]
        },
        {
          "output_type": "stream",
          "name": "stderr",
          "text": [
            "\r 35%|███▌      | 7/20 [00:18<00:33,  2.59s/it]"
          ]
        },
        {
          "output_type": "stream",
          "name": "stdout",
          "text": [
            "EPOCH -  7 . Train Accuracy =  0.453125 , Validation Accuracy =  0.39613333344459534\n"
          ]
        },
        {
          "output_type": "stream",
          "name": "stderr",
          "text": [
            "\r 40%|████      | 8/20 [00:20<00:30,  2.55s/it]"
          ]
        },
        {
          "output_type": "stream",
          "name": "stdout",
          "text": [
            "EPOCH -  8 . Train Accuracy =  0.359375 , Validation Accuracy =  0.5118666887283325\n"
          ]
        },
        {
          "output_type": "stream",
          "name": "stderr",
          "text": [
            "\r 45%|████▌     | 9/20 [00:23<00:27,  2.53s/it]"
          ]
        },
        {
          "output_type": "stream",
          "name": "stdout",
          "text": [
            "EPOCH -  9 . Train Accuracy =  0.46875 , Validation Accuracy =  0.6040000319480896\n"
          ]
        },
        {
          "output_type": "stream",
          "name": "stderr",
          "text": [
            "\r 50%|█████     | 10/20 [00:26<00:27,  2.74s/it]"
          ]
        },
        {
          "output_type": "stream",
          "name": "stdout",
          "text": [
            "EPOCH -  10 . Train Accuracy =  0.65625 , Validation Accuracy =  0.6043999791145325\n",
            "Model Re-Saved\n"
          ]
        },
        {
          "output_type": "stream",
          "name": "stderr",
          "text": [
            "\r 55%|█████▌    | 11/20 [00:28<00:23,  2.66s/it]"
          ]
        },
        {
          "output_type": "stream",
          "name": "stdout",
          "text": [
            "EPOCH -  11 . Train Accuracy =  0.59375 , Validation Accuracy =  0.6043999791145325\n"
          ]
        },
        {
          "output_type": "stream",
          "name": "stderr",
          "text": [
            "\r 60%|██████    | 12/20 [00:31<00:20,  2.60s/it]"
          ]
        },
        {
          "output_type": "stream",
          "name": "stdout",
          "text": [
            "EPOCH -  12 . Train Accuracy =  0.515625 , Validation Accuracy =  0.6043999791145325\n"
          ]
        },
        {
          "output_type": "stream",
          "name": "stderr",
          "text": [
            "\r 65%|██████▌   | 13/20 [00:33<00:17,  2.56s/it]"
          ]
        },
        {
          "output_type": "stream",
          "name": "stdout",
          "text": [
            "EPOCH -  13 . Train Accuracy =  0.59375 , Validation Accuracy =  0.6043999791145325\n"
          ]
        },
        {
          "output_type": "stream",
          "name": "stderr",
          "text": [
            "\r 70%|███████   | 14/20 [00:36<00:15,  2.58s/it]"
          ]
        },
        {
          "output_type": "stream",
          "name": "stdout",
          "text": [
            "EPOCH -  14 . Train Accuracy =  0.640625 , Validation Accuracy =  0.6043999791145325\n"
          ]
        },
        {
          "output_type": "stream",
          "name": "stderr",
          "text": [
            "\r 75%|███████▌  | 15/20 [00:39<00:13,  2.70s/it]"
          ]
        },
        {
          "output_type": "stream",
          "name": "stdout",
          "text": [
            "EPOCH -  15 . Train Accuracy =  0.65625 , Validation Accuracy =  0.6043999791145325\n"
          ]
        },
        {
          "output_type": "stream",
          "name": "stderr",
          "text": [
            "\r 80%|████████  | 16/20 [00:41<00:10,  2.62s/it]"
          ]
        },
        {
          "output_type": "stream",
          "name": "stdout",
          "text": [
            "EPOCH -  16 . Train Accuracy =  0.6875 , Validation Accuracy =  0.6043999791145325\n"
          ]
        },
        {
          "output_type": "stream",
          "name": "stderr",
          "text": [
            "\r 85%|████████▌ | 17/20 [00:44<00:07,  2.56s/it]"
          ]
        },
        {
          "output_type": "stream",
          "name": "stdout",
          "text": [
            "EPOCH -  17 . Train Accuracy =  0.640625 , Validation Accuracy =  0.6043999791145325\n"
          ]
        },
        {
          "output_type": "stream",
          "name": "stderr",
          "text": [
            "\r 90%|█████████ | 18/20 [00:46<00:05,  2.54s/it]"
          ]
        },
        {
          "output_type": "stream",
          "name": "stdout",
          "text": [
            "EPOCH -  18 . Train Accuracy =  0.625 , Validation Accuracy =  0.6043999791145325\n"
          ]
        },
        {
          "output_type": "stream",
          "name": "stderr",
          "text": [
            "\r 95%|█████████▌| 19/20 [00:49<00:02,  2.65s/it]"
          ]
        },
        {
          "output_type": "stream",
          "name": "stdout",
          "text": [
            "EPOCH -  19 . Train Accuracy =  0.6875 , Validation Accuracy =  0.6043999791145325\n"
          ]
        },
        {
          "output_type": "stream",
          "name": "stderr",
          "text": [
            "100%|██████████| 20/20 [00:52<00:00,  2.62s/it]\n"
          ]
        },
        {
          "output_type": "stream",
          "name": "stdout",
          "text": [
            "EPOCH -  20 . Train Accuracy =  0.5625 , Validation Accuracy =  0.6043999791145325\n"
          ]
        },
        {
          "output_type": "stream",
          "name": "stderr",
          "text": [
            "  5%|▌         | 1/20 [00:02<00:47,  2.48s/it]"
          ]
        },
        {
          "output_type": "stream",
          "name": "stdout",
          "text": [
            "EPOCH -  1 . Train Accuracy =  0.328125 , Validation Accuracy =  0.5666666626930237\n",
            "Model Re-Saved\n"
          ]
        },
        {
          "output_type": "stream",
          "name": "stderr",
          "text": [
            "\r 10%|█         | 2/20 [00:04<00:44,  2.46s/it]"
          ]
        },
        {
          "output_type": "stream",
          "name": "stdout",
          "text": [
            "EPOCH -  2 . Train Accuracy =  0.5625 , Validation Accuracy =  0.39559999108314514\n"
          ]
        },
        {
          "output_type": "stream",
          "name": "stderr",
          "text": [
            "\r 15%|█▌        | 3/20 [00:07<00:41,  2.43s/it]"
          ]
        },
        {
          "output_type": "stream",
          "name": "stdout",
          "text": [
            "EPOCH -  3 . Train Accuracy =  0.453125 , Validation Accuracy =  0.39559999108314514\n"
          ]
        },
        {
          "output_type": "stream",
          "name": "stderr",
          "text": [
            "\r 20%|██        | 4/20 [00:10<00:43,  2.72s/it]"
          ]
        },
        {
          "output_type": "stream",
          "name": "stdout",
          "text": [
            "EPOCH -  4 . Train Accuracy =  0.328125 , Validation Accuracy =  0.39559999108314514\n"
          ]
        },
        {
          "output_type": "stream",
          "name": "stderr",
          "text": [
            "\r 25%|██▌       | 5/20 [00:12<00:39,  2.64s/it]"
          ]
        },
        {
          "output_type": "stream",
          "name": "stdout",
          "text": [
            "EPOCH -  5 . Train Accuracy =  0.390625 , Validation Accuracy =  0.39559999108314514\n"
          ]
        },
        {
          "output_type": "stream",
          "name": "stderr",
          "text": [
            "\r 30%|███       | 6/20 [00:15<00:36,  2.58s/it]"
          ]
        },
        {
          "output_type": "stream",
          "name": "stdout",
          "text": [
            "EPOCH -  6 . Train Accuracy =  0.40625 , Validation Accuracy =  0.39559999108314514\n"
          ]
        },
        {
          "output_type": "stream",
          "name": "stderr",
          "text": [
            "\r 35%|███▌      | 7/20 [00:17<00:32,  2.53s/it]"
          ]
        },
        {
          "output_type": "stream",
          "name": "stdout",
          "text": [
            "EPOCH -  7 . Train Accuracy =  0.359375 , Validation Accuracy =  0.39559999108314514\n"
          ]
        },
        {
          "output_type": "stream",
          "name": "stderr",
          "text": [
            "\r 40%|████      | 8/20 [00:20<00:29,  2.50s/it]"
          ]
        },
        {
          "output_type": "stream",
          "name": "stdout",
          "text": [
            "EPOCH -  8 . Train Accuracy =  0.34375 , Validation Accuracy =  0.39559999108314514\n"
          ]
        },
        {
          "output_type": "stream",
          "name": "stderr",
          "text": [
            "\r 45%|████▌     | 9/20 [00:23<00:29,  2.69s/it]"
          ]
        },
        {
          "output_type": "stream",
          "name": "stdout",
          "text": [
            "EPOCH -  9 . Train Accuracy =  0.390625 , Validation Accuracy =  0.39559999108314514\n"
          ]
        },
        {
          "output_type": "stream",
          "name": "stderr",
          "text": [
            "\r 50%|█████     | 10/20 [00:25<00:26,  2.62s/it]"
          ]
        },
        {
          "output_type": "stream",
          "name": "stdout",
          "text": [
            "EPOCH -  10 . Train Accuracy =  0.375 , Validation Accuracy =  0.39559999108314514\n"
          ]
        },
        {
          "output_type": "stream",
          "name": "stderr",
          "text": [
            "\r 55%|█████▌    | 11/20 [00:28<00:23,  2.56s/it]"
          ]
        },
        {
          "output_type": "stream",
          "name": "stdout",
          "text": [
            "EPOCH -  11 . Train Accuracy =  0.375 , Validation Accuracy =  0.39559999108314514\n"
          ]
        },
        {
          "output_type": "stream",
          "name": "stderr",
          "text": [
            "\r 60%|██████    | 12/20 [00:30<00:20,  2.51s/it]"
          ]
        },
        {
          "output_type": "stream",
          "name": "stdout",
          "text": [
            "EPOCH -  12 . Train Accuracy =  0.421875 , Validation Accuracy =  0.39559999108314514\n"
          ]
        },
        {
          "output_type": "stream",
          "name": "stderr",
          "text": [
            "\r 65%|██████▌   | 13/20 [00:33<00:18,  2.58s/it]"
          ]
        },
        {
          "output_type": "stream",
          "name": "stdout",
          "text": [
            "EPOCH -  13 . Train Accuracy =  0.46875 , Validation Accuracy =  0.39559999108314514\n"
          ]
        },
        {
          "output_type": "stream",
          "name": "stderr",
          "text": [
            "\r 70%|███████   | 14/20 [00:36<00:15,  2.65s/it]"
          ]
        },
        {
          "output_type": "stream",
          "name": "stdout",
          "text": [
            "EPOCH -  14 . Train Accuracy =  0.4375 , Validation Accuracy =  0.39559999108314514\n"
          ]
        },
        {
          "output_type": "stream",
          "name": "stderr",
          "text": [
            "\r 75%|███████▌  | 15/20 [00:38<00:12,  2.59s/it]"
          ]
        },
        {
          "output_type": "stream",
          "name": "stdout",
          "text": [
            "EPOCH -  15 . Train Accuracy =  0.375 , Validation Accuracy =  0.39559999108314514\n"
          ]
        },
        {
          "output_type": "stream",
          "name": "stderr",
          "text": [
            "\r 80%|████████  | 16/20 [00:41<00:10,  2.54s/it]"
          ]
        },
        {
          "output_type": "stream",
          "name": "stdout",
          "text": [
            "EPOCH -  16 . Train Accuracy =  0.328125 , Validation Accuracy =  0.39559999108314514\n"
          ]
        },
        {
          "output_type": "stream",
          "name": "stderr",
          "text": [
            "\r 85%|████████▌ | 17/20 [00:43<00:07,  2.50s/it]"
          ]
        },
        {
          "output_type": "stream",
          "name": "stdout",
          "text": [
            "EPOCH -  17 . Train Accuracy =  0.4375 , Validation Accuracy =  0.39559999108314514\n"
          ]
        },
        {
          "output_type": "stream",
          "name": "stderr",
          "text": [
            "\r 90%|█████████ | 18/20 [00:46<00:05,  2.65s/it]"
          ]
        },
        {
          "output_type": "stream",
          "name": "stdout",
          "text": [
            "EPOCH -  18 . Train Accuracy =  0.375 , Validation Accuracy =  0.39559999108314514\n"
          ]
        },
        {
          "output_type": "stream",
          "name": "stderr",
          "text": [
            "\r 95%|█████████▌| 19/20 [00:49<00:02,  2.65s/it]"
          ]
        },
        {
          "output_type": "stream",
          "name": "stdout",
          "text": [
            "EPOCH -  19 . Train Accuracy =  0.484375 , Validation Accuracy =  0.39559999108314514\n"
          ]
        },
        {
          "output_type": "stream",
          "name": "stderr",
          "text": [
            "100%|██████████| 20/20 [00:51<00:00,  2.58s/it]\n"
          ]
        },
        {
          "output_type": "stream",
          "name": "stdout",
          "text": [
            "EPOCH -  20 . Train Accuracy =  0.453125 , Validation Accuracy =  0.39559999108314514\n"
          ]
        },
        {
          "output_type": "stream",
          "name": "stderr",
          "text": [
            "  5%|▌         | 1/20 [00:02<00:47,  2.48s/it]"
          ]
        },
        {
          "output_type": "stream",
          "name": "stdout",
          "text": [
            "EPOCH -  1 . Train Accuracy =  0.609375 , Validation Accuracy =  0.6043999791145325\n",
            "Model Re-Saved\n"
          ]
        },
        {
          "output_type": "stream",
          "name": "stderr",
          "text": [
            "\r 10%|█         | 2/20 [00:04<00:44,  2.46s/it]"
          ]
        },
        {
          "output_type": "stream",
          "name": "stdout",
          "text": [
            "EPOCH -  2 . Train Accuracy =  0.640625 , Validation Accuracy =  0.6043999791145325\n"
          ]
        },
        {
          "output_type": "stream",
          "name": "stderr",
          "text": [
            "\r 15%|█▌        | 3/20 [00:08<00:47,  2.77s/it]"
          ]
        },
        {
          "output_type": "stream",
          "name": "stdout",
          "text": [
            "EPOCH -  3 . Train Accuracy =  0.6875 , Validation Accuracy =  0.6043999791145325\n"
          ]
        },
        {
          "output_type": "stream",
          "name": "stderr",
          "text": [
            "\r 20%|██        | 4/20 [00:10<00:42,  2.65s/it]"
          ]
        },
        {
          "output_type": "stream",
          "name": "stdout",
          "text": [
            "EPOCH -  4 . Train Accuracy =  0.6875 , Validation Accuracy =  0.6043999791145325\n"
          ]
        },
        {
          "output_type": "stream",
          "name": "stderr",
          "text": [
            "\r 25%|██▌       | 5/20 [00:12<00:38,  2.57s/it]"
          ]
        },
        {
          "output_type": "stream",
          "name": "stdout",
          "text": [
            "EPOCH -  5 . Train Accuracy =  0.59375 , Validation Accuracy =  0.6043999791145325\n"
          ]
        },
        {
          "output_type": "stream",
          "name": "stderr",
          "text": [
            "\r 30%|███       | 6/20 [00:15<00:35,  2.53s/it]"
          ]
        },
        {
          "output_type": "stream",
          "name": "stdout",
          "text": [
            "EPOCH -  6 . Train Accuracy =  0.625 , Validation Accuracy =  0.6043999791145325\n"
          ]
        },
        {
          "output_type": "stream",
          "name": "stderr",
          "text": [
            "\r 35%|███▌      | 7/20 [00:18<00:33,  2.56s/it]"
          ]
        },
        {
          "output_type": "stream",
          "name": "stdout",
          "text": [
            "EPOCH -  7 . Train Accuracy =  0.5 , Validation Accuracy =  0.6043999791145325\n"
          ]
        },
        {
          "output_type": "stream",
          "name": "stderr",
          "text": [
            "\r 40%|████      | 8/20 [00:21<00:32,  2.71s/it]"
          ]
        },
        {
          "output_type": "stream",
          "name": "stdout",
          "text": [
            "EPOCH -  8 . Train Accuracy =  0.578125 , Validation Accuracy =  0.6043999791145325\n"
          ]
        },
        {
          "output_type": "stream",
          "name": "stderr",
          "text": [
            "\r 45%|████▌     | 9/20 [00:23<00:28,  2.62s/it]"
          ]
        },
        {
          "output_type": "stream",
          "name": "stdout",
          "text": [
            "EPOCH -  9 . Train Accuracy =  0.546875 , Validation Accuracy =  0.6043999791145325\n"
          ]
        },
        {
          "output_type": "stream",
          "name": "stderr",
          "text": [
            "\r 50%|█████     | 10/20 [00:25<00:25,  2.56s/it]"
          ]
        },
        {
          "output_type": "stream",
          "name": "stdout",
          "text": [
            "EPOCH -  10 . Train Accuracy =  0.5 , Validation Accuracy =  0.6043999791145325\n"
          ]
        },
        {
          "output_type": "stream",
          "name": "stderr",
          "text": [
            "\r 55%|█████▌    | 11/20 [00:28<00:22,  2.50s/it]"
          ]
        },
        {
          "output_type": "stream",
          "name": "stdout",
          "text": [
            "EPOCH -  11 . Train Accuracy =  0.5 , Validation Accuracy =  0.6043999791145325\n"
          ]
        },
        {
          "output_type": "stream",
          "name": "stderr",
          "text": [
            "\r 60%|██████    | 12/20 [00:31<00:20,  2.61s/it]"
          ]
        },
        {
          "output_type": "stream",
          "name": "stdout",
          "text": [
            "EPOCH -  12 . Train Accuracy =  0.609375 , Validation Accuracy =  0.6043999791145325\n"
          ]
        },
        {
          "output_type": "stream",
          "name": "stderr",
          "text": [
            "\r 65%|██████▌   | 13/20 [00:33<00:18,  2.66s/it]"
          ]
        },
        {
          "output_type": "stream",
          "name": "stdout",
          "text": [
            "EPOCH -  13 . Train Accuracy =  0.515625 , Validation Accuracy =  0.6043999791145325\n"
          ]
        },
        {
          "output_type": "stream",
          "name": "stderr",
          "text": [
            "\r 70%|███████   | 14/20 [00:36<00:15,  2.59s/it]"
          ]
        },
        {
          "output_type": "stream",
          "name": "stdout",
          "text": [
            "EPOCH -  14 . Train Accuracy =  0.59375 , Validation Accuracy =  0.6043999791145325\n"
          ]
        },
        {
          "output_type": "stream",
          "name": "stderr",
          "text": [
            "\r 75%|███████▌  | 15/20 [00:38<00:12,  2.53s/it]"
          ]
        },
        {
          "output_type": "stream",
          "name": "stdout",
          "text": [
            "EPOCH -  15 . Train Accuracy =  0.59375 , Validation Accuracy =  0.6043999791145325\n"
          ]
        },
        {
          "output_type": "stream",
          "name": "stderr",
          "text": [
            "\r 80%|████████  | 16/20 [00:41<00:09,  2.50s/it]"
          ]
        },
        {
          "output_type": "stream",
          "name": "stdout",
          "text": [
            "EPOCH -  16 . Train Accuracy =  0.5625 , Validation Accuracy =  0.6043999791145325\n"
          ]
        },
        {
          "output_type": "stream",
          "name": "stderr",
          "text": [
            "\r 85%|████████▌ | 17/20 [00:44<00:07,  2.66s/it]"
          ]
        },
        {
          "output_type": "stream",
          "name": "stdout",
          "text": [
            "EPOCH -  17 . Train Accuracy =  0.59375 , Validation Accuracy =  0.6043999791145325\n"
          ]
        },
        {
          "output_type": "stream",
          "name": "stderr",
          "text": [
            "\r 90%|█████████ | 18/20 [00:46<00:05,  2.59s/it]"
          ]
        },
        {
          "output_type": "stream",
          "name": "stdout",
          "text": [
            "EPOCH -  18 . Train Accuracy =  0.5625 , Validation Accuracy =  0.6043999791145325\n"
          ]
        },
        {
          "output_type": "stream",
          "name": "stderr",
          "text": [
            "\r 95%|█████████▌| 19/20 [00:49<00:02,  2.53s/it]"
          ]
        },
        {
          "output_type": "stream",
          "name": "stdout",
          "text": [
            "EPOCH -  19 . Train Accuracy =  0.453125 , Validation Accuracy =  0.6043999791145325\n"
          ]
        },
        {
          "output_type": "stream",
          "name": "stderr",
          "text": [
            "100%|██████████| 20/20 [00:51<00:00,  2.57s/it]\n"
          ]
        },
        {
          "output_type": "stream",
          "name": "stdout",
          "text": [
            "EPOCH -  20 . Train Accuracy =  0.65625 , Validation Accuracy =  0.6043999791145325\n"
          ]
        },
        {
          "output_type": "stream",
          "name": "stderr",
          "text": [
            "  5%|▌         | 1/20 [00:02<00:51,  2.69s/it]"
          ]
        },
        {
          "output_type": "stream",
          "name": "stdout",
          "text": [
            "EPOCH -  1 . Train Accuracy =  0.609375 , Validation Accuracy =  0.6042667031288147\n",
            "Model Re-Saved\n"
          ]
        },
        {
          "output_type": "stream",
          "name": "stderr",
          "text": [
            "\r 10%|█         | 2/20 [00:05<00:52,  2.93s/it]"
          ]
        },
        {
          "output_type": "stream",
          "name": "stdout",
          "text": [
            "EPOCH -  2 . Train Accuracy =  0.609375 , Validation Accuracy =  0.6042667031288147\n"
          ]
        },
        {
          "output_type": "stream",
          "name": "stderr",
          "text": [
            "\r 15%|█▌        | 3/20 [00:08<00:45,  2.68s/it]"
          ]
        },
        {
          "output_type": "stream",
          "name": "stdout",
          "text": [
            "EPOCH -  3 . Train Accuracy =  0.59375 , Validation Accuracy =  0.6006667017936707\n"
          ]
        },
        {
          "output_type": "stream",
          "name": "stderr",
          "text": [
            "\r 20%|██        | 4/20 [00:10<00:41,  2.61s/it]"
          ]
        },
        {
          "output_type": "stream",
          "name": "stdout",
          "text": [
            "EPOCH -  4 . Train Accuracy =  0.59375 , Validation Accuracy =  0.6043999791145325\n",
            "Model Re-Saved\n"
          ]
        },
        {
          "output_type": "stream",
          "name": "stderr",
          "text": [
            "\r 25%|██▌       | 5/20 [00:13<00:38,  2.57s/it]"
          ]
        },
        {
          "output_type": "stream",
          "name": "stdout",
          "text": [
            "EPOCH -  5 . Train Accuracy =  0.59375 , Validation Accuracy =  0.6042667031288147\n"
          ]
        },
        {
          "output_type": "stream",
          "name": "stderr",
          "text": [
            "\r 30%|███       | 6/20 [00:15<00:36,  2.60s/it]"
          ]
        },
        {
          "output_type": "stream",
          "name": "stdout",
          "text": [
            "EPOCH -  6 . Train Accuracy =  0.609375 , Validation Accuracy =  0.6042667031288147\n"
          ]
        },
        {
          "output_type": "stream",
          "name": "stderr",
          "text": [
            "\r 35%|███▌      | 7/20 [00:18<00:34,  2.69s/it]"
          ]
        },
        {
          "output_type": "stream",
          "name": "stdout",
          "text": [
            "EPOCH -  7 . Train Accuracy =  0.59375 , Validation Accuracy =  0.6043999791145325\n"
          ]
        },
        {
          "output_type": "stream",
          "name": "stderr",
          "text": [
            "\r 40%|████      | 8/20 [00:21<00:31,  2.59s/it]"
          ]
        },
        {
          "output_type": "stream",
          "name": "stdout",
          "text": [
            "EPOCH -  8 . Train Accuracy =  0.5625 , Validation Accuracy =  0.6043999791145325\n"
          ]
        },
        {
          "output_type": "stream",
          "name": "stderr",
          "text": [
            "\r 45%|████▌     | 9/20 [00:23<00:28,  2.55s/it]"
          ]
        },
        {
          "output_type": "stream",
          "name": "stdout",
          "text": [
            "EPOCH -  9 . Train Accuracy =  0.484375 , Validation Accuracy =  0.6043999791145325\n"
          ]
        },
        {
          "output_type": "stream",
          "name": "stderr",
          "text": [
            "\r 50%|█████     | 10/20 [00:25<00:25,  2.51s/it]"
          ]
        },
        {
          "output_type": "stream",
          "name": "stdout",
          "text": [
            "EPOCH -  10 . Train Accuracy =  0.59375 , Validation Accuracy =  0.6050666570663452\n",
            "Model Re-Saved\n"
          ]
        },
        {
          "output_type": "stream",
          "name": "stderr",
          "text": [
            "\r 55%|█████▌    | 11/20 [00:28<00:23,  2.64s/it]"
          ]
        },
        {
          "output_type": "stream",
          "name": "stdout",
          "text": [
            "EPOCH -  11 . Train Accuracy =  0.609375 , Validation Accuracy =  0.6060000061988831\n",
            "Model Re-Saved\n"
          ]
        },
        {
          "output_type": "stream",
          "name": "stderr",
          "text": [
            "\r 60%|██████    | 12/20 [00:31<00:21,  2.65s/it]"
          ]
        },
        {
          "output_type": "stream",
          "name": "stdout",
          "text": [
            "EPOCH -  12 . Train Accuracy =  0.5 , Validation Accuracy =  0.6195999979972839\n",
            "Model Re-Saved\n"
          ]
        },
        {
          "output_type": "stream",
          "name": "stderr",
          "text": [
            "\r 65%|██████▌   | 13/20 [00:34<00:18,  2.59s/it]"
          ]
        },
        {
          "output_type": "stream",
          "name": "stdout",
          "text": [
            "EPOCH -  13 . Train Accuracy =  0.546875 , Validation Accuracy =  0.6357333660125732\n",
            "Model Re-Saved\n"
          ]
        },
        {
          "output_type": "stream",
          "name": "stderr",
          "text": [
            "\r 70%|███████   | 14/20 [00:36<00:15,  2.54s/it]"
          ]
        },
        {
          "output_type": "stream",
          "name": "stdout",
          "text": [
            "EPOCH -  14 . Train Accuracy =  0.625 , Validation Accuracy =  0.6122666597366333\n"
          ]
        },
        {
          "output_type": "stream",
          "name": "stderr",
          "text": [
            "\r 75%|███████▌  | 15/20 [00:38<00:12,  2.52s/it]"
          ]
        },
        {
          "output_type": "stream",
          "name": "stdout",
          "text": [
            "EPOCH -  15 . Train Accuracy =  0.65625 , Validation Accuracy =  0.604533314704895\n"
          ]
        },
        {
          "output_type": "stream",
          "name": "stderr",
          "text": [
            "\r 80%|████████  | 16/20 [00:42<00:10,  2.69s/it]"
          ]
        },
        {
          "output_type": "stream",
          "name": "stdout",
          "text": [
            "EPOCH -  16 . Train Accuracy =  0.65625 , Validation Accuracy =  0.604533314704895\n"
          ]
        },
        {
          "output_type": "stream",
          "name": "stderr",
          "text": [
            "\r 85%|████████▌ | 17/20 [00:44<00:07,  2.61s/it]"
          ]
        },
        {
          "output_type": "stream",
          "name": "stdout",
          "text": [
            "EPOCH -  17 . Train Accuracy =  0.734375 , Validation Accuracy =  0.604533314704895\n"
          ]
        },
        {
          "output_type": "stream",
          "name": "stderr",
          "text": [
            "\r 90%|█████████ | 18/20 [00:46<00:05,  2.54s/it]"
          ]
        },
        {
          "output_type": "stream",
          "name": "stdout",
          "text": [
            "EPOCH -  18 . Train Accuracy =  0.4375 , Validation Accuracy =  0.6043999791145325\n"
          ]
        },
        {
          "output_type": "stream",
          "name": "stderr",
          "text": [
            "\r 95%|█████████▌| 19/20 [00:49<00:02,  2.51s/it]"
          ]
        },
        {
          "output_type": "stream",
          "name": "stdout",
          "text": [
            "EPOCH -  19 . Train Accuracy =  0.5625 , Validation Accuracy =  0.6043999791145325\n"
          ]
        },
        {
          "output_type": "stream",
          "name": "stderr",
          "text": [
            "100%|██████████| 20/20 [00:51<00:00,  2.58s/it]"
          ]
        },
        {
          "output_type": "stream",
          "name": "stdout",
          "text": [
            "EPOCH -  20 . Train Accuracy =  0.703125 , Validation Accuracy =  0.6043999791145325\n"
          ]
        },
        {
          "output_type": "stream",
          "name": "stderr",
          "text": [
            "\n",
            "<ipython-input-2-98ef64b1a863>:27: UserWarning: Implicit dimension choice for softmax has been deprecated. Change the call to include dim=X as an argument.\n",
            "  x = self.SftMax(self.fc1(x))\n"
          ]
        },
        {
          "output_type": "execute_result",
          "data": {
            "text/plain": [
              "tensor([0.8383], device='cuda:0', grad_fn=<AddBackward0>)"
            ]
          },
          "metadata": {},
          "execution_count": 48
        }
      ]
    },
    {
      "cell_type": "code",
      "source": [
        "val=evaluateGated(Gating_model,test_loader,device, ExpertModels)\n",
        "print(val)\n",
        "List_observations.append(val)"
      ],
      "metadata": {
        "colab": {
          "base_uri": "https://localhost:8080/"
        },
        "id": "MiNSvKoD88rY",
        "outputId": "9e54c515-bf49-47c6-fc8d-bdbb89f41bc1"
      },
      "execution_count": 49,
      "outputs": [
        {
          "output_type": "stream",
          "name": "stderr",
          "text": [
            "<ipython-input-2-98ef64b1a863>:27: UserWarning: Implicit dimension choice for softmax has been deprecated. Change the call to include dim=X as an argument.\n",
            "  x = self.SftMax(self.fc1(x))\n"
          ]
        },
        {
          "output_type": "stream",
          "name": "stdout",
          "text": [
            "0.6307\n"
          ]
        }
      ]
    },
    {
      "cell_type": "code",
      "source": [
        "print(List_observations)"
      ],
      "metadata": {
        "colab": {
          "base_uri": "https://localhost:8080/"
        },
        "id": "Or7UlnZt6J6j",
        "outputId": "699ab8bc-f8bf-4c09-bd4b-e6143860b9b8"
      },
      "execution_count": 51,
      "outputs": [
        {
          "output_type": "stream",
          "name": "stdout",
          "text": [
            "[0.6, 0.5989, 0.6, 0.6006, 0.5996, 0.6307]\n"
          ]
        }
      ]
    },
    {
      "cell_type": "code",
      "source": [
        "import matplotlib.pyplot as plt\n",
        "\n",
        "def PlotGraph(X, Y1):\n",
        "    plt.plot(X, Y1, label = 'IOC-NN')\n",
        "    # plt.plot(X, Y2, label = \"Val\")\n",
        "\n",
        "    plt.xlabel(\"Experts\")\n",
        "    plt.ylabel(\"Accuracy\")\n",
        "\n",
        "    plt.legend(loc='best')\n",
        "    plt.show()\n",
        "X=[2,4,6,8,10]\n",
        "# observations =[0.7007, 0.6984, 0.7068, 0.6678, 0.6468]\n",
        "PlotGraph(X,List_observations[1:])"
      ],
      "metadata": {
        "colab": {
          "base_uri": "https://localhost:8080/",
          "height": 449
        },
        "id": "Cp8ImePX58TR",
        "outputId": "c7e8b408-c5dc-439e-920b-cce43d435832"
      },
      "execution_count": 53,
      "outputs": [
        {
          "output_type": "display_data",
          "data": {
            "text/plain": [
              "<Figure size 640x480 with 1 Axes>"
            ],
            "image/png": "[encoded data removed]"
          },
          "metadata": {}
        }
      ]
    },
    {
      "cell_type": "code",
      "source": [
        "def PlotGraph2(X, Y1,Y2):\n",
        "    plt.plot(X, Y1, label = 'IOC-NN')\n",
        "    plt.plot(X, Y2, label = \"MLP\")\n",
        "\n",
        "    plt.xlabel(\"Experts\")\n",
        "    plt.ylabel(\"Accuracy\")\n",
        "\n",
        "    plt.legend(loc='best')\n",
        "    plt.show()\n",
        "X=[2,4,6,8,10]\n",
        "# observations =[0.7007, 0.6984, 0.7068, 0.6678, 0.6468]\n",
        "observations = [0.6508, 0.6938, 0.6709, 0.6832, 0.6649]\n",
        "PlotGraph2(X,List_observations[1:],observations)"
      ],
      "metadata": {
        "colab": {
          "base_uri": "https://localhost:8080/",
          "height": 449
        },
        "id": "gDpdro756wvz",
        "outputId": "95671ced-2ffe-4f05-cf8c-e933d6477de7"
      },
      "execution_count": 54,
      "outputs": [
        {
          "output_type": "display_data",
          "data": {
            "text/plain": [
              "<Figure size 640x480 with 1 Axes>"
            ],
            "image/png": "[encoded data removed]"
          },
          "metadata": {}
        }
      ]
    }
  ]
}