{
  "nbformat": 4,
  "nbformat_minor": 0,
  "metadata": {
    "colab": {
      "provenance": []
    },
    "kernelspec": {
      "name": "python3",
      "display_name": "Python 3"
    },
    "language_info": {
      "name": "python"
    },
    "accelerator": "GPU",
    "gpuClass": "standard"
  },
  "cells": [
    {
      "cell_type": "code",
      "execution_count": null,
      "metadata": {
        "id": "mAsgaJ8X76Nq"
      },
      "outputs": [],
      "source": [
        "import torch\n",
        "import torch.nn as nn\n",
        "import torchvision\n",
        "from torchvision import datasets\n",
        "from torchvision import transforms\n",
        "\n",
        "import numpy as np\n",
        "from tqdm import tqdm\n",
        "import math"
      ]
    },
    {
      "cell_type": "code",
      "source": [
        "transform = transforms.Compose([\n",
        "                    transforms.ToTensor(), \n",
        "                    # transforms.Normalize((0.5,), (0.5,)),\n",
        "            ])"
      ],
      "metadata": {
        "id": "olTGr3qC8CGm"
      },
      "execution_count": null,
      "outputs": []
    },
    {
      "cell_type": "code",
      "source": [
        "def CreateDataLoaders(Option, p_BatchSize):\n",
        "    if Option == 1:\n",
        "        train_dataset = datasets.MNIST(\"./\", train=True, transform = transform, download=True)\n",
        "        train_subset, val_subset = torch.utils.data.random_split(train_dataset, [int(len(train_dataset) * 0.85), int(len(train_dataset) * 0.15)], generator=torch.Generator().manual_seed(1))\n",
        "        test_dataset = datasets.MNIST(\"./\", train=False, transform = transform, download=True)\n",
        "    elif Option == 2:\n",
        "        train_dataset = datasets.FashionMNIST(\"./\", train=True, transform = transform, download=True)\n",
        "        train_subset, val_subset = torch.utils.data.random_split(train_dataset, [int(len(train_dataset) * 0.85), int(len(train_dataset) * 0.15)], generator=torch.Generator().manual_seed(1))\n",
        "        test_dataset = datasets.FashionMNIST(\"./\", train=False, transform = transform, download=True)\n",
        "    \n",
        "    elif Option == 5:\n",
        "        train_dataset = datasets.CIFAR10(\"./\", train=True, transform = transform, download=True)\n",
        "        train_subset, val_subset = torch.utils.data.random_split(train_dataset, [int(len(train_dataset) * 0.85), int(len(train_dataset) * 0.15)], generator=torch.Generator().manual_seed(1))\n",
        "        test_dataset = datasets.CIFAR10(\"./\", train=False, transform = transform, download=True)\n",
        "    \n",
        "    elif Option == 6:\n",
        "        train_dataset = datasets.CIFAR100(\"./\", train=True, transform = transform, download=True)\n",
        "        train_subset, val_subset = torch.utils.data.random_split(train_dataset, [int(len(train_dataset) * 0.85), int(len(train_dataset) * 0.15)], generator=torch.Generator().manual_seed(1))\n",
        "        test_dataset = datasets.CIFAR100(\"./\", train=False, transform = transform, download=True)\n",
        "\n",
        "    \n",
        "    Train_DataLoader = torch.utils.data.DataLoader(train_subset, batch_size = p_BatchSize, shuffle = True)\n",
        "    Val_DataLoader = torch.utils.data.DataLoader(val_subset, batch_size = p_BatchSize, shuffle = True)\n",
        "    Test_DataLoader = torch.utils.data.DataLoader(test_dataset, batch_size = p_BatchSize, shuffle = True)\n",
        "\n",
        "    return Train_DataLoader, Val_DataLoader, Test_DataLoader"
      ],
      "metadata": {
        "id": "NYMUEdpY8DhM"
      },
      "execution_count": null,
      "outputs": []
    },
    {
      "cell_type": "code",
      "source": [
        "class AllConv_IOCN(nn.Module):\n",
        "    def __init__(self, OutputDim):\n",
        "        super(AllConv_IOCN, self).__init__()\n",
        "        # self.InputDim = InputDim\n",
        "        self.OutputDim = OutputDim\n",
        "        \n",
        "        self.Conv1 = nn.Conv2d(3, 96, kernel_size = 3)\n",
        "        self.Conv2 = nn.Conv2d(96, 96, kernel_size = 3)\n",
        "        self.Conv3 = nn.Conv2d(96, 96, kernel_size = 3, stride = 2)\n",
        "        self.Conv4 = nn.Conv2d(96, 192, kernel_size = 3)\n",
        "        self.Conv5 = nn.Conv2d(192, 192, kernel_size = 3)\n",
        "        self.Conv6 = nn.Conv2d(192, 192, kernel_size = 3, stride = 2)\n",
        "        self.Conv7 = nn.Conv2d(192, 192, kernel_size = 3)\n",
        "        self.Conv8 = nn.Conv2d(192, 192, kernel_size = 1)\n",
        "        self.Conv9 = nn.Conv2d(192, self.OutputDim, kernel_size = 1)\n",
        "\n",
        "        self.AvgPool = nn.AvgPool2d(kernel_size = 2) # In Paper it is mentioned to avg pool on 6 x 6\n",
        "\n",
        "        self.ActFunc = nn.functional.relu\n",
        "        # self.batch = nn.BatchNorm1d(800)\n",
        "        # self.SftMax = nn.Softmax\n",
        "\n",
        "    def forward(self, x):\n",
        "        # print(x.shape)\n",
        "        x = self.ActFunc(self.Conv1(x))\n",
        "        # print(x.shape)\n",
        "        x = self.ActFunc(self.Conv2(x))\n",
        "        # print(x.shape)\n",
        "        x = self.ActFunc(self.Conv3(x))\n",
        "        # print(x.shape)\n",
        "        x = self.ActFunc(self.Conv4(x))\n",
        "        # print(x.shape)\n",
        "        x = self.ActFunc(self.Conv5(x))\n",
        "        # print(x.shape)\n",
        "        x = self.ActFunc(self.Conv6(x))\n",
        "        # print(x.shape)\n",
        "        x = self.ActFunc(self.Conv7(x))\n",
        "        # print(x.shape)\n",
        "        x = self.ActFunc(self.Conv8(x))\n",
        "        # print(x.shape)\n",
        "        x = self.ActFunc(self.Conv9(x))\n",
        "        # print(x.shape)\n",
        "        # print(\"Conv done\")\n",
        "        x = self.AvgPool(x)\n",
        "        # print(x.shape)\n",
        "        \n",
        "        return x"
      ],
      "metadata": {
        "id": "yp1Y0-M78FKG"
      },
      "execution_count": null,
      "outputs": []
    },
    {
      "cell_type": "code",
      "source": [
        "def TrainModel(p_model, loss_criteria, Optimizer, device,  p_TrainDL, Gamma = 5):\n",
        "    TrainCorr = 0\n",
        "    TotNumOfSamples = 0\n",
        "    ValAccuracy = float('inf')\n",
        "\n",
        "    for images, labels in tqdm(p_TrainDL):\n",
        "        Optimizer.zero_grad()\n",
        "\n",
        "        # images = images.reshape(images.shape[0], -1).to(device)\n",
        "        images = images.to(device)\n",
        "        labels = labels.to(device)\n",
        "\n",
        "        pred = p_model(images)\n",
        "        pred = pred.reshape(pred.shape[0], -1)\n",
        "        # print(type(pred))\n",
        "        # print(pred.shape)\n",
        "        # print(pred)\n",
        "        # pred=pred.to(torch.float)\n",
        "        # labels=labels.to(torch.float)\n",
        "        predClass = torch.max(pred.data, 1)[1]\n",
        "        # predClass = np.argmax(pred, axis=-1)\n",
        "        # predClass = pred.max(1)\n",
        "        # print(\"Pred\", predClass)\n",
        "        # print(type(labels))\n",
        "        # print(\"labels\", labels)\n",
        "\n",
        "        # predClass=predClass.to(torch.float)\n",
        "        loss = loss_criteria(pred, labels)\n",
        "        TrainCorr += (predClass==labels).sum()\n",
        "        TotNumOfSamples += len(labels)\n",
        "        # print(\"Correct\", TrainCorr, \" Out of\", TotNumOfSamples)\n",
        "\n",
        "        for name, param in p_model.named_parameters():\n",
        "            # if \"Linear1\" in name or \"bias\" in name:\n",
        "            if \"Conv1\" in name:\n",
        "                continue\n",
        "            tmpParam = param.data\n",
        "            NewTmpParam = torch.exp(tmpParam - Gamma)\n",
        "            tmpParam = torch.where(tmpParam<0, NewTmpParam, tmpParam)\n",
        "            param.data = tmpParam\n",
        "\n",
        "        loss.backward()\n",
        "        Optimizer.step()\n",
        "    \n",
        "    return TrainCorr/TotNumOfSamples\n",
        "\n",
        "def EvaluateModel(p_model, p_loader, device):\n",
        "    Correct = 0\n",
        "    TotalNumOfSamples = 0\n",
        "\n",
        "    for images, labels in tqdm(p_loader):\n",
        "        images = images.to(device)\n",
        "        labels = labels.to(device)\n",
        "\n",
        "        pred = p_model(images)\n",
        "        pred = pred.reshape(pred.shape[0], -1)\n",
        "        predClass = torch.max(pred.data, 1)[1]\n",
        "        Correct += (predClass==labels).sum()\n",
        "        TotalNumOfSamples += len(labels)\n",
        "        # loss = loss_criteria(predClass, labels)\n",
        "        # Accuracy += loss.cpu().data.item()\n",
        "\n",
        "    return Correct/TotalNumOfSamples"
      ],
      "metadata": {
        "id": "rQEvcxSk8FVN"
      },
      "execution_count": null,
      "outputs": []
    },
    {
      "cell_type": "code",
      "source": [
        "device = torch.device('cuda' if torch.cuda.is_available() else 'cpu')\n",
        "EPOCHS = 100"
      ],
      "metadata": {
        "id": "R3EcbVXj8IbU"
      },
      "execution_count": null,
      "outputs": []
    },
    {
      "cell_type": "code",
      "source": [],
      "metadata": {
        "id": "4XBPSS9k8Imu"
      },
      "execution_count": null,
      "outputs": []
    },
    {
      "cell_type": "code",
      "source": [
        "# -------------------------------------------- CIFAR-10 Dataset -----------------------------------------------------------\n",
        "Option = 5\n",
        "Train_DataLoader, Val_DataLoader, Test_DataLoader = CreateDataLoaders(Option, 64)\n",
        "ModelName = \"Model_AllConv_IOCN_CIFAR10.pt\"\n",
        "\n",
        "model = AllConv_IOCN(10).to(device)\n",
        "loss_criteria = nn.CrossEntropyLoss()\n",
        "AdamOpt = torch.optim.Adam(model.parameters(), lr=0.0001)\n",
        "\n",
        "ValAccuracy = 0\n",
        "\n",
        "saved = False\n",
        "if saved == True:\n",
        "    saved_model = torch.load(ModelName, map_location=torch.device('cpu')).to(device)\n",
        "else:\n",
        "    model.train()\n",
        "    Train_Accuracy = 0\n",
        "\n",
        "    for e in range(EPOCHS):\n",
        "        Train_Accuracy = TrainModel(model, loss_criteria, AdamOpt, device, Train_DataLoader)\n",
        "        val_acc = EvaluateModel(model, Val_DataLoader, device)\n",
        "\n",
        "        print(\"EPOCH - \", e+1, \". Train Accuracy = \", Train_Accuracy.cpu().item(), \", Validation Accuracy = \", val_acc.cpu().item())\n",
        "        \n",
        "        if val_acc.cpu().item() > ValAccuracy:\n",
        "            print(\"Model Re-Saved\")\n",
        "            ValAccuracy = val_acc.cpu().item()\n",
        "            torch.save(model, ModelName)\n",
        "\n",
        "    saved_model = torch.load(ModelName, map_location=torch.device('cpu')).to(device)\n",
        "\n",
        "\n",
        "print()\n",
        "\n",
        "Train_Accuracy = EvaluateModel(saved_model, Train_DataLoader, device)\n",
        "print(\"Train Accuracy = \", Train_Accuracy.cpu().item())\n",
        "Test_Accuracy = EvaluateModel(saved_model, Test_DataLoader, device)\n",
        "print(\"Test Accuracy = \", Test_Accuracy.cpu().item())\n",
        "\n",
        "print(\"Generalization Gap = \", (Train_Accuracy.cpu().item() - Test_Accuracy.cpu().item()))"
      ],
      "metadata": {
        "colab": {
          "base_uri": "https://localhost:8080/"
        },
        "id": "uYRlCOp18K-m",
        "outputId": "12eb8eed-282a-43f7-e60e-a4f5e12bb59f"
      },
      "execution_count": null,
      "outputs": [
        {
          "output_type": "stream",
          "name": "stdout",
          "text": [
            "Files already downloaded and verified\n",
            "Files already downloaded and verified\n"
          ]
        },
        {
          "output_type": "stream",
          "name": "stderr",
          "text": [
            "100%|██████████| 665/665 [00:10<00:00, 60.67it/s]\n",
            "100%|██████████| 118/118 [00:01<00:00, 86.30it/s]\n"
          ]
        },
        {
          "output_type": "stream",
          "name": "stdout",
          "text": [
            "EPOCH -  1 . Train Accuracy =  0.1038588210940361 , Validation Accuracy =  0.14239999651908875\n",
            "Model Re-Saved\n"
          ]
        },
        {
          "output_type": "stream",
          "name": "stderr",
          "text": [
            "100%|██████████| 665/665 [00:10<00:00, 60.77it/s]\n",
            "100%|██████████| 118/118 [00:01<00:00, 89.86it/s]\n"
          ]
        },
        {
          "output_type": "stream",
          "name": "stdout",
          "text": [
            "EPOCH -  2 . Train Accuracy =  0.10804706066846848 , Validation Accuracy =  0.10920000076293945\n"
          ]
        },
        {
          "output_type": "stream",
          "name": "stderr",
          "text": [
            "100%|██████████| 665/665 [00:11<00:00, 60.23it/s]\n",
            "100%|██████████| 118/118 [00:01<00:00, 87.53it/s]\n"
          ]
        },
        {
          "output_type": "stream",
          "name": "stdout",
          "text": [
            "EPOCH -  3 . Train Accuracy =  0.11228235065937042 , Validation Accuracy =  0.12746666371822357\n"
          ]
        },
        {
          "output_type": "stream",
          "name": "stderr",
          "text": [
            "100%|██████████| 665/665 [00:11<00:00, 59.16it/s]\n",
            "100%|██████████| 118/118 [00:01<00:00, 85.09it/s]\n"
          ]
        },
        {
          "output_type": "stream",
          "name": "stdout",
          "text": [
            "EPOCH -  4 . Train Accuracy =  0.10868235677480698 , Validation Accuracy =  0.1112000048160553\n"
          ]
        },
        {
          "output_type": "stream",
          "name": "stderr",
          "text": [
            "100%|██████████| 665/665 [00:11<00:00, 57.14it/s]\n",
            "100%|██████████| 118/118 [00:01<00:00, 81.39it/s]\n"
          ]
        },
        {
          "output_type": "stream",
          "name": "stdout",
          "text": [
            "EPOCH -  5 . Train Accuracy =  0.11089412122964859 , Validation Accuracy =  0.11906667053699493\n"
          ]
        },
        {
          "output_type": "stream",
          "name": "stderr",
          "text": [
            "100%|██████████| 665/665 [00:11<00:00, 58.68it/s]\n",
            "100%|██████████| 118/118 [00:01<00:00, 85.35it/s]\n"
          ]
        },
        {
          "output_type": "stream",
          "name": "stdout",
          "text": [
            "EPOCH -  6 . Train Accuracy =  0.11515294015407562 , Validation Accuracy =  0.11400000005960464\n"
          ]
        },
        {
          "output_type": "stream",
          "name": "stderr",
          "text": [
            "100%|██████████| 665/665 [00:11<00:00, 58.58it/s]\n",
            "100%|██████████| 118/118 [00:01<00:00, 83.05it/s]\n"
          ]
        },
        {
          "output_type": "stream",
          "name": "stdout",
          "text": [
            "EPOCH -  7 . Train Accuracy =  0.11569412052631378 , Validation Accuracy =  0.09626666456460953\n"
          ]
        },
        {
          "output_type": "stream",
          "name": "stderr",
          "text": [
            "100%|██████████| 665/665 [00:11<00:00, 58.98it/s]\n",
            "100%|██████████| 118/118 [00:01<00:00, 84.80it/s]\n"
          ]
        },
        {
          "output_type": "stream",
          "name": "stdout",
          "text": [
            "EPOCH -  8 . Train Accuracy =  0.11804705858230591 , Validation Accuracy =  0.11840000003576279\n"
          ]
        },
        {
          "output_type": "stream",
          "name": "stderr",
          "text": [
            "100%|██████████| 665/665 [00:11<00:00, 59.43it/s]\n",
            "100%|██████████| 118/118 [00:01<00:00, 85.57it/s]\n"
          ]
        },
        {
          "output_type": "stream",
          "name": "stdout",
          "text": [
            "EPOCH -  9 . Train Accuracy =  0.1179058849811554 , Validation Accuracy =  0.10013333708047867\n"
          ]
        },
        {
          "output_type": "stream",
          "name": "stderr",
          "text": [
            "100%|██████████| 665/665 [00:11<00:00, 59.47it/s]\n",
            "100%|██████████| 118/118 [00:01<00:00, 85.38it/s]\n"
          ]
        },
        {
          "output_type": "stream",
          "name": "stdout",
          "text": [
            "EPOCH -  10 . Train Accuracy =  0.10894117504358292 , Validation Accuracy =  0.10733333230018616\n"
          ]
        },
        {
          "output_type": "stream",
          "name": "stderr",
          "text": [
            "100%|██████████| 665/665 [00:11<00:00, 58.91it/s]\n",
            "100%|██████████| 118/118 [00:01<00:00, 87.88it/s]\n"
          ]
        },
        {
          "output_type": "stream",
          "name": "stdout",
          "text": [
            "EPOCH -  11 . Train Accuracy =  0.10070588439702988 , Validation Accuracy =  0.10946666449308395\n"
          ]
        },
        {
          "output_type": "stream",
          "name": "stderr",
          "text": [
            "100%|██████████| 665/665 [00:11<00:00, 59.40it/s]\n",
            "100%|██████████| 118/118 [00:01<00:00, 85.88it/s]\n"
          ]
        },
        {
          "output_type": "stream",
          "name": "stdout",
          "text": [
            "EPOCH -  12 . Train Accuracy =  0.10604705661535263 , Validation Accuracy =  0.12133333832025528\n"
          ]
        },
        {
          "output_type": "stream",
          "name": "stderr",
          "text": [
            "100%|██████████| 665/665 [00:11<00:00, 59.32it/s]\n",
            "100%|██████████| 118/118 [00:01<00:00, 87.27it/s]\n"
          ]
        },
        {
          "output_type": "stream",
          "name": "stdout",
          "text": [
            "EPOCH -  13 . Train Accuracy =  0.1124705895781517 , Validation Accuracy =  0.109333336353302\n"
          ]
        },
        {
          "output_type": "stream",
          "name": "stderr",
          "text": [
            "100%|██████████| 665/665 [00:11<00:00, 59.36it/s]\n",
            "100%|██████████| 118/118 [00:01<00:00, 84.10it/s]\n"
          ]
        },
        {
          "output_type": "stream",
          "name": "stdout",
          "text": [
            "EPOCH -  14 . Train Accuracy =  0.11496470868587494 , Validation Accuracy =  0.09520000219345093\n"
          ]
        },
        {
          "output_type": "stream",
          "name": "stderr",
          "text": [
            "100%|██████████| 665/665 [00:11<00:00, 56.32it/s]\n",
            "100%|██████████| 118/118 [00:01<00:00, 87.27it/s]\n"
          ]
        },
        {
          "output_type": "stream",
          "name": "stdout",
          "text": [
            "EPOCH -  15 . Train Accuracy =  0.11642353236675262 , Validation Accuracy =  0.09613333642482758\n"
          ]
        },
        {
          "output_type": "stream",
          "name": "stderr",
          "text": [
            "100%|██████████| 665/665 [00:11<00:00, 59.51it/s]\n",
            "100%|██████████| 118/118 [00:01<00:00, 83.24it/s]\n"
          ]
        },
        {
          "output_type": "stream",
          "name": "stdout",
          "text": [
            "EPOCH -  16 . Train Accuracy =  0.11181176453828812 , Validation Accuracy =  0.09666667133569717\n"
          ]
        },
        {
          "output_type": "stream",
          "name": "stderr",
          "text": [
            "100%|██████████| 665/665 [00:11<00:00, 58.76it/s]\n",
            "100%|██████████| 118/118 [00:01<00:00, 88.67it/s]\n"
          ]
        },
        {
          "output_type": "stream",
          "name": "stdout",
          "text": [
            "EPOCH -  17 . Train Accuracy =  0.10091764479875565 , Validation Accuracy =  0.12666666507720947\n"
          ]
        },
        {
          "output_type": "stream",
          "name": "stderr",
          "text": [
            "100%|██████████| 665/665 [00:11<00:00, 59.50it/s]\n",
            "100%|██████████| 118/118 [00:01<00:00, 88.09it/s]\n"
          ]
        },
        {
          "output_type": "stream",
          "name": "stdout",
          "text": [
            "EPOCH -  18 . Train Accuracy =  0.10407058894634247 , Validation Accuracy =  0.09546666592359543\n"
          ]
        },
        {
          "output_type": "stream",
          "name": "stderr",
          "text": [
            "100%|██████████| 665/665 [00:11<00:00, 59.45it/s]\n",
            "100%|██████████| 118/118 [00:01<00:00, 85.57it/s]\n"
          ]
        },
        {
          "output_type": "stream",
          "name": "stdout",
          "text": [
            "EPOCH -  19 . Train Accuracy =  0.10762353241443634 , Validation Accuracy =  0.09666667133569717\n"
          ]
        },
        {
          "output_type": "stream",
          "name": "stderr",
          "text": [
            "100%|██████████| 665/665 [00:11<00:00, 59.19it/s]\n",
            "100%|██████████| 118/118 [00:01<00:00, 85.10it/s]\n"
          ]
        },
        {
          "output_type": "stream",
          "name": "stdout",
          "text": [
            "EPOCH -  20 . Train Accuracy =  0.1052941158413887 , Validation Accuracy =  0.09453333169221878\n"
          ]
        },
        {
          "output_type": "stream",
          "name": "stderr",
          "text": [
            "100%|██████████| 665/665 [00:11<00:00, 59.23it/s]\n",
            "100%|██████████| 118/118 [00:01<00:00, 78.03it/s]\n"
          ]
        },
        {
          "output_type": "stream",
          "name": "stdout",
          "text": [
            "EPOCH -  21 . Train Accuracy =  0.10028235614299774 , Validation Accuracy =  0.11293333768844604\n"
          ]
        },
        {
          "output_type": "stream",
          "name": "stderr",
          "text": [
            "100%|██████████| 665/665 [00:11<00:00, 60.24it/s]\n",
            "100%|██████████| 118/118 [00:01<00:00, 69.67it/s]\n"
          ]
        },
        {
          "output_type": "stream",
          "name": "stdout",
          "text": [
            "EPOCH -  22 . Train Accuracy =  0.09967058897018433 , Validation Accuracy =  0.10013333708047867\n"
          ]
        },
        {
          "output_type": "stream",
          "name": "stderr",
          "text": [
            "100%|██████████| 665/665 [00:11<00:00, 59.99it/s]\n",
            "100%|██████████| 118/118 [00:01<00:00, 64.09it/s]\n"
          ]
        },
        {
          "output_type": "stream",
          "name": "stdout",
          "text": [
            "EPOCH -  23 . Train Accuracy =  0.10152941197156906 , Validation Accuracy =  0.10093333572149277\n"
          ]
        },
        {
          "output_type": "stream",
          "name": "stderr",
          "text": [
            "100%|██████████| 665/665 [00:10<00:00, 61.39it/s]\n",
            "100%|██████████| 118/118 [00:01<00:00, 60.56it/s]\n"
          ]
        },
        {
          "output_type": "stream",
          "name": "stdout",
          "text": [
            "EPOCH -  24 . Train Accuracy =  0.0985882356762886 , Validation Accuracy =  0.10013333708047867\n"
          ]
        },
        {
          "output_type": "stream",
          "name": "stderr",
          "text": [
            "100%|██████████| 665/665 [00:10<00:00, 61.33it/s]\n",
            "100%|██████████| 118/118 [00:01<00:00, 64.72it/s]\n"
          ]
        },
        {
          "output_type": "stream",
          "name": "stdout",
          "text": [
            "EPOCH -  25 . Train Accuracy =  0.10251764953136444 , Validation Accuracy =  0.14480000734329224\n",
            "Model Re-Saved\n"
          ]
        },
        {
          "output_type": "stream",
          "name": "stderr",
          "text": [
            "100%|██████████| 665/665 [00:10<00:00, 60.79it/s]\n",
            "100%|██████████| 118/118 [00:01<00:00, 70.15it/s]\n"
          ]
        },
        {
          "output_type": "stream",
          "name": "stdout",
          "text": [
            "EPOCH -  26 . Train Accuracy =  0.1255764663219452 , Validation Accuracy =  0.14346666634082794\n"
          ]
        },
        {
          "output_type": "stream",
          "name": "stderr",
          "text": [
            "100%|██████████| 665/665 [00:11<00:00, 60.14it/s]\n",
            "100%|██████████| 118/118 [00:01<00:00, 76.38it/s]\n"
          ]
        },
        {
          "output_type": "stream",
          "name": "stdout",
          "text": [
            "EPOCH -  27 . Train Accuracy =  0.1370352953672409 , Validation Accuracy =  0.13093332946300507\n"
          ]
        },
        {
          "output_type": "stream",
          "name": "stderr",
          "text": [
            "100%|██████████| 665/665 [00:11<00:00, 59.56it/s]\n",
            "100%|██████████| 118/118 [00:01<00:00, 85.81it/s]\n"
          ]
        },
        {
          "output_type": "stream",
          "name": "stdout",
          "text": [
            "EPOCH -  28 . Train Accuracy =  0.14522352814674377 , Validation Accuracy =  0.16120000183582306\n",
            "Model Re-Saved\n"
          ]
        },
        {
          "output_type": "stream",
          "name": "stderr",
          "text": [
            "100%|██████████| 665/665 [00:11<00:00, 58.70it/s]\n",
            "100%|██████████| 118/118 [00:01<00:00, 86.92it/s]\n"
          ]
        },
        {
          "output_type": "stream",
          "name": "stdout",
          "text": [
            "EPOCH -  29 . Train Accuracy =  0.14872941374778748 , Validation Accuracy =  0.13626666367053986\n"
          ]
        },
        {
          "output_type": "stream",
          "name": "stderr",
          "text": [
            "100%|██████████| 665/665 [00:11<00:00, 59.45it/s]\n",
            "100%|██████████| 118/118 [00:01<00:00, 86.13it/s]\n"
          ]
        },
        {
          "output_type": "stream",
          "name": "stdout",
          "text": [
            "EPOCH -  30 . Train Accuracy =  0.1467764675617218 , Validation Accuracy =  0.1687999963760376\n",
            "Model Re-Saved\n"
          ]
        },
        {
          "output_type": "stream",
          "name": "stderr",
          "text": [
            "100%|██████████| 665/665 [00:11<00:00, 60.12it/s]\n",
            "100%|██████████| 118/118 [00:01<00:00, 89.46it/s]\n"
          ]
        },
        {
          "output_type": "stream",
          "name": "stdout",
          "text": [
            "EPOCH -  31 . Train Accuracy =  0.1448470652103424 , Validation Accuracy =  0.09960000216960907\n"
          ]
        },
        {
          "output_type": "stream",
          "name": "stderr",
          "text": [
            "100%|██████████| 665/665 [00:11<00:00, 60.05it/s]\n",
            "100%|██████████| 118/118 [00:01<00:00, 87.31it/s]\n"
          ]
        },
        {
          "output_type": "stream",
          "name": "stdout",
          "text": [
            "EPOCH -  32 . Train Accuracy =  0.14301176369190216 , Validation Accuracy =  0.12640000879764557\n"
          ]
        },
        {
          "output_type": "stream",
          "name": "stderr",
          "text": [
            "100%|██████████| 665/665 [00:11<00:00, 57.22it/s]\n",
            "100%|██████████| 118/118 [00:01<00:00, 86.38it/s]\n"
          ]
        },
        {
          "output_type": "stream",
          "name": "stdout",
          "text": [
            "EPOCH -  33 . Train Accuracy =  0.1485176533460617 , Validation Accuracy =  0.133733332157135\n"
          ]
        },
        {
          "output_type": "stream",
          "name": "stderr",
          "text": [
            "100%|██████████| 665/665 [00:11<00:00, 59.61it/s]\n",
            "100%|██████████| 118/118 [00:01<00:00, 88.26it/s]\n"
          ]
        },
        {
          "output_type": "stream",
          "name": "stdout",
          "text": [
            "EPOCH -  34 . Train Accuracy =  0.1477411836385727 , Validation Accuracy =  0.10159999877214432\n"
          ]
        },
        {
          "output_type": "stream",
          "name": "stderr",
          "text": [
            "100%|██████████| 665/665 [00:11<00:00, 59.67it/s]\n",
            "100%|██████████| 118/118 [00:01<00:00, 86.71it/s]\n"
          ]
        },
        {
          "output_type": "stream",
          "name": "stdout",
          "text": [
            "EPOCH -  35 . Train Accuracy =  0.15049411356449127 , Validation Accuracy =  0.1720000058412552\n",
            "Model Re-Saved\n"
          ]
        },
        {
          "output_type": "stream",
          "name": "stderr",
          "text": [
            "100%|██████████| 665/665 [00:11<00:00, 60.24it/s]\n",
            "100%|██████████| 118/118 [00:01<00:00, 88.07it/s]\n"
          ]
        },
        {
          "output_type": "stream",
          "name": "stdout",
          "text": [
            "EPOCH -  36 . Train Accuracy =  0.15350587666034698 , Validation Accuracy =  0.11426667124032974\n"
          ]
        },
        {
          "output_type": "stream",
          "name": "stderr",
          "text": [
            "100%|██████████| 665/665 [00:11<00:00, 59.97it/s]\n",
            "100%|██████████| 118/118 [00:01<00:00, 88.27it/s]\n"
          ]
        },
        {
          "output_type": "stream",
          "name": "stdout",
          "text": [
            "EPOCH -  37 . Train Accuracy =  0.15409411489963531 , Validation Accuracy =  0.12453333288431168\n"
          ]
        },
        {
          "output_type": "stream",
          "name": "stderr",
          "text": [
            "100%|██████████| 665/665 [00:11<00:00, 59.20it/s]\n",
            "100%|██████████| 118/118 [00:01<00:00, 86.61it/s]\n"
          ]
        },
        {
          "output_type": "stream",
          "name": "stdout",
          "text": [
            "EPOCH -  38 . Train Accuracy =  0.15329411625862122 , Validation Accuracy =  0.14786666631698608\n"
          ]
        },
        {
          "output_type": "stream",
          "name": "stderr",
          "text": [
            "100%|██████████| 665/665 [00:11<00:00, 59.83it/s]\n",
            "100%|██████████| 118/118 [00:01<00:00, 85.74it/s]\n"
          ]
        },
        {
          "output_type": "stream",
          "name": "stdout",
          "text": [
            "EPOCH -  39 . Train Accuracy =  0.15736471116542816 , Validation Accuracy =  0.14573334157466888\n"
          ]
        },
        {
          "output_type": "stream",
          "name": "stderr",
          "text": [
            "100%|██████████| 665/665 [00:11<00:00, 59.72it/s]\n",
            "100%|██████████| 118/118 [00:01<00:00, 85.75it/s]\n"
          ]
        },
        {
          "output_type": "stream",
          "name": "stdout",
          "text": [
            "EPOCH -  40 . Train Accuracy =  0.15910588204860687 , Validation Accuracy =  0.1404000073671341\n"
          ]
        },
        {
          "output_type": "stream",
          "name": "stderr",
          "text": [
            "100%|██████████| 665/665 [00:11<00:00, 59.06it/s]\n",
            "100%|██████████| 118/118 [00:01<00:00, 86.52it/s]\n"
          ]
        },
        {
          "output_type": "stream",
          "name": "stdout",
          "text": [
            "EPOCH -  41 . Train Accuracy =  0.1606588214635849 , Validation Accuracy =  0.13146667182445526\n"
          ]
        },
        {
          "output_type": "stream",
          "name": "stderr",
          "text": [
            "100%|██████████| 665/665 [00:11<00:00, 59.71it/s]\n",
            "100%|██████████| 118/118 [00:01<00:00, 90.17it/s]\n"
          ]
        },
        {
          "output_type": "stream",
          "name": "stdout",
          "text": [
            "EPOCH -  42 . Train Accuracy =  0.15995293855667114 , Validation Accuracy =  0.15146666765213013\n"
          ]
        },
        {
          "output_type": "stream",
          "name": "stderr",
          "text": [
            "100%|██████████| 665/665 [00:11<00:00, 59.60it/s]\n",
            "100%|██████████| 118/118 [00:01<00:00, 81.86it/s]\n"
          ]
        },
        {
          "output_type": "stream",
          "name": "stdout",
          "text": [
            "EPOCH -  43 . Train Accuracy =  0.16150587797164917 , Validation Accuracy =  0.15960000455379486\n"
          ]
        },
        {
          "output_type": "stream",
          "name": "stderr",
          "text": [
            "100%|██████████| 665/665 [00:11<00:00, 59.19it/s]\n",
            "100%|██████████| 118/118 [00:01<00:00, 87.96it/s]\n"
          ]
        },
        {
          "output_type": "stream",
          "name": "stdout",
          "text": [
            "EPOCH -  44 . Train Accuracy =  0.1598588228225708 , Validation Accuracy =  0.14866666495800018\n"
          ]
        },
        {
          "output_type": "stream",
          "name": "stderr",
          "text": [
            "100%|██████████| 665/665 [00:11<00:00, 59.45it/s]\n",
            "100%|██████████| 118/118 [00:01<00:00, 87.93it/s]\n"
          ]
        },
        {
          "output_type": "stream",
          "name": "stdout",
          "text": [
            "EPOCH -  45 . Train Accuracy =  0.16094118356704712 , Validation Accuracy =  0.171466663479805\n"
          ]
        },
        {
          "output_type": "stream",
          "name": "stderr",
          "text": [
            "100%|██████████| 665/665 [00:11<00:00, 59.71it/s]\n",
            "100%|██████████| 118/118 [00:01<00:00, 83.64it/s]\n"
          ]
        },
        {
          "output_type": "stream",
          "name": "stdout",
          "text": [
            "EPOCH -  46 . Train Accuracy =  0.16635294258594513 , Validation Accuracy =  0.1717333346605301\n"
          ]
        },
        {
          "output_type": "stream",
          "name": "stderr",
          "text": [
            "100%|██████████| 665/665 [00:11<00:00, 59.10it/s]\n",
            "100%|██████████| 118/118 [00:01<00:00, 86.81it/s]\n"
          ]
        },
        {
          "output_type": "stream",
          "name": "stdout",
          "text": [
            "EPOCH -  47 . Train Accuracy =  0.16124705970287323 , Validation Accuracy =  0.17866666615009308\n",
            "Model Re-Saved\n"
          ]
        },
        {
          "output_type": "stream",
          "name": "stderr",
          "text": [
            "100%|██████████| 665/665 [00:11<00:00, 59.90it/s]\n",
            "100%|██████████| 118/118 [00:01<00:00, 88.18it/s]\n"
          ]
        },
        {
          "output_type": "stream",
          "name": "stdout",
          "text": [
            "EPOCH -  48 . Train Accuracy =  0.16498823463916779 , Validation Accuracy =  0.15266667306423187\n"
          ]
        },
        {
          "output_type": "stream",
          "name": "stderr",
          "text": [
            "100%|██████████| 665/665 [00:11<00:00, 60.08it/s]\n",
            "100%|██████████| 118/118 [00:01<00:00, 87.40it/s]\n"
          ]
        },
        {
          "output_type": "stream",
          "name": "stdout",
          "text": [
            "EPOCH -  49 . Train Accuracy =  0.16505882143974304 , Validation Accuracy =  0.1409333348274231\n"
          ]
        },
        {
          "output_type": "stream",
          "name": "stderr",
          "text": [
            "100%|██████████| 665/665 [00:11<00:00, 57.19it/s]\n",
            "100%|██████████| 118/118 [00:01<00:00, 84.33it/s]\n"
          ]
        },
        {
          "output_type": "stream",
          "name": "stdout",
          "text": [
            "EPOCH -  50 . Train Accuracy =  0.1654588282108307 , Validation Accuracy =  0.12506666779518127\n"
          ]
        },
        {
          "output_type": "stream",
          "name": "stderr",
          "text": [
            "100%|██████████| 665/665 [00:11<00:00, 59.88it/s]\n",
            "100%|██████████| 118/118 [00:01<00:00, 85.14it/s]\n"
          ]
        },
        {
          "output_type": "stream",
          "name": "stdout",
          "text": [
            "EPOCH -  51 . Train Accuracy =  0.16663528978824615 , Validation Accuracy =  0.14426666498184204\n"
          ]
        },
        {
          "output_type": "stream",
          "name": "stderr",
          "text": [
            "100%|██████████| 665/665 [00:11<00:00, 58.99it/s]\n",
            "100%|██████████| 118/118 [00:01<00:00, 80.74it/s]\n"
          ]
        },
        {
          "output_type": "stream",
          "name": "stdout",
          "text": [
            "EPOCH -  52 . Train Accuracy =  0.16931764781475067 , Validation Accuracy =  0.15533334016799927\n"
          ]
        },
        {
          "output_type": "stream",
          "name": "stderr",
          "text": [
            "100%|██████████| 665/665 [00:11<00:00, 58.42it/s]\n",
            "100%|██████████| 118/118 [00:01<00:00, 71.61it/s]\n"
          ]
        },
        {
          "output_type": "stream",
          "name": "stdout",
          "text": [
            "EPOCH -  53 . Train Accuracy =  0.1660941243171692 , Validation Accuracy =  0.1720000058412552\n"
          ]
        },
        {
          "output_type": "stream",
          "name": "stderr",
          "text": [
            "100%|██████████| 665/665 [00:11<00:00, 60.12it/s]\n",
            "100%|██████████| 118/118 [00:01<00:00, 61.72it/s]\n"
          ]
        },
        {
          "output_type": "stream",
          "name": "stdout",
          "text": [
            "EPOCH -  54 . Train Accuracy =  0.17098823189735413 , Validation Accuracy =  0.15733332931995392\n"
          ]
        },
        {
          "output_type": "stream",
          "name": "stderr",
          "text": [
            "100%|██████████| 665/665 [00:10<00:00, 61.04it/s]\n",
            "100%|██████████| 118/118 [00:01<00:00, 60.58it/s]\n"
          ]
        },
        {
          "output_type": "stream",
          "name": "stdout",
          "text": [
            "EPOCH -  55 . Train Accuracy =  0.17169411480426788 , Validation Accuracy =  0.16760000586509705\n"
          ]
        },
        {
          "output_type": "stream",
          "name": "stderr",
          "text": [
            "100%|██████████| 665/665 [00:10<00:00, 60.89it/s]\n",
            "100%|██████████| 118/118 [00:01<00:00, 65.86it/s]\n"
          ]
        },
        {
          "output_type": "stream",
          "name": "stdout",
          "text": [
            "EPOCH -  56 . Train Accuracy =  0.1676941215991974 , Validation Accuracy =  0.16093333065509796\n"
          ]
        },
        {
          "output_type": "stream",
          "name": "stderr",
          "text": [
            "100%|██████████| 665/665 [00:11<00:00, 59.62it/s]\n",
            "100%|██████████| 118/118 [00:01<00:00, 73.65it/s]\n"
          ]
        },
        {
          "output_type": "stream",
          "name": "stdout",
          "text": [
            "EPOCH -  57 . Train Accuracy =  0.17512941360473633 , Validation Accuracy =  0.19413334131240845\n",
            "Model Re-Saved\n"
          ]
        },
        {
          "output_type": "stream",
          "name": "stderr",
          "text": [
            "100%|██████████| 665/665 [00:11<00:00, 59.63it/s]\n",
            "100%|██████████| 118/118 [00:01<00:00, 86.36it/s]\n"
          ]
        },
        {
          "output_type": "stream",
          "name": "stdout",
          "text": [
            "EPOCH -  58 . Train Accuracy =  0.17536470293998718 , Validation Accuracy =  0.13040000200271606\n"
          ]
        },
        {
          "output_type": "stream",
          "name": "stderr",
          "text": [
            "100%|██████████| 665/665 [00:11<00:00, 58.83it/s]\n",
            "100%|██████████| 118/118 [00:01<00:00, 86.82it/s]\n"
          ]
        },
        {
          "output_type": "stream",
          "name": "stdout",
          "text": [
            "EPOCH -  59 . Train Accuracy =  0.17578823864459991 , Validation Accuracy =  0.11479999870061874\n"
          ]
        },
        {
          "output_type": "stream",
          "name": "stderr",
          "text": [
            "100%|██████████| 665/665 [00:11<00:00, 59.37it/s]\n",
            "100%|██████████| 118/118 [00:01<00:00, 86.02it/s]\n"
          ]
        },
        {
          "output_type": "stream",
          "name": "stdout",
          "text": [
            "EPOCH -  60 . Train Accuracy =  0.17625881731510162 , Validation Accuracy =  0.164000004529953\n"
          ]
        },
        {
          "output_type": "stream",
          "name": "stderr",
          "text": [
            "100%|██████████| 665/665 [00:11<00:00, 59.48it/s]\n",
            "100%|██████████| 118/118 [00:01<00:00, 87.68it/s]\n"
          ]
        },
        {
          "output_type": "stream",
          "name": "stdout",
          "text": [
            "EPOCH -  61 . Train Accuracy =  0.1754823476076126 , Validation Accuracy =  0.12319999933242798\n"
          ]
        },
        {
          "output_type": "stream",
          "name": "stderr",
          "text": [
            "100%|██████████| 665/665 [00:11<00:00, 59.74it/s]\n",
            "100%|██████████| 118/118 [00:01<00:00, 84.75it/s]\n"
          ]
        },
        {
          "output_type": "stream",
          "name": "stdout",
          "text": [
            "EPOCH -  62 . Train Accuracy =  0.17287059128284454 , Validation Accuracy =  0.14400000870227814\n"
          ]
        },
        {
          "output_type": "stream",
          "name": "stderr",
          "text": [
            "100%|██████████| 665/665 [00:11<00:00, 59.76it/s]\n",
            "100%|██████████| 118/118 [00:01<00:00, 84.61it/s]\n"
          ]
        },
        {
          "output_type": "stream",
          "name": "stdout",
          "text": [
            "EPOCH -  63 . Train Accuracy =  0.17496471107006073 , Validation Accuracy =  0.13893333077430725\n"
          ]
        },
        {
          "output_type": "stream",
          "name": "stderr",
          "text": [
            "100%|██████████| 665/665 [00:11<00:00, 59.32it/s]\n",
            "100%|██████████| 118/118 [00:01<00:00, 87.77it/s]\n"
          ]
        },
        {
          "output_type": "stream",
          "name": "stdout",
          "text": [
            "EPOCH -  64 . Train Accuracy =  0.17635294795036316 , Validation Accuracy =  0.17466667294502258\n"
          ]
        },
        {
          "output_type": "stream",
          "name": "stderr",
          "text": [
            "100%|██████████| 665/665 [00:11<00:00, 59.02it/s]\n",
            "100%|██████████| 118/118 [00:01<00:00, 85.25it/s]\n"
          ]
        },
        {
          "output_type": "stream",
          "name": "stdout",
          "text": [
            "EPOCH -  65 . Train Accuracy =  0.1802823543548584 , Validation Accuracy =  0.18346667289733887\n"
          ]
        },
        {
          "output_type": "stream",
          "name": "stderr",
          "text": [
            "100%|██████████| 665/665 [00:11<00:00, 59.34it/s]\n",
            "100%|██████████| 118/118 [00:01<00:00, 88.70it/s]\n"
          ]
        },
        {
          "output_type": "stream",
          "name": "stdout",
          "text": [
            "EPOCH -  66 . Train Accuracy =  0.17679999768733978 , Validation Accuracy =  0.13840000331401825\n"
          ]
        },
        {
          "output_type": "stream",
          "name": "stderr",
          "text": [
            "100%|██████████| 665/665 [00:11<00:00, 59.81it/s]\n",
            "100%|██████████| 118/118 [00:01<00:00, 86.16it/s]\n"
          ]
        },
        {
          "output_type": "stream",
          "name": "stdout",
          "text": [
            "EPOCH -  67 . Train Accuracy =  0.1814117729663849 , Validation Accuracy =  0.14813333749771118\n"
          ]
        },
        {
          "output_type": "stream",
          "name": "stderr",
          "text": [
            "100%|██████████| 665/665 [00:11<00:00, 56.59it/s]\n",
            "100%|██████████| 118/118 [00:01<00:00, 81.96it/s]\n"
          ]
        },
        {
          "output_type": "stream",
          "name": "stdout",
          "text": [
            "EPOCH -  68 . Train Accuracy =  0.17870588600635529 , Validation Accuracy =  0.18199999630451202\n"
          ]
        },
        {
          "output_type": "stream",
          "name": "stderr",
          "text": [
            "100%|██████████| 665/665 [00:11<00:00, 59.31it/s]\n",
            "100%|██████████| 118/118 [00:01<00:00, 85.05it/s]\n"
          ]
        },
        {
          "output_type": "stream",
          "name": "stdout",
          "text": [
            "EPOCH -  69 . Train Accuracy =  0.17983528971672058 , Validation Accuracy =  0.1674666702747345\n"
          ]
        },
        {
          "output_type": "stream",
          "name": "stderr",
          "text": [
            "100%|██████████| 665/665 [00:11<00:00, 59.18it/s]\n",
            "100%|██████████| 118/118 [00:01<00:00, 84.72it/s]\n"
          ]
        },
        {
          "output_type": "stream",
          "name": "stdout",
          "text": [
            "EPOCH -  70 . Train Accuracy =  0.1793411821126938 , Validation Accuracy =  0.1889333426952362\n"
          ]
        },
        {
          "output_type": "stream",
          "name": "stderr",
          "text": [
            "100%|██████████| 665/665 [00:11<00:00, 59.21it/s]\n",
            "100%|██████████| 118/118 [00:01<00:00, 86.25it/s]\n"
          ]
        },
        {
          "output_type": "stream",
          "name": "stdout",
          "text": [
            "EPOCH -  71 . Train Accuracy =  0.18637646734714508 , Validation Accuracy =  0.1679999977350235\n"
          ]
        },
        {
          "output_type": "stream",
          "name": "stderr",
          "text": [
            "100%|██████████| 665/665 [00:11<00:00, 59.41it/s]\n",
            "100%|██████████| 118/118 [00:01<00:00, 86.30it/s]\n"
          ]
        },
        {
          "output_type": "stream",
          "name": "stdout",
          "text": [
            "EPOCH -  72 . Train Accuracy =  0.18000000715255737 , Validation Accuracy =  0.1701333373785019\n"
          ]
        },
        {
          "output_type": "stream",
          "name": "stderr",
          "text": [
            "100%|██████████| 665/665 [00:11<00:00, 59.61it/s]\n",
            "100%|██████████| 118/118 [00:01<00:00, 86.63it/s]\n"
          ]
        },
        {
          "output_type": "stream",
          "name": "stdout",
          "text": [
            "EPOCH -  73 . Train Accuracy =  0.18524706363677979 , Validation Accuracy =  0.1616000086069107\n"
          ]
        },
        {
          "output_type": "stream",
          "name": "stderr",
          "text": [
            "100%|██████████| 665/665 [00:11<00:00, 59.73it/s]\n",
            "100%|██████████| 118/118 [00:01<00:00, 87.66it/s]\n"
          ]
        },
        {
          "output_type": "stream",
          "name": "stdout",
          "text": [
            "EPOCH -  74 . Train Accuracy =  0.18305882811546326 , Validation Accuracy =  0.16600000858306885\n"
          ]
        },
        {
          "output_type": "stream",
          "name": "stderr",
          "text": [
            "100%|██████████| 665/665 [00:11<00:00, 59.20it/s]\n",
            "100%|██████████| 118/118 [00:01<00:00, 88.60it/s]\n"
          ]
        },
        {
          "output_type": "stream",
          "name": "stdout",
          "text": [
            "EPOCH -  75 . Train Accuracy =  0.18562352657318115 , Validation Accuracy =  0.1950666755437851\n",
            "Model Re-Saved\n"
          ]
        },
        {
          "output_type": "stream",
          "name": "stderr",
          "text": [
            "100%|██████████| 665/665 [00:11<00:00, 59.26it/s]\n",
            "100%|██████████| 118/118 [00:01<00:00, 87.25it/s]\n"
          ]
        },
        {
          "output_type": "stream",
          "name": "stdout",
          "text": [
            "EPOCH -  76 . Train Accuracy =  0.18148235976696014 , Validation Accuracy =  0.18346667289733887\n"
          ]
        },
        {
          "output_type": "stream",
          "name": "stderr",
          "text": [
            "100%|██████████| 665/665 [00:11<00:00, 59.06it/s]\n",
            "100%|██████████| 118/118 [00:01<00:00, 89.47it/s]\n"
          ]
        },
        {
          "output_type": "stream",
          "name": "stdout",
          "text": [
            "EPOCH -  77 . Train Accuracy =  0.18807059526443481 , Validation Accuracy =  0.14000000059604645\n"
          ]
        },
        {
          "output_type": "stream",
          "name": "stderr",
          "text": [
            "100%|██████████| 665/665 [00:11<00:00, 59.57it/s]\n",
            "100%|██████████| 118/118 [00:01<00:00, 86.56it/s]\n"
          ]
        },
        {
          "output_type": "stream",
          "name": "stdout",
          "text": [
            "EPOCH -  78 . Train Accuracy =  0.1852235347032547 , Validation Accuracy =  0.18573333323001862\n"
          ]
        },
        {
          "output_type": "stream",
          "name": "stderr",
          "text": [
            "100%|██████████| 665/665 [00:11<00:00, 59.21it/s]\n",
            "100%|██████████| 118/118 [00:01<00:00, 85.26it/s]\n"
          ]
        },
        {
          "output_type": "stream",
          "name": "stdout",
          "text": [
            "EPOCH -  79 . Train Accuracy =  0.18912941217422485 , Validation Accuracy =  0.20053333044052124\n",
            "Model Re-Saved\n"
          ]
        },
        {
          "output_type": "stream",
          "name": "stderr",
          "text": [
            "100%|██████████| 665/665 [00:11<00:00, 59.43it/s]\n",
            "100%|██████████| 118/118 [00:01<00:00, 87.68it/s]\n"
          ]
        },
        {
          "output_type": "stream",
          "name": "stdout",
          "text": [
            "EPOCH -  80 . Train Accuracy =  0.18774117529392242 , Validation Accuracy =  0.15760000050067902\n"
          ]
        },
        {
          "output_type": "stream",
          "name": "stderr",
          "text": [
            "100%|██████████| 665/665 [00:11<00:00, 59.10it/s]\n",
            "100%|██████████| 118/118 [00:01<00:00, 84.84it/s]\n"
          ]
        },
        {
          "output_type": "stream",
          "name": "stdout",
          "text": [
            "EPOCH -  81 . Train Accuracy =  0.1884235292673111 , Validation Accuracy =  0.15919999778270721\n"
          ]
        },
        {
          "output_type": "stream",
          "name": "stderr",
          "text": [
            "100%|██████████| 665/665 [00:11<00:00, 59.09it/s]\n",
            "100%|██████████| 118/118 [00:01<00:00, 87.56it/s]\n"
          ]
        },
        {
          "output_type": "stream",
          "name": "stdout",
          "text": [
            "EPOCH -  82 . Train Accuracy =  0.18976470828056335 , Validation Accuracy =  0.1881333291530609\n"
          ]
        },
        {
          "output_type": "stream",
          "name": "stderr",
          "text": [
            "100%|██████████| 665/665 [00:11<00:00, 59.02it/s]\n",
            "100%|██████████| 118/118 [00:01<00:00, 76.84it/s]\n"
          ]
        },
        {
          "output_type": "stream",
          "name": "stdout",
          "text": [
            "EPOCH -  83 . Train Accuracy =  0.19122353196144104 , Validation Accuracy =  0.1674666702747345\n"
          ]
        },
        {
          "output_type": "stream",
          "name": "stderr",
          "text": [
            "100%|██████████| 665/665 [00:10<00:00, 60.49it/s]\n",
            "100%|██████████| 118/118 [00:01<00:00, 74.88it/s]\n"
          ]
        },
        {
          "output_type": "stream",
          "name": "stdout",
          "text": [
            "EPOCH -  84 . Train Accuracy =  0.1912941187620163 , Validation Accuracy =  0.17599999904632568\n"
          ]
        },
        {
          "output_type": "stream",
          "name": "stderr",
          "text": [
            "100%|██████████| 665/665 [00:11<00:00, 57.57it/s]\n",
            "100%|██████████| 118/118 [00:01<00:00, 62.25it/s]\n"
          ]
        },
        {
          "output_type": "stream",
          "name": "stdout",
          "text": [
            "EPOCH -  85 . Train Accuracy =  0.19327059388160706 , Validation Accuracy =  0.15839999914169312\n"
          ]
        },
        {
          "output_type": "stream",
          "name": "stderr",
          "text": [
            "100%|██████████| 665/665 [00:10<00:00, 61.76it/s]\n",
            "100%|██████████| 118/118 [00:01<00:00, 63.34it/s]\n"
          ]
        },
        {
          "output_type": "stream",
          "name": "stdout",
          "text": [
            "EPOCH -  86 . Train Accuracy =  0.19228234887123108 , Validation Accuracy =  0.16466666758060455\n"
          ]
        },
        {
          "output_type": "stream",
          "name": "stderr",
          "text": [
            "100%|██████████| 665/665 [00:10<00:00, 61.57it/s]\n",
            "100%|██████████| 118/118 [00:01<00:00, 67.37it/s]\n"
          ]
        },
        {
          "output_type": "stream",
          "name": "stdout",
          "text": [
            "EPOCH -  87 . Train Accuracy =  0.1928941160440445 , Validation Accuracy =  0.1910666674375534\n"
          ]
        },
        {
          "output_type": "stream",
          "name": "stderr",
          "text": [
            "100%|██████████| 665/665 [00:10<00:00, 61.11it/s]\n",
            "100%|██████████| 118/118 [00:01<00:00, 73.25it/s]\n"
          ]
        },
        {
          "output_type": "stream",
          "name": "stdout",
          "text": [
            "EPOCH -  88 . Train Accuracy =  0.193529412150383 , Validation Accuracy =  0.15280000865459442\n"
          ]
        },
        {
          "output_type": "stream",
          "name": "stderr",
          "text": [
            "100%|██████████| 665/665 [00:11<00:00, 59.65it/s]\n",
            "100%|██████████| 118/118 [00:01<00:00, 81.04it/s]\n"
          ]
        },
        {
          "output_type": "stream",
          "name": "stdout",
          "text": [
            "EPOCH -  89 . Train Accuracy =  0.19087058305740356 , Validation Accuracy =  0.18146666884422302\n"
          ]
        },
        {
          "output_type": "stream",
          "name": "stderr",
          "text": [
            "100%|██████████| 665/665 [00:11<00:00, 59.96it/s]\n",
            "100%|██████████| 118/118 [00:01<00:00, 88.62it/s]\n"
          ]
        },
        {
          "output_type": "stream",
          "name": "stdout",
          "text": [
            "EPOCH -  90 . Train Accuracy =  0.19604705274105072 , Validation Accuracy =  0.18880000710487366\n"
          ]
        },
        {
          "output_type": "stream",
          "name": "stderr",
          "text": [
            "100%|██████████| 665/665 [00:11<00:00, 59.69it/s]\n",
            "100%|██████████| 118/118 [00:01<00:00, 86.04it/s]\n"
          ]
        },
        {
          "output_type": "stream",
          "name": "stdout",
          "text": [
            "EPOCH -  91 . Train Accuracy =  0.1936705857515335 , Validation Accuracy =  0.1350666731595993\n"
          ]
        },
        {
          "output_type": "stream",
          "name": "stderr",
          "text": [
            "100%|██████████| 665/665 [00:11<00:00, 59.55it/s]\n",
            "100%|██████████| 118/118 [00:01<00:00, 85.01it/s]\n"
          ]
        },
        {
          "output_type": "stream",
          "name": "stdout",
          "text": [
            "EPOCH -  92 . Train Accuracy =  0.19872941076755524 , Validation Accuracy =  0.19066667556762695\n"
          ]
        },
        {
          "output_type": "stream",
          "name": "stderr",
          "text": [
            "100%|██████████| 665/665 [00:11<00:00, 59.75it/s]\n",
            "100%|██████████| 118/118 [00:01<00:00, 87.84it/s]\n"
          ]
        },
        {
          "output_type": "stream",
          "name": "stdout",
          "text": [
            "EPOCH -  93 . Train Accuracy =  0.19632941484451294 , Validation Accuracy =  0.18453334271907806\n"
          ]
        },
        {
          "output_type": "stream",
          "name": "stderr",
          "text": [
            "100%|██████████| 665/665 [00:11<00:00, 59.12it/s]\n",
            "100%|██████████| 118/118 [00:01<00:00, 87.05it/s]\n"
          ]
        },
        {
          "output_type": "stream",
          "name": "stdout",
          "text": [
            "EPOCH -  94 . Train Accuracy =  0.19950588047504425 , Validation Accuracy =  0.21119999885559082\n",
            "Model Re-Saved\n"
          ]
        },
        {
          "output_type": "stream",
          "name": "stderr",
          "text": [
            "100%|██████████| 665/665 [00:11<00:00, 59.32it/s]\n",
            "100%|██████████| 118/118 [00:01<00:00, 87.21it/s]\n"
          ]
        },
        {
          "output_type": "stream",
          "name": "stdout",
          "text": [
            "EPOCH -  95 . Train Accuracy =  0.2035764753818512 , Validation Accuracy =  0.20720000565052032\n"
          ]
        },
        {
          "output_type": "stream",
          "name": "stderr",
          "text": [
            "100%|██████████| 665/665 [00:11<00:00, 59.88it/s]\n",
            "100%|██████████| 118/118 [00:01<00:00, 86.55it/s]\n"
          ]
        },
        {
          "output_type": "stream",
          "name": "stdout",
          "text": [
            "EPOCH -  96 . Train Accuracy =  0.2027764767408371 , Validation Accuracy =  0.2136000096797943\n",
            "Model Re-Saved\n"
          ]
        },
        {
          "output_type": "stream",
          "name": "stderr",
          "text": [
            "100%|██████████| 665/665 [00:11<00:00, 59.93it/s]\n",
            "100%|██████████| 118/118 [00:01<00:00, 88.14it/s]\n"
          ]
        },
        {
          "output_type": "stream",
          "name": "stdout",
          "text": [
            "EPOCH -  97 . Train Accuracy =  0.2032705843448639 , Validation Accuracy =  0.18199999630451202\n"
          ]
        },
        {
          "output_type": "stream",
          "name": "stderr",
          "text": [
            "100%|██████████| 665/665 [00:11<00:00, 59.61it/s]\n",
            "100%|██████████| 118/118 [00:01<00:00, 87.14it/s]\n"
          ]
        },
        {
          "output_type": "stream",
          "name": "stdout",
          "text": [
            "EPOCH -  98 . Train Accuracy =  0.20360000431537628 , Validation Accuracy =  0.19466666877269745\n"
          ]
        },
        {
          "output_type": "stream",
          "name": "stderr",
          "text": [
            "100%|██████████| 665/665 [00:11<00:00, 60.04it/s]\n",
            "100%|██████████| 118/118 [00:01<00:00, 87.71it/s]\n"
          ]
        },
        {
          "output_type": "stream",
          "name": "stdout",
          "text": [
            "EPOCH -  99 . Train Accuracy =  0.20482352375984192 , Validation Accuracy =  0.1934666633605957\n"
          ]
        },
        {
          "output_type": "stream",
          "name": "stderr",
          "text": [
            "100%|██████████| 665/665 [00:11<00:00, 59.95it/s]\n",
            "100%|██████████| 118/118 [00:01<00:00, 88.76it/s]\n"
          ]
        },
        {
          "output_type": "stream",
          "name": "stdout",
          "text": [
            "EPOCH -  100 . Train Accuracy =  0.20465882122516632 , Validation Accuracy =  0.1982666701078415\n",
            "\n"
          ]
        },
        {
          "output_type": "stream",
          "name": "stderr",
          "text": [
            "100%|██████████| 665/665 [00:08<00:00, 78.46it/s]\n"
          ]
        },
        {
          "output_type": "stream",
          "name": "stdout",
          "text": [
            "Train Accuracy =  0.21279999613761902\n"
          ]
        },
        {
          "output_type": "stream",
          "name": "stderr",
          "text": [
            "100%|██████████| 157/157 [00:01<00:00, 88.86it/s]"
          ]
        },
        {
          "output_type": "stream",
          "name": "stdout",
          "text": [
            "Test Accuracy =  0.21329998970031738\n",
            "Generalization Gap =  -0.0004999935626983643\n"
          ]
        },
        {
          "output_type": "stream",
          "name": "stderr",
          "text": [
            "\n"
          ]
        }
      ]
    },
    {
      "cell_type": "code",
      "source": [
        "\n",
        "model = AllConv_IOCN(10).to(device)\n",
        "for name, param in model.named_parameters():\n",
        "    print(name)"
      ],
      "metadata": {
        "colab": {
          "base_uri": "https://localhost:8080/"
        },
        "id": "Q2t46gDSM6Ap",
        "outputId": "0058a858-187f-473c-f07b-348f37e7878e"
      },
      "execution_count": null,
      "outputs": [
        {
          "output_type": "stream",
          "name": "stdout",
          "text": [
            "Conv1.weight\n",
            "Conv1.bias\n",
            "Conv2.weight\n",
            "Conv2.bias\n",
            "Conv3.weight\n",
            "Conv3.bias\n",
            "Conv4.weight\n",
            "Conv4.bias\n",
            "Conv5.weight\n",
            "Conv5.bias\n",
            "Conv6.weight\n",
            "Conv6.bias\n",
            "Conv7.weight\n",
            "Conv7.bias\n",
            "Conv8.weight\n",
            "Conv8.bias\n",
            "Conv9.weight\n",
            "Conv9.bias\n"
          ]
        }
      ]
    }
  ]
}