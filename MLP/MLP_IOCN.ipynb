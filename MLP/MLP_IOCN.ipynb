{
  "nbformat": 4,
  "nbformat_minor": 0,
  "metadata": {
    "colab": {
      "provenance": []
    },
    "kernelspec": {
      "name": "python3",
      "display_name": "Python 3"
    },
    "language_info": {
      "name": "python"
    },
    "accelerator": "GPU",
    "gpuClass": "standard"
  },
  "cells": [
    {
      "cell_type": "code",
      "execution_count": 1,
      "metadata": {
        "id": "q1kOifvOxxq3"
      },
      "outputs": [],
      "source": [
        "import torch\n",
        "import torch.nn as nn\n",
        "import torchvision\n",
        "from torchvision import datasets\n",
        "from torchvision import transforms\n",
        "import matplotlib.pyplot as plt\n",
        "\n",
        "import numpy as np\n",
        "from tqdm import tqdm\n",
        "import math"
      ]
    },
    {
      "cell_type": "code",
      "source": [
        "transform = transforms.Compose([\n",
        "                    transforms.ToTensor(), \n",
        "                    # transforms.Normalize((0.5,), (0.5,)),\n",
        "            ])"
      ],
      "metadata": {
        "id": "NM161pi1x7cj"
      },
      "execution_count": 2,
      "outputs": []
    },
    {
      "cell_type": "code",
      "source": [
        "def CreateDataLoaders(Option, p_BatchSize):\n",
        "    if Option == 1:\n",
        "        train_dataset = datasets.MNIST(\"./\", train=True, transform = transform, download=True)\n",
        "        train_subset, val_subset = torch.utils.data.random_split(train_dataset, [int(len(train_dataset) * 0.85), int(len(train_dataset) * 0.15)], generator=torch.Generator().manual_seed(1))\n",
        "        test_dataset = datasets.MNIST(\"./\", train=False, transform = transform, download=True)\n",
        "    elif Option == 2:\n",
        "        train_dataset = datasets.FashionMNIST(\"./\", train=True, transform = transform, download=True)\n",
        "        train_subset, val_subset = torch.utils.data.random_split(train_dataset, [int(len(train_dataset) * 0.85), int(len(train_dataset) * 0.15)], generator=torch.Generator().manual_seed(1))\n",
        "        test_dataset = datasets.FashionMNIST(\"./\", train=False, transform = transform, download=True)\n",
        "    \n",
        "    elif Option == 3:\n",
        "        train_dataset = datasets.STL10(\"./\", split=\"train\", transform = transform, download=True)\n",
        "        train_subset, val_subset = torch.utils.data.random_split(train_dataset, [int(len(train_dataset) * 0.85), int(len(train_dataset) * 0.15)], generator=torch.Generator().manual_seed(1))\n",
        "        test_dataset = datasets.STL10(\"./\", split=\"test\", transform = transform, download=True)\n",
        "    \n",
        "    elif Option == 4:\n",
        "        train_dataset = datasets.SVHN(\"./\", split=\"train\", transform = transform, download=True)\n",
        "        print(len(train_dataset))\n",
        "        train_subset, val_subset = torch.utils.data.random_split(train_dataset, [int(len(train_dataset) * 0.85), math.ceil(len(train_dataset) * 0.15)], generator=torch.Generator().manual_seed(1))\n",
        "        test_dataset = datasets.SVHN(\"./\", split=\"test\", transform = transform, download=True)\n",
        "    \n",
        "    elif Option == 5:\n",
        "        train_dataset = datasets.CIFAR10(\"./\", train=True, transform = transform, download=True)\n",
        "        train_subset, val_subset = torch.utils.data.random_split(train_dataset, [int(len(train_dataset) * 0.85), int(len(train_dataset) * 0.15)], generator=torch.Generator().manual_seed(1))\n",
        "        test_dataset = datasets.CIFAR10(\"./\", train=False, transform = transform, download=True)\n",
        "\n",
        "    elif Option == 6:\n",
        "        train_dataset = datasets.CIFAR100(\"./\", train=True, transform = transform, download=True)\n",
        "        train_subset, val_subset = torch.utils.data.random_split(train_dataset, [int(len(train_dataset) * 0.85), int(len(train_dataset) * 0.15)], generator=torch.Generator().manual_seed(1))\n",
        "        test_dataset = datasets.CIFAR100(\"./\", train=False, transform = transform, download=True)\n",
        "\n",
        "    \n",
        "    Train_DataLoader = torch.utils.data.DataLoader(train_subset, batch_size = p_BatchSize, shuffle = True)\n",
        "    Val_DataLoader = torch.utils.data.DataLoader(val_subset, batch_size = p_BatchSize, shuffle = True)\n",
        "    Test_DataLoader = torch.utils.data.DataLoader(test_dataset, batch_size = p_BatchSize, shuffle = True)\n",
        "\n",
        "    return Train_DataLoader, Val_DataLoader, Test_DataLoader"
      ],
      "metadata": {
        "id": "ebZhXyanx9F2"
      },
      "execution_count": 3,
      "outputs": []
    },
    {
      "cell_type": "code",
      "source": [
        "def PlotGraph(X, Y1, Y2):\n",
        "    plt.plot(X, Y1, label = 'Train')\n",
        "    plt.plot(X, Y2, label = \"Val\")\n",
        "\n",
        "    plt.xlabel(\"Epoch\")\n",
        "    plt.ylabel(\"Accuracy\")\n",
        "\n",
        "    plt.legend(loc='best')\n",
        "    plt.show()"
      ],
      "metadata": {
        "id": "rmRllu6faO1i"
      },
      "execution_count": 4,
      "outputs": []
    },
    {
      "cell_type": "code",
      "source": [
        "class MLP_IOCN(nn.Module):\n",
        "    def __init__(self, InputDim, OutputDim):\n",
        "        super(MLP_IOCN, self).__init__()\n",
        "        self.InputDim = InputDim\n",
        "        self.OutputDim = OutputDim\n",
        "        self.Linear1 = nn.Linear(InputDim, 800)\n",
        "        self.Linear2 = nn.Linear(800, 800)\n",
        "        self.Linear3 = nn.Linear(800, 800)\n",
        "        self.Linear4 = nn.Linear(800, self.OutputDim)\n",
        "        self.ActFunc = nn.functional.elu\n",
        "        self.batch = nn.BatchNorm1d(800)\n",
        "        # self.SftMax = nn.functional.softmax\n",
        "\n",
        "    def forward(self, x):\n",
        "        x = self.ActFunc(self.batch(self.Linear1(x)))\n",
        "        x = self.ActFunc(self.batch(self.Linear2(x)))\n",
        "        x = self.ActFunc(self.batch(self.Linear3(x)))\n",
        "\n",
        "        output = self.Linear4(x)\n",
        "        \n",
        "        return output\n",
        "    \n",
        "    # def InitWeights(self):\n",
        "    #     torch.nn.init.uniform_(self.Linear1.weight,-0.5, 0.5)\n",
        "    #     torch.nn.init.uniform_(self.Linear2.weight,-0.5, 0.5)"
      ],
      "metadata": {
        "id": "e-T6s3Xwx_eq"
      },
      "execution_count": 5,
      "outputs": []
    },
    {
      "cell_type": "code",
      "source": [
        "model = MLP_IOCN(100, 10)\n",
        "for name, param in model.named_parameters():\n",
        "    print(\"name=\", name)\n",
        "    # print(\"param=\", param)"
      ],
      "metadata": {
        "colab": {
          "base_uri": "https://localhost:8080/"
        },
        "id": "vVdXEHCuyniM",
        "outputId": "aa780be6-7f70-4fb0-8467-b8508357a2d6"
      },
      "execution_count": 6,
      "outputs": [
        {
          "output_type": "stream",
          "name": "stdout",
          "text": [
            "name= Linear1.weight\n",
            "name= Linear1.bias\n",
            "name= Linear2.weight\n",
            "name= Linear2.bias\n",
            "name= Linear3.weight\n",
            "name= Linear3.bias\n",
            "name= Linear4.weight\n",
            "name= Linear4.bias\n",
            "name= batch.weight\n",
            "name= batch.bias\n"
          ]
        }
      ]
    },
    {
      "cell_type": "code",
      "source": [
        "def TrainModel(p_model, loss_criteria, Optimizer, device,  p_TrainDL, Gamma = 5):\n",
        "    TrainCorr = 0\n",
        "    TotNumOfSamples = 0\n",
        "\n",
        "    for images, labels in tqdm(p_TrainDL):\n",
        "        Optimizer.zero_grad()\n",
        "\n",
        "        images = images.reshape(images.shape[0], -1).to(device)\n",
        "        labels = labels.to(device)\n",
        "\n",
        "        pred = p_model(images)\n",
        "        # print(type(pred))\n",
        "        # print(pred.shape)\n",
        "        # print(pred)\n",
        "        # pred=pred.to(torch.float)\n",
        "        # labels=labels.to(torch.float)\n",
        "        predClass = torch.max(pred.data, 1)[1]\n",
        "        # predClass = np.argmax(pred, axis=-1)\n",
        "        # predClass = pred.max(1)\n",
        "        # print(\"Pred\", predClass)\n",
        "        # print(type(labels))\n",
        "        # print(\"labels\", labels)\n",
        "\n",
        "        # predClass=predClass.to(torch.float)\n",
        "        loss = loss_criteria(pred, labels)\n",
        "        TrainCorr += (predClass==labels).sum()\n",
        "        TotNumOfSamples += len(labels)\n",
        "\n",
        "        loss.backward()\n",
        "        Optimizer.step()\n",
        "\n",
        "        # i=0\n",
        "        # with torch.no_grad():\n",
        "        #       for params in p_model.parameters():\n",
        "        #           if i != 0:\n",
        "        #             newparams=params.detach().clone()\n",
        "        #             params.copy_(torch.where(newparams < 0, torch.exp(newparams - Gamma), newparams))\n",
        "        #           i=i+1\n",
        "\n",
        "        for name, param in p_model.named_parameters():\n",
        "            # if \"Linear1\" in name or \"bias\" in name:\n",
        "            if \"Linear1\" in name or \"bias\" in name or \"batch\" in name:\n",
        "                # print(name)\n",
        "                continue\n",
        "                \n",
        "            \n",
        "            tmpParam = param.data\n",
        "            NewTmpParam = torch.exp(tmpParam - Gamma)\n",
        "            tmpParam = torch.where(tmpParam<0, NewTmpParam, tmpParam)\n",
        "            param.data = tmpParam\n",
        "\n",
        "            # temp_weight = param.data\n",
        "            # # temp_weight[temp_weight < 0] = torch.clamp(temp_weight[temp_weight < 0], min=0)\n",
        "            # temp_weight[temp_weight < 0] = torch.exp(temp_weight[temp_weight < 0])\n",
        "            # param.data = temp_weight\n",
        "    \n",
        "    return TrainCorr/TotNumOfSamples\n",
        "\n",
        "def EvaluateModel(p_model, p_loader, device):\n",
        "    Correct = 0\n",
        "    TotalNumOfSamples = 0\n",
        "\n",
        "    for images, labels in tqdm(p_loader):\n",
        "        images = images.reshape(images.shape[0], -1).to(device)\n",
        "        labels = labels.to(device)\n",
        "\n",
        "        pred = p_model(images)\n",
        "        predClass = torch.max(pred.data, 1)[1]\n",
        "        Correct += (predClass==labels).sum()\n",
        "        TotalNumOfSamples += len(labels)\n",
        "        # loss = loss_criteria(predClass, labels)\n",
        "        # Accuracy += loss.cpu().data.item()\n",
        "\n",
        "    return Correct/TotalNumOfSamples"
      ],
      "metadata": {
        "id": "0fAHOqACyADT"
      },
      "execution_count": 7,
      "outputs": []
    },
    {
      "cell_type": "code",
      "source": [
        "device = torch.device('cuda' if torch.cuda.is_available() else 'cpu')\n",
        "EPOCHS = 50\n",
        "\n",
        "Epoch_List = [i+1 for i in range(EPOCHS)]"
      ],
      "metadata": {
        "id": "Z8XTa05kyB9h"
      },
      "execution_count": 8,
      "outputs": []
    },
    {
      "cell_type": "code",
      "source": [],
      "metadata": {
        "id": "WR2Q29Zx2rfE"
      },
      "execution_count": 8,
      "outputs": []
    },
    {
      "cell_type": "code",
      "source": [
        "# -------------------------------------------- MNIST Dataset -----------------------------------------------------------\n",
        "Option = 1\n",
        "Train_DataLoader, Val_DataLoader, Test_DataLoader = CreateDataLoaders(Option, 64)\n",
        "ModelName = \"Model_MLP_IOCN_MNIST.pt\"\n",
        "\n",
        "model = MLP_IOCN(784, 10).to(device)\n",
        "loss_criteria = nn.CrossEntropyLoss()\n",
        "AdamOpt = torch.optim.Adam(model.parameters(), lr=0.0001)\n",
        "\n",
        "ValAccuracy = 0\n",
        "TrainAcc_List = []\n",
        "ValAcc_List = []\n",
        "\n",
        "saved = False\n",
        "if saved == True:\n",
        "    saved_model = torch.load(ModelName, map_location=torch.device('cpu')).to(device)\n",
        "else:\n",
        "    model.train()\n",
        "    Train_Accuracy = 0\n",
        "\n",
        "    for e in range(EPOCHS):\n",
        "        Train_Accuracy = TrainModel(model, loss_criteria, AdamOpt, device, Train_DataLoader)\n",
        "        val_acc = EvaluateModel(model, Val_DataLoader, device)\n",
        "        TrainAcc_List.append(Train_Accuracy.cpu().item())\n",
        "        ValAcc_List.append(val_acc.cpu().item())\n",
        "\n",
        "        print(\"EPOCH - \", e+1, \". Train Accuracy = \", Train_Accuracy.cpu().item(), \", Validation Accuracy = \", val_acc.cpu().item())\n",
        "        \n",
        "        if val_acc.cpu().item() > ValAccuracy:\n",
        "            print(\"Model Re-Saved\")\n",
        "            ValAccuracy = val_acc.cpu().item()\n",
        "            torch.save(model, ModelName)\n",
        "\n",
        "\n",
        "    saved_model = torch.load(ModelName, map_location=torch.device('cpu')).to(device)\n",
        "\n",
        "print()\n",
        "Train_Accuracy = EvaluateModel(saved_model, Train_DataLoader, device)\n",
        "print(\"Train Accuracy = \", Train_Accuracy.cpu().item())\n",
        "Test_Accuracy = EvaluateModel(saved_model, Test_DataLoader, device)\n",
        "print(\"Test Accuracy = \", Test_Accuracy.cpu().item())\n",
        "\n",
        "print(\"Generalization Gap = \", (Train_Accuracy.cpu().item() - Test_Accuracy.cpu().item()))"
      ],
      "metadata": {
        "colab": {
          "base_uri": "https://localhost:8080/"
        },
        "id": "KzU8ker2yEyh",
        "outputId": "79766662-e1e6-4b63-9361-5e90f4135203"
      },
      "execution_count": 9,
      "outputs": [
        {
          "output_type": "stream",
          "name": "stdout",
          "text": [
            "Downloading http://yann.lecun.com/exdb/mnist/train-images-idx3-ubyte.gz\n",
            "Downloading http://yann.lecun.com/exdb/mnist/train-images-idx3-ubyte.gz to ./MNIST/raw/train-images-idx3-ubyte.gz\n"
          ]
        },
        {
          "output_type": "stream",
          "name": "stderr",
          "text": [
            "100%|██████████| 9912422/9912422 [00:00<00:00, 278790250.35it/s]"
          ]
        },
        {
          "output_type": "stream",
          "name": "stdout",
          "text": [
            "Extracting ./MNIST/raw/train-images-idx3-ubyte.gz to ./MNIST/raw\n"
          ]
        },
        {
          "output_type": "stream",
          "name": "stderr",
          "text": [
            "\n"
          ]
        },
        {
          "output_type": "stream",
          "name": "stdout",
          "text": [
            "\n",
            "Downloading http://yann.lecun.com/exdb/mnist/train-labels-idx1-ubyte.gz\n",
            "Downloading http://yann.lecun.com/exdb/mnist/train-labels-idx1-ubyte.gz to ./MNIST/raw/train-labels-idx1-ubyte.gz\n"
          ]
        },
        {
          "output_type": "stream",
          "name": "stderr",
          "text": [
            "100%|██████████| 28881/28881 [00:00<00:00, 26028296.91it/s]\n"
          ]
        },
        {
          "output_type": "stream",
          "name": "stdout",
          "text": [
            "Extracting ./MNIST/raw/train-labels-idx1-ubyte.gz to ./MNIST/raw\n",
            "\n",
            "Downloading http://yann.lecun.com/exdb/mnist/t10k-images-idx3-ubyte.gz\n",
            "Downloading http://yann.lecun.com/exdb/mnist/t10k-images-idx3-ubyte.gz to ./MNIST/raw/t10k-images-idx3-ubyte.gz\n"
          ]
        },
        {
          "output_type": "stream",
          "name": "stderr",
          "text": [
            "100%|██████████| 1648877/1648877 [00:00<00:00, 75619049.35it/s]\n"
          ]
        },
        {
          "output_type": "stream",
          "name": "stdout",
          "text": [
            "Extracting ./MNIST/raw/t10k-images-idx3-ubyte.gz to ./MNIST/raw\n",
            "\n",
            "Downloading http://yann.lecun.com/exdb/mnist/t10k-labels-idx1-ubyte.gz\n",
            "Downloading http://yann.lecun.com/exdb/mnist/t10k-labels-idx1-ubyte.gz to ./MNIST/raw/t10k-labels-idx1-ubyte.gz\n"
          ]
        },
        {
          "output_type": "stream",
          "name": "stderr",
          "text": [
            "100%|██████████| 4542/4542 [00:00<00:00, 21574777.77it/s]"
          ]
        },
        {
          "output_type": "stream",
          "name": "stdout",
          "text": [
            "Extracting ./MNIST/raw/t10k-labels-idx1-ubyte.gz to ./MNIST/raw\n",
            "\n"
          ]
        },
        {
          "output_type": "stream",
          "name": "stderr",
          "text": [
            "\n",
            "100%|██████████| 797/797 [00:14<00:00, 56.50it/s]\n",
            "100%|██████████| 141/141 [00:01<00:00, 87.05it/s]\n"
          ]
        },
        {
          "output_type": "stream",
          "name": "stdout",
          "text": [
            "EPOCH -  1 . Train Accuracy =  0.6436078548431396 , Validation Accuracy =  0.8843333721160889\n",
            "Model Re-Saved\n"
          ]
        },
        {
          "output_type": "stream",
          "name": "stderr",
          "text": [
            "100%|██████████| 797/797 [00:09<00:00, 87.60it/s]\n",
            "100%|██████████| 141/141 [00:01<00:00, 109.46it/s]\n"
          ]
        },
        {
          "output_type": "stream",
          "name": "stdout",
          "text": [
            "EPOCH -  2 . Train Accuracy =  0.911980390548706 , Validation Accuracy =  0.9217777848243713\n",
            "Model Re-Saved\n"
          ]
        },
        {
          "output_type": "stream",
          "name": "stderr",
          "text": [
            "100%|██████████| 797/797 [00:09<00:00, 84.05it/s]\n",
            "100%|██████████| 141/141 [00:01<00:00, 108.95it/s]\n"
          ]
        },
        {
          "output_type": "stream",
          "name": "stdout",
          "text": [
            "EPOCH -  3 . Train Accuracy =  0.9314314126968384 , Validation Accuracy =  0.9324444532394409\n",
            "Model Re-Saved\n"
          ]
        },
        {
          "output_type": "stream",
          "name": "stderr",
          "text": [
            "100%|██████████| 797/797 [00:09<00:00, 83.76it/s]\n",
            "100%|██████████| 141/141 [00:01<00:00, 105.52it/s]\n"
          ]
        },
        {
          "output_type": "stream",
          "name": "stdout",
          "text": [
            "EPOCH -  4 . Train Accuracy =  0.9443333745002747 , Validation Accuracy =  0.9351111054420471\n",
            "Model Re-Saved\n"
          ]
        },
        {
          "output_type": "stream",
          "name": "stderr",
          "text": [
            "100%|██████████| 797/797 [00:09<00:00, 83.51it/s]\n",
            "100%|██████████| 141/141 [00:01<00:00, 106.30it/s]\n"
          ]
        },
        {
          "output_type": "stream",
          "name": "stdout",
          "text": [
            "EPOCH -  5 . Train Accuracy =  0.9518039226531982 , Validation Accuracy =  0.945111095905304\n",
            "Model Re-Saved\n"
          ]
        },
        {
          "output_type": "stream",
          "name": "stderr",
          "text": [
            "100%|██████████| 797/797 [00:09<00:00, 81.79it/s]\n",
            "100%|██████████| 141/141 [00:01<00:00, 107.45it/s]\n"
          ]
        },
        {
          "output_type": "stream",
          "name": "stdout",
          "text": [
            "EPOCH -  6 . Train Accuracy =  0.9587255120277405 , Validation Accuracy =  0.9528889060020447\n",
            "Model Re-Saved\n"
          ]
        },
        {
          "output_type": "stream",
          "name": "stderr",
          "text": [
            "100%|██████████| 797/797 [00:09<00:00, 83.29it/s]\n",
            "100%|██████████| 141/141 [00:01<00:00, 104.51it/s]\n"
          ]
        },
        {
          "output_type": "stream",
          "name": "stdout",
          "text": [
            "EPOCH -  7 . Train Accuracy =  0.9635097980499268 , Validation Accuracy =  0.9524444341659546\n"
          ]
        },
        {
          "output_type": "stream",
          "name": "stderr",
          "text": [
            "100%|██████████| 797/797 [00:09<00:00, 83.53it/s]\n",
            "100%|██████████| 141/141 [00:01<00:00, 106.21it/s]\n"
          ]
        },
        {
          "output_type": "stream",
          "name": "stdout",
          "text": [
            "EPOCH -  8 . Train Accuracy =  0.9672353267669678 , Validation Accuracy =  0.9510000348091125\n"
          ]
        },
        {
          "output_type": "stream",
          "name": "stderr",
          "text": [
            "100%|██████████| 797/797 [00:09<00:00, 87.73it/s]\n",
            "100%|██████████| 141/141 [00:02<00:00, 63.30it/s]\n"
          ]
        },
        {
          "output_type": "stream",
          "name": "stdout",
          "text": [
            "EPOCH -  9 . Train Accuracy =  0.9710588455200195 , Validation Accuracy =  0.9547777771949768\n",
            "Model Re-Saved\n"
          ]
        },
        {
          "output_type": "stream",
          "name": "stderr",
          "text": [
            "100%|██████████| 797/797 [00:09<00:00, 84.65it/s]\n",
            "100%|██████████| 141/141 [00:01<00:00, 75.45it/s]\n"
          ]
        },
        {
          "output_type": "stream",
          "name": "stdout",
          "text": [
            "EPOCH -  10 . Train Accuracy =  0.9736666679382324 , Validation Accuracy =  0.9572222232818604\n",
            "Model Re-Saved\n"
          ]
        },
        {
          "output_type": "stream",
          "name": "stderr",
          "text": [
            "100%|██████████| 797/797 [00:09<00:00, 87.90it/s]\n",
            "100%|██████████| 141/141 [00:01<00:00, 102.35it/s]\n"
          ]
        },
        {
          "output_type": "stream",
          "name": "stdout",
          "text": [
            "EPOCH -  11 . Train Accuracy =  0.9754313826560974 , Validation Accuracy =  0.9578889012336731\n",
            "Model Re-Saved\n"
          ]
        },
        {
          "output_type": "stream",
          "name": "stderr",
          "text": [
            "100%|██████████| 797/797 [00:09<00:00, 84.42it/s]\n",
            "100%|██████████| 141/141 [00:01<00:00, 109.50it/s]\n"
          ]
        },
        {
          "output_type": "stream",
          "name": "stdout",
          "text": [
            "EPOCH -  12 . Train Accuracy =  0.9770980477333069 , Validation Accuracy =  0.9631111025810242\n",
            "Model Re-Saved\n"
          ]
        },
        {
          "output_type": "stream",
          "name": "stderr",
          "text": [
            "100%|██████████| 797/797 [00:09<00:00, 83.92it/s]\n",
            "100%|██████████| 141/141 [00:01<00:00, 107.64it/s]\n"
          ]
        },
        {
          "output_type": "stream",
          "name": "stdout",
          "text": [
            "EPOCH -  13 . Train Accuracy =  0.9785882830619812 , Validation Accuracy =  0.9641111493110657\n",
            "Model Re-Saved\n"
          ]
        },
        {
          "output_type": "stream",
          "name": "stderr",
          "text": [
            "100%|██████████| 797/797 [00:09<00:00, 84.07it/s]\n",
            "100%|██████████| 141/141 [00:01<00:00, 105.65it/s]\n"
          ]
        },
        {
          "output_type": "stream",
          "name": "stdout",
          "text": [
            "EPOCH -  14 . Train Accuracy =  0.9800588488578796 , Validation Accuracy =  0.9621111154556274\n"
          ]
        },
        {
          "output_type": "stream",
          "name": "stderr",
          "text": [
            "100%|██████████| 797/797 [00:09<00:00, 83.22it/s]\n",
            "100%|██████████| 141/141 [00:01<00:00, 102.72it/s]\n"
          ]
        },
        {
          "output_type": "stream",
          "name": "stdout",
          "text": [
            "EPOCH -  15 . Train Accuracy =  0.9815294146537781 , Validation Accuracy =  0.9628888964653015\n"
          ]
        },
        {
          "output_type": "stream",
          "name": "stderr",
          "text": [
            "100%|██████████| 797/797 [00:09<00:00, 82.64it/s]\n",
            "100%|██████████| 141/141 [00:01<00:00, 104.76it/s]\n"
          ]
        },
        {
          "output_type": "stream",
          "name": "stdout",
          "text": [
            "EPOCH -  16 . Train Accuracy =  0.9828039407730103 , Validation Accuracy =  0.9636666774749756\n"
          ]
        },
        {
          "output_type": "stream",
          "name": "stderr",
          "text": [
            "100%|██████████| 797/797 [00:09<00:00, 83.45it/s]\n",
            "100%|██████████| 141/141 [00:01<00:00, 107.51it/s]\n"
          ]
        },
        {
          "output_type": "stream",
          "name": "stdout",
          "text": [
            "EPOCH -  17 . Train Accuracy =  0.9844117760658264 , Validation Accuracy =  0.9637777805328369\n"
          ]
        },
        {
          "output_type": "stream",
          "name": "stderr",
          "text": [
            "100%|██████████| 797/797 [00:09<00:00, 85.17it/s]\n",
            "100%|██████████| 141/141 [00:01<00:00, 89.23it/s] \n"
          ]
        },
        {
          "output_type": "stream",
          "name": "stdout",
          "text": [
            "EPOCH -  18 . Train Accuracy =  0.9850784540176392 , Validation Accuracy =  0.9650000333786011\n",
            "Model Re-Saved\n"
          ]
        },
        {
          "output_type": "stream",
          "name": "stderr",
          "text": [
            "100%|██████████| 797/797 [00:08<00:00, 89.84it/s]\n",
            "100%|██████████| 141/141 [00:01<00:00, 79.75it/s]\n"
          ]
        },
        {
          "output_type": "stream",
          "name": "stdout",
          "text": [
            "EPOCH -  19 . Train Accuracy =  0.9857451319694519 , Validation Accuracy =  0.9611111283302307\n"
          ]
        },
        {
          "output_type": "stream",
          "name": "stderr",
          "text": [
            "100%|██████████| 797/797 [00:09<00:00, 86.90it/s]\n",
            "100%|██████████| 141/141 [00:01<00:00, 105.53it/s]\n"
          ]
        },
        {
          "output_type": "stream",
          "name": "stdout",
          "text": [
            "EPOCH -  20 . Train Accuracy =  0.9872745275497437 , Validation Accuracy =  0.9677777886390686\n",
            "Model Re-Saved\n"
          ]
        },
        {
          "output_type": "stream",
          "name": "stderr",
          "text": [
            "100%|██████████| 797/797 [00:09<00:00, 81.83it/s]\n",
            "100%|██████████| 141/141 [00:01<00:00, 105.15it/s]\n"
          ]
        },
        {
          "output_type": "stream",
          "name": "stdout",
          "text": [
            "EPOCH -  21 . Train Accuracy =  0.9873529672622681 , Validation Accuracy =  0.9644444584846497\n"
          ]
        },
        {
          "output_type": "stream",
          "name": "stderr",
          "text": [
            "100%|██████████| 797/797 [00:09<00:00, 82.82it/s]\n",
            "100%|██████████| 141/141 [00:01<00:00, 104.78it/s]\n"
          ]
        },
        {
          "output_type": "stream",
          "name": "stdout",
          "text": [
            "EPOCH -  22 . Train Accuracy =  0.987333357334137 , Validation Accuracy =  0.967555582523346\n"
          ]
        },
        {
          "output_type": "stream",
          "name": "stderr",
          "text": [
            "100%|██████████| 797/797 [00:09<00:00, 82.42it/s]\n",
            "100%|██████████| 141/141 [00:01<00:00, 105.15it/s]\n"
          ]
        },
        {
          "output_type": "stream",
          "name": "stdout",
          "text": [
            "EPOCH -  23 . Train Accuracy =  0.9878431558609009 , Validation Accuracy =  0.9652222394943237\n"
          ]
        },
        {
          "output_type": "stream",
          "name": "stderr",
          "text": [
            "100%|██████████| 797/797 [00:09<00:00, 83.36it/s]\n",
            "100%|██████████| 141/141 [00:01<00:00, 106.87it/s]\n"
          ]
        },
        {
          "output_type": "stream",
          "name": "stdout",
          "text": [
            "EPOCH -  24 . Train Accuracy =  0.9897059202194214 , Validation Accuracy =  0.9673333168029785\n"
          ]
        },
        {
          "output_type": "stream",
          "name": "stderr",
          "text": [
            "100%|██████████| 797/797 [00:09<00:00, 83.84it/s]\n",
            "100%|██████████| 141/141 [00:01<00:00, 104.46it/s]\n"
          ]
        },
        {
          "output_type": "stream",
          "name": "stdout",
          "text": [
            "EPOCH -  25 . Train Accuracy =  0.9895490407943726 , Validation Accuracy =  0.9668889045715332\n"
          ]
        },
        {
          "output_type": "stream",
          "name": "stderr",
          "text": [
            "100%|██████████| 797/797 [00:09<00:00, 81.23it/s]\n",
            "100%|██████████| 141/141 [00:01<00:00, 105.00it/s]\n"
          ]
        },
        {
          "output_type": "stream",
          "name": "stdout",
          "text": [
            "EPOCH -  26 . Train Accuracy =  0.9888235330581665 , Validation Accuracy =  0.9660000205039978\n"
          ]
        },
        {
          "output_type": "stream",
          "name": "stderr",
          "text": [
            "100%|██████████| 797/797 [00:09<00:00, 82.10it/s]\n",
            "100%|██████████| 141/141 [00:01<00:00, 100.32it/s]\n"
          ]
        },
        {
          "output_type": "stream",
          "name": "stdout",
          "text": [
            "EPOCH -  27 . Train Accuracy =  0.9902157187461853 , Validation Accuracy =  0.9678888916969299\n",
            "Model Re-Saved\n"
          ]
        },
        {
          "output_type": "stream",
          "name": "stderr",
          "text": [
            "100%|██████████| 797/797 [00:09<00:00, 87.98it/s]\n",
            "100%|██████████| 141/141 [00:01<00:00, 74.46it/s]\n"
          ]
        },
        {
          "output_type": "stream",
          "name": "stdout",
          "text": [
            "EPOCH -  28 . Train Accuracy =  0.9905882477760315 , Validation Accuracy =  0.9697777628898621\n",
            "Model Re-Saved\n"
          ]
        },
        {
          "output_type": "stream",
          "name": "stderr",
          "text": [
            "100%|██████████| 797/797 [00:08<00:00, 89.98it/s]\n",
            "100%|██████████| 141/141 [00:01<00:00, 92.00it/s]\n"
          ]
        },
        {
          "output_type": "stream",
          "name": "stdout",
          "text": [
            "EPOCH -  29 . Train Accuracy =  0.9914118051528931 , Validation Accuracy =  0.9661111235618591\n"
          ]
        },
        {
          "output_type": "stream",
          "name": "stderr",
          "text": [
            "100%|██████████| 797/797 [00:09<00:00, 84.96it/s]\n",
            "100%|██████████| 141/141 [00:01<00:00, 102.61it/s]\n"
          ]
        },
        {
          "output_type": "stream",
          "name": "stdout",
          "text": [
            "EPOCH -  30 . Train Accuracy =  0.9909020066261292 , Validation Accuracy =  0.9712222218513489\n",
            "Model Re-Saved\n"
          ]
        },
        {
          "output_type": "stream",
          "name": "stderr",
          "text": [
            "100%|██████████| 797/797 [00:09<00:00, 81.17it/s]\n",
            "100%|██████████| 141/141 [00:01<00:00, 105.74it/s]\n"
          ]
        },
        {
          "output_type": "stream",
          "name": "stdout",
          "text": [
            "EPOCH -  31 . Train Accuracy =  0.9904705882072449 , Validation Accuracy =  0.9685555696487427\n"
          ]
        },
        {
          "output_type": "stream",
          "name": "stderr",
          "text": [
            "100%|██████████| 797/797 [00:09<00:00, 82.56it/s]\n",
            "100%|██████████| 141/141 [00:01<00:00, 106.07it/s]\n"
          ]
        },
        {
          "output_type": "stream",
          "name": "stdout",
          "text": [
            "EPOCH -  32 . Train Accuracy =  0.9925882816314697 , Validation Accuracy =  0.9673333168029785\n"
          ]
        },
        {
          "output_type": "stream",
          "name": "stderr",
          "text": [
            "100%|██████████| 797/797 [00:09<00:00, 82.72it/s]\n",
            "100%|██████████| 141/141 [00:01<00:00, 105.58it/s]\n"
          ]
        },
        {
          "output_type": "stream",
          "name": "stdout",
          "text": [
            "EPOCH -  33 . Train Accuracy =  0.9925294518470764 , Validation Accuracy =  0.9662222266197205\n"
          ]
        },
        {
          "output_type": "stream",
          "name": "stderr",
          "text": [
            "100%|██████████| 797/797 [00:09<00:00, 84.29it/s]\n",
            "100%|██████████| 141/141 [00:01<00:00, 106.96it/s]\n"
          ]
        },
        {
          "output_type": "stream",
          "name": "stdout",
          "text": [
            "EPOCH -  34 . Train Accuracy =  0.9921176433563232 , Validation Accuracy =  0.96833336353302\n"
          ]
        },
        {
          "output_type": "stream",
          "name": "stderr",
          "text": [
            "100%|██████████| 797/797 [00:09<00:00, 83.61it/s]\n",
            "100%|██████████| 141/141 [00:01<00:00, 105.31it/s]\n"
          ]
        },
        {
          "output_type": "stream",
          "name": "stdout",
          "text": [
            "EPOCH -  35 . Train Accuracy =  0.9932941198348999 , Validation Accuracy =  0.9714444279670715\n",
            "Model Re-Saved\n"
          ]
        },
        {
          "output_type": "stream",
          "name": "stderr",
          "text": [
            "100%|██████████| 797/797 [00:09<00:00, 84.23it/s]\n",
            "100%|██████████| 141/141 [00:01<00:00, 109.18it/s]\n"
          ]
        },
        {
          "output_type": "stream",
          "name": "stdout",
          "text": [
            "EPOCH -  36 . Train Accuracy =  0.993686318397522 , Validation Accuracy =  0.9678888916969299\n"
          ]
        },
        {
          "output_type": "stream",
          "name": "stderr",
          "text": [
            "100%|██████████| 797/797 [00:08<00:00, 91.14it/s]\n",
            "100%|██████████| 141/141 [00:01<00:00, 75.44it/s]\n"
          ]
        },
        {
          "output_type": "stream",
          "name": "stdout",
          "text": [
            "EPOCH -  37 . Train Accuracy =  0.9926470518112183 , Validation Accuracy =  0.9694444537162781\n"
          ]
        },
        {
          "output_type": "stream",
          "name": "stderr",
          "text": [
            "100%|██████████| 797/797 [00:08<00:00, 90.28it/s]\n",
            "100%|██████████| 141/141 [00:01<00:00, 107.70it/s]\n"
          ]
        },
        {
          "output_type": "stream",
          "name": "stdout",
          "text": [
            "EPOCH -  38 . Train Accuracy =  0.9935294389724731 , Validation Accuracy =  0.9668889045715332\n"
          ]
        },
        {
          "output_type": "stream",
          "name": "stderr",
          "text": [
            "100%|██████████| 797/797 [00:09<00:00, 84.69it/s]\n",
            "100%|██████████| 141/141 [00:01<00:00, 108.75it/s]\n"
          ]
        },
        {
          "output_type": "stream",
          "name": "stdout",
          "text": [
            "EPOCH -  39 . Train Accuracy =  0.993156909942627 , Validation Accuracy =  0.9702222347259521\n"
          ]
        },
        {
          "output_type": "stream",
          "name": "stderr",
          "text": [
            "100%|██████████| 797/797 [00:09<00:00, 84.69it/s]\n",
            "100%|██████████| 141/141 [00:01<00:00, 108.18it/s]\n"
          ]
        },
        {
          "output_type": "stream",
          "name": "stdout",
          "text": [
            "EPOCH -  40 . Train Accuracy =  0.9942745566368103 , Validation Accuracy =  0.9671111106872559\n"
          ]
        },
        {
          "output_type": "stream",
          "name": "stderr",
          "text": [
            "100%|██████████| 797/797 [00:09<00:00, 84.35it/s]\n",
            "100%|██████████| 141/141 [00:01<00:00, 107.74it/s]\n"
          ]
        },
        {
          "output_type": "stream",
          "name": "stdout",
          "text": [
            "EPOCH -  41 . Train Accuracy =  0.9939411878585815 , Validation Accuracy =  0.9668889045715332\n"
          ]
        },
        {
          "output_type": "stream",
          "name": "stderr",
          "text": [
            "100%|██████████| 797/797 [00:09<00:00, 85.09it/s]\n",
            "100%|██████████| 141/141 [00:01<00:00, 107.28it/s]\n"
          ]
        },
        {
          "output_type": "stream",
          "name": "stdout",
          "text": [
            "EPOCH -  42 . Train Accuracy =  0.9946863055229187 , Validation Accuracy =  0.9687777757644653\n"
          ]
        },
        {
          "output_type": "stream",
          "name": "stderr",
          "text": [
            "100%|██████████| 797/797 [00:09<00:00, 83.85it/s]\n",
            "100%|██████████| 141/141 [00:01<00:00, 107.26it/s]\n"
          ]
        },
        {
          "output_type": "stream",
          "name": "stdout",
          "text": [
            "EPOCH -  43 . Train Accuracy =  0.9937255382537842 , Validation Accuracy =  0.9736666679382324\n",
            "Model Re-Saved\n"
          ]
        },
        {
          "output_type": "stream",
          "name": "stderr",
          "text": [
            "100%|██████████| 797/797 [00:09<00:00, 84.13it/s]\n",
            "100%|██████████| 141/141 [00:01<00:00, 100.86it/s]\n"
          ]
        },
        {
          "output_type": "stream",
          "name": "stdout",
          "text": [
            "EPOCH -  44 . Train Accuracy =  0.9932745099067688 , Validation Accuracy =  0.9701111316680908\n"
          ]
        },
        {
          "output_type": "stream",
          "name": "stderr",
          "text": [
            "100%|██████████| 797/797 [00:08<00:00, 88.66it/s]\n",
            "100%|██████████| 141/141 [00:01<00:00, 76.36it/s]\n"
          ]
        },
        {
          "output_type": "stream",
          "name": "stdout",
          "text": [
            "EPOCH -  45 . Train Accuracy =  0.994882345199585 , Validation Accuracy =  0.968999981880188\n"
          ]
        },
        {
          "output_type": "stream",
          "name": "stderr",
          "text": [
            "100%|██████████| 797/797 [00:09<00:00, 88.34it/s]\n",
            "100%|██████████| 141/141 [00:01<00:00, 100.26it/s]\n"
          ]
        },
        {
          "output_type": "stream",
          "name": "stdout",
          "text": [
            "EPOCH -  46 . Train Accuracy =  0.9954314231872559 , Validation Accuracy =  0.9697777628898621\n"
          ]
        },
        {
          "output_type": "stream",
          "name": "stderr",
          "text": [
            "100%|██████████| 797/797 [00:09<00:00, 85.43it/s]\n",
            "100%|██████████| 141/141 [00:01<00:00, 106.18it/s]\n"
          ]
        },
        {
          "output_type": "stream",
          "name": "stdout",
          "text": [
            "EPOCH -  47 . Train Accuracy =  0.9953725934028625 , Validation Accuracy =  0.9695555567741394\n"
          ]
        },
        {
          "output_type": "stream",
          "name": "stderr",
          "text": [
            "100%|██████████| 797/797 [00:09<00:00, 84.23it/s]\n",
            "100%|██████████| 141/141 [00:01<00:00, 107.73it/s]\n"
          ]
        },
        {
          "output_type": "stream",
          "name": "stdout",
          "text": [
            "EPOCH -  48 . Train Accuracy =  0.994745135307312 , Validation Accuracy =  0.9702222347259521\n"
          ]
        },
        {
          "output_type": "stream",
          "name": "stderr",
          "text": [
            "100%|██████████| 797/797 [00:09<00:00, 83.88it/s]\n",
            "100%|██████████| 141/141 [00:01<00:00, 103.89it/s]\n"
          ]
        },
        {
          "output_type": "stream",
          "name": "stdout",
          "text": [
            "EPOCH -  49 . Train Accuracy =  0.9953529834747314 , Validation Accuracy =  0.9685555696487427\n"
          ]
        },
        {
          "output_type": "stream",
          "name": "stderr",
          "text": [
            "100%|██████████| 797/797 [00:09<00:00, 85.21it/s]\n",
            "100%|██████████| 141/141 [00:01<00:00, 108.78it/s]\n"
          ]
        },
        {
          "output_type": "stream",
          "name": "stdout",
          "text": [
            "EPOCH -  50 . Train Accuracy =  0.9945686459541321 , Validation Accuracy =  0.972000002861023\n",
            "\n"
          ]
        },
        {
          "output_type": "stream",
          "name": "stderr",
          "text": [
            "100%|██████████| 797/797 [00:08<00:00, 97.55it/s]\n"
          ]
        },
        {
          "output_type": "stream",
          "name": "stdout",
          "text": [
            "Train Accuracy =  0.9957059025764465\n"
          ]
        },
        {
          "output_type": "stream",
          "name": "stderr",
          "text": [
            "100%|██████████| 157/157 [00:01<00:00, 101.91it/s]"
          ]
        },
        {
          "output_type": "stream",
          "name": "stdout",
          "text": [
            "Test Accuracy =  0.97079998254776\n",
            "Generalization Gap =  0.024905920028686523\n"
          ]
        },
        {
          "output_type": "stream",
          "name": "stderr",
          "text": [
            "\n"
          ]
        }
      ]
    },
    {
      "cell_type": "code",
      "source": [
        "PlotGraph(Epoch_List, TrainAcc_List, ValAcc_List)"
      ],
      "metadata": {
        "colab": {
          "base_uri": "https://localhost:8080/",
          "height": 449
        },
        "id": "t1ZzTPGzeXZS",
        "outputId": "8c33f1d7-fc11-407d-d572-35e90ee6e530"
      },
      "execution_count": 10,
      "outputs": [
        {
          "output_type": "display_data",
          "data": {
            "text/plain": [
              "<Figure size 640x480 with 1 Axes>"
            ],
            "image/png": "[encoded data removed]"
          },
          "metadata": {}
        }
      ]
    },
    {
      "cell_type": "code",
      "source": [],
      "metadata": {
        "id": "6YniVnvIeeyi"
      },
      "execution_count": 10,
      "outputs": []
    },
    {
      "cell_type": "code",
      "source": [
        "# # -------------------------------------------- FMNIST Dataset -----------------------------------------------------------\n",
        "# Option = 2\n",
        "# Train_DataLoader, Val_DataLoader, Test_DataLoader = CreateDataLoaders(Option, 64)\n",
        "# ModelName = \"Model_MLP_IOCN_FMNIST.pt\"\n",
        "\n",
        "# model = MLP_IOCN(784, 10).to(device)\n",
        "# loss_criteria = nn.CrossEntropyLoss()\n",
        "# AdamOpt = torch.optim.Adam(model.parameters(), lr=0.0001)\n",
        "\n",
        "# ValAccuracy = 0\n",
        "\n",
        "# saved = False\n",
        "# if saved == True:\n",
        "#     saved_model = torch.load(ModelName, map_location=torch.device('cpu')).to(device)\n",
        "# else:\n",
        "#     model.train()\n",
        "#     Train_Accuracy = 0\n",
        "\n",
        "#     for e in range(EPOCHS):\n",
        "#         Train_Accuracy = TrainModel(model, loss_criteria, AdamOpt, device, Train_DataLoader)\n",
        "#         val_acc = EvaluateModel(model, Val_DataLoader, device)\n",
        "\n",
        "#         print(\"EPOCH - \", e+1, \". Train Accuracy = \", Train_Accuracy.cpu().item(), \", Validation Accuracy = \", val_acc.cpu().item())\n",
        "        \n",
        "#         if val_acc.cpu().item() > ValAccuracy:\n",
        "#             print(\"Model Re-Saved\")\n",
        "#             ValAccuracy = val_acc.cpu().item()\n",
        "#             torch.save(model, ModelName)\n",
        "\n",
        "\n",
        "#     saved_model = torch.load(ModelName, map_location=torch.device('cpu')).to(device)\n",
        "\n",
        "# Train_Accuracy = EvaluateModel(saved_model, Train_DataLoader, device)\n",
        "# print(\"Train Accuracy = \", Train_Accuracy.cpu().item())\n",
        "# Test_Accuracy = EvaluateModel(saved_model, Test_DataLoader, device)\n",
        "# print(\"Test Accuracy = \", Test_Accuracy.cpu().item())\n",
        "\n",
        "# print(\"Generalization Gap = \", (Train_Accuracy.cpu().item() - Test_Accuracy.cpu().item()))"
      ],
      "metadata": {
        "id": "P5iVgq6jnTIB"
      },
      "execution_count": 11,
      "outputs": []
    },
    {
      "cell_type": "code",
      "source": [
        "# -------------------------------------------- FMNIST Dataset -----------------------------------------------------------\n",
        "Option = 2\n",
        "Train_DataLoader, Val_DataLoader, Test_DataLoader = CreateDataLoaders(Option, 64)\n",
        "ModelName = \"Model_MLP_IOCN_FMNIST.pt\"\n",
        "\n",
        "model = MLP_IOCN(784, 10).to(device)\n",
        "loss_criteria = nn.CrossEntropyLoss()\n",
        "AdamOpt = torch.optim.Adam(model.parameters(), lr=0.0001)\n",
        "\n",
        "ValAccuracy = 0\n",
        "TrainAcc_List = []\n",
        "ValAcc_List = []\n",
        "\n",
        "saved = False\n",
        "if saved == True:\n",
        "    saved_model = torch.load(ModelName, map_location=torch.device('cpu')).to(device)\n",
        "else:\n",
        "    model.train()\n",
        "    Train_Accuracy = 0\n",
        "\n",
        "    for e in range(EPOCHS):\n",
        "        Train_Accuracy = TrainModel(model, loss_criteria, AdamOpt, device, Train_DataLoader)\n",
        "        val_acc = EvaluateModel(model, Val_DataLoader, device)\n",
        "\n",
        "        TrainAcc_List.append(Train_Accuracy.cpu().item())\n",
        "        ValAcc_List.append(val_acc.cpu().item())\n",
        "\n",
        "        print(\"EPOCH - \", e+1, \". Train Accuracy = \", Train_Accuracy.cpu().item(), \", Validation Accuracy = \", val_acc.cpu().item())\n",
        "        \n",
        "        if val_acc.cpu().item() > ValAccuracy:\n",
        "            print(\"Model Re-Saved\")\n",
        "            ValAccuracy = val_acc.cpu().item()\n",
        "            torch.save(model, ModelName)\n",
        "\n",
        "\n",
        "    saved_model = torch.load(ModelName, map_location=torch.device('cpu')).to(device)\n",
        "\n",
        "Train_Accuracy = EvaluateModel(saved_model, Train_DataLoader, device)\n",
        "print(\"Train Accuracy = \", Train_Accuracy.cpu().item())\n",
        "Test_Accuracy = EvaluateModel(saved_model, Test_DataLoader, device)\n",
        "print(\"Test Accuracy = \", Test_Accuracy.cpu().item())\n",
        "\n",
        "print(\"Generalization Gap = \", (Train_Accuracy.cpu().item() - Test_Accuracy.cpu().item()))"
      ],
      "metadata": {
        "colab": {
          "base_uri": "https://localhost:8080/"
        },
        "id": "YxqOwZWcE2H-",
        "outputId": "ea6c37fa-2599-417d-cb58-31970624ee0e"
      },
      "execution_count": 12,
      "outputs": [
        {
          "output_type": "stream",
          "name": "stdout",
          "text": [
            "Downloading http://fashion-mnist.s3-website.eu-central-1.amazonaws.com/train-images-idx3-ubyte.gz\n",
            "Downloading http://fashion-mnist.s3-website.eu-central-1.amazonaws.com/train-images-idx3-ubyte.gz to ./FashionMNIST/raw/train-images-idx3-ubyte.gz\n"
          ]
        },
        {
          "output_type": "stream",
          "name": "stderr",
          "text": [
            "100%|██████████| 26421880/26421880 [00:01<00:00, 19746026.92it/s]\n"
          ]
        },
        {
          "output_type": "stream",
          "name": "stdout",
          "text": [
            "Extracting ./FashionMNIST/raw/train-images-idx3-ubyte.gz to ./FashionMNIST/raw\n",
            "\n",
            "Downloading http://fashion-mnist.s3-website.eu-central-1.amazonaws.com/train-labels-idx1-ubyte.gz\n",
            "Downloading http://fashion-mnist.s3-website.eu-central-1.amazonaws.com/train-labels-idx1-ubyte.gz to ./FashionMNIST/raw/train-labels-idx1-ubyte.gz\n"
          ]
        },
        {
          "output_type": "stream",
          "name": "stderr",
          "text": [
            "100%|██████████| 29515/29515 [00:00<00:00, 335582.98it/s]\n"
          ]
        },
        {
          "output_type": "stream",
          "name": "stdout",
          "text": [
            "Extracting ./FashionMNIST/raw/train-labels-idx1-ubyte.gz to ./FashionMNIST/raw\n",
            "\n",
            "Downloading http://fashion-mnist.s3-website.eu-central-1.amazonaws.com/t10k-images-idx3-ubyte.gz\n",
            "Downloading http://fashion-mnist.s3-website.eu-central-1.amazonaws.com/t10k-images-idx3-ubyte.gz to ./FashionMNIST/raw/t10k-images-idx3-ubyte.gz\n"
          ]
        },
        {
          "output_type": "stream",
          "name": "stderr",
          "text": [
            "100%|██████████| 4422102/4422102 [00:00<00:00, 6071661.96it/s]\n"
          ]
        },
        {
          "output_type": "stream",
          "name": "stdout",
          "text": [
            "Extracting ./FashionMNIST/raw/t10k-images-idx3-ubyte.gz to ./FashionMNIST/raw\n",
            "\n",
            "Downloading http://fashion-mnist.s3-website.eu-central-1.amazonaws.com/t10k-labels-idx1-ubyte.gz\n",
            "Downloading http://fashion-mnist.s3-website.eu-central-1.amazonaws.com/t10k-labels-idx1-ubyte.gz to ./FashionMNIST/raw/t10k-labels-idx1-ubyte.gz\n"
          ]
        },
        {
          "output_type": "stream",
          "name": "stderr",
          "text": [
            "100%|██████████| 5148/5148 [00:00<00:00, 7399683.68it/s]\n"
          ]
        },
        {
          "output_type": "stream",
          "name": "stdout",
          "text": [
            "Extracting ./FashionMNIST/raw/t10k-labels-idx1-ubyte.gz to ./FashionMNIST/raw\n",
            "\n"
          ]
        },
        {
          "output_type": "stream",
          "name": "stderr",
          "text": [
            "100%|██████████| 797/797 [00:09<00:00, 84.12it/s]\n",
            "100%|██████████| 141/141 [00:01<00:00, 107.22it/s]\n"
          ]
        },
        {
          "output_type": "stream",
          "name": "stdout",
          "text": [
            "EPOCH -  1 . Train Accuracy =  0.5131372809410095 , Validation Accuracy =  0.7590000033378601\n",
            "Model Re-Saved\n"
          ]
        },
        {
          "output_type": "stream",
          "name": "stderr",
          "text": [
            "100%|██████████| 797/797 [00:09<00:00, 82.18it/s]\n",
            "100%|██████████| 141/141 [00:01<00:00, 103.20it/s]\n"
          ]
        },
        {
          "output_type": "stream",
          "name": "stdout",
          "text": [
            "EPOCH -  2 . Train Accuracy =  0.8019019961357117 , Validation Accuracy =  0.8147777915000916\n",
            "Model Re-Saved\n"
          ]
        },
        {
          "output_type": "stream",
          "name": "stderr",
          "text": [
            "100%|██████████| 797/797 [00:09<00:00, 83.48it/s]\n",
            "100%|██████████| 141/141 [00:01<00:00, 107.30it/s]\n"
          ]
        },
        {
          "output_type": "stream",
          "name": "stdout",
          "text": [
            "EPOCH -  3 . Train Accuracy =  0.8296274542808533 , Validation Accuracy =  0.8199999928474426\n",
            "Model Re-Saved\n"
          ]
        },
        {
          "output_type": "stream",
          "name": "stderr",
          "text": [
            "100%|██████████| 797/797 [00:09<00:00, 82.87it/s]\n",
            "100%|██████████| 141/141 [00:01<00:00, 104.88it/s]\n"
          ]
        },
        {
          "output_type": "stream",
          "name": "stdout",
          "text": [
            "EPOCH -  4 . Train Accuracy =  0.8424901962280273 , Validation Accuracy =  0.8411111235618591\n",
            "Model Re-Saved\n"
          ]
        },
        {
          "output_type": "stream",
          "name": "stderr",
          "text": [
            "100%|██████████| 797/797 [00:09<00:00, 86.85it/s]\n",
            "100%|██████████| 141/141 [00:01<00:00, 79.02it/s]\n"
          ]
        },
        {
          "output_type": "stream",
          "name": "stdout",
          "text": [
            "EPOCH -  5 . Train Accuracy =  0.8503725528717041 , Validation Accuracy =  0.8441111445426941\n",
            "Model Re-Saved\n"
          ]
        },
        {
          "output_type": "stream",
          "name": "stderr",
          "text": [
            "100%|██████████| 797/797 [00:08<00:00, 90.76it/s]\n",
            "100%|██████████| 141/141 [00:01<00:00, 91.86it/s]\n"
          ]
        },
        {
          "output_type": "stream",
          "name": "stdout",
          "text": [
            "EPOCH -  6 . Train Accuracy =  0.8596078753471375 , Validation Accuracy =  0.8513333201408386\n",
            "Model Re-Saved\n"
          ]
        },
        {
          "output_type": "stream",
          "name": "stderr",
          "text": [
            "100%|██████████| 797/797 [00:09<00:00, 85.73it/s]\n",
            "100%|██████████| 141/141 [00:01<00:00, 107.24it/s]\n"
          ]
        },
        {
          "output_type": "stream",
          "name": "stdout",
          "text": [
            "EPOCH -  7 . Train Accuracy =  0.864627480506897 , Validation Accuracy =  0.851555585861206\n",
            "Model Re-Saved\n"
          ]
        },
        {
          "output_type": "stream",
          "name": "stderr",
          "text": [
            "100%|██████████| 797/797 [00:09<00:00, 83.18it/s]\n",
            "100%|██████████| 141/141 [00:01<00:00, 104.56it/s]\n"
          ]
        },
        {
          "output_type": "stream",
          "name": "stdout",
          "text": [
            "EPOCH -  8 . Train Accuracy =  0.8699803948402405 , Validation Accuracy =  0.8562222123146057\n",
            "Model Re-Saved\n"
          ]
        },
        {
          "output_type": "stream",
          "name": "stderr",
          "text": [
            "100%|██████████| 797/797 [00:09<00:00, 82.31it/s]\n",
            "100%|██████████| 141/141 [00:01<00:00, 105.70it/s]\n"
          ]
        },
        {
          "output_type": "stream",
          "name": "stdout",
          "text": [
            "EPOCH -  9 . Train Accuracy =  0.8748824000358582 , Validation Accuracy =  0.8628888726234436\n",
            "Model Re-Saved\n"
          ]
        },
        {
          "output_type": "stream",
          "name": "stderr",
          "text": [
            "100%|██████████| 797/797 [00:09<00:00, 82.94it/s]\n",
            "100%|██████████| 141/141 [00:01<00:00, 105.21it/s]\n"
          ]
        },
        {
          "output_type": "stream",
          "name": "stdout",
          "text": [
            "EPOCH -  10 . Train Accuracy =  0.8795098066329956 , Validation Accuracy =  0.8617777824401855\n"
          ]
        },
        {
          "output_type": "stream",
          "name": "stderr",
          "text": [
            "100%|██████████| 797/797 [00:09<00:00, 84.90it/s]\n",
            "100%|██████████| 141/141 [00:01<00:00, 106.61it/s]\n"
          ]
        },
        {
          "output_type": "stream",
          "name": "stdout",
          "text": [
            "EPOCH -  11 . Train Accuracy =  0.8833137154579163 , Validation Accuracy =  0.8586666584014893\n"
          ]
        },
        {
          "output_type": "stream",
          "name": "stderr",
          "text": [
            "100%|██████████| 797/797 [00:09<00:00, 84.44it/s]\n",
            "100%|██████████| 141/141 [00:01<00:00, 107.04it/s]\n"
          ]
        },
        {
          "output_type": "stream",
          "name": "stdout",
          "text": [
            "EPOCH -  12 . Train Accuracy =  0.8844901919364929 , Validation Accuracy =  0.8596667051315308\n"
          ]
        },
        {
          "output_type": "stream",
          "name": "stderr",
          "text": [
            "100%|██████████| 797/797 [00:09<00:00, 85.55it/s]\n",
            "100%|██████████| 141/141 [00:01<00:00, 92.32it/s] \n"
          ]
        },
        {
          "output_type": "stream",
          "name": "stdout",
          "text": [
            "EPOCH -  13 . Train Accuracy =  0.8860196471214294 , Validation Accuracy =  0.8684444427490234\n",
            "Model Re-Saved\n"
          ]
        },
        {
          "output_type": "stream",
          "name": "stderr",
          "text": [
            "100%|██████████| 797/797 [00:08<00:00, 89.66it/s]\n",
            "100%|██████████| 141/141 [00:01<00:00, 75.61it/s]\n"
          ]
        },
        {
          "output_type": "stream",
          "name": "stdout",
          "text": [
            "EPOCH -  14 . Train Accuracy =  0.891392171382904 , Validation Accuracy =  0.8669999837875366\n"
          ]
        },
        {
          "output_type": "stream",
          "name": "stderr",
          "text": [
            "100%|██████████| 797/797 [00:09<00:00, 86.69it/s]\n",
            "100%|██████████| 141/141 [00:01<00:00, 103.18it/s]\n"
          ]
        },
        {
          "output_type": "stream",
          "name": "stdout",
          "text": [
            "EPOCH -  15 . Train Accuracy =  0.893333375453949 , Validation Accuracy =  0.8662222027778625\n"
          ]
        },
        {
          "output_type": "stream",
          "name": "stderr",
          "text": [
            "100%|██████████| 797/797 [00:09<00:00, 84.01it/s]\n",
            "100%|██████████| 141/141 [00:01<00:00, 107.39it/s]\n"
          ]
        },
        {
          "output_type": "stream",
          "name": "stdout",
          "text": [
            "EPOCH -  16 . Train Accuracy =  0.8940980434417725 , Validation Accuracy =  0.8707777857780457\n",
            "Model Re-Saved\n"
          ]
        },
        {
          "output_type": "stream",
          "name": "stderr",
          "text": [
            "100%|██████████| 797/797 [00:09<00:00, 84.00it/s]\n",
            "100%|██████████| 141/141 [00:01<00:00, 104.18it/s]\n"
          ]
        },
        {
          "output_type": "stream",
          "name": "stdout",
          "text": [
            "EPOCH -  17 . Train Accuracy =  0.897725522518158 , Validation Accuracy =  0.8727777600288391\n",
            "Model Re-Saved\n"
          ]
        },
        {
          "output_type": "stream",
          "name": "stderr",
          "text": [
            "100%|██████████| 797/797 [00:09<00:00, 83.03it/s]\n",
            "100%|██████████| 141/141 [00:01<00:00, 106.02it/s]\n"
          ]
        },
        {
          "output_type": "stream",
          "name": "stdout",
          "text": [
            "EPOCH -  18 . Train Accuracy =  0.8992549180984497 , Validation Accuracy =  0.8733333349227905\n",
            "Model Re-Saved\n"
          ]
        },
        {
          "output_type": "stream",
          "name": "stderr",
          "text": [
            "100%|██████████| 797/797 [00:09<00:00, 84.76it/s]\n",
            "100%|██████████| 141/141 [00:01<00:00, 107.29it/s]\n"
          ]
        },
        {
          "output_type": "stream",
          "name": "stdout",
          "text": [
            "EPOCH -  19 . Train Accuracy =  0.9013921618461609 , Validation Accuracy =  0.8728889226913452\n"
          ]
        },
        {
          "output_type": "stream",
          "name": "stderr",
          "text": [
            "100%|██████████| 797/797 [00:09<00:00, 82.67it/s]\n",
            "100%|██████████| 141/141 [00:01<00:00, 102.63it/s]\n"
          ]
        },
        {
          "output_type": "stream",
          "name": "stdout",
          "text": [
            "EPOCH -  20 . Train Accuracy =  0.9019215703010559 , Validation Accuracy =  0.8770000338554382\n",
            "Model Re-Saved\n"
          ]
        },
        {
          "output_type": "stream",
          "name": "stderr",
          "text": [
            "100%|██████████| 797/797 [00:09<00:00, 82.83it/s]\n",
            "100%|██████████| 141/141 [00:01<00:00, 104.35it/s]\n"
          ]
        },
        {
          "output_type": "stream",
          "name": "stdout",
          "text": [
            "EPOCH -  21 . Train Accuracy =  0.9059804081916809 , Validation Accuracy =  0.874666690826416\n"
          ]
        },
        {
          "output_type": "stream",
          "name": "stderr",
          "text": [
            "100%|██████████| 797/797 [00:09<00:00, 83.41it/s]\n",
            "100%|██████████| 141/141 [00:01<00:00, 93.26it/s] \n"
          ]
        },
        {
          "output_type": "stream",
          "name": "stdout",
          "text": [
            "EPOCH -  22 . Train Accuracy =  0.9073529839515686 , Validation Accuracy =  0.8742222189903259\n"
          ]
        },
        {
          "output_type": "stream",
          "name": "stderr",
          "text": [
            "100%|██████████| 797/797 [00:09<00:00, 87.64it/s]\n",
            "100%|██████████| 141/141 [00:01<00:00, 73.87it/s]\n"
          ]
        },
        {
          "output_type": "stream",
          "name": "stdout",
          "text": [
            "EPOCH -  23 . Train Accuracy =  0.9085490107536316 , Validation Accuracy =  0.8737778067588806\n"
          ]
        },
        {
          "output_type": "stream",
          "name": "stderr",
          "text": [
            "100%|██████████| 797/797 [00:09<00:00, 87.80it/s]\n",
            "100%|██████████| 141/141 [00:01<00:00, 93.59it/s]\n"
          ]
        },
        {
          "output_type": "stream",
          "name": "stdout",
          "text": [
            "EPOCH -  24 . Train Accuracy =  0.9111961126327515 , Validation Accuracy =  0.8745555877685547\n"
          ]
        },
        {
          "output_type": "stream",
          "name": "stderr",
          "text": [
            "100%|██████████| 797/797 [00:09<00:00, 81.67it/s]\n",
            "100%|██████████| 141/141 [00:01<00:00, 100.79it/s]\n"
          ]
        },
        {
          "output_type": "stream",
          "name": "stdout",
          "text": [
            "EPOCH -  25 . Train Accuracy =  0.9121960997581482 , Validation Accuracy =  0.8741111159324646\n"
          ]
        },
        {
          "output_type": "stream",
          "name": "stderr",
          "text": [
            "100%|██████████| 797/797 [00:09<00:00, 81.86it/s]\n",
            "100%|██████████| 141/141 [00:01<00:00, 106.65it/s]\n"
          ]
        },
        {
          "output_type": "stream",
          "name": "stdout",
          "text": [
            "EPOCH -  26 . Train Accuracy =  0.9142941236495972 , Validation Accuracy =  0.8764444589614868\n"
          ]
        },
        {
          "output_type": "stream",
          "name": "stderr",
          "text": [
            "100%|██████████| 797/797 [00:09<00:00, 82.99it/s]\n",
            "100%|██████████| 141/141 [00:01<00:00, 104.65it/s]\n"
          ]
        },
        {
          "output_type": "stream",
          "name": "stdout",
          "text": [
            "EPOCH -  27 . Train Accuracy =  0.9154509902000427 , Validation Accuracy =  0.8688889145851135\n"
          ]
        },
        {
          "output_type": "stream",
          "name": "stderr",
          "text": [
            "100%|██████████| 797/797 [00:09<00:00, 83.74it/s]\n",
            "100%|██████████| 141/141 [00:01<00:00, 105.44it/s]\n"
          ]
        },
        {
          "output_type": "stream",
          "name": "stdout",
          "text": [
            "EPOCH -  28 . Train Accuracy =  0.9172549247741699 , Validation Accuracy =  0.8771111369132996\n",
            "Model Re-Saved\n"
          ]
        },
        {
          "output_type": "stream",
          "name": "stderr",
          "text": [
            "100%|██████████| 797/797 [00:09<00:00, 83.45it/s]\n",
            "100%|██████████| 141/141 [00:01<00:00, 106.09it/s]\n"
          ]
        },
        {
          "output_type": "stream",
          "name": "stdout",
          "text": [
            "EPOCH -  29 . Train Accuracy =  0.920274555683136 , Validation Accuracy =  0.8777778148651123\n",
            "Model Re-Saved\n"
          ]
        },
        {
          "output_type": "stream",
          "name": "stderr",
          "text": [
            "100%|██████████| 797/797 [00:09<00:00, 82.69it/s]\n",
            "100%|██████████| 141/141 [00:01<00:00, 97.60it/s]\n"
          ]
        },
        {
          "output_type": "stream",
          "name": "stdout",
          "text": [
            "EPOCH -  30 . Train Accuracy =  0.9215490221977234 , Validation Accuracy =  0.878000020980835\n",
            "Model Re-Saved\n"
          ]
        },
        {
          "output_type": "stream",
          "name": "stderr",
          "text": [
            "100%|██████████| 797/797 [00:09<00:00, 83.53it/s]\n",
            "100%|██████████| 141/141 [00:01<00:00, 104.77it/s]\n"
          ]
        },
        {
          "output_type": "stream",
          "name": "stdout",
          "text": [
            "EPOCH -  31 . Train Accuracy =  0.9220784306526184 , Validation Accuracy =  0.8733333349227905\n"
          ]
        },
        {
          "output_type": "stream",
          "name": "stderr",
          "text": [
            "100%|██████████| 797/797 [00:09<00:00, 85.33it/s]\n",
            "100%|██████████| 141/141 [00:01<00:00, 85.39it/s] \n"
          ]
        },
        {
          "output_type": "stream",
          "name": "stdout",
          "text": [
            "EPOCH -  32 . Train Accuracy =  0.9248823523521423 , Validation Accuracy =  0.8785555362701416\n",
            "Model Re-Saved\n"
          ]
        },
        {
          "output_type": "stream",
          "name": "stderr",
          "text": [
            "100%|██████████| 797/797 [00:08<00:00, 89.16it/s]\n",
            "100%|██████████| 141/141 [00:01<00:00, 82.38it/s]\n"
          ]
        },
        {
          "output_type": "stream",
          "name": "stdout",
          "text": [
            "EPOCH -  33 . Train Accuracy =  0.9259803891181946 , Validation Accuracy =  0.8815555572509766\n",
            "Model Re-Saved\n"
          ]
        },
        {
          "output_type": "stream",
          "name": "stderr",
          "text": [
            "100%|██████████| 797/797 [00:09<00:00, 86.86it/s]\n",
            "100%|██████████| 141/141 [00:01<00:00, 100.79it/s]\n"
          ]
        },
        {
          "output_type": "stream",
          "name": "stdout",
          "text": [
            "EPOCH -  34 . Train Accuracy =  0.927823543548584 , Validation Accuracy =  0.8752222061157227\n"
          ]
        },
        {
          "output_type": "stream",
          "name": "stderr",
          "text": [
            "100%|██████████| 797/797 [00:09<00:00, 81.87it/s]\n",
            "100%|██████████| 141/141 [00:01<00:00, 104.50it/s]\n"
          ]
        },
        {
          "output_type": "stream",
          "name": "stdout",
          "text": [
            "EPOCH -  35 . Train Accuracy =  0.9302941560745239 , Validation Accuracy =  0.8759999871253967\n"
          ]
        },
        {
          "output_type": "stream",
          "name": "stderr",
          "text": [
            "100%|██████████| 797/797 [00:09<00:00, 81.15it/s]\n",
            "100%|██████████| 141/141 [00:01<00:00, 104.04it/s]\n"
          ]
        },
        {
          "output_type": "stream",
          "name": "stdout",
          "text": [
            "EPOCH -  36 . Train Accuracy =  0.9303922057151794 , Validation Accuracy =  0.8798888921737671\n"
          ]
        },
        {
          "output_type": "stream",
          "name": "stderr",
          "text": [
            "100%|██████████| 797/797 [00:09<00:00, 82.79it/s]\n",
            "100%|██████████| 141/141 [00:01<00:00, 106.79it/s]\n"
          ]
        },
        {
          "output_type": "stream",
          "name": "stdout",
          "text": [
            "EPOCH -  37 . Train Accuracy =  0.9312157034873962 , Validation Accuracy =  0.8806666731834412\n"
          ]
        },
        {
          "output_type": "stream",
          "name": "stderr",
          "text": [
            "100%|██████████| 797/797 [00:09<00:00, 83.44it/s]\n",
            "100%|██████████| 141/141 [00:01<00:00, 104.99it/s]\n"
          ]
        },
        {
          "output_type": "stream",
          "name": "stdout",
          "text": [
            "EPOCH -  38 . Train Accuracy =  0.9334313869476318 , Validation Accuracy =  0.8795555830001831\n"
          ]
        },
        {
          "output_type": "stream",
          "name": "stderr",
          "text": [
            "100%|██████████| 797/797 [00:09<00:00, 82.42it/s]\n",
            "100%|██████████| 141/141 [00:01<00:00, 103.34it/s]\n"
          ]
        },
        {
          "output_type": "stream",
          "name": "stdout",
          "text": [
            "EPOCH -  39 . Train Accuracy =  0.935039222240448 , Validation Accuracy =  0.8748888969421387\n"
          ]
        },
        {
          "output_type": "stream",
          "name": "stderr",
          "text": [
            "100%|██████████| 797/797 [00:09<00:00, 82.05it/s]\n",
            "100%|██████████| 141/141 [00:01<00:00, 103.93it/s]\n"
          ]
        },
        {
          "output_type": "stream",
          "name": "stdout",
          "text": [
            "EPOCH -  40 . Train Accuracy =  0.9351568818092346 , Validation Accuracy =  0.8813333511352539\n"
          ]
        },
        {
          "output_type": "stream",
          "name": "stderr",
          "text": [
            "100%|██████████| 797/797 [00:10<00:00, 79.42it/s]\n",
            "100%|██████████| 141/141 [00:01<00:00, 103.82it/s]\n"
          ]
        },
        {
          "output_type": "stream",
          "name": "stdout",
          "text": [
            "EPOCH -  41 . Train Accuracy =  0.9370588660240173 , Validation Accuracy =  0.8715555667877197\n"
          ]
        },
        {
          "output_type": "stream",
          "name": "stderr",
          "text": [
            "100%|██████████| 797/797 [00:09<00:00, 85.19it/s]\n",
            "100%|██████████| 141/141 [00:01<00:00, 79.56it/s]\n"
          ]
        },
        {
          "output_type": "stream",
          "name": "stdout",
          "text": [
            "EPOCH -  42 . Train Accuracy =  0.9383137226104736 , Validation Accuracy =  0.8752222061157227\n"
          ]
        },
        {
          "output_type": "stream",
          "name": "stderr",
          "text": [
            "100%|██████████| 797/797 [00:09<00:00, 87.48it/s]\n",
            "100%|██████████| 141/141 [00:01<00:00, 77.22it/s]\n"
          ]
        },
        {
          "output_type": "stream",
          "name": "stdout",
          "text": [
            "EPOCH -  43 . Train Accuracy =  0.9386863112449646 , Validation Accuracy =  0.8809999823570251\n"
          ]
        },
        {
          "output_type": "stream",
          "name": "stderr",
          "text": [
            "100%|██████████| 797/797 [00:09<00:00, 86.09it/s]\n",
            "100%|██████████| 141/141 [00:01<00:00, 103.64it/s]\n"
          ]
        },
        {
          "output_type": "stream",
          "name": "stdout",
          "text": [
            "EPOCH -  44 . Train Accuracy =  0.9390000104904175 , Validation Accuracy =  0.8771111369132996\n"
          ]
        },
        {
          "output_type": "stream",
          "name": "stderr",
          "text": [
            "100%|██████████| 797/797 [00:09<00:00, 82.32it/s]\n",
            "100%|██████████| 141/141 [00:01<00:00, 104.54it/s]\n"
          ]
        },
        {
          "output_type": "stream",
          "name": "stdout",
          "text": [
            "EPOCH -  45 . Train Accuracy =  0.9414314031600952 , Validation Accuracy =  0.8765555620193481\n"
          ]
        },
        {
          "output_type": "stream",
          "name": "stderr",
          "text": [
            "100%|██████████| 797/797 [00:09<00:00, 80.71it/s]\n",
            "100%|██████████| 141/141 [00:01<00:00, 102.55it/s]\n"
          ]
        },
        {
          "output_type": "stream",
          "name": "stdout",
          "text": [
            "EPOCH -  46 . Train Accuracy =  0.9419608116149902 , Validation Accuracy =  0.8792222142219543\n"
          ]
        },
        {
          "output_type": "stream",
          "name": "stderr",
          "text": [
            "100%|██████████| 797/797 [00:09<00:00, 81.46it/s]\n",
            "100%|██████████| 141/141 [00:01<00:00, 104.18it/s]\n"
          ]
        },
        {
          "output_type": "stream",
          "name": "stdout",
          "text": [
            "EPOCH -  47 . Train Accuracy =  0.9437059164047241 , Validation Accuracy =  0.8798888921737671\n"
          ]
        },
        {
          "output_type": "stream",
          "name": "stderr",
          "text": [
            "100%|██████████| 797/797 [00:09<00:00, 81.84it/s]\n",
            "100%|██████████| 141/141 [00:01<00:00, 102.69it/s]\n"
          ]
        },
        {
          "output_type": "stream",
          "name": "stdout",
          "text": [
            "EPOCH -  48 . Train Accuracy =  0.9440784454345703 , Validation Accuracy =  0.8771111369132996\n"
          ]
        },
        {
          "output_type": "stream",
          "name": "stderr",
          "text": [
            "100%|██████████| 797/797 [00:09<00:00, 82.26it/s]\n",
            "100%|██████████| 141/141 [00:01<00:00, 104.38it/s]\n"
          ]
        },
        {
          "output_type": "stream",
          "name": "stdout",
          "text": [
            "EPOCH -  49 . Train Accuracy =  0.9457058906555176 , Validation Accuracy =  0.8799999952316284\n"
          ]
        },
        {
          "output_type": "stream",
          "name": "stderr",
          "text": [
            "100%|██████████| 797/797 [00:09<00:00, 82.71it/s]\n",
            "100%|██████████| 141/141 [00:01<00:00, 105.64it/s]\n"
          ]
        },
        {
          "output_type": "stream",
          "name": "stdout",
          "text": [
            "EPOCH -  50 . Train Accuracy =  0.9450588226318359 , Validation Accuracy =  0.8801110982894897\n"
          ]
        },
        {
          "output_type": "stream",
          "name": "stderr",
          "text": [
            "100%|██████████| 797/797 [00:08<00:00, 97.36it/s]\n"
          ]
        },
        {
          "output_type": "stream",
          "name": "stdout",
          "text": [
            "Train Accuracy =  0.9351372718811035\n"
          ]
        },
        {
          "output_type": "stream",
          "name": "stderr",
          "text": [
            "100%|██████████| 157/157 [00:01<00:00, 87.04it/s] "
          ]
        },
        {
          "output_type": "stream",
          "name": "stdout",
          "text": [
            "Test Accuracy =  0.8747999668121338\n",
            "Generalization Gap =  0.06033730506896973\n"
          ]
        },
        {
          "output_type": "stream",
          "name": "stderr",
          "text": [
            "\n"
          ]
        }
      ]
    },
    {
      "cell_type": "code",
      "source": [
        "PlotGraph(Epoch_List, TrainAcc_List, ValAcc_List)"
      ],
      "metadata": {
        "colab": {
          "base_uri": "https://localhost:8080/",
          "height": 449
        },
        "id": "_G2NBUfdE2wj",
        "outputId": "2552983f-43c4-4520-be1f-326359f7a980"
      },
      "execution_count": 13,
      "outputs": [
        {
          "output_type": "display_data",
          "data": {
            "text/plain": [
              "<Figure size 640x480 with 1 Axes>"
            ],
            "image/png": "[encoded data removed]"
          },
          "metadata": {}
        }
      ]
    },
    {
      "cell_type": "code",
      "source": [],
      "metadata": {
        "id": "y_FX23D8Cf31"
      },
      "execution_count": 13,
      "outputs": []
    },
    {
      "cell_type": "code",
      "source": [
        "# -------------------------------------------- STL 10 Dataset -----------------------------------------------------------\n",
        "Option = 3\n",
        "Train_DataLoader, Val_DataLoader, Test_DataLoader = CreateDataLoaders(Option, 64)\n",
        "ModelName = \"Model_MLP_IOCN_STL10.pt\"\n",
        "\n",
        "model = MLP_IOCN(27648, 10).to(device)\n",
        "loss_criteria = nn.CrossEntropyLoss()\n",
        "AdamOpt = torch.optim.Adam(model.parameters(), lr=0.0001)\n",
        "\n",
        "ValAccuracy = 0\n",
        "TrainAcc_List= []\n",
        "ValAcc_List= []\n",
        "\n",
        "saved = False\n",
        "if saved == True:\n",
        "    saved_model = torch.load(ModelName, map_location=torch.device('cpu')).to(device)\n",
        "else:\n",
        "    model.train()\n",
        "    Train_Accuracy = 0\n",
        "\n",
        "    for e in range(EPOCHS):\n",
        "        Train_Accuracy = TrainModel(model, loss_criteria, AdamOpt, device, Train_DataLoader)\n",
        "        val_acc = EvaluateModel(model, Val_DataLoader, device)\n",
        "\n",
        "        TrainAcc_List.append(Train_Accuracy.cpu().item())\n",
        "        ValAcc_List.append(val_acc.cpu().item())\n",
        "\n",
        "        print(\"EPOCH - \", e+1, \". Train Accuracy = \", Train_Accuracy.cpu().item(), \", Validation Accuracy = \", val_acc.cpu().item())\n",
        "        \n",
        "        if val_acc.cpu().item() > ValAccuracy:\n",
        "            print(\"Model Re-Saved\")\n",
        "            ValAccuracy = val_acc.cpu().item()\n",
        "            torch.save(model, ModelName)\n",
        "\n",
        "\n",
        "    saved_model = torch.load(ModelName, map_location=torch.device('cpu')).to(device)\n",
        "\n",
        "print()\n",
        "Train_Accuracy = EvaluateModel(saved_model, Train_DataLoader, device)\n",
        "print(\"Train Accuracy = \", Train_Accuracy.cpu().item())\n",
        "Test_Accuracy = EvaluateModel(saved_model, Test_DataLoader, device)\n",
        "print(\"Test Accuracy = \", Test_Accuracy.cpu().item())\n",
        "\n",
        "print(\"Generalization Gap = \", (Train_Accuracy.cpu().item() - Test_Accuracy.cpu().item()))"
      ],
      "metadata": {
        "colab": {
          "base_uri": "https://localhost:8080/"
        },
        "id": "ptf33CgvCeaY",
        "outputId": "8dc63563-9ef5-4916-d276-0bcbb3bd6d89"
      },
      "execution_count": 14,
      "outputs": [
        {
          "output_type": "stream",
          "name": "stdout",
          "text": [
            "Downloading http://ai.stanford.edu/~acoates/stl10/stl10_binary.tar.gz to ./stl10_binary.tar.gz\n"
          ]
        },
        {
          "output_type": "stream",
          "name": "stderr",
          "text": [
            "100%|██████████| 2640397119/2640397119 [01:06<00:00, 39710076.79it/s]\n"
          ]
        },
        {
          "output_type": "stream",
          "name": "stdout",
          "text": [
            "Extracting ./stl10_binary.tar.gz to ./\n",
            "Files already downloaded and verified\n"
          ]
        },
        {
          "output_type": "stream",
          "name": "stderr",
          "text": [
            "100%|██████████| 67/67 [00:02<00:00, 29.58it/s]\n",
            "100%|██████████| 12/12 [00:00<00:00, 34.56it/s]\n"
          ]
        },
        {
          "output_type": "stream",
          "name": "stdout",
          "text": [
            "EPOCH -  1 . Train Accuracy =  0.16094118356704712 , Validation Accuracy =  0.18666666746139526\n",
            "Model Re-Saved\n"
          ]
        },
        {
          "output_type": "stream",
          "name": "stderr",
          "text": [
            "100%|██████████| 67/67 [00:02<00:00, 32.30it/s]\n",
            "100%|██████████| 12/12 [00:00<00:00, 35.96it/s]\n"
          ]
        },
        {
          "output_type": "stream",
          "name": "stdout",
          "text": [
            "EPOCH -  2 . Train Accuracy =  0.17717647552490234 , Validation Accuracy =  0.17733332514762878\n"
          ]
        },
        {
          "output_type": "stream",
          "name": "stderr",
          "text": [
            "100%|██████████| 67/67 [00:02<00:00, 24.56it/s]\n",
            "100%|██████████| 12/12 [00:00<00:00, 34.74it/s]\n"
          ]
        },
        {
          "output_type": "stream",
          "name": "stdout",
          "text": [
            "EPOCH -  3 . Train Accuracy =  0.18352942168712616 , Validation Accuracy =  0.18133333325386047\n"
          ]
        },
        {
          "output_type": "stream",
          "name": "stderr",
          "text": [
            "100%|██████████| 67/67 [00:02<00:00, 33.25it/s]\n",
            "100%|██████████| 12/12 [00:00<00:00, 35.66it/s]\n"
          ]
        },
        {
          "output_type": "stream",
          "name": "stdout",
          "text": [
            "EPOCH -  4 . Train Accuracy =  0.20282353460788727 , Validation Accuracy =  0.20133332908153534\n",
            "Model Re-Saved\n"
          ]
        },
        {
          "output_type": "stream",
          "name": "stderr",
          "text": [
            "100%|██████████| 67/67 [00:02<00:00, 33.29it/s]\n",
            "100%|██████████| 12/12 [00:00<00:00, 36.41it/s]\n"
          ]
        },
        {
          "output_type": "stream",
          "name": "stdout",
          "text": [
            "EPOCH -  5 . Train Accuracy =  0.23905882239341736 , Validation Accuracy =  0.24799999594688416\n",
            "Model Re-Saved\n"
          ]
        },
        {
          "output_type": "stream",
          "name": "stderr",
          "text": [
            "100%|██████████| 67/67 [00:02<00:00, 32.97it/s]\n",
            "100%|██████████| 12/12 [00:00<00:00, 35.62it/s]\n"
          ]
        },
        {
          "output_type": "stream",
          "name": "stdout",
          "text": [
            "EPOCH -  6 . Train Accuracy =  0.26376470923423767 , Validation Accuracy =  0.25466665625572205\n",
            "Model Re-Saved\n"
          ]
        },
        {
          "output_type": "stream",
          "name": "stderr",
          "text": [
            "100%|██████████| 67/67 [00:02<00:00, 25.16it/s]\n",
            "100%|██████████| 12/12 [00:00<00:00, 23.43it/s]\n"
          ]
        },
        {
          "output_type": "stream",
          "name": "stdout",
          "text": [
            "EPOCH -  7 . Train Accuracy =  0.28564706444740295 , Validation Accuracy =  0.2746666669845581\n",
            "Model Re-Saved\n"
          ]
        },
        {
          "output_type": "stream",
          "name": "stderr",
          "text": [
            "100%|██████████| 67/67 [00:02<00:00, 28.78it/s]\n",
            "100%|██████████| 12/12 [00:00<00:00, 35.01it/s]\n"
          ]
        },
        {
          "output_type": "stream",
          "name": "stdout",
          "text": [
            "EPOCH -  8 . Train Accuracy =  0.288470596075058 , Validation Accuracy =  0.2693333327770233\n"
          ]
        },
        {
          "output_type": "stream",
          "name": "stderr",
          "text": [
            "100%|██████████| 67/67 [00:02<00:00, 32.29it/s]\n",
            "100%|██████████| 12/12 [00:00<00:00, 37.17it/s]\n"
          ]
        },
        {
          "output_type": "stream",
          "name": "stdout",
          "text": [
            "EPOCH -  9 . Train Accuracy =  0.3047058880329132 , Validation Accuracy =  0.281333327293396\n",
            "Model Re-Saved\n"
          ]
        },
        {
          "output_type": "stream",
          "name": "stderr",
          "text": [
            "100%|██████████| 67/67 [00:02<00:00, 33.35it/s]\n",
            "100%|██████████| 12/12 [00:00<00:00, 34.25it/s]\n"
          ]
        },
        {
          "output_type": "stream",
          "name": "stdout",
          "text": [
            "EPOCH -  10 . Train Accuracy =  0.32282352447509766 , Validation Accuracy =  0.2773333191871643\n"
          ]
        },
        {
          "output_type": "stream",
          "name": "stderr",
          "text": [
            "100%|██████████| 67/67 [00:02<00:00, 33.40it/s]\n",
            "100%|██████████| 12/12 [00:00<00:00, 34.08it/s]\n"
          ]
        },
        {
          "output_type": "stream",
          "name": "stdout",
          "text": [
            "EPOCH -  11 . Train Accuracy =  0.32988235354423523 , Validation Accuracy =  0.2840000092983246\n",
            "Model Re-Saved\n"
          ]
        },
        {
          "output_type": "stream",
          "name": "stderr",
          "text": [
            "100%|██████████| 67/67 [00:02<00:00, 24.35it/s]\n",
            "100%|██████████| 12/12 [00:00<00:00, 35.63it/s]\n"
          ]
        },
        {
          "output_type": "stream",
          "name": "stdout",
          "text": [
            "EPOCH -  12 . Train Accuracy =  0.3315294086933136 , Validation Accuracy =  0.31066665053367615\n",
            "Model Re-Saved\n"
          ]
        },
        {
          "output_type": "stream",
          "name": "stderr",
          "text": [
            "100%|██████████| 67/67 [00:02<00:00, 31.69it/s]\n",
            "100%|██████████| 12/12 [00:00<00:00, 35.96it/s]\n"
          ]
        },
        {
          "output_type": "stream",
          "name": "stdout",
          "text": [
            "EPOCH -  13 . Train Accuracy =  0.35058823227882385 , Validation Accuracy =  0.2653333246707916\n"
          ]
        },
        {
          "output_type": "stream",
          "name": "stderr",
          "text": [
            "100%|██████████| 67/67 [00:02<00:00, 32.52it/s]\n",
            "100%|██████████| 12/12 [00:00<00:00, 35.31it/s]\n"
          ]
        },
        {
          "output_type": "stream",
          "name": "stdout",
          "text": [
            "EPOCH -  14 . Train Accuracy =  0.3508235514163971 , Validation Accuracy =  0.2879999876022339\n"
          ]
        },
        {
          "output_type": "stream",
          "name": "stderr",
          "text": [
            "100%|██████████| 67/67 [00:02<00:00, 32.41it/s]\n",
            "100%|██████████| 12/12 [00:00<00:00, 35.59it/s]\n"
          ]
        },
        {
          "output_type": "stream",
          "name": "stdout",
          "text": [
            "EPOCH -  15 . Train Accuracy =  0.36847060918807983 , Validation Accuracy =  0.30533331632614136\n"
          ]
        },
        {
          "output_type": "stream",
          "name": "stderr",
          "text": [
            "100%|██████████| 67/67 [00:02<00:00, 32.29it/s]\n",
            "100%|██████████| 12/12 [00:00<00:00, 24.82it/s]\n"
          ]
        },
        {
          "output_type": "stream",
          "name": "stdout",
          "text": [
            "EPOCH -  16 . Train Accuracy =  0.3861176669597626 , Validation Accuracy =  0.2786666750907898\n"
          ]
        },
        {
          "output_type": "stream",
          "name": "stderr",
          "text": [
            "100%|██████████| 67/67 [00:03<00:00, 21.30it/s]\n",
            "100%|██████████| 12/12 [00:00<00:00, 36.17it/s]\n"
          ]
        },
        {
          "output_type": "stream",
          "name": "stdout",
          "text": [
            "EPOCH -  17 . Train Accuracy =  0.39670589566230774 , Validation Accuracy =  0.2773333191871643\n"
          ]
        },
        {
          "output_type": "stream",
          "name": "stderr",
          "text": [
            "100%|██████████| 67/67 [00:01<00:00, 33.75it/s]\n",
            "100%|██████████| 12/12 [00:00<00:00, 36.64it/s]\n"
          ]
        },
        {
          "output_type": "stream",
          "name": "stdout",
          "text": [
            "EPOCH -  18 . Train Accuracy =  0.41247060894966125 , Validation Accuracy =  0.31066665053367615\n"
          ]
        },
        {
          "output_type": "stream",
          "name": "stderr",
          "text": [
            "100%|██████████| 67/67 [00:02<00:00, 33.45it/s]\n",
            "100%|██████████| 12/12 [00:00<00:00, 35.21it/s]\n"
          ]
        },
        {
          "output_type": "stream",
          "name": "stdout",
          "text": [
            "EPOCH -  19 . Train Accuracy =  0.43035295605659485 , Validation Accuracy =  0.3226666748523712\n",
            "Model Re-Saved\n"
          ]
        },
        {
          "output_type": "stream",
          "name": "stderr",
          "text": [
            "100%|██████████| 67/67 [00:01<00:00, 33.58it/s]\n",
            "100%|██████████| 12/12 [00:00<00:00, 36.04it/s]\n"
          ]
        },
        {
          "output_type": "stream",
          "name": "stdout",
          "text": [
            "EPOCH -  20 . Train Accuracy =  0.4430588185787201 , Validation Accuracy =  0.30133333802223206\n"
          ]
        },
        {
          "output_type": "stream",
          "name": "stderr",
          "text": [
            "100%|██████████| 67/67 [00:02<00:00, 26.73it/s]\n",
            "100%|██████████| 12/12 [00:00<00:00, 21.86it/s]\n"
          ]
        },
        {
          "output_type": "stream",
          "name": "stdout",
          "text": [
            "EPOCH -  21 . Train Accuracy =  0.45270588994026184 , Validation Accuracy =  0.31466665863990784\n"
          ]
        },
        {
          "output_type": "stream",
          "name": "stderr",
          "text": [
            "100%|██████████| 67/67 [00:02<00:00, 32.03it/s]\n",
            "100%|██████████| 12/12 [00:00<00:00, 34.68it/s]\n"
          ]
        },
        {
          "output_type": "stream",
          "name": "stdout",
          "text": [
            "EPOCH -  22 . Train Accuracy =  0.4727059006690979 , Validation Accuracy =  0.31200000643730164\n"
          ]
        },
        {
          "output_type": "stream",
          "name": "stderr",
          "text": [
            "100%|██████████| 67/67 [00:02<00:00, 33.25it/s]\n",
            "100%|██████████| 12/12 [00:00<00:00, 34.22it/s]\n"
          ]
        },
        {
          "output_type": "stream",
          "name": "stdout",
          "text": [
            "EPOCH -  23 . Train Accuracy =  0.4771764874458313 , Validation Accuracy =  0.30666667222976685\n"
          ]
        },
        {
          "output_type": "stream",
          "name": "stderr",
          "text": [
            "100%|██████████| 67/67 [00:02<00:00, 33.46it/s]\n",
            "100%|██████████| 12/12 [00:00<00:00, 35.76it/s]\n"
          ]
        },
        {
          "output_type": "stream",
          "name": "stdout",
          "text": [
            "EPOCH -  24 . Train Accuracy =  0.49529412388801575 , Validation Accuracy =  0.30399999022483826\n"
          ]
        },
        {
          "output_type": "stream",
          "name": "stderr",
          "text": [
            "100%|██████████| 67/67 [00:02<00:00, 32.77it/s]\n",
            "100%|██████████| 12/12 [00:00<00:00, 36.11it/s]\n"
          ]
        },
        {
          "output_type": "stream",
          "name": "stdout",
          "text": [
            "EPOCH -  25 . Train Accuracy =  0.48941177129745483 , Validation Accuracy =  0.31333333253860474\n"
          ]
        },
        {
          "output_type": "stream",
          "name": "stderr",
          "text": [
            "100%|██████████| 67/67 [00:02<00:00, 24.65it/s]\n",
            "100%|██████████| 12/12 [00:00<00:00, 34.00it/s]\n"
          ]
        },
        {
          "output_type": "stream",
          "name": "stdout",
          "text": [
            "EPOCH -  26 . Train Accuracy =  0.5204706192016602 , Validation Accuracy =  0.3240000009536743\n",
            "Model Re-Saved\n"
          ]
        },
        {
          "output_type": "stream",
          "name": "stderr",
          "text": [
            "100%|██████████| 67/67 [00:02<00:00, 32.47it/s]\n",
            "100%|██████████| 12/12 [00:00<00:00, 33.14it/s]\n"
          ]
        },
        {
          "output_type": "stream",
          "name": "stdout",
          "text": [
            "EPOCH -  27 . Train Accuracy =  0.5364705920219421 , Validation Accuracy =  0.2906666696071625\n"
          ]
        },
        {
          "output_type": "stream",
          "name": "stderr",
          "text": [
            "100%|██████████| 67/67 [00:02<00:00, 32.84it/s]\n",
            "100%|██████████| 12/12 [00:00<00:00, 35.00it/s]\n"
          ]
        },
        {
          "output_type": "stream",
          "name": "stdout",
          "text": [
            "EPOCH -  28 . Train Accuracy =  0.551764726638794 , Validation Accuracy =  0.3319999873638153\n",
            "Model Re-Saved\n"
          ]
        },
        {
          "output_type": "stream",
          "name": "stderr",
          "text": [
            "100%|██████████| 67/67 [00:02<00:00, 32.76it/s]\n",
            "100%|██████████| 12/12 [00:00<00:00, 32.97it/s]\n"
          ]
        },
        {
          "output_type": "stream",
          "name": "stdout",
          "text": [
            "EPOCH -  29 . Train Accuracy =  0.5665882229804993 , Validation Accuracy =  0.29600000381469727\n"
          ]
        },
        {
          "output_type": "stream",
          "name": "stderr",
          "text": [
            "100%|██████████| 67/67 [00:02<00:00, 30.90it/s]\n",
            "100%|██████████| 12/12 [00:00<00:00, 24.21it/s]\n"
          ]
        },
        {
          "output_type": "stream",
          "name": "stdout",
          "text": [
            "EPOCH -  30 . Train Accuracy =  0.5724706053733826 , Validation Accuracy =  0.3240000009536743\n"
          ]
        },
        {
          "output_type": "stream",
          "name": "stderr",
          "text": [
            "100%|██████████| 67/67 [00:02<00:00, 26.07it/s]\n",
            "100%|██████████| 12/12 [00:00<00:00, 34.43it/s]\n"
          ]
        },
        {
          "output_type": "stream",
          "name": "stdout",
          "text": [
            "EPOCH -  31 . Train Accuracy =  0.5799999833106995 , Validation Accuracy =  0.30933332443237305\n"
          ]
        },
        {
          "output_type": "stream",
          "name": "stderr",
          "text": [
            "100%|██████████| 67/67 [00:02<00:00, 32.83it/s]\n",
            "100%|██████████| 12/12 [00:00<00:00, 34.90it/s]\n"
          ]
        },
        {
          "output_type": "stream",
          "name": "stdout",
          "text": [
            "EPOCH -  32 . Train Accuracy =  0.6197647452354431 , Validation Accuracy =  0.29866665601730347\n"
          ]
        },
        {
          "output_type": "stream",
          "name": "stderr",
          "text": [
            "100%|██████████| 67/67 [00:02<00:00, 32.83it/s]\n",
            "100%|██████████| 12/12 [00:00<00:00, 34.97it/s]\n"
          ]
        },
        {
          "output_type": "stream",
          "name": "stdout",
          "text": [
            "EPOCH -  33 . Train Accuracy =  0.6232941150665283 , Validation Accuracy =  0.3173333406448364\n"
          ]
        },
        {
          "output_type": "stream",
          "name": "stderr",
          "text": [
            "100%|██████████| 67/67 [00:02<00:00, 32.16it/s]\n",
            "100%|██████████| 12/12 [00:00<00:00, 34.89it/s]\n"
          ]
        },
        {
          "output_type": "stream",
          "name": "stdout",
          "text": [
            "EPOCH -  34 . Train Accuracy =  0.6310588121414185 , Validation Accuracy =  0.31599998474121094\n"
          ]
        },
        {
          "output_type": "stream",
          "name": "stderr",
          "text": [
            "100%|██████████| 67/67 [00:02<00:00, 28.11it/s]\n",
            "100%|██████████| 12/12 [00:00<00:00, 24.06it/s]\n"
          ]
        },
        {
          "output_type": "stream",
          "name": "stdout",
          "text": [
            "EPOCH -  35 . Train Accuracy =  0.6548235416412354 , Validation Accuracy =  0.29466667771339417\n"
          ]
        },
        {
          "output_type": "stream",
          "name": "stderr",
          "text": [
            "100%|██████████| 67/67 [00:02<00:00, 29.02it/s]\n",
            "100%|██████████| 12/12 [00:00<00:00, 35.72it/s]\n"
          ]
        },
        {
          "output_type": "stream",
          "name": "stdout",
          "text": [
            "EPOCH -  36 . Train Accuracy =  0.6571764945983887 , Validation Accuracy =  0.31200000643730164\n"
          ]
        },
        {
          "output_type": "stream",
          "name": "stderr",
          "text": [
            "100%|██████████| 67/67 [00:02<00:00, 32.15it/s]\n",
            "100%|██████████| 12/12 [00:00<00:00, 35.61it/s]\n"
          ]
        },
        {
          "output_type": "stream",
          "name": "stdout",
          "text": [
            "EPOCH -  37 . Train Accuracy =  0.6743529438972473 , Validation Accuracy =  0.2826666533946991\n"
          ]
        },
        {
          "output_type": "stream",
          "name": "stderr",
          "text": [
            "100%|██████████| 67/67 [00:02<00:00, 32.43it/s]\n",
            "100%|██████████| 12/12 [00:00<00:00, 35.89it/s]\n"
          ]
        },
        {
          "output_type": "stream",
          "name": "stdout",
          "text": [
            "EPOCH -  38 . Train Accuracy =  0.6585882306098938 , Validation Accuracy =  0.3319999873638153\n"
          ]
        },
        {
          "output_type": "stream",
          "name": "stderr",
          "text": [
            "100%|██████████| 67/67 [00:02<00:00, 32.82it/s]\n",
            "100%|██████████| 12/12 [00:00<00:00, 35.92it/s]\n"
          ]
        },
        {
          "output_type": "stream",
          "name": "stdout",
          "text": [
            "EPOCH -  39 . Train Accuracy =  0.7047058939933777 , Validation Accuracy =  0.30666667222976685\n"
          ]
        },
        {
          "output_type": "stream",
          "name": "stderr",
          "text": [
            "100%|██████████| 67/67 [00:02<00:00, 26.23it/s]\n",
            "100%|██████████| 12/12 [00:00<00:00, 23.92it/s]\n"
          ]
        },
        {
          "output_type": "stream",
          "name": "stdout",
          "text": [
            "EPOCH -  40 . Train Accuracy =  0.7164705991744995 , Validation Accuracy =  0.31333333253860474\n"
          ]
        },
        {
          "output_type": "stream",
          "name": "stderr",
          "text": [
            "100%|██████████| 67/67 [00:02<00:00, 32.31it/s]\n",
            "100%|██████████| 12/12 [00:00<00:00, 35.61it/s]\n"
          ]
        },
        {
          "output_type": "stream",
          "name": "stdout",
          "text": [
            "EPOCH -  41 . Train Accuracy =  0.7268235683441162 , Validation Accuracy =  0.29866665601730347\n"
          ]
        },
        {
          "output_type": "stream",
          "name": "stderr",
          "text": [
            "100%|██████████| 67/67 [00:02<00:00, 32.93it/s]\n",
            "100%|██████████| 12/12 [00:00<00:00, 34.68it/s]\n"
          ]
        },
        {
          "output_type": "stream",
          "name": "stdout",
          "text": [
            "EPOCH -  42 . Train Accuracy =  0.7308235168457031 , Validation Accuracy =  0.3199999928474426\n"
          ]
        },
        {
          "output_type": "stream",
          "name": "stderr",
          "text": [
            "100%|██████████| 67/67 [00:02<00:00, 32.18it/s]\n",
            "100%|██████████| 12/12 [00:00<00:00, 35.23it/s]\n"
          ]
        },
        {
          "output_type": "stream",
          "name": "stdout",
          "text": [
            "EPOCH -  43 . Train Accuracy =  0.7428235411643982 , Validation Accuracy =  0.3213333189487457\n"
          ]
        },
        {
          "output_type": "stream",
          "name": "stderr",
          "text": [
            "100%|██████████| 67/67 [00:02<00:00, 31.96it/s]\n",
            "100%|██████████| 12/12 [00:00<00:00, 34.69it/s]\n"
          ]
        },
        {
          "output_type": "stream",
          "name": "stdout",
          "text": [
            "EPOCH -  44 . Train Accuracy =  0.7291764616966248 , Validation Accuracy =  0.2879999876022339\n"
          ]
        },
        {
          "output_type": "stream",
          "name": "stderr",
          "text": [
            "100%|██████████| 67/67 [00:02<00:00, 24.26it/s]\n",
            "100%|██████████| 12/12 [00:00<00:00, 35.55it/s]\n"
          ]
        },
        {
          "output_type": "stream",
          "name": "stdout",
          "text": [
            "EPOCH -  45 . Train Accuracy =  0.7729411721229553 , Validation Accuracy =  0.29466667771339417\n"
          ]
        },
        {
          "output_type": "stream",
          "name": "stderr",
          "text": [
            "100%|██████████| 67/67 [00:02<00:00, 32.46it/s]\n",
            "100%|██████████| 12/12 [00:00<00:00, 34.43it/s]\n"
          ]
        },
        {
          "output_type": "stream",
          "name": "stdout",
          "text": [
            "EPOCH -  46 . Train Accuracy =  0.7771764993667603 , Validation Accuracy =  0.2906666696071625\n"
          ]
        },
        {
          "output_type": "stream",
          "name": "stderr",
          "text": [
            "100%|██████████| 67/67 [00:02<00:00, 32.49it/s]\n",
            "100%|██████████| 12/12 [00:00<00:00, 34.80it/s]\n"
          ]
        },
        {
          "output_type": "stream",
          "name": "stdout",
          "text": [
            "EPOCH -  47 . Train Accuracy =  0.7807059288024902 , Validation Accuracy =  0.2866666615009308\n"
          ]
        },
        {
          "output_type": "stream",
          "name": "stderr",
          "text": [
            "100%|██████████| 67/67 [00:02<00:00, 32.04it/s]\n",
            "100%|██████████| 12/12 [00:00<00:00, 34.51it/s]\n"
          ]
        },
        {
          "output_type": "stream",
          "name": "stdout",
          "text": [
            "EPOCH -  48 . Train Accuracy =  0.7929412126541138 , Validation Accuracy =  0.2893333435058594\n"
          ]
        },
        {
          "output_type": "stream",
          "name": "stderr",
          "text": [
            "100%|██████████| 67/67 [00:02<00:00, 29.75it/s]\n",
            "100%|██████████| 12/12 [00:00<00:00, 23.36it/s]\n"
          ]
        },
        {
          "output_type": "stream",
          "name": "stdout",
          "text": [
            "EPOCH -  49 . Train Accuracy =  0.7969412207603455 , Validation Accuracy =  0.31333333253860474\n"
          ]
        },
        {
          "output_type": "stream",
          "name": "stderr",
          "text": [
            "100%|██████████| 67/67 [00:02<00:00, 26.00it/s]\n",
            "100%|██████████| 12/12 [00:00<00:00, 35.39it/s]\n"
          ]
        },
        {
          "output_type": "stream",
          "name": "stdout",
          "text": [
            "EPOCH -  50 . Train Accuracy =  0.8065882325172424 , Validation Accuracy =  0.29999998211860657\n",
            "\n"
          ]
        },
        {
          "output_type": "stream",
          "name": "stderr",
          "text": [
            "100%|██████████| 67/67 [00:01<00:00, 35.03it/s]\n"
          ]
        },
        {
          "output_type": "stream",
          "name": "stdout",
          "text": [
            "Train Accuracy =  0.560235321521759\n"
          ]
        },
        {
          "output_type": "stream",
          "name": "stderr",
          "text": [
            "100%|██████████| 125/125 [00:03<00:00, 34.56it/s]"
          ]
        },
        {
          "output_type": "stream",
          "name": "stdout",
          "text": [
            "Test Accuracy =  0.3160000145435333\n",
            "Generalization Gap =  0.2442353069782257\n"
          ]
        },
        {
          "output_type": "stream",
          "name": "stderr",
          "text": [
            "\n"
          ]
        }
      ]
    },
    {
      "cell_type": "code",
      "source": [
        "PlotGraph(Epoch_List, TrainAcc_List, ValAcc_List)"
      ],
      "metadata": {
        "colab": {
          "base_uri": "https://localhost:8080/",
          "height": 449
        },
        "id": "ZIL5vpJv_s0A",
        "outputId": "7d944ffe-18f6-4c28-ea35-914e2cde974c"
      },
      "execution_count": 15,
      "outputs": [
        {
          "output_type": "display_data",
          "data": {
            "text/plain": [
              "<Figure size 640x480 with 1 Axes>"
            ],
            "image/png": "[encoded data removed]"
          },
          "metadata": {}
        }
      ]
    },
    {
      "cell_type": "code",
      "source": [],
      "metadata": {
        "id": "BYKuFpX687o3"
      },
      "execution_count": 15,
      "outputs": []
    },
    {
      "cell_type": "code",
      "source": [
        "# -------------------------------------------- SVHN Dataset -----------------------------------------------------------\n",
        "Option = 4\n",
        "Train_DataLoader, Val_DataLoader, Test_DataLoader = CreateDataLoaders(Option, 64)\n",
        "ModelName = \"Model_MLP_IOCN_SVHN.pt\"\n",
        "\n",
        "model = MLP_IOCN(3072, 10).to(device)\n",
        "loss_criteria = nn.CrossEntropyLoss()\n",
        "AdamOpt = torch.optim.Adam(model.parameters(), lr=0.0001)\n",
        "\n",
        "ValAccuracy = 0\n",
        "TrainAcc_List= []\n",
        "ValAcc_List= []\n",
        "\n",
        "saved = False\n",
        "if saved == True:\n",
        "    saved_model = torch.load(ModelName, map_location=torch.device('cpu')).to(device)\n",
        "else:\n",
        "    model.train()\n",
        "    Train_Accuracy = 0\n",
        "\n",
        "    for e in range(EPOCHS):\n",
        "        Train_Accuracy = TrainModel(model, loss_criteria, AdamOpt, device, Train_DataLoader)\n",
        "        val_acc = EvaluateModel(model, Val_DataLoader, device)\n",
        "\n",
        "        TrainAcc_List.append(Train_Accuracy.cpu().item())\n",
        "        ValAcc_List.append(val_acc.cpu().item())\n",
        "\n",
        "        print(\"EPOCH - \", e+1, \". Train Accuracy = \", Train_Accuracy.cpu().item(), \", Validation Accuracy = \", val_acc.cpu().item())\n",
        "        \n",
        "        if val_acc.cpu().item() > ValAccuracy:\n",
        "            print(\"Model Re-Saved\")\n",
        "            ValAccuracy = val_acc.cpu().item()\n",
        "            torch.save(model, ModelName)\n",
        "\n",
        "\n",
        "    saved_model = torch.load(ModelName, map_location=torch.device('cpu')).to(device)\n",
        "\n",
        "print()\n",
        "Train_Accuracy = EvaluateModel(saved_model, Train_DataLoader, device)\n",
        "print(\"Train Accuracy = \", Train_Accuracy.cpu().item())\n",
        "Test_Accuracy = EvaluateModel(saved_model, Test_DataLoader, device)\n",
        "print(\"Test Accuracy = \", Test_Accuracy.cpu().item())\n",
        "\n",
        "print(\"Generalization Gap = \", (Train_Accuracy.cpu().item() - Test_Accuracy.cpu().item()))"
      ],
      "metadata": {
        "colab": {
          "base_uri": "https://localhost:8080/"
        },
        "id": "xqIlMsZd872I",
        "outputId": "4e571b2b-df17-4530-a20d-1e8d9ff84a98"
      },
      "execution_count": 16,
      "outputs": [
        {
          "output_type": "stream",
          "name": "stdout",
          "text": [
            "Downloading http://ufldl.stanford.edu/housenumbers/train_32x32.mat to ./train_32x32.mat\n"
          ]
        },
        {
          "output_type": "stream",
          "name": "stderr",
          "text": [
            "100%|██████████| 182040794/182040794 [00:05<00:00, 31886255.29it/s]\n"
          ]
        },
        {
          "output_type": "stream",
          "name": "stdout",
          "text": [
            "73257\n",
            "Downloading http://ufldl.stanford.edu/housenumbers/test_32x32.mat to ./test_32x32.mat\n"
          ]
        },
        {
          "output_type": "stream",
          "name": "stderr",
          "text": [
            "100%|██████████| 64275384/64275384 [00:03<00:00, 21195769.74it/s]\n",
            "100%|██████████| 973/973 [00:14<00:00, 68.02it/s]\n",
            "100%|██████████| 172/172 [00:02<00:00, 64.57it/s]\n"
          ]
        },
        {
          "output_type": "stream",
          "name": "stdout",
          "text": [
            "EPOCH -  1 . Train Accuracy =  0.2154557704925537 , Validation Accuracy =  0.2603512406349182\n",
            "Model Re-Saved\n"
          ]
        },
        {
          "output_type": "stream",
          "name": "stderr",
          "text": [
            "100%|██████████| 973/973 [00:14<00:00, 69.22it/s]\n",
            "100%|██████████| 172/172 [00:02<00:00, 83.42it/s]\n"
          ]
        },
        {
          "output_type": "stream",
          "name": "stdout",
          "text": [
            "EPOCH -  2 . Train Accuracy =  0.30352669954299927 , Validation Accuracy =  0.34452635049819946\n",
            "Model Re-Saved\n"
          ]
        },
        {
          "output_type": "stream",
          "name": "stderr",
          "text": [
            "100%|██████████| 973/973 [00:14<00:00, 68.26it/s]\n",
            "100%|██████████| 172/172 [00:02<00:00, 77.47it/s]\n"
          ]
        },
        {
          "output_type": "stream",
          "name": "stdout",
          "text": [
            "EPOCH -  3 . Train Accuracy =  0.34929659962654114 , Validation Accuracy =  0.3581763505935669\n",
            "Model Re-Saved\n"
          ]
        },
        {
          "output_type": "stream",
          "name": "stderr",
          "text": [
            "100%|██████████| 973/973 [00:14<00:00, 66.42it/s]\n",
            "100%|██████████| 172/172 [00:02<00:00, 72.15it/s]\n"
          ]
        },
        {
          "output_type": "stream",
          "name": "stdout",
          "text": [
            "EPOCH -  4 . Train Accuracy =  0.41779085993766785 , Validation Accuracy =  0.4583674371242523\n",
            "Model Re-Saved\n"
          ]
        },
        {
          "output_type": "stream",
          "name": "stderr",
          "text": [
            "100%|██████████| 973/973 [00:14<00:00, 68.14it/s]\n",
            "100%|██████████| 172/172 [00:02<00:00, 84.45it/s]\n"
          ]
        },
        {
          "output_type": "stream",
          "name": "stdout",
          "text": [
            "EPOCH -  5 . Train Accuracy =  0.484582781791687 , Validation Accuracy =  0.5086904764175415\n",
            "Model Re-Saved\n"
          ]
        },
        {
          "output_type": "stream",
          "name": "stderr",
          "text": [
            "100%|██████████| 973/973 [00:14<00:00, 69.42it/s]\n",
            "100%|██████████| 172/172 [00:02<00:00, 81.81it/s]\n"
          ]
        },
        {
          "output_type": "stream",
          "name": "stdout",
          "text": [
            "EPOCH -  6 . Train Accuracy =  0.5309629440307617 , Validation Accuracy =  0.5402675271034241\n",
            "Model Re-Saved\n"
          ]
        },
        {
          "output_type": "stream",
          "name": "stderr",
          "text": [
            "100%|██████████| 973/973 [00:14<00:00, 65.46it/s]\n",
            "100%|██████████| 172/172 [00:02<00:00, 82.94it/s]\n"
          ]
        },
        {
          "output_type": "stream",
          "name": "stdout",
          "text": [
            "EPOCH -  7 . Train Accuracy =  0.5781621336936951 , Validation Accuracy =  0.5990535616874695\n",
            "Model Re-Saved\n"
          ]
        },
        {
          "output_type": "stream",
          "name": "stderr",
          "text": [
            "100%|██████████| 973/973 [00:14<00:00, 67.94it/s]\n",
            "100%|██████████| 172/172 [00:02<00:00, 82.01it/s]\n"
          ]
        },
        {
          "output_type": "stream",
          "name": "stdout",
          "text": [
            "EPOCH -  8 . Train Accuracy =  0.6152437925338745 , Validation Accuracy =  0.6379106044769287\n",
            "Model Re-Saved\n"
          ]
        },
        {
          "output_type": "stream",
          "name": "stderr",
          "text": [
            "100%|██████████| 973/973 [00:14<00:00, 69.23it/s]\n",
            "100%|██████████| 172/172 [00:02<00:00, 72.16it/s]\n"
          ]
        },
        {
          "output_type": "stream",
          "name": "stdout",
          "text": [
            "EPOCH -  9 . Train Accuracy =  0.6374703049659729 , Validation Accuracy =  0.6470106244087219\n",
            "Model Re-Saved\n"
          ]
        },
        {
          "output_type": "stream",
          "name": "stderr",
          "text": [
            "100%|██████████| 973/973 [00:14<00:00, 66.31it/s]\n",
            "100%|██████████| 172/172 [00:02<00:00, 81.61it/s]\n"
          ]
        },
        {
          "output_type": "stream",
          "name": "stdout",
          "text": [
            "EPOCH -  10 . Train Accuracy =  0.6581711769104004 , Validation Accuracy =  0.6634816527366638\n",
            "Model Re-Saved\n"
          ]
        },
        {
          "output_type": "stream",
          "name": "stderr",
          "text": [
            "100%|██████████| 973/973 [00:14<00:00, 68.30it/s]\n",
            "100%|██████████| 172/172 [00:02<00:00, 83.37it/s]\n"
          ]
        },
        {
          "output_type": "stream",
          "name": "stdout",
          "text": [
            "EPOCH -  11 . Train Accuracy =  0.6736686825752258 , Validation Accuracy =  0.6704886555671692\n",
            "Model Re-Saved\n"
          ]
        },
        {
          "output_type": "stream",
          "name": "stderr",
          "text": [
            "100%|██████████| 973/973 [00:14<00:00, 67.82it/s]\n",
            "100%|██████████| 172/172 [00:02<00:00, 65.67it/s]\n"
          ]
        },
        {
          "output_type": "stream",
          "name": "stdout",
          "text": [
            "EPOCH -  12 . Train Accuracy =  0.6866448521614075 , Validation Accuracy =  0.6865956783294678\n",
            "Model Re-Saved\n"
          ]
        },
        {
          "output_type": "stream",
          "name": "stderr",
          "text": [
            "100%|██████████| 973/973 [00:14<00:00, 68.34it/s]\n",
            "100%|██████████| 172/172 [00:02<00:00, 84.11it/s]\n"
          ]
        },
        {
          "output_type": "stream",
          "name": "stdout",
          "text": [
            "EPOCH -  13 . Train Accuracy =  0.7014036178588867 , Validation Accuracy =  0.6944217085838318\n",
            "Model Re-Saved\n"
          ]
        },
        {
          "output_type": "stream",
          "name": "stderr",
          "text": [
            "100%|██████████| 973/973 [00:14<00:00, 68.00it/s]\n",
            "100%|██████████| 172/172 [00:02<00:00, 82.83it/s]\n"
          ]
        },
        {
          "output_type": "stream",
          "name": "stdout",
          "text": [
            "EPOCH -  14 . Train Accuracy =  0.7119547724723816 , Validation Accuracy =  0.6959686875343323\n",
            "Model Re-Saved\n"
          ]
        },
        {
          "output_type": "stream",
          "name": "stderr",
          "text": [
            "100%|██████████| 973/973 [00:14<00:00, 68.06it/s]\n",
            "100%|██████████| 172/172 [00:02<00:00, 62.68it/s]\n"
          ]
        },
        {
          "output_type": "stream",
          "name": "stdout",
          "text": [
            "EPOCH -  15 . Train Accuracy =  0.7219599485397339 , Validation Accuracy =  0.7248157262802124\n",
            "Model Re-Saved\n"
          ]
        },
        {
          "output_type": "stream",
          "name": "stderr",
          "text": [
            "100%|██████████| 973/973 [00:14<00:00, 68.88it/s]\n",
            "100%|██████████| 172/172 [00:02<00:00, 78.66it/s]\n"
          ]
        },
        {
          "output_type": "stream",
          "name": "stdout",
          "text": [
            "EPOCH -  16 . Train Accuracy =  0.7302467226982117 , Validation Accuracy =  0.7158067226409912\n"
          ]
        },
        {
          "output_type": "stream",
          "name": "stderr",
          "text": [
            "100%|██████████| 973/973 [00:13<00:00, 70.00it/s]\n",
            "100%|██████████| 172/172 [00:02<00:00, 81.34it/s]\n"
          ]
        },
        {
          "output_type": "stream",
          "name": "stdout",
          "text": [
            "EPOCH -  17 . Train Accuracy =  0.7366544604301453 , Validation Accuracy =  0.7218127250671387\n"
          ]
        },
        {
          "output_type": "stream",
          "name": "stderr",
          "text": [
            "100%|██████████| 973/973 [00:14<00:00, 68.15it/s]\n",
            "100%|██████████| 172/172 [00:02<00:00, 69.92it/s]\n"
          ]
        },
        {
          "output_type": "stream",
          "name": "stdout",
          "text": [
            "EPOCH -  18 . Train Accuracy =  0.7448930740356445 , Validation Accuracy =  0.7283647060394287\n",
            "Model Re-Saved\n"
          ]
        },
        {
          "output_type": "stream",
          "name": "stderr",
          "text": [
            "100%|██████████| 973/973 [00:14<00:00, 68.22it/s]\n",
            "100%|██████████| 172/172 [00:02<00:00, 83.38it/s]\n"
          ]
        },
        {
          "output_type": "stream",
          "name": "stdout",
          "text": [
            "EPOCH -  19 . Train Accuracy =  0.75030517578125 , Validation Accuracy =  0.7390117049217224\n",
            "Model Re-Saved\n"
          ]
        },
        {
          "output_type": "stream",
          "name": "stderr",
          "text": [
            "100%|██████████| 973/973 [00:13<00:00, 69.99it/s]\n",
            "100%|██████████| 172/172 [00:02<00:00, 85.20it/s]\n"
          ]
        },
        {
          "output_type": "stream",
          "name": "stdout",
          "text": [
            "EPOCH -  20 . Train Accuracy =  0.7544164061546326 , Validation Accuracy =  0.736372709274292\n"
          ]
        },
        {
          "output_type": "stream",
          "name": "stderr",
          "text": [
            "100%|██████████| 973/973 [00:14<00:00, 68.65it/s]\n",
            "100%|██████████| 172/172 [00:02<00:00, 73.09it/s]\n"
          ]
        },
        {
          "output_type": "stream",
          "name": "stdout",
          "text": [
            "EPOCH -  21 . Train Accuracy =  0.7591540217399597 , Validation Accuracy =  0.7323687076568604\n"
          ]
        },
        {
          "output_type": "stream",
          "name": "stderr",
          "text": [
            "100%|██████████| 973/973 [00:13<00:00, 70.79it/s]\n",
            "100%|██████████| 172/172 [00:01<00:00, 86.54it/s]\n"
          ]
        },
        {
          "output_type": "stream",
          "name": "stdout",
          "text": [
            "EPOCH -  22 . Train Accuracy =  0.7633455395698547 , Validation Accuracy =  0.7401947379112244\n",
            "Model Re-Saved\n"
          ]
        },
        {
          "output_type": "stream",
          "name": "stderr",
          "text": [
            "100%|██████████| 973/973 [00:14<00:00, 69.11it/s]\n",
            "100%|██████████| 172/172 [00:02<00:00, 85.72it/s]\n"
          ]
        },
        {
          "output_type": "stream",
          "name": "stdout",
          "text": [
            "EPOCH -  23 . Train Accuracy =  0.7669589519500732 , Validation Accuracy =  0.7479297518730164\n",
            "Model Re-Saved\n"
          ]
        },
        {
          "output_type": "stream",
          "name": "stderr",
          "text": [
            "100%|██████████| 973/973 [00:14<00:00, 65.22it/s]\n",
            "100%|██████████| 172/172 [00:02<00:00, 71.95it/s]\n"
          ]
        },
        {
          "output_type": "stream",
          "name": "stdout",
          "text": [
            "EPOCH -  24 . Train Accuracy =  0.773479163646698 , Validation Accuracy =  0.7597597241401672\n",
            "Model Re-Saved\n"
          ]
        },
        {
          "output_type": "stream",
          "name": "stderr",
          "text": [
            "100%|██████████| 973/973 [00:14<00:00, 67.79it/s]\n",
            "100%|██████████| 172/172 [00:02<00:00, 81.71it/s]\n"
          ]
        },
        {
          "output_type": "stream",
          "name": "stdout",
          "text": [
            "EPOCH -  25 . Train Accuracy =  0.7758238911628723 , Validation Accuracy =  0.7604877352714539\n",
            "Model Re-Saved\n"
          ]
        },
        {
          "output_type": "stream",
          "name": "stderr",
          "text": [
            "100%|██████████| 973/973 [00:13<00:00, 69.55it/s]\n",
            "100%|██████████| 172/172 [00:02<00:00, 82.22it/s]\n"
          ]
        },
        {
          "output_type": "stream",
          "name": "stdout",
          "text": [
            "EPOCH -  26 . Train Accuracy =  0.7794051766395569 , Validation Accuracy =  0.733187735080719\n"
          ]
        },
        {
          "output_type": "stream",
          "name": "stderr",
          "text": [
            "100%|██████████| 973/973 [00:14<00:00, 67.09it/s]\n",
            "100%|██████████| 172/172 [00:02<00:00, 80.54it/s]\n"
          ]
        },
        {
          "output_type": "stream",
          "name": "stdout",
          "text": [
            "EPOCH -  27 . Train Accuracy =  0.7807862758636475 , Validation Accuracy =  0.7648557424545288\n",
            "Model Re-Saved\n"
          ]
        },
        {
          "output_type": "stream",
          "name": "stderr",
          "text": [
            "100%|██████████| 973/973 [00:13<00:00, 69.96it/s]\n",
            "100%|██████████| 172/172 [00:02<00:00, 81.79it/s]\n"
          ]
        },
        {
          "output_type": "stream",
          "name": "stdout",
          "text": [
            "EPOCH -  28 . Train Accuracy =  0.7859896421432495 , Validation Accuracy =  0.7684047222137451\n",
            "Model Re-Saved\n"
          ]
        },
        {
          "output_type": "stream",
          "name": "stderr",
          "text": [
            "100%|██████████| 973/973 [00:14<00:00, 68.69it/s]\n",
            "100%|██████████| 172/172 [00:02<00:00, 80.85it/s]\n"
          ]
        },
        {
          "output_type": "stream",
          "name": "stdout",
          "text": [
            "EPOCH -  29 . Train Accuracy =  0.7885912656784058 , Validation Accuracy =  0.778323769569397\n",
            "Model Re-Saved\n"
          ]
        },
        {
          "output_type": "stream",
          "name": "stderr",
          "text": [
            "100%|██████████| 973/973 [00:14<00:00, 66.32it/s]\n",
            "100%|██████████| 172/172 [00:02<00:00, 81.83it/s]\n"
          ]
        },
        {
          "output_type": "stream",
          "name": "stdout",
          "text": [
            "EPOCH -  30 . Train Accuracy =  0.7925419211387634 , Validation Accuracy =  0.7669487595558167\n"
          ]
        },
        {
          "output_type": "stream",
          "name": "stderr",
          "text": [
            "100%|██████████| 973/973 [00:13<00:00, 69.97it/s]\n",
            "100%|██████████| 172/172 [00:02<00:00, 84.45it/s]\n"
          ]
        },
        {
          "output_type": "stream",
          "name": "stdout",
          "text": [
            "EPOCH -  31 . Train Accuracy =  0.793393075466156 , Validation Accuracy =  0.7538447380065918\n"
          ]
        },
        {
          "output_type": "stream",
          "name": "stderr",
          "text": [
            "100%|██████████| 973/973 [00:13<00:00, 69.90it/s]\n",
            "100%|██████████| 172/172 [00:02<00:00, 84.20it/s]\n"
          ]
        },
        {
          "output_type": "stream",
          "name": "stdout",
          "text": [
            "EPOCH -  32 . Train Accuracy =  0.7955772280693054 , Validation Accuracy =  0.7709527611732483\n"
          ]
        },
        {
          "output_type": "stream",
          "name": "stderr",
          "text": [
            "100%|██████████| 973/973 [00:14<00:00, 66.08it/s]\n",
            "100%|██████████| 172/172 [00:02<00:00, 83.88it/s]\n"
          ]
        },
        {
          "output_type": "stream",
          "name": "stdout",
          "text": [
            "EPOCH -  33 . Train Accuracy =  0.7972634434700012 , Validation Accuracy =  0.7735007405281067\n"
          ]
        },
        {
          "output_type": "stream",
          "name": "stderr",
          "text": [
            "100%|██████████| 973/973 [00:14<00:00, 69.34it/s]\n",
            "100%|██████████| 172/172 [00:02<00:00, 85.66it/s]\n"
          ]
        },
        {
          "output_type": "stream",
          "name": "stdout",
          "text": [
            "EPOCH -  34 . Train Accuracy =  0.7991424202919006 , Validation Accuracy =  0.7804167866706848\n",
            "Model Re-Saved\n"
          ]
        },
        {
          "output_type": "stream",
          "name": "stderr",
          "text": [
            "100%|██████████| 973/973 [00:13<00:00, 70.13it/s]\n",
            "100%|██████████| 172/172 [00:02<00:00, 84.86it/s]\n"
          ]
        },
        {
          "output_type": "stream",
          "name": "stdout",
          "text": [
            "EPOCH -  35 . Train Accuracy =  0.801455020904541 , Validation Accuracy =  0.7686777710914612\n"
          ]
        },
        {
          "output_type": "stream",
          "name": "stderr",
          "text": [
            "100%|██████████| 973/973 [00:14<00:00, 67.16it/s]\n",
            "100%|██████████| 172/172 [00:02<00:00, 83.10it/s]\n"
          ]
        },
        {
          "output_type": "stream",
          "name": "stdout",
          "text": [
            "EPOCH -  36 . Train Accuracy =  0.8038639426231384 , Validation Accuracy =  0.7825097441673279\n",
            "Model Re-Saved\n"
          ]
        },
        {
          "output_type": "stream",
          "name": "stderr",
          "text": [
            "100%|██████████| 973/973 [00:13<00:00, 70.57it/s]\n",
            "100%|██████████| 172/172 [00:02<00:00, 83.14it/s]\n"
          ]
        },
        {
          "output_type": "stream",
          "name": "stdout",
          "text": [
            "EPOCH -  37 . Train Accuracy =  0.8061605095863342 , Validation Accuracy =  0.7761397361755371\n"
          ]
        },
        {
          "output_type": "stream",
          "name": "stderr",
          "text": [
            "100%|██████████| 973/973 [00:13<00:00, 69.57it/s]\n",
            "100%|██████████| 172/172 [00:02<00:00, 85.56it/s]\n"
          ]
        },
        {
          "output_type": "stream",
          "name": "stdout",
          "text": [
            "EPOCH -  38 . Train Accuracy =  0.8082000613212585 , Validation Accuracy =  0.7841477394104004\n",
            "Model Re-Saved\n"
          ]
        },
        {
          "output_type": "stream",
          "name": "stderr",
          "text": [
            "100%|██████████| 973/973 [00:14<00:00, 67.58it/s]\n",
            "100%|██████████| 172/172 [00:02<00:00, 78.48it/s]\n"
          ]
        },
        {
          "output_type": "stream",
          "name": "stdout",
          "text": [
            "EPOCH -  39 . Train Accuracy =  0.8118616342544556 , Validation Accuracy =  0.7871507406234741\n",
            "Model Re-Saved\n"
          ]
        },
        {
          "output_type": "stream",
          "name": "stderr",
          "text": [
            "100%|██████████| 973/973 [00:14<00:00, 69.27it/s]\n",
            "100%|██████████| 172/172 [00:02<00:00, 81.75it/s]\n"
          ]
        },
        {
          "output_type": "stream",
          "name": "stdout",
          "text": [
            "EPOCH -  40 . Train Accuracy =  0.8110426068305969 , Validation Accuracy =  0.7843297719955444\n"
          ]
        },
        {
          "output_type": "stream",
          "name": "stderr",
          "text": [
            "100%|██████████| 973/973 [00:13<00:00, 70.09it/s]\n",
            "100%|██████████| 172/172 [00:02<00:00, 83.85it/s]\n"
          ]
        },
        {
          "output_type": "stream",
          "name": "stdout",
          "text": [
            "EPOCH -  41 . Train Accuracy =  0.8146721124649048 , Validation Accuracy =  0.7841477394104004\n"
          ]
        },
        {
          "output_type": "stream",
          "name": "stderr",
          "text": [
            "100%|██████████| 973/973 [00:14<00:00, 66.82it/s]\n",
            "100%|██████████| 172/172 [00:02<00:00, 78.28it/s]\n"
          ]
        },
        {
          "output_type": "stream",
          "name": "stdout",
          "text": [
            "EPOCH -  42 . Train Accuracy =  0.8139494061470032 , Validation Accuracy =  0.7949767708778381\n",
            "Model Re-Saved\n"
          ]
        },
        {
          "output_type": "stream",
          "name": "stderr",
          "text": [
            "100%|██████████| 973/973 [00:13<00:00, 69.62it/s]\n",
            "100%|██████████| 172/172 [00:02<00:00, 84.46it/s]\n"
          ]
        },
        {
          "output_type": "stream",
          "name": "stdout",
          "text": [
            "EPOCH -  43 . Train Accuracy =  0.8161656260490417 , Validation Accuracy =  0.7845117449760437\n"
          ]
        },
        {
          "output_type": "stream",
          "name": "stderr",
          "text": [
            "100%|██████████| 973/973 [00:14<00:00, 68.91it/s]\n",
            "100%|██████████| 172/172 [00:02<00:00, 83.21it/s]\n"
          ]
        },
        {
          "output_type": "stream",
          "name": "stdout",
          "text": [
            "EPOCH -  44 . Train Accuracy =  0.8177233934402466 , Validation Accuracy =  0.7914277911186218\n"
          ]
        },
        {
          "output_type": "stream",
          "name": "stderr",
          "text": [
            "100%|██████████| 973/973 [00:14<00:00, 65.93it/s]\n",
            "100%|██████████| 172/172 [00:02<00:00, 84.01it/s]\n"
          ]
        },
        {
          "output_type": "stream",
          "name": "stdout",
          "text": [
            "EPOCH -  45 . Train Accuracy =  0.8203732371330261 , Validation Accuracy =  0.7878787517547607\n"
          ]
        },
        {
          "output_type": "stream",
          "name": "stderr",
          "text": [
            "100%|██████████| 973/973 [00:13<00:00, 69.74it/s]\n",
            "100%|██████████| 172/172 [00:02<00:00, 83.33it/s]\n"
          ]
        },
        {
          "output_type": "stream",
          "name": "stdout",
          "text": [
            "EPOCH -  46 . Train Accuracy =  0.8222843408584595 , Validation Accuracy =  0.7904267907142639\n"
          ]
        },
        {
          "output_type": "stream",
          "name": "stderr",
          "text": [
            "100%|██████████| 973/973 [00:14<00:00, 69.06it/s]\n",
            "100%|██████████| 172/172 [00:02<00:00, 84.42it/s]\n"
          ]
        },
        {
          "output_type": "stream",
          "name": "stdout",
          "text": [
            "EPOCH -  47 . Train Accuracy =  0.823135495185852 , Validation Accuracy =  0.7946127653121948\n"
          ]
        },
        {
          "output_type": "stream",
          "name": "stderr",
          "text": [
            "100%|██████████| 973/973 [00:14<00:00, 66.49it/s]\n",
            "100%|██████████| 172/172 [00:02<00:00, 82.78it/s]\n"
          ]
        },
        {
          "output_type": "stream",
          "name": "stdout",
          "text": [
            "EPOCH -  48 . Train Accuracy =  0.8238903284072876 , Validation Accuracy =  0.797160804271698\n",
            "Model Re-Saved\n"
          ]
        },
        {
          "output_type": "stream",
          "name": "stderr",
          "text": [
            "100%|██████████| 973/973 [00:13<00:00, 70.57it/s]\n",
            "100%|██████████| 172/172 [00:01<00:00, 86.51it/s]\n"
          ]
        },
        {
          "output_type": "stream",
          "name": "stdout",
          "text": [
            "EPOCH -  49 . Train Accuracy =  0.8232479095458984 , Validation Accuracy =  0.7956137657165527\n"
          ]
        },
        {
          "output_type": "stream",
          "name": "stderr",
          "text": [
            "100%|██████████| 973/973 [00:14<00:00, 69.34it/s]\n",
            "100%|██████████| 172/172 [00:02<00:00, 83.22it/s]\n"
          ]
        },
        {
          "output_type": "stream",
          "name": "stdout",
          "text": [
            "EPOCH -  50 . Train Accuracy =  0.8274233937263489 , Validation Accuracy =  0.7995268106460571\n",
            "Model Re-Saved\n",
            "\n"
          ]
        },
        {
          "output_type": "stream",
          "name": "stderr",
          "text": [
            "100%|██████████| 973/973 [00:12<00:00, 78.40it/s]\n"
          ]
        },
        {
          "output_type": "stream",
          "name": "stdout",
          "text": [
            "Train Accuracy =  0.8419734239578247\n"
          ]
        },
        {
          "output_type": "stream",
          "name": "stderr",
          "text": [
            "100%|██████████| 407/407 [00:05<00:00, 70.45it/s]"
          ]
        },
        {
          "output_type": "stream",
          "name": "stdout",
          "text": [
            "Test Accuracy =  0.7707052826881409\n",
            "Generalization Gap =  0.07126814126968384\n"
          ]
        },
        {
          "output_type": "stream",
          "name": "stderr",
          "text": [
            "\n"
          ]
        }
      ]
    },
    {
      "cell_type": "code",
      "source": [
        "PlotGraph(Epoch_List, TrainAcc_List, ValAcc_List)"
      ],
      "metadata": {
        "colab": {
          "base_uri": "https://localhost:8080/",
          "height": 449
        },
        "id": "f-dWwmaC9eaW",
        "outputId": "6d6e457b-33c9-47e5-ef53-d4a32b2eec42"
      },
      "execution_count": 17,
      "outputs": [
        {
          "output_type": "display_data",
          "data": {
            "text/plain": [
              "<Figure size 640x480 with 1 Axes>"
            ],
            "image/png": "[encoded data removed]"
          },
          "metadata": {}
        }
      ]
    },
    {
      "cell_type": "code",
      "source": [],
      "metadata": {
        "id": "FN3A7-uR1ejl"
      },
      "execution_count": 17,
      "outputs": []
    },
    {
      "cell_type": "code",
      "source": [
        "# -------------------------------------------- CIFAR-10 Dataset -----------------------------------------------------------\n",
        "Option = 5\n",
        "Train_DataLoader, Val_DataLoader, Test_DataLoader = CreateDataLoaders(Option, 64)\n",
        "ModelName = \"Model_MLP_IOCN_CIFAR10.pt\"\n",
        "\n",
        "model = MLP_IOCN(3072, 10).to(device)\n",
        "loss_criteria = nn.CrossEntropyLoss()\n",
        "AdamOpt = torch.optim.Adam(model.parameters(), lr=0.0001)\n",
        "\n",
        "ValAccuracy = 0\n",
        "TrainAcc_List = []\n",
        "ValAcc_List = []\n",
        "\n",
        "saved = False\n",
        "if saved == True:\n",
        "    saved_model = torch.load(ModelName, map_location=torch.device('cpu')).to(device)\n",
        "else:\n",
        "    model.train()\n",
        "    Train_Accuracy = 0\n",
        "\n",
        "    for e in range(EPOCHS):\n",
        "        Train_Accuracy = TrainModel(model, loss_criteria, AdamOpt, device, Train_DataLoader)\n",
        "        val_acc = EvaluateModel(model, Val_DataLoader, device)\n",
        "\n",
        "        TrainAcc_List.append(Train_Accuracy.cpu().item())\n",
        "        ValAcc_List.append(val_acc.cpu().item())\n",
        "\n",
        "        print(\"EPOCH - \", e+1, \". Train Accuracy = \", Train_Accuracy.cpu().item(), \", Validation Accuracy = \", val_acc.cpu().item())\n",
        "        \n",
        "        if val_acc.cpu().item() > ValAccuracy:\n",
        "            print(\"Model Re-Saved\")\n",
        "            ValAccuracy = val_acc.cpu().item()\n",
        "            torch.save(model, ModelName)\n",
        "\n",
        "    saved_model = torch.load(ModelName, map_location=torch.device('cpu')).to(device)\n",
        "\n",
        "\n",
        "print()\n",
        "\n",
        "Train_Accuracy = EvaluateModel(saved_model, Train_DataLoader, device)\n",
        "print(\"Train Accuracy = \", Train_Accuracy.cpu().item())\n",
        "Test_Accuracy = EvaluateModel(saved_model, Test_DataLoader, device)\n",
        "print(\"Test Accuracy = \", Test_Accuracy.cpu().item())\n",
        "\n",
        "print(\"Generalization Gap = \", (Train_Accuracy.cpu().item() - Test_Accuracy.cpu().item()))"
      ],
      "metadata": {
        "colab": {
          "base_uri": "https://localhost:8080/"
        },
        "id": "6miU4zCz1cgG",
        "outputId": "b7035628-5344-4dc1-b987-148dcd6d1d89"
      },
      "execution_count": 18,
      "outputs": [
        {
          "output_type": "stream",
          "name": "stdout",
          "text": [
            "Downloading https://www.cs.toronto.edu/~kriz/cifar-10-python.tar.gz to ./cifar-10-python.tar.gz\n"
          ]
        },
        {
          "output_type": "stream",
          "name": "stderr",
          "text": [
            "100%|██████████| 170498071/170498071 [00:01<00:00, 104499735.53it/s]\n"
          ]
        },
        {
          "output_type": "stream",
          "name": "stdout",
          "text": [
            "Extracting ./cifar-10-python.tar.gz to ./\n",
            "Files already downloaded and verified\n"
          ]
        },
        {
          "output_type": "stream",
          "name": "stderr",
          "text": [
            "100%|██████████| 665/665 [00:09<00:00, 69.65it/s]\n",
            "100%|██████████| 118/118 [00:01<00:00, 85.14it/s]\n"
          ]
        },
        {
          "output_type": "stream",
          "name": "stdout",
          "text": [
            "EPOCH -  1 . Train Accuracy =  0.2193882316350937 , Validation Accuracy =  0.2847999930381775\n",
            "Model Re-Saved\n"
          ]
        },
        {
          "output_type": "stream",
          "name": "stderr",
          "text": [
            "100%|██████████| 665/665 [00:09<00:00, 69.62it/s]\n",
            "100%|██████████| 118/118 [00:01<00:00, 86.55it/s]\n"
          ]
        },
        {
          "output_type": "stream",
          "name": "stdout",
          "text": [
            "EPOCH -  2 . Train Accuracy =  0.29811763763427734 , Validation Accuracy =  0.32199999690055847\n",
            "Model Re-Saved\n"
          ]
        },
        {
          "output_type": "stream",
          "name": "stderr",
          "text": [
            "100%|██████████| 665/665 [00:09<00:00, 69.03it/s]\n",
            "100%|██████████| 118/118 [00:01<00:00, 86.76it/s]\n"
          ]
        },
        {
          "output_type": "stream",
          "name": "stdout",
          "text": [
            "EPOCH -  3 . Train Accuracy =  0.3511764705181122 , Validation Accuracy =  0.3702666759490967\n",
            "Model Re-Saved\n"
          ]
        },
        {
          "output_type": "stream",
          "name": "stderr",
          "text": [
            "100%|██████████| 665/665 [00:09<00:00, 70.04it/s]\n",
            "100%|██████████| 118/118 [00:01<00:00, 85.68it/s]\n"
          ]
        },
        {
          "output_type": "stream",
          "name": "stdout",
          "text": [
            "EPOCH -  4 . Train Accuracy =  0.3787294030189514 , Validation Accuracy =  0.38493335247039795\n",
            "Model Re-Saved\n"
          ]
        },
        {
          "output_type": "stream",
          "name": "stderr",
          "text": [
            "100%|██████████| 665/665 [00:09<00:00, 68.53it/s]\n",
            "100%|██████████| 118/118 [00:01<00:00, 88.40it/s]\n"
          ]
        },
        {
          "output_type": "stream",
          "name": "stdout",
          "text": [
            "EPOCH -  5 . Train Accuracy =  0.39729413390159607 , Validation Accuracy =  0.3869333267211914\n",
            "Model Re-Saved\n"
          ]
        },
        {
          "output_type": "stream",
          "name": "stderr",
          "text": [
            "100%|██████████| 665/665 [00:09<00:00, 72.01it/s]\n",
            "100%|██████████| 118/118 [00:01<00:00, 80.21it/s]\n"
          ]
        },
        {
          "output_type": "stream",
          "name": "stdout",
          "text": [
            "EPOCH -  6 . Train Accuracy =  0.4135529398918152 , Validation Accuracy =  0.40346667170524597\n",
            "Model Re-Saved\n"
          ]
        },
        {
          "output_type": "stream",
          "name": "stderr",
          "text": [
            "100%|██████████| 665/665 [00:08<00:00, 77.17it/s]\n",
            "100%|██████████| 118/118 [00:01<00:00, 66.94it/s]\n"
          ]
        },
        {
          "output_type": "stream",
          "name": "stdout",
          "text": [
            "EPOCH -  7 . Train Accuracy =  0.4300941228866577 , Validation Accuracy =  0.4164000153541565\n",
            "Model Re-Saved\n"
          ]
        },
        {
          "output_type": "stream",
          "name": "stderr",
          "text": [
            "100%|██████████| 665/665 [00:08<00:00, 75.01it/s]\n",
            "100%|██████████| 118/118 [00:01<00:00, 87.32it/s]\n"
          ]
        },
        {
          "output_type": "stream",
          "name": "stdout",
          "text": [
            "EPOCH -  8 . Train Accuracy =  0.44294118881225586 , Validation Accuracy =  0.42160001397132874\n",
            "Model Re-Saved\n"
          ]
        },
        {
          "output_type": "stream",
          "name": "stderr",
          "text": [
            "100%|██████████| 665/665 [00:09<00:00, 70.41it/s]\n",
            "100%|██████████| 118/118 [00:01<00:00, 89.46it/s]\n"
          ]
        },
        {
          "output_type": "stream",
          "name": "stdout",
          "text": [
            "EPOCH -  9 . Train Accuracy =  0.45621177554130554 , Validation Accuracy =  0.4306666851043701\n",
            "Model Re-Saved\n"
          ]
        },
        {
          "output_type": "stream",
          "name": "stderr",
          "text": [
            "100%|██████████| 665/665 [00:09<00:00, 69.80it/s]\n",
            "100%|██████████| 118/118 [00:01<00:00, 87.40it/s]\n"
          ]
        },
        {
          "output_type": "stream",
          "name": "stdout",
          "text": [
            "EPOCH -  10 . Train Accuracy =  0.46449410915374756 , Validation Accuracy =  0.4370666742324829\n",
            "Model Re-Saved\n"
          ]
        },
        {
          "output_type": "stream",
          "name": "stderr",
          "text": [
            "100%|██████████| 665/665 [00:09<00:00, 69.80it/s]\n",
            "100%|██████████| 118/118 [00:01<00:00, 88.86it/s]\n"
          ]
        },
        {
          "output_type": "stream",
          "name": "stdout",
          "text": [
            "EPOCH -  11 . Train Accuracy =  0.4755529463291168 , Validation Accuracy =  0.4426666796207428\n",
            "Model Re-Saved\n"
          ]
        },
        {
          "output_type": "stream",
          "name": "stderr",
          "text": [
            "100%|██████████| 665/665 [00:09<00:00, 70.42it/s]\n",
            "100%|██████████| 118/118 [00:01<00:00, 88.16it/s]\n"
          ]
        },
        {
          "output_type": "stream",
          "name": "stdout",
          "text": [
            "EPOCH -  12 . Train Accuracy =  0.48701176047325134 , Validation Accuracy =  0.4496000111103058\n",
            "Model Re-Saved\n"
          ]
        },
        {
          "output_type": "stream",
          "name": "stderr",
          "text": [
            "100%|██████████| 665/665 [00:09<00:00, 70.29it/s]\n",
            "100%|██████████| 118/118 [00:01<00:00, 86.01it/s]\n"
          ]
        },
        {
          "output_type": "stream",
          "name": "stdout",
          "text": [
            "EPOCH -  13 . Train Accuracy =  0.49447059631347656 , Validation Accuracy =  0.45080000162124634\n",
            "Model Re-Saved\n"
          ]
        },
        {
          "output_type": "stream",
          "name": "stderr",
          "text": [
            "100%|██████████| 665/665 [00:09<00:00, 70.91it/s]\n",
            "100%|██████████| 118/118 [00:01<00:00, 87.26it/s]\n"
          ]
        },
        {
          "output_type": "stream",
          "name": "stdout",
          "text": [
            "EPOCH -  14 . Train Accuracy =  0.5044000148773193 , Validation Accuracy =  0.4662666618824005\n",
            "Model Re-Saved\n"
          ]
        },
        {
          "output_type": "stream",
          "name": "stderr",
          "text": [
            "100%|██████████| 665/665 [00:08<00:00, 74.26it/s]\n",
            "100%|██████████| 118/118 [00:01<00:00, 60.59it/s]\n"
          ]
        },
        {
          "output_type": "stream",
          "name": "stdout",
          "text": [
            "EPOCH -  15 . Train Accuracy =  0.5126823782920837 , Validation Accuracy =  0.47466668486595154\n",
            "Model Re-Saved\n"
          ]
        },
        {
          "output_type": "stream",
          "name": "stderr",
          "text": [
            "100%|██████████| 665/665 [00:08<00:00, 75.84it/s]\n",
            "100%|██████████| 118/118 [00:01<00:00, 79.99it/s]\n"
          ]
        },
        {
          "output_type": "stream",
          "name": "stdout",
          "text": [
            "EPOCH -  16 . Train Accuracy =  0.520799994468689 , Validation Accuracy =  0.4588000178337097\n"
          ]
        },
        {
          "output_type": "stream",
          "name": "stderr",
          "text": [
            "100%|██████████| 665/665 [00:09<00:00, 71.28it/s]\n",
            "100%|██████████| 118/118 [00:01<00:00, 87.42it/s]\n"
          ]
        },
        {
          "output_type": "stream",
          "name": "stdout",
          "text": [
            "EPOCH -  17 . Train Accuracy =  0.5232470631599426 , Validation Accuracy =  0.4774666726589203\n",
            "Model Re-Saved\n"
          ]
        },
        {
          "output_type": "stream",
          "name": "stderr",
          "text": [
            "100%|██████████| 665/665 [00:09<00:00, 69.07it/s]\n",
            "100%|██████████| 118/118 [00:01<00:00, 87.48it/s]\n"
          ]
        },
        {
          "output_type": "stream",
          "name": "stdout",
          "text": [
            "EPOCH -  18 . Train Accuracy =  0.5311529636383057 , Validation Accuracy =  0.47866666316986084\n",
            "Model Re-Saved\n"
          ]
        },
        {
          "output_type": "stream",
          "name": "stderr",
          "text": [
            "100%|██████████| 665/665 [00:09<00:00, 71.07it/s]\n",
            "100%|██████████| 118/118 [00:01<00:00, 86.57it/s]\n"
          ]
        },
        {
          "output_type": "stream",
          "name": "stdout",
          "text": [
            "EPOCH -  19 . Train Accuracy =  0.5386117696762085 , Validation Accuracy =  0.47733333706855774\n"
          ]
        },
        {
          "output_type": "stream",
          "name": "stderr",
          "text": [
            "100%|██████████| 665/665 [00:09<00:00, 71.58it/s]\n",
            "100%|██████████| 118/118 [00:01<00:00, 88.57it/s]\n"
          ]
        },
        {
          "output_type": "stream",
          "name": "stdout",
          "text": [
            "EPOCH -  20 . Train Accuracy =  0.5441411733627319 , Validation Accuracy =  0.4761333465576172\n"
          ]
        },
        {
          "output_type": "stream",
          "name": "stderr",
          "text": [
            "100%|██████████| 665/665 [00:09<00:00, 71.01it/s]\n",
            "100%|██████████| 118/118 [00:01<00:00, 87.54it/s]\n"
          ]
        },
        {
          "output_type": "stream",
          "name": "stdout",
          "text": [
            "EPOCH -  21 . Train Accuracy =  0.5497412085533142 , Validation Accuracy =  0.4801333248615265\n",
            "Model Re-Saved\n"
          ]
        },
        {
          "output_type": "stream",
          "name": "stderr",
          "text": [
            "100%|██████████| 665/665 [00:09<00:00, 70.89it/s]\n",
            "100%|██████████| 118/118 [00:01<00:00, 87.93it/s]\n"
          ]
        },
        {
          "output_type": "stream",
          "name": "stdout",
          "text": [
            "EPOCH -  22 . Train Accuracy =  0.5550588369369507 , Validation Accuracy =  0.4761333465576172\n"
          ]
        },
        {
          "output_type": "stream",
          "name": "stderr",
          "text": [
            "100%|██████████| 665/665 [00:08<00:00, 76.65it/s]\n",
            "100%|██████████| 118/118 [00:01<00:00, 62.58it/s]\n"
          ]
        },
        {
          "output_type": "stream",
          "name": "stdout",
          "text": [
            "EPOCH -  23 . Train Accuracy =  0.5642117857933044 , Validation Accuracy =  0.4875999987125397\n",
            "Model Re-Saved\n"
          ]
        },
        {
          "output_type": "stream",
          "name": "stderr",
          "text": [
            "100%|██████████| 665/665 [00:08<00:00, 75.73it/s]\n",
            "100%|██████████| 118/118 [00:01<00:00, 90.39it/s]\n"
          ]
        },
        {
          "output_type": "stream",
          "name": "stdout",
          "text": [
            "EPOCH -  24 . Train Accuracy =  0.5651059150695801 , Validation Accuracy =  0.48559999465942383\n"
          ]
        },
        {
          "output_type": "stream",
          "name": "stderr",
          "text": [
            "100%|██████████| 665/665 [00:09<00:00, 72.08it/s]\n",
            "100%|██████████| 118/118 [00:01<00:00, 90.40it/s]\n"
          ]
        },
        {
          "output_type": "stream",
          "name": "stdout",
          "text": [
            "EPOCH -  25 . Train Accuracy =  0.5726588368415833 , Validation Accuracy =  0.48266667127609253\n"
          ]
        },
        {
          "output_type": "stream",
          "name": "stderr",
          "text": [
            "100%|██████████| 665/665 [00:09<00:00, 70.17it/s]\n",
            "100%|██████████| 118/118 [00:01<00:00, 89.53it/s]\n"
          ]
        },
        {
          "output_type": "stream",
          "name": "stdout",
          "text": [
            "EPOCH -  26 . Train Accuracy =  0.5735764503479004 , Validation Accuracy =  0.48373332619667053\n"
          ]
        },
        {
          "output_type": "stream",
          "name": "stderr",
          "text": [
            "100%|██████████| 665/665 [00:09<00:00, 71.43it/s]\n",
            "100%|██████████| 118/118 [00:01<00:00, 88.40it/s]\n"
          ]
        },
        {
          "output_type": "stream",
          "name": "stdout",
          "text": [
            "EPOCH -  27 . Train Accuracy =  0.5813646912574768 , Validation Accuracy =  0.4830666780471802\n"
          ]
        },
        {
          "output_type": "stream",
          "name": "stderr",
          "text": [
            "100%|██████████| 665/665 [00:09<00:00, 70.95it/s]\n",
            "100%|██████████| 118/118 [00:01<00:00, 88.88it/s]\n"
          ]
        },
        {
          "output_type": "stream",
          "name": "stdout",
          "text": [
            "EPOCH -  28 . Train Accuracy =  0.5851529240608215 , Validation Accuracy =  0.48373332619667053\n"
          ]
        },
        {
          "output_type": "stream",
          "name": "stderr",
          "text": [
            "100%|██████████| 665/665 [00:09<00:00, 70.73it/s]\n",
            "100%|██████████| 118/118 [00:01<00:00, 88.62it/s]\n"
          ]
        },
        {
          "output_type": "stream",
          "name": "stdout",
          "text": [
            "EPOCH -  29 . Train Accuracy =  0.5886588096618652 , Validation Accuracy =  0.4817333519458771\n"
          ]
        },
        {
          "output_type": "stream",
          "name": "stderr",
          "text": [
            "100%|██████████| 665/665 [00:09<00:00, 73.34it/s]\n",
            "100%|██████████| 118/118 [00:01<00:00, 73.85it/s]\n"
          ]
        },
        {
          "output_type": "stream",
          "name": "stdout",
          "text": [
            "EPOCH -  30 . Train Accuracy =  0.5880235433578491 , Validation Accuracy =  0.4858666658401489\n"
          ]
        },
        {
          "output_type": "stream",
          "name": "stderr",
          "text": [
            "100%|██████████| 665/665 [00:08<00:00, 76.13it/s]\n",
            "100%|██████████| 118/118 [00:01<00:00, 67.67it/s]\n"
          ]
        },
        {
          "output_type": "stream",
          "name": "stdout",
          "text": [
            "EPOCH -  31 . Train Accuracy =  0.6002588272094727 , Validation Accuracy =  0.4857333302497864\n"
          ]
        },
        {
          "output_type": "stream",
          "name": "stderr",
          "text": [
            "100%|██████████| 665/665 [00:08<00:00, 74.97it/s]\n",
            "100%|██████████| 118/118 [00:01<00:00, 91.84it/s]\n"
          ]
        },
        {
          "output_type": "stream",
          "name": "stdout",
          "text": [
            "EPOCH -  32 . Train Accuracy =  0.6065647006034851 , Validation Accuracy =  0.5040000081062317\n",
            "Model Re-Saved\n"
          ]
        },
        {
          "output_type": "stream",
          "name": "stderr",
          "text": [
            "100%|██████████| 665/665 [00:09<00:00, 71.32it/s]\n",
            "100%|██████████| 118/118 [00:01<00:00, 86.94it/s]\n"
          ]
        },
        {
          "output_type": "stream",
          "name": "stdout",
          "text": [
            "EPOCH -  33 . Train Accuracy =  0.6089176535606384 , Validation Accuracy =  0.4841333329677582\n"
          ]
        },
        {
          "output_type": "stream",
          "name": "stderr",
          "text": [
            "100%|██████████| 665/665 [00:09<00:00, 71.53it/s]\n",
            "100%|██████████| 118/118 [00:01<00:00, 88.21it/s]\n"
          ]
        },
        {
          "output_type": "stream",
          "name": "stdout",
          "text": [
            "EPOCH -  34 . Train Accuracy =  0.6094353199005127 , Validation Accuracy =  0.4984000027179718\n"
          ]
        },
        {
          "output_type": "stream",
          "name": "stderr",
          "text": [
            "100%|██████████| 665/665 [00:09<00:00, 70.22it/s]\n",
            "100%|██████████| 118/118 [00:01<00:00, 88.33it/s]\n"
          ]
        },
        {
          "output_type": "stream",
          "name": "stdout",
          "text": [
            "EPOCH -  35 . Train Accuracy =  0.6166353225708008 , Validation Accuracy =  0.5009333491325378\n"
          ]
        },
        {
          "output_type": "stream",
          "name": "stderr",
          "text": [
            "100%|██████████| 665/665 [00:09<00:00, 69.14it/s]\n",
            "100%|██████████| 118/118 [00:01<00:00, 86.57it/s]\n"
          ]
        },
        {
          "output_type": "stream",
          "name": "stdout",
          "text": [
            "EPOCH -  36 . Train Accuracy =  0.6228235363960266 , Validation Accuracy =  0.4949333369731903\n"
          ]
        },
        {
          "output_type": "stream",
          "name": "stderr",
          "text": [
            "100%|██████████| 665/665 [00:09<00:00, 69.60it/s]\n",
            "100%|██████████| 118/118 [00:01<00:00, 88.61it/s]\n"
          ]
        },
        {
          "output_type": "stream",
          "name": "stdout",
          "text": [
            "EPOCH -  37 . Train Accuracy =  0.624258816242218 , Validation Accuracy =  0.5002666711807251\n"
          ]
        },
        {
          "output_type": "stream",
          "name": "stderr",
          "text": [
            "100%|██████████| 665/665 [00:08<00:00, 74.08it/s]\n",
            "100%|██████████| 118/118 [00:01<00:00, 70.16it/s]\n"
          ]
        },
        {
          "output_type": "stream",
          "name": "stdout",
          "text": [
            "EPOCH -  38 . Train Accuracy =  0.6264941096305847 , Validation Accuracy =  0.5029333233833313\n"
          ]
        },
        {
          "output_type": "stream",
          "name": "stderr",
          "text": [
            "100%|██████████| 665/665 [00:08<00:00, 75.20it/s]\n",
            "100%|██████████| 118/118 [00:01<00:00, 71.05it/s]\n"
          ]
        },
        {
          "output_type": "stream",
          "name": "stdout",
          "text": [
            "EPOCH -  39 . Train Accuracy =  0.6342353224754333 , Validation Accuracy =  0.5018666982650757\n"
          ]
        },
        {
          "output_type": "stream",
          "name": "stderr",
          "text": [
            "100%|██████████| 665/665 [00:09<00:00, 73.67it/s]\n",
            "100%|██████████| 118/118 [00:01<00:00, 89.84it/s]\n"
          ]
        },
        {
          "output_type": "stream",
          "name": "stdout",
          "text": [
            "EPOCH -  40 . Train Accuracy =  0.6393176317214966 , Validation Accuracy =  0.4949333369731903\n"
          ]
        },
        {
          "output_type": "stream",
          "name": "stderr",
          "text": [
            "100%|██████████| 665/665 [00:09<00:00, 70.74it/s]\n",
            "100%|██████████| 118/118 [00:01<00:00, 89.13it/s]\n"
          ]
        },
        {
          "output_type": "stream",
          "name": "stdout",
          "text": [
            "EPOCH -  41 . Train Accuracy =  0.6435999870300293 , Validation Accuracy =  0.5030666589736938\n"
          ]
        },
        {
          "output_type": "stream",
          "name": "stderr",
          "text": [
            "100%|██████████| 665/665 [00:09<00:00, 71.03it/s]\n",
            "100%|██████████| 118/118 [00:01<00:00, 89.23it/s]\n"
          ]
        },
        {
          "output_type": "stream",
          "name": "stdout",
          "text": [
            "EPOCH -  42 . Train Accuracy =  0.6449646949768066 , Validation Accuracy =  0.5005333423614502\n"
          ]
        },
        {
          "output_type": "stream",
          "name": "stderr",
          "text": [
            "100%|██████████| 665/665 [00:09<00:00, 69.82it/s]\n",
            "100%|██████████| 118/118 [00:01<00:00, 83.20it/s]\n"
          ]
        },
        {
          "output_type": "stream",
          "name": "stdout",
          "text": [
            "EPOCH -  43 . Train Accuracy =  0.6510117650032043 , Validation Accuracy =  0.5013333559036255\n"
          ]
        },
        {
          "output_type": "stream",
          "name": "stderr",
          "text": [
            "100%|██████████| 665/665 [00:09<00:00, 69.09it/s]\n",
            "100%|██████████| 118/118 [00:01<00:00, 88.53it/s]\n"
          ]
        },
        {
          "output_type": "stream",
          "name": "stdout",
          "text": [
            "EPOCH -  44 . Train Accuracy =  0.6537176370620728 , Validation Accuracy =  0.5065333247184753\n",
            "Model Re-Saved\n"
          ]
        },
        {
          "output_type": "stream",
          "name": "stderr",
          "text": [
            "100%|██████████| 665/665 [00:09<00:00, 69.89it/s]\n",
            "100%|██████████| 118/118 [00:01<00:00, 88.88it/s]\n"
          ]
        },
        {
          "output_type": "stream",
          "name": "stdout",
          "text": [
            "EPOCH -  45 . Train Accuracy =  0.6547529697418213 , Validation Accuracy =  0.5076000094413757\n",
            "Model Re-Saved\n"
          ]
        },
        {
          "output_type": "stream",
          "name": "stderr",
          "text": [
            "100%|██████████| 665/665 [00:09<00:00, 73.76it/s]\n",
            "100%|██████████| 118/118 [00:01<00:00, 70.44it/s]\n"
          ]
        },
        {
          "output_type": "stream",
          "name": "stdout",
          "text": [
            "EPOCH -  46 . Train Accuracy =  0.6651529669761658 , Validation Accuracy =  0.49826666712760925\n"
          ]
        },
        {
          "output_type": "stream",
          "name": "stderr",
          "text": [
            "100%|██████████| 665/665 [00:08<00:00, 76.89it/s]\n",
            "100%|██████████| 118/118 [00:01<00:00, 69.97it/s]\n"
          ]
        },
        {
          "output_type": "stream",
          "name": "stdout",
          "text": [
            "EPOCH -  47 . Train Accuracy =  0.6652705669403076 , Validation Accuracy =  0.5038666725158691\n"
          ]
        },
        {
          "output_type": "stream",
          "name": "stderr",
          "text": [
            "100%|██████████| 665/665 [00:09<00:00, 73.66it/s]\n",
            "100%|██████████| 118/118 [00:01<00:00, 91.65it/s]\n"
          ]
        },
        {
          "output_type": "stream",
          "name": "stdout",
          "text": [
            "EPOCH -  48 . Train Accuracy =  0.6644940972328186 , Validation Accuracy =  0.49880000948905945\n"
          ]
        },
        {
          "output_type": "stream",
          "name": "stderr",
          "text": [
            "100%|██████████| 665/665 [00:09<00:00, 70.78it/s]\n",
            "100%|██████████| 118/118 [00:01<00:00, 89.37it/s]\n"
          ]
        },
        {
          "output_type": "stream",
          "name": "stdout",
          "text": [
            "EPOCH -  49 . Train Accuracy =  0.6725412011146545 , Validation Accuracy =  0.5042666792869568\n"
          ]
        },
        {
          "output_type": "stream",
          "name": "stderr",
          "text": [
            "100%|██████████| 665/665 [00:09<00:00, 70.30it/s]\n",
            "100%|██████████| 118/118 [00:01<00:00, 87.72it/s]\n"
          ]
        },
        {
          "output_type": "stream",
          "name": "stdout",
          "text": [
            "EPOCH -  50 . Train Accuracy =  0.681600034236908 , Validation Accuracy =  0.5095999836921692\n",
            "Model Re-Saved\n",
            "\n"
          ]
        },
        {
          "output_type": "stream",
          "name": "stderr",
          "text": [
            "100%|██████████| 665/665 [00:08<00:00, 80.78it/s]\n"
          ]
        },
        {
          "output_type": "stream",
          "name": "stdout",
          "text": [
            "Train Accuracy =  0.6882588267326355\n"
          ]
        },
        {
          "output_type": "stream",
          "name": "stderr",
          "text": [
            "100%|██████████| 157/157 [00:01<00:00, 91.73it/s]"
          ]
        },
        {
          "output_type": "stream",
          "name": "stdout",
          "text": [
            "Test Accuracy =  0.5008999705314636\n",
            "Generalization Gap =  0.18735885620117188\n"
          ]
        },
        {
          "output_type": "stream",
          "name": "stderr",
          "text": [
            "\n"
          ]
        }
      ]
    },
    {
      "cell_type": "code",
      "source": [
        "PlotGraph(Epoch_List, TrainAcc_List, ValAcc_List)"
      ],
      "metadata": {
        "id": "LgeWBZyqwLzG",
        "colab": {
          "base_uri": "https://localhost:8080/",
          "height": 451
        },
        "outputId": "9b369627-f4a3-4d25-e602-735229b16680"
      },
      "execution_count": 19,
      "outputs": [
        {
          "output_type": "display_data",
          "data": {
            "text/plain": [
              "<Figure size 640x480 with 1 Axes>"
            ],
            "image/png": "[encoded data removed]"
          },
          "metadata": {}
        }
      ]
    },
    {
      "cell_type": "code",
      "source": [],
      "metadata": {
        "id": "aI-Iu5Jo5tqx"
      },
      "execution_count": 19,
      "outputs": []
    },
    {
      "cell_type": "code",
      "source": [
        "# -------------------------------------------- CIFAR-100 Dataset -----------------------------------------------------------\n",
        "Option = 6\n",
        "Train_DataLoader, Val_DataLoader, Test_DataLoader = CreateDataLoaders(Option, 64)\n",
        "ModelName = \"Model_MLP_IOCN_CIFAR100.pt\"\n",
        "\n",
        "model = MLP_IOCN(3072, 100).to(device)\n",
        "loss_criteria = nn.CrossEntropyLoss()\n",
        "AdamOpt = torch.optim.Adam(model.parameters(), lr=0.0001)\n",
        "\n",
        "ValAccuracy = 0\n",
        "TrainAcc_List = []\n",
        "ValAcc_List = []\n",
        "\n",
        "saved = False\n",
        "if saved == True:\n",
        "    saved_model = torch.load(ModelName, map_location=torch.device('cpu')).to(device)\n",
        "else:\n",
        "    model.train()\n",
        "    Train_Accuracy = 0\n",
        "\n",
        "    for e in range(EPOCHS):\n",
        "        Train_Accuracy = TrainModel(model, loss_criteria, AdamOpt, device, Train_DataLoader)\n",
        "        val_acc = EvaluateModel(model, Val_DataLoader, device)\n",
        "\n",
        "        TrainAcc_List.append(Train_Accuracy.cpu().item())\n",
        "        ValAcc_List.append(val_acc.cpu().item())\n",
        "\n",
        "        print(\"EPOCH - \", e+1, \". Train Accuracy = \", Train_Accuracy.cpu().item(), \", Validation Accuracy = \", val_acc.cpu().item())\n",
        "        \n",
        "        if val_acc.cpu().item() > ValAccuracy:\n",
        "            print(\"Model Re-Saved\")\n",
        "            ValAccuracy = val_acc.cpu().item()\n",
        "            torch.save(model, ModelName)\n",
        "\n",
        "    saved_model = torch.load(ModelName, map_location=torch.device('cpu')).to(device)\n",
        "\n",
        "\n",
        "print()\n",
        "\n",
        "Train_Accuracy = EvaluateModel(saved_model, Train_DataLoader, device)\n",
        "print(\"Train Accuracy = \", Train_Accuracy.cpu().item())\n",
        "Test_Accuracy = EvaluateModel(saved_model, Test_DataLoader, device)\n",
        "print(\"Test Accuracy = \", Test_Accuracy.cpu().item())\n",
        "\n",
        "print(\"Generalization Gap = \", (Train_Accuracy.cpu().item() - Test_Accuracy.cpu().item()))"
      ],
      "metadata": {
        "colab": {
          "base_uri": "https://localhost:8080/"
        },
        "id": "B1lh_FN95t38",
        "outputId": "df138267-5b42-4651-972c-9ab131703bde"
      },
      "execution_count": 20,
      "outputs": [
        {
          "output_type": "stream",
          "name": "stdout",
          "text": [
            "Downloading https://www.cs.toronto.edu/~kriz/cifar-100-python.tar.gz to ./cifar-100-python.tar.gz\n"
          ]
        },
        {
          "output_type": "stream",
          "name": "stderr",
          "text": [
            "100%|██████████| 169001437/169001437 [00:01<00:00, 104799782.02it/s]\n"
          ]
        },
        {
          "output_type": "stream",
          "name": "stdout",
          "text": [
            "Extracting ./cifar-100-python.tar.gz to ./\n",
            "Files already downloaded and verified\n"
          ]
        },
        {
          "output_type": "stream",
          "name": "stderr",
          "text": [
            "100%|██████████| 665/665 [00:09<00:00, 71.11it/s]\n",
            "100%|██████████| 118/118 [00:01<00:00, 88.17it/s]\n"
          ]
        },
        {
          "output_type": "stream",
          "name": "stdout",
          "text": [
            "EPOCH -  1 . Train Accuracy =  0.022658823058009148 , Validation Accuracy =  0.030666666105389595\n",
            "Model Re-Saved\n"
          ]
        },
        {
          "output_type": "stream",
          "name": "stderr",
          "text": [
            "100%|██████████| 665/665 [00:09<00:00, 70.75it/s]\n",
            "100%|██████████| 118/118 [00:01<00:00, 88.75it/s]\n"
          ]
        },
        {
          "output_type": "stream",
          "name": "stdout",
          "text": [
            "EPOCH -  2 . Train Accuracy =  0.03404705971479416 , Validation Accuracy =  0.036400001496076584\n",
            "Model Re-Saved\n"
          ]
        },
        {
          "output_type": "stream",
          "name": "stderr",
          "text": [
            "100%|██████████| 665/665 [00:09<00:00, 71.04it/s]\n",
            "100%|██████████| 118/118 [00:01<00:00, 87.95it/s]\n"
          ]
        },
        {
          "output_type": "stream",
          "name": "stdout",
          "text": [
            "EPOCH -  3 . Train Accuracy =  0.05416470766067505 , Validation Accuracy =  0.06613333523273468\n",
            "Model Re-Saved\n"
          ]
        },
        {
          "output_type": "stream",
          "name": "stderr",
          "text": [
            "100%|██████████| 665/665 [00:09<00:00, 69.75it/s]\n",
            "100%|██████████| 118/118 [00:01<00:00, 82.28it/s]\n"
          ]
        },
        {
          "output_type": "stream",
          "name": "stdout",
          "text": [
            "EPOCH -  4 . Train Accuracy =  0.08129411935806274 , Validation Accuracy =  0.08666666597127914\n",
            "Model Re-Saved\n"
          ]
        },
        {
          "output_type": "stream",
          "name": "stderr",
          "text": [
            "100%|██████████| 665/665 [00:09<00:00, 70.52it/s]\n",
            "100%|██████████| 118/118 [00:01<00:00, 84.86it/s]\n"
          ]
        },
        {
          "output_type": "stream",
          "name": "stdout",
          "text": [
            "EPOCH -  5 . Train Accuracy =  0.10694117844104767 , Validation Accuracy =  0.11213333159685135\n",
            "Model Re-Saved\n"
          ]
        },
        {
          "output_type": "stream",
          "name": "stderr",
          "text": [
            "100%|██████████| 665/665 [00:09<00:00, 73.04it/s]\n",
            "100%|██████████| 118/118 [00:01<00:00, 73.41it/s]\n"
          ]
        },
        {
          "output_type": "stream",
          "name": "stdout",
          "text": [
            "EPOCH -  6 . Train Accuracy =  0.12254117429256439 , Validation Accuracy =  0.12826666235923767\n",
            "Model Re-Saved\n"
          ]
        },
        {
          "output_type": "stream",
          "name": "stderr",
          "text": [
            "100%|██████████| 665/665 [00:08<00:00, 77.26it/s]\n",
            "100%|██████████| 118/118 [00:01<00:00, 68.23it/s]\n"
          ]
        },
        {
          "output_type": "stream",
          "name": "stdout",
          "text": [
            "EPOCH -  7 . Train Accuracy =  0.137058824300766 , Validation Accuracy =  0.14053332805633545\n",
            "Model Re-Saved\n"
          ]
        },
        {
          "output_type": "stream",
          "name": "stderr",
          "text": [
            "100%|██████████| 665/665 [00:08<00:00, 74.30it/s]\n",
            "100%|██████████| 118/118 [00:01<00:00, 90.61it/s]\n"
          ]
        },
        {
          "output_type": "stream",
          "name": "stdout",
          "text": [
            "EPOCH -  8 . Train Accuracy =  0.1456470638513565 , Validation Accuracy =  0.1393333375453949\n"
          ]
        },
        {
          "output_type": "stream",
          "name": "stderr",
          "text": [
            "100%|██████████| 665/665 [00:09<00:00, 71.66it/s]\n",
            "100%|██████████| 118/118 [00:01<00:00, 87.26it/s]\n"
          ]
        },
        {
          "output_type": "stream",
          "name": "stdout",
          "text": [
            "EPOCH -  9 . Train Accuracy =  0.1584470570087433 , Validation Accuracy =  0.15146666765213013\n",
            "Model Re-Saved\n"
          ]
        },
        {
          "output_type": "stream",
          "name": "stderr",
          "text": [
            "100%|██████████| 665/665 [00:09<00:00, 70.71it/s]\n",
            "100%|██████████| 118/118 [00:01<00:00, 87.39it/s]\n"
          ]
        },
        {
          "output_type": "stream",
          "name": "stdout",
          "text": [
            "EPOCH -  10 . Train Accuracy =  0.16519999504089355 , Validation Accuracy =  0.15333333611488342\n",
            "Model Re-Saved\n"
          ]
        },
        {
          "output_type": "stream",
          "name": "stderr",
          "text": [
            "100%|██████████| 665/665 [00:09<00:00, 70.11it/s]\n",
            "100%|██████████| 118/118 [00:01<00:00, 87.17it/s]\n"
          ]
        },
        {
          "output_type": "stream",
          "name": "stdout",
          "text": [
            "EPOCH -  11 . Train Accuracy =  0.17209412157535553 , Validation Accuracy =  0.15986667573451996\n",
            "Model Re-Saved\n"
          ]
        },
        {
          "output_type": "stream",
          "name": "stderr",
          "text": [
            "100%|██████████| 665/665 [00:09<00:00, 71.49it/s]\n",
            "100%|██████████| 118/118 [00:01<00:00, 88.36it/s]\n"
          ]
        },
        {
          "output_type": "stream",
          "name": "stdout",
          "text": [
            "EPOCH -  12 . Train Accuracy =  0.17922353744506836 , Validation Accuracy =  0.1599999964237213\n",
            "Model Re-Saved\n"
          ]
        },
        {
          "output_type": "stream",
          "name": "stderr",
          "text": [
            "100%|██████████| 665/665 [00:09<00:00, 71.25it/s]\n",
            "100%|██████████| 118/118 [00:01<00:00, 87.96it/s]\n"
          ]
        },
        {
          "output_type": "stream",
          "name": "stdout",
          "text": [
            "EPOCH -  13 . Train Accuracy =  0.18432942032814026 , Validation Accuracy =  0.16680000722408295\n",
            "Model Re-Saved\n"
          ]
        },
        {
          "output_type": "stream",
          "name": "stderr",
          "text": [
            "100%|██████████| 665/665 [00:08<00:00, 74.08it/s]\n",
            "100%|██████████| 118/118 [00:01<00:00, 67.60it/s]\n"
          ]
        },
        {
          "output_type": "stream",
          "name": "stdout",
          "text": [
            "EPOCH -  14 . Train Accuracy =  0.18835294246673584 , Validation Accuracy =  0.1690666675567627\n",
            "Model Re-Saved\n"
          ]
        },
        {
          "output_type": "stream",
          "name": "stderr",
          "text": [
            "100%|██████████| 665/665 [00:08<00:00, 76.89it/s]\n",
            "100%|██████████| 118/118 [00:01<00:00, 75.39it/s]\n"
          ]
        },
        {
          "output_type": "stream",
          "name": "stdout",
          "text": [
            "EPOCH -  15 . Train Accuracy =  0.1941647082567215 , Validation Accuracy =  0.1733333319425583\n",
            "Model Re-Saved\n"
          ]
        },
        {
          "output_type": "stream",
          "name": "stderr",
          "text": [
            "100%|██████████| 665/665 [00:09<00:00, 72.48it/s]\n",
            "100%|██████████| 118/118 [00:01<00:00, 86.89it/s]\n"
          ]
        },
        {
          "output_type": "stream",
          "name": "stdout",
          "text": [
            "EPOCH -  16 . Train Accuracy =  0.20063529908657074 , Validation Accuracy =  0.18479999899864197\n",
            "Model Re-Saved\n"
          ]
        },
        {
          "output_type": "stream",
          "name": "stderr",
          "text": [
            "100%|██████████| 665/665 [00:09<00:00, 70.03it/s]\n",
            "100%|██████████| 118/118 [00:01<00:00, 88.75it/s]\n"
          ]
        },
        {
          "output_type": "stream",
          "name": "stdout",
          "text": [
            "EPOCH -  17 . Train Accuracy =  0.20364706218242645 , Validation Accuracy =  0.17640000581741333\n"
          ]
        },
        {
          "output_type": "stream",
          "name": "stderr",
          "text": [
            "100%|██████████| 665/665 [00:09<00:00, 72.00it/s]\n",
            "100%|██████████| 118/118 [00:01<00:00, 87.40it/s]\n"
          ]
        },
        {
          "output_type": "stream",
          "name": "stdout",
          "text": [
            "EPOCH -  18 . Train Accuracy =  0.21068234741687775 , Validation Accuracy =  0.18466666340827942\n"
          ]
        },
        {
          "output_type": "stream",
          "name": "stderr",
          "text": [
            "100%|██████████| 665/665 [00:09<00:00, 70.70it/s]\n",
            "100%|██████████| 118/118 [00:01<00:00, 87.81it/s]\n"
          ]
        },
        {
          "output_type": "stream",
          "name": "stdout",
          "text": [
            "EPOCH -  19 . Train Accuracy =  0.21541176736354828 , Validation Accuracy =  0.18573333323001862\n",
            "Model Re-Saved\n"
          ]
        },
        {
          "output_type": "stream",
          "name": "stderr",
          "text": [
            "100%|██████████| 665/665 [00:09<00:00, 71.23it/s]\n",
            "100%|██████████| 118/118 [00:01<00:00, 86.69it/s]\n"
          ]
        },
        {
          "output_type": "stream",
          "name": "stdout",
          "text": [
            "EPOCH -  20 . Train Accuracy =  0.21835294365882874 , Validation Accuracy =  0.19013333320617676\n",
            "Model Re-Saved\n"
          ]
        },
        {
          "output_type": "stream",
          "name": "stderr",
          "text": [
            "100%|██████████| 665/665 [00:09<00:00, 69.52it/s]\n",
            "100%|██████████| 118/118 [00:01<00:00, 86.54it/s]\n"
          ]
        },
        {
          "output_type": "stream",
          "name": "stdout",
          "text": [
            "EPOCH -  21 . Train Accuracy =  0.2249647080898285 , Validation Accuracy =  0.19493333995342255\n",
            "Model Re-Saved\n"
          ]
        },
        {
          "output_type": "stream",
          "name": "stderr",
          "text": [
            "100%|██████████| 665/665 [00:09<00:00, 71.19it/s]\n",
            "100%|██████████| 118/118 [00:01<00:00, 72.82it/s]\n"
          ]
        },
        {
          "output_type": "stream",
          "name": "stdout",
          "text": [
            "EPOCH -  22 . Train Accuracy =  0.22724705934524536 , Validation Accuracy =  0.1926666647195816\n"
          ]
        },
        {
          "output_type": "stream",
          "name": "stderr",
          "text": [
            "100%|██████████| 665/665 [00:08<00:00, 76.40it/s]\n",
            "100%|██████████| 118/118 [00:01<00:00, 71.99it/s]\n"
          ]
        },
        {
          "output_type": "stream",
          "name": "stdout",
          "text": [
            "EPOCH -  23 . Train Accuracy =  0.23315294086933136 , Validation Accuracy =  0.19733333587646484\n",
            "Model Re-Saved\n"
          ]
        },
        {
          "output_type": "stream",
          "name": "stderr",
          "text": [
            "100%|██████████| 665/665 [00:09<00:00, 73.30it/s]\n",
            "100%|██████████| 118/118 [00:01<00:00, 89.40it/s]\n"
          ]
        },
        {
          "output_type": "stream",
          "name": "stdout",
          "text": [
            "EPOCH -  24 . Train Accuracy =  0.23465882241725922 , Validation Accuracy =  0.1998666673898697\n",
            "Model Re-Saved\n"
          ]
        },
        {
          "output_type": "stream",
          "name": "stderr",
          "text": [
            "100%|██████████| 665/665 [00:09<00:00, 70.67it/s]\n",
            "100%|██████████| 118/118 [00:01<00:00, 90.87it/s]\n"
          ]
        },
        {
          "output_type": "stream",
          "name": "stdout",
          "text": [
            "EPOCH -  25 . Train Accuracy =  0.24068234860897064 , Validation Accuracy =  0.1929333359003067\n"
          ]
        },
        {
          "output_type": "stream",
          "name": "stderr",
          "text": [
            "100%|██████████| 665/665 [00:09<00:00, 71.49it/s]\n",
            "100%|██████████| 118/118 [00:01<00:00, 89.40it/s]\n"
          ]
        },
        {
          "output_type": "stream",
          "name": "stdout",
          "text": [
            "EPOCH -  26 . Train Accuracy =  0.2437882423400879 , Validation Accuracy =  0.19680000841617584\n"
          ]
        },
        {
          "output_type": "stream",
          "name": "stderr",
          "text": [
            "100%|██████████| 665/665 [00:09<00:00, 71.19it/s]\n",
            "100%|██████████| 118/118 [00:01<00:00, 86.24it/s]\n"
          ]
        },
        {
          "output_type": "stream",
          "name": "stdout",
          "text": [
            "EPOCH -  27 . Train Accuracy =  0.24748235940933228 , Validation Accuracy =  0.1934666633605957\n"
          ]
        },
        {
          "output_type": "stream",
          "name": "stderr",
          "text": [
            "100%|██████████| 665/665 [00:09<00:00, 71.09it/s]\n",
            "100%|██████████| 118/118 [00:01<00:00, 89.00it/s]\n"
          ]
        },
        {
          "output_type": "stream",
          "name": "stdout",
          "text": [
            "EPOCH -  28 . Train Accuracy =  0.25122353434562683 , Validation Accuracy =  0.20440000295639038\n",
            "Model Re-Saved\n"
          ]
        },
        {
          "output_type": "stream",
          "name": "stderr",
          "text": [
            "100%|██████████| 665/665 [00:09<00:00, 71.24it/s]\n",
            "100%|██████████| 118/118 [00:01<00:00, 87.71it/s]\n"
          ]
        },
        {
          "output_type": "stream",
          "name": "stdout",
          "text": [
            "EPOCH -  29 . Train Accuracy =  0.25611764192581177 , Validation Accuracy =  0.20080000162124634\n"
          ]
        },
        {
          "output_type": "stream",
          "name": "stderr",
          "text": [
            "100%|██████████| 665/665 [00:09<00:00, 72.44it/s]\n",
            "100%|██████████| 118/118 [00:01<00:00, 66.16it/s]\n"
          ]
        },
        {
          "output_type": "stream",
          "name": "stdout",
          "text": [
            "EPOCH -  30 . Train Accuracy =  0.2569882273674011 , Validation Accuracy =  0.20880000293254852\n",
            "Model Re-Saved\n"
          ]
        },
        {
          "output_type": "stream",
          "name": "stderr",
          "text": [
            "100%|██████████| 665/665 [00:08<00:00, 76.43it/s]\n",
            "100%|██████████| 118/118 [00:01<00:00, 74.83it/s]\n"
          ]
        },
        {
          "output_type": "stream",
          "name": "stdout",
          "text": [
            "EPOCH -  31 . Train Accuracy =  0.26235294342041016 , Validation Accuracy =  0.20573332905769348\n"
          ]
        },
        {
          "output_type": "stream",
          "name": "stderr",
          "text": [
            "100%|██████████| 665/665 [00:09<00:00, 73.49it/s]\n",
            "100%|██████████| 118/118 [00:01<00:00, 89.52it/s]\n"
          ]
        },
        {
          "output_type": "stream",
          "name": "stdout",
          "text": [
            "EPOCH -  32 . Train Accuracy =  0.2665646970272064 , Validation Accuracy =  0.21000000834465027\n",
            "Model Re-Saved\n"
          ]
        },
        {
          "output_type": "stream",
          "name": "stderr",
          "text": [
            "100%|██████████| 665/665 [00:09<00:00, 69.81it/s]\n",
            "100%|██████████| 118/118 [00:01<00:00, 89.91it/s]\n"
          ]
        },
        {
          "output_type": "stream",
          "name": "stdout",
          "text": [
            "EPOCH -  33 . Train Accuracy =  0.26875293254852295 , Validation Accuracy =  0.21066667139530182\n",
            "Model Re-Saved\n"
          ]
        },
        {
          "output_type": "stream",
          "name": "stderr",
          "text": [
            "100%|██████████| 665/665 [00:09<00:00, 71.76it/s]\n",
            "100%|██████████| 118/118 [00:01<00:00, 89.33it/s]\n"
          ]
        },
        {
          "output_type": "stream",
          "name": "stdout",
          "text": [
            "EPOCH -  34 . Train Accuracy =  0.2731058895587921 , Validation Accuracy =  0.20453333854675293\n"
          ]
        },
        {
          "output_type": "stream",
          "name": "stderr",
          "text": [
            "100%|██████████| 665/665 [00:09<00:00, 70.66it/s]\n",
            "100%|██████████| 118/118 [00:01<00:00, 87.84it/s]\n"
          ]
        },
        {
          "output_type": "stream",
          "name": "stdout",
          "text": [
            "EPOCH -  35 . Train Accuracy =  0.2734352946281433 , Validation Accuracy =  0.21133333444595337\n",
            "Model Re-Saved\n"
          ]
        },
        {
          "output_type": "stream",
          "name": "stderr",
          "text": [
            "100%|██████████| 665/665 [00:09<00:00, 69.68it/s]\n",
            "100%|██████████| 118/118 [00:01<00:00, 86.50it/s]\n"
          ]
        },
        {
          "output_type": "stream",
          "name": "stdout",
          "text": [
            "EPOCH -  36 . Train Accuracy =  0.28103530406951904 , Validation Accuracy =  0.21266667544841766\n",
            "Model Re-Saved\n"
          ]
        },
        {
          "output_type": "stream",
          "name": "stderr",
          "text": [
            "100%|██████████| 665/665 [00:09<00:00, 71.90it/s]\n",
            "100%|██████████| 118/118 [00:01<00:00, 90.79it/s]\n"
          ]
        },
        {
          "output_type": "stream",
          "name": "stdout",
          "text": [
            "EPOCH -  37 . Train Accuracy =  0.2844941318035126 , Validation Accuracy =  0.20213334262371063\n"
          ]
        },
        {
          "output_type": "stream",
          "name": "stderr",
          "text": [
            "100%|██████████| 665/665 [00:08<00:00, 74.32it/s]\n",
            "100%|██████████| 118/118 [00:01<00:00, 66.13it/s]\n"
          ]
        },
        {
          "output_type": "stream",
          "name": "stdout",
          "text": [
            "EPOCH -  38 . Train Accuracy =  0.285717636346817 , Validation Accuracy =  0.2173333317041397\n",
            "Model Re-Saved\n"
          ]
        },
        {
          "output_type": "stream",
          "name": "stderr",
          "text": [
            "100%|██████████| 665/665 [00:08<00:00, 76.32it/s]\n",
            "100%|██████████| 118/118 [00:01<00:00, 77.47it/s]\n"
          ]
        },
        {
          "output_type": "stream",
          "name": "stdout",
          "text": [
            "EPOCH -  39 . Train Accuracy =  0.2932470738887787 , Validation Accuracy =  0.21266667544841766\n"
          ]
        },
        {
          "output_type": "stream",
          "name": "stderr",
          "text": [
            "100%|██████████| 665/665 [00:09<00:00, 72.46it/s]\n",
            "100%|██████████| 118/118 [00:01<00:00, 90.08it/s]\n"
          ]
        },
        {
          "output_type": "stream",
          "name": "stdout",
          "text": [
            "EPOCH -  40 . Train Accuracy =  0.29536470770835876 , Validation Accuracy =  0.21279999613761902\n"
          ]
        },
        {
          "output_type": "stream",
          "name": "stderr",
          "text": [
            "100%|██████████| 665/665 [00:09<00:00, 72.10it/s]\n",
            "100%|██████████| 118/118 [00:01<00:00, 90.71it/s]\n"
          ]
        },
        {
          "output_type": "stream",
          "name": "stdout",
          "text": [
            "EPOCH -  41 . Train Accuracy =  0.29712942242622375 , Validation Accuracy =  0.20946666598320007\n"
          ]
        },
        {
          "output_type": "stream",
          "name": "stderr",
          "text": [
            "100%|██████████| 665/665 [00:09<00:00, 71.03it/s]\n",
            "100%|██████████| 118/118 [00:01<00:00, 90.18it/s]\n"
          ]
        },
        {
          "output_type": "stream",
          "name": "stdout",
          "text": [
            "EPOCH -  42 . Train Accuracy =  0.30141177773475647 , Validation Accuracy =  0.21026666462421417\n"
          ]
        },
        {
          "output_type": "stream",
          "name": "stderr",
          "text": [
            "100%|██████████| 665/665 [00:09<00:00, 70.15it/s]\n",
            "100%|██████████| 118/118 [00:01<00:00, 89.70it/s]\n"
          ]
        },
        {
          "output_type": "stream",
          "name": "stdout",
          "text": [
            "EPOCH -  43 . Train Accuracy =  0.30428236722946167 , Validation Accuracy =  0.2152000069618225\n"
          ]
        },
        {
          "output_type": "stream",
          "name": "stderr",
          "text": [
            "100%|██████████| 665/665 [00:09<00:00, 70.44it/s]\n",
            "100%|██████████| 118/118 [00:01<00:00, 86.91it/s]\n"
          ]
        },
        {
          "output_type": "stream",
          "name": "stdout",
          "text": [
            "EPOCH -  44 . Train Accuracy =  0.3080235421657562 , Validation Accuracy =  0.21613334119319916\n"
          ]
        },
        {
          "output_type": "stream",
          "name": "stderr",
          "text": [
            "100%|██████████| 665/665 [00:09<00:00, 71.32it/s]\n",
            "100%|██████████| 118/118 [00:01<00:00, 87.85it/s]\n"
          ]
        },
        {
          "output_type": "stream",
          "name": "stdout",
          "text": [
            "EPOCH -  45 . Train Accuracy =  0.31183528900146484 , Validation Accuracy =  0.21666666865348816\n"
          ]
        },
        {
          "output_type": "stream",
          "name": "stderr",
          "text": [
            "100%|██████████| 665/665 [00:08<00:00, 75.58it/s]\n",
            "100%|██████████| 118/118 [00:01<00:00, 62.50it/s]\n"
          ]
        },
        {
          "output_type": "stream",
          "name": "stdout",
          "text": [
            "EPOCH -  46 . Train Accuracy =  0.31616470217704773 , Validation Accuracy =  0.2160000056028366\n"
          ]
        },
        {
          "output_type": "stream",
          "name": "stderr",
          "text": [
            "100%|██████████| 665/665 [00:08<00:00, 76.15it/s]\n",
            "100%|██████████| 118/118 [00:01<00:00, 89.48it/s]\n"
          ]
        },
        {
          "output_type": "stream",
          "name": "stdout",
          "text": [
            "EPOCH -  47 . Train Accuracy =  0.3172941207885742 , Validation Accuracy =  0.21826666593551636\n",
            "Model Re-Saved\n"
          ]
        },
        {
          "output_type": "stream",
          "name": "stderr",
          "text": [
            "100%|██████████| 665/665 [00:09<00:00, 71.09it/s]\n",
            "100%|██████████| 118/118 [00:01<00:00, 87.27it/s]\n"
          ]
        },
        {
          "output_type": "stream",
          "name": "stdout",
          "text": [
            "EPOCH -  48 . Train Accuracy =  0.3202117681503296 , Validation Accuracy =  0.21746666729450226\n"
          ]
        },
        {
          "output_type": "stream",
          "name": "stderr",
          "text": [
            "100%|██████████| 665/665 [00:09<00:00, 70.08it/s]\n",
            "100%|██████████| 118/118 [00:01<00:00, 91.11it/s]\n"
          ]
        },
        {
          "output_type": "stream",
          "name": "stdout",
          "text": [
            "EPOCH -  49 . Train Accuracy =  0.3259294033050537 , Validation Accuracy =  0.21746666729450226\n"
          ]
        },
        {
          "output_type": "stream",
          "name": "stderr",
          "text": [
            "100%|██████████| 665/665 [00:09<00:00, 70.19it/s]\n",
            "100%|██████████| 118/118 [00:01<00:00, 84.69it/s]\n"
          ]
        },
        {
          "output_type": "stream",
          "name": "stdout",
          "text": [
            "EPOCH -  50 . Train Accuracy =  0.3299294114112854 , Validation Accuracy =  0.21293333172798157\n",
            "\n"
          ]
        },
        {
          "output_type": "stream",
          "name": "stderr",
          "text": [
            "100%|██████████| 665/665 [00:08<00:00, 80.08it/s]\n"
          ]
        },
        {
          "output_type": "stream",
          "name": "stdout",
          "text": [
            "Train Accuracy =  0.33289411664009094\n"
          ]
        },
        {
          "output_type": "stream",
          "name": "stderr",
          "text": [
            "100%|██████████| 157/157 [00:01<00:00, 89.72it/s]"
          ]
        },
        {
          "output_type": "stream",
          "name": "stdout",
          "text": [
            "Test Accuracy =  0.21529999375343323\n",
            "Generalization Gap =  0.11759412288665771\n"
          ]
        },
        {
          "output_type": "stream",
          "name": "stderr",
          "text": [
            "\n"
          ]
        }
      ]
    },
    {
      "cell_type": "code",
      "source": [
        "PlotGraph(Epoch_List, TrainAcc_List, ValAcc_List)"
      ],
      "metadata": {
        "colab": {
          "base_uri": "https://localhost:8080/",
          "height": 449
        },
        "id": "lpfC7mvE50Om",
        "outputId": "778317ba-4273-4bd9-e0a9-24caf66f0c83"
      },
      "execution_count": 21,
      "outputs": [
        {
          "output_type": "display_data",
          "data": {
            "text/plain": [
              "<Figure size 640x480 with 1 Axes>"
            ],
            "image/png": "[encoded data removed]"
          },
          "metadata": {}
        }
      ]
    },
    {
      "cell_type": "code",
      "source": [],
      "metadata": {
        "id": "_HqnDhL1S8-Y"
      },
      "execution_count": 21,
      "outputs": []
    },
    {
      "cell_type": "code",
      "source": [],
      "metadata": {
        "id": "igpEEW95S9Tt"
      },
      "execution_count": 21,
      "outputs": []
    }
  ]
}